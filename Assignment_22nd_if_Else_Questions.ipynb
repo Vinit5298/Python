{
  "nbformat": 4,
  "nbformat_minor": 0,
  "metadata": {
    "colab": {
      "provenance": [],
      "authorship_tag": "ABX9TyOEECgSkyopUivjn8pBAc3o",
      "include_colab_link": true
    },
    "kernelspec": {
      "name": "python3",
      "display_name": "Python 3"
    },
    "language_info": {
      "name": "python"
    }
  },
  "cells": [
    {
      "cell_type": "markdown",
      "metadata": {
        "id": "view-in-github",
        "colab_type": "text"
      },
      "source": [
        "<a href=\"https://colab.research.google.com/github/Vinit5298/Python/blob/main/Assignment_22nd_if_Else_Questions.ipynb\" target=\"_parent\"><img src=\"https://colab.research.google.com/assets/colab-badge.svg\" alt=\"Open In Colab\"/></a>"
      ]
    },
    {
      "cell_type": "code",
      "execution_count": null,
      "metadata": {
        "colab": {
          "base_uri": "https://localhost:8080/"
        },
        "id": "hEtuIY_JKswJ",
        "outputId": "903f57c2-c36f-40b2-8fa5-f7ecb2f29112"
      },
      "outputs": [
        {
          "output_type": "stream",
          "name": "stdout",
          "text": [
            "Enter a Number: 53\n",
            "53 is an Odd Number\n"
          ]
        }
      ],
      "source": [
        "# Q1 Write a program that takes an integer input from the user and checks whether the number is odd or\n",
        "# even.\n",
        "\n",
        "n=int(input(\"Enter a Number: \"))\n",
        "\n",
        "if(n%2==0):\n",
        "    print(n,\"is an Even Number\")\n",
        "else:\n",
        "    print(n,\"is an Odd Number\")"
      ]
    },
    {
      "cell_type": "code",
      "source": [
        "# Q2 Write a program that takes three numbers as input and prints the largest of the three.\n",
        "\n",
        "n1=int(input(\"Enter First Number: \"))\n",
        "n2=int(input(\"Enter Second Number: \"))\n",
        "n3=int(input(\"Enter Third Number: \"))\n",
        "\n",
        "if n1>=n2 and n1>=n3:\n",
        "    print(n1,\"is the largest number\")\n",
        "elif n2>=n1 and n2>=n3:\n",
        "    print(n2,\"is the largest number\")\n",
        "else:\n",
        "    print(n3,\"is the largest number\")"
      ],
      "metadata": {
        "colab": {
          "base_uri": "https://localhost:8080/"
        },
        "id": "fS4lTKWMLXst",
        "outputId": "9ad113bc-90dc-4abf-b2e8-24757a5ea367"
      },
      "execution_count": null,
      "outputs": [
        {
          "output_type": "stream",
          "name": "stdout",
          "text": [
            "Enter First Number: 20\n",
            "Enter Second Number: 15\n",
            "Enter Third Number: 10\n",
            "20 is the largest number\n"
          ]
        }
      ]
    },
    {
      "cell_type": "code",
      "source": [
        "# Q3 Write a program to check if a given year is a leap year. A leap year is divisible by 4 but not by 100\n",
        "# unless it is also divisible by 400.\n",
        "\n",
        "n=int(input(\"Enter a Year: \"))\n",
        "\n",
        "if (n%4==0 and n%100!=0) or (n%400==0):\n",
        "    print(n,\"Leap Year\")\n",
        "else:\n",
        "    print(n,\"Common Year\")"
      ],
      "metadata": {
        "colab": {
          "base_uri": "https://localhost:8080/"
        },
        "id": "qQrH-Xa8Lp6-",
        "outputId": "42681976-3b74-4140-b2ef-970bedcd8749"
      },
      "execution_count": null,
      "outputs": [
        {
          "output_type": "stream",
          "name": "stdout",
          "text": [
            "Enter a Year: 1998\n",
            "1998 Common Year\n"
          ]
        }
      ]
    },
    {
      "cell_type": "code",
      "source": [
        "# Q4 Write a program that takes a percentage (integer) as input and prints the corresponding grade based\n",
        "# on the following criteria:\n",
        "# >= 90: Grade A\n",
        "# >= 80: Grade B\n",
        "# >= 70: Grade C\n",
        "# >= 60: Grade D\n",
        "# < 60: Grade F\n",
        "\n",
        "n=int(input(\"Enter a Percentage: \"))\n",
        "\n",
        "if n>=90:\n",
        "    print(\"Grade A\")\n",
        "elif n>=80:\n",
        "    print(\"Grade B\")\n",
        "elif n>=70:\n",
        "    print(\"Grade C\")\n",
        "elif n>=60:\n",
        "    print(\"Grade D\")\n",
        "else:\n",
        "    print(\"Grade F\")"
      ],
      "metadata": {
        "colab": {
          "base_uri": "https://localhost:8080/"
        },
        "id": "_wIJKeu1MOBu",
        "outputId": "329325e0-7591-4bcf-f57f-952ef1ee0d81"
      },
      "execution_count": null,
      "outputs": [
        {
          "output_type": "stream",
          "name": "stdout",
          "text": [
            "Enter a Percentage: 52\n",
            "Grade F\n"
          ]
        }
      ]
    },
    {
      "cell_type": "code",
      "source": [
        "# Q5 Write a program that checks if a given letter is a vowel (a, e, i, o, u) or a consonant.\n",
        "\n",
        "ch=input(\"Enter a Letter: \")\n",
        "if ch=='a' or ch=='e' or ch=='i' or ch=='o' or ch=='u':\n",
        "    print(ch,\"is a Vowel\")\n",
        "else:\n",
        "    print(ch,\"is a Consonant\")"
      ],
      "metadata": {
        "colab": {
          "base_uri": "https://localhost:8080/"
        },
        "id": "nVh0YzDbMhBY",
        "outputId": "cdd95afe-f477-4d2f-bcd3-aba2d1800d6e"
      },
      "execution_count": null,
      "outputs": [
        {
          "output_type": "stream",
          "name": "stdout",
          "text": [
            "Enter a Letter: u\n",
            "u is a Vowel\n"
          ]
        }
      ]
    },
    {
      "cell_type": "code",
      "source": [
        "# Q6 Write a basic calculator program that takes two numbers and an operator (+, -, *, /) as input and\n",
        "# performs the specified operation. Print the result based on the operation.\n",
        "\n",
        "num1 = int(input(\"Enter First Number: \"))\n",
        "num2 = int(input(\"Enter Second Number: \"))\n",
        "op = input(\"Enter Operator: \")\n",
        "\n",
        "if op == '+':\n",
        "    print(\"Result=\",num1 + num2)\n",
        "elif op == '-':\n",
        "    print(\"Result=\",num1 - num2)\n",
        "elif op == '*':\n",
        "    print(\"Result=\",num1 * num2)\n",
        "elif op == '/':\n",
        "    if num2 != 0:\n",
        "        print(\"Result=\",num1 / num2)\n",
        "    else:\n",
        "        print(\"Error: Division by zero is not allowed.\")\n",
        "else:\n",
        "    print(\"Invalid Operator\")"
      ],
      "metadata": {
        "colab": {
          "base_uri": "https://localhost:8080/"
        },
        "id": "TLW2lzmwNIWo",
        "outputId": "cf6668aa-64d7-44fa-868f-82724a378917"
      },
      "execution_count": null,
      "outputs": [
        {
          "output_type": "stream",
          "name": "stdout",
          "text": [
            "Enter First Number: 50\n",
            "Enter Second Number: 20\n",
            "Enter Operator: -\n",
            "Result= 30\n"
          ]
        }
      ]
    },
    {
      "cell_type": "code",
      "source": [
        "# Q7 Write a program that takes a number as input and checks whether it is positive, negative, or zero.\n",
        "\n",
        "n=int(input(\"Enter a Number:\"))\n",
        "\n",
        "if(n>0):\n",
        "  print(\"Positive Number\")\n",
        "elif(n<0):\n",
        "  print(\"Negative Number\")\n",
        "else:\n",
        "  print(\"Zero\")"
      ],
      "metadata": {
        "colab": {
          "base_uri": "https://localhost:8080/"
        },
        "id": "HK70f3ClNhly",
        "outputId": "a28cfc06-e458-401d-bacc-0be51e59c8ae"
      },
      "execution_count": null,
      "outputs": [
        {
          "output_type": "stream",
          "name": "stdout",
          "text": [
            "Enter a Number:12\n",
            "Positive Number\n"
          ]
        }
      ]
    },
    {
      "cell_type": "code",
      "source": [
        "# Q8 Write a program that checks if a username and password entered by the user match the pre-set values\n",
        "# username = \"admin\" and password = \"1234\". If both match, print \"Login Successful\", otherwise print\n",
        "# \"Login Failed\".\n",
        "\n",
        "Correct_Username = \"admin\"\n",
        "Correct_Password = \"1234\"\n",
        "\n",
        "Username=input(\"Enter your Username: \")\n",
        "Password=input(\"Enter your Password: \")\n",
        "\n",
        "if Username == Correct_Username and Password==Correct_Password:\n",
        "  print(\"Login Successful\")\n",
        "else:\n",
        "  print(\"Login Failed\")"
      ],
      "metadata": {
        "id": "MXm17J-jO7Bd",
        "colab": {
          "base_uri": "https://localhost:8080/"
        },
        "outputId": "eaf76ae3-9805-4eb7-ab85-35fd15b9d349"
      },
      "execution_count": null,
      "outputs": [
        {
          "output_type": "stream",
          "name": "stdout",
          "text": [
            "Enter your Username: admin\n",
            "Enter your Password: 12345\n",
            "Login Failed\n"
          ]
        }
      ]
    },
    {
      "cell_type": "code",
      "source": [
        "# Q9 Write a program that takes three sides of a triangle as input and checks if those sides form a valid\n",
        "# triangle. A triangle is valid if the sum of any two sides is greater than the third side.\n",
        "# Check conditions like a + b > c, b + c > a, and a + c > b.\n",
        "\n",
        "a=int(input(\"Enter a Number: \"))\n",
        "b=int(input(\"Enter a Number: \"))\n",
        "c=int(input(\"Enter a Number: \"))\n",
        "\n",
        "if a + b > c:\n",
        "  print(\"Valid Triangle\")\n",
        "elif b + c > a:\n",
        "  print(\"Valid Triangle\")\n",
        "elif a + c > b:\n",
        "  print(\"Valid Triangle\")\n",
        "else:\n",
        "  print(\"Invalid Triangle\")"
      ],
      "metadata": {
        "colab": {
          "base_uri": "https://localhost:8080/"
        },
        "id": "iaZvnyoonP6c",
        "outputId": "e5bbd839-0e58-4bc1-de3d-1582ad5f6487"
      },
      "execution_count": null,
      "outputs": [
        {
          "output_type": "stream",
          "name": "stdout",
          "text": [
            "Enter a Number: 60\n",
            "Enter a Number: 50\n",
            "Enter a Number: 70\n",
            "Valid Triangle\n"
          ]
        }
      ]
    },
    {
      "cell_type": "code",
      "source": [
        "# Q10 Write a program that calculates the Body Mass Index (BMI) based on user input for weight (in\n",
        "# kilograms) and height (in meters).\n",
        "# Then categorize the BMI into:\n",
        "\n",
        "# Underweight (BMI < 18.5)\n",
        "# Normal weight (18.5 <= BMI < 24.9)\n",
        "# Overweight (25 <= BMI < 29.9)\n",
        "# Obesity (BMI >= 30)\n",
        "\n",
        "# Use the formula: BMI = weight / (height ** 2)\n",
        "\n",
        "weight = float(input(\"Enter your weight in kilograms: \"))\n",
        "height = float(input(\"Enter your height in meters: \"))\n",
        "\n",
        "# Calculate BMI\n",
        "bmi = weight / (height ** 2)\n",
        "\n",
        "# Display the result\n",
        "print(\"Your BMI is:\",bmi)\n",
        "\n",
        "if bmi < 18.5:\n",
        "  print(\"Underweight\")\n",
        "elif 18.5 <= bmi < 24.9:\n",
        "  print(\"Normal weight\")\n",
        "elif 25 <= bmi < 29.9:\n",
        "  print(\"Overweight\")\n",
        "elif bmi >= 30:\n",
        "  print(\"Obesity\")\n",
        "else:\n",
        "  print(\"Enter a Valid Weight and Height\")"
      ],
      "metadata": {
        "colab": {
          "base_uri": "https://localhost:8080/"
        },
        "id": "OC2ahN5epA9K",
        "outputId": "09d9cc3a-e1fe-4897-bc96-302cb3e693fa"
      },
      "execution_count": null,
      "outputs": [
        {
          "output_type": "stream",
          "name": "stdout",
          "text": [
            "Enter your weight in kilograms: 81.65\n",
            "Enter your height in meters: 1.854\n",
            "Your BMI is: 23.753998759497232\n",
            "Normal weight\n"
          ]
        }
      ]
    },
    {
      "cell_type": "code",
      "source": [
        "# Q11 Write a program that calculates the discount for a product based on its price:\n",
        "# If price is greater than 1000, discount is 10%\n",
        "# If price is between 500 and 1000, discount is 5%\n",
        "# Otherwise, no discount\n",
        "# Print the final price after applying the discount.\n",
        "\n",
        "price = int(input(\"Enter a Value: \"))\n",
        "\n",
        "if price > 1000:\n",
        "    discount = 0.10\n",
        "elif 500 <= price <= 1000:\n",
        "    discount = 0.05\n",
        "else:\n",
        "    discount = 0.00\n",
        "\n",
        "discount_amount = price * discount\n",
        "final_price = price - discount_amount\n",
        "\n",
        "print(\"Original Price:\", price)\n",
        "print(\"Discount Applied:\", discount * 100, \"%\")\n",
        "print(\"Discount Amount:\", discount_amount)\n",
        "print(\"Final Price after Discount:\", final_price)"
      ],
      "metadata": {
        "colab": {
          "base_uri": "https://localhost:8080/"
        },
        "id": "uuPQmeJbqRBe",
        "outputId": "7483e913-ac38-49e5-e7c4-4955394ee874"
      },
      "execution_count": null,
      "outputs": [
        {
          "output_type": "stream",
          "name": "stdout",
          "text": [
            "Enter a Value: 2550\n",
            "Original Price: 2550\n",
            "Discount Applied: 10.0 %\n",
            "Discount Amount: 255.0\n",
            "Final Price after Discount: 2295.0\n"
          ]
        }
      ]
    },
    {
      "cell_type": "code",
      "source": [
        "# Q12 Write a program that takes the name of a month as input and prints the number of days in that\n",
        "# month. Consider leap years for February.\n",
        "\n",
        "Month_Name=int(input(\"Enter a Month Number: \"))\n",
        "\n",
        "if (Month_Name==1):\n",
        "  print(\"January has 31 days\")\n",
        "elif (Month_Name==2):\n",
        "  print(\"February has 28 or 29 days\")\n",
        "elif (Month_Name==3):\n",
        "  print(\"March has 31 days\")\n",
        "elif (Month_Name==4):\n",
        "  print(\"April has 30 days\")\n",
        "elif (Month_Name==5):\n",
        "  print(\"May has 31 days\")\n",
        "elif (Month_Name==6):\n",
        "  print(\"June has 30 days\")\n",
        "elif (Month_Name==7):\n",
        "  print(\"July has 31 days\")\n",
        "elif (Month_Name==8):\n",
        "  print(\"August has 31 days\")\n",
        "elif (Month_Name==9):\n",
        "  print(\"September has 30 days\")\n",
        "elif (Month_Name==10):\n",
        "  print(\"October has 31 days\")\n",
        "elif (Month_Name==11):\n",
        "  print(\"November has 30 days\")\n",
        "elif (Month_Name==12):\n",
        "  print(\"December has 31 days\")\n",
        "else:\n",
        "  print(\"Invalid input! Please enter month number between (1-12).\")"
      ],
      "metadata": {
        "colab": {
          "base_uri": "https://localhost:8080/"
        },
        "id": "oKzEsR72wGTK",
        "outputId": "3b031684-73f4-4a3e-bc2d-ab912f7012cb"
      },
      "execution_count": null,
      "outputs": [
        {
          "output_type": "stream",
          "name": "stdout",
          "text": [
            "Enter a Month Number: 2\n",
            "February has 28 or 29 days\n"
          ]
        }
      ]
    },
    {
      "cell_type": "code",
      "source": [
        "# Q13 Write a program that simulates a simple ATM. The user should be able to:\n",
        "# Check balance\n",
        "# Deposit money\n",
        "# Withdraw money (ensure the balance doesn't go negative) Use an if-else structure\n",
        "# to handle the user's  choices.\n",
        "\n",
        "# Initial account balance\n",
        "balance = 1000.0\n",
        "\n",
        "# Display ATM menu\n",
        "print(\"Welcome to Simple ATM\")\n",
        "print(\"1. Check Balance\")\n",
        "print(\"2. Deposit Money\")\n",
        "print(\"3. Withdraw Money\")\n",
        "\n",
        "# Get user's choice\n",
        "choice = int(input(\"Enter your choice (1/2/3): \"))\n",
        "\n",
        "# Handle choices with if-elif-else\n",
        "if choice == 1:\n",
        "    print(\"Your current balance is:\", balance)\n",
        "\n",
        "elif choice == 2:\n",
        "    amount = float(input(\"Enter amount to deposit: \"))\n",
        "    if amount > 0:\n",
        "        balance += amount\n",
        "        print(\"Deposit successful.\")\n",
        "        print(\"New balance is:\", balance)\n",
        "    else:\n",
        "        print(\"Invalid amount. Please enter a positive number.\")\n",
        "\n",
        "elif choice == 3:\n",
        "    amount = float(input(\"Enter amount to withdraw: \"))\n",
        "    if amount > 0:\n",
        "        if amount <= balance:\n",
        "            balance -= amount\n",
        "            print(\"Withdrawal successful.\")\n",
        "            print(\"New balance is:\", balance)\n",
        "        else:\n",
        "            print(\"Insufficient balance.\")\n",
        "    else:\n",
        "        print(\"Invalid amount. Please enter a positive number.\")\n",
        "\n",
        "else:\n",
        "    print(\"Invalid choice. Please select 1, 2, or 3.\")"
      ],
      "metadata": {
        "colab": {
          "base_uri": "https://localhost:8080/"
        },
        "id": "bRBHjRCm39hh",
        "outputId": "22a8fac1-eac7-45f2-b8c8-f7d4f53c9e3a"
      },
      "execution_count": null,
      "outputs": [
        {
          "output_type": "stream",
          "name": "stdout",
          "text": [
            "Welcome to Simple ATM\n",
            "1. Check Balance\n",
            "2. Deposit Money\n",
            "3. Withdraw Money\n",
            "Enter your choice (1/2/3): 2\n",
            "Enter amount to deposit: 10200\n",
            "Deposit successful.\n",
            "New balance is: 11200.0\n"
          ]
        }
      ]
    },
    {
      "cell_type": "code",
      "source": [
        "# Q14 Write a program that categorizes a given age into different groups:\n",
        "# Infant (0-1 year)\n",
        "# Toddler (2-4 years)\n",
        "# Child (5-12 years)\n",
        "# Teenager (13-19 years)\n",
        "# Adult (20-59 years)\n",
        "# Senior (60 years and above)\n",
        "\n",
        "Age=int(input(\"Enter your age: \"))\n",
        "\n",
        "if 0 <= Age <= 1:\n",
        "  print(\"Infant\")\n",
        "elif 2 <= Age <= 4:\n",
        "  print(\"Toddler\")\n",
        "elif 5 <= Age <= 12:\n",
        "  print(\"Child\")\n",
        "elif 13 <= Age <= 19:\n",
        "  print(\"Teenager\")\n",
        "elif 20 <= Age <= 59:\n",
        "  print(\"Adult\")\n",
        "elif Age < 60:\n",
        "  print(\"Senior\")\n",
        "else:\n",
        "  print(\"Enter a Valid Age: \")"
      ],
      "metadata": {
        "colab": {
          "base_uri": "https://localhost:8080/"
        },
        "id": "7Jk0kgG-4djq",
        "outputId": "95143821-e471-4fb2-a082-85b6cdba3a5c"
      },
      "execution_count": null,
      "outputs": [
        {
          "output_type": "stream",
          "name": "stdout",
          "text": [
            "Enter your age: 27\n",
            "Adult\n"
          ]
        }
      ]
    },
    {
      "cell_type": "code",
      "source": [
        "# Q15 Write a program that takes an integer (1-7) as input and prints the corresponding day of the week (1\n",
        "# for Monday, 2 for Tuesday, etc.).\n",
        "\n",
        "Day_Number=int(input(\"Enter a Day Number in between (1-7): \"))\n",
        "\n",
        "if Day_Number==1:\n",
        "  print(\"Monday\")\n",
        "elif Day_Number==2:\n",
        "  print(\"Tuesday\")\n",
        "elif Day_Number==3:\n",
        "  print(\"Wednesday\")\n",
        "elif Day_Number==4:\n",
        "  print(\"Thursday\")\n",
        "elif Day_Number==5:\n",
        "  print(\"Friday\")\n",
        "elif Day_Number==6:\n",
        "  print(\"Saturday\")\n",
        "elif Day_Number==7:\n",
        "  print(\"Sunday\")\n",
        "else:\n",
        "  print(\"Please Enter a Valid Number in btw(1-7): \")"
      ],
      "metadata": {
        "colab": {
          "base_uri": "https://localhost:8080/"
        },
        "id": "focoNaAb58pS",
        "outputId": "053f2a6f-9fce-47e2-f12f-b1786812e93f"
      },
      "execution_count": null,
      "outputs": [
        {
          "output_type": "stream",
          "name": "stdout",
          "text": [
            "Enter a Day Number in between (1-7): 4\n",
            "Thursday\n"
          ]
        }
      ]
    },
    {
      "cell_type": "markdown",
      "source": [],
      "metadata": {
        "id": "rqHzSE-Lp5ph"
      }
    },
    {
      "cell_type": "code",
      "source": [],
      "metadata": {
        "id": "UWVlczzRmvRx"
      },
      "execution_count": null,
      "outputs": []
    }
  ]
}