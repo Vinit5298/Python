{
  "nbformat": 4,
  "nbformat_minor": 0,
  "metadata": {
    "colab": {
      "provenance": [],
      "authorship_tag": "ABX9TyPdmBU5+LRXfsi1hJ0TfBLX",
      "include_colab_link": true
    },
    "kernelspec": {
      "name": "python3",
      "display_name": "Python 3"
    },
    "language_info": {
      "name": "python"
    }
  },
  "cells": [
    {
      "cell_type": "markdown",
      "metadata": {
        "id": "view-in-github",
        "colab_type": "text"
      },
      "source": [
        "<a href=\"https://colab.research.google.com/github/Vinit5298/Python/blob/main/Square_Pattern_Question_27_May.ipynb\" target=\"_parent\"><img src=\"https://colab.research.google.com/assets/colab-badge.svg\" alt=\"Open In Colab\"/></a>"
      ]
    },
    {
      "cell_type": "code",
      "execution_count": 1,
      "metadata": {
        "id": "f7EjmmIK5DTN"
      },
      "outputs": [],
      "source": [
        "# Pattern For loop"
      ]
    },
    {
      "cell_type": "code",
      "source": [
        "# Square Pattern Question:\n",
        "\n",
        "for i in range(1,5):\n",
        "    for j in range(1,5):\n",
        "        print(j,end=\" \")\n",
        "    print(\" \")"
      ],
      "metadata": {
        "colab": {
          "base_uri": "https://localhost:8080/"
        },
        "id": "lx93OJWX5Vdr",
        "outputId": "7344e571-257c-4023-d701-aebc97d3a5fa"
      },
      "execution_count": 5,
      "outputs": [
        {
          "output_type": "stream",
          "name": "stdout",
          "text": [
            "1 2 3 4  \n",
            "1 2 3 4  \n",
            "1 2 3 4  \n",
            "1 2 3 4  \n"
          ]
        }
      ]
    },
    {
      "cell_type": "code",
      "source": [
        "for i in range(1,5):\n",
        "    for j in range(1,5):\n",
        "        print(i,end=\" \")\n",
        "    print(\" \")"
      ],
      "metadata": {
        "colab": {
          "base_uri": "https://localhost:8080/"
        },
        "id": "RIEFQ6PS5uCt",
        "outputId": "a1433354-2b4a-480a-af01-4a8ff958e8ca"
      },
      "execution_count": 6,
      "outputs": [
        {
          "output_type": "stream",
          "name": "stdout",
          "text": [
            "1 1 1 1  \n",
            "2 2 2 2  \n",
            "3 3 3 3  \n",
            "4 4 4 4  \n"
          ]
        }
      ]
    },
    {
      "cell_type": "code",
      "source": [
        "for i in range(4,0,-1):\n",
        "    for j in range(4,0,-1):\n",
        "        print(i,end=\" \")\n",
        "    print(\" \")"
      ],
      "metadata": {
        "colab": {
          "base_uri": "https://localhost:8080/"
        },
        "id": "WIx64W6k6XGM",
        "outputId": "96d2977a-46e9-4aec-f0cb-77fd9b5d0e86"
      },
      "execution_count": 11,
      "outputs": [
        {
          "output_type": "stream",
          "name": "stdout",
          "text": [
            "4 4 4 4  \n",
            "3 3 3 3  \n",
            "2 2 2 2  \n",
            "1 1 1 1  \n"
          ]
        }
      ]
    },
    {
      "cell_type": "code",
      "source": [
        "for i in range(4,0,-1):\n",
        "    for j in range(4,0,-1):\n",
        "        print(j,end=\" \")\n",
        "    print(\" \")"
      ],
      "metadata": {
        "colab": {
          "base_uri": "https://localhost:8080/"
        },
        "id": "pci_Cft_6qGB",
        "outputId": "9acc6f33-c6aa-4a0b-bb6b-68abe69937f7"
      },
      "execution_count": 12,
      "outputs": [
        {
          "output_type": "stream",
          "name": "stdout",
          "text": [
            "4 3 2 1  \n",
            "4 3 2 1  \n",
            "4 3 2 1  \n",
            "4 3 2 1  \n"
          ]
        }
      ]
    },
    {
      "cell_type": "code",
      "source": [
        "for i in range(1, 5):\n",
        "  for j in range(1, 5):\n",
        "    print(j,end=\" \")\n",
        "  print(\" \")\n"
      ],
      "metadata": {
        "colab": {
          "base_uri": "https://localhost:8080/"
        },
        "id": "hJqmMdK97D4E",
        "outputId": "67a7ae12-0ac9-42d8-ece4-dee8f14c959f"
      },
      "execution_count": 17,
      "outputs": [
        {
          "output_type": "stream",
          "name": "stdout",
          "text": [
            "1 2 3 4  \n",
            "1 2 3 4  \n",
            "1 2 3 4  \n",
            "1 2 3 4  \n"
          ]
        }
      ]
    },
    {
      "cell_type": "code",
      "source": [
        "for i in range(1,5):\n",
        "  for j in range(1,9,2):\n",
        "    print(j,end=\" \")\n",
        "  print(\" \")"
      ],
      "metadata": {
        "colab": {
          "base_uri": "https://localhost:8080/"
        },
        "id": "G5YxDcht8tXT",
        "outputId": "c82afb9d-649a-4572-cec5-37112611f8a8"
      },
      "execution_count": 18,
      "outputs": [
        {
          "output_type": "stream",
          "name": "stdout",
          "text": [
            "1 3 5 7\n",
            "1 3 5 7\n",
            "1 3 5 7\n",
            "1 3 5 7\n"
          ]
        }
      ]
    },
    {
      "cell_type": "code",
      "source": [
        "for i in range(4):\n",
        "  for j in range(7,0,-2):\n",
        "    print(j,end=\" \")\n",
        "  print(\" \")"
      ],
      "metadata": {
        "colab": {
          "base_uri": "https://localhost:8080/"
        },
        "id": "-AWEcYbz-Ce9",
        "outputId": "29c687a9-c1d9-4d0d-d179-daca9bc4dbe2"
      },
      "execution_count": 34,
      "outputs": [
        {
          "output_type": "stream",
          "name": "stdout",
          "text": [
            "7 5 3 1  \n",
            "7 5 3 1  \n",
            "7 5 3 1  \n",
            "7 5 3 1  \n"
          ]
        }
      ]
    },
    {
      "cell_type": "code",
      "source": [
        "for i in range(4):\n",
        "  for j in range(2,10,2):\n",
        "    print(j,end=\" \")\n",
        "  print(\" \")"
      ],
      "metadata": {
        "colab": {
          "base_uri": "https://localhost:8080/"
        },
        "id": "yUYSsqDv-I07",
        "outputId": "c81e8a4f-2577-41a1-c3aa-22c07550b676"
      },
      "execution_count": 29,
      "outputs": [
        {
          "output_type": "stream",
          "name": "stdout",
          "text": [
            "2 4 6 8  \n",
            "2 4 6 8  \n",
            "2 4 6 8  \n",
            "2 4 6 8  \n"
          ]
        }
      ]
    },
    {
      "cell_type": "code",
      "source": [
        "for i in range(4):\n",
        "  for j in range(8,0,-2):\n",
        "    print(j,end=\" \")\n",
        "  print(\" \")"
      ],
      "metadata": {
        "colab": {
          "base_uri": "https://localhost:8080/"
        },
        "id": "nagOvMP6-XA0",
        "outputId": "4d8f184b-48aa-4e92-e706-8b0a113d8eb0"
      },
      "execution_count": 36,
      "outputs": [
        {
          "output_type": "stream",
          "name": "stdout",
          "text": [
            "8 6 4 2  \n",
            "8 6 4 2  \n",
            "8 6 4 2  \n",
            "8 6 4 2  \n"
          ]
        }
      ]
    },
    {
      "cell_type": "code",
      "source": [
        "num=1\n",
        "for i in range(4):\n",
        "  for j in range(1,5):\n",
        "    print(num,end=\" \")\n",
        "    num=num+1\n",
        "  print(\" \")"
      ],
      "metadata": {
        "colab": {
          "base_uri": "https://localhost:8080/"
        },
        "id": "AZH_lBWR-b7P",
        "outputId": "c843f2d6-42a3-46a5-ed89-ddf9fb826503"
      },
      "execution_count": 39,
      "outputs": [
        {
          "output_type": "stream",
          "name": "stdout",
          "text": [
            "1 2 3 4  \n",
            "5 6 7 8  \n",
            "9 10 11 12  \n",
            "13 14 15 16  \n"
          ]
        }
      ]
    },
    {
      "cell_type": "code",
      "source": [
        "num=16\n",
        "for i in range(4):\n",
        "  for j in range(1,5):\n",
        "    print(num,end=\" \")\n",
        "    num=num-1\n",
        "  print(\" \")"
      ],
      "metadata": {
        "colab": {
          "base_uri": "https://localhost:8080/"
        },
        "id": "7pCx0bri-kIl",
        "outputId": "b7be4ed9-85e1-4403-c439-20e2c106273f"
      },
      "execution_count": 40,
      "outputs": [
        {
          "output_type": "stream",
          "name": "stdout",
          "text": [
            "16 15 14 13  \n",
            "12 11 10 9  \n",
            "8 7 6 5  \n",
            "4 3 2 1  \n"
          ]
        }
      ]
    },
    {
      "cell_type": "code",
      "source": [
        "num=1\n",
        "for i in range(4):\n",
        "  for j in range(1,5):\n",
        "    print(num,end=\" \")\n",
        "    num=num+2\n",
        "  print(\" \")"
      ],
      "metadata": {
        "colab": {
          "base_uri": "https://localhost:8080/"
        },
        "id": "Wg3t3xfzASkg",
        "outputId": "d535276e-7d67-49bd-b3d5-32ca769d87fd"
      },
      "execution_count": 41,
      "outputs": [
        {
          "output_type": "stream",
          "name": "stdout",
          "text": [
            "1 3 5 7  \n",
            "9 11 13 15  \n",
            "17 19 21 23  \n",
            "25 27 29 31  \n"
          ]
        }
      ]
    },
    {
      "cell_type": "code",
      "source": [
        "num=2\n",
        "for i in range(4):\n",
        "  for j in range(1,5):\n",
        "    print(num,end=\" \")\n",
        "    num=num+2\n",
        "  print(\" \")"
      ],
      "metadata": {
        "colab": {
          "base_uri": "https://localhost:8080/"
        },
        "id": "AGlYVwXHAZru",
        "outputId": "61a3b429-fa14-40d9-ebcf-4994228e7890"
      },
      "execution_count": 42,
      "outputs": [
        {
          "output_type": "stream",
          "name": "stdout",
          "text": [
            "2 4 6 8  \n",
            "10 12 14 16  \n",
            "18 20 22 24  \n",
            "26 28 30 32  \n"
          ]
        }
      ]
    },
    {
      "cell_type": "code",
      "source": [
        "num=31\n",
        "for i in range(4):\n",
        "  for j in range(1,5):\n",
        "    print(num,end=\" \")\n",
        "    num=num-2\n",
        "  print(\" \")"
      ],
      "metadata": {
        "colab": {
          "base_uri": "https://localhost:8080/"
        },
        "id": "DloVhDKUAeBp",
        "outputId": "24a8cc9c-9b1c-4196-f3a7-b935f23f93ba"
      },
      "execution_count": 43,
      "outputs": [
        {
          "output_type": "stream",
          "name": "stdout",
          "text": [
            "31 29 27 25  \n",
            "23 21 19 17  \n",
            "15 13 11 9  \n",
            "7 5 3 1  \n"
          ]
        }
      ]
    },
    {
      "cell_type": "code",
      "source": [
        "num=32\n",
        "for i in range(4):\n",
        "  for j in range(1,5):\n",
        "    print(num,end=\" \")\n",
        "    num=num-2\n",
        "  print(\" \")"
      ],
      "metadata": {
        "colab": {
          "base_uri": "https://localhost:8080/"
        },
        "id": "mUHBPz4rAhyb",
        "outputId": "6bb86fb1-e99b-4e29-d2ce-0660bc965402"
      },
      "execution_count": 44,
      "outputs": [
        {
          "output_type": "stream",
          "name": "stdout",
          "text": [
            "32 30 28 26  \n",
            "24 22 20 18  \n",
            "16 14 12 10  \n",
            "8 6 4 2  \n"
          ]
        }
      ]
    },
    {
      "cell_type": "code",
      "source": [
        "# A B C D\n",
        "# A B C D\n",
        "# A B C D\n",
        "# A B C D\n",
        "\n",
        "for i in range(4):\n",
        "  for j in range(1,5):\n",
        "    print(chr(65 + j-1),end=\" \")\n",
        "  print(\" \")"
      ],
      "metadata": {
        "colab": {
          "base_uri": "https://localhost:8080/"
        },
        "id": "DquHo0E1AtlW",
        "outputId": "6ba7aa21-5b32-4bde-ba66-2119a1814b09"
      },
      "execution_count": 47,
      "outputs": [
        {
          "output_type": "stream",
          "name": "stdout",
          "text": [
            "A B C D  \n",
            "A B C D  \n",
            "A B C D  \n",
            "A B C D  \n"
          ]
        }
      ]
    },
    {
      "cell_type": "code",
      "source": [
        "# A A A A\n",
        "# B B B B\n",
        "# C C C C\n",
        "# D D D D\n",
        "\n",
        "for i in range(4):\n",
        "  for j in range(1,5):\n",
        "    print(chr(65 + i),end=\" \")\n",
        "  print(\" \")"
      ],
      "metadata": {
        "colab": {
          "base_uri": "https://localhost:8080/"
        },
        "id": "_I8lA0qdBKhY",
        "outputId": "f7458047-c540-4b27-adac-4787d6a1e8b4"
      },
      "execution_count": 48,
      "outputs": [
        {
          "output_type": "stream",
          "name": "stdout",
          "text": [
            "A A A A  \n",
            "B B B B  \n",
            "C C C C  \n",
            "D D D D  \n"
          ]
        }
      ]
    },
    {
      "cell_type": "code",
      "source": [
        "# A B C D\n",
        "# E F G H\n",
        "# I J K L\n",
        "# M N O P\n",
        "\n",
        "num=64\n",
        "for i in range(4):\n",
        "  for j in range(1,5):\n",
        "    num=num+1\n",
        "    print(chr(num),end=\" \")\n",
        "  print(\" \")"
      ],
      "metadata": {
        "colab": {
          "base_uri": "https://localhost:8080/"
        },
        "id": "ZhIXGG-eBqdi",
        "outputId": "77139b24-ca09-4566-86e5-cf0f09e342b0"
      },
      "execution_count": 53,
      "outputs": [
        {
          "output_type": "stream",
          "name": "stdout",
          "text": [
            "A B C D  \n",
            "E F G H  \n",
            "I J K L  \n",
            "M N O P  \n"
          ]
        }
      ]
    },
    {
      "cell_type": "code",
      "source": [
        "# P O N M\n",
        "# L K J I\n",
        "# H G F E\n",
        "# D C B A\n",
        "\n",
        "num=81\n",
        "for i in range(4):\n",
        "  for j in range(1,5):\n",
        "    num=num-1\n",
        "    print(chr(num),end=\" \")\n",
        "  print(\" \")"
      ],
      "metadata": {
        "colab": {
          "base_uri": "https://localhost:8080/"
        },
        "id": "1awr8VPeB7G9",
        "outputId": "3a06628b-5601-4a82-906b-54b8b228bb1d"
      },
      "execution_count": 55,
      "outputs": [
        {
          "output_type": "stream",
          "name": "stdout",
          "text": [
            "P O N M  \n",
            "L K J I  \n",
            "H G F E  \n",
            "D C B A  \n"
          ]
        }
      ]
    },
    {
      "cell_type": "code",
      "source": [],
      "metadata": {
        "id": "2IvBvmYTCg34"
      },
      "execution_count": null,
      "outputs": []
    }
  ]
}