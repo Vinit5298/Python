{
  "nbformat": 4,
  "nbformat_minor": 0,
  "metadata": {
    "colab": {
      "provenance": [],
      "authorship_tag": "ABX9TyPN3rThjwTTLTb69u81t7IF",
      "include_colab_link": true
    },
    "kernelspec": {
      "name": "python3",
      "display_name": "Python 3"
    },
    "language_info": {
      "name": "python"
    }
  },
  "cells": [
    {
      "cell_type": "markdown",
      "metadata": {
        "id": "view-in-github",
        "colab_type": "text"
      },
      "source": [
        "<a href=\"https://colab.research.google.com/github/Vinit5298/Python/blob/main/Basic_Triangle_Patterns.ipynb\" target=\"_parent\"><img src=\"https://colab.research.google.com/assets/colab-badge.svg\" alt=\"Open In Colab\"/></a>"
      ]
    },
    {
      "cell_type": "code",
      "execution_count": null,
      "metadata": {
        "colab": {
          "base_uri": "https://localhost:8080/"
        },
        "id": "nzp_ECykTlau",
        "outputId": "e80ffd4f-1b1f-47b3-94f2-0371b97494c1"
      },
      "outputs": [
        {
          "output_type": "stream",
          "name": "stdout",
          "text": [
            " \n",
            "@  \n",
            "@ @  \n",
            "@ @ @  \n",
            "@ @ @ @  \n"
          ]
        }
      ],
      "source": [
        "# Triangle Pattern 1st\n",
        "for i in range(5):\n",
        "  for j in range(1,i+1):\n",
        "    print(\"@\",end=\" \")\n",
        "  print(\" \")"
      ]
    },
    {
      "cell_type": "code",
      "source": [
        "# Triangle Pattern 2nd\n",
        "for i in range(5):\n",
        "  for j in range(4-i):\n",
        "    print(\"@\",end=\" \")\n",
        "  print(\" \")"
      ],
      "metadata": {
        "colab": {
          "base_uri": "https://localhost:8080/"
        },
        "id": "QTr0QxX3T5jz",
        "outputId": "7251c88e-78b2-4813-8062-2259e76897a9"
      },
      "execution_count": null,
      "outputs": [
        {
          "output_type": "stream",
          "name": "stdout",
          "text": [
            "@ @ @ @  \n",
            "@ @ @  \n",
            "@ @  \n",
            "@  \n",
            " \n"
          ]
        }
      ]
    },
    {
      "cell_type": "code",
      "source": [
        "# Triangle Pattern 3rd\n",
        "for i in range(5):\n",
        "    print(\"  \" * (4 - i), end=\"\")   # print leading spaces (2 spaces per level)\n",
        "    print(\"@ \" * i)                 # print @ symbols with space"
      ],
      "metadata": {
        "colab": {
          "base_uri": "https://localhost:8080/"
        },
        "id": "lIM-iaVJUGFc",
        "outputId": "274ed24e-1eb6-45e4-b7fb-ad5e273a721c"
      },
      "execution_count": null,
      "outputs": [
        {
          "output_type": "stream",
          "name": "stdout",
          "text": [
            "        \n",
            "      @ \n",
            "    @ @ \n",
            "  @ @ @ \n",
            "@ @ @ @ \n"
          ]
        }
      ]
    },
    {
      "cell_type": "code",
      "source": [
        "# Triangle Pattern 4th\n",
        "for i in range(4, 0, -1):\n",
        "    print(\"  \" * (4 - i), end=\"\")  # Increasing leading spaces\n",
        "    print(\"@ \" * i)                # Decreasing @ symbols"
      ],
      "metadata": {
        "colab": {
          "base_uri": "https://localhost:8080/"
        },
        "id": "qiyPDzIrUpJs",
        "outputId": "35473434-e1c7-488d-de26-e9d2063c7a92"
      },
      "execution_count": null,
      "outputs": [
        {
          "output_type": "stream",
          "name": "stdout",
          "text": [
            "@ @ @ @ \n",
            "  @ @ @ \n",
            "    @ @ \n",
            "      @ \n"
          ]
        }
      ]
    },
    {
      "cell_type": "code",
      "source": [
        "for i in range(5):\n",
        "  for j in range(1,i+1):\n",
        "    print(j,end=\" \")\n",
        "  print(\" \")"
      ],
      "metadata": {
        "colab": {
          "base_uri": "https://localhost:8080/"
        },
        "id": "PaP_MZ9cVq0a",
        "outputId": "ad732c72-1d03-4e23-9449-11c30b5ab5a8"
      },
      "execution_count": null,
      "outputs": [
        {
          "output_type": "stream",
          "name": "stdout",
          "text": [
            " \n",
            "1  \n",
            "1 2  \n",
            "1 2 3  \n",
            "1 2 3 4  \n"
          ]
        }
      ]
    },
    {
      "cell_type": "code",
      "source": [
        "for i in range(5):\n",
        "  for j in range(1,i+1):\n",
        "    print(i,end=\" \")\n",
        "  print(\" \")"
      ],
      "metadata": {
        "colab": {
          "base_uri": "https://localhost:8080/"
        },
        "id": "HQIpFHsgWPXg",
        "outputId": "5384b188-3050-439f-b8cf-e801be500eb1"
      },
      "execution_count": null,
      "outputs": [
        {
          "output_type": "stream",
          "name": "stdout",
          "text": [
            " \n",
            "1  \n",
            "2 2  \n",
            "3 3 3  \n",
            "4 4 4 4  \n"
          ]
        }
      ]
    },
    {
      "cell_type": "code",
      "source": [
        "for i in range(4,0,-1):\n",
        "  for j in range(4 - i + 1):\n",
        "    print(i,end=\" \")\n",
        "  print(\" \")"
      ],
      "metadata": {
        "colab": {
          "base_uri": "https://localhost:8080/"
        },
        "id": "vQbDjsswWSiV",
        "outputId": "26792abc-88c2-4431-ea36-ea6f9a699158"
      },
      "execution_count": null,
      "outputs": [
        {
          "output_type": "stream",
          "name": "stdout",
          "text": [
            "4  \n",
            "3 3  \n",
            "2 2 2  \n",
            "1 1 1 1  \n"
          ]
        }
      ]
    },
    {
      "cell_type": "code",
      "source": [
        "num=1\n",
        "for i in range(5):\n",
        "  for j in range(1,i+1):\n",
        "    print(num,end=\" \")\n",
        "    num=num+1\n",
        "  print(\" \")"
      ],
      "metadata": {
        "colab": {
          "base_uri": "https://localhost:8080/"
        },
        "id": "ULXAp1tqWngG",
        "outputId": "599810d4-7f8d-48d0-91a4-304290cba12e"
      },
      "execution_count": null,
      "outputs": [
        {
          "output_type": "stream",
          "name": "stdout",
          "text": [
            " \n",
            "1  \n",
            "2 3  \n",
            "4 5 6  \n",
            "7 8 9 10  \n"
          ]
        }
      ]
    },
    {
      "cell_type": "code",
      "source": [
        "num=10\n",
        "for i in range(5):\n",
        "  for j in range(1,i+1):\n",
        "    print(num,end=\" \")\n",
        "    num=num-1\n",
        "  print(\" \")"
      ],
      "metadata": {
        "colab": {
          "base_uri": "https://localhost:8080/"
        },
        "id": "ZbgKcDLmXckQ",
        "outputId": "609d5098-c838-45e7-a168-4d511cdc0c1b"
      },
      "execution_count": null,
      "outputs": [
        {
          "output_type": "stream",
          "name": "stdout",
          "text": [
            " \n",
            "10  \n",
            "9 8  \n",
            "7 6 5  \n",
            "4 3 2 1  \n"
          ]
        }
      ]
    },
    {
      "cell_type": "code",
      "source": [
        "num=1\n",
        "for i in range(5):\n",
        "  for j in range(1,i+1):\n",
        "    print(num,end=\" \")\n",
        "    num=num+2\n",
        "  print(\" \")"
      ],
      "metadata": {
        "colab": {
          "base_uri": "https://localhost:8080/"
        },
        "id": "fMbRTzMVXgn7",
        "outputId": "07a0fd52-526b-4f9f-9cc1-52d9f266e51c"
      },
      "execution_count": null,
      "outputs": [
        {
          "output_type": "stream",
          "name": "stdout",
          "text": [
            " \n",
            "1  \n",
            "3 5  \n",
            "7 9 11  \n",
            "13 15 17 19  \n"
          ]
        }
      ]
    },
    {
      "cell_type": "code",
      "source": [
        "num=19\n",
        "for i in range(5):\n",
        "  for j in range(1,i+1):\n",
        "    print(num,end=\" \")\n",
        "    num=num-2\n",
        "  print(\" \")"
      ],
      "metadata": {
        "colab": {
          "base_uri": "https://localhost:8080/"
        },
        "id": "pCFPYAL-Xn0Z",
        "outputId": "1aed6d0c-be97-4158-fcdb-a1cd10094dcf"
      },
      "execution_count": null,
      "outputs": [
        {
          "output_type": "stream",
          "name": "stdout",
          "text": [
            " \n",
            "19  \n",
            "17 15  \n",
            "13 11 9  \n",
            "7 5 3 1  \n"
          ]
        }
      ]
    },
    {
      "cell_type": "code",
      "source": [
        "num=2\n",
        "for i in range(5):\n",
        "  for j in range(1,i+1):\n",
        "    print(num,end=\" \")\n",
        "    num = num + 2\n",
        "  print(\" \")"
      ],
      "metadata": {
        "colab": {
          "base_uri": "https://localhost:8080/"
        },
        "id": "aYt0CnURXufQ",
        "outputId": "8efb7dc2-ece7-45bf-8f56-9ed6b20c7202"
      },
      "execution_count": null,
      "outputs": [
        {
          "output_type": "stream",
          "name": "stdout",
          "text": [
            " \n",
            "2  \n",
            "4 6  \n",
            "8 10 12  \n",
            "14 16 18 20  \n"
          ]
        }
      ]
    },
    {
      "cell_type": "code",
      "source": [
        "num=20\n",
        "for i in range(5):\n",
        "  for j in range(1,i+1):\n",
        "    print(num,end=\" \")\n",
        "    num = num - 2\n",
        "  print(\" \")"
      ],
      "metadata": {
        "colab": {
          "base_uri": "https://localhost:8080/"
        },
        "id": "dvvG2AnCX2_H",
        "outputId": "9729489a-1694-4e54-af0f-6cdb3bec321d"
      },
      "execution_count": null,
      "outputs": [
        {
          "output_type": "stream",
          "name": "stdout",
          "text": [
            " \n",
            "20  \n",
            "18 16  \n",
            "14 12 10  \n",
            "8 6 4 2  \n"
          ]
        }
      ]
    },
    {
      "cell_type": "code",
      "source": [
        "for i in range(5):\n",
        "  for j in range(4-i):\n",
        "    print(j+1,end=\" \")\n",
        "  print(\" \")"
      ],
      "metadata": {
        "colab": {
          "base_uri": "https://localhost:8080/"
        },
        "id": "IESBmVSzX8-A",
        "outputId": "4eeacd0d-6608-4fd9-a9db-74654e81d7d1"
      },
      "execution_count": null,
      "outputs": [
        {
          "output_type": "stream",
          "name": "stdout",
          "text": [
            "1 2 3 4  \n",
            "1 2 3  \n",
            "1 2  \n",
            "1  \n",
            " \n"
          ]
        }
      ]
    },
    {
      "cell_type": "code",
      "source": [
        "for i in range(5):\n",
        "  for j in range(4-i):\n",
        "    print(i+1,end=\" \")\n",
        "  print(\" \")"
      ],
      "metadata": {
        "colab": {
          "base_uri": "https://localhost:8080/"
        },
        "id": "-sS6EgOtYOem",
        "outputId": "944c02f2-90db-45e4-b4e2-d0708527f335"
      },
      "execution_count": null,
      "outputs": [
        {
          "output_type": "stream",
          "name": "stdout",
          "text": [
            "1 1 1 1  \n",
            "2 2 2  \n",
            "3 3  \n",
            "4  \n",
            " \n"
          ]
        }
      ]
    },
    {
      "cell_type": "code",
      "source": [
        "for i in range(4,0,-1):\n",
        "  for j in range(i):\n",
        "    print(i,end=\" \")\n",
        "  print(\" \")"
      ],
      "metadata": {
        "colab": {
          "base_uri": "https://localhost:8080/"
        },
        "id": "gF9Wljn3YUeM",
        "outputId": "65060575-4003-4825-baf9-c04af5566e7f"
      },
      "execution_count": null,
      "outputs": [
        {
          "output_type": "stream",
          "name": "stdout",
          "text": [
            "4 4 4 4  \n",
            "3 3 3  \n",
            "2 2  \n",
            "1  \n"
          ]
        }
      ]
    },
    {
      "cell_type": "code",
      "source": [
        "n=1\n",
        "for i in range(5):\n",
        "  for j in range(4-i):\n",
        "    print(n,end=\" \")\n",
        "    n=n+1\n",
        "  print(\" \")"
      ],
      "metadata": {
        "colab": {
          "base_uri": "https://localhost:8080/"
        },
        "id": "eMd-3IPOYm70",
        "outputId": "072cbb79-c242-4869-bf7e-effbe3bc63e7"
      },
      "execution_count": null,
      "outputs": [
        {
          "output_type": "stream",
          "name": "stdout",
          "text": [
            "1 2 3 4  \n",
            "5 6 7  \n",
            "8 9  \n",
            "10  \n",
            " \n"
          ]
        }
      ]
    },
    {
      "cell_type": "code",
      "source": [
        "n=10\n",
        "for i in range(5):\n",
        "  for j in range(4-i):\n",
        "    print(n,end=\" \")\n",
        "    n=n-1\n",
        "  print(\" \")"
      ],
      "metadata": {
        "colab": {
          "base_uri": "https://localhost:8080/"
        },
        "id": "Nl_X5Ip_ZgNa",
        "outputId": "8bfd6739-4040-459b-b7b2-7290dd282910"
      },
      "execution_count": null,
      "outputs": [
        {
          "output_type": "stream",
          "name": "stdout",
          "text": [
            "10 9 8 7  \n",
            "6 5 4  \n",
            "3 2  \n",
            "1  \n",
            " \n"
          ]
        }
      ]
    },
    {
      "cell_type": "code",
      "source": [
        "n=1\n",
        "for i in range(5):\n",
        "  for j in range(4-i):\n",
        "    print(n,end=\" \")\n",
        "    n=n+2\n",
        "  print(\" \")"
      ],
      "metadata": {
        "colab": {
          "base_uri": "https://localhost:8080/"
        },
        "id": "MzpZT8QDZn9z",
        "outputId": "934bd24b-a81e-4fc7-8bef-1e1a31e0c995"
      },
      "execution_count": null,
      "outputs": [
        {
          "output_type": "stream",
          "name": "stdout",
          "text": [
            "1 3 5 7  \n",
            "9 11 13  \n",
            "15 17  \n",
            "19  \n",
            " \n"
          ]
        }
      ]
    },
    {
      "cell_type": "code",
      "source": [
        "n=19\n",
        "for i in range(5):\n",
        "  for j in range(4-i):\n",
        "    print(n,end=\" \")\n",
        "    n=n-2\n",
        "  print(\" \")"
      ],
      "metadata": {
        "colab": {
          "base_uri": "https://localhost:8080/"
        },
        "id": "RHI3r48tZ4kz",
        "outputId": "e24d53b0-a6a9-4373-8a36-6bbbeaf31f5a"
      },
      "execution_count": null,
      "outputs": [
        {
          "output_type": "stream",
          "name": "stdout",
          "text": [
            "19 17 15 13  \n",
            "11 9 7  \n",
            "5 3  \n",
            "1  \n",
            " \n"
          ]
        }
      ]
    },
    {
      "cell_type": "code",
      "source": [
        "n=2\n",
        "for i in range(5):\n",
        "  for j in range(4-i):\n",
        "    print(n,end=\" \")\n",
        "    n=n+2\n",
        "  print(\" \")"
      ],
      "metadata": {
        "colab": {
          "base_uri": "https://localhost:8080/"
        },
        "id": "NWBZZk3ZZ_US",
        "outputId": "1573e618-b980-43cd-c980-fbc07ed76740"
      },
      "execution_count": null,
      "outputs": [
        {
          "output_type": "stream",
          "name": "stdout",
          "text": [
            "2 4 6 8  \n",
            "10 12 14  \n",
            "16 18  \n",
            "20  \n",
            " \n"
          ]
        }
      ]
    },
    {
      "cell_type": "code",
      "source": [
        "n=20\n",
        "for i in range(5):\n",
        "  for j in range(4-i):\n",
        "    print(n,end=\" \")\n",
        "    n=n-2\n",
        "  print(\" \")"
      ],
      "metadata": {
        "colab": {
          "base_uri": "https://localhost:8080/"
        },
        "id": "mCYRO1P-aE6V",
        "outputId": "5e2dba4b-a9f7-4da3-e829-c1d1dc15073b"
      },
      "execution_count": null,
      "outputs": [
        {
          "output_type": "stream",
          "name": "stdout",
          "text": [
            "20 18 16 14  \n",
            "12 10 8  \n",
            "6 4  \n",
            "2  \n",
            " \n"
          ]
        }
      ]
    },
    {
      "cell_type": "code",
      "source": [
        "for i in range(5):\n",
        "  for j in range(1,4-i+1):\n",
        "    print(\" \",end=\" \")\n",
        "  for k in range(1,i+1):\n",
        "    print(k,end=\" \")\n",
        "\n",
        "  print(\" \")"
      ],
      "metadata": {
        "colab": {
          "base_uri": "https://localhost:8080/"
        },
        "id": "PghUcC-4aKnI",
        "outputId": "574d3577-aec4-4ed5-c199-25fcd04c5cc5"
      },
      "execution_count": 7,
      "outputs": [
        {
          "output_type": "stream",
          "name": "stdout",
          "text": [
            "         \n",
            "      1  \n",
            "    1 2  \n",
            "  1 2 3  \n",
            "1 2 3 4  \n"
          ]
        }
      ]
    },
    {
      "cell_type": "code",
      "source": [
        "for i in range(5):\n",
        "  for j in range(1,4-i+1):\n",
        "    print(\" \",end=\" \")\n",
        "  for k in range(1,i+1):\n",
        "    print(i,end=\" \")\n",
        "\n",
        "  print(\" \")"
      ],
      "metadata": {
        "colab": {
          "base_uri": "https://localhost:8080/"
        },
        "id": "YeK0xkXMaZc4",
        "outputId": "4f8bd453-0752-44bd-a374-5c68c4b61c9d"
      },
      "execution_count": 8,
      "outputs": [
        {
          "output_type": "stream",
          "name": "stdout",
          "text": [
            "         \n",
            "      1  \n",
            "    2 2  \n",
            "  3 3 3  \n",
            "4 4 4 4  \n"
          ]
        }
      ]
    },
    {
      "cell_type": "code",
      "source": [
        "for i in range(4, 0, -1):\n",
        "    for j in range(i - 1):\n",
        "        print(\"  \", end=\"\")  # Print spaces to indent\n",
        "    for k in range(5 - i):\n",
        "        print(i, end=\" \")\n",
        "    print()"
      ],
      "metadata": {
        "colab": {
          "base_uri": "https://localhost:8080/"
        },
        "id": "b0ookBtua-XE",
        "outputId": "5c60ed59-ecf9-4465-da61-bb9e522ec95f"
      },
      "execution_count": 13,
      "outputs": [
        {
          "output_type": "stream",
          "name": "stdout",
          "text": [
            "      4 \n",
            "    3 3 \n",
            "  2 2 2 \n",
            "1 1 1 1 \n"
          ]
        }
      ]
    },
    {
      "cell_type": "code",
      "source": [
        "num=1\n",
        "for i in range(5):\n",
        "  for j in range(1,4-i+1):\n",
        "    print(\" \",end=\" \")\n",
        "  for k in range(1,i+1):\n",
        "    print(num,end=\" \")\n",
        "    num=num+1\n",
        "\n",
        "  print(\" \")"
      ],
      "metadata": {
        "colab": {
          "base_uri": "https://localhost:8080/"
        },
        "id": "INpz-FG2bYZ-",
        "outputId": "c11fb654-d239-4d07-893a-5828e375119d"
      },
      "execution_count": 14,
      "outputs": [
        {
          "output_type": "stream",
          "name": "stdout",
          "text": [
            "         \n",
            "      1  \n",
            "    2 3  \n",
            "  4 5 6  \n",
            "7 8 9 10  \n"
          ]
        }
      ]
    },
    {
      "cell_type": "code",
      "source": [
        "num=10\n",
        "for i in range(5):\n",
        "  for j in range(1,4-i+1):\n",
        "    print(\" \",end=\" \")\n",
        "  for k in range(1,i+1):\n",
        "    print(num,end=\" \")\n",
        "    num=num-1\n",
        "\n",
        "  print(\" \")"
      ],
      "metadata": {
        "colab": {
          "base_uri": "https://localhost:8080/"
        },
        "id": "l4pE1kbHbfC5",
        "outputId": "2d1f67e9-92c3-45f6-b4b2-a29d7b702957"
      },
      "execution_count": 15,
      "outputs": [
        {
          "output_type": "stream",
          "name": "stdout",
          "text": [
            "         \n",
            "      10  \n",
            "    9 8  \n",
            "  7 6 5  \n",
            "4 3 2 1  \n"
          ]
        }
      ]
    },
    {
      "cell_type": "code",
      "source": [
        "num=1\n",
        "for i in range(5):\n",
        "  for j in range(1,4-i+1):\n",
        "    print(\" \",end=\" \")\n",
        "  for k in range(1,i+1):\n",
        "    print(num,end=\" \")\n",
        "    num=num+2\n",
        "\n",
        "  print(\" \")"
      ],
      "metadata": {
        "colab": {
          "base_uri": "https://localhost:8080/"
        },
        "id": "wYTKr1QjbiJg",
        "outputId": "1922ae70-1584-415f-9c9e-aca560563be0"
      },
      "execution_count": 16,
      "outputs": [
        {
          "output_type": "stream",
          "name": "stdout",
          "text": [
            "         \n",
            "      1  \n",
            "    3 5  \n",
            "  7 9 11  \n",
            "13 15 17 19  \n"
          ]
        }
      ]
    },
    {
      "cell_type": "code",
      "source": [
        "num=19\n",
        "for i in range(5):\n",
        "  for j in range(1,4-i+1):\n",
        "    print(\" \",end=\" \")\n",
        "  for k in range(1,i+1):\n",
        "    print(num,end=\" \")\n",
        "    num=num-2\n",
        "\n",
        "  print(\" \")"
      ],
      "metadata": {
        "colab": {
          "base_uri": "https://localhost:8080/"
        },
        "id": "8_STrHomblbB",
        "outputId": "945d714c-f52b-4a2d-a93d-6a642033bdf6"
      },
      "execution_count": 17,
      "outputs": [
        {
          "output_type": "stream",
          "name": "stdout",
          "text": [
            "         \n",
            "      19  \n",
            "    17 15  \n",
            "  13 11 9  \n",
            "7 5 3 1  \n"
          ]
        }
      ]
    },
    {
      "cell_type": "code",
      "source": [
        "num=2\n",
        "for i in range(5):\n",
        "  for j in range(1,4-i+1):\n",
        "    print(\" \",end=\" \")\n",
        "  for k in range(1,i+1):\n",
        "    print(num,end=\" \")\n",
        "    num=num+2\n",
        "\n",
        "  print(\" \")"
      ],
      "metadata": {
        "id": "rtIUf0VGFxMU",
        "colab": {
          "base_uri": "https://localhost:8080/"
        },
        "outputId": "25a644d9-e972-4d0c-c526-5e8199c830c6"
      },
      "execution_count": 18,
      "outputs": [
        {
          "output_type": "stream",
          "name": "stdout",
          "text": [
            "         \n",
            "      2  \n",
            "    4 6  \n",
            "  8 10 12  \n",
            "14 16 18 20  \n"
          ]
        }
      ]
    },
    {
      "cell_type": "code",
      "source": [
        "num=20\n",
        "for i in range(5):\n",
        "  for j in range(1,4-i+1):\n",
        "    print(\" \",end=\" \")\n",
        "  for k in range(1,i+1):\n",
        "    print(num,end=\" \")\n",
        "    num=num-2\n",
        "\n",
        "  print(\" \")"
      ],
      "metadata": {
        "colab": {
          "base_uri": "https://localhost:8080/"
        },
        "id": "-XonuexLDLSX",
        "outputId": "fe93ea49-918b-46d8-b3a3-839e90b953af"
      },
      "execution_count": 20,
      "outputs": [
        {
          "output_type": "stream",
          "name": "stdout",
          "text": [
            "         \n",
            "      20  \n",
            "    18 16  \n",
            "  14 12 10  \n",
            "8 6 4 2  \n"
          ]
        }
      ]
    },
    {
      "cell_type": "code",
      "source": [
        "for i in range(4):\n",
        "    for j in range(i):\n",
        "        print(\" \", end=\" \")\n",
        "    for k in range(1, 5 - i):\n",
        "        print(k, end=\" \")\n",
        "    print(\" \")"
      ],
      "metadata": {
        "colab": {
          "base_uri": "https://localhost:8080/"
        },
        "id": "B15Wi9N1DNjb",
        "outputId": "cc9bc070-2660-4aaa-c324-43fd7d47bd15"
      },
      "execution_count": 26,
      "outputs": [
        {
          "output_type": "stream",
          "name": "stdout",
          "text": [
            "1 2 3 4  \n",
            "  1 2 3  \n",
            "    1 2  \n",
            "      1  \n"
          ]
        }
      ]
    },
    {
      "cell_type": "code",
      "source": [
        "for i in range(5):\n",
        "    for j in range(i):\n",
        "        print(\" \", end=\" \")\n",
        "    for k in range(4 - i):\n",
        "        print(i+1, end=\" \")\n",
        "    print(\" \")"
      ],
      "metadata": {
        "colab": {
          "base_uri": "https://localhost:8080/"
        },
        "id": "kzDwMJrhDkJQ",
        "outputId": "29bf9785-637f-4ff7-91a9-0da297ff121e"
      },
      "execution_count": 31,
      "outputs": [
        {
          "output_type": "stream",
          "name": "stdout",
          "text": [
            "1 1 1 1  \n",
            "  2 2 2  \n",
            "    3 3  \n",
            "      4  \n",
            "         \n"
          ]
        }
      ]
    },
    {
      "cell_type": "code",
      "source": [
        "num=1\n",
        "for i in range(5):\n",
        "    for j in range(i):\n",
        "        print(\" \", end=\" \")\n",
        "    for k in range(4 - i):\n",
        "        print(num, end=\" \")\n",
        "        num=num+1\n",
        "    print(\" \")"
      ],
      "metadata": {
        "colab": {
          "base_uri": "https://localhost:8080/"
        },
        "id": "xnaBPhjRETbR",
        "outputId": "d7e56960-de51-4052-8765-e80132c82309"
      },
      "execution_count": 32,
      "outputs": [
        {
          "output_type": "stream",
          "name": "stdout",
          "text": [
            "1 2 3 4  \n",
            "  5 6 7  \n",
            "    8 9  \n",
            "      10  \n",
            "         \n"
          ]
        }
      ]
    },
    {
      "cell_type": "code",
      "source": [
        "num=10\n",
        "for i in range(5):\n",
        "    for j in range(i):\n",
        "        print(\" \", end=\" \")\n",
        "    for k in range(4 - i):\n",
        "        print(num, end=\" \")\n",
        "        num=num-1\n",
        "    print(\" \")"
      ],
      "metadata": {
        "colab": {
          "base_uri": "https://localhost:8080/"
        },
        "id": "R81F3qy2Ewte",
        "outputId": "72aa5c14-8a56-4402-cada-5a2e92d641ee"
      },
      "execution_count": 33,
      "outputs": [
        {
          "output_type": "stream",
          "name": "stdout",
          "text": [
            "10 9 8 7  \n",
            "  6 5 4  \n",
            "    3 2  \n",
            "      1  \n",
            "         \n"
          ]
        }
      ]
    },
    {
      "cell_type": "code",
      "source": [
        "num=1\n",
        "for i in range(5):\n",
        "    for j in range(i):\n",
        "        print(\" \", end=\" \")\n",
        "    for k in range(4 - i):\n",
        "        print(num, end=\" \")\n",
        "        num=num+2\n",
        "    print(\" \")"
      ],
      "metadata": {
        "colab": {
          "base_uri": "https://localhost:8080/"
        },
        "id": "GXapRP5KEztZ",
        "outputId": "ba7ef84b-be42-4135-aca1-a7a5f720fa3f"
      },
      "execution_count": 34,
      "outputs": [
        {
          "output_type": "stream",
          "name": "stdout",
          "text": [
            "1 3 5 7  \n",
            "  9 11 13  \n",
            "    15 17  \n",
            "      19  \n",
            "         \n"
          ]
        }
      ]
    },
    {
      "cell_type": "code",
      "source": [
        "num=19\n",
        "for i in range(5):\n",
        "    for j in range(i):\n",
        "        print(\" \", end=\" \")\n",
        "    for k in range(4 - i):\n",
        "        print(num, end=\" \")\n",
        "        num=num-2\n",
        "    print(\" \")"
      ],
      "metadata": {
        "colab": {
          "base_uri": "https://localhost:8080/"
        },
        "id": "VyEKhRyXE3ri",
        "outputId": "d02f9e26-379c-4294-8bf1-f0160d5af46f"
      },
      "execution_count": 35,
      "outputs": [
        {
          "output_type": "stream",
          "name": "stdout",
          "text": [
            "19 17 15 13  \n",
            "  11 9 7  \n",
            "    5 3  \n",
            "      1  \n",
            "         \n"
          ]
        }
      ]
    },
    {
      "cell_type": "code",
      "source": [
        "num=2\n",
        "for i in range(5):\n",
        "    for j in range(i):\n",
        "        print(\" \", end=\" \")\n",
        "    for k in range(4 - i):\n",
        "        print(num, end=\" \")\n",
        "        num=num+2\n",
        "    print(\" \")"
      ],
      "metadata": {
        "colab": {
          "base_uri": "https://localhost:8080/"
        },
        "id": "ho9NV02VE_kR",
        "outputId": "e161df51-7cad-4091-84c8-f2efdc8f89ff"
      },
      "execution_count": 36,
      "outputs": [
        {
          "output_type": "stream",
          "name": "stdout",
          "text": [
            "2 4 6 8  \n",
            "  10 12 14  \n",
            "    16 18  \n",
            "      20  \n",
            "         \n"
          ]
        }
      ]
    },
    {
      "cell_type": "code",
      "source": [
        "num=20\n",
        "for i in range(5):\n",
        "    for j in range(i):\n",
        "        print(\" \", end=\" \")\n",
        "    for k in range(4 - i):\n",
        "        print(num, end=\" \")\n",
        "        num=num-2\n",
        "    print(\" \")"
      ],
      "metadata": {
        "colab": {
          "base_uri": "https://localhost:8080/"
        },
        "id": "BpfuXip9FDao",
        "outputId": "5b2bc1f2-ad3d-4c97-f7ed-096aaf8b81a6"
      },
      "execution_count": 37,
      "outputs": [
        {
          "output_type": "stream",
          "name": "stdout",
          "text": [
            "20 18 16 14  \n",
            "  12 10 8  \n",
            "    6 4  \n",
            "      2  \n",
            "         \n"
          ]
        }
      ]
    },
    {
      "cell_type": "code",
      "source": [],
      "metadata": {
        "id": "gA_HRJJ1FGBS"
      },
      "execution_count": null,
      "outputs": []
    }
  ]
}