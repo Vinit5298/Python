{
  "nbformat": 4,
  "nbformat_minor": 0,
  "metadata": {
    "colab": {
      "provenance": [],
      "authorship_tag": "ABX9TyM8cww5Mg75usrJUfIRTB9c",
      "include_colab_link": true
    },
    "kernelspec": {
      "name": "python3",
      "display_name": "Python 3"
    },
    "language_info": {
      "name": "python"
    }
  },
  "cells": [
    {
      "cell_type": "markdown",
      "metadata": {
        "id": "view-in-github",
        "colab_type": "text"
      },
      "source": [
        "<a href=\"https://colab.research.google.com/github/Vinit5298/Python/blob/main/Python_TOC_Patterns.ipynb\" target=\"_parent\"><img src=\"https://colab.research.google.com/assets/colab-badge.svg\" alt=\"Open In Colab\"/></a>"
      ]
    },
    {
      "cell_type": "code",
      "execution_count": null,
      "metadata": {
        "colab": {
          "base_uri": "https://localhost:8080/"
        },
        "id": "0_LHatcyRH5F",
        "outputId": "104eaecd-eb39-4b11-8fab-401109d134e3"
      },
      "outputs": [
        {
          "output_type": "stream",
          "name": "stdout",
          "text": [
            " **** \n",
            "  **** \n",
            "   **** \n",
            "    **** \n"
          ]
        }
      ],
      "source": [
        "# Pattern Assignment\n",
        "\n",
        "\n",
        "for i in range(1,5):\n",
        "  for j in range(1,i+1):\n",
        "    print(\" \",end=\"\")\n",
        "  for j in range(1,5):\n",
        "    print(\"*\",end=\"\")\n",
        "  print(\" \")"
      ]
    },
    {
      "cell_type": "code",
      "source": [
        "for i in range(1,5):\n",
        "  for j in range(5-i):\n",
        "    print(\" \",end=\"\")\n",
        "  for j in range(1,5):\n",
        "    print(\"*\",end=\"\")\n",
        "  print(\" \")"
      ],
      "metadata": {
        "colab": {
          "base_uri": "https://localhost:8080/"
        },
        "id": "S2Ss6G3iSWgt",
        "outputId": "bff3234a-1a23-410e-be9c-00d1f0e09fcc"
      },
      "execution_count": null,
      "outputs": [
        {
          "output_type": "stream",
          "name": "stdout",
          "text": [
            "    **** \n",
            "   **** \n",
            "  **** \n",
            " **** \n"
          ]
        }
      ]
    },
    {
      "cell_type": "code",
      "source": [
        "for i in range(1,6):\n",
        "  for j in range(1,i+1):\n",
        "    print(chr(64+j),end=\"\")\n",
        "  print(\" \")"
      ],
      "metadata": {
        "colab": {
          "base_uri": "https://localhost:8080/"
        },
        "id": "Io4eNAeaV8RZ",
        "outputId": "38ceed10-a1d9-4f9c-e7a9-e16912e28c66"
      },
      "execution_count": null,
      "outputs": [
        {
          "output_type": "stream",
          "name": "stdout",
          "text": [
            "A \n",
            "AB \n",
            "ABC \n",
            "ABCD \n",
            "ABCDE \n"
          ]
        }
      ]
    },
    {
      "cell_type": "code",
      "source": [
        "for i in range(1,6):\n",
        "  for j in range(1,i+1):\n",
        "    print(chr(64+i),end=\" \")\n",
        "  print(\" \")"
      ],
      "metadata": {
        "colab": {
          "base_uri": "https://localhost:8080/"
        },
        "id": "ZGxdu4WaWKWO",
        "outputId": "acb055a2-eb63-4db1-a68d-ad71a4a76c06"
      },
      "execution_count": null,
      "outputs": [
        {
          "output_type": "stream",
          "name": "stdout",
          "text": [
            "A  \n",
            "B B  \n",
            "C C C  \n",
            "D D D D  \n",
            "E E E E E  \n"
          ]
        }
      ]
    },
    {
      "cell_type": "code",
      "source": [
        "for i in range(1, 6):\n",
        "  for j in range(i, 0, -1):\n",
        "    print(chr(70 - j), end=\" \")\n",
        "  print(\" \")"
      ],
      "metadata": {
        "colab": {
          "base_uri": "https://localhost:8080/"
        },
        "id": "Y3-wzUb5WR5R",
        "outputId": "738c4712-fab9-4274-b902-587f8c391310"
      },
      "execution_count": null,
      "outputs": [
        {
          "output_type": "stream",
          "name": "stdout",
          "text": [
            "E \n",
            "D E \n",
            "C D E \n",
            "B C D E \n",
            "A B C D E \n"
          ]
        }
      ]
    },
    {
      "cell_type": "code",
      "source": [
        "for i in range(1,6):\n",
        "  for j in range(6-i):\n",
        "    print(\" \",end=\" \")\n",
        "  for j in range(1,i+1):\n",
        "    print(\"*\",end=\" \")\n",
        "  print(\" \")"
      ],
      "metadata": {
        "colab": {
          "base_uri": "https://localhost:8080/"
        },
        "id": "39a1y3hcWY9u",
        "outputId": "6f817bdb-238f-4ead-c165-43bae6ba6f0e"
      },
      "execution_count": null,
      "outputs": [
        {
          "output_type": "stream",
          "name": "stdout",
          "text": [
            "          *  \n",
            "        * *  \n",
            "      * * *  \n",
            "    * * * *  \n",
            "  * * * * *  \n"
          ]
        }
      ]
    },
    {
      "cell_type": "code",
      "source": [
        "for i in range(1,6):\n",
        "  for j in range(6-i):\n",
        "    print(\" \",end=\" \")\n",
        "  for j in range(1,i+1):\n",
        "    print(j,end=\" \")\n",
        "  print(\" \")"
      ],
      "metadata": {
        "colab": {
          "base_uri": "https://localhost:8080/"
        },
        "id": "AAb-u5U4YVDK",
        "outputId": "41179424-fba4-4816-9c58-3ae8d604e64d"
      },
      "execution_count": null,
      "outputs": [
        {
          "output_type": "stream",
          "name": "stdout",
          "text": [
            "          1  \n",
            "        1 2  \n",
            "      1 2 3  \n",
            "    1 2 3 4  \n",
            "  1 2 3 4 5  \n"
          ]
        }
      ]
    },
    {
      "cell_type": "code",
      "source": [
        "for i in range(1,6):\n",
        "  for j in range(1,i+1):\n",
        "    print(\" \",end=\" \")\n",
        "  for j in range(6-i):\n",
        "    print(j+1,end=\" \")\n",
        "  print(\" \")"
      ],
      "metadata": {
        "colab": {
          "base_uri": "https://localhost:8080/"
        },
        "id": "jFa1PREEc1NM",
        "outputId": "065698d5-eed6-487b-8123-16c5e8d3faa4"
      },
      "execution_count": null,
      "outputs": [
        {
          "output_type": "stream",
          "name": "stdout",
          "text": [
            "  1 2 3 4 5  \n",
            "    1 2 3 4  \n",
            "      1 2 3  \n",
            "        1 2  \n",
            "          1  \n"
          ]
        }
      ]
    },
    {
      "cell_type": "code",
      "source": [
        "for i in range(1,6):\n",
        "  for j in range(1,i+1):\n",
        "    print(\" \",end=\" \")\n",
        "  for j in range(6-i):\n",
        "    print(chr(65+j),end=\" \")\n",
        "  print(\" \")"
      ],
      "metadata": {
        "colab": {
          "base_uri": "https://localhost:8080/"
        },
        "id": "N5AStOqSc60J",
        "outputId": "5aed73f0-405c-4cf1-9304-0c209da86d73"
      },
      "execution_count": null,
      "outputs": [
        {
          "output_type": "stream",
          "name": "stdout",
          "text": [
            "  A B C D E  \n",
            "    A B C D  \n",
            "      A B C  \n",
            "        A B  \n",
            "          A  \n"
          ]
        }
      ]
    },
    {
      "cell_type": "code",
      "source": [
        "for i in range(1,6):\n",
        "  for j in range(6-i):\n",
        "    print(\" \",end=\"\")\n",
        "  for j in range(1,6):\n",
        "    print(\"*\",end=\" \")\n",
        "  print(\" \")"
      ],
      "metadata": {
        "colab": {
          "base_uri": "https://localhost:8080/"
        },
        "id": "HcMgdNOqdFgO",
        "outputId": "74622bcb-a87f-47f8-dc2f-51b8b9a42f68"
      },
      "execution_count": null,
      "outputs": [
        {
          "output_type": "stream",
          "name": "stdout",
          "text": [
            "     * * * * *  \n",
            "    * * * * *  \n",
            "   * * * * *  \n",
            "  * * * * *  \n",
            " * * * * *  \n"
          ]
        }
      ]
    },
    {
      "cell_type": "code",
      "source": [
        "for i in range(1,6):\n",
        "  for j in range(6-i):\n",
        "    print(\" \",end=\"\")\n",
        "  for j in range(1,6):\n",
        "    print(j,end=\" \")\n",
        "  print(\" \")"
      ],
      "metadata": {
        "colab": {
          "base_uri": "https://localhost:8080/"
        },
        "id": "d3iZtNlZdVzT",
        "outputId": "9ab11c06-4296-4487-b72e-35060f75665f"
      },
      "execution_count": null,
      "outputs": [
        {
          "output_type": "stream",
          "name": "stdout",
          "text": [
            "     1 2 3 4 5  \n",
            "    1 2 3 4 5  \n",
            "   1 2 3 4 5  \n",
            "  1 2 3 4 5  \n",
            " 1 2 3 4 5  \n"
          ]
        }
      ]
    },
    {
      "cell_type": "code",
      "source": [
        "for i in range(1,6):\n",
        "  for j in range(6-i):\n",
        "    print(\" \",end=\"\")\n",
        "  for j in range(1,6):\n",
        "    print(chr(64+j),end=\" \")\n",
        "  print(\" \")"
      ],
      "metadata": {
        "colab": {
          "base_uri": "https://localhost:8080/"
        },
        "id": "YDASp6QQdnJP",
        "outputId": "571ea15a-4441-401a-8ff3-6d19584f53f9"
      },
      "execution_count": null,
      "outputs": [
        {
          "output_type": "stream",
          "name": "stdout",
          "text": [
            "     A B C D E  \n",
            "    A B C D E  \n",
            "   A B C D E  \n",
            "  A B C D E  \n",
            " A B C D E  \n"
          ]
        }
      ]
    },
    {
      "cell_type": "code",
      "source": [
        "for i in range(1,5):\n",
        "  for j in range(5-i):\n",
        "    print(\" \",end=\"\")\n",
        "  for k in range(1,2*i):\n",
        "    print(\"*\",end=\"\")\n",
        "  print(\" \")"
      ],
      "metadata": {
        "colab": {
          "base_uri": "https://localhost:8080/"
        },
        "id": "sgjHg8redxdv",
        "outputId": "8e42c431-374b-41f1-d98f-109ddb36663e"
      },
      "execution_count": null,
      "outputs": [
        {
          "output_type": "stream",
          "name": "stdout",
          "text": [
            "    * \n",
            "   *** \n",
            "  ***** \n",
            " ******* \n"
          ]
        }
      ]
    },
    {
      "cell_type": "code",
      "source": [
        "for i in range(4,0,-1):\n",
        "  for j in range(5-i):\n",
        "    print(\" \",end=\"\")\n",
        "  for k in range(1,2*i):\n",
        "    print(\"*\",end=\"\")\n",
        "  print(\" \")"
      ],
      "metadata": {
        "colab": {
          "base_uri": "https://localhost:8080/"
        },
        "id": "IS-qZst4eEfw",
        "outputId": "d6b96e4e-3246-4060-a0a2-604057712f9d"
      },
      "execution_count": null,
      "outputs": [
        {
          "output_type": "stream",
          "name": "stdout",
          "text": [
            " ******* \n",
            "  ***** \n",
            "   *** \n",
            "    * \n"
          ]
        }
      ]
    },
    {
      "cell_type": "code",
      "source": [
        "for i in range(1,5):\n",
        "  for j in range(5-i):\n",
        "    print(\" \",end=\"\")\n",
        "  for k in range(1,2*i):\n",
        "    if k == 1 or k == 2*i-1 or i==4:\n",
        "      print(\"*\",end=\"\")\n",
        "    else:\n",
        "      print(\" \",end=\"\")\n",
        "  print(\" \")"
      ],
      "metadata": {
        "colab": {
          "base_uri": "https://localhost:8080/"
        },
        "id": "M-anddwxe2r6",
        "outputId": "af121a4b-2669-4d80-b9a3-d21d67fa04b2"
      },
      "execution_count": null,
      "outputs": [
        {
          "output_type": "stream",
          "name": "stdout",
          "text": [
            "    * \n",
            "   * * \n",
            "  *   * \n",
            " ******* \n"
          ]
        }
      ]
    },
    {
      "cell_type": "code",
      "source": [
        "for i in range(1,5):\n",
        "  for j in range(1,i+1):\n",
        "    print(\"*\",end=\" \")\n",
        "  print(\" \")\n",
        "for i in range(2,5):\n",
        "  for j in range(5-i):\n",
        "    print(\"*\",end=\" \")\n",
        "  print(\" \")"
      ],
      "metadata": {
        "colab": {
          "base_uri": "https://localhost:8080/"
        },
        "id": "mkdHhBCsfc-0",
        "outputId": "1085869d-4711-4378-e89a-a671958eccd8"
      },
      "execution_count": null,
      "outputs": [
        {
          "output_type": "stream",
          "name": "stdout",
          "text": [
            "*  \n",
            "* *  \n",
            "* * *  \n",
            "* * * *  \n",
            "* * *  \n",
            "* *  \n",
            "*  \n"
          ]
        }
      ]
    },
    {
      "cell_type": "code",
      "source": [
        "for i in range(1,5):\n",
        "  for j in range(5-i):\n",
        "    print(\" \",end=\" \")\n",
        "  for k in range(1,i+1):\n",
        "    print(\"*\",end=\" \")\n",
        "  print(\" \")\n",
        "for i in range(2,5):\n",
        "  for j in range(1,i+1):\n",
        "    print(\" \",end=\" \")\n",
        "  for k in range(5-i):\n",
        "    print(\"*\",end=\" \")\n",
        "  print(\" \")"
      ],
      "metadata": {
        "id": "dt1UNHAyf5oo",
        "colab": {
          "base_uri": "https://localhost:8080/"
        },
        "outputId": "d6dab73b-aceb-42b1-b4a0-849a197e719f"
      },
      "execution_count": null,
      "outputs": [
        {
          "output_type": "stream",
          "name": "stdout",
          "text": [
            "        *  \n",
            "      * *  \n",
            "    * * *  \n",
            "  * * * *  \n",
            "    * * *  \n",
            "      * *  \n",
            "        *  \n"
          ]
        }
      ]
    },
    {
      "cell_type": "code",
      "source": [
        "for i in range(1,6):\n",
        "  for j in range(1,5-i+1):\n",
        "    print(\" \",end=\"\")\n",
        "  for k in range(1,i+1):\n",
        "    print(\"*\",end=\" \")\n",
        "  print(\" \")\n",
        "for i in range(1,6):\n",
        "  for j in range(1,i+1):\n",
        "    print(\" \",end=\"\")\n",
        "  for k in range(1,5-i+1):\n",
        "    print(\"*\",end=\" \")\n",
        "  print(\" \")"
      ],
      "metadata": {
        "colab": {
          "base_uri": "https://localhost:8080/"
        },
        "id": "uYBNpLgIAwD7",
        "outputId": "bd06e85b-6fad-43f2-a80c-d5683866815d"
      },
      "execution_count": null,
      "outputs": [
        {
          "output_type": "stream",
          "name": "stdout",
          "text": [
            "    *  \n",
            "   * *  \n",
            "  * * *  \n",
            " * * * *  \n",
            "* * * * *  \n",
            " * * * *  \n",
            "  * * *  \n",
            "   * *  \n",
            "    *  \n",
            "      \n"
          ]
        }
      ]
    },
    {
      "cell_type": "code",
      "source": [
        "for i in range(1,6):  # Upper part of diamond\n",
        "    for j in range(5 - i):\n",
        "        print(\" \", end=\" \")\n",
        "    for k in range(1, 2 * i):\n",
        "        print(\"*\", end=\" \")\n",
        "    print()\n",
        "for i in range(5 - 1, 0, -1):  # Lower part of diamond\n",
        "    for j in range(5 - i):\n",
        "        print(\" \", end=\" \")\n",
        "    for k in range(1, 2 * i):\n",
        "        print(\"*\", end=\" \")\n",
        "    print()"
      ],
      "metadata": {
        "colab": {
          "base_uri": "https://localhost:8080/"
        },
        "id": "51ACICq4Fc9t",
        "outputId": "8b784180-665a-492b-fa50-936d351c249b"
      },
      "execution_count": null,
      "outputs": [
        {
          "output_type": "stream",
          "name": "stdout",
          "text": [
            "        * \n",
            "      * * * \n",
            "    * * * * * \n",
            "  * * * * * * * \n",
            "* * * * * * * * * \n",
            "  * * * * * * * \n",
            "    * * * * * \n",
            "      * * * \n",
            "        * \n"
          ]
        }
      ]
    },
    {
      "cell_type": "code",
      "source": [
        "for i in range(1,6):  # Upper part of diamond\n",
        "    for j in range(5 - i):\n",
        "        print(\" \", end=\" \")\n",
        "    for k in range(1, 2 * i):\n",
        "        print(k, end=\" \")\n",
        "    print()\n",
        "for i in range(5 - 1, 0, -1):  # Lower part of diamond\n",
        "    for j in range(5 - i):\n",
        "        print(\" \", end=\" \")\n",
        "    for k in range(1, 2 * i):\n",
        "        print(k, end=\" \")\n",
        "    print()"
      ],
      "metadata": {
        "colab": {
          "base_uri": "https://localhost:8080/"
        },
        "id": "QSQLJyLwDQw5",
        "outputId": "b32201e3-6654-4290-edf8-a5cc1944e88b"
      },
      "execution_count": null,
      "outputs": [
        {
          "output_type": "stream",
          "name": "stdout",
          "text": [
            "        1 \n",
            "      1 2 3 \n",
            "    1 2 3 4 5 \n",
            "  1 2 3 4 5 6 7 \n",
            "1 2 3 4 5 6 7 8 9 \n",
            "  1 2 3 4 5 6 7 \n",
            "    1 2 3 4 5 \n",
            "      1 2 3 \n",
            "        1 \n"
          ]
        }
      ]
    },
    {
      "cell_type": "code",
      "source": [
        "# Upper half\n",
        "for i in range(5, 0, -1):\n",
        "    print(\"  \" * (5 - i), end=\"\")  # Indentation (2 spaces per level)\n",
        "    for j in range(1, 2 * i):\n",
        "        print(j, end=\" \")\n",
        "    print()\n",
        "\n",
        "# Lower half\n",
        "for i in range(2, 6):\n",
        "    print(\"  \" * (5 - i), end=\"\")  # Indentation\n",
        "    for j in range(1, 2 * i):\n",
        "        print(j, end=\" \")\n",
        "    print()"
      ],
      "metadata": {
        "colab": {
          "base_uri": "https://localhost:8080/"
        },
        "id": "I-M6kgnVGo5g",
        "outputId": "63fb4670-7955-48f1-edd2-20856364aa39"
      },
      "execution_count": null,
      "outputs": [
        {
          "output_type": "stream",
          "name": "stdout",
          "text": [
            "1 2 3 4 5 6 7 8 9 \n",
            "  1 2 3 4 5 6 7 \n",
            "    1 2 3 4 5 \n",
            "      1 2 3 \n",
            "        1 \n",
            "      1 2 3 \n",
            "    1 2 3 4 5 \n",
            "  1 2 3 4 5 6 7 \n",
            "1 2 3 4 5 6 7 8 9 \n"
          ]
        }
      ]
    },
    {
      "cell_type": "code",
      "source": [
        "# Upper half\n",
        "for i in range(5, 0, -1):\n",
        "    print(\"  \" * (5 - i), end=\"\")  # Indentation (2 spaces per level)\n",
        "    for j in range(1, 2 * i):\n",
        "        print(chr(64+j), end=\" \")\n",
        "    print()\n",
        "\n",
        "# Lower half\n",
        "for i in range(2, 6):\n",
        "    print(\"  \" * (5 - i), end=\"\")  # Indentation\n",
        "    for j in range(1, 2 * i):\n",
        "        print(chr(64+j), end=\" \")\n",
        "    print()"
      ],
      "metadata": {
        "colab": {
          "base_uri": "https://localhost:8080/"
        },
        "id": "AlprZtrHHBzy",
        "outputId": "2b9e9e22-c8c1-44ed-fb1b-40c36094494c"
      },
      "execution_count": null,
      "outputs": [
        {
          "output_type": "stream",
          "name": "stdout",
          "text": [
            "A B C D E F G H I \n",
            "  A B C D E F G \n",
            "    A B C D E \n",
            "      A B C \n",
            "        A \n",
            "      A B C \n",
            "    A B C D E \n",
            "  A B C D E F G \n",
            "A B C D E F G H I \n"
          ]
        }
      ]
    },
    {
      "cell_type": "code",
      "source": [],
      "metadata": {
        "id": "DaotHgFyrCtL"
      },
      "execution_count": null,
      "outputs": []
    }
  ]
}