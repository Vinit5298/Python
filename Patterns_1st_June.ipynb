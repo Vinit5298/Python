{
  "nbformat": 4,
  "nbformat_minor": 0,
  "metadata": {
    "colab": {
      "provenance": [],
      "authorship_tag": "ABX9TyPXLTv/0MJBY0WqUA2o7H4R",
      "include_colab_link": true
    },
    "kernelspec": {
      "name": "python3",
      "display_name": "Python 3"
    },
    "language_info": {
      "name": "python"
    }
  },
  "cells": [
    {
      "cell_type": "markdown",
      "metadata": {
        "id": "view-in-github",
        "colab_type": "text"
      },
      "source": [
        "<a href=\"https://colab.research.google.com/github/Vinit5298/Python/blob/main/Patterns_1st_June.ipynb\" target=\"_parent\"><img src=\"https://colab.research.google.com/assets/colab-badge.svg\" alt=\"Open In Colab\"/></a>"
      ]
    },
    {
      "cell_type": "code",
      "execution_count": null,
      "metadata": {
        "colab": {
          "base_uri": "https://localhost:8080/"
        },
        "id": "VVbRaAmnkrRC",
        "outputId": "cc570ca3-e0cb-4b9c-b766-393420be2ca7"
      },
      "outputs": [
        {
          "output_type": "stream",
          "name": "stdout",
          "text": [
            "*  \n",
            "* *  \n",
            "* * *  \n",
            "* * * *  \n"
          ]
        }
      ],
      "source": [
        "for i in range(1,5):\n",
        "  for j in range(1,i+1):\n",
        "    print(\"*\",end=\" \")\n",
        "\n",
        "  print(\" \")"
      ]
    },
    {
      "cell_type": "code",
      "source": [
        "for i in range(1,5):\n",
        "  for j in range(5-i):\n",
        "    print(\"*\",end=\" \")\n",
        "  print(\" \")"
      ],
      "metadata": {
        "colab": {
          "base_uri": "https://localhost:8080/"
        },
        "id": "jDk1dgwWlenl",
        "outputId": "ff30b02d-74cb-4251-9055-f10889bb260a"
      },
      "execution_count": null,
      "outputs": [
        {
          "output_type": "stream",
          "name": "stdout",
          "text": [
            "* * * *  \n",
            "* * *  \n",
            "* *  \n",
            "*  \n"
          ]
        }
      ]
    },
    {
      "cell_type": "code",
      "source": [
        "for i in range(1,5):\n",
        "  for j in range(1,i+1):\n",
        "    print(\" \",end=\" \")\n",
        "  for k in range(5-i):\n",
        "    print(\"*\",end=\" \")\n",
        "  print(\" \")"
      ],
      "metadata": {
        "colab": {
          "base_uri": "https://localhost:8080/"
        },
        "id": "7UfLOfQTl02G",
        "outputId": "fd429f2e-1df4-41f7-aa2d-6117601942ad"
      },
      "execution_count": null,
      "outputs": [
        {
          "output_type": "stream",
          "name": "stdout",
          "text": [
            "  * * * *  \n",
            "    * * *  \n",
            "      * *  \n",
            "        *  \n"
          ]
        }
      ]
    },
    {
      "cell_type": "code",
      "source": [
        "for i in range(1,5):\n",
        "  for j in range(5-i):\n",
        "    print(\" \",end=\" \")\n",
        "  for k in range(1,i+1):\n",
        "    print(\"*\",end=\" \")\n",
        "  print(\" \")"
      ],
      "metadata": {
        "colab": {
          "base_uri": "https://localhost:8080/"
        },
        "id": "fmYgQr72mbK1",
        "outputId": "73f32a96-3dc3-40b5-ba66-14f6f7ec1ca1"
      },
      "execution_count": null,
      "outputs": [
        {
          "output_type": "stream",
          "name": "stdout",
          "text": [
            "        *  \n",
            "      * *  \n",
            "    * * *  \n",
            "  * * * *  \n"
          ]
        }
      ]
    },
    {
      "cell_type": "code",
      "source": [
        "# Tried for the first Triangle Pattern"
      ],
      "metadata": {
        "id": "PpIb941amiAJ"
      },
      "execution_count": null,
      "outputs": []
    },
    {
      "cell_type": "code",
      "source": [
        "for i in range(1,5):\n",
        "  for j in range(1,i+1):\n",
        "    print(j,end=\" \")\n",
        "  print(\" \")"
      ],
      "metadata": {
        "colab": {
          "base_uri": "https://localhost:8080/"
        },
        "id": "bYPdYYDymnzn",
        "outputId": "da95900c-0c09-42fd-9728-ad2632cb842d"
      },
      "execution_count": null,
      "outputs": [
        {
          "output_type": "stream",
          "name": "stdout",
          "text": [
            "1  \n",
            "1 2  \n",
            "1 2 3  \n",
            "1 2 3 4  \n"
          ]
        }
      ]
    },
    {
      "cell_type": "code",
      "source": [
        "for i in range(1,5):\n",
        "  for j in range(1,i+1):\n",
        "    print(i,end=\" \")\n",
        "  print(\" \")"
      ],
      "metadata": {
        "colab": {
          "base_uri": "https://localhost:8080/"
        },
        "id": "7TrFa7RAmv5v",
        "outputId": "f99b4b57-bcb7-4494-f9e0-0b4a71b91a6d"
      },
      "execution_count": null,
      "outputs": [
        {
          "output_type": "stream",
          "name": "stdout",
          "text": [
            "1  \n",
            "2 2  \n",
            "3 3 3  \n",
            "4 4 4 4  \n"
          ]
        }
      ]
    },
    {
      "cell_type": "code",
      "source": [
        "for i in range(1,5):\n",
        "  for j in range(1,i+1):\n",
        "    print(5-j,end=\" \")\n",
        "  print(\" \")"
      ],
      "metadata": {
        "colab": {
          "base_uri": "https://localhost:8080/"
        },
        "id": "Tw8e8bf3mzO6",
        "outputId": "1d6f8bfd-e2ed-442e-c56c-1372d6864a02"
      },
      "execution_count": null,
      "outputs": [
        {
          "output_type": "stream",
          "name": "stdout",
          "text": [
            "4  \n",
            "4 3  \n",
            "4 3 2  \n",
            "4 3 2 1  \n"
          ]
        }
      ]
    },
    {
      "cell_type": "code",
      "source": [
        "for i in range(1,5):\n",
        "  for j in range(1,i+1):\n",
        "    print(5-i,end=\" \")\n",
        "  print(\" \")"
      ],
      "metadata": {
        "colab": {
          "base_uri": "https://localhost:8080/"
        },
        "id": "md0nyEy7m9uK",
        "outputId": "b4ba2a1f-a529-4902-f6b1-10c61a3ef3cc"
      },
      "execution_count": null,
      "outputs": [
        {
          "output_type": "stream",
          "name": "stdout",
          "text": [
            "4  \n",
            "3 3  \n",
            "2 2 2  \n",
            "1 1 1 1  \n"
          ]
        }
      ]
    },
    {
      "cell_type": "code",
      "source": [
        "num=1\n",
        "for i in range(1,5):\n",
        "  for j in range(1,i+1):\n",
        "    print(num,end=\" \")\n",
        "    num=num+1\n",
        "  print(\" \")"
      ],
      "metadata": {
        "colab": {
          "base_uri": "https://localhost:8080/"
        },
        "id": "v_MgOZWVp-jr",
        "outputId": "4a5ed774-fb30-48e1-ea78-ee8bd34190bb"
      },
      "execution_count": null,
      "outputs": [
        {
          "output_type": "stream",
          "name": "stdout",
          "text": [
            "1  \n",
            "2 3  \n",
            "4 5 6  \n",
            "7 8 9 10  \n"
          ]
        }
      ]
    },
    {
      "cell_type": "code",
      "source": [
        "num=10\n",
        "for i in range(1,5):\n",
        "  for j in range(1,i+1):\n",
        "    print(num,end=\" \")\n",
        "    num=num-1\n",
        "  print(\" \")"
      ],
      "metadata": {
        "colab": {
          "base_uri": "https://localhost:8080/"
        },
        "id": "gl3Ru8lCqOUf",
        "outputId": "9e1fdbd6-b1f2-40a5-e3d2-cbe01811bcf8"
      },
      "execution_count": null,
      "outputs": [
        {
          "output_type": "stream",
          "name": "stdout",
          "text": [
            "10  \n",
            "9 8  \n",
            "7 6 5  \n",
            "4 3 2 1  \n"
          ]
        }
      ]
    },
    {
      "cell_type": "code",
      "source": [
        "num=1\n",
        "for i in range(1,5):\n",
        "  for j in range(1,i+1):\n",
        "    print(num,end=\" \")\n",
        "    num=num+2\n",
        "  print(\" \")"
      ],
      "metadata": {
        "colab": {
          "base_uri": "https://localhost:8080/"
        },
        "id": "gHelh5I_qRp3",
        "outputId": "36cd42f2-fdeb-49cc-c5e5-d542c2bcb309"
      },
      "execution_count": null,
      "outputs": [
        {
          "output_type": "stream",
          "name": "stdout",
          "text": [
            "1  \n",
            "3 5  \n",
            "7 9 11  \n",
            "13 15 17 19  \n"
          ]
        }
      ]
    },
    {
      "cell_type": "code",
      "source": [
        "num=19\n",
        "for i in range(1,5):\n",
        "  for j in range(1,i+1):\n",
        "    print(num,end=\" \")\n",
        "    num=num-2\n",
        "  print(\" \")"
      ],
      "metadata": {
        "colab": {
          "base_uri": "https://localhost:8080/"
        },
        "id": "QZ1Lw2vDqV5H",
        "outputId": "e4d22ce9-142a-41a6-91b6-bc0dadef11fa"
      },
      "execution_count": null,
      "outputs": [
        {
          "output_type": "stream",
          "name": "stdout",
          "text": [
            "19  \n",
            "17 15  \n",
            "13 11 9  \n",
            "7 5 3 1  \n"
          ]
        }
      ]
    },
    {
      "cell_type": "code",
      "source": [
        "num=2\n",
        "for i in range(1,5):\n",
        "  for j in range(1,i+1):\n",
        "    print(num,end=\" \")\n",
        "    num=num+2\n",
        "  print(\" \")"
      ],
      "metadata": {
        "colab": {
          "base_uri": "https://localhost:8080/"
        },
        "id": "TFhSzMucqZA-",
        "outputId": "ac798117-63f8-4432-9e56-444001496da2"
      },
      "execution_count": null,
      "outputs": [
        {
          "output_type": "stream",
          "name": "stdout",
          "text": [
            "2  \n",
            "4 6  \n",
            "8 10 12  \n",
            "14 16 18 20  \n"
          ]
        }
      ]
    },
    {
      "cell_type": "code",
      "source": [
        "num=20\n",
        "for i in range(1,5):\n",
        "  for j in range(1,i+1):\n",
        "    print(num,end=\" \")\n",
        "    num=num-2\n",
        "  print(\" \")"
      ],
      "metadata": {
        "colab": {
          "base_uri": "https://localhost:8080/"
        },
        "id": "TRn7JPKZqcHO",
        "outputId": "e133f4e3-5525-487d-ab8f-779d283da94d"
      },
      "execution_count": null,
      "outputs": [
        {
          "output_type": "stream",
          "name": "stdout",
          "text": [
            "20  \n",
            "18 16  \n",
            "14 12 10  \n",
            "8 6 4 2  \n"
          ]
        }
      ]
    },
    {
      "cell_type": "code",
      "source": [
        "# Tried for the 2nd Triangle Pattern"
      ],
      "metadata": {
        "id": "7ZuFUdqRqe2Z"
      },
      "execution_count": null,
      "outputs": []
    },
    {
      "cell_type": "code",
      "source": [
        "for i in range(1,5):\n",
        "  for j in range(5-i):\n",
        "    print(j+1,end=\" \")\n",
        "  print(\" \")"
      ],
      "metadata": {
        "colab": {
          "base_uri": "https://localhost:8080/"
        },
        "id": "EUT-Gi7AqoXT",
        "outputId": "ec1db442-0dc6-4405-d609-52972ae0b325"
      },
      "execution_count": null,
      "outputs": [
        {
          "output_type": "stream",
          "name": "stdout",
          "text": [
            "1 2 3 4  \n",
            "1 2 3  \n",
            "1 2  \n",
            "1  \n"
          ]
        }
      ]
    },
    {
      "cell_type": "code",
      "source": [
        "for i in range(1,5):\n",
        "  for j in range(5-i):\n",
        "    print(i,end=\" \")\n",
        "  print(\" \")"
      ],
      "metadata": {
        "colab": {
          "base_uri": "https://localhost:8080/"
        },
        "id": "Ioz8OWA9qzt2",
        "outputId": "77a9256d-b2ac-444f-a900-0f74b731bbba"
      },
      "execution_count": null,
      "outputs": [
        {
          "output_type": "stream",
          "name": "stdout",
          "text": [
            "1 1 1 1  \n",
            "2 2 2  \n",
            "3 3  \n",
            "4  \n"
          ]
        }
      ]
    },
    {
      "cell_type": "code",
      "source": [
        "for i in range(1,5):\n",
        "  for j in range(5-i):\n",
        "    print(5-j-1,end=\" \")\n",
        "  print(\" \")"
      ],
      "metadata": {
        "colab": {
          "base_uri": "https://localhost:8080/"
        },
        "id": "tnBh_eQNq7HN",
        "outputId": "f12ad5df-75b9-4602-fb64-10e8e8b99979"
      },
      "execution_count": null,
      "outputs": [
        {
          "output_type": "stream",
          "name": "stdout",
          "text": [
            "4 3 2 1  \n",
            "4 3 2  \n",
            "4 3  \n",
            "4  \n"
          ]
        }
      ]
    },
    {
      "cell_type": "code",
      "source": [
        "for i in range(1,5):\n",
        "  for j in range(5-i):\n",
        "    print(5-i,end=\" \")\n",
        "  print(\" \")"
      ],
      "metadata": {
        "colab": {
          "base_uri": "https://localhost:8080/"
        },
        "id": "6ovyshisq_1o",
        "outputId": "506c4068-394a-495e-fc4b-040b0f2df91e"
      },
      "execution_count": null,
      "outputs": [
        {
          "output_type": "stream",
          "name": "stdout",
          "text": [
            "4 4 4 4  \n",
            "3 3 3  \n",
            "2 2  \n",
            "1  \n"
          ]
        }
      ]
    },
    {
      "cell_type": "code",
      "source": [
        "num=1\n",
        "for i in range(1,5):\n",
        "  for j in range(5-i):\n",
        "    print(num,end=\" \")\n",
        "    num=num+1\n",
        "  print(\" \")"
      ],
      "metadata": {
        "colab": {
          "base_uri": "https://localhost:8080/"
        },
        "id": "ijTqBR6ArE7m",
        "outputId": "6135f659-89f4-4fcb-e33c-586329baa6ee"
      },
      "execution_count": null,
      "outputs": [
        {
          "output_type": "stream",
          "name": "stdout",
          "text": [
            "1 2 3 4  \n",
            "5 6 7  \n",
            "8 9  \n",
            "10  \n"
          ]
        }
      ]
    },
    {
      "cell_type": "code",
      "source": [
        "num=10\n",
        "for i in range(1,5):\n",
        "  for j in range(5-i):\n",
        "    print(num,end=\" \")\n",
        "    num=num-1\n",
        "  print(\" \")"
      ],
      "metadata": {
        "colab": {
          "base_uri": "https://localhost:8080/"
        },
        "id": "kC-BEQqirWB6",
        "outputId": "57f465b2-dc4f-43bf-8da9-8368b536a2d5"
      },
      "execution_count": null,
      "outputs": [
        {
          "output_type": "stream",
          "name": "stdout",
          "text": [
            "10 9 8 7  \n",
            "6 5 4  \n",
            "3 2  \n",
            "1  \n"
          ]
        }
      ]
    },
    {
      "cell_type": "code",
      "source": [
        "num=1\n",
        "for i in range(1,5):\n",
        "  for j in range(5-i):\n",
        "    print(num,end=\" \")\n",
        "    num=num+2\n",
        "  print(\" \")"
      ],
      "metadata": {
        "colab": {
          "base_uri": "https://localhost:8080/"
        },
        "id": "NknQaHzcrZSA",
        "outputId": "510b6e8e-099e-43cb-fab3-21e25ae8ba90"
      },
      "execution_count": null,
      "outputs": [
        {
          "output_type": "stream",
          "name": "stdout",
          "text": [
            "1 3 5 7  \n",
            "9 11 13  \n",
            "15 17  \n",
            "19  \n"
          ]
        }
      ]
    },
    {
      "cell_type": "code",
      "source": [
        "num=19\n",
        "for i in range(1,5):\n",
        "  for j in range(5-i):\n",
        "    print(num,end=\" \")\n",
        "    num=num-1\n",
        "  print(\" \")"
      ],
      "metadata": {
        "colab": {
          "base_uri": "https://localhost:8080/"
        },
        "id": "_D1g7RsCrcj0",
        "outputId": "9a332295-d4a3-4d82-adf9-10c4f438fb7f"
      },
      "execution_count": null,
      "outputs": [
        {
          "output_type": "stream",
          "name": "stdout",
          "text": [
            "19 18 17 16  \n",
            "15 14 13  \n",
            "12 11  \n",
            "10  \n"
          ]
        }
      ]
    },
    {
      "cell_type": "code",
      "source": [
        "num=2\n",
        "for i in range(1,5):\n",
        "  for j in range(5-i):\n",
        "    print(num,end=\" \")\n",
        "    num=num+2\n",
        "  print(\" \")"
      ],
      "metadata": {
        "colab": {
          "base_uri": "https://localhost:8080/"
        },
        "id": "dXAA9XA6rh4j",
        "outputId": "34a8ef6e-1bf5-41a3-b9bc-397afe7b5472"
      },
      "execution_count": null,
      "outputs": [
        {
          "output_type": "stream",
          "name": "stdout",
          "text": [
            "2 4 6 8  \n",
            "10 12 14  \n",
            "16 18  \n",
            "20  \n"
          ]
        }
      ]
    },
    {
      "cell_type": "code",
      "source": [
        "num=20\n",
        "for i in range(1,5):\n",
        "  for j in range(5-i):\n",
        "    print(num,end=\" \")\n",
        "    num=num-2\n",
        "  print(\" \")"
      ],
      "metadata": {
        "colab": {
          "base_uri": "https://localhost:8080/"
        },
        "id": "9ECHmSKIrmEo",
        "outputId": "7ebfb8b2-1072-44e3-f684-63bcca743cec"
      },
      "execution_count": null,
      "outputs": [
        {
          "output_type": "stream",
          "name": "stdout",
          "text": [
            "20 18 16 14  \n",
            "12 10 8  \n",
            "6 4  \n",
            "2  \n"
          ]
        }
      ]
    },
    {
      "cell_type": "code",
      "source": [
        "# Tried for the 3rd Triangle Pattern"
      ],
      "metadata": {
        "id": "Q15q2ERurpgN"
      },
      "execution_count": null,
      "outputs": []
    },
    {
      "cell_type": "code",
      "source": [
        "for i in range(1,5):\n",
        "  for j in range(1,i+1):\n",
        "    print(\" \",end=\" \")\n",
        "  for k in range(5-i):\n",
        "    print(k+1,end=\" \")\n",
        "  print(\" \")"
      ],
      "metadata": {
        "colab": {
          "base_uri": "https://localhost:8080/"
        },
        "id": "DZ79NlcCrv-I",
        "outputId": "acbbd596-edb6-4b7b-f053-3066e92acd9f"
      },
      "execution_count": null,
      "outputs": [
        {
          "output_type": "stream",
          "name": "stdout",
          "text": [
            "  1 2 3 4  \n",
            "    1 2 3  \n",
            "      1 2  \n",
            "        1  \n"
          ]
        }
      ]
    },
    {
      "cell_type": "code",
      "source": [
        "for i in range(1,5):\n",
        "  for j in range(1,i+1):\n",
        "    print(\" \",end=\" \")\n",
        "  for k in range(5-i):\n",
        "    print(i,end=\" \")\n",
        "  print(\" \")"
      ],
      "metadata": {
        "colab": {
          "base_uri": "https://localhost:8080/"
        },
        "id": "-7_sYJ1ysDGn",
        "outputId": "48885d2d-58a5-44e4-c302-ea51c9c1f7cb"
      },
      "execution_count": null,
      "outputs": [
        {
          "output_type": "stream",
          "name": "stdout",
          "text": [
            "  1 1 1 1  \n",
            "    2 2 2  \n",
            "      3 3  \n",
            "        4  \n"
          ]
        }
      ]
    },
    {
      "cell_type": "code",
      "source": [
        "for i in range(1,5):\n",
        "  for j in range(1,i+1):\n",
        "    print(\" \",end=\" \")\n",
        "  for k in range(5-i):\n",
        "    print(5-k-1,end=\" \")\n",
        "  print(\" \")"
      ],
      "metadata": {
        "colab": {
          "base_uri": "https://localhost:8080/"
        },
        "id": "oi16TlUeszac",
        "outputId": "d40b2ae5-31cf-4e16-9111-6d1f8c41e399"
      },
      "execution_count": null,
      "outputs": [
        {
          "output_type": "stream",
          "name": "stdout",
          "text": [
            "  4 3 2 1  \n",
            "    4 3 2  \n",
            "      4 3  \n",
            "        4  \n"
          ]
        }
      ]
    },
    {
      "cell_type": "code",
      "source": [
        "for i in range(1,5):\n",
        "  for j in range(1,i+1):\n",
        "    print(\" \",end=\" \")\n",
        "  for k in range(5-i):\n",
        "    print(5-i,end=\" \")\n",
        "  print(\" \")"
      ],
      "metadata": {
        "colab": {
          "base_uri": "https://localhost:8080/"
        },
        "id": "vkumYpZctCWn",
        "outputId": "62a26b54-8dff-4ad4-814b-666d42f1207c"
      },
      "execution_count": null,
      "outputs": [
        {
          "output_type": "stream",
          "name": "stdout",
          "text": [
            "  4 4 4 4  \n",
            "    3 3 3  \n",
            "      2 2  \n",
            "        1  \n"
          ]
        }
      ]
    },
    {
      "cell_type": "code",
      "source": [
        "num=1\n",
        "for i in range(1,5):\n",
        "  for j in range(1,i+1):\n",
        "    print(\" \",end=\" \")\n",
        "  for k in range(5-i):\n",
        "    print(num,end=\" \")\n",
        "    num=num+1\n",
        "  print(\" \")"
      ],
      "metadata": {
        "colab": {
          "base_uri": "https://localhost:8080/"
        },
        "id": "vzqKO6-TtJEX",
        "outputId": "74ecd87f-728e-466c-adf6-e39a3dc6b4bc"
      },
      "execution_count": null,
      "outputs": [
        {
          "output_type": "stream",
          "name": "stdout",
          "text": [
            "  1 2 3 4  \n",
            "    5 6 7  \n",
            "      8 9  \n",
            "        10  \n"
          ]
        }
      ]
    },
    {
      "cell_type": "code",
      "source": [
        "num=10\n",
        "for i in range(1,5):\n",
        "  for j in range(1,i+1):\n",
        "    print(\" \",end=\" \")\n",
        "  for k in range(5-i):\n",
        "    print(num,end=\" \")\n",
        "    num=num-1\n",
        "  print(\" \")"
      ],
      "metadata": {
        "colab": {
          "base_uri": "https://localhost:8080/"
        },
        "id": "-iZk_xSrtfjn",
        "outputId": "284fb7ef-8479-4943-ac91-051e4ca5e900"
      },
      "execution_count": null,
      "outputs": [
        {
          "output_type": "stream",
          "name": "stdout",
          "text": [
            "  10 9 8 7  \n",
            "    6 5 4  \n",
            "      3 2  \n",
            "        1  \n"
          ]
        }
      ]
    },
    {
      "cell_type": "code",
      "source": [
        "num=1\n",
        "for i in range(1,5):\n",
        "  for j in range(1,i+1):\n",
        "    print(\" \",end=\" \")\n",
        "  for k in range(5-i):\n",
        "    print(num,end=\" \")\n",
        "    num=num+2\n",
        "  print(\" \")"
      ],
      "metadata": {
        "colab": {
          "base_uri": "https://localhost:8080/"
        },
        "id": "oSnr47hyti5h",
        "outputId": "2507a7a6-db76-4e8b-e88a-c7aca81655df"
      },
      "execution_count": null,
      "outputs": [
        {
          "output_type": "stream",
          "name": "stdout",
          "text": [
            "  1 3 5 7  \n",
            "    9 11 13  \n",
            "      15 17  \n",
            "        19  \n"
          ]
        }
      ]
    },
    {
      "cell_type": "code",
      "source": [
        "num=19\n",
        "for i in range(1,5):\n",
        "  for j in range(1,i+1):\n",
        "    print(\" \",end=\" \")\n",
        "  for k in range(5-i):\n",
        "    print(num,end=\" \")\n",
        "    num=num-1\n",
        "  print(\" \")"
      ],
      "metadata": {
        "colab": {
          "base_uri": "https://localhost:8080/"
        },
        "id": "LsIfzg1DtlwL",
        "outputId": "f6788942-b6aa-433f-a0b5-672d56a9a72b"
      },
      "execution_count": null,
      "outputs": [
        {
          "output_type": "stream",
          "name": "stdout",
          "text": [
            "  19 18 17 16  \n",
            "    15 14 13  \n",
            "      12 11  \n",
            "        10  \n"
          ]
        }
      ]
    },
    {
      "cell_type": "code",
      "source": [
        "num=2\n",
        "for i in range(1,5):\n",
        "  for j in range(1,i+1):\n",
        "    print(\" \",end=\" \")\n",
        "  for k in range(5-i):\n",
        "    print(num,end=\" \")\n",
        "    num=num+2\n",
        "  print(\" \")"
      ],
      "metadata": {
        "colab": {
          "base_uri": "https://localhost:8080/"
        },
        "id": "3VFzb5CxtoVa",
        "outputId": "ecd6429f-8049-41df-c016-accbb1997154"
      },
      "execution_count": null,
      "outputs": [
        {
          "output_type": "stream",
          "name": "stdout",
          "text": [
            "  2 4 6 8  \n",
            "    10 12 14  \n",
            "      16 18  \n",
            "        20  \n"
          ]
        }
      ]
    },
    {
      "cell_type": "code",
      "source": [
        "num=20\n",
        "for i in range(1,5):\n",
        "  for j in range(1,i+1):\n",
        "    print(\" \",end=\" \")\n",
        "  for k in range(5-i):\n",
        "    print(num,end=\" \")\n",
        "    num=num-2\n",
        "  print(\" \")"
      ],
      "metadata": {
        "colab": {
          "base_uri": "https://localhost:8080/"
        },
        "id": "MybPiMcHttQz",
        "outputId": "f285fa19-4cf0-4c69-8007-d31fadc3bc7f"
      },
      "execution_count": null,
      "outputs": [
        {
          "output_type": "stream",
          "name": "stdout",
          "text": [
            "  20 18 16 14  \n",
            "    12 10 8  \n",
            "      6 4  \n",
            "        2  \n"
          ]
        }
      ]
    },
    {
      "cell_type": "code",
      "source": [
        "# Tried for 4th Triangle Pattern"
      ],
      "metadata": {
        "id": "POjQvOeNuUNk"
      },
      "execution_count": null,
      "outputs": []
    },
    {
      "cell_type": "code",
      "source": [
        "for i in range(1,5):\n",
        "  for j in range(5-i):\n",
        "    print(\" \",end=\" \")\n",
        "  for k in range(1,i+1):\n",
        "    print(k,end=\" \")\n",
        "  print(\" \")"
      ],
      "metadata": {
        "colab": {
          "base_uri": "https://localhost:8080/"
        },
        "id": "1ess50RotxSO",
        "outputId": "08c0ec0f-9b77-4cf7-97f5-f0841e928faa"
      },
      "execution_count": null,
      "outputs": [
        {
          "output_type": "stream",
          "name": "stdout",
          "text": [
            "        1  \n",
            "      1 2  \n",
            "    1 2 3  \n",
            "  1 2 3 4  \n"
          ]
        }
      ]
    },
    {
      "cell_type": "code",
      "source": [
        "for i in range(1,5):\n",
        "  for j in range(5-i):\n",
        "    print(\" \",end=\" \")\n",
        "  for k in range(1,i+1):\n",
        "    print(i,end=\" \")\n",
        "  print(\" \")"
      ],
      "metadata": {
        "colab": {
          "base_uri": "https://localhost:8080/"
        },
        "id": "4_vwgvr5t2A2",
        "outputId": "038df304-6f5d-4d96-ea6a-e2cdeadafadd"
      },
      "execution_count": null,
      "outputs": [
        {
          "output_type": "stream",
          "name": "stdout",
          "text": [
            "        1  \n",
            "      2 2  \n",
            "    3 3 3  \n",
            "  4 4 4 4  \n"
          ]
        }
      ]
    },
    {
      "cell_type": "code",
      "source": [
        "for i in range(1,5):\n",
        "  for j in range(5-i):\n",
        "    print(\" \",end=\" \")\n",
        "  for k in range(1,i+1):\n",
        "    print(5-k,end=\" \")\n",
        "  print(\" \")"
      ],
      "metadata": {
        "colab": {
          "base_uri": "https://localhost:8080/"
        },
        "id": "OoY44nyLuE8j",
        "outputId": "cae2be00-79b2-4733-975a-1015fc1db2f7"
      },
      "execution_count": null,
      "outputs": [
        {
          "output_type": "stream",
          "name": "stdout",
          "text": [
            "        4  \n",
            "      4 3  \n",
            "    4 3 2  \n",
            "  4 3 2 1  \n"
          ]
        }
      ]
    },
    {
      "cell_type": "code",
      "source": [
        "for i in range(1,5):\n",
        "  for j in range(5-i):\n",
        "    print(\" \",end=\" \")\n",
        "  for k in range(1,i+1):\n",
        "    print(5-i,end=\" \")\n",
        "  print(\" \")"
      ],
      "metadata": {
        "colab": {
          "base_uri": "https://localhost:8080/"
        },
        "id": "5k3njEjkuJ1J",
        "outputId": "4b3e95d6-4a4e-44d0-c15c-adb55dcd1515"
      },
      "execution_count": null,
      "outputs": [
        {
          "output_type": "stream",
          "name": "stdout",
          "text": [
            "        4  \n",
            "      3 3  \n",
            "    2 2 2  \n",
            "  1 1 1 1  \n"
          ]
        }
      ]
    },
    {
      "cell_type": "code",
      "source": [
        "num=1\n",
        "for i in range(1,5):\n",
        "  for j in range(5-i):\n",
        "    print(\" \",end=\" \")\n",
        "  for k in range(1,i+1):\n",
        "    print(num,end=\" \")\n",
        "    num=num+1\n",
        "  print(\" \")"
      ],
      "metadata": {
        "colab": {
          "base_uri": "https://localhost:8080/"
        },
        "id": "WVezI9dHuM3m",
        "outputId": "b54876f9-7693-46cc-cbb9-224d80c1dd1b"
      },
      "execution_count": null,
      "outputs": [
        {
          "output_type": "stream",
          "name": "stdout",
          "text": [
            "        1  \n",
            "      2 3  \n",
            "    4 5 6  \n",
            "  7 8 9 10  \n"
          ]
        }
      ]
    },
    {
      "cell_type": "code",
      "source": [
        "num=10\n",
        "for i in range(1,5):\n",
        "  for j in range(5-i):\n",
        "    print(\" \",end=\" \")\n",
        "  for k in range(1,i+1):\n",
        "    print(num,end=\" \")\n",
        "    num=num-1\n",
        "  print(\" \")"
      ],
      "metadata": {
        "colab": {
          "base_uri": "https://localhost:8080/"
        },
        "id": "jP76RRxuuiwC",
        "outputId": "b20e0e7c-9bd2-4a53-b574-caab5c120f32"
      },
      "execution_count": null,
      "outputs": [
        {
          "output_type": "stream",
          "name": "stdout",
          "text": [
            "        10  \n",
            "      9 8  \n",
            "    7 6 5  \n",
            "  4 3 2 1  \n"
          ]
        }
      ]
    },
    {
      "cell_type": "code",
      "source": [
        "num=1\n",
        "for i in range(1,5):\n",
        "  for j in range(5-i):\n",
        "    print(\" \",end=\" \")\n",
        "  for k in range(1,i+1):\n",
        "    print(num,end=\" \")\n",
        "    num=num+2\n",
        "  print(\" \")"
      ],
      "metadata": {
        "colab": {
          "base_uri": "https://localhost:8080/"
        },
        "id": "V6knmVamulib",
        "outputId": "15952677-6b04-4fb5-aedc-51d1ef16b20b"
      },
      "execution_count": null,
      "outputs": [
        {
          "output_type": "stream",
          "name": "stdout",
          "text": [
            "        1  \n",
            "      3 5  \n",
            "    7 9 11  \n",
            "  13 15 17 19  \n"
          ]
        }
      ]
    },
    {
      "cell_type": "code",
      "source": [
        "num=19\n",
        "for i in range(1,5):\n",
        "  for j in range(5-i):\n",
        "    print(\" \",end=\" \")\n",
        "  for k in range(1,i+1):\n",
        "    print(num,end=\" \")\n",
        "    num=num-1\n",
        "  print(\" \")"
      ],
      "metadata": {
        "colab": {
          "base_uri": "https://localhost:8080/"
        },
        "id": "QWZfuAxLunvl",
        "outputId": "de5e62a0-424b-4421-b666-9792a7c57a77"
      },
      "execution_count": null,
      "outputs": [
        {
          "output_type": "stream",
          "name": "stdout",
          "text": [
            "        19  \n",
            "      18 17  \n",
            "    16 15 14  \n",
            "  13 12 11 10  \n"
          ]
        }
      ]
    },
    {
      "cell_type": "code",
      "source": [
        "num=2\n",
        "for i in range(1,5):\n",
        "  for j in range(5-i):\n",
        "    print(\" \",end=\" \")\n",
        "  for k in range(1,i+1):\n",
        "    print(num,end=\" \")\n",
        "    num=num+2\n",
        "  print(\" \")"
      ],
      "metadata": {
        "colab": {
          "base_uri": "https://localhost:8080/"
        },
        "id": "P7uVogu4uqrd",
        "outputId": "b13de9ba-8bbd-42af-e956-b8af01ee1f7f"
      },
      "execution_count": null,
      "outputs": [
        {
          "output_type": "stream",
          "name": "stdout",
          "text": [
            "        2  \n",
            "      4 6  \n",
            "    8 10 12  \n",
            "  14 16 18 20  \n"
          ]
        }
      ]
    },
    {
      "cell_type": "code",
      "source": [
        "num=20\n",
        "for i in range(1,5):\n",
        "  for j in range(5-i):\n",
        "    print(\" \",end=\" \")\n",
        "  for k in range(1,i+1):\n",
        "    print(num,end=\" \")\n",
        "    num=num-2\n",
        "  print(\" \")"
      ],
      "metadata": {
        "colab": {
          "base_uri": "https://localhost:8080/"
        },
        "id": "oGvifA9uutDV",
        "outputId": "23721eae-ac32-455a-ab27-29c27b2bee51"
      },
      "execution_count": null,
      "outputs": [
        {
          "output_type": "stream",
          "name": "stdout",
          "text": [
            "        20  \n",
            "      18 16  \n",
            "    14 12 10  \n",
            "  8 6 4 2  \n"
          ]
        }
      ]
    },
    {
      "cell_type": "code",
      "source": [
        "# ASCII Characters Triangle:"
      ],
      "metadata": {
        "id": "egOaTzyTzxtT"
      },
      "execution_count": null,
      "outputs": []
    },
    {
      "cell_type": "code",
      "source": [
        "for i in range(1,5):\n",
        "  for j in range(1,i+1):\n",
        "    print(chr(64+j),end=\" \")\n",
        "  print(\" \")"
      ],
      "metadata": {
        "colab": {
          "base_uri": "https://localhost:8080/"
        },
        "id": "U9R4u5kdUnWn",
        "outputId": "e54acb53-3fe8-45b7-b28f-64e5e5c62dc8"
      },
      "execution_count": null,
      "outputs": [
        {
          "output_type": "stream",
          "name": "stdout",
          "text": [
            "A  \n",
            "A B  \n",
            "A B C  \n",
            "A B C D  \n"
          ]
        }
      ]
    },
    {
      "cell_type": "code",
      "source": [
        "for i in range(1,5):\n",
        "  for j in range(1,i+1):\n",
        "    print(chr(69-j),end=\" \")\n",
        "  print(\" \")"
      ],
      "metadata": {
        "colab": {
          "base_uri": "https://localhost:8080/"
        },
        "id": "Ywo7syzXVMSk",
        "outputId": "14a04d3e-46e3-4b78-ad63-3d13f7af2b72"
      },
      "execution_count": null,
      "outputs": [
        {
          "output_type": "stream",
          "name": "stdout",
          "text": [
            "D  \n",
            "D C  \n",
            "D C B  \n",
            "D C B A  \n"
          ]
        }
      ]
    },
    {
      "cell_type": "code",
      "source": [
        "for i in range(1,5):\n",
        "  for j in range(1,i+1):\n",
        "    print(chr(64+i),end=\" \")\n",
        "  print(\" \")"
      ],
      "metadata": {
        "colab": {
          "base_uri": "https://localhost:8080/"
        },
        "id": "Gpoirex2VUfU",
        "outputId": "62ef1ab8-4999-4393-adfb-3fb650a4fc7f"
      },
      "execution_count": null,
      "outputs": [
        {
          "output_type": "stream",
          "name": "stdout",
          "text": [
            "A  \n",
            "B B  \n",
            "C C C  \n",
            "D D D D  \n"
          ]
        }
      ]
    },
    {
      "cell_type": "code",
      "source": [
        "for i in range(1,5):\n",
        "  for j in range(1,i+1):\n",
        "    print(chr(69-i),end=\" \")\n",
        "  print(\" \")"
      ],
      "metadata": {
        "colab": {
          "base_uri": "https://localhost:8080/"
        },
        "id": "GTSur--FVaVY",
        "outputId": "a9239430-ad45-47bb-b93e-99fcb4740cb7"
      },
      "execution_count": null,
      "outputs": [
        {
          "output_type": "stream",
          "name": "stdout",
          "text": [
            "D  \n",
            "C C  \n",
            "B B B  \n",
            "A A A A  \n"
          ]
        }
      ]
    },
    {
      "cell_type": "code",
      "source": [
        "num=65\n",
        "for i in range(5):\n",
        "  for j in range(1,i+1):\n",
        "    print(chr(num),end=\" \")\n",
        "    num=num+1\n",
        "  print(\" \")"
      ],
      "metadata": {
        "colab": {
          "base_uri": "https://localhost:8080/"
        },
        "id": "z5U-vcasVeq4",
        "outputId": "e7d56c96-4473-4753-88e0-10c4ce6e9ae3"
      },
      "execution_count": null,
      "outputs": [
        {
          "output_type": "stream",
          "name": "stdout",
          "text": [
            " \n",
            "A  \n",
            "B C  \n",
            "D E F  \n",
            "G H I J  \n"
          ]
        }
      ]
    },
    {
      "cell_type": "code",
      "source": [
        "num=90\n",
        "for i in range(5):\n",
        "  for j in range(1,i+1):\n",
        "    print(chr(num),end=\" \")\n",
        "    num=num-1\n",
        "  print(\" \")"
      ],
      "metadata": {
        "colab": {
          "base_uri": "https://localhost:8080/"
        },
        "id": "EbIyo5BwVwuO",
        "outputId": "544788eb-3663-4b65-9490-b8c0ae0b514e"
      },
      "execution_count": null,
      "outputs": [
        {
          "output_type": "stream",
          "name": "stdout",
          "text": [
            " \n",
            "Z  \n",
            "Y X  \n",
            "W V U  \n",
            "T S R Q  \n"
          ]
        }
      ]
    },
    {
      "cell_type": "code",
      "source": [
        "num1=65\n",
        "num2=1\n",
        "\n",
        "for i in range(1,5):\n",
        "  for j in range(1,i+1):\n",
        "    print(chr(num1),num2,end=\" \")\n",
        "    num1+=1\n",
        "    num2+=1\n",
        "  print(\" \")"
      ],
      "metadata": {
        "colab": {
          "base_uri": "https://localhost:8080/"
        },
        "id": "9Lvnt55cW46U",
        "outputId": "960a3c2e-4925-4507-ba99-da79b80959e3"
      },
      "execution_count": null,
      "outputs": [
        {
          "output_type": "stream",
          "name": "stdout",
          "text": [
            "A 1  \n",
            "B 2 C 3  \n",
            "D 4 E 5 F 6  \n",
            "G 7 H 8 I 9 J 10  \n"
          ]
        }
      ]
    },
    {
      "cell_type": "code",
      "source": [
        "num1=74\n",
        "num2=10\n",
        "\n",
        "for i in range(1,5):\n",
        "  for j in range(1,i+1):\n",
        "    print(chr(num1),num2,end=\" \")\n",
        "    num1-=1\n",
        "    num2-=1\n",
        "  print(\" \")"
      ],
      "metadata": {
        "colab": {
          "base_uri": "https://localhost:8080/"
        },
        "id": "BMP2toROXbKO",
        "outputId": "df95e63e-de3e-40cd-f213-480b717cf3f9"
      },
      "execution_count": null,
      "outputs": [
        {
          "output_type": "stream",
          "name": "stdout",
          "text": [
            "J 10  \n",
            "I 9 H 8  \n",
            "G 7 F 6 E 5  \n",
            "D 4 C 3 B 2 A 1  \n"
          ]
        }
      ]
    },
    {
      "cell_type": "code",
      "source": [
        "num=90\n",
        "for i in range(1,5):\n",
        "  for j in range(1,i+1):\n",
        "    print(chr(num),end=\" \")\n",
        "    num=num-2\n",
        "  print(\" \")"
      ],
      "metadata": {
        "colab": {
          "base_uri": "https://localhost:8080/"
        },
        "id": "W29cHmc3Xrsa",
        "outputId": "ab9ba574-50d1-4237-9fdd-1f15e2964f0d"
      },
      "execution_count": null,
      "outputs": [
        {
          "output_type": "stream",
          "name": "stdout",
          "text": [
            "Z  \n",
            "X V  \n",
            "T R P  \n",
            "N L J H  \n"
          ]
        }
      ]
    },
    {
      "cell_type": "code",
      "source": [
        "# Hollow Pattern:"
      ],
      "metadata": {
        "id": "w7l6wpfWYOyY"
      },
      "execution_count": null,
      "outputs": []
    },
    {
      "cell_type": "code",
      "source": [
        "#Hollow Square\n",
        "for i in range(1,6): #row\n",
        "  for j in range(1,6): #coloum\n",
        "    if i==1 or i==5 or j==1 or j==5:\n",
        "      print(\"*\",end=\" \")\n",
        "    else:\n",
        "      print(\" \",end=\" \")\n",
        "  print(\" \")"
      ],
      "metadata": {
        "colab": {
          "base_uri": "https://localhost:8080/"
        },
        "id": "Fkk_xvJBYgs-",
        "outputId": "36e05f5b-8f8c-4a84-a8ec-2510f0fe429e"
      },
      "execution_count": null,
      "outputs": [
        {
          "output_type": "stream",
          "name": "stdout",
          "text": [
            "* * * * *  \n",
            "*       *  \n",
            "*       *  \n",
            "*       *  \n",
            "* * * * *  \n"
          ]
        }
      ]
    },
    {
      "cell_type": "code",
      "source": [
        "#Hollow Rectangle:\n",
        "for i in range(1,6): #row\n",
        "  for j in range(1,11): #coloum\n",
        "    if i==1 or i==5 or j==1 or j==10:\n",
        "      print(\"*\",end=\" \")\n",
        "    else:\n",
        "      print(\" \",end=\" \")\n",
        "  print(\" \")"
      ],
      "metadata": {
        "colab": {
          "base_uri": "https://localhost:8080/"
        },
        "id": "Y5UCdo_JSCAg",
        "outputId": "d3ad38a0-1a72-436d-8666-e2ae9c75f6dd"
      },
      "execution_count": null,
      "outputs": [
        {
          "output_type": "stream",
          "name": "stdout",
          "text": [
            "* * * * * * * * * *  \n",
            "*                 *  \n",
            "*                 *  \n",
            "*                 *  \n",
            "* * * * * * * * * *  \n"
          ]
        }
      ]
    },
    {
      "cell_type": "code",
      "source": [
        "for i in range(1,5):\n",
        "  for j in range(1,5):\n",
        "    if j==1 or i==4 or j==i:\n",
        "      print(\"*\",end=\" \")\n",
        "    else:\n",
        "      print(\" \",end=\" \")\n",
        "  print(\" \")"
      ],
      "metadata": {
        "colab": {
          "base_uri": "https://localhost:8080/"
        },
        "id": "pmvGLWNKoS6F",
        "outputId": "d3294104-5119-4469-a282-d7dd9983246b"
      },
      "execution_count": null,
      "outputs": [
        {
          "output_type": "stream",
          "name": "stdout",
          "text": [
            "*        \n",
            "* *      \n",
            "*   *    \n",
            "* * * *  \n"
          ]
        }
      ]
    },
    {
      "cell_type": "code",
      "source": [
        "for i in range(1,5):\n",
        "  for j in range(1,5):\n",
        "    if j==1 or i==1 or j==5-i:\n",
        "      print(\"*\",end=\" \")\n",
        "    else:\n",
        "      print(\" \",end=\" \")\n",
        "  print(\" \")"
      ],
      "metadata": {
        "colab": {
          "base_uri": "https://localhost:8080/"
        },
        "id": "fxHgDW0cox11",
        "outputId": "3a4be31d-f4ed-4e30-9951-d0b0826d1aaa"
      },
      "execution_count": null,
      "outputs": [
        {
          "output_type": "stream",
          "name": "stdout",
          "text": [
            "* * * *  \n",
            "*   *    \n",
            "* *      \n",
            "*        \n"
          ]
        }
      ]
    },
    {
      "cell_type": "code",
      "source": [
        "for i in range(1,5):\n",
        "  for j in range(1,5):\n",
        "    if i==1 or j==4 or j==i:\n",
        "      print(\"*\",end=\" \")\n",
        "    else:\n",
        "      print(\" \",end=\" \")\n",
        "  print(\" \")"
      ],
      "metadata": {
        "colab": {
          "base_uri": "https://localhost:8080/"
        },
        "id": "SRYaumQJpe33",
        "outputId": "162dd674-1b6b-4900-85c2-fffd0f744f3a"
      },
      "execution_count": null,
      "outputs": [
        {
          "output_type": "stream",
          "name": "stdout",
          "text": [
            "* * * *  \n",
            "  *   *  \n",
            "    * *  \n",
            "      *  \n"
          ]
        }
      ]
    },
    {
      "cell_type": "code",
      "source": [
        "for i in range(1,5):\n",
        "  for j in range(1,5):\n",
        "    if i==4 or j==4 or j==5-i:\n",
        "      print(\"*\",end=\" \")\n",
        "    else:\n",
        "      print(\" \",end=\" \")\n",
        "  print(\" \")"
      ],
      "metadata": {
        "colab": {
          "base_uri": "https://localhost:8080/"
        },
        "id": "SCB4bqVRpp_v",
        "outputId": "ce514ef9-2280-4a74-c70c-8c9866dee81f"
      },
      "execution_count": null,
      "outputs": [
        {
          "output_type": "stream",
          "name": "stdout",
          "text": [
            "      *  \n",
            "    * *  \n",
            "  *   *  \n",
            "* * * *  \n"
          ]
        }
      ]
    },
    {
      "cell_type": "code",
      "source": [
        "#Pyramid Pattern:\n",
        "\n",
        "for i in range(1,6):\n",
        "  for j in range(1,5-i+1):\n",
        "    print(\" \",end=\"\")\n",
        "  for k in range(1,i+1):\n",
        "    print(\"*\",end=\" \")\n",
        "  print(\" \")"
      ],
      "metadata": {
        "colab": {
          "base_uri": "https://localhost:8080/"
        },
        "id": "Nu8m3GRxLFow",
        "outputId": "b34f143f-d1b0-452a-9406-21db6a1314ca"
      },
      "execution_count": null,
      "outputs": [
        {
          "output_type": "stream",
          "name": "stdout",
          "text": [
            "    *  \n",
            "   * *  \n",
            "  * * *  \n",
            " * * * *  \n",
            "* * * * *  \n"
          ]
        }
      ]
    },
    {
      "cell_type": "code",
      "source": [
        "# Inverted Pyramid Pattern:\n",
        "\n",
        "for i in range(1,6):\n",
        "  for j in range(1,i+1):\n",
        "    print(\" \",end=\"\")\n",
        "  for k in range(0,5-i+1):\n",
        "    print(\"*\",end=\" \")\n",
        "  print(\" \")"
      ],
      "metadata": {
        "colab": {
          "base_uri": "https://localhost:8080/"
        },
        "id": "KfHVhAZKMjNk",
        "outputId": "34d85985-25ab-456a-e6ce-8f06a8ad278f"
      },
      "execution_count": null,
      "outputs": [
        {
          "output_type": "stream",
          "name": "stdout",
          "text": [
            " * * * * *  \n",
            "  * * * *  \n",
            "   * * *  \n",
            "    * *  \n",
            "     *  \n"
          ]
        }
      ]
    },
    {
      "cell_type": "code",
      "source": [
        "# Diamond Shaped Pattern:\n",
        "\n",
        "for i in range(1,6):\n",
        "  for j in range(1,5-i+1):\n",
        "    print(\" \",end=\"\")\n",
        "  for k in range(1,i+1):\n",
        "    print(\"*\",end=\" \")\n",
        "  print(\" \")\n",
        "for i in range(1,6):\n",
        "  for j in range(1,i+1):\n",
        "    print(\" \",end=\"\")\n",
        "  for k in range(1,5-i+1):\n",
        "    print(\"*\",end=\" \")\n",
        "  print(\" \")"
      ],
      "metadata": {
        "colab": {
          "base_uri": "https://localhost:8080/"
        },
        "id": "-vhb1U5FNZa_",
        "outputId": "9699c129-1884-4ffb-dda3-b0cd2ed4a80a"
      },
      "execution_count": null,
      "outputs": [
        {
          "output_type": "stream",
          "name": "stdout",
          "text": [
            "    *  \n",
            "   * *  \n",
            "  * * *  \n",
            " * * * *  \n",
            "* * * * *  \n",
            " * * * *  \n",
            "  * * *  \n",
            "   * *  \n",
            "    *  \n",
            "      \n"
          ]
        }
      ]
    },
    {
      "cell_type": "code",
      "source": [
        "#Hollow Pyramid Pattern:\n",
        "for i in range(1,6):\n",
        "  for j in range(1,5-i+1):\n",
        "    print(\" \",end=\"\")\n",
        "  for k in range(1,i+1):\n",
        "    if k==1 or k==i or i==5:\n",
        "      print(\"*\",end=\" \")\n",
        "    else:\n",
        "      print(\" \",end=\" \")\n",
        "  print(\" \")"
      ],
      "metadata": {
        "colab": {
          "base_uri": "https://localhost:8080/"
        },
        "id": "lQL2pgPFTsuy",
        "outputId": "50ee18cf-6d08-44fa-c5dd-03f9bbbb7c36"
      },
      "execution_count": null,
      "outputs": [
        {
          "output_type": "stream",
          "name": "stdout",
          "text": [
            "    *  \n",
            "   * *  \n",
            "  *   *  \n",
            " *     *  \n",
            "* * * * *  \n"
          ]
        }
      ]
    },
    {
      "cell_type": "code",
      "source": [
        "#Hollow Inverted Pyramid Pattern:\n",
        "for i in range(1,6):  # i = 1 to 5\n",
        "  for j in range(1,i+1):\n",
        "    print(\" \",end=\"\")  # Leading spaces\n",
        "  for k in range(0,5-i+1):  # Decreasing stars per row\n",
        "    if k==0 or k==5-i or i==1:\n",
        "      print(\"*\",end=\" \")  # Print border or bottom row\n",
        "    else:\n",
        "      print(\" \",end=\" \")  # Hollow space\n",
        "  print(\" \")"
      ],
      "metadata": {
        "colab": {
          "base_uri": "https://localhost:8080/"
        },
        "id": "5Ad8l487Tz1j",
        "outputId": "f8ea168e-8e1e-430e-dcdb-5edb75aab213"
      },
      "execution_count": null,
      "outputs": [
        {
          "output_type": "stream",
          "name": "stdout",
          "text": [
            " * * * * *  \n",
            "  *     *  \n",
            "   *   *  \n",
            "    * *  \n",
            "     *  \n"
          ]
        }
      ]
    },
    {
      "cell_type": "code",
      "source": [
        "for i in range(1,6):\n",
        "  for j in range(1,5-i+1):\n",
        "    print(\" \",end=\"\")\n",
        "  for k in range(1,i+1):\n",
        "    print(k,end=\" \")\n",
        "  print(\" \")"
      ],
      "metadata": {
        "colab": {
          "base_uri": "https://localhost:8080/"
        },
        "id": "vLn9meukUysP",
        "outputId": "e5c3804e-8372-4601-9836-4f46245e22b3"
      },
      "execution_count": null,
      "outputs": [
        {
          "output_type": "stream",
          "name": "stdout",
          "text": [
            "    1  \n",
            "   1 2  \n",
            "  1 2 3  \n",
            " 1 2 3 4  \n",
            "1 2 3 4 5  \n"
          ]
        }
      ]
    },
    {
      "cell_type": "code",
      "source": [
        "for i in range(1,6):\n",
        "  for j in range(1,i+1):\n",
        "    print(\" \",end=\"\")\n",
        "  for k in range(0,5-i+1):\n",
        "    print(k+1,end=\" \")\n",
        "  print(\" \")"
      ],
      "metadata": {
        "colab": {
          "base_uri": "https://localhost:8080/"
        },
        "id": "L_1IpUBhXu6O",
        "outputId": "7c1e5f7a-069e-4f14-c47f-50e55b451af2"
      },
      "execution_count": null,
      "outputs": [
        {
          "output_type": "stream",
          "name": "stdout",
          "text": [
            " 1 2 3 4 5  \n",
            "  1 2 3 4  \n",
            "   1 2 3  \n",
            "    1 2  \n",
            "     1  \n"
          ]
        }
      ]
    },
    {
      "cell_type": "code",
      "source": [
        "# No Gapping Pyramid Pattern from 1 to 9 stars:\n",
        "\n",
        "for i in range(1, 6):  # Outer loop for rows\n",
        "    for j in range(5  - i):  # Inner loop for spaces\n",
        "        print(\" \", end=\" \")\n",
        "    for k in range(1, 2 * i):  # Inner loop for stars\n",
        "        print(\"*\", end=\" \")\n",
        "    print()"
      ],
      "metadata": {
        "id": "bK_qSsafX8u2",
        "colab": {
          "base_uri": "https://localhost:8080/"
        },
        "outputId": "b2e4ad5d-6903-44cf-e001-0861aa43bf49"
      },
      "execution_count": null,
      "outputs": [
        {
          "output_type": "stream",
          "name": "stdout",
          "text": [
            "        * \n",
            "      * * * \n",
            "    * * * * * \n",
            "  * * * * * * * \n",
            "* * * * * * * * * \n"
          ]
        }
      ]
    },
    {
      "cell_type": "code",
      "source": [
        "# No Gapping Inverted Pyramid Pattern from 1 to 9 stars:\n",
        "\n",
        "for i in range(5 , 0, -1):  # Outer loop for rows in reverse\n",
        "    for j in range(5  - i):  # Inner loop for spaces\n",
        "        print(\" \", end=\" \")\n",
        "    for k in range(1, 2 * i):  # Inner loop for stars\n",
        "        print(\"*\", end=\" \")\n",
        "    print()  # Move to the next line"
      ],
      "metadata": {
        "colab": {
          "base_uri": "https://localhost:8080/"
        },
        "id": "fmquEhGIGGNs",
        "outputId": "a74773b3-749c-4dc7-f23d-7e7ee55c92fb"
      },
      "execution_count": null,
      "outputs": [
        {
          "output_type": "stream",
          "name": "stdout",
          "text": [
            "* * * * * * * * * \n",
            "  * * * * * * * \n",
            "    * * * * * \n",
            "      * * * \n",
            "        * \n"
          ]
        }
      ]
    },
    {
      "cell_type": "code",
      "source": [
        "for i in range(1,6):  # Upper part of diamond\n",
        "    for j in range(5 - i):\n",
        "        print(\" \", end=\" \")\n",
        "    for k in range(1, 2 * i):\n",
        "        print(\"*\", end=\" \")\n",
        "    print()\n",
        "for i in range(5 - 1, 0, -1):  # Lower part of diamond\n",
        "    for j in range(5 - i):\n",
        "        print(\" \", end=\" \")\n",
        "    for k in range(1, 2 * i):\n",
        "        print(\"*\", end=\" \")\n",
        "    print()"
      ],
      "metadata": {
        "colab": {
          "base_uri": "https://localhost:8080/"
        },
        "id": "fW-_p05lHgnx",
        "outputId": "95604a10-8520-4dad-ff97-efb2edea61ae"
      },
      "execution_count": null,
      "outputs": [
        {
          "output_type": "stream",
          "name": "stdout",
          "text": [
            "        * \n",
            "      * * * \n",
            "    * * * * * \n",
            "  * * * * * * * \n",
            "* * * * * * * * * \n",
            "  * * * * * * * \n",
            "    * * * * * \n",
            "      * * * \n",
            "        * \n"
          ]
        }
      ]
    },
    {
      "cell_type": "code",
      "source": [
        "rows = int(input(\"Enter the row size for the pattern: \"))\n",
        "for i in range(1, rows + 1):  # Upper part of diamond\n",
        "    for j in range(rows - i):\n",
        "        print(\" \", end=\" \")\n",
        "    for k in range(1, 2 * i):\n",
        "        if k == 1 or k == 2 * i - 1:  # Print star on borders\n",
        "            print(\"*\", end=\" \")\n",
        "        else:\n",
        "            print(\" \", end=\" \")  # Print space inside\n",
        "    print()\n",
        "for i in range(rows - 1, 0, -1):  # Lower part of diamond\n",
        "    for j in range(rows - i):\n",
        "        print(\" \", end=\" \")\n",
        "    for k in range(1, 2 * i):\n",
        "        if k == 1 or k == 2 * i - 1:  # Print star on borders\n",
        "            print(\"*\", end=\" \")\n",
        "        else:\n",
        "            print(\" \", end=\" \")  # Print space inside\n",
        "    print()"
      ],
      "metadata": {
        "colab": {
          "base_uri": "https://localhost:8080/"
        },
        "id": "NR21Z_TXH8rY",
        "outputId": "bead4188-61fa-4433-fc09-aea25a032cd7"
      },
      "execution_count": null,
      "outputs": [
        {
          "output_type": "stream",
          "name": "stdout",
          "text": [
            "Enter the row size for the pattern: 5\n",
            "        * \n",
            "      *   * \n",
            "    *       * \n",
            "  *           * \n",
            "*               * \n",
            "  *           * \n",
            "    *       * \n",
            "      *   * \n",
            "        * \n"
          ]
        }
      ]
    },
    {
      "cell_type": "code",
      "source": [],
      "metadata": {
        "id": "rM8mHbjGIseR"
      },
      "execution_count": null,
      "outputs": []
    }
  ]
}