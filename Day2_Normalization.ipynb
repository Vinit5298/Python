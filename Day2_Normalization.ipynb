{
  "cells": [
    {
      "cell_type": "markdown",
      "metadata": {
        "id": "view-in-github",
        "colab_type": "text"
      },
      "source": [
        "<a href=\"https://colab.research.google.com/github/Vinit5298/Python/blob/main/Day2_Normalization.ipynb\" target=\"_parent\"><img src=\"https://colab.research.google.com/assets/colab-badge.svg\" alt=\"Open In Colab\"/></a>"
      ]
    },
    {
      "cell_type": "code",
      "execution_count": null,
      "id": "6645b2c2",
      "metadata": {
        "id": "6645b2c2",
        "outputId": "ff84826a-a0d2-4202-cfb5-a7035a236cc1"
      },
      "outputs": [
        {
          "data": {
            "text/html": [
              "<div>\n",
              "<style scoped>\n",
              "    .dataframe tbody tr th:only-of-type {\n",
              "        vertical-align: middle;\n",
              "    }\n",
              "\n",
              "    .dataframe tbody tr th {\n",
              "        vertical-align: top;\n",
              "    }\n",
              "\n",
              "    .dataframe thead th {\n",
              "        text-align: right;\n",
              "    }\n",
              "</style>\n",
              "<table border=\"1\" class=\"dataframe\">\n",
              "  <thead>\n",
              "    <tr style=\"text-align: right;\">\n",
              "      <th></th>\n",
              "      <th>age</th>\n",
              "      <th>gender</th>\n",
              "      <th>fever</th>\n",
              "      <th>cough</th>\n",
              "      <th>city</th>\n",
              "      <th>has_covid</th>\n",
              "    </tr>\n",
              "  </thead>\n",
              "  <tbody>\n",
              "    <tr>\n",
              "      <th>0</th>\n",
              "      <td>60</td>\n",
              "      <td>Male</td>\n",
              "      <td>103.0</td>\n",
              "      <td>Mild</td>\n",
              "      <td>Kolkata</td>\n",
              "      <td>No</td>\n",
              "    </tr>\n",
              "    <tr>\n",
              "      <th>1</th>\n",
              "      <td>27</td>\n",
              "      <td>Male</td>\n",
              "      <td>100.0</td>\n",
              "      <td>Mild</td>\n",
              "      <td>Delhi</td>\n",
              "      <td>Yes</td>\n",
              "    </tr>\n",
              "  </tbody>\n",
              "</table>\n",
              "</div>"
            ],
            "text/plain": [
              "   age gender  fever cough     city has_covid\n",
              "0   60   Male  103.0  Mild  Kolkata        No\n",
              "1   27   Male  100.0  Mild    Delhi       Yes"
            ]
          },
          "execution_count": 53,
          "metadata": {},
          "output_type": "execute_result"
        }
      ],
      "source": [
        "import numpy as np\n",
        "import pandas as pd\n",
        "df = pd.read_csv(r\"C:\\Users\\vinit\\Downloads\\covid_toy.csv\")\n",
        "df.head(2)"
      ]
    },
    {
      "cell_type": "markdown",
      "id": "bb1d5aa0",
      "metadata": {
        "id": "bb1d5aa0"
      },
      "source": [
        "# Normalization:\n",
        "* Data's minimum value = 0\n",
        "* and maximum value  = 1"
      ]
    },
    {
      "cell_type": "code",
      "execution_count": null,
      "id": "8e0362bf",
      "metadata": {
        "id": "8e0362bf"
      },
      "outputs": [],
      "source": [
        "import numpy as np\n",
        "import pandas as pd"
      ]
    },
    {
      "cell_type": "code",
      "execution_count": null,
      "id": "bc93c56a",
      "metadata": {
        "id": "bc93c56a",
        "outputId": "8bb5ea40-1176-4919-c919-e02fce21b159"
      },
      "outputs": [
        {
          "data": {
            "text/html": [
              "<div>\n",
              "<style scoped>\n",
              "    .dataframe tbody tr th:only-of-type {\n",
              "        vertical-align: middle;\n",
              "    }\n",
              "\n",
              "    .dataframe tbody tr th {\n",
              "        vertical-align: top;\n",
              "    }\n",
              "\n",
              "    .dataframe thead th {\n",
              "        text-align: right;\n",
              "    }\n",
              "</style>\n",
              "<table border=\"1\" class=\"dataframe\">\n",
              "  <thead>\n",
              "    <tr style=\"text-align: right;\">\n",
              "      <th></th>\n",
              "      <th>age</th>\n",
              "      <th>gender</th>\n",
              "      <th>fever</th>\n",
              "      <th>cough</th>\n",
              "      <th>city</th>\n",
              "      <th>has_covid</th>\n",
              "    </tr>\n",
              "  </thead>\n",
              "  <tbody>\n",
              "    <tr>\n",
              "      <th>0</th>\n",
              "      <td>60</td>\n",
              "      <td>Male</td>\n",
              "      <td>103.0</td>\n",
              "      <td>Mild</td>\n",
              "      <td>Kolkata</td>\n",
              "      <td>No</td>\n",
              "    </tr>\n",
              "    <tr>\n",
              "      <th>1</th>\n",
              "      <td>27</td>\n",
              "      <td>Male</td>\n",
              "      <td>100.0</td>\n",
              "      <td>Mild</td>\n",
              "      <td>Delhi</td>\n",
              "      <td>Yes</td>\n",
              "    </tr>\n",
              "  </tbody>\n",
              "</table>\n",
              "</div>"
            ],
            "text/plain": [
              "   age gender  fever cough     city has_covid\n",
              "0   60   Male  103.0  Mild  Kolkata        No\n",
              "1   27   Male  100.0  Mild    Delhi       Yes"
            ]
          },
          "execution_count": 55,
          "metadata": {},
          "output_type": "execute_result"
        }
      ],
      "source": [
        "df.head(2)"
      ]
    },
    {
      "cell_type": "code",
      "execution_count": null,
      "id": "c22c5cd6",
      "metadata": {
        "id": "c22c5cd6"
      },
      "outputs": [],
      "source": [
        "from sklearn.impute import SimpleImputer"
      ]
    },
    {
      "cell_type": "code",
      "execution_count": null,
      "id": "6aa1807c",
      "metadata": {
        "id": "6aa1807c"
      },
      "outputs": [],
      "source": [
        "si = SimpleImputer(strategy='mean')"
      ]
    },
    {
      "cell_type": "code",
      "execution_count": null,
      "id": "b36e41dd",
      "metadata": {
        "id": "b36e41dd"
      },
      "outputs": [],
      "source": [
        "df['fever'] = si.fit_transform(df[['fever']])"
      ]
    },
    {
      "cell_type": "code",
      "execution_count": null,
      "id": "8330b336",
      "metadata": {
        "id": "8330b336",
        "outputId": "cb0b0fe1-547a-4d21-9068-99df05d167b3"
      },
      "outputs": [
        {
          "data": {
            "text/html": [
              "<div>\n",
              "<style scoped>\n",
              "    .dataframe tbody tr th:only-of-type {\n",
              "        vertical-align: middle;\n",
              "    }\n",
              "\n",
              "    .dataframe tbody tr th {\n",
              "        vertical-align: top;\n",
              "    }\n",
              "\n",
              "    .dataframe thead th {\n",
              "        text-align: right;\n",
              "    }\n",
              "</style>\n",
              "<table border=\"1\" class=\"dataframe\">\n",
              "  <thead>\n",
              "    <tr style=\"text-align: right;\">\n",
              "      <th></th>\n",
              "      <th>age</th>\n",
              "      <th>gender</th>\n",
              "      <th>fever</th>\n",
              "      <th>cough</th>\n",
              "      <th>city</th>\n",
              "      <th>has_covid</th>\n",
              "    </tr>\n",
              "  </thead>\n",
              "  <tbody>\n",
              "    <tr>\n",
              "      <th>0</th>\n",
              "      <td>60</td>\n",
              "      <td>Male</td>\n",
              "      <td>103.0</td>\n",
              "      <td>Mild</td>\n",
              "      <td>Kolkata</td>\n",
              "      <td>No</td>\n",
              "    </tr>\n",
              "    <tr>\n",
              "      <th>1</th>\n",
              "      <td>27</td>\n",
              "      <td>Male</td>\n",
              "      <td>100.0</td>\n",
              "      <td>Mild</td>\n",
              "      <td>Delhi</td>\n",
              "      <td>Yes</td>\n",
              "    </tr>\n",
              "  </tbody>\n",
              "</table>\n",
              "</div>"
            ],
            "text/plain": [
              "   age gender  fever cough     city has_covid\n",
              "0   60   Male  103.0  Mild  Kolkata        No\n",
              "1   27   Male  100.0  Mild    Delhi       Yes"
            ]
          },
          "execution_count": 59,
          "metadata": {},
          "output_type": "execute_result"
        }
      ],
      "source": [
        "df.head(2)"
      ]
    },
    {
      "cell_type": "markdown",
      "id": "c7c537d7",
      "metadata": {
        "id": "c7c537d7"
      },
      "source": [
        "Encoding --> Transform your categorial data into Numerical data."
      ]
    },
    {
      "cell_type": "code",
      "execution_count": null,
      "id": "160d4eaa",
      "metadata": {
        "id": "160d4eaa"
      },
      "outputs": [],
      "source": [
        "from sklearn.preprocessing import LabelEncoder"
      ]
    },
    {
      "cell_type": "code",
      "execution_count": null,
      "id": "8ace2b98",
      "metadata": {
        "id": "8ace2b98"
      },
      "outputs": [],
      "source": [
        "lb = LabelEncoder()"
      ]
    },
    {
      "cell_type": "code",
      "execution_count": null,
      "id": "afefdaf2",
      "metadata": {
        "id": "afefdaf2"
      },
      "outputs": [],
      "source": [
        "df['gender'] = lb.fit_transform(df['gender'])\n",
        "df['cough'] = lb.fit_transform(df['cough'])\n",
        "df['city'] = lb.fit_transform(df['city'])\n",
        "df['has_covid'] = lb.fit_transform(df['has_covid'])"
      ]
    },
    {
      "cell_type": "code",
      "execution_count": null,
      "id": "b237a403",
      "metadata": {
        "id": "b237a403",
        "outputId": "04d4ac35-1c9b-4b27-f0fe-66294d679e79"
      },
      "outputs": [
        {
          "data": {
            "text/html": [
              "<div>\n",
              "<style scoped>\n",
              "    .dataframe tbody tr th:only-of-type {\n",
              "        vertical-align: middle;\n",
              "    }\n",
              "\n",
              "    .dataframe tbody tr th {\n",
              "        vertical-align: top;\n",
              "    }\n",
              "\n",
              "    .dataframe thead th {\n",
              "        text-align: right;\n",
              "    }\n",
              "</style>\n",
              "<table border=\"1\" class=\"dataframe\">\n",
              "  <thead>\n",
              "    <tr style=\"text-align: right;\">\n",
              "      <th></th>\n",
              "      <th>age</th>\n",
              "      <th>gender</th>\n",
              "      <th>fever</th>\n",
              "      <th>cough</th>\n",
              "      <th>city</th>\n",
              "      <th>has_covid</th>\n",
              "    </tr>\n",
              "  </thead>\n",
              "  <tbody>\n",
              "    <tr>\n",
              "      <th>0</th>\n",
              "      <td>60</td>\n",
              "      <td>1</td>\n",
              "      <td>103.0</td>\n",
              "      <td>0</td>\n",
              "      <td>2</td>\n",
              "      <td>0</td>\n",
              "    </tr>\n",
              "    <tr>\n",
              "      <th>1</th>\n",
              "      <td>27</td>\n",
              "      <td>1</td>\n",
              "      <td>100.0</td>\n",
              "      <td>0</td>\n",
              "      <td>1</td>\n",
              "      <td>1</td>\n",
              "    </tr>\n",
              "  </tbody>\n",
              "</table>\n",
              "</div>"
            ],
            "text/plain": [
              "   age  gender  fever  cough  city  has_covid\n",
              "0   60       1  103.0      0     2          0\n",
              "1   27       1  100.0      0     1          1"
            ]
          },
          "execution_count": 63,
          "metadata": {},
          "output_type": "execute_result"
        }
      ],
      "source": [
        "df.head(2)"
      ]
    },
    {
      "cell_type": "code",
      "execution_count": null,
      "id": "cc42b90d",
      "metadata": {
        "id": "cc42b90d"
      },
      "outputs": [],
      "source": [
        "x = df.drop(columns=['has_covid'])\n",
        "y = df['has_covid']"
      ]
    },
    {
      "cell_type": "code",
      "execution_count": null,
      "id": "e253c2e7",
      "metadata": {
        "id": "e253c2e7"
      },
      "outputs": [],
      "source": [
        "from sklearn.model_selection import train_test_split\n",
        "\n",
        "# Example test_size filled in\n",
        "x_train, x_test, y_train, y_test = train_test_split(x, y, test_size=0.2, random_state=42)\n"
      ]
    },
    {
      "cell_type": "code",
      "execution_count": null,
      "id": "34c26c8b",
      "metadata": {
        "id": "34c26c8b",
        "outputId": "8bed0f84-c68e-41ad-9fcd-67550af731d2"
      },
      "outputs": [
        {
          "data": {
            "text/html": [
              "<div>\n",
              "<style scoped>\n",
              "    .dataframe tbody tr th:only-of-type {\n",
              "        vertical-align: middle;\n",
              "    }\n",
              "\n",
              "    .dataframe tbody tr th {\n",
              "        vertical-align: top;\n",
              "    }\n",
              "\n",
              "    .dataframe thead th {\n",
              "        text-align: right;\n",
              "    }\n",
              "</style>\n",
              "<table border=\"1\" class=\"dataframe\">\n",
              "  <thead>\n",
              "    <tr style=\"text-align: right;\">\n",
              "      <th></th>\n",
              "      <th>age</th>\n",
              "      <th>gender</th>\n",
              "      <th>fever</th>\n",
              "      <th>cough</th>\n",
              "      <th>city</th>\n",
              "    </tr>\n",
              "  </thead>\n",
              "  <tbody>\n",
              "    <tr>\n",
              "      <th>count</th>\n",
              "      <td>80.00</td>\n",
              "      <td>80.00</td>\n",
              "      <td>80.00</td>\n",
              "      <td>80.00</td>\n",
              "      <td>80.00</td>\n",
              "    </tr>\n",
              "    <tr>\n",
              "      <th>mean</th>\n",
              "      <td>42.91</td>\n",
              "      <td>0.41</td>\n",
              "      <td>100.98</td>\n",
              "      <td>0.40</td>\n",
              "      <td>1.30</td>\n",
              "    </tr>\n",
              "    <tr>\n",
              "      <th>std</th>\n",
              "      <td>24.47</td>\n",
              "      <td>0.50</td>\n",
              "      <td>1.93</td>\n",
              "      <td>0.49</td>\n",
              "      <td>1.12</td>\n",
              "    </tr>\n",
              "    <tr>\n",
              "      <th>min</th>\n",
              "      <td>5.00</td>\n",
              "      <td>0.00</td>\n",
              "      <td>98.00</td>\n",
              "      <td>0.00</td>\n",
              "      <td>0.00</td>\n",
              "    </tr>\n",
              "    <tr>\n",
              "      <th>25%</th>\n",
              "      <td>20.00</td>\n",
              "      <td>0.00</td>\n",
              "      <td>100.00</td>\n",
              "      <td>0.00</td>\n",
              "      <td>0.00</td>\n",
              "    </tr>\n",
              "    <tr>\n",
              "      <th>50%</th>\n",
              "      <td>42.00</td>\n",
              "      <td>0.00</td>\n",
              "      <td>101.00</td>\n",
              "      <td>0.00</td>\n",
              "      <td>1.00</td>\n",
              "    </tr>\n",
              "    <tr>\n",
              "      <th>75%</th>\n",
              "      <td>65.00</td>\n",
              "      <td>1.00</td>\n",
              "      <td>102.00</td>\n",
              "      <td>1.00</td>\n",
              "      <td>2.00</td>\n",
              "    </tr>\n",
              "    <tr>\n",
              "      <th>max</th>\n",
              "      <td>84.00</td>\n",
              "      <td>1.00</td>\n",
              "      <td>104.00</td>\n",
              "      <td>1.00</td>\n",
              "      <td>3.00</td>\n",
              "    </tr>\n",
              "  </tbody>\n",
              "</table>\n",
              "</div>"
            ],
            "text/plain": [
              "         age  gender   fever  cough   city\n",
              "count  80.00   80.00   80.00  80.00  80.00\n",
              "mean   42.91    0.41  100.98   0.40   1.30\n",
              "std    24.47    0.50    1.93   0.49   1.12\n",
              "min     5.00    0.00   98.00   0.00   0.00\n",
              "25%    20.00    0.00  100.00   0.00   0.00\n",
              "50%    42.00    0.00  101.00   0.00   1.00\n",
              "75%    65.00    1.00  102.00   1.00   2.00\n",
              "max    84.00    1.00  104.00   1.00   3.00"
            ]
          },
          "execution_count": 69,
          "metadata": {},
          "output_type": "execute_result"
        }
      ],
      "source": [
        "np.round(x_train.describe(),2)"
      ]
    },
    {
      "cell_type": "code",
      "execution_count": null,
      "id": "372a36c4",
      "metadata": {
        "id": "372a36c4"
      },
      "outputs": [],
      "source": [
        "from sklearn.preprocessing import MinMaxScaler\n",
        "import numpy as np\n",
        "import pandas as pd"
      ]
    },
    {
      "cell_type": "code",
      "execution_count": null,
      "id": "d1b8e1b8",
      "metadata": {
        "id": "d1b8e1b8"
      },
      "outputs": [],
      "source": [
        "mn = MinMaxScaler()"
      ]
    },
    {
      "cell_type": "code",
      "execution_count": null,
      "id": "054faab8",
      "metadata": {
        "id": "054faab8"
      },
      "outputs": [],
      "source": [
        "x_train_mn = mn.fit_transform(x_train)"
      ]
    },
    {
      "cell_type": "code",
      "execution_count": null,
      "id": "1964bdb7",
      "metadata": {
        "id": "1964bdb7"
      },
      "outputs": [],
      "source": [
        "x_train_new = pd.DataFrame(x_train_mn, columns=x.columns)"
      ]
    },
    {
      "cell_type": "code",
      "execution_count": null,
      "id": "8e09af25",
      "metadata": {
        "id": "8e09af25",
        "outputId": "77c0fbf5-67ea-4b34-f53f-dda68055338f"
      },
      "outputs": [
        {
          "data": {
            "text/html": [
              "<div>\n",
              "<style scoped>\n",
              "    .dataframe tbody tr th:only-of-type {\n",
              "        vertical-align: middle;\n",
              "    }\n",
              "\n",
              "    .dataframe tbody tr th {\n",
              "        vertical-align: top;\n",
              "    }\n",
              "\n",
              "    .dataframe thead th {\n",
              "        text-align: right;\n",
              "    }\n",
              "</style>\n",
              "<table border=\"1\" class=\"dataframe\">\n",
              "  <thead>\n",
              "    <tr style=\"text-align: right;\">\n",
              "      <th></th>\n",
              "      <th>age</th>\n",
              "      <th>gender</th>\n",
              "      <th>fever</th>\n",
              "      <th>cough</th>\n",
              "      <th>city</th>\n",
              "    </tr>\n",
              "  </thead>\n",
              "  <tbody>\n",
              "    <tr>\n",
              "      <th>count</th>\n",
              "      <td>80.00</td>\n",
              "      <td>80.00</td>\n",
              "      <td>80.00</td>\n",
              "      <td>80.00</td>\n",
              "      <td>80.00</td>\n",
              "    </tr>\n",
              "    <tr>\n",
              "      <th>mean</th>\n",
              "      <td>0.48</td>\n",
              "      <td>0.41</td>\n",
              "      <td>0.50</td>\n",
              "      <td>0.40</td>\n",
              "      <td>0.43</td>\n",
              "    </tr>\n",
              "    <tr>\n",
              "      <th>std</th>\n",
              "      <td>0.31</td>\n",
              "      <td>0.50</td>\n",
              "      <td>0.32</td>\n",
              "      <td>0.49</td>\n",
              "      <td>0.37</td>\n",
              "    </tr>\n",
              "    <tr>\n",
              "      <th>min</th>\n",
              "      <td>0.00</td>\n",
              "      <td>0.00</td>\n",
              "      <td>0.00</td>\n",
              "      <td>0.00</td>\n",
              "      <td>0.00</td>\n",
              "    </tr>\n",
              "    <tr>\n",
              "      <th>25%</th>\n",
              "      <td>0.19</td>\n",
              "      <td>0.00</td>\n",
              "      <td>0.33</td>\n",
              "      <td>0.00</td>\n",
              "      <td>0.00</td>\n",
              "    </tr>\n",
              "    <tr>\n",
              "      <th>50%</th>\n",
              "      <td>0.47</td>\n",
              "      <td>0.00</td>\n",
              "      <td>0.50</td>\n",
              "      <td>0.00</td>\n",
              "      <td>0.33</td>\n",
              "    </tr>\n",
              "    <tr>\n",
              "      <th>75%</th>\n",
              "      <td>0.76</td>\n",
              "      <td>1.00</td>\n",
              "      <td>0.67</td>\n",
              "      <td>1.00</td>\n",
              "      <td>0.67</td>\n",
              "    </tr>\n",
              "    <tr>\n",
              "      <th>max</th>\n",
              "      <td>1.00</td>\n",
              "      <td>1.00</td>\n",
              "      <td>1.00</td>\n",
              "      <td>1.00</td>\n",
              "      <td>1.00</td>\n",
              "    </tr>\n",
              "  </tbody>\n",
              "</table>\n",
              "</div>"
            ],
            "text/plain": [
              "         age  gender  fever  cough   city\n",
              "count  80.00   80.00  80.00  80.00  80.00\n",
              "mean    0.48    0.41   0.50   0.40   0.43\n",
              "std     0.31    0.50   0.32   0.49   0.37\n",
              "min     0.00    0.00   0.00   0.00   0.00\n",
              "25%     0.19    0.00   0.33   0.00   0.00\n",
              "50%     0.47    0.00   0.50   0.00   0.33\n",
              "75%     0.76    1.00   0.67   1.00   0.67\n",
              "max     1.00    1.00   1.00   1.00   1.00"
            ]
          },
          "execution_count": 77,
          "metadata": {},
          "output_type": "execute_result"
        }
      ],
      "source": [
        "np.round(x_train_new.describe(),2)"
      ]
    },
    {
      "cell_type": "code",
      "execution_count": null,
      "id": "ccfcf12b",
      "metadata": {
        "id": "ccfcf12b",
        "outputId": "cd6c63e1-17f1-41b5-8cd3-825cf4d546e8"
      },
      "outputs": [
        {
          "data": {
            "text/html": [
              "<div>\n",
              "<style scoped>\n",
              "    .dataframe tbody tr th:only-of-type {\n",
              "        vertical-align: middle;\n",
              "    }\n",
              "\n",
              "    .dataframe tbody tr th {\n",
              "        vertical-align: top;\n",
              "    }\n",
              "\n",
              "    .dataframe thead th {\n",
              "        text-align: right;\n",
              "    }\n",
              "</style>\n",
              "<table border=\"1\" class=\"dataframe\">\n",
              "  <thead>\n",
              "    <tr style=\"text-align: right;\">\n",
              "      <th></th>\n",
              "      <th>cgpa</th>\n",
              "      <th>resume_score</th>\n",
              "      <th>placed</th>\n",
              "    </tr>\n",
              "  </thead>\n",
              "  <tbody>\n",
              "    <tr>\n",
              "      <th>0</th>\n",
              "      <td>8.14</td>\n",
              "      <td>6.52</td>\n",
              "      <td>1</td>\n",
              "    </tr>\n",
              "    <tr>\n",
              "      <th>1</th>\n",
              "      <td>6.17</td>\n",
              "      <td>5.17</td>\n",
              "      <td>0</td>\n",
              "    </tr>\n",
              "  </tbody>\n",
              "</table>\n",
              "</div>"
            ],
            "text/plain": [
              "   cgpa  resume_score  placed\n",
              "0  8.14          6.52       1\n",
              "1  6.17          5.17       0"
            ]
          },
          "execution_count": 78,
          "metadata": {},
          "output_type": "execute_result"
        }
      ],
      "source": [
        "import numpy as np\n",
        "import pandas as pd\n",
        "df1 = pd.read_csv(r\"C:\\Users\\vinit\\Downloads\\placement.csv\")\n",
        "df1.head(2)"
      ]
    },
    {
      "cell_type": "code",
      "execution_count": null,
      "id": "e61daef1",
      "metadata": {
        "id": "e61daef1"
      },
      "outputs": [],
      "source": [
        "from sklearn.impute import SimpleImputer"
      ]
    },
    {
      "cell_type": "code",
      "execution_count": null,
      "id": "056e8e20",
      "metadata": {
        "id": "056e8e20"
      },
      "outputs": [],
      "source": [
        "si = SimpleImputer(strategy='mean')"
      ]
    },
    {
      "cell_type": "code",
      "execution_count": null,
      "id": "5b4940ce",
      "metadata": {
        "id": "5b4940ce"
      },
      "outputs": [],
      "source": [
        "# Standardization and Then Normalization:\n",
        "# import from categorial and numerical\n",
        "# data name insurance data\n",
        "# target column = charges\n",
        "# data import --> encode --> Standardization\n",
        "# data import --> encode --> Normalization"
      ]
    },
    {
      "cell_type": "code",
      "execution_count": null,
      "id": "dda1346a",
      "metadata": {
        "id": "dda1346a",
        "outputId": "8998e624-3958-4b70-c1d4-547f86c3f2d3"
      },
      "outputs": [
        {
          "data": {
            "text/html": [
              "<div>\n",
              "<style scoped>\n",
              "    .dataframe tbody tr th:only-of-type {\n",
              "        vertical-align: middle;\n",
              "    }\n",
              "\n",
              "    .dataframe tbody tr th {\n",
              "        vertical-align: top;\n",
              "    }\n",
              "\n",
              "    .dataframe thead th {\n",
              "        text-align: right;\n",
              "    }\n",
              "</style>\n",
              "<table border=\"1\" class=\"dataframe\">\n",
              "  <thead>\n",
              "    <tr style=\"text-align: right;\">\n",
              "      <th></th>\n",
              "      <th>age</th>\n",
              "      <th>sex</th>\n",
              "      <th>bmi</th>\n",
              "      <th>children</th>\n",
              "      <th>smoker</th>\n",
              "      <th>region</th>\n",
              "      <th>charges</th>\n",
              "    </tr>\n",
              "  </thead>\n",
              "  <tbody>\n",
              "    <tr>\n",
              "      <th>0</th>\n",
              "      <td>19</td>\n",
              "      <td>female</td>\n",
              "      <td>27.90</td>\n",
              "      <td>0</td>\n",
              "      <td>yes</td>\n",
              "      <td>southwest</td>\n",
              "      <td>16884.9240</td>\n",
              "    </tr>\n",
              "    <tr>\n",
              "      <th>1</th>\n",
              "      <td>18</td>\n",
              "      <td>male</td>\n",
              "      <td>33.77</td>\n",
              "      <td>1</td>\n",
              "      <td>no</td>\n",
              "      <td>southeast</td>\n",
              "      <td>1725.5523</td>\n",
              "    </tr>\n",
              "  </tbody>\n",
              "</table>\n",
              "</div>"
            ],
            "text/plain": [
              "   age     sex    bmi  children smoker     region     charges\n",
              "0   19  female  27.90         0    yes  southwest  16884.9240\n",
              "1   18    male  33.77         1     no  southeast   1725.5523"
            ]
          },
          "execution_count": 28,
          "metadata": {},
          "output_type": "execute_result"
        }
      ],
      "source": [
        "import numpy as np\n",
        "import pandas as pd\n",
        "df = pd.read_csv(r\"C:\\Users\\vinit\\Downloads\\insurance.csv\")\n",
        "df.head(2)"
      ]
    },
    {
      "cell_type": "code",
      "execution_count": null,
      "id": "dd156ee0",
      "metadata": {
        "id": "dd156ee0",
        "outputId": "191bf9e0-fa04-446b-8e67-c5c98d5d3a21"
      },
      "outputs": [
        {
          "data": {
            "text/plain": [
              "(1338, 6)"
            ]
          },
          "execution_count": 29,
          "metadata": {},
          "output_type": "execute_result"
        }
      ],
      "source": [
        "x = df.drop(columns = ['charges']) # Input data\n",
        "x.shape"
      ]
    },
    {
      "cell_type": "code",
      "execution_count": null,
      "id": "9bdef4c3",
      "metadata": {
        "id": "9bdef4c3",
        "outputId": "2036cb7b-628d-4f28-b251-7e71a079fe6e"
      },
      "outputs": [
        {
          "data": {
            "text/plain": [
              "(1338,)"
            ]
          },
          "execution_count": 30,
          "metadata": {},
          "output_type": "execute_result"
        }
      ],
      "source": [
        "y = df['charges'] # target data\n",
        "y.shape"
      ]
    },
    {
      "cell_type": "code",
      "execution_count": null,
      "id": "c4fa0433",
      "metadata": {
        "id": "c4fa0433",
        "outputId": "2838ea6f-b88d-4550-d08d-0fe16490c239"
      },
      "outputs": [
        {
          "name": "stdout",
          "output_type": "stream",
          "text": [
            "Total data shape:(1338, 7), x data shape: (1338, 6), y data shape: (1338,)\n",
            "x_train shape: (1070, 6)\n",
            "x_test shape: (268, 6)\n",
            "y_train shape: (1070,)\n",
            "y_test shape: (268,)\n"
          ]
        }
      ],
      "source": [
        "from sklearn.model_selection import train_test_split # Library\n",
        "x_train, x_test, y_train, y_test = train_test_split(x, y,\n",
        "                                                    test_size = 0.2,\n",
        "                                                    random_state = 56)\n",
        "print(f\"Total data shape:{df.shape}, x data shape: {x.shape}, y data shape: {y.shape}\")\n",
        "print(f\"x_train shape: {x_train.shape}\")\n",
        "print(f\"x_test shape: {x_test.shape}\")\n",
        "print(f\"y_train shape: {y_train.shape}\")\n",
        "print(f\"y_test shape: {y_test.shape}\")"
      ]
    },
    {
      "cell_type": "code",
      "execution_count": null,
      "id": "c61fae20",
      "metadata": {
        "id": "c61fae20",
        "outputId": "0c02b3c2-b470-4972-9a70-fd20551818a2"
      },
      "outputs": [
        {
          "data": {
            "text/html": [
              "<div>\n",
              "<style scoped>\n",
              "    .dataframe tbody tr th:only-of-type {\n",
              "        vertical-align: middle;\n",
              "    }\n",
              "\n",
              "    .dataframe tbody tr th {\n",
              "        vertical-align: top;\n",
              "    }\n",
              "\n",
              "    .dataframe thead th {\n",
              "        text-align: right;\n",
              "    }\n",
              "</style>\n",
              "<table border=\"1\" class=\"dataframe\">\n",
              "  <thead>\n",
              "    <tr style=\"text-align: right;\">\n",
              "      <th></th>\n",
              "      <th>age</th>\n",
              "      <th>bmi</th>\n",
              "      <th>children</th>\n",
              "    </tr>\n",
              "  </thead>\n",
              "  <tbody>\n",
              "    <tr>\n",
              "      <th>count</th>\n",
              "      <td>1070.00</td>\n",
              "      <td>1070.00</td>\n",
              "      <td>1070.00</td>\n",
              "    </tr>\n",
              "    <tr>\n",
              "      <th>mean</th>\n",
              "      <td>39.52</td>\n",
              "      <td>30.71</td>\n",
              "      <td>1.09</td>\n",
              "    </tr>\n",
              "    <tr>\n",
              "      <th>std</th>\n",
              "      <td>14.04</td>\n",
              "      <td>6.09</td>\n",
              "      <td>1.21</td>\n",
              "    </tr>\n",
              "    <tr>\n",
              "      <th>min</th>\n",
              "      <td>18.00</td>\n",
              "      <td>16.82</td>\n",
              "      <td>0.00</td>\n",
              "    </tr>\n",
              "    <tr>\n",
              "      <th>25%</th>\n",
              "      <td>27.00</td>\n",
              "      <td>26.22</td>\n",
              "      <td>0.00</td>\n",
              "    </tr>\n",
              "    <tr>\n",
              "      <th>50%</th>\n",
              "      <td>40.00</td>\n",
              "      <td>30.50</td>\n",
              "      <td>1.00</td>\n",
              "    </tr>\n",
              "    <tr>\n",
              "      <th>75%</th>\n",
              "      <td>52.00</td>\n",
              "      <td>34.80</td>\n",
              "      <td>2.00</td>\n",
              "    </tr>\n",
              "    <tr>\n",
              "      <th>max</th>\n",
              "      <td>64.00</td>\n",
              "      <td>53.13</td>\n",
              "      <td>5.00</td>\n",
              "    </tr>\n",
              "  </tbody>\n",
              "</table>\n",
              "</div>"
            ],
            "text/plain": [
              "           age      bmi  children\n",
              "count  1070.00  1070.00   1070.00\n",
              "mean     39.52    30.71      1.09\n",
              "std      14.04     6.09      1.21\n",
              "min      18.00    16.82      0.00\n",
              "25%      27.00    26.22      0.00\n",
              "50%      40.00    30.50      1.00\n",
              "75%      52.00    34.80      2.00\n",
              "max      64.00    53.13      5.00"
            ]
          },
          "execution_count": 32,
          "metadata": {},
          "output_type": "execute_result"
        }
      ],
      "source": [
        "np.round(x_train.describe(),2)"
      ]
    },
    {
      "cell_type": "code",
      "execution_count": null,
      "id": "0fa17738",
      "metadata": {
        "id": "0fa17738"
      },
      "outputs": [],
      "source": [
        "df['sex'].value_counts()\n",
        "df['sex'] = df['sex'].map({\"female\":0,\"male\":1})\n",
        "df['smoker'].value_counts()\n",
        "df['smoker'] = df['smoker'].map({\"no\":0,\"yes\":1})\n",
        "df['region'].value_counts()\n",
        "df['region'] = df['region'].map({\"southwest\":0,\"southeast\":1,\"northwest\":2,\"northeast\":3})"
      ]
    },
    {
      "cell_type": "code",
      "execution_count": null,
      "id": "3ae6a033",
      "metadata": {
        "id": "3ae6a033"
      },
      "outputs": [],
      "source": [
        "from sklearn.preprocessing import LabelEncoder\n",
        "\n",
        "le = LabelEncoder()\n",
        "x_train['sex'] = le.fit_transform(x_train['sex'])\n",
        "x_train['smoker'] = le.fit_transform(x_train['smoker'])\n",
        "x_train['region'] = le.fit_transform(x_train['region'])"
      ]
    },
    {
      "cell_type": "code",
      "execution_count": null,
      "id": "2c368db7",
      "metadata": {
        "id": "2c368db7"
      },
      "outputs": [],
      "source": [
        "from sklearn.preprocessing import StandardScaler\n",
        "\n",
        "sc = StandardScaler()\n",
        "x_train_sc = sc.fit_transform(x_train)\n",
        "\n",
        "# Optional: convert back to DataFrame\n",
        "x_train_scaled = pd.DataFrame(x_train_sc, columns=x_train.columns)"
      ]
    },
    {
      "cell_type": "code",
      "execution_count": null,
      "id": "f86950af",
      "metadata": {
        "id": "f86950af",
        "outputId": "58f349c4-2131-40da-833b-6f424693e523"
      },
      "outputs": [
        {
          "data": {
            "text/html": [
              "<div>\n",
              "<style scoped>\n",
              "    .dataframe tbody tr th:only-of-type {\n",
              "        vertical-align: middle;\n",
              "    }\n",
              "\n",
              "    .dataframe tbody tr th {\n",
              "        vertical-align: top;\n",
              "    }\n",
              "\n",
              "    .dataframe thead th {\n",
              "        text-align: right;\n",
              "    }\n",
              "</style>\n",
              "<table border=\"1\" class=\"dataframe\">\n",
              "  <thead>\n",
              "    <tr style=\"text-align: right;\">\n",
              "      <th></th>\n",
              "      <th>age</th>\n",
              "      <th>sex</th>\n",
              "      <th>bmi</th>\n",
              "      <th>children</th>\n",
              "      <th>smoker</th>\n",
              "      <th>region</th>\n",
              "    </tr>\n",
              "  </thead>\n",
              "  <tbody>\n",
              "    <tr>\n",
              "      <th>count</th>\n",
              "      <td>1070.00</td>\n",
              "      <td>1070.00</td>\n",
              "      <td>1070.00</td>\n",
              "      <td>1070.00</td>\n",
              "      <td>1070.00</td>\n",
              "      <td>1070.00</td>\n",
              "    </tr>\n",
              "    <tr>\n",
              "      <th>mean</th>\n",
              "      <td>0.00</td>\n",
              "      <td>0.00</td>\n",
              "      <td>0.00</td>\n",
              "      <td>-0.00</td>\n",
              "      <td>-0.00</td>\n",
              "      <td>-0.00</td>\n",
              "    </tr>\n",
              "    <tr>\n",
              "      <th>std</th>\n",
              "      <td>1.00</td>\n",
              "      <td>1.00</td>\n",
              "      <td>1.00</td>\n",
              "      <td>1.00</td>\n",
              "      <td>1.00</td>\n",
              "      <td>1.00</td>\n",
              "    </tr>\n",
              "    <tr>\n",
              "      <th>min</th>\n",
              "      <td>-1.53</td>\n",
              "      <td>-1.02</td>\n",
              "      <td>-2.28</td>\n",
              "      <td>-0.90</td>\n",
              "      <td>-0.51</td>\n",
              "      <td>-1.38</td>\n",
              "    </tr>\n",
              "    <tr>\n",
              "      <th>25%</th>\n",
              "      <td>-0.89</td>\n",
              "      <td>-1.02</td>\n",
              "      <td>-0.74</td>\n",
              "      <td>-0.90</td>\n",
              "      <td>-0.51</td>\n",
              "      <td>-0.48</td>\n",
              "    </tr>\n",
              "    <tr>\n",
              "      <th>50%</th>\n",
              "      <td>0.03</td>\n",
              "      <td>0.98</td>\n",
              "      <td>-0.03</td>\n",
              "      <td>-0.08</td>\n",
              "      <td>-0.51</td>\n",
              "      <td>0.43</td>\n",
              "    </tr>\n",
              "    <tr>\n",
              "      <th>75%</th>\n",
              "      <td>0.89</td>\n",
              "      <td>0.98</td>\n",
              "      <td>0.67</td>\n",
              "      <td>0.75</td>\n",
              "      <td>-0.51</td>\n",
              "      <td>0.43</td>\n",
              "    </tr>\n",
              "    <tr>\n",
              "      <th>max</th>\n",
              "      <td>1.74</td>\n",
              "      <td>0.98</td>\n",
              "      <td>3.69</td>\n",
              "      <td>3.22</td>\n",
              "      <td>1.94</td>\n",
              "      <td>1.33</td>\n",
              "    </tr>\n",
              "  </tbody>\n",
              "</table>\n",
              "</div>"
            ],
            "text/plain": [
              "           age      sex      bmi  children   smoker   region\n",
              "count  1070.00  1070.00  1070.00   1070.00  1070.00  1070.00\n",
              "mean      0.00     0.00     0.00     -0.00    -0.00    -0.00\n",
              "std       1.00     1.00     1.00      1.00     1.00     1.00\n",
              "min      -1.53    -1.02    -2.28     -0.90    -0.51    -1.38\n",
              "25%      -0.89    -1.02    -0.74     -0.90    -0.51    -0.48\n",
              "50%       0.03     0.98    -0.03     -0.08    -0.51     0.43\n",
              "75%       0.89     0.98     0.67      0.75    -0.51     0.43\n",
              "max       1.74     0.98     3.69      3.22     1.94     1.33"
            ]
          },
          "execution_count": 36,
          "metadata": {},
          "output_type": "execute_result"
        }
      ],
      "source": [
        "x_train_new = pd.DataFrame(x_train_sc, columns = x_train.columns)\n",
        "np.round(x_train_new.describe(),2)"
      ]
    },
    {
      "cell_type": "code",
      "execution_count": null,
      "id": "94df879e",
      "metadata": {
        "id": "94df879e"
      },
      "outputs": [],
      "source": []
    }
  ],
  "metadata": {
    "kernelspec": {
      "display_name": "Python 3",
      "language": "python",
      "name": "python3"
    },
    "language_info": {
      "codemirror_mode": {
        "name": "ipython",
        "version": 3
      },
      "file_extension": ".py",
      "mimetype": "text/x-python",
      "name": "python",
      "nbconvert_exporter": "python",
      "pygments_lexer": "ipython3",
      "version": "3.11.9"
    },
    "colab": {
      "provenance": [],
      "include_colab_link": true
    }
  },
  "nbformat": 4,
  "nbformat_minor": 5
}