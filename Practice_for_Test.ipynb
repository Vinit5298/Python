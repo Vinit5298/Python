{
  "nbformat": 4,
  "nbformat_minor": 0,
  "metadata": {
    "colab": {
      "provenance": [],
      "authorship_tag": "ABX9TyNpBk4H/elWmk3flBQXozfw",
      "include_colab_link": true
    },
    "kernelspec": {
      "name": "python3",
      "display_name": "Python 3"
    },
    "language_info": {
      "name": "python"
    }
  },
  "cells": [
    {
      "cell_type": "markdown",
      "metadata": {
        "id": "view-in-github",
        "colab_type": "text"
      },
      "source": [
        "<a href=\"https://colab.research.google.com/github/Vinit5298/Python/blob/main/Practice_for_Test.ipynb\" target=\"_parent\"><img src=\"https://colab.research.google.com/assets/colab-badge.svg\" alt=\"Open In Colab\"/></a>"
      ]
    },
    {
      "cell_type": "code",
      "execution_count": null,
      "metadata": {
        "colab": {
          "base_uri": "https://localhost:8080/"
        },
        "id": "rJV2ohWRk494",
        "outputId": "603feb58-bfab-4f3c-9e1e-57967049a6cd"
      },
      "outputs": [
        {
          "output_type": "stream",
          "name": "stdout",
          "text": [
            "Enter a Number: 11\n",
            "11 is Odd Number\n"
          ]
        }
      ],
      "source": [
        "# Practice of If Else Statements Questions -------------------------------------------------------------------->\n",
        "# Q1 Write a program that takes an integer input from the user and checks whether the number is odd or\n",
        "# even.\n",
        "\n",
        "n=int(input(\"Enter a Number: \"))\n",
        "if n%2==0:\n",
        "    print(f\"{n} is Even Number\")\n",
        "else:\n",
        "    print(f\"{n} is Odd Number\")"
      ]
    },
    {
      "cell_type": "code",
      "source": [
        "# Q2 Write a program that takes three numbers as input and prints the largest of the three.\n",
        "n1 = int(input(\"Enter a Number: \"))\n",
        "n2 = int(input(\"Enter a Number: \"))\n",
        "n3 = int(input(\"Enter a Number: \"))\n",
        "\n",
        "if n1 >= n2 and n1 >= n3:\n",
        "    print(f\"{n1} is the Largest Number\")\n",
        "elif n2 >= n1 and n2 >= n3:\n",
        "    print(f\"{n2} is the Largest Number\")\n",
        "else:\n",
        "    print(f\"{n3} is the Largest Number\")"
      ],
      "metadata": {
        "colab": {
          "base_uri": "https://localhost:8080/"
        },
        "id": "hxRxGXbGlxgm",
        "outputId": "70e0a7e7-1f34-4ddc-a404-534599e61f9d"
      },
      "execution_count": null,
      "outputs": [
        {
          "output_type": "stream",
          "name": "stdout",
          "text": [
            "Enter a Number: 93\n",
            "Enter a Number: 97\n",
            "Enter a Number: 98\n",
            "98 is the Largest Number\n"
          ]
        }
      ]
    },
    {
      "cell_type": "code",
      "source": [
        "# Q3 Write a program to check if a given year is a leap year. A leap year is divisible by 4 but not by 100\n",
        "# unless it is also divisible by 400.\n",
        "\n",
        "year=int(input(\"Enter a Number: \"))\n",
        "if year%4==0 or year%100==0 or year%400==0:\n",
        "  print(f\"{year} is a Leap Year\")\n",
        "else:\n",
        "  print(f\"{year} is not a Leap Year\")"
      ],
      "metadata": {
        "colab": {
          "base_uri": "https://localhost:8080/"
        },
        "id": "d3oqJovcl8vQ",
        "outputId": "fa64d4c4-47be-4245-e574-fa17d039bd7a"
      },
      "execution_count": null,
      "outputs": [
        {
          "output_type": "stream",
          "name": "stdout",
          "text": [
            "Enter a Number: 1998\n",
            "1998 is not a Leap Year\n"
          ]
        }
      ]
    },
    {
      "cell_type": "code",
      "source": [
        "# Q4 Write a program that takes a percentage (integer) as input and prints the corresponding grade based\n",
        "# on the following criteria:\n",
        "# >= 90: Grade A\n",
        "# >= 80: Grade B\n",
        "# >= 70: Grade C\n",
        "# >= 60: Grade D\n",
        "# < 60: Grade F\n",
        "\n",
        "Percentage=int(input(\"Enter a Percentage: \"))\n",
        "if Percentage >=90:\n",
        "  print(\"Grade A\")\n",
        "elif Percentage >=80:\n",
        "  print(\"Grade B\")\n",
        "elif Percentage >=70:\n",
        "  print(\"Grade C\")\n",
        "elif Percentage >=60:\n",
        "  print(\"Grade D\")\n",
        "else:\n",
        "  print(\"Grade F\")"
      ],
      "metadata": {
        "colab": {
          "base_uri": "https://localhost:8080/"
        },
        "id": "nE2ZqRBOm24u",
        "outputId": "7d429674-85ec-43a3-edf7-cc2d62574847"
      },
      "execution_count": null,
      "outputs": [
        {
          "output_type": "stream",
          "name": "stdout",
          "text": [
            "Enter a Percentage: 52\n",
            "Grade F\n"
          ]
        }
      ]
    },
    {
      "cell_type": "code",
      "source": [
        "# Q5 Write a program that checks if a given letter is a vowel (a, e, i, o, u) or a consonant.\n",
        "\n",
        "letter=input(\"Enter a Letter: \")\n",
        "if letter=='a' or letter=='e' or letter=='i' or letter=='o' or letter=='u':\n",
        "  print(f\"{letter} is a Vowel\")\n",
        "else:\n",
        "  print(f\"{letter} is a Consonant\")"
      ],
      "metadata": {
        "colab": {
          "base_uri": "https://localhost:8080/"
        },
        "id": "iZXwtV1tnNMN",
        "outputId": "3c31c653-44a5-4b5c-b6e1-f22401dd9090"
      },
      "execution_count": null,
      "outputs": [
        {
          "output_type": "stream",
          "name": "stdout",
          "text": [
            "Enter a Letter: u\n",
            "u is a Vowel\n"
          ]
        }
      ]
    },
    {
      "cell_type": "code",
      "source": [
        "# Q6 Write a basic calculator program that takes two numbers and an operator (+, -, *, /) as input and\n",
        "# performs the specified operation. Print the result based on the operation.\n",
        "\n",
        "n1=int(input(\"Enter a Number: \"))\n",
        "n2=int(input(\"Enter a Number: \"))\n",
        "operator=input(\"Enter a Operator: \")\n",
        "\n",
        "if operator=='+':\n",
        "  print(f\"{n1} + {n2} = {n1+n2}\")\n",
        "elif operator=='-':\n",
        "  print(f\"{n1} - {n2} = {n1-n2}\")\n",
        "elif operator=='*':\n",
        "  print(f\"{n1} * {n2} = {n1*n2}\")\n",
        "elif operator=='/':\n",
        "  print(f\"{n1} / {n2} = {n1/n2}\")\n",
        "else:\n",
        "  print(\"Invalid Operator\")"
      ],
      "metadata": {
        "colab": {
          "base_uri": "https://localhost:8080/"
        },
        "id": "Or5mLzDxniEz",
        "outputId": "f144da3d-00d1-461c-e95f-aec5c71423ba"
      },
      "execution_count": null,
      "outputs": [
        {
          "output_type": "stream",
          "name": "stdout",
          "text": [
            "Enter a Number: 54\n",
            "Enter a Number: 65\n",
            "Enter a Operator: *\n",
            "54 * 65 = 3510\n"
          ]
        }
      ]
    },
    {
      "cell_type": "code",
      "source": [
        "# Q7 Write a program that takes a number as input and checks whether it is positive, negative, or zero.\n",
        "\n",
        "n=int(input(\"Enter a Number: \"))\n",
        "\n",
        "if n>0:\n",
        "  print(f\"{n} is a Positive Number\")\n",
        "elif n<0:\n",
        "  print(f\"{n} is a Negative Number\")\n",
        "else:\n",
        "  print(f\"{n} is Zero\")"
      ],
      "metadata": {
        "colab": {
          "base_uri": "https://localhost:8080/"
        },
        "id": "Z6aq4HPVn2S8",
        "outputId": "a1fa24d0-c974-452b-f6a1-303b54580c1f"
      },
      "execution_count": null,
      "outputs": [
        {
          "output_type": "stream",
          "name": "stdout",
          "text": [
            "Enter a Number: -12\n",
            "-12 is a Negative Number\n"
          ]
        }
      ]
    },
    {
      "cell_type": "code",
      "source": [
        "# Q8 Write a program that checks if a username and password entered by the user match the pre-set values\n",
        "# username = \"admin\" and password = \"1234\". If both match, print \"Login Successful\", otherwise print\n",
        "# \"Login Failed\".\n",
        "\n",
        "Original_Username=\"admin\"\n",
        "Original_Password=\"5298\"\n",
        "\n",
        "Username=input(\"Enter Username: \")\n",
        "Password=int(input(\"Enter a Password: \"))\n",
        "\n",
        "if Original_Username==Username or Original_Password==Password:\n",
        "  print(\"Login Successful\")\n",
        "else:\n",
        "  print(\"Login Failed\")"
      ],
      "metadata": {
        "colab": {
          "base_uri": "https://localhost:8080/"
        },
        "id": "qUdgBD2qoYGc",
        "outputId": "2ff007e7-7413-499b-8261-5db80f62bdad"
      },
      "execution_count": null,
      "outputs": [
        {
          "output_type": "stream",
          "name": "stdout",
          "text": [
            "Enter Username: admin\n",
            "Enter a Password: 5298\n",
            "Login Successful\n"
          ]
        }
      ]
    },
    {
      "cell_type": "code",
      "source": [
        "# Q9 Write a program that takes three sides of a triangle as input and checks if those sides form a valid\n",
        "# triangle. A triangle is valid if the sum of any two sides is greater than the third side.\n",
        "# Check conditions like a + b > c, b + c > a, and a + c > b.\n",
        "\n",
        "a=int(input(\"Enter a side: \"))\n",
        "b=int(input(\"Enter a side: \"))\n",
        "c=int(input(\"Enter a side: \"))\n",
        "\n",
        "if a+b>c:\n",
        "  print(\"Valid Triangle\")\n",
        "elif b+c>a:\n",
        "  print(\"Valid Triangle\")\n",
        "elif a+c>b:\n",
        "  print(\"Valid Triangle\")\n",
        "else:\n",
        "  print(\"Not a Valid Triangle\")"
      ],
      "metadata": {
        "colab": {
          "base_uri": "https://localhost:8080/"
        },
        "id": "I_7MjqzapBi5",
        "outputId": "a766fd3c-72b2-4dbe-80b5-e58733a8aff4"
      },
      "execution_count": null,
      "outputs": [
        {
          "output_type": "stream",
          "name": "stdout",
          "text": [
            "Enter a side: 50\n",
            "Enter a side: 60\n",
            "Enter a side: 70\n",
            "Valid Triangle\n"
          ]
        }
      ]
    },
    {
      "cell_type": "code",
      "source": [
        "# Q10 Write a program that calculates the Body Mass Index (BMI) based on user input for weight (in\n",
        "# kilograms) and height (in meters). Then categorize the BMI into:\n",
        "# Underweight (BMI < 18.5)\n",
        "# Normal weight (18.5 <= BMI < 24.9)\n",
        "# Overweight (25 <= BMI < 29.9)\n",
        "# Obesity (BMI >= 30)\n",
        "# Use the formula: BMI = weight / (height ** 2)\n",
        "\n",
        "Weight = float(input(\"Enter your Weight(in Kilograms): \"))\n",
        "height = float(input(\"Enter your Height(in meters): \"))\n",
        "\n",
        "bmi=Weight/(height**2)\n",
        "\n",
        "if bmi<18.5:\n",
        "  print(\"Underweight\")\n",
        "elif 18.5<=bmi<24.9:\n",
        "  print(\"Normal Weight\")\n",
        "elif 25<=bmi<29.9:\n",
        "  print(\"Overweight\")\n",
        "elif bmi>=30:\n",
        "  print(\"Obesity\")\n",
        "else:\n",
        "  print(\"Please Enter Correct weight and height: \")\n",
        "print(\"bmi=\",bmi)"
      ],
      "metadata": {
        "colab": {
          "base_uri": "https://localhost:8080/"
        },
        "id": "DZbawU7qpO5p",
        "outputId": "5fc06268-57a7-4a31-bc90-40f472ada2f0"
      },
      "execution_count": null,
      "outputs": [
        {
          "output_type": "stream",
          "name": "stdout",
          "text": [
            "Enter your Weight(in Kilograms): 81.65\n",
            "Enter your Height(in meters): 1.854\n",
            "Normal Weight\n",
            "bmi= 23.753998759497232\n"
          ]
        }
      ]
    },
    {
      "cell_type": "code",
      "source": [
        "# Q11 Write a program that calculates the discount for a product based on its price:\n",
        "# If price is greater than 1000, discount is 10%\n",
        "# If price is between 500 and 1000, discount is 5%\n",
        "# Otherwise, no discount\n",
        "# Print the final price after applying the discount.\n",
        "\n",
        "price = int(input(\"Enter Price: \"))\n",
        "\n",
        "if price > 1000:\n",
        "    discount = 0.10\n",
        "elif 500 <= price <= 1000:\n",
        "    discount = 0.05\n",
        "else:\n",
        "    discount = 0.00\n",
        "\n",
        "discount_amount = price * discount\n",
        "final_price = price - discount_amount\n",
        "\n",
        "print(\"Actual Price =\", price)\n",
        "print(\"Discount on your Product =\", discount * 100, \"%\")\n",
        "print(\"Final Price of Product =\", final_price)"
      ],
      "metadata": {
        "colab": {
          "base_uri": "https://localhost:8080/"
        },
        "id": "p0giZFUhqHhW",
        "outputId": "00e4effe-191b-4b8f-9ac3-3905c10eb9ac"
      },
      "execution_count": null,
      "outputs": [
        {
          "output_type": "stream",
          "name": "stdout",
          "text": [
            "Enter Price: 2250\n",
            "Actual Price = 2250\n",
            "Discount on your Product = 10.0 %\n",
            "Final Price of Product = 2025.0\n"
          ]
        }
      ]
    },
    {
      "cell_type": "code",
      "source": [
        "# Q14 Write a program that categorizes a given age into different groups:\n",
        "# Infant (0-1 year)\n",
        "# Toddler (2-4 years)\n",
        "# Child (5-12 years)\n",
        "# Teenager (13-19 years)\n",
        "# Adult (20-59 years)\n",
        "# Senior (60 years and above)\n",
        "\n",
        "Age=int(input(\"Enter your Age: \"))\n",
        "\n",
        "if 0<=Age<1:\n",
        "  print(\"Infant\")\n",
        "elif 2<=Age<=4:\n",
        "  print(\"Toddler\")\n",
        "elif 5<=Age<=12:\n",
        "  print(\"Child\")\n",
        "elif 13<=Age<=19:\n",
        "  print(\"Teenager\")\n",
        "elif 20<=Age<=59:\n",
        "  print(\"Adult\")\n",
        "elif Age<60:\n",
        "  print(\"Senior\")\n",
        "else:\n",
        "  print(\"Enter your Age in valid Numeric Form\")"
      ],
      "metadata": {
        "id": "LIf0W9_ptlu6",
        "colab": {
          "base_uri": "https://localhost:8080/"
        },
        "outputId": "05319f8f-c3fc-4df0-c46a-d30909ee6690"
      },
      "execution_count": 1,
      "outputs": [
        {
          "output_type": "stream",
          "name": "stdout",
          "text": [
            "Enter your Age: 27\n",
            "Adult\n"
          ]
        }
      ]
    },
    {
      "cell_type": "code",
      "source": [
        "# Now Practice for the loops Questions. ------------------------------------------>"
      ],
      "metadata": {
        "id": "tVFViKItat6Q"
      },
      "execution_count": 3,
      "outputs": []
    },
    {
      "cell_type": "code",
      "source": [
        "# 1. Write a program to print all natural numbers from 1 to n. – using loop\n",
        "\n",
        "n=int(input(\"Enter a Number: \"))\n",
        "\n",
        "for i in range(1,n+1):\n",
        "  print(i,end=\" \")"
      ],
      "metadata": {
        "colab": {
          "base_uri": "https://localhost:8080/"
        },
        "id": "ij0ejzhja8Xn",
        "outputId": "9471a54a-2a9f-4f4c-c117-6e4b6bcbc124"
      },
      "execution_count": 4,
      "outputs": [
        {
          "output_type": "stream",
          "name": "stdout",
          "text": [
            "Enter a Number: 10\n",
            "1 2 3 4 5 6 7 8 9 10 "
          ]
        }
      ]
    },
    {
      "cell_type": "code",
      "source": [
        "# 2. Write a program to print all natural numbers in reverse (from n to 1). –\n",
        "# using loop\n",
        "\n",
        "n=int(input(\"Enter a Number: \"))\n",
        "\n",
        "for i in range(n,0,-1):\n",
        "  print(i,end=\" \")"
      ],
      "metadata": {
        "colab": {
          "base_uri": "https://localhost:8080/"
        },
        "id": "j3cZUJAnbeKs",
        "outputId": "27321cf8-f5f8-431b-a2e2-6ed9f07dfaa6"
      },
      "execution_count": 5,
      "outputs": [
        {
          "output_type": "stream",
          "name": "stdout",
          "text": [
            "Enter a Number: 10\n",
            "10 9 8 7 6 5 4 3 2 1 "
          ]
        }
      ]
    },
    {
      "cell_type": "code",
      "source": [
        "# 3. Write a program to print all alphabets from a to z. – using loop\n",
        "\n",
        "for i in range(97,123):\n",
        "  print(chr(i),end=\" \")\n",
        "print(\" \")\n",
        "for i in range(65,91):\n",
        "  print(chr(i),end=\" \")"
      ],
      "metadata": {
        "colab": {
          "base_uri": "https://localhost:8080/"
        },
        "id": "vwO2jbSxbrLg",
        "outputId": "3f77192f-defe-4cac-9f88-e539a29a736b"
      },
      "execution_count": 11,
      "outputs": [
        {
          "output_type": "stream",
          "name": "stdout",
          "text": [
            "a b c d e f g h i j k l m n o p q r s t u v w x y z  \n",
            "A B C D E F G H I J K L M N O P Q R S T U V W X Y Z "
          ]
        }
      ]
    },
    {
      "cell_type": "code",
      "source": [
        "# 4. Write a program to print all even numbers between 1 to 100. – using loop\n",
        "sum=0\n",
        "for i in range(1,101):\n",
        "  if i%2==0:\n",
        "    sum=sum+i\n",
        "print(\"Sum of all Even Numbers from 1 to 100:\",sum)"
      ],
      "metadata": {
        "colab": {
          "base_uri": "https://localhost:8080/"
        },
        "id": "i4UtJTRRb7n1",
        "outputId": "fadc7407-b277-45a1-d1c9-90360042993d"
      },
      "execution_count": 14,
      "outputs": [
        {
          "output_type": "stream",
          "name": "stdout",
          "text": [
            "Sum of all Even Numbers from 1 to 100: 2550\n"
          ]
        }
      ]
    },
    {
      "cell_type": "code",
      "source": [
        "# 5. Write a program to find the sum of all odd numbers between 1 to n.\n",
        "n=int(input(\"Enter a Number: \"))\n",
        "sum=0\n",
        "for i in range(1,n+1):\n",
        "  if i%2!=0:\n",
        "    sum+=i\n",
        "print(f\"Sum of All odd Numbers from 1 to {n}:\",sum)"
      ],
      "metadata": {
        "colab": {
          "base_uri": "https://localhost:8080/"
        },
        "id": "f9DL8qBTdA7W",
        "outputId": "290a662a-b69a-4e82-b165-69d142d0b7b9"
      },
      "execution_count": 16,
      "outputs": [
        {
          "output_type": "stream",
          "name": "stdout",
          "text": [
            "Enter a Number: 100\n",
            "Sum of All odd Numbers from 1 to 100: 2500\n"
          ]
        }
      ]
    },
    {
      "cell_type": "code",
      "source": [
        "# 6. Write a program to count the number of digits in a number.\n",
        "\n",
        "n=int(input(\"Enter a Number: \"))\n",
        "count=0\n",
        "temp=n\n",
        "for _ in range(n):\n",
        "  if temp==0:\n",
        "    break\n",
        "  count+=1\n",
        "  temp=temp//10\n",
        "\n",
        "print(count)"
      ],
      "metadata": {
        "colab": {
          "base_uri": "https://localhost:8080/"
        },
        "id": "n-6zgFG0denR",
        "outputId": "224d885e-275c-43c5-ee7f-f456e6fd0e1f"
      },
      "execution_count": 17,
      "outputs": [
        {
          "output_type": "stream",
          "name": "stdout",
          "text": [
            "Enter a Number: 12345\n",
            "5\n"
          ]
        }
      ]
    },
    {
      "cell_type": "code",
      "source": [
        "# 7. Write a program to calculate the sum of digits of a number.\n",
        "\n",
        "n=int(input(\"Enter a Number: \"))\n",
        "sum=0\n",
        "temp=n\n",
        "for _ in range(n):\n",
        "  if temp==0:\n",
        "    break\n",
        "  digit=temp%10\n",
        "  sum+=digit\n",
        "  temp=temp//10\n",
        "\n",
        "print(sum)"
      ],
      "metadata": {
        "colab": {
          "base_uri": "https://localhost:8080/"
        },
        "id": "B9jKAJ2Md6Go",
        "outputId": "897d34f3-59ae-4a13-e293-c069bc0fcc29"
      },
      "execution_count": 18,
      "outputs": [
        {
          "output_type": "stream",
          "name": "stdout",
          "text": [
            "Enter a Number: 123456\n",
            "21\n"
          ]
        }
      ]
    },
    {
      "cell_type": "code",
      "source": [
        "# 8. Write a program to find the first and last digit of a number.\n",
        "\n",
        "n=int(input(\"Enter a Number: \"))\n",
        "fd=n\n",
        "ld=n%10\n",
        "temp=n\n",
        "\n",
        "for _ in range(n):\n",
        "  if temp==0:\n",
        "    break\n",
        "  fd=temp%10\n",
        "  temp=temp//10\n",
        "\n",
        "print(fd)\n",
        "print(ld)"
      ],
      "metadata": {
        "colab": {
          "base_uri": "https://localhost:8080/"
        },
        "id": "DRqn2e-YeM2G",
        "outputId": "df161361-3863-4492-a535-a99897b840b4"
      },
      "execution_count": 19,
      "outputs": [
        {
          "output_type": "stream",
          "name": "stdout",
          "text": [
            "Enter a Number: 12345\n",
            "1\n",
            "5\n"
          ]
        }
      ]
    },
    {
      "cell_type": "code",
      "source": [
        "# 9. Write a program to find the sum of first and last digit of a number.\n",
        "\n",
        "n=int(input(\"Enter a Number: \"))\n",
        "fd=n\n",
        "ld=n%10\n",
        "temp=n\n",
        "sum=0\n",
        "\n",
        "for _ in range(n):\n",
        "  if temp==0:\n",
        "    break\n",
        "  fd=temp%10\n",
        "  temp=temp//10\n",
        "  sum=fd+ld\n",
        "\n",
        "print(sum)\n",
        "print(fd)\n",
        "print(ld)"
      ],
      "metadata": {
        "colab": {
          "base_uri": "https://localhost:8080/"
        },
        "id": "wYIPIWCAeuVQ",
        "outputId": "2b65db94-a718-45bd-ff61-9560c21a56bc"
      },
      "execution_count": 21,
      "outputs": [
        {
          "output_type": "stream",
          "name": "stdout",
          "text": [
            "Enter a Number: 12345\n",
            "6\n",
            "1\n",
            "5\n"
          ]
        }
      ]
    },
    {
      "cell_type": "code",
      "source": [
        "# 10.Write a program to enter a number and print its reverse.\n",
        "\n",
        "n=int(input(\"Enter a Number: \"))\n",
        "rev=0\n",
        "temp=n\n",
        "\n",
        "for _ in range(n):\n",
        "  if temp==0:\n",
        "    break\n",
        "  digit=temp%10\n",
        "  rev=rev*10+digit\n",
        "  temp=temp//10\n",
        "\n",
        "print(rev)"
      ],
      "metadata": {
        "colab": {
          "base_uri": "https://localhost:8080/"
        },
        "id": "iaCy3MRCezt8",
        "outputId": "067ab870-4709-4e12-ee24-e8122342a125"
      },
      "execution_count": 22,
      "outputs": [
        {
          "output_type": "stream",
          "name": "stdout",
          "text": [
            "Enter a Number: 12345\n",
            "54321\n"
          ]
        }
      ]
    },
    {
      "cell_type": "code",
      "source": [
        "# 11.Write a program to find the power of a number using for loop.\n",
        "n=int(input(\"Enter a Number: \"))\n",
        "m=int(input(\"Enter a Number: \"))\n",
        "product=1\n",
        "for _ in range(m):\n",
        "  product=product*n\n",
        "print(product)"
      ],
      "metadata": {
        "colab": {
          "base_uri": "https://localhost:8080/"
        },
        "id": "L5KiVXX_fWxt",
        "outputId": "b8e62225-f75a-4c31-d16c-231d36e56ea6"
      },
      "execution_count": 23,
      "outputs": [
        {
          "output_type": "stream",
          "name": "stdout",
          "text": [
            "Enter a Number: 2\n",
            "Enter a Number: 4\n",
            "16\n"
          ]
        }
      ]
    },
    {
      "cell_type": "code",
      "source": [
        "# 12.Write a program to find all factors of a number.\n",
        "\n",
        "n=int(input(\"Enter a Number: \"))\n",
        "\n",
        "for i in range(1,n+1):\n",
        "  if n%i==0:\n",
        "    print(i)"
      ],
      "metadata": {
        "colab": {
          "base_uri": "https://localhost:8080/"
        },
        "id": "pw1GWfLKfuea",
        "outputId": "206354ac-b548-4954-ab9e-e5d44d0a2c24"
      },
      "execution_count": 24,
      "outputs": [
        {
          "output_type": "stream",
          "name": "stdout",
          "text": [
            "Enter a Number: 12\n",
            "1\n",
            "2\n",
            "3\n",
            "4\n",
            "6\n",
            "12\n"
          ]
        }
      ]
    },
    {
      "cell_type": "code",
      "source": [
        "# 13.Write a program to calculate the factorial of a number.\n",
        "\n",
        "n=int(input(\"Enter a Number: \"))\n",
        "fact=1\n",
        "\n",
        "for i in range(1,n+1):\n",
        "  fact=fact*i\n",
        "print(fact)"
      ],
      "metadata": {
        "colab": {
          "base_uri": "https://localhost:8080/"
        },
        "id": "IPInoV0ygEP_",
        "outputId": "a7b882e4-90be-4776-d256-6588474da895"
      },
      "execution_count": 25,
      "outputs": [
        {
          "output_type": "stream",
          "name": "stdout",
          "text": [
            "Enter a Number: 5\n",
            "120\n"
          ]
        }
      ]
    },
    {
      "cell_type": "code",
      "source": [
        "# 14.Write a program to find LCM of two numbers.\n",
        "\n",
        "n=int(input(\"Enter a Number: \"))\n",
        "m=int(input(\"Enter a Number: \"))\n",
        "lcm=max(n,m)\n",
        "\n",
        "for lcm in range(max(n,m),n*m+1):\n",
        "  if lcm%n==0 and lcm%m==0:\n",
        "    print(f\"The LCM of {n} and {m} is: {lcm}\")\n",
        "    break"
      ],
      "metadata": {
        "colab": {
          "base_uri": "https://localhost:8080/"
        },
        "id": "VwUXjItegWE1",
        "outputId": "1f401acf-4ed7-44a3-86d1-636b22588334"
      },
      "execution_count": 26,
      "outputs": [
        {
          "output_type": "stream",
          "name": "stdout",
          "text": [
            "Enter a Number: 24\n",
            "Enter a Number: 27\n",
            "The LCM of 24 and 27 is: 216\n"
          ]
        }
      ]
    },
    {
      "cell_type": "code",
      "source": [
        "# 15.Write a program to check whether a number is Prime number or not.\n",
        "\n",
        "n = int(input(\"Enter a Number: \"))\n",
        "count = 0\n",
        "\n",
        "for i in range(1, n + 1):  # fix: start from 1, not i\n",
        "    if n % i == 0:\n",
        "        count += 1\n",
        "\n",
        "if count > 2:\n",
        "    print(f\"{n} is not a Prime Number\")\n",
        "else:\n",
        "    print(f\"{n} is a Prime Number\")"
      ],
      "metadata": {
        "colab": {
          "base_uri": "https://localhost:8080/"
        },
        "id": "Pzxw56RQhAU5",
        "outputId": "8ed811bf-88b0-4c61-d9ed-8d0dd60dd966"
      },
      "execution_count": 36,
      "outputs": [
        {
          "output_type": "stream",
          "name": "stdout",
          "text": [
            "Enter a Number: 12\n",
            "12 is not a Prime Number\n"
          ]
        }
      ]
    },
    {
      "cell_type": "code",
      "source": [
        "# 17.Write a program to find all prime factors of a number.\n",
        "\n",
        "n=int(input(\"Enter a Number: \"))\n",
        "\n",
        "print(\"Prime Factor are:\")\n",
        "for i in range(2,n+1):\n",
        "  while n%i==0:\n",
        "    print(i)\n",
        "    n=n//i"
      ],
      "metadata": {
        "colab": {
          "base_uri": "https://localhost:8080/"
        },
        "id": "NIK8piU3hXbE",
        "outputId": "0a04aab7-6339-4971-d6e6-f9bcabfb8332"
      },
      "execution_count": 42,
      "outputs": [
        {
          "output_type": "stream",
          "name": "stdout",
          "text": [
            "Enter a Number: 60\n",
            "Prime Factor are:\n",
            "2\n",
            "2\n",
            "3\n",
            "5\n"
          ]
        }
      ]
    },
    {
      "cell_type": "code",
      "source": [
        "# 18.Write a program to check whether a number is an Armstrong number or\n",
        "# not.\n",
        "# a. An Armstrong number is a n-digit number that is equal to the sum\n",
        "# of the nth power of its digits. For example –\n",
        "# 6 = 61 = 6\n",
        "# 371 = 3**3 + 7**3 + 1**3 = 371\n",
        "\n",
        "num = int(input(\"Enter a number: \"))\n",
        "Original = num\n",
        "count = 0\n",
        "sum = 0\n",
        "temp = num\n",
        "\n",
        "# First, count how many digits\n",
        "while temp > 0:\n",
        "    temp = temp // 10\n",
        "    count += 1\n",
        "\n",
        "# Now calculate the sum of each digit raised to the power of 'count'\n",
        "for i in range(count):\n",
        "    digit = num % 10\n",
        "    sum = sum + (digit ** count)\n",
        "    num = num // 10\n",
        "\n",
        "if sum == Original:\n",
        "    print(Original, \"is an Armstrong number\")\n",
        "else:\n",
        "    print(Original, \"is not an Armstrong number\")"
      ],
      "metadata": {
        "colab": {
          "base_uri": "https://localhost:8080/"
        },
        "id": "QuzFiLkBobBb",
        "outputId": "6f99fa9a-6f10-40a4-aed6-c8346709550f"
      },
      "execution_count": 50,
      "outputs": [
        {
          "output_type": "stream",
          "name": "stdout",
          "text": [
            "Enter a number: 371\n",
            "371 is an Armstrong number\n"
          ]
        }
      ]
    },
    {
      "cell_type": "code",
      "source": [
        "# Leet code Questions"
      ],
      "metadata": {
        "id": "vicrkPsZpix1"
      },
      "execution_count": 51,
      "outputs": []
    },
    {
      "cell_type": "code",
      "source": [
        "n = int(input(\"Enter your Number: \"))\n",
        "k = int(input(\"Enter k: \"))\n",
        "\n",
        "temp = n\n",
        "count = 0\n",
        "\n",
        "# Count the number of digits\n",
        "while temp > 0:\n",
        "    count = count + 1\n",
        "    temp = temp // 10\n",
        "\n",
        "k = k % count  # <-- Move this outside the loop\n",
        "\n",
        "power = 1\n",
        "temp = count  # temp is just to preserve original count value\n",
        "while temp - 1 > 0:\n",
        "    power = power * 10\n",
        "    temp = temp - 1\n",
        "\n",
        "while k > 0:\n",
        "    last_digit = n % 10\n",
        "    remaining = n // 10\n",
        "    n = last_digit * power + remaining\n",
        "    k = k - 1\n",
        "\n",
        "print(int(n))  # Cast to int to avoid float display"
      ],
      "metadata": {
        "colab": {
          "base_uri": "https://localhost:8080/"
        },
        "id": "05u65G_ArhFj",
        "outputId": "2bfdabef-3749-4c6f-f519-7daa74aaa8b3"
      },
      "execution_count": 57,
      "outputs": [
        {
          "output_type": "stream",
          "name": "stdout",
          "text": [
            "Enter your Number: 123456\n",
            "Enter k: 5\n",
            "234561\n"
          ]
        }
      ]
    },
    {
      "cell_type": "code",
      "source": [],
      "metadata": {
        "id": "PiQh-RKushw2"
      },
      "execution_count": null,
      "outputs": []
    }
  ]
}