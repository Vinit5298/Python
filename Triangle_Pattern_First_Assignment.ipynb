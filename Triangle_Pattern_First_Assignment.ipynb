{
  "nbformat": 4,
  "nbformat_minor": 0,
  "metadata": {
    "colab": {
      "provenance": [],
      "authorship_tag": "ABX9TyMGoC1RPk11S7ZwcVFR27OJ",
      "include_colab_link": true
    },
    "kernelspec": {
      "name": "python3",
      "display_name": "Python 3"
    },
    "language_info": {
      "name": "python"
    }
  },
  "cells": [
    {
      "cell_type": "markdown",
      "metadata": {
        "id": "view-in-github",
        "colab_type": "text"
      },
      "source": [
        "<a href=\"https://colab.research.google.com/github/Vinit5298/Python/blob/main/Triangle_Pattern_First_Assignment.ipynb\" target=\"_parent\"><img src=\"https://colab.research.google.com/assets/colab-badge.svg\" alt=\"Open In Colab\"/></a>"
      ]
    },
    {
      "cell_type": "code",
      "execution_count": null,
      "metadata": {
        "id": "J03oWDJPrvo1"
      },
      "outputs": [],
      "source": [
        "# Triangle Pattern Page--2"
      ]
    },
    {
      "cell_type": "code",
      "source": [
        "for i in range(5): #---> Row\n",
        "  for j in range(1,i+1): #---> Coloumn\n",
        "    print(\"*\",end=\" \")\n",
        "  print(\" \")"
      ],
      "metadata": {
        "colab": {
          "base_uri": "https://localhost:8080/"
        },
        "id": "xhQb28Sfr06l",
        "outputId": "3a79aea0-715b-4870-9ae5-d1032e5439f5"
      },
      "execution_count": null,
      "outputs": [
        {
          "output_type": "stream",
          "name": "stdout",
          "text": [
            " \n",
            "*  \n",
            "* *  \n",
            "* * *  \n",
            "* * * *  \n"
          ]
        }
      ]
    },
    {
      "cell_type": "code",
      "source": [
        "for i in range(4): #---> Row\n",
        "  for j in range(3-i+1): #---> Coloumn\n",
        "    print(\"*\",end=\" \")\n",
        "  print(\" \")"
      ],
      "metadata": {
        "colab": {
          "base_uri": "https://localhost:8080/"
        },
        "id": "9sOxKknYsFo6",
        "outputId": "acb5797d-0947-4fbd-d012-c5ff497ce436"
      },
      "execution_count": null,
      "outputs": [
        {
          "output_type": "stream",
          "name": "stdout",
          "text": [
            "* * * *  \n",
            "* * *  \n",
            "* *  \n",
            "*  \n"
          ]
        }
      ]
    },
    {
      "cell_type": "code",
      "source": [
        "for i in range(5):\n",
        "  for j in range(1,i+1):\n",
        "    print(j,end=\" \")\n",
        "  print(\" \")"
      ],
      "metadata": {
        "colab": {
          "base_uri": "https://localhost:8080/"
        },
        "id": "QML_uTlMtbw0",
        "outputId": "aa45ad61-c36f-49e1-ea96-d2fc50e56241"
      },
      "execution_count": null,
      "outputs": [
        {
          "output_type": "stream",
          "name": "stdout",
          "text": [
            " \n",
            "1  \n",
            "1 2  \n",
            "1 2 3  \n",
            "1 2 3 4  \n"
          ]
        }
      ]
    },
    {
      "cell_type": "code",
      "source": [
        "num=1\n",
        "for i in range(5):\n",
        "  for j in range(1,i+1):\n",
        "    print(num,end=\" \")\n",
        "    num=num+1\n",
        "  print(\" \")"
      ],
      "metadata": {
        "colab": {
          "base_uri": "https://localhost:8080/"
        },
        "id": "e-FlaGUzt4Qk",
        "outputId": "7e02ad94-2299-41d9-b0f6-27f73560b94b"
      },
      "execution_count": null,
      "outputs": [
        {
          "output_type": "stream",
          "name": "stdout",
          "text": [
            " \n",
            "1  \n",
            "2 3  \n",
            "4 5 6  \n",
            "7 8 9 10  \n"
          ]
        }
      ]
    },
    {
      "cell_type": "code",
      "source": [
        "num=10\n",
        "for i in range(5):\n",
        "  for j in range(1,i+1):\n",
        "    print(num,end=\" \")\n",
        "    num=num-1\n",
        "  print(\" \")"
      ],
      "metadata": {
        "colab": {
          "base_uri": "https://localhost:8080/"
        },
        "id": "hPYwIEW-uDWi",
        "outputId": "67b2a782-0335-4911-b062-cb3bc25ce1df"
      },
      "execution_count": null,
      "outputs": [
        {
          "output_type": "stream",
          "name": "stdout",
          "text": [
            " \n",
            "10  \n",
            "9 8  \n",
            "7 6 5  \n",
            "4 3 2 1  \n"
          ]
        }
      ]
    },
    {
      "cell_type": "code",
      "source": [
        "for i in range(5):\n",
        "  for j in range(1,i+1):\n",
        "    print(chr(64+j),end=\" \")\n",
        "  print(\" \")"
      ],
      "metadata": {
        "colab": {
          "base_uri": "https://localhost:8080/"
        },
        "id": "uRKHXOTCuOod",
        "outputId": "75ba0fc8-4917-49f1-aaf1-3f00bf7db120"
      },
      "execution_count": null,
      "outputs": [
        {
          "output_type": "stream",
          "name": "stdout",
          "text": [
            " \n",
            "A  \n",
            "A B  \n",
            "A B C  \n",
            "A B C D  \n"
          ]
        }
      ]
    },
    {
      "cell_type": "code",
      "source": [
        "num=65\n",
        "for i in range(5):\n",
        "  for j in range(1,i+1):\n",
        "    print(chr(num),end=\" \")\n",
        "    num=num+1\n",
        "  print(\" \")"
      ],
      "metadata": {
        "colab": {
          "base_uri": "https://localhost:8080/"
        },
        "id": "q-iBBohCu-LS",
        "outputId": "52268107-c364-4663-8a8d-1f9a423fe589"
      },
      "execution_count": null,
      "outputs": [
        {
          "output_type": "stream",
          "name": "stdout",
          "text": [
            " \n",
            "A  \n",
            "B C  \n",
            "D E F  \n",
            "G H I J  \n"
          ]
        }
      ]
    },
    {
      "cell_type": "code",
      "source": [
        "num=90\n",
        "for i in range(5):\n",
        "  for j in range(1,i+1):\n",
        "    print(chr(num),end=\" \")\n",
        "    num=num-1\n",
        "  print(\" \")"
      ],
      "metadata": {
        "colab": {
          "base_uri": "https://localhost:8080/"
        },
        "id": "x2ll6ZP8x7xu",
        "outputId": "aa2758a8-3a2d-4359-d144-059fa0ac8d0e"
      },
      "execution_count": null,
      "outputs": [
        {
          "output_type": "stream",
          "name": "stdout",
          "text": [
            " \n",
            "Z  \n",
            "Y X  \n",
            "W V U  \n",
            "T S R Q  \n"
          ]
        }
      ]
    },
    {
      "cell_type": "code",
      "source": [
        "n = 5  # number of rows\n",
        "for i in range(1, n + 1):\n",
        "    if i == 1:\n",
        "        print(\"*\")\n",
        "    elif i == n:\n",
        "        print(\"* \" * n)\n",
        "    else:\n",
        "        print(\"*\" + \" \" * (2 * i - 3) + \"*\")"
      ],
      "metadata": {
        "colab": {
          "base_uri": "https://localhost:8080/"
        },
        "id": "_MtAXJZUzFoM",
        "outputId": "e84cc310-f390-4e5d-946f-ff6cfe50b3a1"
      },
      "execution_count": null,
      "outputs": [
        {
          "output_type": "stream",
          "name": "stdout",
          "text": [
            "*\n",
            "* *\n",
            "*   *\n",
            "*     *\n",
            "* * * * * \n"
          ]
        }
      ]
    },
    {
      "cell_type": "code",
      "source": [
        "num1=65\n",
        "num2=1\n",
        "for i in range(5):\n",
        "  for j in range(1,i+1):\n",
        "    print(num2,chr(num1),end=\" \")\n",
        "    num1=num1+1\n",
        "    num2=num2+1\n",
        "  print(\" \")"
      ],
      "metadata": {
        "colab": {
          "base_uri": "https://localhost:8080/"
        },
        "id": "IFb_TA3UzYhU",
        "outputId": "a40a6631-74d1-45de-c0cd-57dc9f0d6904"
      },
      "execution_count": null,
      "outputs": [
        {
          "output_type": "stream",
          "name": "stdout",
          "text": [
            " \n",
            "1 A  \n",
            "2 B 3 C  \n",
            "4 D 5 E 6 F  \n",
            "7 G 8 H 9 I 10 J  \n"
          ]
        }
      ]
    },
    {
      "cell_type": "code",
      "source": [
        "# Triangle Page 1 Questions"
      ],
      "metadata": {
        "id": "RDEJsWhLGIrM"
      },
      "execution_count": null,
      "outputs": []
    },
    {
      "cell_type": "code",
      "source": [
        "for i in range(4):\n",
        "  for j in range(4-i):\n",
        "    print(\"*\",end=\" \")\n",
        "  print(\" \")"
      ],
      "metadata": {
        "colab": {
          "base_uri": "https://localhost:8080/"
        },
        "id": "ar1FZ3UcH5pq",
        "outputId": "7ed166e2-3c02-40e2-89ea-a52b9f4b10fe"
      },
      "execution_count": null,
      "outputs": [
        {
          "output_type": "stream",
          "name": "stdout",
          "text": [
            "* * * *  \n",
            "* * *  \n",
            "* *  \n",
            "*  \n"
          ]
        }
      ]
    },
    {
      "cell_type": "code",
      "source": [
        "num=10\n",
        "for i in range(4):\n",
        "  for j in range(1,i+1):\n",
        "    print(num,end=\" \")\n",
        "    num=num+1\n",
        "  print(\" \")"
      ],
      "metadata": {
        "colab": {
          "base_uri": "https://localhost:8080/"
        },
        "id": "d-iFmntbIDXp",
        "outputId": "a0ba2de2-77e8-499c-db2b-e54913debfe5"
      },
      "execution_count": null,
      "outputs": [
        {
          "output_type": "stream",
          "name": "stdout",
          "text": [
            " \n",
            "10  \n",
            "11 12  \n",
            "13 14 15  \n"
          ]
        }
      ]
    },
    {
      "cell_type": "code",
      "source": [
        "for i in range(5):\n",
        "  for j in range(1,i+1):\n",
        "    print(chr(69-j),end=\" \")\n",
        "  print(\" \")"
      ],
      "metadata": {
        "colab": {
          "base_uri": "https://localhost:8080/"
        },
        "id": "F7TzLMURIPav",
        "outputId": "139a1a13-9eb1-4d9d-b3d6-59e2b4dba370"
      },
      "execution_count": null,
      "outputs": [
        {
          "output_type": "stream",
          "name": "stdout",
          "text": [
            " \n",
            "D  \n",
            "D C  \n",
            "D C B  \n",
            "D C B A  \n"
          ]
        }
      ]
    },
    {
      "cell_type": "code",
      "source": [
        "for i in range(5):\n",
        "  for j in range(1,i+1):\n",
        "    print(j+9,end=\" \")\n",
        "  print(\" \")"
      ],
      "metadata": {
        "colab": {
          "base_uri": "https://localhost:8080/"
        },
        "id": "81GcQagRIpnb",
        "outputId": "5ec862ec-844c-4681-99fd-0de8b6404621"
      },
      "execution_count": null,
      "outputs": [
        {
          "output_type": "stream",
          "name": "stdout",
          "text": [
            " \n",
            "10  \n",
            "10 11  \n",
            "10 11 12  \n",
            "10 11 12 13  \n"
          ]
        }
      ]
    },
    {
      "cell_type": "code",
      "source": [
        "for i in range(4): #---> Row\n",
        "  for j in range(4-i): #---> Coloumn\n",
        "    print(chr(68-j),end=\" \")\n",
        "  print(\" \")"
      ],
      "metadata": {
        "colab": {
          "base_uri": "https://localhost:8080/"
        },
        "id": "7wIVyqUrLt5a",
        "outputId": "0969981d-593e-4a6f-c298-6cefdf577572"
      },
      "execution_count": null,
      "outputs": [
        {
          "output_type": "stream",
          "name": "stdout",
          "text": [
            "D C B A  \n",
            "D C B  \n",
            "D C  \n",
            "D  \n"
          ]
        }
      ]
    },
    {
      "cell_type": "code",
      "source": [
        "rows = 5\n",
        "for i in range(1, rows + 1):\n",
        "    for j in range(i):\n",
        "        if j % 2 == 0:\n",
        "            print(\"1\", end=\" \")\n",
        "        else:\n",
        "            print(\"2\", end=\" \")\n",
        "    print(\" \")"
      ],
      "metadata": {
        "colab": {
          "base_uri": "https://localhost:8080/"
        },
        "id": "713_yrmvMeGZ",
        "outputId": "ad4c8e8d-047b-42cc-edce-9266cb775d63"
      },
      "execution_count": null,
      "outputs": [
        {
          "output_type": "stream",
          "name": "stdout",
          "text": [
            "1  \n",
            "1 2  \n",
            "1 2 1  \n",
            "1 2 1 2  \n",
            "1 2 1 2 1  \n"
          ]
        }
      ]
    },
    {
      "cell_type": "code",
      "source": [
        "rows = 4\n",
        "ch = ord('F')  # Start from 'F'\n",
        "\n",
        "for i in range(1, rows + 1):\n",
        "    for j in range(i):\n",
        "        print(chr(ch), end=\" \")\n",
        "        ch += 2  # Skip one letter each time (i.e., A, C, E, ...)\n",
        "    print()\n"
      ],
      "metadata": {
        "colab": {
          "base_uri": "https://localhost:8080/"
        },
        "id": "MN-E1aXSNLF8",
        "outputId": "b6c13501-d439-4d07-a1c5-c93b2b46e5fa"
      },
      "execution_count": null,
      "outputs": [
        {
          "output_type": "stream",
          "name": "stdout",
          "text": [
            "F \n",
            "H J \n",
            "L N P \n",
            "R T V X \n"
          ]
        }
      ]
    },
    {
      "cell_type": "code",
      "source": [
        "# Third Page Questions"
      ],
      "metadata": {
        "id": "33p1OPkVN72v"
      },
      "execution_count": null,
      "outputs": []
    },
    {
      "cell_type": "code",
      "source": [
        "for i in range(6):\n",
        "  for j in range(1,i+1):\n",
        "    print(\"*\",end=\" \")\n",
        "  print(\" \")"
      ],
      "metadata": {
        "colab": {
          "base_uri": "https://localhost:8080/"
        },
        "id": "3-tIBA4NRnFm",
        "outputId": "608df832-a23e-4851-e446-097aceb7ac33"
      },
      "execution_count": null,
      "outputs": [
        {
          "output_type": "stream",
          "name": "stdout",
          "text": [
            " \n",
            "*  \n",
            "* *  \n",
            "* * *  \n",
            "* * * *  \n",
            "* * * * *  \n"
          ]
        }
      ]
    },
    {
      "cell_type": "code",
      "source": [
        "for i in range(6):\n",
        "  for j in range(5-i):\n",
        "    print(\"*\",end=\" \")\n",
        "  print(\" \")"
      ],
      "metadata": {
        "colab": {
          "base_uri": "https://localhost:8080/"
        },
        "id": "8ExJOlPCRxWe",
        "outputId": "989e86c6-59a3-4791-f045-dc2ad4891d9c"
      },
      "execution_count": null,
      "outputs": [
        {
          "output_type": "stream",
          "name": "stdout",
          "text": [
            "* * * * *  \n",
            "* * * *  \n",
            "* * *  \n",
            "* *  \n",
            "*  \n",
            " \n"
          ]
        }
      ]
    },
    {
      "cell_type": "code",
      "source": [
        "for i in range(5):\n",
        "  for j in range(4-i):\n",
        "    print(chr(65+j),end=\" \")\n",
        "  print(\" \")"
      ],
      "metadata": {
        "colab": {
          "base_uri": "https://localhost:8080/"
        },
        "id": "KQcUFNHyR8ml",
        "outputId": "d4f3f35f-3ed3-47f6-cafe-1b40a2a41937"
      },
      "execution_count": null,
      "outputs": [
        {
          "output_type": "stream",
          "name": "stdout",
          "text": [
            "A B C D  \n",
            "A B C  \n",
            "A B  \n",
            "A  \n",
            " \n"
          ]
        }
      ]
    },
    {
      "cell_type": "code",
      "source": [
        "for i in range(5):\n",
        "  for j in range(1,i+1):\n",
        "    print(i,end=\" \")\n",
        "  print(\" \")"
      ],
      "metadata": {
        "colab": {
          "base_uri": "https://localhost:8080/"
        },
        "id": "n5i4VIiPSGJa",
        "outputId": "7d558d04-ff08-4e3f-b29c-7af4251f9126"
      },
      "execution_count": null,
      "outputs": [
        {
          "output_type": "stream",
          "name": "stdout",
          "text": [
            " \n",
            "1  \n",
            "2 2  \n",
            "3 3 3  \n",
            "4 4 4 4  \n"
          ]
        }
      ]
    },
    {
      "cell_type": "code",
      "source": [
        "for i in range(4, 0, -1):\n",
        "  for j in range(4, 4 - i, -1):\n",
        "    print(j,end=\" \")\n",
        "  print(\" \")"
      ],
      "metadata": {
        "colab": {
          "base_uri": "https://localhost:8080/"
        },
        "id": "JAoAA4qjSRwe",
        "outputId": "a003ed29-09d1-4926-c820-a2cf0ad7bcc9"
      },
      "execution_count": null,
      "outputs": [
        {
          "output_type": "stream",
          "name": "stdout",
          "text": [
            "4 3 2 1  \n",
            "4 3 2  \n",
            "4 3  \n",
            "4  \n"
          ]
        }
      ]
    },
    {
      "cell_type": "code",
      "source": [
        "for i in range(6):\n",
        "  for j in range(5-i):\n",
        "    print(j+1,end=\" \")\n",
        "  print(\" \")"
      ],
      "metadata": {
        "colab": {
          "base_uri": "https://localhost:8080/"
        },
        "id": "Af01kBEfSYYf",
        "outputId": "c14b583d-84c5-44e8-d1d6-46e10dbff324"
      },
      "execution_count": null,
      "outputs": [
        {
          "output_type": "stream",
          "name": "stdout",
          "text": [
            "1 2 3 4 5  \n",
            "1 2 3 4  \n",
            "1 2 3  \n",
            "1 2  \n",
            "1  \n",
            " \n"
          ]
        }
      ]
    },
    {
      "cell_type": "code",
      "source": [
        "for i in range(7):\n",
        "  for j in range(6-i):\n",
        "    print(chr(70-j),end=\" \")\n",
        "  print(\" \")"
      ],
      "metadata": {
        "colab": {
          "base_uri": "https://localhost:8080/"
        },
        "id": "Xi7Srm2kTCdu",
        "outputId": "ac7aa7c6-a1ec-4f47-f18e-422e01e068f0"
      },
      "execution_count": null,
      "outputs": [
        {
          "output_type": "stream",
          "name": "stdout",
          "text": [
            "F E D C B A  \n",
            "F E D C B  \n",
            "F E D C  \n",
            "F E D  \n",
            "F E  \n",
            "F  \n",
            " \n"
          ]
        }
      ]
    },
    {
      "cell_type": "code",
      "source": [],
      "metadata": {
        "id": "eCQ1PS5eTRBx"
      },
      "execution_count": null,
      "outputs": []
    }
  ]
}