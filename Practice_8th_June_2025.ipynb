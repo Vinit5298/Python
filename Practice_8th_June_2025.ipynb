{
  "nbformat": 4,
  "nbformat_minor": 0,
  "metadata": {
    "colab": {
      "provenance": [],
      "authorship_tag": "ABX9TyMQe+e70fJ7Kh4caW97+O4f",
      "include_colab_link": true
    },
    "kernelspec": {
      "name": "python3",
      "display_name": "Python 3"
    },
    "language_info": {
      "name": "python"
    }
  },
  "cells": [
    {
      "cell_type": "markdown",
      "metadata": {
        "id": "view-in-github",
        "colab_type": "text"
      },
      "source": [
        "<a href=\"https://colab.research.google.com/github/Vinit5298/Python/blob/main/Practice_8th_June_2025.ipynb\" target=\"_parent\"><img src=\"https://colab.research.google.com/assets/colab-badge.svg\" alt=\"Open In Colab\"/></a>"
      ]
    },
    {
      "cell_type": "code",
      "source": [
        "## Questions of Python Test: 2 ##"
      ],
      "metadata": {
        "id": "P_CTgsjQC60v"
      },
      "execution_count": null,
      "outputs": []
    },
    {
      "cell_type": "code",
      "source": [
        "# Q2. Write a Python Program to Find the Factorial of a Number\n",
        "# Input: 4\n",
        "# Output :24\n",
        "# Input: 5\n",
        "# Output: 120\n",
        "n=int(input(\"Enter a Number: \"))\n",
        "fact=1\n",
        "for i in range(1,n+1):\n",
        "    fact=fact*i\n",
        "print(fact)"
      ],
      "metadata": {
        "id": "gSObfxgyf_eU",
        "colab": {
          "base_uri": "https://localhost:8080/"
        },
        "outputId": "bbc1d08e-eda2-4ff5-fda3-1fe00ce4eef0"
      },
      "execution_count": null,
      "outputs": [
        {
          "output_type": "stream",
          "name": "stdout",
          "text": [
            "Enter a Number: 5\n",
            "120\n"
          ]
        }
      ]
    },
    {
      "cell_type": "code",
      "source": [
        "# Q1. Write a python program to print the following pattern\n",
        "\n",
        "# *******\n",
        "#  *   *\n",
        "#   * *\n",
        "#    *\n",
        "\n",
        "for i in range(4,0,-1):\n",
        "  for j in range(4-i):\n",
        "    print(\" \",end=\"\")\n",
        "  for k in range(1,2*i):\n",
        "    if k==1 or k==2*i-1 or i==4:\n",
        "      print(\"*\",end=\"\")\n",
        "    else:\n",
        "      print(\" \",end=\"\")\n",
        "  print(\" \")"
      ],
      "metadata": {
        "colab": {
          "base_uri": "https://localhost:8080/"
        },
        "id": "nPCrxCGG-Z5y",
        "outputId": "0a532e28-3325-4197-aa30-ace1ec460f46"
      },
      "execution_count": null,
      "outputs": [
        {
          "output_type": "stream",
          "name": "stdout",
          "text": [
            "******* \n",
            " *   * \n",
            "  * * \n",
            "   * \n"
          ]
        }
      ]
    },
    {
      "cell_type": "code",
      "source": [
        "# Q3.Write a Python program to print hollow right angle triangle\n",
        "# 1\n",
        "# 2 3\n",
        "# 4   5\n",
        "# 6    7\n",
        "# 89101112\n",
        "\n",
        "num=1\n",
        "for i in range(1,6):\n",
        "  for j in range(1,i+1):\n",
        "    if i==j or j==1 or i==5:\n",
        "      print(num,end=\" \")\n",
        "      num=num+1\n",
        "    else:\n",
        "      print(\" \",end=\" \")\n",
        "  print(\" \")"
      ],
      "metadata": {
        "colab": {
          "base_uri": "https://localhost:8080/"
        },
        "id": "qJjbVawV-8db",
        "outputId": "cfc98ac5-38af-49d8-acd5-c5d5547c792e"
      },
      "execution_count": null,
      "outputs": [
        {
          "output_type": "stream",
          "name": "stdout",
          "text": [
            "1  \n",
            "2 3  \n",
            "4   5  \n",
            "6     7  \n",
            "8 9 10 11 12  \n"
          ]
        }
      ]
    },
    {
      "cell_type": "code",
      "source": [
        "# Q4. Write a program to check whether any number is Narcissistic number or not\n",
        "# Note:Narcissistic Number is a number that is the sum of its own digits each raised to the power of the number of\n",
        "# digits ( Hint: Similar to kind of armstrong number)\n",
        "# Input : 153 Output : Narcissistic Number Explanation: 1^3+5^3+3^3=153\n",
        "# Input : 1634 Output : Narcissistic Number Explanation: 1^4+6^4+3^4+4^4=1634\n",
        "\n",
        "n=int(input(\"Enter a Number: \"))\n",
        "original=n\n",
        "temp=n\n",
        "sum=0\n",
        "count=0\n",
        "\n",
        "while temp>0:\n",
        "  temp=temp//10\n",
        "  count=count+1\n",
        "for i in range(count):\n",
        "  digit=n%10\n",
        "  sum=sum+(digit**count)\n",
        "  n=n//10\n",
        "if original==sum:\n",
        "  print(original,\"is a Narcissitic Number\")\n",
        "else:\n",
        "  print(original,\"is not an Narcissitic Number\")"
      ],
      "metadata": {
        "colab": {
          "base_uri": "https://localhost:8080/"
        },
        "id": "detLTfPYANl5",
        "outputId": "5e5342f4-1c8e-4940-dbc5-a44dfaa64c5f"
      },
      "execution_count": null,
      "outputs": [
        {
          "output_type": "stream",
          "name": "stdout",
          "text": [
            "Enter a Number: 1634\n",
            "1634 is a Narcissitic Number\n"
          ]
        }
      ]
    },
    {
      "cell_type": "code",
      "source": [
        "## More Questions of For/While loops ##"
      ],
      "metadata": {
        "id": "eL7wXyftB6_Y"
      },
      "execution_count": null,
      "outputs": []
    },
    {
      "cell_type": "code",
      "source": [
        "# 12.Write a program to find all factors of a number.\n",
        "\n",
        "n=int(input(\"Enter a Number: \"))\n",
        "\n",
        "for i in range(1,n+1):\n",
        "  if n%i==0:\n",
        "    print(f\"{i} is a Factor of {n}\")"
      ],
      "metadata": {
        "colab": {
          "base_uri": "https://localhost:8080/"
        },
        "id": "X0uhiqTHDNRV",
        "outputId": "fb5c1bf2-3c07-4205-b98d-e271c0f9097e"
      },
      "execution_count": null,
      "outputs": [
        {
          "output_type": "stream",
          "name": "stdout",
          "text": [
            "Enter a Number: 12\n",
            "1 is a Factor of 12\n",
            "2 is a Factor of 12\n",
            "3 is a Factor of 12\n",
            "4 is a Factor of 12\n",
            "6 is a Factor of 12\n",
            "12 is a Factor of 12\n"
          ]
        }
      ]
    },
    {
      "cell_type": "code",
      "source": [
        "# 14.Write a program to find LCM of two numbers.\n",
        "\n",
        "n=int(input(\"Enter a Number: \"))\n",
        "m=int(input(\"Enter a Number: \"))\n",
        "lcm=max(n,m)\n",
        "\n",
        "for lcm in range(max(n,m),(n*m+1)):\n",
        "  if lcm%n==0 and lcm%m==0:\n",
        "    print(f\"LCM of {n} and {m} is: {lcm}\")\n",
        "    break"
      ],
      "metadata": {
        "colab": {
          "base_uri": "https://localhost:8080/"
        },
        "id": "ujz5suW4Dhl4",
        "outputId": "a8a94031-7441-4b6a-db86-95835712a88b"
      },
      "execution_count": null,
      "outputs": [
        {
          "output_type": "stream",
          "name": "stdout",
          "text": [
            "Enter a Number: 24\n",
            "Enter a Number: 36\n",
            "LCM of 24 and 36 is: 72\n"
          ]
        }
      ]
    },
    {
      "cell_type": "code",
      "source": [
        "# 15.Write a program to check whether a number is Prime number or not.\n",
        "\n",
        "n=int(input(\"Enter a Number: \"))\n",
        "\n",
        "if n<=1:\n",
        "  print(\"Not Prime\")\n",
        "else:\n",
        "  count=0\n",
        "  for i in range(1,n+1):\n",
        "    if n%i==0:\n",
        "      count=count+1\n",
        "\n",
        "if count==2:\n",
        "  print(\"Prime Number\")\n",
        "else:\n",
        "  print(\"Not Prime\")\n"
      ],
      "metadata": {
        "colab": {
          "base_uri": "https://localhost:8080/"
        },
        "id": "lUWgAnzlEXiT",
        "outputId": "ddc56243-dae7-4a39-bbc6-dca0d8b72863"
      },
      "execution_count": null,
      "outputs": [
        {
          "output_type": "stream",
          "name": "stdout",
          "text": [
            "Enter a Number: 11\n",
            "Prime Number\n"
          ]
        }
      ]
    },
    {
      "cell_type": "code",
      "source": [
        "# 16.Write a program to print all Prime numbers between 1 to n.\n",
        "\n",
        "n=int(input(\"Enter a Number: \"))\n",
        "\n",
        "for num in range(2,n+1):\n",
        "  count=0\n",
        "  for i in range(1,num+1):\n",
        "    if num%i==0:\n",
        "      count=count+1\n",
        "  if count==2:\n",
        "    print(num,\"is a Prime Number\")"
      ],
      "metadata": {
        "colab": {
          "base_uri": "https://localhost:8080/"
        },
        "id": "FDCiGB8bE-77",
        "outputId": "e401e7c8-0c93-4d7c-a231-c20e4d8bbeaf"
      },
      "execution_count": null,
      "outputs": [
        {
          "output_type": "stream",
          "name": "stdout",
          "text": [
            "Enter a Number: 97\n",
            "2 is a Prime Number\n",
            "3 is a Prime Number\n",
            "5 is a Prime Number\n",
            "7 is a Prime Number\n",
            "11 is a Prime Number\n",
            "13 is a Prime Number\n",
            "17 is a Prime Number\n",
            "19 is a Prime Number\n",
            "23 is a Prime Number\n",
            "29 is a Prime Number\n",
            "31 is a Prime Number\n",
            "37 is a Prime Number\n",
            "41 is a Prime Number\n",
            "43 is a Prime Number\n",
            "47 is a Prime Number\n",
            "53 is a Prime Number\n",
            "59 is a Prime Number\n",
            "61 is a Prime Number\n",
            "67 is a Prime Number\n",
            "71 is a Prime Number\n",
            "73 is a Prime Number\n",
            "79 is a Prime Number\n",
            "83 is a Prime Number\n",
            "89 is a Prime Number\n",
            "97 is a Prime Number\n"
          ]
        }
      ]
    },
    {
      "cell_type": "code",
      "source": [
        "n=int(input(\"Enter a Number: \"))\n",
        "i=2\n",
        "for i in range(2,n+1):\n",
        "  while n%i==0:\n",
        "    print(i,end=\" \")\n",
        "    n=n//i"
      ],
      "metadata": {
        "colab": {
          "base_uri": "https://localhost:8080/"
        },
        "id": "kzVqSfTEHXLv",
        "outputId": "393732a5-809c-4c18-a60b-881baba782e4"
      },
      "execution_count": null,
      "outputs": [
        {
          "output_type": "stream",
          "name": "stdout",
          "text": [
            "Enter a Number: 36\n",
            "2 2 3 3 "
          ]
        }
      ]
    },
    {
      "cell_type": "code",
      "source": [
        "# Armstrong Number or Narcissitic Number\n",
        "\n",
        "n=int(input(\"Enter a Number: \"))\n",
        "original=n\n",
        "temp=n\n",
        "sum=0\n",
        "count=0\n",
        "\n",
        "while temp>0:\n",
        "  temp=temp//10\n",
        "  count=count+1\n",
        "for i in range(count):\n",
        "  digit=n%10\n",
        "  sum=sum+(digit**count)\n",
        "  n=n//10\n",
        "if original==sum:\n",
        "  print(original,\"is a Narcissitic Number\")\n",
        "else:\n",
        "  print(original,\"is not an Narcissitic Number\")"
      ],
      "metadata": {
        "colab": {
          "base_uri": "https://localhost:8080/"
        },
        "id": "fP_vdI2mHvtP",
        "outputId": "a5e102a3-b335-44ec-d647-196b1e3419e7"
      },
      "execution_count": null,
      "outputs": [
        {
          "output_type": "stream",
          "name": "stdout",
          "text": [
            "Enter a Number: 1634\n",
            "1634 is a Narcissitic Number\n"
          ]
        }
      ]
    },
    {
      "cell_type": "code",
      "source": [
        "# 19.Write a program to check whether a number is Strong number or not\n",
        "# a. Strong number is a special number whose sum of factorial digits is\n",
        "# equal to the original number.\n",
        "# For example: 145 is a strong number. Since, 1! + 4! + 5! = 145\n",
        "\n",
        "n=int(input(\"Enter a Number: \"))\n",
        "sum=0\n",
        "temp=n\n",
        "\n",
        "while temp>0:\n",
        "  digit=temp%10\n",
        "  fact=1\n",
        "  for i in range(1,digit+1):\n",
        "    fact=fact*i\n",
        "  sum=sum+fact\n",
        "  temp=temp//10\n",
        "if sum==n:\n",
        "  print(n,\"is a strong Number\")\n",
        "else:\n",
        "  print(n,\"is not an strong Number\")"
      ],
      "metadata": {
        "colab": {
          "base_uri": "https://localhost:8080/"
        },
        "id": "wcMVc7qjKPvh",
        "outputId": "c6526087-850f-4ad4-c5a1-173cd1427593"
      },
      "execution_count": null,
      "outputs": [
        {
          "output_type": "stream",
          "name": "stdout",
          "text": [
            "Enter a Number: 40585\n",
            "40585 is a strong Number\n"
          ]
        }
      ]
    },
    {
      "cell_type": "code",
      "source": [
        "1*2*3*4 + 0 + 1*2*3*4*5 +1*2*3*4*5*6*7*8 + 1*2*3*4*5"
      ],
      "metadata": {
        "colab": {
          "base_uri": "https://localhost:8080/"
        },
        "id": "79vORGHvKkGi",
        "outputId": "95ca15ee-680c-4fb2-8d99-4b6e516a517e"
      },
      "execution_count": null,
      "outputs": [
        {
          "output_type": "execute_result",
          "data": {
            "text/plain": [
              "40584"
            ]
          },
          "metadata": {},
          "execution_count": 61
        }
      ]
    },
    {
      "cell_type": "code",
      "source": [
        "# 20.Write a program to check whether a number is perfect number or not\n",
        "# a. Perfect number is a positive integer which is equal to the sum of\n",
        "# its proper positive divisors.\n",
        "# For example: 6 is the first perfect number\n",
        "# Proper divisors of 6 are 1, 2, 3\n",
        "# Sum of its proper divisors = 1 + 2 + 3 = 6.\n",
        "# Hence 6 is a perfect number.\n",
        "\n",
        "n=int(input(\"Enter a Number: \"))\n",
        "sum=0\n",
        "\n",
        "for i in range(1,n):\n",
        "  if n%i==0:\n",
        "    sum=sum+i\n",
        "\n",
        "if sum==n:\n",
        "  print(n,\"is a Perfect Number\")\n",
        "else:\n",
        "  print(n,\"is not an Perfect Number\")"
      ],
      "metadata": {
        "colab": {
          "base_uri": "https://localhost:8080/"
        },
        "id": "BnOapt8JK3AQ",
        "outputId": "2822d8ba-7302-46cb-cb9a-2eb1ca94a4e6"
      },
      "execution_count": null,
      "outputs": [
        {
          "output_type": "stream",
          "name": "stdout",
          "text": [
            "Enter a Number: 496\n",
            "496 is a Perfect Number\n"
          ]
        }
      ]
    },
    {
      "cell_type": "code",
      "source": [
        "# 21.Write a program to print fibonacci series upto n terms\n",
        "# a. Fibonacci series is a series of numbers where the current number\n",
        "# is the sum of the previous two terms. For Example: 0, 1, 1, 2, 3, 5,\n",
        "# 8, 13, 21, ... , (n-1th + n-2th)\n",
        "\n",
        "n=int(input(\"Enter a Number: \"))\n",
        "a=0\n",
        "b=1\n",
        "\n",
        "print(\"Fibonacci Series: \")\n",
        "\n",
        "for i in range(n):\n",
        "  print(a,end=\" \")\n",
        "  c=a+b\n",
        "  a=b\n",
        "  b=c"
      ],
      "metadata": {
        "colab": {
          "base_uri": "https://localhost:8080/"
        },
        "id": "rvoGEI_-LRK2",
        "outputId": "cf1b4d43-466a-4fdf-f25b-756eade1dac5"
      },
      "execution_count": null,
      "outputs": [
        {
          "output_type": "stream",
          "name": "stdout",
          "text": [
            "Enter a Number: 12\n",
            "Fibonacci Series: \n",
            "0 1 1 2 3 5 8 13 21 34 55 89 "
          ]
        }
      ]
    },
    {
      "cell_type": "code",
      "source": [
        "# Pattern Questions:"
      ],
      "metadata": {
        "id": "LCXOa4WHMj2B"
      },
      "execution_count": 1,
      "outputs": []
    },
    {
      "cell_type": "code",
      "source": [
        "for i in range(1,5):\n",
        "  for j in range(5-i):\n",
        "    print(\" \",end=\"\")\n",
        "  for j in range(1,5):\n",
        "    print(\"*\",end=\"\")\n",
        "  print()"
      ],
      "metadata": {
        "colab": {
          "base_uri": "https://localhost:8080/"
        },
        "id": "6aXANb-AALIt",
        "outputId": "3ae748ad-41fa-4fad-9276-87ee8ebb53b3"
      },
      "execution_count": 4,
      "outputs": [
        {
          "output_type": "stream",
          "name": "stdout",
          "text": [
            "    ****\n",
            "   ****\n",
            "  ****\n",
            " ****\n"
          ]
        }
      ]
    },
    {
      "cell_type": "code",
      "source": [
        "for i in range(1,5):\n",
        "  for j in range(5-i):\n",
        "    print(\" \",end=\"\")\n",
        "  for j in range(1,5):\n",
        "    print(j,end=\"\")\n",
        "  print()"
      ],
      "metadata": {
        "colab": {
          "base_uri": "https://localhost:8080/"
        },
        "id": "T0MFWoy-CR6Y",
        "outputId": "26de812f-a125-4b41-cf00-c39c830180e3"
      },
      "execution_count": 22,
      "outputs": [
        {
          "output_type": "stream",
          "name": "stdout",
          "text": [
            "    1234\n",
            "   1234\n",
            "  1234\n",
            " 1234\n"
          ]
        }
      ]
    },
    {
      "cell_type": "code",
      "source": [
        "for i in range(1,5):\n",
        "  for j in range(5-i):\n",
        "    print(\" \",end=\"\")\n",
        "  for j in range(1,5):\n",
        "    print(chr(64+j),end=\"\")\n",
        "  print()"
      ],
      "metadata": {
        "colab": {
          "base_uri": "https://localhost:8080/"
        },
        "id": "BVYQPxAACVab",
        "outputId": "ea331be1-3a74-4853-8bcd-28970e929b83"
      },
      "execution_count": 24,
      "outputs": [
        {
          "output_type": "stream",
          "name": "stdout",
          "text": [
            "    ABCD\n",
            "   ABCD\n",
            "  ABCD\n",
            " ABCD\n"
          ]
        }
      ]
    },
    {
      "cell_type": "code",
      "source": [
        "for i in range(1,5):\n",
        "  for j in range(1,i+1):\n",
        "    print(\" \",end=\"\")\n",
        "  for j in range(1,5):\n",
        "    print(\"*\",end=\"\")\n",
        "  print()"
      ],
      "metadata": {
        "colab": {
          "base_uri": "https://localhost:8080/"
        },
        "id": "MSKBjLZPAiFk",
        "outputId": "b81b072b-7210-4e78-c2e4-6cf099bea310"
      },
      "execution_count": 5,
      "outputs": [
        {
          "output_type": "stream",
          "name": "stdout",
          "text": [
            " ****\n",
            "  ****\n",
            "   ****\n",
            "    ****\n"
          ]
        }
      ]
    },
    {
      "cell_type": "code",
      "source": [
        "for i in range(1,5):\n",
        "  for j in range(1,i+1):\n",
        "    print(\" \",end=\"\")\n",
        "  for j in range(1,5):\n",
        "    print(j,end=\"\")\n",
        "  print()"
      ],
      "metadata": {
        "colab": {
          "base_uri": "https://localhost:8080/"
        },
        "id": "I93xkXMDCeHl",
        "outputId": "f99fc931-f42b-49c2-bf61-673caaca4824"
      },
      "execution_count": 25,
      "outputs": [
        {
          "output_type": "stream",
          "name": "stdout",
          "text": [
            " 1234\n",
            "  1234\n",
            "   1234\n",
            "    1234\n"
          ]
        }
      ]
    },
    {
      "cell_type": "code",
      "source": [
        "for i in range(1,5):\n",
        "  for j in range(1,i+1):\n",
        "    print(\" \",end=\"\")\n",
        "  for j in range(1,5):\n",
        "    print(chr(64+j),end=\"\")\n",
        "  print()"
      ],
      "metadata": {
        "colab": {
          "base_uri": "https://localhost:8080/"
        },
        "id": "C4W9a_eLCiKO",
        "outputId": "0beaac26-7de5-4edb-f54a-7e9da21ce5ee"
      },
      "execution_count": 26,
      "outputs": [
        {
          "output_type": "stream",
          "name": "stdout",
          "text": [
            " ABCD\n",
            "  ABCD\n",
            "   ABCD\n",
            "    ABCD\n"
          ]
        }
      ]
    },
    {
      "cell_type": "code",
      "source": [
        "for i in range(1,6):\n",
        "  for j in range(1,i+1):\n",
        "    print(chr(64+j),end=\"\")\n",
        "  print(\" \")"
      ],
      "metadata": {
        "colab": {
          "base_uri": "https://localhost:8080/"
        },
        "id": "UzKSZxU4AwI8",
        "outputId": "4d587117-687a-4b0a-ae1d-401a6814e6da"
      },
      "execution_count": 6,
      "outputs": [
        {
          "output_type": "stream",
          "name": "stdout",
          "text": [
            "A \n",
            "AB \n",
            "ABC \n",
            "ABCD \n",
            "ABCDE \n"
          ]
        }
      ]
    },
    {
      "cell_type": "code",
      "source": [
        "for i in range(1,6):\n",
        "  for j in range(1,i+1):\n",
        "    print(chr(64+i),end=\"\")\n",
        "  print(\" \")"
      ],
      "metadata": {
        "colab": {
          "base_uri": "https://localhost:8080/"
        },
        "id": "stn372tiA_CL",
        "outputId": "c8e680e0-ec2e-47ef-f7ec-476c9c33f573"
      },
      "execution_count": 7,
      "outputs": [
        {
          "output_type": "stream",
          "name": "stdout",
          "text": [
            "A \n",
            "BB \n",
            "CCC \n",
            "DDDD \n",
            "EEEEE \n"
          ]
        }
      ]
    },
    {
      "cell_type": "code",
      "source": [
        "for i in range(1,6):\n",
        "  for j in range(5-i):\n",
        "    print(\" \",end=\" \")\n",
        "  for j in range(1,i+1):\n",
        "    print(\"*\",end=\" \")\n",
        "  print(\" \")"
      ],
      "metadata": {
        "colab": {
          "base_uri": "https://localhost:8080/"
        },
        "id": "TNC6_YoZBDax",
        "outputId": "0fd8810b-1c69-4dad-c0a0-366e2652c012"
      },
      "execution_count": 10,
      "outputs": [
        {
          "output_type": "stream",
          "name": "stdout",
          "text": [
            "        *  \n",
            "      * *  \n",
            "    * * *  \n",
            "  * * * *  \n",
            "* * * * *  \n"
          ]
        }
      ]
    },
    {
      "cell_type": "code",
      "source": [
        "for i in range(1,6):\n",
        "  for j in range(5-i):\n",
        "    print(\" \",end=\" \")\n",
        "  for j in range(1,i+1):\n",
        "    print(j,end=\" \")\n",
        "  print(\" \")"
      ],
      "metadata": {
        "colab": {
          "base_uri": "https://localhost:8080/"
        },
        "id": "LqAYdXxuBRf7",
        "outputId": "64f430fe-bdc6-4eb8-8b2d-8024132eee10"
      },
      "execution_count": 11,
      "outputs": [
        {
          "output_type": "stream",
          "name": "stdout",
          "text": [
            "        1  \n",
            "      1 2  \n",
            "    1 2 3  \n",
            "  1 2 3 4  \n",
            "1 2 3 4 5  \n"
          ]
        }
      ]
    },
    {
      "cell_type": "code",
      "source": [
        "for i in range(1,6):\n",
        "  for j in range(1,i+1):\n",
        "    print(\" \",end=\" \")\n",
        "  for j in range(6-i):\n",
        "    print(\"*\",end=\" \")\n",
        "  print(\" \")"
      ],
      "metadata": {
        "colab": {
          "base_uri": "https://localhost:8080/"
        },
        "id": "vpj2CotKBjPB",
        "outputId": "ad52b1a5-a5c7-4250-8081-4eaf86c717cc"
      },
      "execution_count": 17,
      "outputs": [
        {
          "output_type": "stream",
          "name": "stdout",
          "text": [
            "  * * * * *  \n",
            "    * * * *  \n",
            "      * * *  \n",
            "        * *  \n",
            "          *  \n"
          ]
        }
      ]
    },
    {
      "cell_type": "code",
      "source": [
        "for i in range(1,6):\n",
        "  for j in range(1,i+1):\n",
        "    print(\" \",end=\" \")\n",
        "  for j in range(6-i):\n",
        "    print(j+1,end=\" \")\n",
        "  print(\" \")"
      ],
      "metadata": {
        "colab": {
          "base_uri": "https://localhost:8080/"
        },
        "id": "_fcy9dM2Bv_1",
        "outputId": "b04b2ad5-5fec-4901-b65a-9448e07a891b"
      },
      "execution_count": 19,
      "outputs": [
        {
          "output_type": "stream",
          "name": "stdout",
          "text": [
            "  1 2 3 4 5  \n",
            "    1 2 3 4  \n",
            "      1 2 3  \n",
            "        1 2  \n",
            "          1  \n"
          ]
        }
      ]
    },
    {
      "cell_type": "code",
      "source": [
        "for i in range(1,6):\n",
        "  for j in range(1,i+1):\n",
        "    print(\" \",end=\" \")\n",
        "  for j in range(6-i):\n",
        "    print(chr(65+j),end=\" \")\n",
        "  print(\" \")"
      ],
      "metadata": {
        "colab": {
          "base_uri": "https://localhost:8080/"
        },
        "id": "a2tvzwmhCDJQ",
        "outputId": "de6f1db9-f90b-4e6c-d679-dc64aad0b4c6"
      },
      "execution_count": 21,
      "outputs": [
        {
          "output_type": "stream",
          "name": "stdout",
          "text": [
            "  A B C D E  \n",
            "    A B C D  \n",
            "      A B C  \n",
            "        A B  \n",
            "          A  \n"
          ]
        }
      ]
    },
    {
      "cell_type": "code",
      "source": [
        "#Pyramid shape Pattern:\n",
        "\n",
        "for i in range(1,5):\n",
        "  for j in range(5-i):\n",
        "    print(\" \",end=\"\")\n",
        "  for j in range(1,2*i):\n",
        "    print(\"*\",end=\"\")\n",
        "  print(\" \")"
      ],
      "metadata": {
        "colab": {
          "base_uri": "https://localhost:8080/"
        },
        "id": "9Fl6ntMcCHIE",
        "outputId": "d6003bd3-a8b6-43c5-e760-e430851ba864"
      },
      "execution_count": 28,
      "outputs": [
        {
          "output_type": "stream",
          "name": "stdout",
          "text": [
            "    * \n",
            "   *** \n",
            "  ***** \n",
            " ******* \n"
          ]
        }
      ]
    },
    {
      "cell_type": "code",
      "source": [
        "#Inverted Pyramid Pattern Shaped:\n",
        "\n",
        "for i in range(4,0,-1):\n",
        "  for j in range(5-i):\n",
        "    print(\" \",end=\"\")\n",
        "  for j in range(1,2*i):\n",
        "    print(\"*\",end=\"\")\n",
        "  print(\" \")"
      ],
      "metadata": {
        "colab": {
          "base_uri": "https://localhost:8080/"
        },
        "id": "kIr4Lr03C7h9",
        "outputId": "09ac721d-b5e7-4df3-e40d-228eb3d1f4d4"
      },
      "execution_count": 37,
      "outputs": [
        {
          "output_type": "stream",
          "name": "stdout",
          "text": [
            " ******* \n",
            "  ***** \n",
            "   *** \n",
            "    * \n"
          ]
        }
      ]
    },
    {
      "cell_type": "code",
      "source": [
        "# Diamond Shape Pattern:\n",
        "\n",
        "for i in range(1,6):\n",
        "  for j in range(6-i):\n",
        "    print(\" \",end=\"\")\n",
        "  for j in range(1,2*i):\n",
        "    print(\"*\",end=\"\")\n",
        "  print(\" \")\n",
        "for i in range(4,0,-1):\n",
        "  for j in range(6-i):\n",
        "    print(\" \",end=\"\")\n",
        "  for j in range(1,2*i):\n",
        "    print(\"*\",end=\"\")\n",
        "  print(\" \")"
      ],
      "metadata": {
        "colab": {
          "base_uri": "https://localhost:8080/"
        },
        "id": "7JQW6IIfDFpb",
        "outputId": "bda3bf1d-021d-4a36-e8fb-8477a6762a4b"
      },
      "execution_count": 40,
      "outputs": [
        {
          "output_type": "stream",
          "name": "stdout",
          "text": [
            "     * \n",
            "    *** \n",
            "   ***** \n",
            "  ******* \n",
            " ********* \n",
            "  ******* \n",
            "   ***** \n",
            "    *** \n",
            "     * \n"
          ]
        }
      ]
    },
    {
      "cell_type": "code",
      "source": [
        "# Hollow Pyramid Pattern:\n",
        "\n",
        "for i in range(1,6):\n",
        "  for j in range(6-i):\n",
        "    print(\" \",end=\"\")\n",
        "  for j in range(1,2*i):\n",
        "    if j==1 or i==5 or j==2*i-1:\n",
        "      print(\"*\",end=\"\")\n",
        "    else:\n",
        "      print(\" \",end=\"\")\n",
        "  print(\" \")"
      ],
      "metadata": {
        "colab": {
          "base_uri": "https://localhost:8080/"
        },
        "id": "ebY8wo2jDgAY",
        "outputId": "7e42f6ba-267a-4110-a70b-32831bff743f"
      },
      "execution_count": 54,
      "outputs": [
        {
          "output_type": "stream",
          "name": "stdout",
          "text": [
            "     * \n",
            "    * * \n",
            "   *   * \n",
            "  *     * \n",
            " ********* \n"
          ]
        }
      ]
    },
    {
      "cell_type": "code",
      "source": [
        "for i in range(5,0,-1):\n",
        "  for j in range(5-i):\n",
        "    print(\" \",end=\"\")\n",
        "  for j in range(1,2*i):\n",
        "    if j==1 or i==5 or j==2*i-1:\n",
        "      print(\"*\",end=\"\")\n",
        "    else:\n",
        "      print(\" \",end=\"\")\n",
        "  print(\" \")"
      ],
      "metadata": {
        "colab": {
          "base_uri": "https://localhost:8080/"
        },
        "id": "OZJzN4JqEMQZ",
        "outputId": "d9073380-7bee-4dec-d68b-1ed076eb01af"
      },
      "execution_count": 64,
      "outputs": [
        {
          "output_type": "stream",
          "name": "stdout",
          "text": [
            "********* \n",
            " *     * \n",
            "  *   * \n",
            "   * * \n",
            "    * \n"
          ]
        }
      ]
    },
    {
      "cell_type": "code",
      "source": [
        "for i in range(1,5):\n",
        "  for j in range(1,i+1):\n",
        "    print(\"*\",end=\"\")\n",
        "  print(\" \")\n",
        "for i in range(2,5):\n",
        "  for j in range(5-i):\n",
        "    print(\"*\",end=\"\")\n",
        "  print(\" \")"
      ],
      "metadata": {
        "colab": {
          "base_uri": "https://localhost:8080/"
        },
        "id": "2XIm482oFmok",
        "outputId": "b81439b4-6425-4ae0-f0e7-15bac809f359"
      },
      "execution_count": 68,
      "outputs": [
        {
          "output_type": "stream",
          "name": "stdout",
          "text": [
            "* \n",
            "** \n",
            "*** \n",
            "**** \n",
            "*** \n",
            "** \n",
            "* \n"
          ]
        }
      ]
    },
    {
      "cell_type": "code",
      "source": [
        "for i in range(1,5):\n",
        "  for j in range(5-i):\n",
        "    print(\" \",end=\"\")\n",
        "  for j in range(1,i+1):\n",
        "    print(\"*\",end=\"\")\n",
        "  print(\" \")\n",
        "\n",
        "for i in range(2,5):\n",
        "  for j in range(1,i+1):\n",
        "    print(\" \",end=\"\")\n",
        "  for j in range(5-i):\n",
        "    print(\"*\",end=\"\")\n",
        "  print(\" \")"
      ],
      "metadata": {
        "colab": {
          "base_uri": "https://localhost:8080/"
        },
        "id": "N-40ehXJHlGw",
        "outputId": "510b82ab-0af2-41b5-a1de-b38cd1bac566"
      },
      "execution_count": 75,
      "outputs": [
        {
          "output_type": "stream",
          "name": "stdout",
          "text": [
            "    * \n",
            "   ** \n",
            "  *** \n",
            " **** \n",
            "  *** \n",
            "   ** \n",
            "    * \n"
          ]
        }
      ]
    },
    {
      "cell_type": "code",
      "source": [
        "# Sandglass Star Pattern:\n",
        "\n",
        "# For upper part:\n",
        "for i in range(1,6):\n",
        "  for j in range(1,i+1):\n",
        "    print(\" \",end=\" \")\n",
        "  for j in range(6-i):\n",
        "    print(\"*\",end=\" \")\n",
        "  for j in range(5-i):\n",
        "    print(\"*\",end=\" \")\n",
        "  for j in range(1,i+1):\n",
        "    print(\" \",end=\" \")\n",
        "  print(\" \")\n",
        "\n",
        "# For lower part:\n",
        "for i in range(2,6):\n",
        "  for j in range(6-i):\n",
        "    print(\" \",end=\" \")\n",
        "  for j in range(1,i+1):\n",
        "    print(\"*\",end=\" \")\n",
        "  for j in range(2,i+1):\n",
        "    print(\"*\",end=\" \")\n",
        "  for j in range(6-i):\n",
        "    print(\" \",end=\" \")\n",
        "  print(\" \")"
      ],
      "metadata": {
        "colab": {
          "base_uri": "https://localhost:8080/"
        },
        "id": "HIeS2mXhIKQI",
        "outputId": "ddea8136-bf1a-4623-e52e-24f73b4e6813"
      },
      "execution_count": 91,
      "outputs": [
        {
          "output_type": "stream",
          "name": "stdout",
          "text": [
            "  * * * * * * * * *    \n",
            "    * * * * * * *      \n",
            "      * * * * *        \n",
            "        * * *          \n",
            "          *            \n",
            "        * * *          \n",
            "      * * * * *        \n",
            "    * * * * * * *      \n",
            "  * * * * * * * * *    \n"
          ]
        }
      ]
    },
    {
      "cell_type": "code",
      "source": [
        "# Butterfly Pattern:\n",
        "\n",
        "#Upper Part:\n",
        "for i in range(1,6):\n",
        "  for j in range(1,i+1):\n",
        "    print(\"*\",end=\" \")\n",
        "  for j in range(5-i):\n",
        "    print(\" \",end=\" \")\n",
        "  for j in range(5-i):\n",
        "    print(\" \",end=\" \")\n",
        "  for j in range(1,i+1):\n",
        "    print(\"*\",end=\" \")\n",
        "  print(\" \")\n",
        "#Lower Part:\n",
        "for i in range(2,6):\n",
        "  for j in range(6-i):\n",
        "    print(\"*\",end=\" \")\n",
        "  for j in range(1,i-1):\n",
        "    print(\" \",end=\" \")\n",
        "  for j in range(1,i+1):\n",
        "    print(\" \",end=\" \")\n",
        "  for j in range(6-i):\n",
        "    print(\"*\",end=\" \")\n",
        "  print(\"\")"
      ],
      "metadata": {
        "colab": {
          "base_uri": "https://localhost:8080/"
        },
        "id": "k-6sKW_TMyB8",
        "outputId": "2598251b-3e47-4721-e8ae-5bfed80b0813"
      },
      "execution_count": 121,
      "outputs": [
        {
          "output_type": "stream",
          "name": "stdout",
          "text": [
            "*                 *  \n",
            "* *             * *  \n",
            "* * *         * * *  \n",
            "* * * *     * * * *  \n",
            "* * * * * * * * * *  \n",
            "* * * *     * * * * \n",
            "* * *         * * * \n",
            "* *             * * \n",
            "*                 * \n"
          ]
        }
      ]
    },
    {
      "cell_type": "code",
      "source": [
        "# Butterfly Pattern with Hollow Diamond Center\n",
        "\n",
        "# For Upper part:\n",
        "for i in range(1,6):\n",
        "  for j in range(6-i):\n",
        "    print(\"*\",end=\" \")\n",
        "  for j in range(1,i+1-1):\n",
        "    print(\" \",end=\" \")\n",
        "  for j in range(1,i+1-1):\n",
        "    print(\" \",end=\" \")\n",
        "  for j in range(6-i):\n",
        "    print(\"*\",end=\" \")\n",
        "  print(\" \")\n",
        "\n",
        "# For Lower Part:\n",
        "for i in range(2,6):\n",
        "  for j in range(1,i+1):\n",
        "    print(\"*\",end=\" \")\n",
        "  for j in range(5-i):\n",
        "    print(\" \",end=\" \")\n",
        "  for j in range(5-i):\n",
        "    print(\" \",end=\" \")\n",
        "  for j in range(1,i+1):\n",
        "    print(\"*\",end=\" \")\n",
        "  print(\"\")"
      ],
      "metadata": {
        "colab": {
          "base_uri": "https://localhost:8080/"
        },
        "id": "rBQ3H0RgQLze",
        "outputId": "d278ff83-78e0-4413-fa8a-bca39975f1f5"
      },
      "execution_count": 134,
      "outputs": [
        {
          "output_type": "stream",
          "name": "stdout",
          "text": [
            "* * * * * * * * * *  \n",
            "* * * *     * * * *  \n",
            "* * *         * * *  \n",
            "* *             * *  \n",
            "*                 *  \n",
            "* *             * * \n",
            "* * *         * * * \n",
            "* * * *     * * * * \n",
            "* * * * * * * * * * \n"
          ]
        }
      ]
    },
    {
      "cell_type": "code",
      "source": [],
      "metadata": {
        "id": "BmDE10WpTRoP"
      },
      "execution_count": null,
      "outputs": []
    }
  ]
}