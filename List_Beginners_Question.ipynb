{
  "nbformat": 4,
  "nbformat_minor": 0,
  "metadata": {
    "colab": {
      "provenance": [],
      "authorship_tag": "ABX9TyPwCwx/f8vJDFLL3mEZRgKm",
      "include_colab_link": true
    },
    "kernelspec": {
      "name": "python3",
      "display_name": "Python 3"
    },
    "language_info": {
      "name": "python"
    }
  },
  "cells": [
    {
      "cell_type": "markdown",
      "metadata": {
        "id": "view-in-github",
        "colab_type": "text"
      },
      "source": [
        "<a href=\"https://colab.research.google.com/github/Vinit5298/Python/blob/master/List_Beginners_Question.ipynb\" target=\"_parent\"><img src=\"https://colab.research.google.com/assets/colab-badge.svg\" alt=\"Open In Colab\"/></a>"
      ]
    },
    {
      "cell_type": "code",
      "execution_count": 2,
      "metadata": {
        "id": "WjX0ff5pHz0T",
        "colab": {
          "base_uri": "https://localhost:8080/"
        },
        "outputId": "e51c2eec-a6da-46a9-8b1f-4fb6b7d9b41c"
      },
      "outputs": [
        {
          "output_type": "stream",
          "name": "stdout",
          "text": [
            "Maximum Value in list: 99\n"
          ]
        }
      ],
      "source": [
        "# 1. Write a Python program to find the maximum element in a list of numbers without\n",
        "# max functions\n",
        "# numbers = [10, 20, 4, 45, 99]\n",
        "# The maximum element is: 99\n",
        "\n",
        "list=[10, 20, 4, 45, 99]\n",
        "max=list[0]\n",
        "\n",
        "for index in range(len(list)):\n",
        "  if list[index]>max:\n",
        "    max=list[index]\n",
        "print(f\"Maximum Value in list:\",max)"
      ]
    },
    {
      "cell_type": "code",
      "source": [
        "# 2. Write a Python program to sum all the elements in a list of numbers.\n",
        "# a. numbers = [10, 20, 30, 40]\n",
        "# b. The sum of all elements is: 100\n",
        "\n",
        "list=[10, 20, 30, 40]\n",
        "sum=0\n",
        "\n",
        "for index in range(len(list)):\n",
        "  if list[index]>0:\n",
        "    sum=sum+list[index]\n",
        "print(f\"Sum of all elements is:\",sum)"
      ],
      "metadata": {
        "colab": {
          "base_uri": "https://localhost:8080/"
        },
        "id": "I3Iuz7u7nRiV",
        "outputId": "8ba99ef3-407f-49d7-e4b5-647749c83c90"
      },
      "execution_count": 3,
      "outputs": [
        {
          "output_type": "stream",
          "name": "stdout",
          "text": [
            "Sum of all elements is: 100\n"
          ]
        }
      ]
    },
    {
      "cell_type": "code",
      "source": [
        "# 3. Write a Python program to reverse a list without reverse or slicing operator\n",
        "# a. numbers = [1, 2, 3, 4, 5]\n",
        "# b. Reversed list: [5, 4, 3, 2, 1]\n",
        "\n",
        "list=[1,2,3,4,5]\n",
        "Rev=[]\n",
        "\n",
        "for index in range(len(list)-1,-1,-1):\n",
        "  Rev.append(list[index])\n",
        "print(f\"Reversed list:\",Rev)"
      ],
      "metadata": {
        "colab": {
          "base_uri": "https://localhost:8080/"
        },
        "id": "D209rQnPnpIl",
        "outputId": "d465c997-6c36-4a65-fc4a-e8331e2a4b2a"
      },
      "execution_count": 4,
      "outputs": [
        {
          "output_type": "stream",
          "name": "stdout",
          "text": [
            "Reversed list: [5, 4, 3, 2, 1]\n"
          ]
        }
      ]
    },
    {
      "cell_type": "code",
      "source": [
        "# 4. Write a Python program to sort a list in ascending order without sort functions\n",
        "\n",
        "mylist=[10, 20, 4, 45, 99, 30, 40]\n",
        "n = len(mylist)\n",
        "\n",
        "for index1 in range(n):\n",
        "    for index2 in range(0, n - index1 - 1):\n",
        "        if mylist[index2] > mylist[index2 + 1]:\n",
        "            mylist[index2], mylist[index2 + 1] = mylist[index2 + 1], mylist[index2]\n",
        "print(\"list in ascending order:\", mylist)"
      ],
      "metadata": {
        "colab": {
          "base_uri": "https://localhost:8080/"
        },
        "id": "iGvJslAbnzfv",
        "outputId": "f79f2569-e21a-4206-a010-7ed88fae99ab"
      },
      "execution_count": 10,
      "outputs": [
        {
          "output_type": "stream",
          "name": "stdout",
          "text": [
            "list in ascending order: [4, 10, 20, 30, 40, 45, 99]\n"
          ]
        }
      ]
    },
    {
      "cell_type": "code",
      "source": [
        "# 5. Write a Python program to remove duplicates from a list while maintaining the order\n",
        "# of elements.\n",
        "# a. numbers = [1, 2, 2, 3, 4, 4, 5]\n",
        "# b. List after removing duplicates: [1, 2, 3, 4, 5]\n",
        "\n",
        "user_input = [1, 2, 2, 3, 4, 4, 5]\n",
        "unique_list = []\n",
        "\n",
        "for item in user_input:\n",
        "    if item not in unique_list:\n",
        "        unique_list.append(item)\n",
        "print(\"List after removing duplicates:\", unique_list)"
      ],
      "metadata": {
        "colab": {
          "base_uri": "https://localhost:8080/"
        },
        "id": "1mYG5GE2oVgx",
        "outputId": "05de3143-1b07-4f70-e956-23e7f0f39556"
      },
      "execution_count": 11,
      "outputs": [
        {
          "output_type": "stream",
          "name": "stdout",
          "text": [
            "List after removing duplicates: [1, 2, 3, 4, 5]\n"
          ]
        }
      ]
    },
    {
      "cell_type": "code",
      "source": [
        "# 6. Write a Python program to find all pairs of numbers in a list that add up to a specific\n",
        "# target sum.\n",
        "# a. numbers = [1, 2, 3, 4, 3, 5, 6] target_sum = 6\n",
        "# b. Pairs that add up to 6: [(3, 3), (2, 4), (1, 5)]\n",
        "\n",
        "numbers = [1, 2, 3, 4, 3, 5, 6]\n",
        "target_sum = 6\n",
        "\n",
        "# To store unique pairs\n",
        "pairs = []\n",
        "\n",
        "# Check all unique pairs\n",
        "for i in range(len(numbers)):\n",
        "    for j in range(i + 1, len(numbers)):\n",
        "        if numbers[i] + numbers[j] == target_sum:\n",
        "            pair = (numbers[i], numbers[j])\n",
        "            # Avoid adding duplicates like (2, 4) and (4, 2)\n",
        "            if pair not in pairs and (pair[1], pair[0]) not in pairs:\n",
        "                pairs.append(pair)\n",
        "\n",
        "# Print the result\n",
        "print(\"Pairs that add up to\", target_sum, \":\", pairs)"
      ],
      "metadata": {
        "colab": {
          "base_uri": "https://localhost:8080/"
        },
        "id": "jlz3M5zEpR16",
        "outputId": "49b20995-620b-4fcc-ed5c-14f6fb5f330f"
      },
      "execution_count": 12,
      "outputs": [
        {
          "output_type": "stream",
          "name": "stdout",
          "text": [
            "Pairs that add up to 6 : [(1, 5), (2, 4), (3, 3)]\n"
          ]
        }
      ]
    },
    {
      "cell_type": "code",
      "source": [
        "# 7. Write a Python program to flatten a nested list (list within lists) into a single list.\n",
        "# a. nested_list = [1, [2, 3], [4, [5, 6], 7], 8]\n",
        "# b. Flattened list: [1, 2, 3, 4, 5, 6, 7, 8]\n",
        "\n",
        "nested_list = [1, [2, 3], [4, [5, 6], 7], 8]\n",
        "flat_list = []\n",
        "\n",
        "for item in nested_list:\n",
        "    if type(item) == list:\n",
        "        for sub_item in item:\n",
        "            if type(sub_item) == list:\n",
        "                for sub_sub_item in sub_item:\n",
        "                    flat_list.append(sub_sub_item)\n",
        "            else:\n",
        "                flat_list.append(sub_item)\n",
        "    else:\n",
        "        flat_list.append(item)\n",
        "\n",
        "print(\"Flattened list:\", flat_list)\n"
      ],
      "metadata": {
        "colab": {
          "base_uri": "https://localhost:8080/"
        },
        "id": "dguhLRwfpWHI",
        "outputId": "ce0dbb0b-307b-48f4-80f3-b22ae9ce7e98"
      },
      "execution_count": 17,
      "outputs": [
        {
          "output_type": "stream",
          "name": "stdout",
          "text": [
            "Flattened list: [1, [2, 3], [4, [5, 6], 7], 8]\n"
          ]
        }
      ]
    },
    {
      "cell_type": "code",
      "source": [
        "# 8. Write a Python program to find the sum of the elements in a list, excluding the largest\n",
        "# and smallest element. Don’t use max or min functions\n",
        "# a. numbers = [1, 2, 3, 4, 5]\n",
        "# b. Sum excluding the largest and smallest element: 9\n",
        "\n",
        "numbers = [1, 2, 3, 4, 5]\n",
        "\n",
        "# Step 1: Assume the first element as min and max\n",
        "smallest = numbers[0]\n",
        "largest = numbers[0]\n",
        "\n",
        "# Step 2: Find the smallest and largest manually\n",
        "for num in numbers:\n",
        "    if num < smallest:\n",
        "        smallest = num\n",
        "    if num > largest:\n",
        "        largest = num\n",
        "\n",
        "# Step 3: Calculate total sum\n",
        "total = 0\n",
        "for num in numbers:\n",
        "    total += num\n",
        "\n",
        "# Step 4: Subtract smallest and largest\n",
        "result = total - smallest - largest\n",
        "\n",
        "print(\"Sum excluding the largest and smallest element:\", result)"
      ],
      "metadata": {
        "colab": {
          "base_uri": "https://localhost:8080/"
        },
        "id": "-VPK-FCZqGKz",
        "outputId": "4bbdffd8-4b91-4b85-d2e5-9a4c9ad37288"
      },
      "execution_count": 18,
      "outputs": [
        {
          "output_type": "stream",
          "name": "stdout",
          "text": [
            "Sum excluding the largest and smallest element: 9\n"
          ]
        }
      ]
    },
    {
      "cell_type": "code",
      "source": [],
      "metadata": {
        "id": "Ra17Pl18q8JO"
      },
      "execution_count": null,
      "outputs": []
    }
  ]
}