{
  "nbformat": 4,
  "nbformat_minor": 0,
  "metadata": {
    "colab": {
      "provenance": [],
      "authorship_tag": "ABX9TyPLRz1+zqBT9m96PXL2b1xg",
      "include_colab_link": true
    },
    "kernelspec": {
      "name": "python3",
      "display_name": "Python 3"
    },
    "language_info": {
      "name": "python"
    }
  },
  "cells": [
    {
      "cell_type": "markdown",
      "metadata": {
        "id": "view-in-github",
        "colab_type": "text"
      },
      "source": [
        "<a href=\"https://colab.research.google.com/github/Vinit5298/Python/blob/main/TOC_Patterns_Questions.ipynb\" target=\"_parent\"><img src=\"https://colab.research.google.com/assets/colab-badge.svg\" alt=\"Open In Colab\"/></a>"
      ]
    },
    {
      "cell_type": "code",
      "execution_count": null,
      "metadata": {
        "colab": {
          "base_uri": "https://localhost:8080/"
        },
        "id": "OkfCWXKvr-tf",
        "outputId": "4f9a60c9-6548-47db-f8b8-3514195ef13d"
      },
      "outputs": [
        {
          "output_type": "stream",
          "name": "stdout",
          "text": [
            " **** \n",
            "  **** \n",
            "   **** \n",
            "    **** \n"
          ]
        }
      ],
      "source": [
        "#  ****\n",
        "#   ****\n",
        "#    ****\n",
        "#     ****\n",
        "\n",
        "for i in range(1,5):\n",
        "  for j in range(1,i+1):\n",
        "    print(\" \",end=\"\")\n",
        "  for k in range(1,5):\n",
        "    print(\"*\",end=\"\")\n",
        "  print(\" \")"
      ]
    },
    {
      "cell_type": "code",
      "source": [
        "#     ****\n",
        "#    ****\n",
        "#   ****\n",
        "#  ****\n",
        "\n",
        "for i in range(1,5):\n",
        "  for j in range(5-i):\n",
        "    print(\" \",end=\"\")\n",
        "  for k in range(1,5):\n",
        "    print(\"*\",end=\"\")\n",
        "  print(\" \")"
      ],
      "metadata": {
        "colab": {
          "base_uri": "https://localhost:8080/"
        },
        "id": "dotj6659sPsi",
        "outputId": "07a85186-667e-44b7-e1a1-9e122f819e94"
      },
      "execution_count": null,
      "outputs": [
        {
          "output_type": "stream",
          "name": "stdout",
          "text": [
            "    **** \n",
            "   **** \n",
            "  **** \n",
            " **** \n"
          ]
        }
      ]
    },
    {
      "cell_type": "code",
      "source": [
        "for i in range(1,5):\n",
        "  for j in range(1,5):\n",
        "    if i==1 or i==4 or j==1 or j==4:\n",
        "      print(\"*\",end=\"\")\n",
        "    else:\n",
        "      print(\" \",end=\"\")\n",
        "  print(\" \")"
      ],
      "metadata": {
        "colab": {
          "base_uri": "https://localhost:8080/"
        },
        "id": "Zp3keh3Ny2p3",
        "outputId": "9e6f16f3-441d-4aeb-9d2c-ec08701d43f7"
      },
      "execution_count": null,
      "outputs": [
        {
          "output_type": "stream",
          "name": "stdout",
          "text": [
            "**** \n",
            "*  * \n",
            "*  * \n",
            "**** \n"
          ]
        }
      ]
    },
    {
      "cell_type": "code",
      "source": [
        "# A\n",
        "# AB\n",
        "# ABC\n",
        "# ABCD\n",
        "# ABCDE\n",
        "\n",
        "for i in range(1,6):\n",
        "  for j in range(1,i+1):\n",
        "    print(chr(64+j),end=\"\")\n",
        "  print(\" \")"
      ],
      "metadata": {
        "colab": {
          "base_uri": "https://localhost:8080/"
        },
        "id": "vZ-MyN28sqL1",
        "outputId": "22e0bb28-b6be-4ee4-dbf3-7a894db7627b"
      },
      "execution_count": null,
      "outputs": [
        {
          "output_type": "stream",
          "name": "stdout",
          "text": [
            "A \n",
            "AB \n",
            "ABC \n",
            "ABCD \n",
            "ABCDE \n"
          ]
        }
      ]
    },
    {
      "cell_type": "code",
      "source": [
        "# A\n",
        "# B B\n",
        "# C C C\n",
        "# D D D D\n",
        "# E E E E E\n",
        "\n",
        "for i in range(1,6):\n",
        "  for j in range(1,i+1):\n",
        "    print(chr(64+i),end=\" \")\n",
        "  print(\" \")"
      ],
      "metadata": {
        "colab": {
          "base_uri": "https://localhost:8080/"
        },
        "id": "KnWdD9zTs5ET",
        "outputId": "93ba9503-c562-4b08-acc7-b6f1faf84b6d"
      },
      "execution_count": null,
      "outputs": [
        {
          "output_type": "stream",
          "name": "stdout",
          "text": [
            "A  \n",
            "B B  \n",
            "C C C  \n",
            "D D D D  \n",
            "E E E E E  \n"
          ]
        }
      ]
    },
    {
      "cell_type": "code",
      "source": [
        "# E\n",
        "# D E\n",
        "# C D E\n",
        "# B C D E\n",
        "# A B C D E\n",
        "\n",
        "for i in range(1,6):\n",
        "  for j in range(1,i+1):\n",
        "    print(chr(69-i+j),end=\" \")\n",
        "  print(\" \")"
      ],
      "metadata": {
        "colab": {
          "base_uri": "https://localhost:8080/"
        },
        "id": "iW99IvDdtC5D",
        "outputId": "7e8c6d7e-09f1-4a9a-888a-adf6dc93724b"
      },
      "execution_count": null,
      "outputs": [
        {
          "output_type": "stream",
          "name": "stdout",
          "text": [
            "E  \n",
            "D E  \n",
            "C D E  \n",
            "B C D E  \n",
            "A B C D E  \n"
          ]
        }
      ]
    },
    {
      "cell_type": "code",
      "source": [
        "for i in range(1,6):\n",
        "  for j in range(6-i):\n",
        "    print(\" \",end=\" \")\n",
        "  for j in range(1,i+1):\n",
        "    print(\"*\",end=\" \")\n",
        "  print(\" \")"
      ],
      "metadata": {
        "colab": {
          "base_uri": "https://localhost:8080/"
        },
        "id": "IyaRSU1ttsci",
        "outputId": "28ec11de-49db-4088-d1b7-c240d6686bdf"
      },
      "execution_count": null,
      "outputs": [
        {
          "output_type": "stream",
          "name": "stdout",
          "text": [
            "          *  \n",
            "        * *  \n",
            "      * * *  \n",
            "    * * * *  \n",
            "  * * * * *  \n"
          ]
        }
      ]
    },
    {
      "cell_type": "code",
      "source": [
        "for i in range(1,6):\n",
        "  for j in range(6-i):\n",
        "    print(\" \",end=\" \")\n",
        "  for j in range(1,i+1):\n",
        "    print(j,end=\" \")\n",
        "  print(\" \")"
      ],
      "metadata": {
        "colab": {
          "base_uri": "https://localhost:8080/"
        },
        "id": "z9ak1FXguYQf",
        "outputId": "5f7ca175-d652-4500-cdc7-b338cfe4091a"
      },
      "execution_count": null,
      "outputs": [
        {
          "output_type": "stream",
          "name": "stdout",
          "text": [
            "          1  \n",
            "        1 2  \n",
            "      1 2 3  \n",
            "    1 2 3 4  \n",
            "  1 2 3 4 5  \n"
          ]
        }
      ]
    },
    {
      "cell_type": "code",
      "source": [
        "for i in range(1,6):\n",
        "  for j in range(1,i+1):\n",
        "    print(\" \",end=\" \")\n",
        "  for j in range(6-i):\n",
        "    print(\"*\",end=\" \")\n",
        "  print(\" \")"
      ],
      "metadata": {
        "colab": {
          "base_uri": "https://localhost:8080/"
        },
        "id": "CGJ0cAXpunNq",
        "outputId": "2b775ddc-3f53-4acc-8f43-5e4a9f1e1fcb"
      },
      "execution_count": null,
      "outputs": [
        {
          "output_type": "stream",
          "name": "stdout",
          "text": [
            "  * * * * *  \n",
            "    * * * *  \n",
            "      * * *  \n",
            "        * *  \n",
            "          *  \n"
          ]
        }
      ]
    },
    {
      "cell_type": "code",
      "source": [
        "for i in range(1,6):\n",
        "  for j in range(1,i+1):\n",
        "    print(\" \",end=\" \")\n",
        "  for j in range(6-i):\n",
        "    print(j+1,end=\" \")\n",
        "  print(\" \")"
      ],
      "metadata": {
        "colab": {
          "base_uri": "https://localhost:8080/"
        },
        "id": "pj-e83a-u7EX",
        "outputId": "eaaf6f98-882e-4089-b8de-4b746194517e"
      },
      "execution_count": null,
      "outputs": [
        {
          "output_type": "stream",
          "name": "stdout",
          "text": [
            "  1 2 3 4 5  \n",
            "    1 2 3 4  \n",
            "      1 2 3  \n",
            "        1 2  \n",
            "          1  \n"
          ]
        }
      ]
    },
    {
      "cell_type": "code",
      "source": [
        "for i in range(1,6):\n",
        "  for j in range(1,i+1):\n",
        "    print(\" \",end=\" \")\n",
        "  for j in range(6-i):\n",
        "    print(chr(65+j),end=\" \")\n",
        "  print(\" \")"
      ],
      "metadata": {
        "colab": {
          "base_uri": "https://localhost:8080/"
        },
        "id": "m7uv0t49u-22",
        "outputId": "1c4e15b3-831b-49d0-ff7e-629223b9fb08"
      },
      "execution_count": null,
      "outputs": [
        {
          "output_type": "stream",
          "name": "stdout",
          "text": [
            "  A B C D E  \n",
            "    A B C D  \n",
            "      A B C  \n",
            "        A B  \n",
            "          A  \n"
          ]
        }
      ]
    },
    {
      "cell_type": "code",
      "source": [
        "for i in range(1,6):\n",
        "  for j in range(6-i):\n",
        "    print(\" \",end=\"\")\n",
        "  for j in range(1,6):\n",
        "    print(j,end=\" \")\n",
        "  print(\" \")"
      ],
      "metadata": {
        "colab": {
          "base_uri": "https://localhost:8080/"
        },
        "id": "S0KMDu-cvF54",
        "outputId": "4c456dd4-293e-4709-a3c2-79c3bdb74a83"
      },
      "execution_count": null,
      "outputs": [
        {
          "output_type": "stream",
          "name": "stdout",
          "text": [
            "     1 2 3 4 5  \n",
            "    1 2 3 4 5  \n",
            "   1 2 3 4 5  \n",
            "  1 2 3 4 5  \n",
            " 1 2 3 4 5  \n"
          ]
        }
      ]
    },
    {
      "cell_type": "code",
      "source": [
        "for i in range(1,6):\n",
        "  for j in range(6-i):\n",
        "    print(\" \",end=\"\")\n",
        "  for j in range(1,6):\n",
        "    print(chr(64+j),end=\" \")\n",
        "  print(\" \")"
      ],
      "metadata": {
        "colab": {
          "base_uri": "https://localhost:8080/"
        },
        "id": "J9fIs7Lxvk5q",
        "outputId": "9c7dc74a-13dc-4147-8a62-c0ed7f1b8338"
      },
      "execution_count": null,
      "outputs": [
        {
          "output_type": "stream",
          "name": "stdout",
          "text": [
            "     A B C D E  \n",
            "    A B C D E  \n",
            "   A B C D E  \n",
            "  A B C D E  \n",
            " A B C D E  \n"
          ]
        }
      ]
    },
    {
      "cell_type": "code",
      "source": [
        "for i in range(1,5):\n",
        "  for j in range(4-i):\n",
        "    print(\" \",end=\"\")\n",
        "  for k in range(1,2*i):\n",
        "    print(\"*\",end=\"\")\n",
        "  print(\" \")"
      ],
      "metadata": {
        "colab": {
          "base_uri": "https://localhost:8080/"
        },
        "id": "WE0ILKy_vpry",
        "outputId": "89b54ba5-0cb4-449f-b05b-00301e8bef59"
      },
      "execution_count": null,
      "outputs": [
        {
          "output_type": "stream",
          "name": "stdout",
          "text": [
            "   * \n",
            "  *** \n",
            " ***** \n",
            "******* \n"
          ]
        }
      ]
    },
    {
      "cell_type": "code",
      "source": [
        "for i in range(4,0,-1):\n",
        "  for j in range(4-i):\n",
        "    print(\" \",end=\"\")\n",
        "  for k in range(1,2*i):\n",
        "    print(\"*\",end=\"\")\n",
        "  print(\" \")"
      ],
      "metadata": {
        "colab": {
          "base_uri": "https://localhost:8080/"
        },
        "id": "fEJDpOQHv_Ku",
        "outputId": "32c24eb2-1c9b-4e18-d9f6-6f1e911dfc72"
      },
      "execution_count": null,
      "outputs": [
        {
          "output_type": "stream",
          "name": "stdout",
          "text": [
            "******* \n",
            " ***** \n",
            "  *** \n",
            "   * \n"
          ]
        }
      ]
    },
    {
      "cell_type": "code",
      "source": [
        "for i in range(1,5):\n",
        "  for j in range(5-i):\n",
        "    print(\" \",end=\"\")\n",
        "  for k in range(1,2*i):\n",
        "    if k == 1 or k == 2*i-1 or i==4:\n",
        "      print(\"*\",end=\"\")\n",
        "    else:\n",
        "      print(\" \",end=\"\")\n",
        "  print(\" \")"
      ],
      "metadata": {
        "colab": {
          "base_uri": "https://localhost:8080/"
        },
        "id": "_LadnUBSxRzb",
        "outputId": "6656973c-407e-4502-f1bb-39bdc048b275"
      },
      "execution_count": null,
      "outputs": [
        {
          "output_type": "stream",
          "name": "stdout",
          "text": [
            "    * \n",
            "   * * \n",
            "  *   * \n",
            " ******* \n"
          ]
        }
      ]
    },
    {
      "cell_type": "code",
      "source": [
        "for i in range(1,5):\n",
        "  for j in range(1,i+1):\n",
        "    print(\"*\",end=\"\")\n",
        "  print(\" \")\n",
        "for i in range(2,5):\n",
        "  for j in range(5-i):\n",
        "    print(\"*\",end=\"\")\n",
        "  print(\" \")"
      ],
      "metadata": {
        "colab": {
          "base_uri": "https://localhost:8080/"
        },
        "id": "fG7RWXaFxWaY",
        "outputId": "86188771-ac81-4097-9523-979d09d3ef6c"
      },
      "execution_count": null,
      "outputs": [
        {
          "output_type": "stream",
          "name": "stdout",
          "text": [
            "* \n",
            "** \n",
            "*** \n",
            "**** \n",
            "*** \n",
            "** \n",
            "* \n"
          ]
        }
      ]
    },
    {
      "cell_type": "code",
      "source": [
        "for i in range(1,5):\n",
        "  for j in range(5-i):\n",
        "    print(\" \",end=\"\")\n",
        "  for k in range(1,i+1):\n",
        "    print(\"*\",end=\"\")\n",
        "  print(\" \")\n",
        "for i in range(2,5):\n",
        "  for j in range(1,i+1):\n",
        "    print(\" \",end=\"\")\n",
        "  for k in range(5-i):\n",
        "    print(\"*\",end=\"\")\n",
        "  print(\" \")"
      ],
      "metadata": {
        "colab": {
          "base_uri": "https://localhost:8080/"
        },
        "id": "WhkZFfX7x1-W",
        "outputId": "5d0e0e2f-35d8-4c3f-f9be-4127979c42e2"
      },
      "execution_count": null,
      "outputs": [
        {
          "output_type": "stream",
          "name": "stdout",
          "text": [
            "    * \n",
            "   ** \n",
            "  *** \n",
            " **** \n",
            "  *** \n",
            "   ** \n",
            "    * \n"
          ]
        }
      ]
    },
    {
      "cell_type": "code",
      "source": [
        "for i in range(1,5):\n",
        "  for j in range(4-i):\n",
        "    print(\" \",end=\"\")\n",
        "  for k in range(1,2*i):\n",
        "    print(\"*\",end=\"\")\n",
        "  print(\" \")\n",
        "for i in range(3,0,-1):\n",
        "  for j in range(4-i):\n",
        "    print(\" \",end=\"\")\n",
        "  for k in range(1,2*i):\n",
        "    print(\"*\",end=\"\")\n",
        "  print(\" \")"
      ],
      "metadata": {
        "colab": {
          "base_uri": "https://localhost:8080/"
        },
        "id": "QkZ6IyxIwNOj",
        "outputId": "af00a678-8c59-45d6-ef52-3401d4375aa7"
      },
      "execution_count": null,
      "outputs": [
        {
          "output_type": "stream",
          "name": "stdout",
          "text": [
            "   * \n",
            "  *** \n",
            " ***** \n",
            "******* \n",
            " ***** \n",
            "  *** \n",
            "   * \n"
          ]
        }
      ]
    },
    {
      "cell_type": "code",
      "source": [
        "for i in range(1,6):\n",
        "  for j in range(1,i+1):\n",
        "    print(j,end=\" \")\n",
        "  print(\" \")"
      ],
      "metadata": {
        "colab": {
          "base_uri": "https://localhost:8080/"
        },
        "id": "ASoAdUBgxBH6",
        "outputId": "827bd749-5385-455a-f431-23a83ed8b5bf"
      },
      "execution_count": null,
      "outputs": [
        {
          "output_type": "stream",
          "name": "stdout",
          "text": [
            "1  \n",
            "1 2  \n",
            "1 2 3  \n",
            "1 2 3 4  \n",
            "1 2 3 4 5  \n"
          ]
        }
      ]
    },
    {
      "cell_type": "code",
      "source": [
        "for i in range(1,6):\n",
        "  for j in range(6-i):\n",
        "    print(j+1,end=\" \")\n",
        "  print(\" \")"
      ],
      "metadata": {
        "colab": {
          "base_uri": "https://localhost:8080/"
        },
        "id": "RV6SdDWOzUcz",
        "outputId": "471e6ac2-90d8-4157-9af8-8d05f37fd804"
      },
      "execution_count": null,
      "outputs": [
        {
          "output_type": "stream",
          "name": "stdout",
          "text": [
            "1 2 3 4 5  \n",
            "1 2 3 4  \n",
            "1 2 3  \n",
            "1 2  \n",
            "1  \n"
          ]
        }
      ]
    },
    {
      "cell_type": "code",
      "source": [
        "for i in range(1,6):\n",
        "  for j in range(1,i+1):\n",
        "    if i==1 or i==5 or j==1 or j==i:\n",
        "      print(j,end=\" \")\n",
        "    else:\n",
        "      print(\" \",end=\" \")\n",
        "  print(\" \")"
      ],
      "metadata": {
        "colab": {
          "base_uri": "https://localhost:8080/"
        },
        "id": "BlYe0DJBzZ5o",
        "outputId": "64119a1d-c574-4dd5-8eda-fed8518ab764"
      },
      "execution_count": null,
      "outputs": [
        {
          "output_type": "stream",
          "name": "stdout",
          "text": [
            "1  \n",
            "1 2  \n",
            "1   3  \n",
            "1     4  \n",
            "1 2 3 4 5  \n"
          ]
        }
      ]
    },
    {
      "cell_type": "code",
      "source": [
        "for i in range(5,0,-1):\n",
        "  for j in range(1,i+1):\n",
        "    if i==1 or i==5 or j==1 or j==i:\n",
        "      print(j,end=\" \")\n",
        "    else:\n",
        "      print(\" \",end=\" \")\n",
        "  print(\" \")"
      ],
      "metadata": {
        "colab": {
          "base_uri": "https://localhost:8080/"
        },
        "id": "UFcKFcrUzqMY",
        "outputId": "8bb9ce11-9543-40ec-835f-3b64cc4bf07b"
      },
      "execution_count": null,
      "outputs": [
        {
          "output_type": "stream",
          "name": "stdout",
          "text": [
            "1 2 3 4 5  \n",
            "1     4  \n",
            "1   3  \n",
            "1 2  \n",
            "1  \n"
          ]
        }
      ]
    },
    {
      "cell_type": "code",
      "source": [
        "for i in range(1, 6):\n",
        "  print(\"  \" * (6 - i), end=\" \")\n",
        "  for j in range(i, 2 * i):\n",
        "    print(j, end=\" \")\n",
        "  for j in range(2 * i - 2, i - 1, -1):\n",
        "    print(j, end=\" \")\n",
        "  print(\" \")"
      ],
      "metadata": {
        "colab": {
          "base_uri": "https://localhost:8080/"
        },
        "id": "qHc5YeVzz6i2",
        "outputId": "0f60308d-1374-40f8-8e0c-362b6e129498"
      },
      "execution_count": null,
      "outputs": [
        {
          "output_type": "stream",
          "name": "stdout",
          "text": [
            "           1  \n",
            "         2 3 2  \n",
            "       3 4 5 4 3  \n",
            "     4 5 6 7 6 5 4  \n",
            "   5 6 7 8 9 8 7 6 5  \n"
          ]
        }
      ]
    },
    {
      "cell_type": "code",
      "source": [
        "for i in range(1,6):\n",
        "  for j in range(1,5-i+1):\n",
        "    print(\" \",end=\"\")\n",
        "  for k in range(1,i+1):\n",
        "    if k==1 or k==i or i==5:\n",
        "      print(\"*\",end=\" \")\n",
        "    else:\n",
        "      print(\" \",end=\" \")\n",
        "  print(\" \")"
      ],
      "metadata": {
        "colab": {
          "base_uri": "https://localhost:8080/"
        },
        "id": "0n15Ab034YdW",
        "outputId": "a3cd9718-66b0-4f11-fa62-9574fd92e5ed"
      },
      "execution_count": null,
      "outputs": [
        {
          "output_type": "stream",
          "name": "stdout",
          "text": [
            "    *  \n",
            "   * *  \n",
            "  *   *  \n",
            " *     *  \n",
            "* * * * *  \n"
          ]
        }
      ]
    },
    {
      "cell_type": "code",
      "source": [
        "for i in range(1,6):  # Upper part of diamond\n",
        "    for j in range(5 - i):\n",
        "        print(\" \", end=\" \")\n",
        "    for k in range(1, 2 * i):\n",
        "        print(\"*\", end=\" \")\n",
        "    print()\n",
        "for i in range(5 - 1, 0, -1):  # Lower part of diamond\n",
        "    for j in range(5 - i):\n",
        "        print(\" \", end=\" \")\n",
        "    for k in range(1, 2 * i):\n",
        "        print(\"*\", end=\" \")\n",
        "    print()"
      ],
      "metadata": {
        "colab": {
          "base_uri": "https://localhost:8080/"
        },
        "id": "z7QNLReC6-O3",
        "outputId": "7da2fa7f-04d9-4d1c-d38c-724af0637cde"
      },
      "execution_count": null,
      "outputs": [
        {
          "output_type": "stream",
          "name": "stdout",
          "text": [
            "        * \n",
            "      * * * \n",
            "    * * * * * \n",
            "  * * * * * * * \n",
            "* * * * * * * * * \n",
            "  * * * * * * * \n",
            "    * * * * * \n",
            "      * * * \n",
            "        * \n"
          ]
        }
      ]
    },
    {
      "cell_type": "code",
      "source": [
        "for i in range(1,6):  # Upper part of diamond\n",
        "    for j in range(5 - i):\n",
        "        print(\" \", end=\" \")\n",
        "    for k in range(1, 2 * i):\n",
        "        print(k, end=\" \")\n",
        "    print()\n",
        "for i in range(5 - 1, 0, -1):  # Lower part of diamond\n",
        "    for j in range(5 - i):\n",
        "        print(\" \", end=\" \")\n",
        "    for k in range(1, 2 * i):\n",
        "        print(k, end=\" \")\n",
        "    print()"
      ],
      "metadata": {
        "colab": {
          "base_uri": "https://localhost:8080/"
        },
        "id": "qEh-U8r07nAN",
        "outputId": "a49971c4-9d14-45d6-f09a-f19a805e0e21"
      },
      "execution_count": null,
      "outputs": [
        {
          "output_type": "stream",
          "name": "stdout",
          "text": [
            "        1 \n",
            "      1 2 3 \n",
            "    1 2 3 4 5 \n",
            "  1 2 3 4 5 6 7 \n",
            "1 2 3 4 5 6 7 8 9 \n",
            "  1 2 3 4 5 6 7 \n",
            "    1 2 3 4 5 \n",
            "      1 2 3 \n",
            "        1 \n"
          ]
        }
      ]
    },
    {
      "cell_type": "code",
      "source": [
        "# Sandglass Star Pattern:\n",
        "\n",
        "# For upper part:\n",
        "for i in range(1,6):\n",
        "  for j in range(1,i+1):\n",
        "    print(\" \",end=\" \")\n",
        "  for j in range(6-i):\n",
        "    print(\"*\",end=\" \")\n",
        "  for j in range(5-i):\n",
        "    print(\"*\",end=\" \")\n",
        "  for j in range(1,i+1):\n",
        "    print(\" \",end=\" \")\n",
        "  print(\" \")\n",
        "\n",
        "# For lower part:\n",
        "for i in range(2,6):\n",
        "  for j in range(6-i):\n",
        "    print(\" \",end=\" \")\n",
        "  for j in range(1,i+1):\n",
        "    print(\"*\",end=\" \")\n",
        "  for j in range(2,i+1):\n",
        "    print(\"*\",end=\" \")\n",
        "  for j in range(6-i):\n",
        "    print(\" \",end=\" \")\n",
        "  print(\" \")"
      ],
      "metadata": {
        "colab": {
          "base_uri": "https://localhost:8080/"
        },
        "id": "l72s0BPjWKAB",
        "outputId": "3a9851b1-cfb7-4797-c191-894fa2af4409"
      },
      "execution_count": 4,
      "outputs": [
        {
          "output_type": "stream",
          "name": "stdout",
          "text": [
            "  * * * * * * * * *    \n",
            "    * * * * * * *      \n",
            "      * * * * *        \n",
            "        * * *          \n",
            "          *            \n",
            "        * * *          \n",
            "      * * * * *        \n",
            "    * * * * * * *      \n",
            "  * * * * * * * * *    \n"
          ]
        }
      ]
    },
    {
      "cell_type": "code",
      "source": [
        "# Upper half\n",
        "for i in range(5, 0, -1):\n",
        "    print(\"  \" * (5 - i), end=\"\")  # Indentation (2 spaces per level)\n",
        "    for j in range(1, 2 * i):\n",
        "        print(j, end=\" \")\n",
        "    print()\n",
        "\n",
        "# Lower half\n",
        "for i in range(2, 6):\n",
        "    print(\"  \" * (5 - i), end=\"\")  # Indentation\n",
        "    for j in range(1, 2 * i):\n",
        "        print(j, end=\" \")\n",
        "    print()"
      ],
      "metadata": {
        "colab": {
          "base_uri": "https://localhost:8080/"
        },
        "id": "3CZe5Tit7pDa",
        "outputId": "d7bb974f-91b7-4c83-ed87-02b03ac89002"
      },
      "execution_count": null,
      "outputs": [
        {
          "output_type": "stream",
          "name": "stdout",
          "text": [
            "1 2 3 4 5 6 7 8 9 \n",
            "  1 2 3 4 5 6 7 \n",
            "    1 2 3 4 5 \n",
            "      1 2 3 \n",
            "        1 \n",
            "      1 2 3 \n",
            "    1 2 3 4 5 \n",
            "  1 2 3 4 5 6 7 \n",
            "1 2 3 4 5 6 7 8 9 \n"
          ]
        }
      ]
    },
    {
      "cell_type": "code",
      "source": [
        "# Upper half\n",
        "for i in range(5, 0, -1):\n",
        "    print(\"  \" * (5 - i), end=\"\")  # Indentation (2 spaces per level)\n",
        "    for j in range(1, 2 * i):\n",
        "        print(chr(64+j), end=\" \")\n",
        "    print()\n",
        "\n",
        "# Lower half\n",
        "for i in range(2, 6):\n",
        "    print(\"  \" * (5 - i), end=\"\")  # Indentation\n",
        "    for j in range(1, 2 * i):\n",
        "        print(chr(64+j), end=\" \")\n",
        "    print()"
      ],
      "metadata": {
        "colab": {
          "base_uri": "https://localhost:8080/"
        },
        "id": "A12xXoT17sxq",
        "outputId": "eb4b9a0f-4049-4b20-e0f2-9352664b0c99"
      },
      "execution_count": null,
      "outputs": [
        {
          "output_type": "stream",
          "name": "stdout",
          "text": [
            "A B C D E F G H I \n",
            "  A B C D E F G \n",
            "    A B C D E \n",
            "      A B C \n",
            "        A \n",
            "      A B C \n",
            "    A B C D E \n",
            "  A B C D E F G \n",
            "A B C D E F G H I \n"
          ]
        }
      ]
    },
    {
      "cell_type": "code",
      "source": [
        "for i in range(1,6):\n",
        "  for j in range(1,6):\n",
        "    if i==1 or i==5 or j==1 or j==5:\n",
        "      print(\"*\",end=\" \")\n",
        "    else:\n",
        "      print(\" \",end=\" \")\n",
        "  print(\" \")"
      ],
      "metadata": {
        "colab": {
          "base_uri": "https://localhost:8080/"
        },
        "id": "2_u_rUFo7wST",
        "outputId": "9a51d495-620b-4731-9f8a-03bf29bc3b7b"
      },
      "execution_count": null,
      "outputs": [
        {
          "output_type": "stream",
          "name": "stdout",
          "text": [
            "* * * * *  \n",
            "*       *  \n",
            "*       *  \n",
            "*       *  \n",
            "* * * * *  \n"
          ]
        }
      ]
    },
    {
      "cell_type": "code",
      "source": [
        "for i in range(1,6):\n",
        "  for j in range(1,6):\n",
        "    if i==1 or i==5 or j==1 or j==5:\n",
        "      print(j,end=\" \")\n",
        "    else:\n",
        "      print(\" \",end=\" \")\n",
        "  print(\" \")"
      ],
      "metadata": {
        "colab": {
          "base_uri": "https://localhost:8080/"
        },
        "id": "0OUozXPN8sjf",
        "outputId": "739761d2-3edb-4718-e32f-6516d972a2b5"
      },
      "execution_count": null,
      "outputs": [
        {
          "output_type": "stream",
          "name": "stdout",
          "text": [
            "1 2 3 4 5  \n",
            "1       5  \n",
            "1       5  \n",
            "1       5  \n",
            "1 2 3 4 5  \n"
          ]
        }
      ]
    },
    {
      "cell_type": "code",
      "source": [
        "for i in range(1,6):\n",
        "  for j in range(1,6):\n",
        "    if i==1 or i==5 or j==1 or j==5:\n",
        "      print(chr(64+j),end=\" \")\n",
        "    else:\n",
        "      print(\" \",end=\" \")\n",
        "  print(\" \")"
      ],
      "metadata": {
        "colab": {
          "base_uri": "https://localhost:8080/"
        },
        "id": "BxlREG9k8zYi",
        "outputId": "39c522b5-77b1-4130-bb08-7ead973db4c9"
      },
      "execution_count": null,
      "outputs": [
        {
          "output_type": "stream",
          "name": "stdout",
          "text": [
            "A B C D E  \n",
            "A       E  \n",
            "A       E  \n",
            "A       E  \n",
            "A B C D E  \n"
          ]
        }
      ]
    },
    {
      "cell_type": "code",
      "source": [
        "rows = int(input(\"Enter the row size for the pattern: \"))\n",
        "for i in range(1, rows + 1):  # Upper part of diamond\n",
        "    for j in range(rows - i):\n",
        "        print(\" \", end=\" \")\n",
        "    for k in range(1, 2 * i):\n",
        "        if k == 1 or k == 2 * i - 1:  # Print star on borders\n",
        "            print(\"*\", end=\" \")\n",
        "        else:\n",
        "            print(\" \", end=\" \")  # Print space inside\n",
        "    print()\n",
        "for i in range(rows - 1, 0, -1):  # Lower part of diamond\n",
        "    for j in range(rows - i):\n",
        "        print(\" \", end=\" \")\n",
        "    for k in range(1, 2 * i):\n",
        "        if k == 1 or k == 2 * i - 1:  # Print star on borders\n",
        "            print(\"*\", end=\" \")\n",
        "        else:\n",
        "            print(\" \", end=\" \")  # Print space inside\n",
        "    print()"
      ],
      "metadata": {
        "colab": {
          "base_uri": "https://localhost:8080/"
        },
        "id": "oX7J2PRo838u",
        "outputId": "8340ffb0-2293-4f2d-c518-604a326f3d8f"
      },
      "execution_count": null,
      "outputs": [
        {
          "output_type": "stream",
          "name": "stdout",
          "text": [
            "Enter the row size for the pattern: 5\n",
            "        * \n",
            "      *   * \n",
            "    *       * \n",
            "  *           * \n",
            "*               * \n",
            "  *           * \n",
            "    *       * \n",
            "      *   * \n",
            "        * \n"
          ]
        }
      ]
    },
    {
      "cell_type": "code",
      "source": [
        "rows = int(input(\"Enter the row size for the pattern: \"))\n",
        "for i in range(1, rows + 1):  # Upper part of diamond\n",
        "    for j in range(rows - i):\n",
        "        print(\" \", end=\" \")\n",
        "    for k in range(1, 2 * i):\n",
        "        if k == 1 or k == 2 * i - 1:  # Print star on borders\n",
        "            print(k, end=\" \")\n",
        "        else:\n",
        "            print(\" \", end=\" \")  # Print space inside\n",
        "    print()\n",
        "for i in range(rows - 1, 0, -1):  # Lower part of diamond\n",
        "    for j in range(rows - i):\n",
        "        print(\" \", end=\" \")\n",
        "    for k in range(1, 2 * i):\n",
        "        if k == 1 or k == 2 * i - 1:  # Print star on borders\n",
        "            print(k, end=\" \")\n",
        "        else:\n",
        "            print(\" \", end=\" \")  # Print space inside\n",
        "    print()"
      ],
      "metadata": {
        "colab": {
          "base_uri": "https://localhost:8080/"
        },
        "id": "Tac0xj9C9Azl",
        "outputId": "830e2cab-4928-4a6e-9bef-b172e569d7ed"
      },
      "execution_count": null,
      "outputs": [
        {
          "output_type": "stream",
          "name": "stdout",
          "text": [
            "Enter the row size for the pattern: 5\n",
            "        1 \n",
            "      1   3 \n",
            "    1       5 \n",
            "  1           7 \n",
            "1               9 \n",
            "  1           7 \n",
            "    1       5 \n",
            "      1   3 \n",
            "        1 \n"
          ]
        }
      ]
    },
    {
      "cell_type": "code",
      "source": [
        "rows = int(input(\"Enter the row size for the pattern: \"))\n",
        "for i in range(1, rows + 1):  # Upper part of diamond\n",
        "    for j in range(rows - i):\n",
        "        print(\" \", end=\" \")\n",
        "    for k in range(1, 2 * i):\n",
        "        if k == 1 or k == 2 * i - 1:  # Print star on borders\n",
        "            print(chr(64+k), end=\" \")\n",
        "        else:\n",
        "            print(\" \", end=\" \")  # Print space inside\n",
        "    print()\n",
        "for i in range(rows - 1, 0, -1):  # Lower part of diamond\n",
        "    for j in range(rows - i):\n",
        "        print(\" \", end=\" \")\n",
        "    for k in range(1, 2 * i):\n",
        "        if k == 1 or k == 2 * i - 1:  # Print star on borders\n",
        "            print(chr(64+k), end=\" \")\n",
        "        else:\n",
        "            print(\" \", end=\" \")  # Print space inside\n",
        "    print()"
      ],
      "metadata": {
        "colab": {
          "base_uri": "https://localhost:8080/"
        },
        "id": "w72NPyQk9J1X",
        "outputId": "5706430f-29a7-4515-9c4e-f80c577b7f98"
      },
      "execution_count": null,
      "outputs": [
        {
          "output_type": "stream",
          "name": "stdout",
          "text": [
            "Enter the row size for the pattern: 5\n",
            "        A \n",
            "      A   C \n",
            "    A       E \n",
            "  A           G \n",
            "A               I \n",
            "  A           G \n",
            "    A       E \n",
            "      A   C \n",
            "        A \n"
          ]
        }
      ]
    },
    {
      "cell_type": "code",
      "source": [
        "# Pascal's Triangle:\n",
        "\n",
        "for i in range(5):\n",
        "    # Print leading spaces for formatting\n",
        "    print(\" \" * (5 - i), end=\"\")\n",
        "\n",
        "    num = 1\n",
        "    for j in range(i + 1):\n",
        "        print(num, end=\" \")\n",
        "        # Compute next number using combination logic\n",
        "        num = num * (i - j) // (j + 1)\n",
        "\n",
        "    print()"
      ],
      "metadata": {
        "colab": {
          "base_uri": "https://localhost:8080/"
        },
        "id": "SbLNkbMB9VG4",
        "outputId": "99aaa85f-6d1e-48f5-9db2-3f0c82d91177"
      },
      "execution_count": 3,
      "outputs": [
        {
          "output_type": "stream",
          "name": "stdout",
          "text": [
            "     1 \n",
            "    1 1 \n",
            "   1 2 1 \n",
            "  1 3 3 1 \n",
            " 1 4 6 4 1 \n"
          ]
        }
      ]
    },
    {
      "cell_type": "code",
      "source": [
        "# Butterfly Pattern with Hollow Diamond Center\n",
        "\n",
        "# For Upper part:\n",
        "for i in range(1,6):\n",
        "  for j in range(6-i):\n",
        "    print(\"*\",end=\" \")\n",
        "  for j in range(1,i+1-1):\n",
        "    print(\" \",end=\" \")\n",
        "  for j in range(1,i+1-1):\n",
        "    print(\" \",end=\" \")\n",
        "  for j in range(6-i):\n",
        "    print(\"*\",end=\" \")\n",
        "  print(\" \")\n",
        "\n",
        "# For Lower Part:\n",
        "for i in range(2,6):\n",
        "  for j in range(1,i+1):\n",
        "    print(\"*\",end=\" \")\n",
        "  for j in range(5-i):\n",
        "    print(\" \",end=\" \")\n",
        "  for j in range(5-i):\n",
        "    print(\" \",end=\" \")\n",
        "  for j in range(1,i+1):\n",
        "    print(\"*\",end=\" \")\n",
        "  print(\"\")"
      ],
      "metadata": {
        "colab": {
          "base_uri": "https://localhost:8080/"
        },
        "id": "a6xq9LiV9qC1",
        "outputId": "90675c4e-6c6c-456f-9f84-0ab59f210768"
      },
      "execution_count": 1,
      "outputs": [
        {
          "output_type": "stream",
          "name": "stdout",
          "text": [
            "* * * * * * * * * *  \n",
            "* * * *     * * * *  \n",
            "* * *         * * *  \n",
            "* *             * *  \n",
            "*                 *  \n",
            "* *             * * \n",
            "* * *         * * * \n",
            "* * * *     * * * * \n",
            "* * * * * * * * * * \n"
          ]
        }
      ]
    },
    {
      "cell_type": "code",
      "source": [
        "# Butterfly Pattern:\n",
        "\n",
        "#Upper Part:\n",
        "for i in range(1,6):\n",
        "  for j in range(1,i+1):\n",
        "    print(\"*\",end=\" \")\n",
        "  for j in range(5-i):\n",
        "    print(\" \",end=\" \")\n",
        "  for j in range(5-i):\n",
        "    print(\" \",end=\" \")\n",
        "  for j in range(1,i+1):\n",
        "    print(\"*\",end=\" \")\n",
        "  print(\" \")\n",
        "#Lower Part:\n",
        "for i in range(2,6):\n",
        "  for j in range(6-i):\n",
        "    print(\"*\",end=\" \")\n",
        "  for j in range(1,i-1):\n",
        "    print(\" \",end=\" \")\n",
        "  for j in range(1,i+1):\n",
        "    print(\" \",end=\" \")\n",
        "  for j in range(6-i):\n",
        "    print(\"*\",end=\" \")\n",
        "  print(\"\")"
      ],
      "metadata": {
        "colab": {
          "base_uri": "https://localhost:8080/"
        },
        "id": "wW5GQkDoETnX",
        "outputId": "2ed7ddc2-b057-44d4-bca2-943d98359284"
      },
      "execution_count": 2,
      "outputs": [
        {
          "output_type": "stream",
          "name": "stdout",
          "text": [
            "*                 *  \n",
            "* *             * *  \n",
            "* * *         * * *  \n",
            "* * * *     * * * *  \n",
            "* * * * * * * * * *  \n",
            "* * * *     * * * * \n",
            "* * *         * * * \n",
            "* *             * * \n",
            "*                 * \n"
          ]
        }
      ]
    },
    {
      "cell_type": "code",
      "source": [],
      "metadata": {
        "id": "0N0RotnCEwaO"
      },
      "execution_count": null,
      "outputs": []
    }
  ]
}