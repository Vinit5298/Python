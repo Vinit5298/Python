{
  "nbformat": 4,
  "nbformat_minor": 0,
  "metadata": {
    "colab": {
      "provenance": [],
      "authorship_tag": "ABX9TyNxW9CbWeu3Bo+btBTreV3l",
      "include_colab_link": true
    },
    "kernelspec": {
      "name": "python3",
      "display_name": "Python 3"
    },
    "language_info": {
      "name": "python"
    }
  },
  "cells": [
    {
      "cell_type": "markdown",
      "metadata": {
        "id": "view-in-github",
        "colab_type": "text"
      },
      "source": [
        "<a href=\"https://colab.research.google.com/github/Vinit5298/Python/blob/main/List_Assignment_2025.ipynb\" target=\"_parent\"><img src=\"https://colab.research.google.com/assets/colab-badge.svg\" alt=\"Open In Colab\"/></a>"
      ]
    },
    {
      "cell_type": "code",
      "source": [
        "# Assignment 03 || Topic: List"
      ],
      "metadata": {
        "id": "Lv4Q-NFszH_y"
      },
      "execution_count": null,
      "outputs": []
    },
    {
      "cell_type": "code",
      "source": [
        "# 1. Write a Python program to find the maximum element in a list of numbers without\n",
        "# max functions\n",
        "# numbers = [10, 20, 4, 45, 99]\n",
        "# The maximum element is: 99\n",
        "\n",
        "list = [10, 20, 4, 45, 99]\n",
        "maxElement = list[0]\n",
        "\n",
        "for index in range(len(list)):\n",
        "  if list[index] > maxElement:\n",
        "    maxElement=list[index]\n",
        "print(\"The maximum element is:\",maxElement)\n",
        "\n",
        "# The maximum element is: 10 -- Start with 10.\n",
        "# The maximum element is: 20 -- 10 > 20, 20 is Greater than 10.\n",
        "# The maximum element is: 20 -- 20 > 4 Still 20 is Greater.\n",
        "# The maximum element is: 45 -- 20 > 45 Now 45 is Greater than 20.\n",
        "# The maximum element is: 99 -- 45 > 99 Now 99 is Greater than 99. -- Result"
      ],
      "metadata": {
        "colab": {
          "base_uri": "https://localhost:8080/"
        },
        "id": "mgMt0w41zWwQ",
        "outputId": "ba426fd5-b942-47d6-fb9f-8f8a1616898a"
      },
      "execution_count": null,
      "outputs": [
        {
          "output_type": "stream",
          "name": "stdout",
          "text": [
            "The maximum element is: 99\n"
          ]
        }
      ]
    },
    {
      "cell_type": "code",
      "source": [
        "# 2. Write a Python program to sum all the elements in a list of numbers.\n",
        "# a. numbers = [10, 20, 30, 40, 50]\n",
        "# b. The sum of all elements is: 150\n",
        "\n",
        "list = [10, 20, 30, 40, 50]\n",
        "sum = 0\n",
        "\n",
        "for index in range(len(list)):\n",
        "  sum=sum+list[index]\n",
        "  # sum=0+10, Sum is 10,\n",
        "  # sum=10+20, Sum is 30,\n",
        "  # sum=30+30, Sum is 60,\n",
        "  # sum=60+40, Sum is 100,\n",
        "  # sum=100+50, Sum is 150. -- Result\n",
        "print(\"The sum of all elements is:\",sum)"
      ],
      "metadata": {
        "colab": {
          "base_uri": "https://localhost:8080/"
        },
        "id": "DWLjkSZ0zqxL",
        "outputId": "5c722a40-a17a-4319-a290-e66f5f791f52"
      },
      "execution_count": null,
      "outputs": [
        {
          "output_type": "stream",
          "name": "stdout",
          "text": [
            "The sum of all elements is: 150\n"
          ]
        }
      ]
    },
    {
      "cell_type": "code",
      "source": [
        "# 3. Write a Python program to reverse a list without reverse or slicing operator\n",
        "# a. numbers = [1, 2, 3, 4, 5]\n",
        "# b. Reversed list: [5, 4, 3, 2, 1]\n",
        "\n",
        "list = [1, 2, 3, 4, 5]\n",
        "reverseList = []\n",
        "\n",
        "for index in range(len(list)-1,-1,-1):\n",
        "  reverseList.append(list[index])\n",
        "print(\"Reverse list:\",reverseList)\n",
        "# Reverse list: [5]\n",
        "# Reverse list: [5, 4]\n",
        "# Reverse list: [5, 4, 3]\n",
        "# Reverse list: [5, 4, 3, 2]\n",
        "# Reverse list: [5, 4, 3, 2, 1]"
      ],
      "metadata": {
        "colab": {
          "base_uri": "https://localhost:8080/"
        },
        "id": "z6SUUiTY0FZp",
        "outputId": "2c052e88-8ec4-44c9-f618-11d8d9ef2cf1"
      },
      "execution_count": null,
      "outputs": [
        {
          "output_type": "stream",
          "name": "stdout",
          "text": [
            "Reverse list: [5, 4, 3, 2, 1]\n"
          ]
        }
      ]
    },
    {
      "cell_type": "code",
      "source": [
        "# 4. Write a Python program to sort a list in ascending order without sort functions.\n",
        "list = [1, 4, 20, 2, 3, 30, 40, 10, 20, 4, 45, 99, 5, 10]\n",
        "print(\"Before Sorting List:\",list)\n",
        "\n",
        "for index1 in range(len(list)):\n",
        "  for index2 in range(index1 + 1,len(list)):\n",
        "    if list[index1] > list[index2]:\n",
        "      temp = list[index1]\n",
        "      list[index1] = list[index2]\n",
        "      list[index2] = temp\n",
        "print(\"After Sorting List:\",list)\n",
        "# After Sorting List: [1, 4, 20, 2, 3, 30, 40, 10, 20, 4, 45, 99, 5, 10]\n",
        "# After Sorting List: [1, 2, 20, 4, 3, 30, 40, 10, 20, 4, 45, 99, 5, 10]\n",
        "# After Sorting List: [1, 2, 3, 20, 4, 30, 40, 10, 20, 4, 45, 99, 5, 10]\n",
        "# After Sorting List: [1, 2, 3, 4, 20, 30, 40, 10, 20, 4, 45, 99, 5, 10]\n",
        "# After Sorting List: [1, 2, 3, 4, 4, 30, 40, 20, 20, 10, 45, 99, 5, 10]\n",
        "# After Sorting List: [1, 2, 3, 4, 4, 5, 40, 30, 20, 20, 45, 99, 10, 10]\n",
        "# After Sorting List: [1, 2, 3, 4, 4, 5, 10, 40, 30, 20, 45, 99, 20, 10]\n",
        "# After Sorting List: [1, 2, 3, 4, 4, 5, 10, 10, 40, 30, 45, 99, 20, 20]\n",
        "# After Sorting List: [1, 2, 3, 4, 4, 5, 10, 10, 20, 40, 45, 99, 30, 20]\n",
        "# After Sorting List: [1, 2, 3, 4, 4, 5, 10, 10, 20, 20, 45, 99, 40, 30]\n",
        "# After Sorting List: [1, 2, 3, 4, 4, 5, 10, 10, 20, 20, 30, 99, 45, 40]\n",
        "# After Sorting List: [1, 2, 3, 4, 4, 5, 10, 10, 20, 20, 30, 40, 99, 45]\n",
        "# After Sorting List: [1, 2, 3, 4, 4, 5, 10, 10, 20, 20, 30, 40, 45, 99]\n",
        "# After Sorting List: [1, 2, 3, 4, 4, 5, 10, 10, 20, 20, 30, 40, 45, 99]"
      ],
      "metadata": {
        "colab": {
          "base_uri": "https://localhost:8080/"
        },
        "id": "E7fcIIO20jr-",
        "outputId": "5d76c88d-9aad-471a-d220-d346a2cdbb69"
      },
      "execution_count": null,
      "outputs": [
        {
          "output_type": "stream",
          "name": "stdout",
          "text": [
            "Before Sorting List: [1, 4, 20, 2, 3, 30, 40, 10, 20, 4, 45, 99, 5, 10]\n",
            "After Sorting List: [1, 2, 3, 4, 4, 5, 10, 10, 20, 20, 30, 40, 45, 99]\n"
          ]
        }
      ]
    },
    {
      "cell_type": "code",
      "source": [
        "# 5. Write a Python program to remove duplicates from a list while maintaining the order\n",
        "# of elements.\n",
        "# a. numbers = [1, 2, 2, 3, 4, 4, 5]\n",
        "# b. List after removing duplicates: [1, 2, 3, 4, 5]\n",
        "\n",
        "list = [1, 2, 2, 3, 4, 4, 5]\n",
        "duplicate = []\n",
        "\n",
        "for index in range(len(list)):\n",
        "  if list[index] not in duplicate:\n",
        "    duplicate.append(list[index])\n",
        "  # Remove Duplicate Values: [1] -- Check 1 which is only one.\n",
        "  # Remove Duplicate Values: [1, 2] -- check with 2 but there is also another 2.\n",
        "  # Remove Duplicate Values: [1, 2] -- Removing extra 2.\n",
        "  # Remove Duplicate Values: [1, 2, 3] -- check with 3, which is only one.\n",
        "  # Remove Duplicate Values: [1, 2, 3, 4] -- check with 4 but there is also another 4.\n",
        "  # Remove Duplicate Values: [1, 2, 3, 4] -- Removing extra 4.\n",
        "  # Remove Duplicate Values: [1, 2, 3, 4, 5] -- check with 5, which is only one.\n",
        "print(\"Remove Duplicate Values:\",duplicate)"
      ],
      "metadata": {
        "colab": {
          "base_uri": "https://localhost:8080/"
        },
        "id": "kiC0IzOm3wZu",
        "outputId": "b917b25b-30da-4288-eb98-ec3457eb731f"
      },
      "execution_count": null,
      "outputs": [
        {
          "output_type": "stream",
          "name": "stdout",
          "text": [
            "Remove Duplicate Values: [1, 2, 3, 4, 5]\n"
          ]
        }
      ]
    },
    {
      "cell_type": "code",
      "source": [
        "# 6. Write a Python program to find all pairs of numbers in a list that add up to a specific\n",
        "# target sum.\n",
        "# a. numbers = [1, 2, 3, 4, 3, 5, 6] target_sum = 6\n",
        "# b. Pairs that add up to 6: [(3, 3), (2, 4), (1, 5)]\n",
        "\n",
        "list = [1, 2, 3, 4, 3, 5, 6]\n",
        "target_sum = 6\n",
        "pair = []\n",
        "\n",
        "for index1 in range(len(list)):\n",
        "  for index2 in range(index1 + 1, len(list)):\n",
        "    if list[index1] + list[index2] == target_sum:\n",
        "      pair.append((list[index1],list[index2]))\n",
        "print(f\"Pairs that add up to {target_sum}:\",pair)\n",
        "\n",
        "# In List following pairs:\n",
        "# 1st pair: 1+5=6,\n",
        "# 2nd pair: 2+4=6,\n",
        "# 3rd pair: 3+3=6,"
      ],
      "metadata": {
        "colab": {
          "base_uri": "https://localhost:8080/"
        },
        "id": "i_QruwdK4uJb",
        "outputId": "9cd92330-8a46-43f0-a1b0-b7f852b5f924"
      },
      "execution_count": null,
      "outputs": [
        {
          "output_type": "stream",
          "name": "stdout",
          "text": [
            "Pairs that add up to 6: [(1, 5), (2, 4), (3, 3)]\n"
          ]
        }
      ]
    },
    {
      "cell_type": "code",
      "source": [
        "# 8. Write a Python program to find the sum of the elements in a list, excluding the largest\n",
        "# and smallest element. Don’t use max or min functions\n",
        "# a. numbers = [1, 2, 3, 4, 5]\n",
        "# b. Sum excluding the largest and smallest element: 9\n",
        "\n",
        "list=[1, 2, 3, 4, 5]\n",
        "smallest=list[0]\n",
        "largest=list[0]\n",
        "\n",
        "for index in range(len(list)):\n",
        "  if list[index] < smallest:\n",
        "    smallest = list[index]\n",
        "    # smallest = 1\n",
        "  if list[index] > largest:\n",
        "    largest = list[index]\n",
        "    # largest = 5\n",
        "\n",
        "total_sum=0\n",
        "for index in range(len(list)):\n",
        "  total_sum = total_sum + list[index]\n",
        "  # total_sum = 0 + 1 + 2 + 3 + 4 + 5 = 15\n",
        "Result = total_sum - largest - smallest\n",
        "# Result = 15 - 5 - 1\n",
        "# Result = 9\n",
        "print(f\"Sum excluding the smallest: {smallest} and largest: {largest} element:\",Result)"
      ],
      "metadata": {
        "colab": {
          "base_uri": "https://localhost:8080/"
        },
        "id": "GVF0ddkN6dGe",
        "outputId": "77c8c429-1245-4afc-e6f3-3eeab9bed27e"
      },
      "execution_count": null,
      "outputs": [
        {
          "output_type": "stream",
          "name": "stdout",
          "text": [
            "Sum excluding the smallest: 1 and largest: 5 element: 9\n"
          ]
        }
      ]
    },
    {
      "cell_type": "code",
      "source": [
        "# 9. Write a Python program to check if a list is a palindrome (reads the same backward\n",
        "# as forward) using two pointer approach\n",
        "# a. numbers = [1, 2, 3, 2, 1]\n",
        "# b. True\n",
        "\n",
        "list = [1, 2, 3, 2, 1]\n",
        "start = 0\n",
        "end = len(list) - 1\n",
        "\n",
        "is_Palindrome=True\n",
        "\n",
        "while start < end:\n",
        "  if list[start] != list[end]:\n",
        "    is_Palindrome = False\n",
        "    break\n",
        "  start = start + 1\n",
        "  end = end - 1\n",
        "\n",
        "print(\"Is Palindrome:\",is_Palindrome)"
      ],
      "metadata": {
        "colab": {
          "base_uri": "https://localhost:8080/"
        },
        "id": "4OdetGQ6AXBh",
        "outputId": "e23bfae0-20ec-4f7b-85b6-b1d31ec2594b"
      },
      "execution_count": null,
      "outputs": [
        {
          "output_type": "stream",
          "name": "stdout",
          "text": [
            "Is Palindrome: True\n"
          ]
        }
      ]
    },
    {
      "cell_type": "code",
      "source": [
        "# 10. Write a function to remove duplicate elements from a list.\n",
        "# a. numbers = [1, 2, 3, 2, 4, 5, 1, 6]\n",
        "# b. [1, 2, 3, 4, 5, 6]\n",
        "\n",
        "list = [1, 2, 3, 2, 4, 5, 1, 6]\n",
        "uniquelist = []\n",
        "\n",
        "for index in range(len(list)):\n",
        "  if list[index] not in uniquelist:\n",
        "    uniquelist.append(list[index])\n",
        "print(\"Removing Duplicate Elements from list:\",uniquelist)"
      ],
      "metadata": {
        "colab": {
          "base_uri": "https://localhost:8080/"
        },
        "id": "2o7ak4poBm_q",
        "outputId": "fc94d047-875d-48a9-f0ae-d1c1fe69a4dc"
      },
      "execution_count": null,
      "outputs": [
        {
          "output_type": "stream",
          "name": "stdout",
          "text": [
            "Removing Duplicate Elements from list: [1, 2, 3, 4, 5, 6]\n"
          ]
        }
      ]
    },
    {
      "cell_type": "code",
      "source": [
        "# 11. Find Common Elements in Two Lists\n",
        "# a. list1 = [1, 2, 3, 4, 5]\n",
        "# b. list2 = [3, 4, 5, 6, 7]\n",
        "# c. Result: [3, 4, 5]\n",
        "\n",
        "list1 = [1, 2, 3, 4, 5]\n",
        "list2 = [3, 4, 5, 6, 7]\n",
        "common = []\n",
        "\n",
        "for index in list1:\n",
        "    if index in list2:\n",
        "        common.append(index)\n",
        "print(\"Common elements:\", common)"
      ],
      "metadata": {
        "colab": {
          "base_uri": "https://localhost:8080/"
        },
        "id": "9YeBb-dDEMSm",
        "outputId": "8392989f-2b77-463e-e58e-e288bf5131e3"
      },
      "execution_count": null,
      "outputs": [
        {
          "output_type": "stream",
          "name": "stdout",
          "text": [
            "Common elements: [3, 4, 5]\n"
          ]
        }
      ]
    },
    {
      "cell_type": "code",
      "source": [
        "# 12. Find the Longest Word in a List\n",
        "# a. words = [\"apple\", \"banana\", \"strawberry\", \"kiwi\"]\n",
        "# b. Strawberry\n",
        "\n",
        "words = [\"apple\", \"banana\", \"strawberry\", \"kiwi\"]\n",
        "longest=\"\"\n",
        "\n",
        "for index in words:\n",
        "  if len(index) > len(longest):\n",
        "    longest = index\n",
        "print(longest)\n",
        "\n",
        "# apple -- 5 Letters\n",
        "# banana -- 6 Letter: 5<6 Banana is longer than apple.\n",
        "# strawberry -- 10 Letter: 10>6 Strawberry is longer than Banana.\n",
        "# strawberry -- checking with kiwi: 4 Letter which is smaller than Strawberry."
      ],
      "metadata": {
        "colab": {
          "base_uri": "https://localhost:8080/"
        },
        "id": "EDA39VRYjPlQ",
        "outputId": "6f6c42fa-6f32-4dc3-a769-3f8d43820f2e"
      },
      "execution_count": null,
      "outputs": [
        {
          "output_type": "stream",
          "name": "stdout",
          "text": [
            "strawberry\n"
          ]
        }
      ]
    },
    {
      "cell_type": "code",
      "source": [
        "# 14. Find Missing Number in a List\n",
        "# You are given a list of n-1 numbers in the range 1 to n. One number is missing\n",
        "# from the sequence. Find the missing number.\n",
        "# a. numbers = [1, 2, 4, 5, 6]\n",
        "# b. 3\n",
        "\n",
        "list = [1, 2, 4, 5, 6]\n",
        "n=len(list)+1\n",
        "# n = 5+1 -- 6\n",
        "\n",
        "expected_sum = 0\n",
        "for i in range(1,n+1):\n",
        "    expected_sum = expected_sum + i\n",
        "    # expected_sum = 0 + 1\n",
        "    # expected_sum = 1\n",
        "\n",
        "    # expected_sum = 1 + 2\n",
        "    # expected_sum = 3\n",
        "\n",
        "    # expected_sum = 3 + 3\n",
        "    # expected_sum = 6\n",
        "\n",
        "    # expected_sum = 6 + 4\n",
        "    # expected_sum = 10\n",
        "\n",
        "    # expected_sum = 10 + 5\n",
        "    # expected_sum = 15\n",
        "\n",
        "    # expected_sum = 15 + 6\n",
        "    # expected_sum = 21\n",
        "print(\"Expected Sum\",expected_sum)\n",
        "\n",
        "actual_sum = 0\n",
        "for index in list:\n",
        "    actual_sum = actual_sum + index\n",
        "    # actual_sum = 0 + 1\n",
        "    # actual_sum = 1\n",
        "\n",
        "    # actual_sum = 1 + 2\n",
        "    # actual_sum = 3\n",
        "\n",
        "    # actual_sum = 3 + 4\n",
        "    # actual_sum = 7\n",
        "\n",
        "    # actual_sum = 7 + 5\n",
        "    # actual_sum = 12\n",
        "\n",
        "    # actual_sum = 12 + 6\n",
        "    # actual_sum = 18\n",
        "print(\"Actual Sum\",actual_sum)\n",
        "\n",
        "missing_number = expected_sum - actual_sum\n",
        "# missing_number = 21 - 18\n",
        "# missing_number = 3\n",
        "print(\"Missing number:\", missing_number)"
      ],
      "metadata": {
        "id": "e1-uVMNKG_nU",
        "colab": {
          "base_uri": "https://localhost:8080/"
        },
        "outputId": "ba0f1b49-3539-4ad3-f775-812e74f587cf"
      },
      "execution_count": null,
      "outputs": [
        {
          "output_type": "stream",
          "name": "stdout",
          "text": [
            "Expected Sum 21\n",
            "Actual Sum 18\n",
            "Missing number: 3\n"
          ]
        }
      ]
    },
    {
      "cell_type": "code",
      "source": [
        "# 15. Find the First Non-Repeating Element\n",
        "# Given a list of integers, find the first element that appears only once.\n",
        "# a. numbers = [4, 5, 1, 2, 0, 4, 5, 2]\n",
        "# b. Expected Output: 1\n",
        "\n",
        "list = [4, 5, 1, 2, 0, 4, 5, 2]\n",
        "\n",
        "for i in range(len(list)):\n",
        "    count = 0\n",
        "    for j in range(len(list)):\n",
        "        if list[i] == list[j] and i != j:\n",
        "            count += 1\n",
        "    if count == 0:\n",
        "        print(\"First non-repeating element:\", list[i])\n",
        "        break"
      ],
      "metadata": {
        "colab": {
          "base_uri": "https://localhost:8080/"
        },
        "id": "7Iv_Rz9slV7W",
        "outputId": "4d23083f-9fae-42eb-bd0d-134bef95ab88"
      },
      "execution_count": null,
      "outputs": [
        {
          "output_type": "stream",
          "name": "stdout",
          "text": [
            "First non-repeating element: 6\n"
          ]
        }
      ]
    },
    {
      "cell_type": "code",
      "source": [
        "# 16. Move All Zeros to the End\n",
        "# Given a list of integers, move all zeros to the end while maintaining the relative order\n",
        "# of non-zero elements. Don’t use any inbuilt functions\n",
        "# a. numbers = [0, 1, 0, 3, 12]\n",
        "# b. [1, 3, 12, 0, 0]\n",
        "\n",
        "list = [0, 1, 0, 3, 12]\n",
        "result = []\n",
        "\n",
        "for index in list:\n",
        "    if index != 0:\n",
        "        result.append(index)\n",
        "\n",
        "zero_count = 0\n",
        "for num in list:\n",
        "    if num == 0:\n",
        "        zero_count += 1\n",
        "\n",
        "for i in range(zero_count):\n",
        "    result.append(0)\n",
        "\n",
        "print(\"List after moving zeros to the end:\", result)"
      ],
      "metadata": {
        "colab": {
          "base_uri": "https://localhost:8080/"
        },
        "id": "-LITQuYPq5hh",
        "outputId": "21baacfa-02f1-4867-e8ce-cfbbb1c0c5d5"
      },
      "execution_count": null,
      "outputs": [
        {
          "output_type": "stream",
          "name": "stdout",
          "text": [
            "List after moving zeros to the end: [1, 3, 12, 0, 0]\n"
          ]
        }
      ]
    },
    {
      "cell_type": "code",
      "source": [
        "# 17. Find Elements Greater Than Their Left Neighbor\n",
        "# a. numbers = [1, 3, 2, 6, 5, 8, 7]\n",
        "# b. [3, 6, 8]\n",
        "\n",
        "# Original list\n",
        "numbers = [1, 3, 2, 6, 5, 8, 7]\n",
        "\n",
        "# Empty list to store the result\n",
        "result = []\n",
        "\n",
        "# Start from the second element (index 1)\n",
        "for i in range(1, len(numbers)):\n",
        "    if numbers[i] > numbers[i - 1]:\n",
        "        result.append(numbers[i])\n",
        "\n",
        "# Print the result\n",
        "print(\"Elements greater than their left neighbor:\", result)"
      ],
      "metadata": {
        "colab": {
          "base_uri": "https://localhost:8080/"
        },
        "id": "p9Oco8UPsd9N",
        "outputId": "01122b8a-d75c-49cc-9472-8f3cec5b30fd"
      },
      "execution_count": null,
      "outputs": [
        {
          "output_type": "stream",
          "name": "stdout",
          "text": [
            "Elements greater than their left neighbor: [3, 6, 8]\n"
          ]
        }
      ]
    },
    {
      "cell_type": "code",
      "source": [],
      "metadata": {
        "id": "TnBUi2rNs83M"
      },
      "execution_count": null,
      "outputs": []
    }
  ]
}