{
  "nbformat": 4,
  "nbformat_minor": 0,
  "metadata": {
    "colab": {
      "provenance": [],
      "authorship_tag": "ABX9TyPpWuGmdMsmzfyrLUR7iU+L",
      "include_colab_link": true
    },
    "kernelspec": {
      "name": "python3",
      "display_name": "Python 3"
    },
    "language_info": {
      "name": "python"
    }
  },
  "cells": [
    {
      "cell_type": "markdown",
      "metadata": {
        "id": "view-in-github",
        "colab_type": "text"
      },
      "source": [
        "<a href=\"https://colab.research.google.com/github/Vinit5298/Python/blob/main/NumPy.ipynb\" target=\"_parent\"><img src=\"https://colab.research.google.com/assets/colab-badge.svg\" alt=\"Open In Colab\"/></a>"
      ]
    },
    {
      "cell_type": "markdown",
      "source": [
        "#**NumPy**\n",
        "\n",
        "NumPy is an open-source Python Library that allows to work with multi-dimension Arrays and Matrices with Mathematical functions Operating on this Array, It stands for Numeric Python (np) and is written in Python and C Programming Language.\n",
        "\n",
        "Numpy allows us to perform various operations on arrays including **arr.slicing, joining, reshaping, sorting, intersection** etc."
      ],
      "metadata": {
        "id": "szMd4RAv1cCm"
      }
    },
    {
      "cell_type": "markdown",
      "source": [
        "#**NumPy Topics:**\n",
        "1. NumPy Introduction\n",
        "2. Installing NumPy\n",
        "3. Create NumPy arrays\n",
        "4. Dimensions in NumPy arrays\n",
        "5. Initialize NumPy Arrays\n",
        "6. Datatypes in NumPy\n",
        "7. NumPy Array Indexing\n",
        "8. NumPy Array Slicing\n",
        "9. NumPy Array Shape\n",
        "10. Reshape a NumPy Array\n",
        "11. Iterate NumPy Array\n",
        "12. Joining NumPy Arrays\n",
        "13. Split NumPy Array\n",
        "14. Search an Array for a value\n",
        "15. Sorting NumPy Arrays\n",
        "16. Axes in NumPy arrays\n",
        "17. Intersection of NumPy Arrays\n",
        "18. Difference between NumPy Arrays\n",
        "19. Arithmatic Operations on NumPy Arrays\n",
        "20. Scalar Operations on NumPy arrays\n",
        "21. Statistical Operations on NumPy Arrays\n",
        "22. Random module in NumPy\n",
        "23. NumPy Logs\n",
        "24. NumPy LCM and HCF"
      ],
      "metadata": {
        "id": "cCqdKrn38c1J"
      }
    },
    {
      "cell_type": "markdown",
      "source": [
        "#**NumPy Introduction:**\n",
        "What is NumPy: NumPy is a Python Library for numeric and scientific computing. It stands for numerical python and consits for multi-dimensional array objects. It is faster with less LOC.\n",
        "\n",
        "NumPy allows us to perform various operations on Arrays, including:\n",
        "\n",
        "*   Array Slicing\n",
        "*   Array Join\n",
        "*   Array Split\n",
        "*   Array Reshape\n",
        "*   Array Filter\n",
        "\n",
        "\n",
        "\n",
        "\n"
      ],
      "metadata": {
        "id": "K2n1kbC3-Lqs"
      }
    },
    {
      "cell_type": "code",
      "source": [
        "import numpy as np"
      ],
      "metadata": {
        "id": "Pti7tHZf9bAy"
      },
      "execution_count": null,
      "outputs": []
    },
    {
      "cell_type": "markdown",
      "source": [
        "#**Create NumPy Arrays:**\n",
        "To create NumPy arrays, use numpy.array( ) method in Python. We can create arrays using any of the following ways:\n",
        "\n",
        "\n",
        "\n",
        "*   Create a NumPy array by passing Tuple\n",
        "*   Create a NumPy array by passing List\n",
        "\n"
      ],
      "metadata": {
        "id": "V8VpI_eJ_wCQ"
      }
    },
    {
      "cell_type": "code",
      "source": [
        "# Create a NumPy array by passing Tuple:\n",
        "import numpy as np\n",
        "n = np.array((1,2,3)) # In Tuple Format\n",
        "print(n)\n",
        "print(type(n))"
      ],
      "metadata": {
        "colab": {
          "base_uri": "https://localhost:8080/"
        },
        "id": "yKUlCCgS_oVZ",
        "outputId": "c3f3188e-b061-4cb4-fb7a-183256984910"
      },
      "execution_count": null,
      "outputs": [
        {
          "output_type": "stream",
          "name": "stdout",
          "text": [
            "[1 2 3]\n",
            "<class 'numpy.ndarray'>\n"
          ]
        }
      ]
    },
    {
      "cell_type": "code",
      "source": [
        "# Create a NumPy array by passing List:\n",
        "import numpy as np\n",
        "n = np.array([1,2,3]) # In List Format\n",
        "print(n)\n",
        "print(type(n))"
      ],
      "metadata": {
        "colab": {
          "base_uri": "https://localhost:8080/"
        },
        "id": "jMJ8XulzAXc3",
        "outputId": "7801f2a0-43b5-49f8-c8f5-9ea0356bd1c4"
      },
      "execution_count": null,
      "outputs": [
        {
          "output_type": "stream",
          "name": "stdout",
          "text": [
            "[1 2 3]\n",
            "<class 'numpy.ndarray'>\n"
          ]
        }
      ]
    },
    {
      "cell_type": "markdown",
      "source": [
        "#**Dimensions in NumPy Arrays**:\n",
        "Dimensions of an array in NumPy are also called the Rank of an Array. Here, we will see how to check how many dimensions an array has used with the **numpy.ndarray.ndim** attribute.\n",
        "\n",
        "With that, we will also see some examples to create 0D, 1D and 2D arrays:\n",
        "\n",
        "*   Create a Zero-Dimensional NumPy array\n",
        "*   Create a One-Dimensional NumPy array\n",
        "*   Create a two-Dimensional NumPy array\n",
        "\n"
      ],
      "metadata": {
        "id": "RXWL7_nbBP-D"
      }
    },
    {
      "cell_type": "code",
      "source": [
        "# Create a Zero Dimensional NumPy Array and also check the dimensions:\n",
        "import numpy as np\n",
        "\n",
        "n = np.array(25)\n",
        "print(n) # Our Zero-Dimensional Array\n",
        "print(\"Dimensions = \",n.ndim) # Display the Dimension of Array"
      ],
      "metadata": {
        "colab": {
          "base_uri": "https://localhost:8080/"
        },
        "id": "nxprqRGCApDI",
        "outputId": "dd5ca3bb-1262-4afa-e8cc-bfe13ab3c60b"
      },
      "execution_count": null,
      "outputs": [
        {
          "output_type": "stream",
          "name": "stdout",
          "text": [
            "25\n",
            "Dimensions =  0\n"
          ]
        }
      ]
    },
    {
      "cell_type": "code",
      "source": [
        "# Create a One Dimensional NumPy Array and also check the dimensions:\n",
        "import numpy as np\n",
        "\n",
        "n = np.array([1,2,3])\n",
        "print(n) # Our One-Dimensional Array\n",
        "print(\"Dimensions = \",n.ndim) # Display the Dimension of Array"
      ],
      "metadata": {
        "colab": {
          "base_uri": "https://localhost:8080/"
        },
        "id": "uRrK3ZonCnU7",
        "outputId": "1a7e00ab-9d69-46e3-ad53-1efbd0d99f62"
      },
      "execution_count": null,
      "outputs": [
        {
          "output_type": "stream",
          "name": "stdout",
          "text": [
            "[1 2 3]\n",
            "Dimensions =  1\n"
          ]
        }
      ]
    },
    {
      "cell_type": "code",
      "source": [
        "# Create a Two Dimensional NumPy Array and also check the dimensions:\n",
        "import numpy as np\n",
        "\n",
        "n = np.array([[1,2],[3,4]])\n",
        "print(n) # Our Two-Dimensional Array\n",
        "print(\"Dimensions = \",n.ndim) # Display the Dimension of Array"
      ],
      "metadata": {
        "colab": {
          "base_uri": "https://localhost:8080/"
        },
        "id": "EcncssoLC70z",
        "outputId": "e4e8aea5-06e3-4f59-a77a-334e6e3e9bfd"
      },
      "execution_count": null,
      "outputs": [
        {
          "output_type": "stream",
          "name": "stdout",
          "text": [
            "[[1 2]\n",
            " [3 4]]\n",
            "Dimensions =  2\n"
          ]
        }
      ]
    },
    {
      "cell_type": "code",
      "source": [
        "import numpy as np\n",
        "\n",
        "n = np.array([[1,2,3],\n",
        "              [4,5,6],\n",
        "              [7,8,9]])\n",
        "print(n)\n",
        "print(\"Dimensions = \",n.ndim)\n",
        "print(type(n))"
      ],
      "metadata": {
        "colab": {
          "base_uri": "https://localhost:8080/"
        },
        "id": "EuDaA__PDDCJ",
        "outputId": "3ce01606-1bb8-47b4-c8bb-86bb43da7329"
      },
      "execution_count": null,
      "outputs": [
        {
          "output_type": "stream",
          "name": "stdout",
          "text": [
            "[[1 2 3]\n",
            " [4 5 6]\n",
            " [7 8 9]]\n",
            "Dimensions =  2\n",
            "<class 'numpy.ndarray'>\n"
          ]
        }
      ]
    },
    {
      "cell_type": "code",
      "source": [
        "# Create a Three Dimensional NumPy Array and also check the dimensions:\n",
        "import numpy as np\n",
        "n = np.array([[[1,3,5],\n",
        "              [2,4,6]],\n",
        "              [[7,9,11],\n",
        "              [8,10,12]]])\n",
        "\n",
        "print(n)\n",
        "print(\"Dimensions = \",n.ndim)\n",
        "print(type(n))"
      ],
      "metadata": {
        "colab": {
          "base_uri": "https://localhost:8080/"
        },
        "id": "WKvIYkGsoao7",
        "outputId": "1772485e-870f-4727-a743-2ecd5e6baef9"
      },
      "execution_count": null,
      "outputs": [
        {
          "output_type": "stream",
          "name": "stdout",
          "text": [
            "[[[ 1  3  5]\n",
            "  [ 2  4  6]]\n",
            "\n",
            " [[ 7  9 11]\n",
            "  [ 8 10 12]]]\n",
            "Dimensions =  3\n",
            "<class 'numpy.ndarray'>\n"
          ]
        }
      ]
    },
    {
      "cell_type": "markdown",
      "source": [
        "#**Initialize NumPy Arrays:**\n",
        "To initialize NumPy arrays, we can use the **numpy.zeros( )** method. Using this method, initialize NumPy arrays with Zeros."
      ],
      "metadata": {
        "id": "d1VoN2YCEztD"
      }
    },
    {
      "cell_type": "code",
      "source": [
        "# Initialize NumPy array: (Example 1)\n",
        "import numpy as pd\n",
        "\n",
        "n = np.zeros([2,3]) # Here we gave 2 as Rows and 3 as Columns\n",
        "print(n) # And initialize with zeros.\n",
        "print(type(n))"
      ],
      "metadata": {
        "colab": {
          "base_uri": "https://localhost:8080/"
        },
        "id": "5JThVqvoEwPt",
        "outputId": "99ae86f2-b30b-4058-8b51-e3f8c0dd11eb"
      },
      "execution_count": null,
      "outputs": [
        {
          "output_type": "stream",
          "name": "stdout",
          "text": [
            "[[0. 0. 0.]\n",
            " [0. 0. 0.]]\n",
            "<class 'numpy.ndarray'>\n"
          ]
        }
      ]
    },
    {
      "cell_type": "code",
      "source": [
        "# Initialize NumPy array: (Example 1)\n",
        "import numpy as pd\n",
        "\n",
        "n = np.zeros([4,4]) # Here we gave 2 as Rows and 3 as Columns\n",
        "print(n) # And initialize with zeros.\n",
        "print(type(n))"
      ],
      "metadata": {
        "colab": {
          "base_uri": "https://localhost:8080/"
        },
        "id": "j-WdNXbZEhvx",
        "outputId": "be2906a8-e403-44b9-afae-b3fa4c105666"
      },
      "execution_count": null,
      "outputs": [
        {
          "output_type": "stream",
          "name": "stdout",
          "text": [
            "[[0. 0. 0. 0.]\n",
            " [0. 0. 0. 0.]\n",
            " [0. 0. 0. 0.]\n",
            " [0. 0. 0. 0.]]\n",
            "<class 'numpy.ndarray'>\n"
          ]
        }
      ]
    },
    {
      "cell_type": "markdown",
      "source": [
        "#**Datatypes in NumPy**\n",
        "Considered Datatypes as collection or Categorization of Data items:\n",
        "\n",
        "*   b - boolean\n",
        "*   u - unsigned integer\n",
        "*   f - float\n",
        "*   c - complex float\n",
        "*   m - timedelta\n",
        "*   M - datetime\n",
        "*   O - object\n",
        "*   S - string\n",
        "*   U - unicode string\n",
        "\n",
        "To get the datatype of a NumPy array with integers, use the **dtype** property."
      ],
      "metadata": {
        "id": "CEW4HpmZGGMc"
      }
    },
    {
      "cell_type": "code",
      "source": [
        "# Get the datatype of a NumPy array with integers:\n",
        "import numpy as np\n",
        "n = np.array([10,20,30])\n",
        "print(n.dtype) # Numeric datatype integer"
      ],
      "metadata": {
        "colab": {
          "base_uri": "https://localhost:8080/"
        },
        "id": "RTGR0U3yFr6E",
        "outputId": "3ceecc95-b310-46b8-cac2-deed3b748bbf"
      },
      "execution_count": null,
      "outputs": [
        {
          "output_type": "stream",
          "name": "stdout",
          "text": [
            "int64\n"
          ]
        }
      ]
    },
    {
      "cell_type": "code",
      "source": [
        "# Get the datatype of a NumPy array with float:\n",
        "import numpy as np\n",
        "n = np.array([10.12,20.13,30.14])\n",
        "print(n.dtype) # Numeric datatype float"
      ],
      "metadata": {
        "colab": {
          "base_uri": "https://localhost:8080/"
        },
        "id": "3xTGFrsJHt4D",
        "outputId": "dac4787d-dfeb-41bd-e98d-d30d4a689206"
      },
      "execution_count": null,
      "outputs": [
        {
          "output_type": "stream",
          "name": "stdout",
          "text": [
            "float64\n"
          ]
        }
      ]
    },
    {
      "cell_type": "code",
      "source": [
        "# Get the datatype of a NumPy array with string:\n",
        "import numpy as np\n",
        "n = np.array(['Vinit','Priyanshi','Sunil'])\n",
        "print(n.dtype)\n",
        "# <U Means Unicode string and 9 is the maximum character input"
      ],
      "metadata": {
        "colab": {
          "base_uri": "https://localhost:8080/"
        },
        "id": "eLRcrG8_Mynh",
        "outputId": "14210737-3cde-4e0b-fde6-351429a0f75b"
      },
      "execution_count": null,
      "outputs": [
        {
          "output_type": "stream",
          "name": "stdout",
          "text": [
            "<U9\n"
          ]
        }
      ]
    },
    {
      "cell_type": "markdown",
      "source": [
        "**Set the datatype size within a NumPy Array**:\n",
        "\n",
        "Set a defined datatype to a new array using the **dtype** attributes. With that set the size as well."
      ],
      "metadata": {
        "id": "3fOOkRvFOH5J"
      }
    },
    {
      "cell_type": "code",
      "source": [
        "# Set the datatype size within a NumPy array:\n",
        "import numpy as np\n",
        "n = np.array(['Vinit','Priyanshi','Sunil','Rohit','Bhushan'], dtype='S5')\n",
        "print(n.dtype)\n",
        "print(n) # We set the datatype size as 5,\n",
        "# hence each name display with only 5 characters\n",
        "\n",
        "# S = String\n",
        "# 5 = Maximum characters"
      ],
      "metadata": {
        "colab": {
          "base_uri": "https://localhost:8080/"
        },
        "id": "znNph9aQM8H6",
        "outputId": "d9dff15a-d22f-4a49-be9c-8418ee38fcc4"
      },
      "execution_count": null,
      "outputs": [
        {
          "output_type": "stream",
          "name": "stdout",
          "text": [
            "|S5\n",
            "[b'Vinit' b'Priya' b'Sunil' b'Rohit' b'Bhush']\n"
          ]
        }
      ]
    },
    {
      "cell_type": "markdown",
      "source": [
        "**Convert One Datatype to Another:**\n",
        "Use the **astype( )** to create a copy of an array and then set the new data type. This is how we can convert one type to another."
      ],
      "metadata": {
        "id": "5SaNZGN6dgxm"
      }
    },
    {
      "cell_type": "code",
      "source": [
        "# Convert One datatype to Another in NumPy:\n",
        "# Convert string to integer:\n",
        "import numpy as np\n",
        "\n",
        "n = np.array(['10','20','30','40','50'])\n",
        "print(n)\n",
        "print(n.dtype)\n",
        "\n",
        "n2 = n.astype('i')\n",
        "print(n2)\n",
        "print(n2.dtype)"
      ],
      "metadata": {
        "id": "_LTGfFZQPHBq",
        "colab": {
          "base_uri": "https://localhost:8080/"
        },
        "outputId": "aded4b5b-03ab-47cb-be1b-03b3a6a512bc"
      },
      "execution_count": null,
      "outputs": [
        {
          "output_type": "stream",
          "name": "stdout",
          "text": [
            "['10' '20' '30' '40' '50']\n",
            "<U2\n",
            "[10 20 30 40 50]\n",
            "int32\n"
          ]
        }
      ]
    },
    {
      "cell_type": "code",
      "source": [
        "# Convert float to string:\n",
        "import numpy as np\n",
        "\n",
        "n = np.array([10.12,20.13,30.14,40.15,50.16])\n",
        "print(n)\n",
        "print(n.dtype)\n",
        "\n",
        "n2 = n.astype(str)\n",
        "print(n2)\n",
        "print(n2.dtype)"
      ],
      "metadata": {
        "colab": {
          "base_uri": "https://localhost:8080/"
        },
        "id": "xayvR0pIeGad",
        "outputId": "829bba96-560a-4610-e6e8-5e64be8a0657"
      },
      "execution_count": null,
      "outputs": [
        {
          "output_type": "stream",
          "name": "stdout",
          "text": [
            "[10.12 20.13 30.14 40.15 50.16]\n",
            "float64\n",
            "['10.12' '20.13' '30.14' '40.15' '50.16']\n",
            "<U32\n"
          ]
        }
      ]
    },
    {
      "cell_type": "code",
      "source": [
        "# Convert string to float:\n",
        "import numpy as np\n",
        "\n",
        "n = np.array(['10','20','30','40','50'])\n",
        "print(n)\n",
        "print(n.dtype)\n",
        "\n",
        "n2 = n.astype('f')\n",
        "print(n2)\n",
        "print(n2.dtype)"
      ],
      "metadata": {
        "colab": {
          "base_uri": "https://localhost:8080/"
        },
        "id": "K-D8mILXer8c",
        "outputId": "6bb2dafb-46d7-4070-e604-0099a8a0610f"
      },
      "execution_count": null,
      "outputs": [
        {
          "output_type": "stream",
          "name": "stdout",
          "text": [
            "['10' '20' '30' '40' '50']\n",
            "<U2\n",
            "[10. 20. 30. 40. 50.]\n",
            "float32\n"
          ]
        }
      ]
    },
    {
      "cell_type": "markdown",
      "source": [
        "#**NumPy Array Indexing**:\n",
        "\n",
        "Array indexing is accessing array elements. In NumPy, access an array element using the index number. The 0th index is element 1 and the flow goes on as shown below:\n",
        "\n",
        "*   index 0 - Element 1\n",
        "*   index 1 - Element 2\n",
        "*   index 2 - Element 3\n",
        "*   index 3 - Element 4\n",
        "\n",
        "In This we will cover the following topics to understand Array Indexing in NumPy:\n",
        "\n",
        "* Access elements from a 1D Array\n",
        "* Access elements from a 2D Array\n",
        "* Access elements from a 3D Array\n",
        "* Access elements from the last with Negative Indexing"
      ],
      "metadata": {
        "id": "V2_moRltioZN"
      }
    },
    {
      "cell_type": "markdown",
      "source": [
        "The following are some examples to access specific elements from a 1D Array:"
      ],
      "metadata": {
        "id": "dUpumYlpjpmC"
      }
    },
    {
      "cell_type": "code",
      "source": [
        "# Access the 1st Element(index 0) from a One-Dimensional Array:\n",
        "import numpy as np\n",
        "\n",
        "n = np.array([10,20,30,40,50])\n",
        "print(n)\n",
        "\n",
        "print(n[0])"
      ],
      "metadata": {
        "colab": {
          "base_uri": "https://localhost:8080/"
        },
        "id": "Hj8jns2dfE8v",
        "outputId": "abf20298-ed99-4c9e-ec5b-598c8455f6cb"
      },
      "execution_count": null,
      "outputs": [
        {
          "output_type": "stream",
          "name": "stdout",
          "text": [
            "[10 20 30 40 50]\n",
            "10\n"
          ]
        }
      ]
    },
    {
      "cell_type": "code",
      "source": [
        "# Access the 4th Element(index 0) from a One-Dimensional Array:\n",
        "import numpy as np\n",
        "\n",
        "n = np.array([10,20,30,40,50])\n",
        "print(n)\n",
        "\n",
        "print(n[3])"
      ],
      "metadata": {
        "colab": {
          "base_uri": "https://localhost:8080/"
        },
        "id": "dshSjmtCkBjV",
        "outputId": "9be1404f-a7b2-4436-89e0-c75a6b4bb699"
      },
      "execution_count": null,
      "outputs": [
        {
          "output_type": "stream",
          "name": "stdout",
          "text": [
            "[10 20 30 40 50]\n",
            "40\n"
          ]
        }
      ]
    },
    {
      "cell_type": "markdown",
      "source": [
        "Accessing Elements work as a matrix in a 2D Array:\n",
        "\n",
        "![Screenshot 2025-08-03 210556.png](data:image/png;base64,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)"
      ],
      "metadata": {
        "id": "GRanoBQLkmRM"
      }
    },
    {
      "cell_type": "markdown",
      "source": [
        "The following are some examples to access specific elements from a 2D Array:"
      ],
      "metadata": {
        "id": "KkSiJH1zkSSE"
      }
    },
    {
      "cell_type": "code",
      "source": [
        "# Access the 1st Dimensional Element from a Two-Dimensional Array:\n",
        "import numpy as np\n",
        "n = np.array([[1,3,5],[2,4,6]])\n",
        "print(n)\n",
        "print(n[0,0])\n",
        "print(n[0,1])\n",
        "print(n[0,2])\n",
        "# Access the 2nd Dimensional Element from a Two-Dimensional Array:\n",
        "print(n)\n",
        "print(n[1,0])\n",
        "print(n[1,1])\n",
        "print(n[1,2])"
      ],
      "metadata": {
        "colab": {
          "base_uri": "https://localhost:8080/"
        },
        "id": "Pm2F1D0NkI7v",
        "outputId": "4e256321-819e-4673-e2c1-8b6293e08e72"
      },
      "execution_count": null,
      "outputs": [
        {
          "output_type": "stream",
          "name": "stdout",
          "text": [
            "[[1 3 5]\n",
            " [2 4 6]]\n",
            "1\n",
            "3\n",
            "5\n",
            "[[1 3 5]\n",
            " [2 4 6]]\n",
            "2\n",
            "4\n",
            "6\n"
          ]
        }
      ]
    },
    {
      "cell_type": "markdown",
      "source": [
        "The following are some examples to access specific elements from a 3D Array:"
      ],
      "metadata": {
        "id": "KC3h6Q7UnOmi"
      }
    },
    {
      "cell_type": "code",
      "source": [
        "# Access the Element from a Three-Dimensional Array:\n",
        "import numpy as np\n",
        "\n",
        "n = np.array([[[1,3,5],[2,4,6]],[[7,9,11],[8,10,12]]])\n",
        "print(n)\n",
        "print(n[0,0,0]) # 1\n",
        "print(n[0,0,1]) # 3\n",
        "print(n[0,0,2]) # 5\n",
        "print()\n",
        "print(n[0,1,0]) # 2\n",
        "print(n[0,1,1]) # 4\n",
        "print(n[0,1,2]) # 6\n",
        "print()\n",
        "print(n[1,0,0]) # 7\n",
        "print(n[1,0,1]) # 9\n",
        "print(n[1,0,2]) # 11\n",
        "print()\n",
        "print(n[1,1,0]) # 8\n",
        "print(n[1,1,1]) # 10\n",
        "print(n[1,1,2]) # 12"
      ],
      "metadata": {
        "colab": {
          "base_uri": "https://localhost:8080/"
        },
        "id": "QAH-7iWJmXxJ",
        "outputId": "f268062c-2e1c-44b4-8f27-d400d53d7c21"
      },
      "execution_count": null,
      "outputs": [
        {
          "output_type": "stream",
          "name": "stdout",
          "text": [
            "[[[ 1  3  5]\n",
            "  [ 2  4  6]]\n",
            "\n",
            " [[ 7  9 11]\n",
            "  [ 8 10 12]]]\n",
            "1\n",
            "3\n",
            "5\n",
            "\n",
            "2\n",
            "4\n",
            "6\n",
            "\n",
            "7\n",
            "9\n",
            "11\n",
            "\n",
            "8\n",
            "10\n",
            "12\n"
          ]
        }
      ]
    },
    {
      "cell_type": "markdown",
      "source": [
        "Access Elements from the last with Negative Indexing:\n",
        "\n",
        "Arrays can be accessed with negative indexing. This gives the last element."
      ],
      "metadata": {
        "id": "1VtlI0lUpt87"
      }
    },
    {
      "cell_type": "code",
      "source": [
        "# Access the last element from a One-Dimensional Array with Negative Indexing:\n",
        "import numpy as np\n",
        "\n",
        "n = np.array([5,10,15])\n",
        "print(n)\n",
        "print(\"\\nLast Element:\",n[-1])\n",
        "print(\"\\nSecond Last Element:\",n[-2])\n",
        "print(\"\\nThird Last Element:\",n[-3])"
      ],
      "metadata": {
        "colab": {
          "base_uri": "https://localhost:8080/"
        },
        "id": "tvhX6LaKoG72",
        "outputId": "27541e27-610a-4d5a-f1df-511416cee100"
      },
      "execution_count": null,
      "outputs": [
        {
          "output_type": "stream",
          "name": "stdout",
          "text": [
            "[ 5 10 15]\n",
            "\n",
            "Last Element: 15\n",
            "\n",
            "Second Last Element: 10\n",
            "\n",
            "Third Last Element: 5\n"
          ]
        }
      ]
    },
    {
      "cell_type": "code",
      "source": [
        "# Access the last element from a Two-Dimensional Array with Negative Indexing:\n",
        "import numpy as np\n",
        "\n",
        "n = np.array([[5,10,15],[20,25,30]])\n",
        "print(n)\n",
        "print(\"\\nLast Element:\",n[0,-1])\n",
        "print(\"\\nSecond Last Element:\",n[0,-2])\n",
        "print(\"\\nThird Last Element:\",n[0,-3])\n",
        "print()\n",
        "print(\"\\nLast Element:\",n[1,-1])\n",
        "print(\"\\nSecond Last Element:\",n[1,-2])\n",
        "print(\"\\nThird Last Element:\",n[1,-3])"
      ],
      "metadata": {
        "colab": {
          "base_uri": "https://localhost:8080/"
        },
        "id": "P1t4_bXBqUml",
        "outputId": "53c8ce5f-1e71-482e-8844-ca6aa7865354"
      },
      "execution_count": null,
      "outputs": [
        {
          "output_type": "stream",
          "name": "stdout",
          "text": [
            "[[ 5 10 15]\n",
            " [20 25 30]]\n",
            "\n",
            "Last Element: 15\n",
            "\n",
            "Second Last Element: 10\n",
            "\n",
            "Third Last Element: 5\n",
            "\n",
            "\n",
            "Last Element: 30\n",
            "\n",
            "Second Last Element: 25\n",
            "\n",
            "Third Last Element: 20\n"
          ]
        }
      ]
    },
    {
      "cell_type": "markdown",
      "source": [
        "#**Array Slicing**:\n",
        "\n",
        "Slicing the array in a range from start to end is what we call Array Slicing. Slice (range) is passed in place of index.\n",
        "\n",
        "**n[1:3]**\n",
        "The above will slice two elements from index 1 to 3 because it includes the start index, but excludes the end index.\n",
        "\n",
        "The following is the syntax to slice NumPy arrays:\n",
        "**arr[start : end]**\n",
        "\n",
        "Here, **start** is the beginning index (include), and the end is the last index (excluded)"
      ],
      "metadata": {
        "id": "RRoa48q7rVTm"
      }
    },
    {
      "cell_type": "markdown",
      "source": [
        "The following Array Slicing examples we will run:\n",
        "\n",
        "* Slicing from index 1 to 3 (3 is excluded)\n",
        "* Slicing from index 2 to 5 (5 is excluded)\n",
        "* Slicing from index 5 to last\n",
        "* Slicing from the beginning to index 5 (5 is excluded)"
      ],
      "metadata": {
        "id": "YStspaCksHly"
      }
    },
    {
      "cell_type": "markdown",
      "source": [
        "**Slicing on One-Dimensional Array:**"
      ],
      "metadata": {
        "id": "HxObArEa5B3q"
      }
    },
    {
      "cell_type": "code",
      "source": [
        "# Slicing from index 1 to 3(3 is excluded)\n",
        "import numpy as np\n",
        "n = np.array([20,25,30,35,40,45,50,55,60,65])\n",
        "print(n[1:3])"
      ],
      "metadata": {
        "colab": {
          "base_uri": "https://localhost:8080/"
        },
        "id": "L-JBttN3q8wf",
        "outputId": "36a3c0e4-88aa-40ca-f733-71e2746aaa40"
      },
      "execution_count": null,
      "outputs": [
        {
          "output_type": "stream",
          "name": "stdout",
          "text": [
            "[25 30]\n"
          ]
        }
      ]
    },
    {
      "cell_type": "code",
      "source": [
        "# Slicing from index 2 to 5(5 is excluded)\n",
        "import numpy as np\n",
        "n = np.array([20,25,30,35,40,45,50,55,60,65])\n",
        "print(n[2:5])"
      ],
      "metadata": {
        "colab": {
          "base_uri": "https://localhost:8080/"
        },
        "id": "4lg1GBlguhe2",
        "outputId": "6899df87-d4fd-4351-ee0c-e85fb2b0aa67"
      },
      "execution_count": null,
      "outputs": [
        {
          "output_type": "stream",
          "name": "stdout",
          "text": [
            "[30 35 40]\n"
          ]
        }
      ]
    },
    {
      "cell_type": "code",
      "source": [
        "# Slicing from index 5 to last:\n",
        "import numpy as np\n",
        "n = np.array([20,25,30,35,40,45,50,55,60,65])\n",
        "print(n[5::]) # Or [5:] both gave same output"
      ],
      "metadata": {
        "colab": {
          "base_uri": "https://localhost:8080/"
        },
        "id": "ut_5Rq9Euwwe",
        "outputId": "130606bd-d751-46f3-c457-31ab46c96314"
      },
      "execution_count": null,
      "outputs": [
        {
          "output_type": "stream",
          "name": "stdout",
          "text": [
            "[45 50 55 60 65]\n"
          ]
        }
      ]
    },
    {
      "cell_type": "code",
      "source": [
        "# Slicing from the beginning to index 5 (5 is excluded)\n",
        "import numpy as np\n",
        "n = np.array([20,25,30,35,40,45,50,55,60,65])\n",
        "print(n[:5]) # Or [0:5] both gave same output"
      ],
      "metadata": {
        "colab": {
          "base_uri": "https://localhost:8080/"
        },
        "id": "lFs4aVAEu9By",
        "outputId": "03be0a1a-1da3-46fd-ea71-b247b4fd5a8a"
      },
      "execution_count": null,
      "outputs": [
        {
          "output_type": "stream",
          "name": "stdout",
          "text": [
            "[20 25 30 35 40]\n"
          ]
        }
      ]
    },
    {
      "cell_type": "markdown",
      "source": [
        "Slicing One-Dimensional Arrays with **Step**:\n",
        "\n",
        "We can also include steps while slicing. Step means a jump of elements. If the step is 2, that means 2 jumps for the next element.\n",
        "\n",
        "The following is the syntax:\n",
        "**arr[start:end:step]**"
      ],
      "metadata": {
        "id": "nyy0d5p3v5zV"
      }
    },
    {
      "cell_type": "code",
      "source": [
        "# Example1: Slicing One-Dimensional Array with STEP in NumPy:\n",
        "import numpy as np\n",
        "n = np.array([5,10,15,20,25,30,35,40,45,50,55,60])\n",
        "print(n[1:10:2]) # Means indexing start = 10 and end = 55\n",
        "# 10 index is excluding."
      ],
      "metadata": {
        "colab": {
          "base_uri": "https://localhost:8080/"
        },
        "id": "oHNl06uavNY9",
        "outputId": "fc68ec07-7120-4c8d-fc47-d168f6afd047"
      },
      "execution_count": null,
      "outputs": [
        {
          "output_type": "stream",
          "name": "stdout",
          "text": [
            "[10 20 30 40 50]\n"
          ]
        }
      ]
    },
    {
      "cell_type": "code",
      "source": [
        "# Example2: Slicing One-Dimensional Array with STEP in NumPy:\n",
        "import numpy as np\n",
        "n = np.array([5,10,15,20,25,30,35,40,45,50,55,60])\n",
        "print(n[1:10:3]) # Means indexing start = 10 and end = 55\n",
        "# 10 index is excluding."
      ],
      "metadata": {
        "colab": {
          "base_uri": "https://localhost:8080/"
        },
        "id": "mrwHQbuQ3EpH",
        "outputId": "96eb1297-306b-4f98-b93a-ff75df3969a8"
      },
      "execution_count": null,
      "outputs": [
        {
          "output_type": "stream",
          "name": "stdout",
          "text": [
            "[10 25 40]\n"
          ]
        }
      ]
    },
    {
      "cell_type": "markdown",
      "source": [
        "**Slicing on Two-Dimensional Array:**"
      ],
      "metadata": {
        "id": "92UfNXEl4rB9"
      }
    },
    {
      "cell_type": "markdown",
      "source": [
        "The following are the examples to slice Two-Dimensional Arrays:\n",
        "\n",
        "* Slicing from index 2 to 5(excluding 5)\n",
        "* Slicing for both the dimensions."
      ],
      "metadata": {
        "id": "GMSQxqi15J5v"
      }
    },
    {
      "cell_type": "code",
      "source": [
        "# Slicing from index 2 to 5(excluding 5):\n",
        "import numpy as np\n",
        "n = np.array([[10,30,50,70,90,110],\n",
        "              [20,40,60,80,100,120]])\n",
        "\n",
        "print(n[0,2:5]) # from 0 excluding 5th index\n",
        "print(n[1,2:5]) # from 1 excluding 5th index"
      ],
      "metadata": {
        "colab": {
          "base_uri": "https://localhost:8080/"
        },
        "id": "p7pFCzGT4_Jk",
        "outputId": "99379b52-4b1f-4a47-e4e9-7bf92a8b9468"
      },
      "execution_count": null,
      "outputs": [
        {
          "output_type": "stream",
          "name": "stdout",
          "text": [
            "[50 70 90]\n",
            "[ 60  80 100]\n"
          ]
        }
      ]
    },
    {
      "cell_type": "code",
      "source": [
        "# Slicing for both the dimensions:\n",
        "import numpy as np\n",
        "n = np.array([[10,30,50,70,90,110],\n",
        "              [20,40,60,80,100,120]])\n",
        "\n",
        "print(n[0:2,2:5])"
      ],
      "metadata": {
        "colab": {
          "base_uri": "https://localhost:8080/"
        },
        "id": "YlMDL7BZ4Cwo",
        "outputId": "edd541fc-c261-41f6-ccc2-0ca493a6acae"
      },
      "execution_count": null,
      "outputs": [
        {
          "output_type": "stream",
          "name": "stdout",
          "text": [
            "[[ 50  70  90]\n",
            " [ 60  80 100]]\n"
          ]
        }
      ]
    },
    {
      "cell_type": "markdown",
      "source": [
        "#**NumPy Array Shape**\n",
        "In Python NumPy, the number of elements in each dimension of an array is called the shape. To get the shape of a NumPy array, use the numpy.shape attribute in Python.\n",
        "\n",
        "In this, we have covered the following examples:\n",
        "\n",
        "* Check the shape of a Zero-Dimensional NumPy array\n",
        "* Check the shape of a One-Dimensional NumPy array\n",
        "* Check the shape of a Two-Dimensional NumPy array\n",
        "* Check the shape of a Three-Dimensional NumPy array\n"
      ],
      "metadata": {
        "id": "50E9nDzE8mIS"
      }
    },
    {
      "cell_type": "code",
      "source": [
        "# Check the shape of a Zero-Dimensional NumPy array:\n",
        "import numpy as np\n",
        "n = np.array(10)\n",
        "print(n)\n",
        "print(\"Dimension:\",n.ndim)\n",
        "print(\"Shape of Array:\",n.shape)"
      ],
      "metadata": {
        "colab": {
          "base_uri": "https://localhost:8080/"
        },
        "id": "KWe_2B848C-Y",
        "outputId": "678e1714-2af0-407b-fb7e-d3612f14695c"
      },
      "execution_count": null,
      "outputs": [
        {
          "output_type": "stream",
          "name": "stdout",
          "text": [
            "10\n",
            "Dimension: 0\n",
            "Shape of Array: ()\n"
          ]
        }
      ]
    },
    {
      "cell_type": "code",
      "source": [
        "# Check the shape of a One-Dimensional NumPy array:\n",
        "import numpy as np\n",
        "n = np.array([10,20,30])\n",
        "print(n)\n",
        "print(\"Dimension:\",n.ndim)\n",
        "print(\"Shape of Array:\",n.shape)"
      ],
      "metadata": {
        "colab": {
          "base_uri": "https://localhost:8080/"
        },
        "id": "qrRVwO7M-ofr",
        "outputId": "eaad3d3c-22cb-44fa-aa5f-2e37951bc9da"
      },
      "execution_count": null,
      "outputs": [
        {
          "output_type": "stream",
          "name": "stdout",
          "text": [
            "[10 20 30]\n",
            "Dimension: 1\n",
            "Shape of Array: (3,)\n"
          ]
        }
      ]
    },
    {
      "cell_type": "code",
      "source": [
        "# Check the shape of a Two-Dimensional NumPy array:\n",
        "import numpy as np\n",
        "n = np.array([[10,20,30],\n",
        "            [40,50,60]])\n",
        "# 2X3 Matrix\n",
        "print(n)\n",
        "print(\"Dimension:\",n.ndim)\n",
        "print(\"Shape of Array:\",n.shape)\n"
      ],
      "metadata": {
        "colab": {
          "base_uri": "https://localhost:8080/"
        },
        "id": "fA9xodR4_V-2",
        "outputId": "35089107-bf62-4ed0-82b6-6e3d20313903"
      },
      "execution_count": null,
      "outputs": [
        {
          "output_type": "stream",
          "name": "stdout",
          "text": [
            "[[10 20 30]\n",
            " [40 50 60]]\n",
            "Dimension: 2\n",
            "Shape of Array: (2, 3)\n"
          ]
        }
      ]
    },
    {
      "cell_type": "code",
      "source": [
        "# Check the shape of a Three-Dimensional NumPy array:\n",
        "import numpy as np\n",
        "n = np.array([[[10,20,30],[40,50,60]],\n",
        "            [[70,80,90],[100,110,120]]])\n",
        "\n",
        "print(n)\n",
        "print(\"Dimension:\", n.ndim)\n",
        "print(\"Shape of Array:\", n.shape)\n",
        "\n",
        "# 2,2,3 means\n",
        "# 2 Number of 2D Arrays\n",
        "# 2 2D Array Row\n",
        "# 3 2D Array Column"
      ],
      "metadata": {
        "colab": {
          "base_uri": "https://localhost:8080/"
        },
        "id": "OwJS10HS_gh8",
        "outputId": "57daeab6-f304-467c-b263-0d035058bcf1"
      },
      "execution_count": null,
      "outputs": [
        {
          "output_type": "stream",
          "name": "stdout",
          "text": [
            "[[[ 10  20  30]\n",
            "  [ 40  50  60]]\n",
            "\n",
            " [[ 70  80  90]\n",
            "  [100 110 120]]]\n",
            "Dimension: 3\n",
            "Shape of Array: (2, 2, 3)\n"
          ]
        }
      ]
    },
    {
      "cell_type": "markdown",
      "source": [
        "# **Reshape a NumPy Array**\n",
        "In Python NumPy, the number of elements in each dimension of an array is called the shape. To reshape the number of dimensions, use the **numpy.reshape( )**\n",
        "method in Python.\n",
        "\n",
        "**Why reshape:** Reshape allows you to edit the number of elements in a dimension. Additionally, with **reshape( )**, you can add or remove dimensions.\n",
        "\n",
        "Let us see two examples to reshape arrays in NumPy:\n",
        "\n",
        "* Reshape dimensions from 1D to 2D.\n",
        "* Convert 3D Array to 1D Array(Flattening the Array)\n"
      ],
      "metadata": {
        "id": "l3clStE1CCOm"
      }
    },
    {
      "cell_type": "code",
      "source": [
        "# Reshape dimensions from 1D to 2D Array in NumPy:\n",
        "import numpy as np\n",
        "n = np.array([5,10,15,20,25,30])\n",
        "print(\"One Dimensional Array:\",n)\n",
        "\n",
        "# Reshape:\n",
        "resarr = n.reshape(2,3)\n",
        "print(\"Reshape Array (Two-Dimensional):\\n\",resarr)"
      ],
      "metadata": {
        "colab": {
          "base_uri": "https://localhost:8080/"
        },
        "id": "BfDl9FVb_5bC",
        "outputId": "7de6f055-d262-46ab-a99d-a760c06b05e9"
      },
      "execution_count": null,
      "outputs": [
        {
          "output_type": "stream",
          "name": "stdout",
          "text": [
            "One Dimensional Array: [ 5 10 15 20 25 30]\n",
            "Reshape Array (Two-Dimensional):\n",
            " [[ 5 10 15]\n",
            " [20 25 30]]\n"
          ]
        }
      ]
    },
    {
      "cell_type": "code",
      "source": [
        "# Reshape dimensions from 3D to 1D Array in NumPy:(Flattening the array)\n",
        "import numpy as np\n",
        "n = np.array([[[5,10,15],[20,25,30]],\n",
        "              [[30,35,40],[45,50,55]]])\n",
        "print(\"Three Dimensional Array:\",n)\n",
        "\n",
        "# Reshape:\n",
        "resarr = n.reshape(-1)\n",
        "print(\"Reshape Array to One-Dimensional Array:\\n\",resarr)"
      ],
      "metadata": {
        "colab": {
          "base_uri": "https://localhost:8080/"
        },
        "id": "DSQ1eME9Gcsd",
        "outputId": "03e6baa2-10a6-4baf-ef0c-0193ca74c3c6"
      },
      "execution_count": null,
      "outputs": [
        {
          "output_type": "stream",
          "name": "stdout",
          "text": [
            "Three Dimensional Array: [[[ 5 10 15]\n",
            "  [20 25 30]]\n",
            "\n",
            " [[30 35 40]\n",
            "  [45 50 55]]]\n",
            "Reshape Array to One-Dimensional Array:\n",
            " [ 5 10 15 20 25 30 30 35 40 45 50 55]\n"
          ]
        }
      ]
    },
    {
      "cell_type": "code",
      "source": [
        "# Reshape dimensions from 3D to 2D Array in NumPy:\n",
        "import numpy as np\n",
        "\n",
        "n = np.array([[[5, 10, 15], [20, 25, 30]],\n",
        "              [[30, 35, 40], [45, 50, 55]]])\n",
        "# Here we You can reshape it into any shape that multiplies to 12,\n",
        "# like (4, 3), (3, 4), (2, 6), or (6, 2).\n",
        "resarr = n.reshape(4, 3)\n",
        "print(\"2D Array:\\n\", resarr)\n",
        "print(\"Shape:\", resarr.shape)\n",
        "print()\n",
        "resarr = n.reshape(2, 6)\n",
        "print(\"2D Array:\\n\", resarr)\n",
        "print(\"Shape:\", resarr.shape)"
      ],
      "metadata": {
        "colab": {
          "base_uri": "https://localhost:8080/"
        },
        "id": "tod-ZcAgHyBB",
        "outputId": "afa307cb-b4c1-4695-c214-53f7789bf19e"
      },
      "execution_count": null,
      "outputs": [
        {
          "output_type": "stream",
          "name": "stdout",
          "text": [
            "2D Array:\n",
            " [[ 5 10 15]\n",
            " [20 25 30]\n",
            " [30 35 40]\n",
            " [45 50 55]]\n",
            "Shape: (4, 3)\n",
            "\n",
            "2D Array:\n",
            " [[ 5 10 15 20 25 30]\n",
            " [30 35 40 45 50 55]]\n",
            "Shape: (2, 6)\n"
          ]
        }
      ]
    },
    {
      "cell_type": "markdown",
      "source": [
        "# ** Iterate NumPy Arrays:**:\n",
        "\n",
        "Iterations is displaying each element of an array. Here, we will see how to iterate through NumPy arrays using loop and other methods. We will cover the following examples:\n",
        "\n",
        "* Iterate a One-Dimensional NumPy array\n",
        "* Iterate a Two-Dimensional NumPy array\n",
        "* Iterate a Three-Dimensional NumPy array"
      ],
      "metadata": {
        "id": "e4rItndKIsEd"
      }
    },
    {
      "cell_type": "code",
      "source": [
        "# Iterate a One-Dimensional NumPy Array:\n",
        "import numpy as np\n",
        "n = np.array([5,10,15,20,25,30])\n",
        "\n",
        "print(\"Iterating\\n\")\n",
        "for a in n:\n",
        "  print(a,end=\" \")\n",
        "\n",
        "print(\"\\nType:\",type(n))\n",
        "print(\"Data Type:\",type(n.dtype))\n",
        "print(\"Dimensions:\",n.ndim)"
      ],
      "metadata": {
        "colab": {
          "base_uri": "https://localhost:8080/"
        },
        "id": "lOXlv1NXIUHw",
        "outputId": "42d4d1c3-2c59-4727-ddd4-02844fac9e7a"
      },
      "execution_count": null,
      "outputs": [
        {
          "output_type": "stream",
          "name": "stdout",
          "text": [
            "Iterating\n",
            "\n",
            "5 10 15 20 25 30 \n",
            "Type: <class 'numpy.ndarray'>\n",
            "Data Type: <class 'numpy.dtypes.Int64DType'>\n",
            "Dimensions: 1\n"
          ]
        }
      ]
    },
    {
      "cell_type": "code",
      "source": [
        "# Iterate a Two-Dimensional NumPy Array:\n",
        "import numpy as np\n",
        "n = np.array([[5,10,15],[20,25,30],[35,40,45]])\n",
        "\n",
        "print(\"Iterating\\n\")\n",
        "for a in n:\n",
        "  print(a)\n",
        "\n",
        "print(\"\\nType:\",type(n))\n",
        "print(\"Data Type:\",type(n.dtype))\n",
        "print(\"Dimensions:\",n.ndim)"
      ],
      "metadata": {
        "colab": {
          "base_uri": "https://localhost:8080/"
        },
        "id": "s-iac9eYJlr4",
        "outputId": "5a3a673b-eae7-49ba-c11d-5f1d4cddaa0a"
      },
      "execution_count": null,
      "outputs": [
        {
          "output_type": "stream",
          "name": "stdout",
          "text": [
            "Iterating\n",
            "\n",
            "[ 5 10 15]\n",
            "[20 25 30]\n",
            "[35 40 45]\n",
            "\n",
            "Type: <class 'numpy.ndarray'>\n",
            "Data Type: <class 'numpy.dtypes.Int64DType'>\n",
            "Dimensions: 2\n"
          ]
        }
      ]
    },
    {
      "cell_type": "code",
      "source": [
        "# Iterate a Three-Dimensional NumPy Array:\n",
        "import numpy as np\n",
        "n = np.array([[[5,10,15],[20,25,30]],[[35,40,45],[50,55,60]]])\n",
        "\n",
        "print(\"Iterating\\n\")\n",
        "for a in n:\n",
        "  print(\"Each matrix(2D):\")\n",
        "  print(a)\n",
        "\n",
        "print(\"\\nType:\",type(n))\n",
        "print(\"Data Type:\",type(n.dtype))\n",
        "print(\"Dimensions:\",n.ndim)"
      ],
      "metadata": {
        "colab": {
          "base_uri": "https://localhost:8080/"
        },
        "id": "vIV0hQHsKpOP",
        "outputId": "f8467b4a-774c-4542-c8d8-c8a9e74054cf"
      },
      "execution_count": null,
      "outputs": [
        {
          "output_type": "stream",
          "name": "stdout",
          "text": [
            "Iterating\n",
            "\n",
            "Each matrix(2D):\n",
            "[[ 5 10 15]\n",
            " [20 25 30]]\n",
            "Each matrix(2D):\n",
            "[[35 40 45]\n",
            " [50 55 60]]\n",
            "\n",
            "Type: <class 'numpy.ndarray'>\n",
            "Data Type: <class 'numpy.dtypes.Int64DType'>\n",
            "Dimensions: 3\n"
          ]
        }
      ]
    },
    {
      "cell_type": "markdown",
      "source": [
        "# **Joining NumPy Arrays:**\n",
        "\n",
        "We can join two or more arrays in a single new array using the following:\n",
        "\n",
        "**concatenate( ) method:** Joining along with axis, unlike keys in SQL.\n",
        "\n",
        "**stack methods:** Joining along a new axis, unlike keys in SQL."
      ],
      "metadata": {
        "id": "PKt0I97LL1K5"
      }
    },
    {
      "cell_type": "code",
      "source": [
        "# Join NumPy Arrays using the Concatenate():\n",
        "import numpy as np\n",
        "\n",
        "n1 = np.array([5,10,15,20])\n",
        "n2 = np.array([25,30,35,40])\n",
        "\n",
        "print(\"Iterating Array1:\")\n",
        "for a in n1:\n",
        "  print(a)\n",
        "\n",
        "print(\"Iterating Array2:\")\n",
        "for a in n2:\n",
        "  print(a)\n",
        "\n",
        "resarr = np.concatenate((n1, n2))\n",
        "print(\"\\nAfter Joining:\",resarr)"
      ],
      "metadata": {
        "colab": {
          "base_uri": "https://localhost:8080/"
        },
        "id": "-dzCGz9sLAQO",
        "outputId": "0493bdec-9e60-4fd2-8173-91c8dfbb3845"
      },
      "execution_count": null,
      "outputs": [
        {
          "output_type": "stream",
          "name": "stdout",
          "text": [
            "Iterating Array1:\n",
            "5\n",
            "10\n",
            "15\n",
            "20\n",
            "Iterating Array2:\n",
            "25\n",
            "30\n",
            "35\n",
            "40\n",
            "\n",
            "After Joining: [ 5 10 15 20 25 30 35 40]\n"
          ]
        }
      ]
    },
    {
      "cell_type": "markdown",
      "source": [
        "**Join NumPy Arrays using Stack Methods:**\n",
        "\n",
        "* stack( )\n",
        "* hstack( )\n",
        "* vstack( )\n",
        "* dstack( )\n",
        "* column_stack( )"
      ],
      "metadata": {
        "id": "26CNYc0wNWi3"
      }
    },
    {
      "cell_type": "markdown",
      "source": [
        "**stack( ):** Join NumPy array using the **stack( )** method:"
      ],
      "metadata": {
        "id": "TojX4qMOPnTt"
      }
    },
    {
      "cell_type": "code",
      "source": [
        "# Join NumPy Arrays using the stack method():\n",
        "import numpy as np\n",
        "\n",
        "n1 = np.array([5,10,15,20])\n",
        "n2 = np.array([25,30,35,40])\n",
        "\n",
        "print(\"Iterating Array1:\")\n",
        "for a in n1:\n",
        "  print(a)\n",
        "\n",
        "print(\"Iterating Array2:\")\n",
        "for a in n2:\n",
        "  print(a)\n",
        "\n",
        "resarr = np.stack((n1, n2))\n",
        "print(\"\\nAfter Joining:\\n\",resarr)"
      ],
      "metadata": {
        "colab": {
          "base_uri": "https://localhost:8080/"
        },
        "id": "v4KcHfgLNJP2",
        "outputId": "030a69e6-fca6-4938-a5c4-169b9ea9b024"
      },
      "execution_count": null,
      "outputs": [
        {
          "output_type": "stream",
          "name": "stdout",
          "text": [
            "Iterating Array1:\n",
            "5\n",
            "10\n",
            "15\n",
            "20\n",
            "Iterating Array2:\n",
            "25\n",
            "30\n",
            "35\n",
            "40\n",
            "\n",
            "After Joining:\n",
            " [[ 5 10 15 20]\n",
            " [25 30 35 40]]\n"
          ]
        }
      ]
    },
    {
      "cell_type": "markdown",
      "source": [
        "**hstack( ):** stack along rows using the **hstack( )** method in NumPy."
      ],
      "metadata": {
        "id": "c1ruOVc3PWqH"
      }
    },
    {
      "cell_type": "code",
      "source": [
        "# Join NumPy Arrays using the hstack method():\n",
        "import numpy as np\n",
        "\n",
        "n1 = np.array([5,10,15,20])\n",
        "n2 = np.array([25,30,35,40])\n",
        "\n",
        "print(\"Iterating Array1:\")\n",
        "for a in n1:\n",
        "  print(a)\n",
        "\n",
        "print(\"Iterating Array2:\")\n",
        "for a in n2:\n",
        "  print(a)\n",
        "\n",
        "resarr = np.hstack((n1, n2))\n",
        "print(\"\\nAfter Joining:\\n\",resarr)"
      ],
      "metadata": {
        "colab": {
          "base_uri": "https://localhost:8080/"
        },
        "id": "qhZEkZRwOA9m",
        "outputId": "c2b2927b-cf6f-4da9-e93d-75ae0b65913b"
      },
      "execution_count": null,
      "outputs": [
        {
          "output_type": "stream",
          "name": "stdout",
          "text": [
            "Iterating Array1:\n",
            "5\n",
            "10\n",
            "15\n",
            "20\n",
            "Iterating Array2:\n",
            "25\n",
            "30\n",
            "35\n",
            "40\n",
            "\n",
            "After Joining:\n",
            " [ 5 10 15 20 25 30 35 40]\n"
          ]
        }
      ]
    },
    {
      "cell_type": "markdown",
      "source": [
        "**vstack( ):** Stack along columns using the **vstack( )** method in NumPy:"
      ],
      "metadata": {
        "id": "2ID1lxmQPGix"
      }
    },
    {
      "cell_type": "code",
      "source": [
        "# Join NumPy Arrays using the vstack method():\n",
        "import numpy as np\n",
        "\n",
        "n1 = np.array([5,10,15,20])\n",
        "n2 = np.array([25,30,35,40])\n",
        "\n",
        "print(\"Iterating Array1:\")\n",
        "for a in n1:\n",
        "  print(a)\n",
        "\n",
        "print(\"Iterating Array2:\")\n",
        "for a in n2:\n",
        "  print(a)\n",
        "\n",
        "resarr = np.vstack((n1, n2))\n",
        "print(\"\\nAfter Joining:\\n\",resarr)"
      ],
      "metadata": {
        "colab": {
          "base_uri": "https://localhost:8080/"
        },
        "id": "Y-9yZK0EOc3P",
        "outputId": "529411a9-fd50-4ba0-d882-3e984d2a7548"
      },
      "execution_count": null,
      "outputs": [
        {
          "output_type": "stream",
          "name": "stdout",
          "text": [
            "Iterating Array1:\n",
            "5\n",
            "10\n",
            "15\n",
            "20\n",
            "Iterating Array2:\n",
            "25\n",
            "30\n",
            "35\n",
            "40\n",
            "\n",
            "After Joining:\n",
            " [[ 5 10 15 20]\n",
            " [25 30 35 40]]\n"
          ]
        }
      ]
    },
    {
      "cell_type": "markdown",
      "source": [
        "**dstack( ):** stack along depth height using the **dstack( )** method in NumPy."
      ],
      "metadata": {
        "id": "NfCm290qQHth"
      }
    },
    {
      "cell_type": "code",
      "source": [
        "# Join NumPy Arrays using the dstack method():\n",
        "import numpy as np\n",
        "\n",
        "n1 = np.array([5,10,15,20])\n",
        "n2 = np.array([25,30,35,40])\n",
        "\n",
        "print(\"Iterating Array1:\")\n",
        "for a in n1:\n",
        "  print(a)\n",
        "\n",
        "print(\"Iterating Array2:\")\n",
        "for a in n2:\n",
        "  print(a)\n",
        "\n",
        "resarr = np.dstack((n1, n2))\n",
        "print(\"\\nAfter Joining:\\n\",resarr)"
      ],
      "metadata": {
        "colab": {
          "base_uri": "https://localhost:8080/"
        },
        "id": "MWB1XdOyOvMH",
        "outputId": "2af32ad9-0b2a-4fe1-8d05-0bfd3da01389"
      },
      "execution_count": null,
      "outputs": [
        {
          "output_type": "stream",
          "name": "stdout",
          "text": [
            "Iterating Array1:\n",
            "5\n",
            "10\n",
            "15\n",
            "20\n",
            "Iterating Array2:\n",
            "25\n",
            "30\n",
            "35\n",
            "40\n",
            "\n",
            "After Joining:\n",
            " [[[ 5 25]\n",
            "  [10 30]\n",
            "  [15 35]\n",
            "  [20 40]]]\n"
          ]
        }
      ]
    },
    {
      "cell_type": "markdown",
      "source": [
        "**column_stack( ):** stack according to columns using the **column_stack( )** method in NumPy."
      ],
      "metadata": {
        "id": "-52OtDU0RYBh"
      }
    },
    {
      "cell_type": "code",
      "source": [
        "# Join NumPy Arrays using the vstack method():\n",
        "import numpy as np\n",
        "\n",
        "n1 = np.array([5,10,15,20])\n",
        "n2 = np.array([25,30,35,40])\n",
        "\n",
        "print(\"Iterating Array1:\")\n",
        "for a in n1:\n",
        "  print(a)\n",
        "\n",
        "print(\"Iterating Array2:\")\n",
        "for a in n2:\n",
        "  print(a)\n",
        "\n",
        "resarr = np.column_stack((n1, n2))\n",
        "print(\"\\nAfter Joining:\\n\",resarr)"
      ],
      "metadata": {
        "colab": {
          "base_uri": "https://localhost:8080/"
        },
        "id": "JNVucTKPRQG4",
        "outputId": "822a8068-e4e3-4477-fd4e-e745c360c24e"
      },
      "execution_count": null,
      "outputs": [
        {
          "output_type": "stream",
          "name": "stdout",
          "text": [
            "Iterating Array1:\n",
            "5\n",
            "10\n",
            "15\n",
            "20\n",
            "Iterating Array2:\n",
            "25\n",
            "30\n",
            "35\n",
            "40\n",
            "\n",
            "After Joining:\n",
            " [[ 5 25]\n",
            " [10 30]\n",
            " [15 35]\n",
            " [20 40]]\n"
          ]
        }
      ]
    },
    {
      "cell_type": "markdown",
      "source": [
        "# **Split NumPy Arrays**\n",
        "Split means to break/ slash an array into multiple arrays. To split an array, use the **array_split( )** method.\n",
        "\n",
        "The following is the syntax:\n",
        "**array_split(arr_name, split_num)**\n",
        "\n",
        "Here, **arr_name** is the name of the array, **split_num** is the count of splits.\n",
        "\n",
        "* Split a One-Dimensional array.\n",
        "* Access a split One-Dimensional array.\n",
        "* Split a 2D array and how to access."
      ],
      "metadata": {
        "id": "4cg__El0R_mo"
      }
    },
    {
      "cell_type": "code",
      "source": [
        "# Split a One-Dimensional Array in NumPy:\n",
        "import numpy as np\n",
        "\n",
        "n = np.array([10,20,30,40,50,60])\n",
        "print(\"Iterating Array:\")\n",
        "for a in n:\n",
        "  print(a,end=\" \")\n",
        "\n",
        "# Splitting the array into 2:\n",
        "resarr = np.array_split(n,2)\n",
        "\n",
        "print(\"\\nArray after splitting i.e returns 2 arrays:\")\n",
        "for a in resarr:\n",
        "  print(a)"
      ],
      "metadata": {
        "colab": {
          "base_uri": "https://localhost:8080/"
        },
        "id": "JGX6BWJnRy5C",
        "outputId": "e21db8f8-53c9-483f-aca2-397183e4ac8d"
      },
      "execution_count": null,
      "outputs": [
        {
          "output_type": "stream",
          "name": "stdout",
          "text": [
            "Iterating Array:\n",
            "10 20 30 40 50 60 \n",
            "Array after splitting i.e returns 2 arrays:\n",
            "[10 20 30]\n",
            "[40 50 60]\n"
          ]
        }
      ]
    },
    {
      "cell_type": "code",
      "source": [
        "# Access a Split One-Dimensional Numpy Array:\n",
        "import numpy as np\n",
        "\n",
        "n = np.array([10,20,30,40,50,60])\n",
        "print(\"Iterating Array:\")\n",
        "for a in n:\n",
        "  print(a,end=\" \")\n",
        "\n",
        "# Splitting the array into 2:\n",
        "resarr = np.array_split(n,2)\n",
        "print(\"\\nArray after splitting:\",resarr)\n",
        "\n",
        "print(\"\\nAccess Splitting array individually:\")\n",
        "\n",
        "print(\"Array 1:\",resarr[0])\n",
        "print(\"Array 2:\",resarr[1])"
      ],
      "metadata": {
        "colab": {
          "base_uri": "https://localhost:8080/"
        },
        "id": "FDMEUEVkUQSf",
        "outputId": "498bd87a-def1-4ba2-ae1d-2a638852e787"
      },
      "execution_count": null,
      "outputs": [
        {
          "output_type": "stream",
          "name": "stdout",
          "text": [
            "Iterating Array:\n",
            "10 20 30 40 50 60 \n",
            "Array after splitting: [array([10, 20, 30]), array([40, 50, 60])]\n",
            "\n",
            "Access Splitting array individually:\n",
            "Array 1: [10 20 30]\n",
            "Array 2: [40 50 60]\n"
          ]
        }
      ]
    },
    {
      "cell_type": "markdown",
      "source": [
        "**Split a Two-Dimensional NumPy Array and Access It:**\n",
        "\n",
        "The split result will be a 2D array, for example, if a 2D array is split into two, there will be two 2D arrays as a result."
      ],
      "metadata": {
        "id": "LI3Bg-arVtCc"
      }
    },
    {
      "cell_type": "code",
      "source": [
        "# Split a Two-Dimensional Array in NumPy and access it:\n",
        "import numpy as np\n",
        "\n",
        "# 2X3 Matrix:\n",
        "n = np.array([[10,20,30],[40,50,60]])\n",
        "print(\"Iterating Array:\")\n",
        "for a in n:\n",
        "  print(a)\n",
        "\n",
        "# Splitting the array:\n",
        "resarr = np.array_split(n,2)\n",
        "print(resarr)\n",
        "\n",
        "print(\"\\nArray after splitting Access individually:\")\n",
        "print(\"Array 1:\",resarr[0])\n",
        "print(\"Array 1:\",resarr[1])"
      ],
      "metadata": {
        "colab": {
          "base_uri": "https://localhost:8080/"
        },
        "id": "V3YgRh-dVRi8",
        "outputId": "33dda0ce-06fc-4b22-c362-59be364e7b37"
      },
      "execution_count": null,
      "outputs": [
        {
          "output_type": "stream",
          "name": "stdout",
          "text": [
            "Iterating Array:\n",
            "[10 20 30]\n",
            "[40 50 60]\n",
            "[array([[10, 20, 30]]), array([[40, 50, 60]])]\n",
            "\n",
            "Array after splitting Access individually:\n",
            "Array 1: [[10 20 30]]\n",
            "Array 1: [[40 50 60]]\n"
          ]
        }
      ]
    },
    {
      "cell_type": "markdown",
      "source": [
        "# **Search A NumPy Array for a Value**:\n",
        "\n",
        "In a NumPy array, we can search for a specific value using the **numpy.where( )** method. This method returns the index where the specific element is found."
      ],
      "metadata": {
        "id": "Zgj3NZFcXAYI"
      }
    },
    {
      "cell_type": "code",
      "source": [
        "# Search a NumPy array for a value:\n",
        "import numpy as np\n",
        "n = np.array([10,20,30,40,50,30])\n",
        "\n",
        "print(\"Iterating:\")\n",
        "for a in n:\n",
        "  print(a,end=\" \")\n",
        "\n",
        "# Searching a value in Array:\n",
        "res = np.where(n == 30)\n",
        "\n",
        "print(\"\\n Element 30 Found at the following indexes:\")\n",
        "print(res)"
      ],
      "metadata": {
        "colab": {
          "base_uri": "https://localhost:8080/"
        },
        "id": "OtqBjuFGWHg0",
        "outputId": "e3dc879e-de5b-4099-9233-d2448e440616"
      },
      "execution_count": null,
      "outputs": [
        {
          "output_type": "stream",
          "name": "stdout",
          "text": [
            "Iterating:\n",
            "10 20 30 40 50 30 \n",
            " Element 30 Found at the following indexes:\n",
            "(array([2, 5]),)\n"
          ]
        }
      ]
    },
    {
      "cell_type": "markdown",
      "source": [
        "#**Sorting NumPy Arrays**:\n",
        "\n",
        "The **numpy.sort( )** function is used in NumPy to sort arrays in a sequence. This sequence can be ascending or descending.\n",
        "\n",
        "* Sort a One-Dimensional Integer Array\n",
        "* Sort a One-Dimensional String Array\n",
        "* Sort a Two-Dimensional Array"
      ],
      "metadata": {
        "id": "pcwQFeYOiS1v"
      }
    },
    {
      "cell_type": "code",
      "source": [
        "# Sort a One-Dimensional Integer Array in NumPy:\n",
        "import numpy as np\n",
        "n = np.array([50,25,35,15,55,75,65,60,30,45])\n",
        "\n",
        "print(\"Iterating Array:\")\n",
        "for a in n:\n",
        "  print(a,end=\" \")\n",
        "\n",
        "# Sorting the Values of Array:\n",
        "print(\"\\nSorting Array:\",np.sort(n))"
      ],
      "metadata": {
        "id": "tLPOPUEpXzDU",
        "colab": {
          "base_uri": "https://localhost:8080/"
        },
        "outputId": "d067b5a6-2900-462a-c243-381c885389b7"
      },
      "execution_count": null,
      "outputs": [
        {
          "output_type": "stream",
          "name": "stdout",
          "text": [
            "Iterating Array:\n",
            "50 25 35 15 55 75 65 60 30 45 \n",
            "Sorting Array: [15 25 30 35 45 50 55 60 65 75]\n"
          ]
        }
      ]
    },
    {
      "cell_type": "code",
      "source": [
        "# Sort a One-Dimensional String Array in NumPy:\n",
        "import numpy as np\n",
        "n = np.array(['Vinit','Priyanshi','Sunil','Rohit','Bhushan','Shalu'])\n",
        "\n",
        "print(\"Iterating Array:\")\n",
        "for a in n:\n",
        "  print(a,end=\" \")\n",
        "\n",
        "# Sorting the Values of Array:\n",
        "print(\"\\nSorting Array:\",np.sort(n)) # String sort into Alphabetical Order."
      ],
      "metadata": {
        "colab": {
          "base_uri": "https://localhost:8080/"
        },
        "id": "tJMJCDA0jYbM",
        "outputId": "7ae588c7-ee68-42a5-9e09-aeb9928f8e4c"
      },
      "execution_count": null,
      "outputs": [
        {
          "output_type": "stream",
          "name": "stdout",
          "text": [
            "Iterating Array:\n",
            "Vinit Priyanshi Sunil Rohit Bhushan Shalu \n",
            "Sorting Array: ['Bhushan' 'Priyanshi' 'Rohit' 'Shalu' 'Sunil' 'Vinit']\n"
          ]
        }
      ]
    },
    {
      "cell_type": "markdown",
      "source": [
        "**Sort a Two-Dimensional NumPy Array:**\n",
        "\n",
        "A 2D Array gets sorted individually using the **sort( )** Function:"
      ],
      "metadata": {
        "id": "fiYY1ndakUDM"
      }
    },
    {
      "cell_type": "code",
      "source": [
        "import numpy as np\n",
        "\n",
        "# 2X5 Matrix\n",
        "n = np.array([[5,3,7,9,6],[15,25,13,20,12]])\n",
        "\n",
        "print(\"Iterating 2D Array:\")\n",
        "for a in n:\n",
        "  print(a)\n",
        "\n",
        "# Sorting the values of 2D Array:\n",
        "print(\"\\nSorting 2D Array:\\n\",np.sort(n))"
      ],
      "metadata": {
        "colab": {
          "base_uri": "https://localhost:8080/"
        },
        "id": "Urv9ky35j5IQ",
        "outputId": "46ec10f2-30eb-4451-c25c-d28dde0439d3"
      },
      "execution_count": null,
      "outputs": [
        {
          "output_type": "stream",
          "name": "stdout",
          "text": [
            "Iterating 2D Array:\n",
            "[5 3 7 9 6]\n",
            "[15 25 13 20 12]\n",
            "\n",
            "Sorting 2D Array:\n",
            " [[ 3  5  6  7  9]\n",
            " [12 13 15 20 25]]\n"
          ]
        }
      ]
    },
    {
      "cell_type": "markdown",
      "source": [
        "# **Axes in Numpy Arrays**:\n",
        "In NumPy arrays, the axis is the direction along the rows and columns. A two-dimensional NumPy array has the following two corresponding axes:\n",
        "\n",
        "* vertical axis(axis 0)\n",
        "* horizontal axis(axis 1)\n",
        "![Screenshot 2025-08-04 160027.png](data:image/png;base64,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)"
      ],
      "metadata": {
        "id": "6hY-7WOtlEf9"
      }
    },
    {
      "cell_type": "markdown",
      "source": [
        "Specifying axes will calculate values along that specific axes only.\n",
        "\n",
        "Let us see an example to understand the concept of axis and get the minimum value. We have used the **min( )** method and the **axis** attributes."
      ],
      "metadata": {
        "id": "UKm2n02qpFIi"
      }
    },
    {
      "cell_type": "code",
      "source": [
        "# Get the Minimum value with axes in NumPy:\n",
        "import numpy as np\n",
        "# Matrix 3X5:\n",
        "n = np.array([[2,5,7,9,6],\n",
        "              [15,25,35,45,55],\n",
        "              [100,200,300,400,500]])\n",
        "\n",
        "print(\"Iterating 2D Array:\")\n",
        "for a in n:\n",
        "  print(a)\n",
        "\n",
        "print(\"\\nMinimum Value:\",n.min())\n",
        "print(\"Minimum value with axes 0 (vertical axes):\", n.min(axis=0))\n",
        "print(\"Minimum value with axes 1 (vertical axes):\", n.min(axis=1))"
      ],
      "metadata": {
        "colab": {
          "base_uri": "https://localhost:8080/"
        },
        "id": "hStnJRUTk8ei",
        "outputId": "1c617732-a234-4390-b6a5-3b1e92d01ce3"
      },
      "execution_count": null,
      "outputs": [
        {
          "output_type": "stream",
          "name": "stdout",
          "text": [
            "Iterating 2D Array:\n",
            "[2 5 7 9 6]\n",
            "[15 25 35 45 55]\n",
            "[100 200 300 400 500]\n",
            "\n",
            "Minimum Value: 2\n",
            "Minimum value with axes 0 (vertical axes): [2 5 7 9 6]\n",
            "Minimum value with axes 1 (vertical axes): [  2  15 100]\n"
          ]
        }
      ]
    },
    {
      "cell_type": "markdown",
      "source": [
        "#**Intersection of NumPy Arrays:**\n",
        "If we want to get the intersection of two arrays, use the **intersect1d( )** method in NumPy. Intersection means finding common elements between two arrays.\n",
        "\n",
        "* Find the intersection between two arrays\n",
        "* Finding intersection between unsorted arrays sort the resultant array\n",
        "* Find the intersection between two arrays with different elements"
      ],
      "metadata": {
        "id": "vOwqkuC2ql6X"
      }
    },
    {
      "cell_type": "code",
      "source": [
        "# Intersection between NumPy Arrays:\n",
        "import numpy as np\n",
        "\n",
        "# Create two arrays:\n",
        "n1 = np.array([5,10,15,20])\n",
        "n2 = np.array([5,15,30,40])\n",
        "\n",
        "print(\"Iterating Array1:\")\n",
        "for a in n1:\n",
        "  print(a,end=\" \")\n",
        "\n",
        "print(\"\\nIterating Array2:\")\n",
        "for a in n2:\n",
        "  print(a,end=\" \")\n",
        "\n",
        "resarr = np.intersect1d(n1,n2)\n",
        "print(\"\\nIntersection Array:\",resarr)"
      ],
      "metadata": {
        "colab": {
          "base_uri": "https://localhost:8080/"
        },
        "id": "-kKJWmzFqPNP",
        "outputId": "ecec0309-66b4-4031-e862-16ecc944683d"
      },
      "execution_count": null,
      "outputs": [
        {
          "output_type": "stream",
          "name": "stdout",
          "text": [
            "Iterating Array1:\n",
            "5 10 15 20 \n",
            "Iterating Array2:\n",
            "5 15 30 40 \n",
            "Intersection Array: [ 5 15]\n"
          ]
        }
      ]
    },
    {
      "cell_type": "markdown",
      "source": [
        "**Finding Intersection between Two unsorted Arrays sorts the Array:**\n",
        "\n",
        "The **intersect1d( )** method finds the intersection and also sorts the result. We have created two unsorted integer arrays. We will find the intersection between these arrays that will be display a sorted result."
      ],
      "metadata": {
        "id": "yGyuOvt5y15p"
      }
    },
    {
      "cell_type": "code",
      "source": [
        "# Intersection between NumPy Arrays outputs a sorted array:\n",
        "import numpy as np\n",
        "\n",
        "# Created two Arrays:\n",
        "n1 = np.array([10,50,30,100,60,40])\n",
        "n2 = np.array([80,50,90,100,40,70])\n",
        "\n",
        "print(\"Iterating Array1:\")\n",
        "for a in n1:\n",
        "  print(a)\n",
        "\n",
        "print(\"Iterating Array2:\")\n",
        "for a in n2:\n",
        "  print(a)\n",
        "\n",
        "resarr = np.intersect1d(n1, n2)\n",
        "print(\"\\nIntersection (sorted result):\\n\",resarr)"
      ],
      "metadata": {
        "colab": {
          "base_uri": "https://localhost:8080/"
        },
        "id": "qgZUhEAAyi3o",
        "outputId": "d2d6cb13-fcd3-42df-adf6-c325e451d551"
      },
      "execution_count": null,
      "outputs": [
        {
          "output_type": "stream",
          "name": "stdout",
          "text": [
            "Iterating Array1:\n",
            "10\n",
            "50\n",
            "30\n",
            "100\n",
            "60\n",
            "40\n",
            "Iterating Array2:\n",
            "80\n",
            "50\n",
            "90\n",
            "100\n",
            "40\n",
            "70\n",
            "\n",
            "Intersection (sorted result):\n",
            " [ 40  50 100]\n"
          ]
        }
      ]
    },
    {
      "cell_type": "code",
      "source": [
        "# Intersection between NumPy Arrays with different Elements:\n",
        "import numpy as np\n",
        "\n",
        "# Created two Arrays:\n",
        "n1 = np.array([10,20,30,40,50])\n",
        "n2 = np.array([60,70,80,90,100])\n",
        "\n",
        "print(\"Iterating Array1:\")\n",
        "for a in n1:\n",
        "  print(a)\n",
        "\n",
        "print(\"Iterating Array2:\")\n",
        "for a in n2:\n",
        "  print(a)\n",
        "\n",
        "resarr = np.intersect1d(n1, n2)\n",
        "print(\"\\nIntersection (different Elements):\\n\",resarr)"
      ],
      "metadata": {
        "colab": {
          "base_uri": "https://localhost:8080/"
        },
        "id": "KPunlM2Fz433",
        "outputId": "54796f18-86f9-474c-d253-66ee543f4540"
      },
      "execution_count": null,
      "outputs": [
        {
          "output_type": "stream",
          "name": "stdout",
          "text": [
            "Iterating Array1:\n",
            "10\n",
            "20\n",
            "30\n",
            "40\n",
            "50\n",
            "Iterating Array2:\n",
            "60\n",
            "70\n",
            "80\n",
            "90\n",
            "100\n",
            "\n",
            "Intersection (different Elements):\n",
            " []\n"
          ]
        }
      ]
    },
    {
      "cell_type": "markdown",
      "source": [
        "# **Difference Between NumPy Arrays:**\n",
        "To find the difference between two arrays, use the **numpy.setdiff1d( )** method. This means if we are subtracting two arrays, then **setdiff1d( )** will subtract the common elements from the 1st array and display the rest of the elements of the 1st array.\n",
        "\n",
        "The 1st and 2nd arrays are placed as two-parameter values as shown in the below syntax:\n",
        "\n",
        "**setdiff1d(array1, array2)**\n",
        "\n"
      ],
      "metadata": {
        "id": "DrAyJ7dd0zUd"
      }
    },
    {
      "cell_type": "markdown",
      "source": [
        "**Example 1: Find the difference between two arrays:**\n",
        "\n",
        "The **numpy.setdiff1d( )** method is used to find the difference between two arrays in Python NumPy."
      ],
      "metadata": {
        "id": "IYcwCpAYcHFt"
      }
    },
    {
      "cell_type": "code",
      "source": [
        "# Find the difference between two arrays:\n",
        "import numpy as np\n",
        "\n",
        "n1 = np.array([5,10,15,20,25,30,35,40,45,50])\n",
        "n2 = np.array([30,35,50,55,60,65,75,85,95,100])\n",
        "\n",
        "print(\"Iterating Array1:\")\n",
        "for a in n1:\n",
        "  print(a,end=\" \")\n",
        "\n",
        "print(\"\\nIterating Array2:\")\n",
        "for a in n2:\n",
        "  print(a,end=\" \")\n",
        "\n",
        "diffarr = np.setdiff1d(n1, n2)\n",
        "print(\"\\nDifference between two arrays:\\n\",diffarr)"
      ],
      "metadata": {
        "id": "Spy-B4bn0qFV",
        "colab": {
          "base_uri": "https://localhost:8080/"
        },
        "outputId": "2b1cf7d2-bbdc-46b6-e612-ad68ee6fe64e"
      },
      "execution_count": null,
      "outputs": [
        {
          "output_type": "stream",
          "name": "stdout",
          "text": [
            "Iterating Array1:\n",
            "5 10 15 20 25 30 35 40 45 50 \n",
            "Iterating Array2:\n",
            "30 35 50 55 60 65 75 85 95 100 \n",
            "Difference between two arrays:\n",
            " [ 5 10 15 20 25 40 45]\n"
          ]
        }
      ]
    },
    {
      "cell_type": "markdown",
      "source": [
        "**Example2: Find the Difference Between Two Arrays:**\n",
        "\n",
        "with parameter being swapped. That means now, we will perform **n2 - n1**."
      ],
      "metadata": {
        "id": "DREpHTGpe7VZ"
      }
    },
    {
      "cell_type": "code",
      "source": [
        "# Find the difference between two arrays (n2 - n1):\n",
        "import numpy as np\n",
        "\n",
        "n1 = np.array([5,10,15,20,25,30,35,40,45,50])\n",
        "n2 = np.array([30,35,50,55,60,65,75,85,95,100])\n",
        "\n",
        "print(\"Iterating Array1:\")\n",
        "for a in n1:\n",
        "  print(a,end=\" \")\n",
        "\n",
        "print(\"\\nIterating Array2:\")\n",
        "for a in n2:\n",
        "  print(a,end=\" \")\n",
        "\n",
        "diffarr = np.setdiff1d(n2, n1)\n",
        "print(\"\\nDifference:\\n\",diffarr)"
      ],
      "metadata": {
        "colab": {
          "base_uri": "https://localhost:8080/"
        },
        "id": "lLnD7QGvealC",
        "outputId": "5fdf316e-6aff-4c75-f61f-256b8f3d8f06"
      },
      "execution_count": null,
      "outputs": [
        {
          "output_type": "stream",
          "name": "stdout",
          "text": [
            "Iterating Array1:\n",
            "5 10 15 20 25 30 35 40 45 50 \n",
            "Iterating Array2:\n",
            "30 35 50 55 60 65 75 85 95 100 \n",
            "Difference:\n",
            " [ 55  60  65  75  85  95 100]\n"
          ]
        }
      ]
    },
    {
      "cell_type": "markdown",
      "source": [
        "# **Arithmatic Operations on NumPy Arrays**:\n",
        "\n",
        "Perform Arthmatic Operations on NumPy Arrays using the sum( ), subtract( ), multiply( ), and divide( ) methods.\n",
        "\n",
        "Let us see the operations one by one:\n",
        "\n",
        "* Add NumPy Arrays\n",
        "* Subtract NumPy Arrays\n",
        "* Multiply NumPy Arrays\n",
        "* Divide NumPy Arrays\n"
      ],
      "metadata": {
        "id": "dsF6jCekgJp1"
      }
    },
    {
      "cell_type": "markdown",
      "source": [
        "**Add NumPy Arrays:**\n",
        "To add the elements of NumPy arrays, the **sum( )** method is used. It adds each and every element of both arrays and displays the result in a new array.\n",
        "\n",
        "Let us see the following examples to add arrays:\n",
        "\n",
        "* Add all the elements of a NumPy arrays\n",
        "* Add column values using the axis parameter\n",
        "* Add individual array values using the axis parameter"
      ],
      "metadata": {
        "id": "KDmj0iqqgxLp"
      }
    },
    {
      "cell_type": "code",
      "source": [
        "# Add the elements of NumPy arrays:\n",
        "import numpy as np\n",
        "\n",
        "n1 = np.array([15,20,25,30])\n",
        "n2 = np.array([65,75,85,95])\n",
        "\n",
        "print(\"Array1:\",n1)\n",
        "print(\"Array2:\",n2)\n",
        "\n",
        "resarr = np.sum([n1, n2])\n",
        "print(\"Sum:\",resarr)"
      ],
      "metadata": {
        "colab": {
          "base_uri": "https://localhost:8080/"
        },
        "id": "id6KHG7Hf5Ib",
        "outputId": "1d916c27-0898-445e-96b2-55ad05535e7a"
      },
      "execution_count": null,
      "outputs": [
        {
          "output_type": "stream",
          "name": "stdout",
          "text": [
            "Array1: [15 20 25 30]\n",
            "Array2: [65 75 85 95]\n",
            "Sum: 410\n"
          ]
        }
      ]
    },
    {
      "cell_type": "code",
      "source": [
        "# Add column values of NumPy arrays using the axis Parameter:\n",
        "import numpy as np\n",
        "\n",
        "n1 = np.array([15,20,25,30])\n",
        "n2 = np.array([65,75,85,95])\n",
        "\n",
        "print(\"Array1:\",n1)\n",
        "print(\"Array2:\",n2)\n",
        "\n",
        "resarr = np.sum([n1, n2], axis=0)\n",
        "print(\"Sum:\",resarr)"
      ],
      "metadata": {
        "colab": {
          "base_uri": "https://localhost:8080/"
        },
        "id": "AOvACO1ih1Cr",
        "outputId": "aaa9009d-fae5-4560-ffe3-754a02b88c44"
      },
      "execution_count": null,
      "outputs": [
        {
          "output_type": "stream",
          "name": "stdout",
          "text": [
            "Array1: [15 20 25 30]\n",
            "Array2: [65 75 85 95]\n",
            "Sum: [ 80  95 110 125]\n"
          ]
        }
      ]
    },
    {
      "cell_type": "code",
      "source": [
        "# Add individaul array values using the axis parameter:\n",
        "import numpy as np\n",
        "\n",
        "n1 = np.array([15,20,25,30])\n",
        "n2 = np.array([65,75,85,95])\n",
        "\n",
        "print(\"Array1:\",n1)\n",
        "print(\"Array2:\",n2)\n",
        "\n",
        "resarr = np.sum([n1, n2],axis = 1)\n",
        "print(\"Sum:\",resarr)"
      ],
      "metadata": {
        "colab": {
          "base_uri": "https://localhost:8080/"
        },
        "id": "SpKBbSvXi64c",
        "outputId": "ff154015-46eb-4e3a-e69e-edad860a6314"
      },
      "execution_count": null,
      "outputs": [
        {
          "output_type": "stream",
          "name": "stdout",
          "text": [
            "Array1: [15 20 25 30]\n",
            "Array2: [65 75 85 95]\n",
            "Sum: [ 90 320]\n"
          ]
        }
      ]
    },
    {
      "cell_type": "markdown",
      "source": [
        "**Subtract NumPy Arrays:**\n",
        "Use the **subtract( )** method to subtract one array from another. It subtracts and displays the result in a new array."
      ],
      "metadata": {
        "id": "qQZp0IJWjkpP"
      }
    },
    {
      "cell_type": "code",
      "source": [
        "# Subtract NumPy Arrays:\n",
        "\n",
        "import numpy as np\n",
        "\n",
        "n1 = np.array([15,20,25,30])\n",
        "n2 = np.array([65,75,85,95])\n",
        "\n",
        "print(\"Array1:\",n1)\n",
        "print(\"Array2:\",n2)\n",
        "\n",
        "resarr = np.subtract(n2, n1)\n",
        "print(\"Subtraction result:\",resarr)"
      ],
      "metadata": {
        "colab": {
          "base_uri": "https://localhost:8080/"
        },
        "id": "5L5of1t4jcM8",
        "outputId": "bd00a7a8-950e-42a8-f5e0-91c9445e1033"
      },
      "execution_count": null,
      "outputs": [
        {
          "output_type": "stream",
          "name": "stdout",
          "text": [
            "Array1: [15 20 25 30]\n",
            "Array2: [65 75 85 95]\n",
            "Subtraction result: [50 55 60 65]\n"
          ]
        }
      ]
    },
    {
      "cell_type": "markdown",
      "source": [
        "**Multiply NumPy Arrays:**\n",
        "Use the **multiply( )** method to multiply elements of one array to another. It multiplies and displays the result in a new array."
      ],
      "metadata": {
        "id": "9ARRZukBklnm"
      }
    },
    {
      "cell_type": "code",
      "source": [
        "# Multiply NumPy Arrays:\n",
        "import numpy as np\n",
        "\n",
        "n1 = np.array([15,20,25,30])\n",
        "n2 = np.array([65,75,85,95])\n",
        "\n",
        "print(\"Array1:\",n1)\n",
        "print(\"Array2:\",n2)\n",
        "\n",
        "resarr = np.multiply(n2, n1)\n",
        "print(\"Mutliplication result:\",resarr)"
      ],
      "metadata": {
        "colab": {
          "base_uri": "https://localhost:8080/"
        },
        "id": "g-YcxcTxkTMY",
        "outputId": "746a9ee9-4e59-4184-d6e3-9e61cd7724c6"
      },
      "execution_count": null,
      "outputs": [
        {
          "output_type": "stream",
          "name": "stdout",
          "text": [
            "Array1: [15 20 25 30]\n",
            "Array2: [65 75 85 95]\n",
            "Mutliplication result: [ 975 1500 2125 2850]\n"
          ]
        }
      ]
    },
    {
      "cell_type": "markdown",
      "source": [
        "**Divide NumPy Arrays:**\n",
        "The **divide( )** method divides elements of one array with elements of another. It divides and displays the result in a new array."
      ],
      "metadata": {
        "id": "YyEfoXFUlfBx"
      }
    },
    {
      "cell_type": "code",
      "source": [
        "# Divide NumPy Arrays:\n",
        "import numpy as np\n",
        "\n",
        "n1 = np.array([15,20,25,30])\n",
        "n2 = np.array([65,75,85,95])\n",
        "\n",
        "print(\"Array1:\",n1)\n",
        "print(\"Array2:\",n2)\n",
        "\n",
        "resarr = np.divide(n2, n1)\n",
        "print(\"Division result:\",resarr)"
      ],
      "metadata": {
        "colab": {
          "base_uri": "https://localhost:8080/"
        },
        "id": "Ap4pcXLSlTai",
        "outputId": "8b8bad18-884a-4fbc-eeb5-8a3224acff1a"
      },
      "execution_count": null,
      "outputs": [
        {
          "output_type": "stream",
          "name": "stdout",
          "text": [
            "Array1: [15 20 25 30]\n",
            "Array2: [65 75 85 95]\n",
            "Division result: [4.33333333 3.75       3.4        3.16666667]\n"
          ]
        }
      ]
    },
    {
      "cell_type": "markdown",
      "source": [
        "# **Scalar Operation on NumPy Arrays:**\n",
        "Scalar Operations on NumPy arrays include performing addition or subtraction, multiplication on each element of a NumPy array.\n",
        "\n",
        "* Addition Operation on NumPy Arrays\n",
        "* Subtraction Operation on NumPy Arrays\n",
        "* Multiplication Operation on NumPy Arrays\n",
        "* Division Operation on NumPy Arrays"
      ],
      "metadata": {
        "id": "ym8n9I_pmKT4"
      }
    },
    {
      "cell_type": "markdown",
      "source": [
        "The Addition Operation is adding (+) a value to each element of a NumPy Array."
      ],
      "metadata": {
        "id": "rOARI0ohuOFr"
      }
    },
    {
      "cell_type": "code",
      "source": [
        "# Addition Operation on NumPy Arrays:\n",
        "import numpy as np\n",
        "\n",
        "n1 = np.array([15,20,25,30])\n",
        "n2 = np.array([65,75,85,95])\n",
        "\n",
        "print(\"Array1:\",n1)\n",
        "print(\"Array2:\",n2)\n",
        "\n",
        "n1 = n1 + 10;\n",
        "n2 = n2 + 20;\n",
        "\n",
        "print(\"Array1 (Updated):\",n1)\n",
        "print(\"Array2 (Updated):\",n2)"
      ],
      "metadata": {
        "colab": {
          "base_uri": "https://localhost:8080/"
        },
        "id": "gdm4kzGBl7kA",
        "outputId": "852f52c8-d9c8-4e13-8675-7e281ad0354d"
      },
      "execution_count": null,
      "outputs": [
        {
          "output_type": "stream",
          "name": "stdout",
          "text": [
            "Array1: [15 20 25 30]\n",
            "Array2: [65 75 85 95]\n",
            "Array1 (Updated): [25 30 35 40]\n",
            "Array2 (Updated): [ 85  95 105 115]\n"
          ]
        }
      ]
    },
    {
      "cell_type": "markdown",
      "source": [
        "The Subtraction Operation is adding (-) a value to each element of a NumPy Array."
      ],
      "metadata": {
        "id": "jHtn9zSgvMwq"
      }
    },
    {
      "cell_type": "code",
      "source": [
        "# Subtraction Operation on NumPy Arrays:\n",
        "import numpy as np\n",
        "\n",
        "n1 = np.array([15,20,25,30])\n",
        "n2 = np.array([65,75,85,95])\n",
        "\n",
        "print(\"Array1:\",n1)\n",
        "print(\"Array2:\",n2)\n",
        "\n",
        "n1 = n1 - 10;\n",
        "n2 = n2 - 20;\n",
        "\n",
        "print(\"Array1 (Updated):\",n1)\n",
        "print(\"Array2 (Updated):\",n2)"
      ],
      "metadata": {
        "colab": {
          "base_uri": "https://localhost:8080/"
        },
        "id": "T7-YzM6Fu_CO",
        "outputId": "4a866208-a06f-4232-f4aa-09622e717220"
      },
      "execution_count": null,
      "outputs": [
        {
          "output_type": "stream",
          "name": "stdout",
          "text": [
            "Array1: [15 20 25 30]\n",
            "Array2: [65 75 85 95]\n",
            "Array1 (Updated): [ 5 10 15 20]\n",
            "Array2 (Updated): [45 55 65 75]\n"
          ]
        }
      ]
    },
    {
      "cell_type": "markdown",
      "source": [
        "The Multiplication Operation is adding (*) a value to each element of a NumPy Array."
      ],
      "metadata": {
        "id": "RSfiT3z5vgOK"
      }
    },
    {
      "cell_type": "code",
      "source": [
        "# Multiplication Operation on NumPy Arrays:\n",
        "import numpy as np\n",
        "\n",
        "n1 = np.array([15,20,25,30])\n",
        "n2 = np.array([65,75,85,95])\n",
        "\n",
        "print(\"Array1:\",n1)\n",
        "print(\"Array2:\",n2)\n",
        "\n",
        "n1 = n1 * 5;\n",
        "n2 = n2 * 10;\n",
        "\n",
        "print(\"Array1 (Updated):\",n1)\n",
        "print(\"Array2 (Updated):\",n2)"
      ],
      "metadata": {
        "colab": {
          "base_uri": "https://localhost:8080/"
        },
        "id": "JQupu03QvWc4",
        "outputId": "0a1fa878-e9d9-4597-9c03-1c44ea72c272"
      },
      "execution_count": null,
      "outputs": [
        {
          "output_type": "stream",
          "name": "stdout",
          "text": [
            "Array1: [15 20 25 30]\n",
            "Array2: [65 75 85 95]\n",
            "Array1 (Updated): [ 75 100 125 150]\n",
            "Array2 (Updated): [650 750 850 950]\n"
          ]
        }
      ]
    },
    {
      "cell_type": "markdown",
      "source": [
        "The Division Operation is adding (/) a value to each element of a NumPy Array."
      ],
      "metadata": {
        "id": "vPzVlQSsv7Pa"
      }
    },
    {
      "cell_type": "code",
      "source": [
        "# Division Operation on NumPy Arrays:\n",
        "import numpy as np\n",
        "\n",
        "n1 = np.array([15,20,25,30])\n",
        "n2 = np.array([65,75,85,95])\n",
        "\n",
        "print(\"Array1:\",n1)\n",
        "print(\"Array2:\",n2)\n",
        "\n",
        "n1 = n1 / 5;\n",
        "n2 = n2 / 5;\n",
        "\n",
        "print(\"Array1 (Updated):\",n1)\n",
        "print(\"Array2 (Updated):\",n2)"
      ],
      "metadata": {
        "colab": {
          "base_uri": "https://localhost:8080/"
        },
        "id": "PJTGBjUxvtq2",
        "outputId": "9bf134b0-c5b9-4802-f8c3-4ff774598a07"
      },
      "execution_count": null,
      "outputs": [
        {
          "output_type": "stream",
          "name": "stdout",
          "text": [
            "Array1: [15 20 25 30]\n",
            "Array2: [65 75 85 95]\n",
            "Array1 (Updated): [3. 4. 5. 6.]\n",
            "Array2 (Updated): [13. 15. 17. 19.]\n"
          ]
        }
      ]
    },
    {
      "cell_type": "markdown",
      "source": [
        "# **Statistical Operation on NumPy Arrays:**\n",
        "\n",
        "We can perform statistical operations, like mean, median, and standard deviation on NumPy arrays.\n",
        "\n",
        "* Mean\n",
        "* Median\n",
        "* Standard Deviation"
      ],
      "metadata": {
        "id": "FhL9LK7jwO3W"
      }
    },
    {
      "cell_type": "markdown",
      "source": [
        "Mean is the average of the given values. Here, we will find the mean of the array elements using the **mean( )** method."
      ],
      "metadata": {
        "id": "92U5p9Ozw0iO"
      }
    },
    {
      "cell_type": "code",
      "source": [
        "# Find the mean of the array elements in NumPy:\n",
        "import numpy as np\n",
        "\n",
        "n1 = np.array([15,20,25,30])\n",
        "n2 = np.array([65,75,85,95])\n",
        "\n",
        "print(\"Array1:\",n1)\n",
        "print(\"Array2:\",n2)\n",
        "\n",
        "resmean1 = np.mean(n1)\n",
        "resmean2 = np.mean(n2)\n",
        "\n",
        "print(\"\\nArray1 Mean:\",resmean1)\n",
        "print(\"\\nArray2 Mean:\",resmean2)"
      ],
      "metadata": {
        "colab": {
          "base_uri": "https://localhost:8080/"
        },
        "id": "-Ux1ifzYwCUo",
        "outputId": "2fe97cee-b9c2-4de1-fac0-f7319b17994d"
      },
      "execution_count": null,
      "outputs": [
        {
          "output_type": "stream",
          "name": "stdout",
          "text": [
            "Array1: [15 20 25 30]\n",
            "Array2: [65 75 85 95]\n",
            "\n",
            "Array1 Mean: 22.5\n",
            "\n",
            "Array2 Mean: 80.0\n"
          ]
        }
      ]
    },
    {
      "cell_type": "markdown",
      "source": [
        "Median is the middle value of the given values. we will find the median of the array elements using the **median( )** method."
      ],
      "metadata": {
        "id": "FzZpFfHhB0Kc"
      }
    },
    {
      "cell_type": "code",
      "source": [
        "# Find the median of the array elements in NumPy:\n",
        "import numpy as np\n",
        "\n",
        "n1 = np.array([15,20,25,30])\n",
        "n2 = np.array([65,75,85,95])\n",
        "\n",
        "print(\"Array1:\",n1)\n",
        "print(\"Array2:\",n2)\n",
        "\n",
        "resmedian1 = np.median(n1)\n",
        "resmedian2 = np.median(n2)\n",
        "\n",
        "print(\"\\nArray1 Median:\",resmedian1)\n",
        "print(\"\\nArray2 Median:\",resmedian2)"
      ],
      "metadata": {
        "id": "z6x-vPHdyIi3",
        "colab": {
          "base_uri": "https://localhost:8080/"
        },
        "outputId": "76be8b67-074a-455a-d2a3-3da00dc6c5d4"
      },
      "execution_count": 2,
      "outputs": [
        {
          "output_type": "stream",
          "name": "stdout",
          "text": [
            "Array1: [15 20 25 30]\n",
            "Array2: [65 75 85 95]\n",
            "\n",
            "Array1 Median: 22.5\n",
            "\n",
            "Array2 Median: 80.0\n"
          ]
        }
      ]
    },
    {
      "cell_type": "markdown",
      "source": [
        "Standard Deviation is a measure of the amount of variation or dispersion of the given values. We will find the standard deviation of the array elements using the **std( )** method."
      ],
      "metadata": {
        "id": "Kj5gveNWCbrY"
      }
    },
    {
      "cell_type": "code",
      "source": [
        "import numpy as np\n",
        "\n",
        "n1 = np.array([15,20,25,30])\n",
        "n2 = np.array([65,75,85,95])\n",
        "\n",
        "print(\"Array1:\",n1)\n",
        "print(\"Array2:\",n2)\n",
        "\n",
        "res_std1 = np.std(n1)\n",
        "res_std2 = np.std(n2)\n",
        "\n",
        "print(\"\\nArray1 Median:\",res_std1)\n",
        "print(\"\\nArray2 Median:\",res_std2)"
      ],
      "metadata": {
        "colab": {
          "base_uri": "https://localhost:8080/"
        },
        "id": "REi_8umsCQzc",
        "outputId": "9eabe21b-18ee-430c-ffda-f9238a7b2962"
      },
      "execution_count": 3,
      "outputs": [
        {
          "output_type": "stream",
          "name": "stdout",
          "text": [
            "Array1: [15 20 25 30]\n",
            "Array2: [65 75 85 95]\n",
            "\n",
            "Array1 Median: 5.5901699437494745\n",
            "\n",
            "Array2 Median: 11.180339887498949\n"
          ]
        }
      ]
    },
    {
      "cell_type": "markdown",
      "source": [
        "#**Random Module In NumPy:**\n",
        "To work with the Random numbers, NumPy has a module called **random.** To use the module, import it at the beginning of a Python program as shown below:\n",
        "\n",
        "**from numpy import `random`**\n",
        "\n",
        "* Generate a randome number\n",
        "* Generate a random array with a fixed size\n",
        "* Generate one of the random values based on an array of values"
      ],
      "metadata": {
        "id": "u7xu2PH0C_MW"
      }
    },
    {
      "cell_type": "markdown",
      "source": [
        "To generate a random number, we have used the **randint( )** method of the random module."
      ],
      "metadata": {
        "id": "qiRUG9wiEjre"
      }
    },
    {
      "cell_type": "code",
      "source": [
        "# Generate a random number in NumPy:\n",
        "from numpy import random\n",
        "\n",
        "# Get random number from 0 to 5\n",
        "n = random.randint(5)\n",
        "\n",
        "print(\"Random Number:\",n)"
      ],
      "metadata": {
        "colab": {
          "base_uri": "https://localhost:8080/"
        },
        "id": "yAFpX5UvC8QD",
        "outputId": "4acdd624-a821-4b1e-efc6-6d23797b205e"
      },
      "execution_count": 4,
      "outputs": [
        {
          "output_type": "stream",
          "name": "stdout",
          "text": [
            "Random Number: 0\n"
          ]
        }
      ]
    },
    {
      "cell_type": "markdown",
      "source": [
        "We will generate random elements of an array using the **random.randint( )** method. The size of the array is set using the **size** parameter."
      ],
      "metadata": {
        "id": "Vep76gWMFCBQ"
      }
    },
    {
      "cell_type": "code",
      "source": [
        "# Generate a random array with a fixed size in NumPy:\n",
        "from numpy import random\n",
        "\n",
        "# Get 3 random numbers as array elements from 0 to 10\n",
        "n = random.randint(10, size = (3))\n",
        "\n",
        "print(\"Random Number:\",n)"
      ],
      "metadata": {
        "colab": {
          "base_uri": "https://localhost:8080/"
        },
        "id": "s8Ajq4RbE-zp",
        "outputId": "b6820a62-29fd-4949-a659-edaeccc1a847"
      },
      "execution_count": 13,
      "outputs": [
        {
          "output_type": "stream",
          "name": "stdout",
          "text": [
            "Random Number: [2 4 8]\n"
          ]
        }
      ]
    },
    {
      "cell_type": "markdown",
      "source": [
        "One of the random values based on an array of values can be generated using the **choice( )** method of the **random** module."
      ],
      "metadata": {
        "id": "m-F0j93BF5aJ"
      }
    },
    {
      "cell_type": "code",
      "source": [
        "# Generate one of the random values based on an array of values\n",
        "from numpy import random\n",
        "\n",
        "n = random.choice([10,20,30,40,50,60,70,80,90,100])\n",
        "\n",
        "print(\"Random Number:\",n)"
      ],
      "metadata": {
        "colab": {
          "base_uri": "https://localhost:8080/"
        },
        "id": "FAHTwPyXFzqD",
        "outputId": "8ce947bf-d49e-4f4b-967e-143366c01892"
      },
      "execution_count": 15,
      "outputs": [
        {
          "output_type": "stream",
          "name": "stdout",
          "text": [
            "Random Number: 50\n"
          ]
        }
      ]
    },
    {
      "cell_type": "markdown",
      "source": [
        "#**NumPy Logs**:\n",
        "Python NumPy has some predefined functions to work with Logs, such as **numpy.log2( )**, **numpy.log10( )** etc.\n",
        "\n",
        "* Log Base 2\n",
        "* Log Base 10"
      ],
      "metadata": {
        "id": "HWz7FSJMGuKO"
      }
    },
    {
      "cell_type": "markdown",
      "source": [
        "We will find the log base 2 using the **numpy.log2( )** method."
      ],
      "metadata": {
        "id": "dH26nxNhHUVq"
      }
    },
    {
      "cell_type": "code",
      "source": [
        "# Find log base 2\n",
        "import numpy as np\n",
        "\n",
        "n = np.array([1,2,3,4,5])\n",
        "print(\"Array:\",n)\n",
        "\n",
        "print(\"\\nResult:\\n\",np.log2(n))"
      ],
      "metadata": {
        "colab": {
          "base_uri": "https://localhost:8080/"
        },
        "id": "CziuNzsWGqfB",
        "outputId": "db8e76a2-daa9-48d5-be5a-056b3c2702fd"
      },
      "execution_count": 16,
      "outputs": [
        {
          "output_type": "stream",
          "name": "stdout",
          "text": [
            "Array: [1 2 3 4 5]\n",
            "\n",
            "Result:\n",
            " [0.         1.         1.5849625  2.         2.32192809]\n"
          ]
        }
      ]
    },
    {
      "cell_type": "markdown",
      "source": [
        "We will find the log base 10 using the **numpy.log10( )** method."
      ],
      "metadata": {
        "id": "Db6eyYWBHzNw"
      }
    },
    {
      "cell_type": "code",
      "source": [
        "# Find log base 10\n",
        "import numpy as np\n",
        "\n",
        "n = np.array([1,2,3,4,5])\n",
        "print(\"Array:\",n)\n",
        "\n",
        "print(\"\\nResult:\\n\",np.log10(n))"
      ],
      "metadata": {
        "colab": {
          "base_uri": "https://localhost:8080/"
        },
        "id": "I-090j0bHuta",
        "outputId": "8773fdbb-224f-4d61-c531-0a0e131f55e5"
      },
      "execution_count": 17,
      "outputs": [
        {
          "output_type": "stream",
          "name": "stdout",
          "text": [
            "Array: [1 2 3 4 5]\n",
            "\n",
            "Result:\n",
            " [0.         0.30103    0.47712125 0.60205999 0.69897   ]\n"
          ]
        }
      ]
    },
    {
      "cell_type": "markdown",
      "source": [
        "# **NumPy -- LCM and HCF**\n",
        "Let us see how to find the LCM and HCF of two numbers in NumPy.\n",
        "\n",
        "The **numpy.lcm( )** is used to find the LCM, whereas **numpy.gcd( )** method returns the GCD in Python."
      ],
      "metadata": {
        "id": "0y98-DSvIBoR"
      }
    },
    {
      "cell_type": "code",
      "source": [
        "# Find LCM of two numbers:\n",
        "\n",
        "import numpy as np\n",
        "# Two numbers:\n",
        "a = 3\n",
        "b = 12\n",
        "\n",
        "result = np.lcm(a, b)\n",
        "print(\"\\nLCM of two Numbers:\",result)"
      ],
      "metadata": {
        "colab": {
          "base_uri": "https://localhost:8080/"
        },
        "id": "dK2bwtafH-Yf",
        "outputId": "5bef0358-83a6-4d72-8b16-65d74ff72dc9"
      },
      "execution_count": 20,
      "outputs": [
        {
          "output_type": "stream",
          "name": "stdout",
          "text": [
            "\n",
            "LCM of two Numbers: 12\n"
          ]
        }
      ]
    },
    {
      "cell_type": "code",
      "source": [
        "# Find GCD of two numbers:\n",
        "\n",
        "import numpy as np\n",
        "# Two numbers:\n",
        "a = 2\n",
        "b = 13\n",
        "\n",
        "result = np.gcd(a, b)\n",
        "print(\"\\nHCF/GCD of two Numbers:\",result)"
      ],
      "metadata": {
        "colab": {
          "base_uri": "https://localhost:8080/"
        },
        "id": "2x2nQZTZIzJ0",
        "outputId": "39b72493-c5d0-40af-95fc-9371c9834afc"
      },
      "execution_count": 27,
      "outputs": [
        {
          "output_type": "stream",
          "name": "stdout",
          "text": [
            "\n",
            "HCF/GCD of two Numbers: 1\n"
          ]
        }
      ]
    },
    {
      "cell_type": "code",
      "source": [],
      "metadata": {
        "id": "n7aj4nd5JKKs"
      },
      "execution_count": null,
      "outputs": []
    }
  ]
}