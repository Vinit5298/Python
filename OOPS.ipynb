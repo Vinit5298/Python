{
  "cells": [
    {
      "cell_type": "markdown",
      "metadata": {
        "id": "view-in-github",
        "colab_type": "text"
      },
      "source": [
        "<a href=\"https://colab.research.google.com/github/Vinit5298/Python/blob/main/OOPS.ipynb\" target=\"_parent\"><img src=\"https://colab.research.google.com/assets/colab-badge.svg\" alt=\"Open In Colab\"/></a>"
      ]
    },
    {
      "cell_type": "markdown",
      "id": "d013be5c",
      "metadata": {
        "id": "d013be5c"
      },
      "source": [
        "1. What is OOPs:\n",
        "\n",
        "Answer: OOPS stands for Object-Oriented Programming System(standard), OOPS is a way of writing a program by creating objects, just like a real world entities.\n",
        "\n",
        "Think of Everything around us --> A car, A mobile, A dog.\n",
        "Each one is object, Every object has:\n",
        "1. Properties(Data) --> Like Colour, size, name\n",
        "2. Actions(Functions) --> Like Driving, Calling, Barking\n",
        "\n",
        "These objects combine Data(attributes) and the actions that can be performed on the data(methods).\n",
        "\n",
        "It's a way to structure the code to model real world entities and their interaction, making program more organised, reusable and maintainable.\n",
        "\n",
        "Example: User from Flipkart"
      ]
    },
    {
      "cell_type": "markdown",
      "id": "f225c123",
      "metadata": {
        "id": "f225c123"
      },
      "source": [
        "2. What are the key features of OOP?\n",
        "\n",
        "Answer: The main key features or principle of OOP are:\n",
        "\n",
        "1. Class\n",
        "2. Object\n",
        "3. Encapsulation\n",
        "4. Inheritance\n",
        "5. Polymorphism\n",
        "6. Abstraction"
      ]
    },
    {
      "cell_type": "markdown",
      "id": "b25b7afb",
      "metadata": {
        "id": "b25b7afb"
      },
      "source": [
        "3. What is Class in Python?\n",
        "\n",
        "Answer: Class: In Python, a class is serves as a blueprint or a template for creating objects.\n",
        "\n",
        "It defines a set of attributes(data) and methods(function) that the objects created from this class will possess.\n",
        "\n",
        "Example(class):\n",
        "Imagine the blueprint for a house. It outlines the design, number of rooms where the doors and windows etc. It's a general plan."
      ]
    },
    {
      "cell_type": "markdown",
      "id": "931943d9",
      "metadata": {
        "id": "931943d9"
      },
      "source": [
        "Class: Car\n",
        "Data / Attributes / Properties: Color, name, Brand, Top Speed\n",
        "Behaviour / Method / Function: Accelerate(), Break(),\n",
        "Flying is behaviour or function of Aeroplane."
      ]
    },
    {
      "cell_type": "code",
      "execution_count": null,
      "id": "1c7d3e79",
      "metadata": {
        "id": "1c7d3e79",
        "outputId": "cb43c1ef-c6c9-4d3b-9857-c979f73d7995"
      },
      "outputs": [
        {
          "name": "stdout",
          "output_type": "stream",
          "text": [
            "<class 'int'>\n"
          ]
        }
      ],
      "source": [
        "a = 9\n",
        "print(type(a))"
      ]
    },
    {
      "cell_type": "code",
      "execution_count": null,
      "id": "14d1ffa8",
      "metadata": {
        "id": "14d1ffa8",
        "outputId": "f858a788-8143-4c4c-a9cb-982d0c35beee"
      },
      "outputs": [
        {
          "name": "stdout",
          "output_type": "stream",
          "text": [
            "<class 'float'>\n"
          ]
        }
      ],
      "source": [
        "a = 5.5\n",
        "print(type(a))"
      ]
    },
    {
      "cell_type": "code",
      "execution_count": null,
      "id": "93263621",
      "metadata": {
        "id": "93263621",
        "outputId": "c7ea974f-420b-4b9c-a3df-51d657e424ca"
      },
      "outputs": [
        {
          "name": "stdout",
          "output_type": "stream",
          "text": [
            "12\n",
            "<class 'function'>\n"
          ]
        }
      ],
      "source": [
        "def sum(a,b):\n",
        "    return a + b\n",
        "\n",
        "x = sum(5,7)\n",
        "print(x)\n",
        "print(type(sum))"
      ]
    },
    {
      "cell_type": "code",
      "execution_count": null,
      "id": "03b1fecd",
      "metadata": {
        "id": "03b1fecd",
        "outputId": "c1fe1d05-7d1a-4617-a7a7-5c57c3e54ec6"
      },
      "outputs": [
        {
          "name": "stdout",
          "output_type": "stream",
          "text": [
            "<class 'type'>\n"
          ]
        }
      ],
      "source": [
        "# How to define a class?\n",
        "class Student:\n",
        "    pass\n",
        "print(type(Student))"
      ]
    },
    {
      "cell_type": "code",
      "execution_count": null,
      "id": "be0c9867",
      "metadata": {
        "id": "be0c9867"
      },
      "outputs": [],
      "source": [
        "# How to call the class via variable.\n",
        "class Student:\n",
        "    pass\n",
        "s1 = Student() # first stored in variable and then call the class."
      ]
    },
    {
      "cell_type": "markdown",
      "id": "99dc3e90",
      "metadata": {
        "id": "99dc3e90"
      },
      "source": [
        "What is Object in Python? (Actual House)\n",
        "\n",
        "Answer: An object is an actual house built according to that blueprint.\n",
        "\n",
        "You can build many houses from the same blueprint, and each house is an independent instance, even though they share the same design."
      ]
    },
    {
      "cell_type": "code",
      "execution_count": null,
      "id": "b1e4e1ee",
      "metadata": {
        "id": "b1e4e1ee",
        "outputId": "b2135ef9-6f62-4daa-ee3a-ef0859127111"
      },
      "outputs": [
        {
          "name": "stdout",
          "output_type": "stream",
          "text": [
            "<class '__main__.Student'>\n"
          ]
        }
      ],
      "source": [
        "class Student:\n",
        "    pass\n",
        "\n",
        "s1 = Student()\n",
        "print(type(s1))"
      ]
    },
    {
      "cell_type": "markdown",
      "id": "89294fea",
      "metadata": {
        "id": "89294fea"
      },
      "source": [
        "4. What is difference between a class and an instance?\n",
        "Answer:\n",
        "**A class is serves as a blueprint or template for creating an object.\n",
        "\n",
        "If defines a set of data(attributes) and data(methods) for that created object from this class.\n",
        "\n",
        "Class variables are defined directly within the class body, outside of any methods.\n",
        "\n",
        "They are shared among all instance(objects) of that class.\n",
        "\n",
        "Modifying a class variable through the class name or any instance will affect its value.\n",
        "\n",
        "**An instance variable are typically defined within __init__method(constructor) of a class using the self keyword.\n",
        "\n",
        "They are unique to each individual instance of the class. changes to an instance variable on one object don't affect the same variable on other objects."
      ]
    },
    {
      "cell_type": "code",
      "execution_count": null,
      "id": "b1ccd1dd",
      "metadata": {
        "id": "b1ccd1dd",
        "outputId": "4c5f8009-ae29-4103-f535-dce4a7682df9"
      },
      "outputs": [
        {
          "name": "stdout",
          "output_type": "stream",
          "text": [
            "Canis familiaris\n",
            "Canis familiaris\n",
            "Buddy\n",
            "5\n",
            "Domestic Dog\n",
            "Bud\n",
            "Lucy\n"
          ]
        }
      ],
      "source": [
        "class Dog:\n",
        "    # Class variable\n",
        "    species = \"Canis familiaris\"\n",
        "\n",
        "    def __init__(self, name, age):\n",
        "        # Instance variables\n",
        "        self.name = name\n",
        "        self.age = age\n",
        "\n",
        "# Create instances\n",
        "dog1 = Dog(\"Buddy\", 3)\n",
        "dog2 = Dog(\"Lucy\", 5)\n",
        "\n",
        "# Accessing class variable\n",
        "print(Dog.species)       # Output: Canis familiaris\n",
        "print(dog1.species)      # Output: Canis familiaris\n",
        "\n",
        "# Accessing instance variables\n",
        "print(dog1.name)         # Output: Buddy\n",
        "print(dog2.age)          # Output: 5\n",
        "\n",
        "# Modifying class variable affects all instances\n",
        "Dog.species = \"Domestic Dog\"\n",
        "print(dog1.species)      # Output: Domestic Dog\n",
        "\n",
        "# Modifying instance variable only affects that instance\n",
        "dog1.name = \"Bud\"\n",
        "print(dog1.name)         # Output: Bud\n",
        "print(dog2.name)         # Output: Lucy (unchanged)"
      ]
    },
    {
      "cell_type": "markdown",
      "id": "12fad19e",
      "metadata": {
        "id": "12fad19e"
      },
      "source": [
        "5.\tWhat is the __init__ method in Python?\n",
        "\n",
        "Answer: In Python, a constructor is a special method that is automatically called when an object is created from a class.\n",
        "\n",
        "Its main job is to initialize the object — meaning it sets the initial values of the object's variables.\n",
        "\n",
        "denotes by __init__()\n",
        "\n"
      ]
    },
    {
      "cell_type": "markdown",
      "id": "76360d47",
      "metadata": {
        "id": "76360d47"
      },
      "source": [
        "6. What is self in Python class?\n",
        "\n",
        "Answer: Self is the refrence to the object created of our class.\n",
        "It is passed whenever we are calling Method.\n",
        "Only an object can access or helpful in connecting attributes and methods inside our class."
      ]
    },
    {
      "cell_type": "code",
      "execution_count": null,
      "id": "fb359d82",
      "metadata": {
        "id": "fb359d82",
        "outputId": "e4522680-c60b-47e6-fb1c-cf8fecae6f70"
      },
      "outputs": [
        {
          "name": "stdout",
          "output_type": "stream",
          "text": [
            "Memory Address of Self: 2215658285392\n",
            "I will get called automatically when you create an object\n",
            "Memory Address of Self: 2215658285392\n"
          ]
        }
      ],
      "source": [
        "class Student:\n",
        "    def __init__(self):\n",
        "        print(\"Memory Address of Self:\",id(self))\n",
        "        print(\"I will get called automatically when you create an object\")\n",
        "\n",
        "s1 = Student()\n",
        "print(\"Memory Address of Self:\",id(s1))\n",
        "\n",
        "# s1 and self are same"
      ]
    },
    {
      "cell_type": "markdown",
      "id": "65f7408b",
      "metadata": {
        "id": "65f7408b"
      },
      "source": [
        "7.\tWhat is inheritance in Python?\n",
        "\n",
        "Answer: Inheritance means one class can use the properties (variables) and methods (functions) of another class.\n",
        "\n",
        "It helps in reusing code and creating a relationship between classes."
      ]
    },
    {
      "cell_type": "markdown",
      "id": "e4772fdd",
      "metadata": {
        "id": "e4772fdd"
      },
      "source": [
        "Imagine this:\n",
        "\n",
        "You have a Parent class (like a general template), and a Child class (which is more specific).\n",
        "\n",
        "The Child automatically gets the stuff from Parent."
      ]
    },
    {
      "cell_type": "code",
      "execution_count": null,
      "id": "f65f0660",
      "metadata": {
        "id": "f65f0660",
        "outputId": "85f1e56c-9e33-423d-f2d1-3b741486ae56"
      },
      "outputs": [
        {
          "name": "stdout",
          "output_type": "stream",
          "text": [
            "My name is Vinit and I am 20 years old.\n",
            "My student ID is S123.\n"
          ]
        }
      ],
      "source": [
        "# Step 1:\n",
        "class Person:\n",
        "    def __init__(self, name, age):\n",
        "        self.name = name\n",
        "        self.age = age\n",
        "\n",
        "    def display_info(self):\n",
        "        print(f\"My name is {self.name} and I am {self.age} years old.\")\n",
        "# Here, Person is a parent class with:\n",
        "# name and age as attributes\n",
        "# display_info() method to show info\n",
        "\n",
        "# Step 2:\n",
        "class Student(Person):\n",
        "    def __init__(self, name, age, student_id):\n",
        "        super().__init__(name, age)\n",
        "        self.student_id = student_id\n",
        "\n",
        "    def show_student(self):\n",
        "        print(f\"My student ID is {self.student_id}.\")\n",
        "# Student is a child class.\n",
        "# super().__init__() helps us use the constructor of Person.\n",
        "# It adds a new thing: student_id.\n",
        "\n",
        "# Step 3:\n",
        "s1 = Student(\"Vinit\", 20, \"S123\")\n",
        "s1.display_info()   # Inherited from Person\n",
        "s1.show_student()   # Belongs to Student"
      ]
    },
    {
      "cell_type": "markdown",
      "id": "c862390b",
      "metadata": {
        "id": "c862390b"
      },
      "source": [
        "8.\tWhat is method overloading in Python?\n",
        "\n",
        "Answer: Method Overloading means same method name, but different number or type of arguments.\n",
        "\n",
        "In many languages(like Java),this works directly.\n",
        "But in Python, it does not support method Overloading directly.\n",
        "\n",
        "Instead,we can simulate it using default argument or *args.\n",
        "\n",
        "Think of a real example: Imagine you have a method called add()\n",
        "\n",
        "If you give 2 numbers, it adds them\n",
        "If you give 3 numbers, it adds them\n",
        "Same Method name --> different behaviour depending on input."
      ]
    },
    {
      "cell_type": "code",
      "execution_count": null,
      "id": "b20cdf34",
      "metadata": {
        "id": "b20cdf34",
        "outputId": "8d9a29d9-609a-4edc-adad-6686229a7f72"
      },
      "outputs": [
        {
          "name": "stdout",
          "output_type": "stream",
          "text": [
            "Sum is: 30\n",
            "Sum is: 70\n"
          ]
        }
      ],
      "source": [
        "# Step 1: Create a class\n",
        "class Calculator:\n",
        "    def add(self,*numbers):\n",
        "        result = 0\n",
        "        for num in numbers:\n",
        "            result = result + num\n",
        "        print(f\"Sum is: {result}\")\n",
        "\n",
        "# Step 2:  Create object and test with different arguments\n",
        "\n",
        "# Creating object\n",
        "c = Calculator()\n",
        "\n",
        "# call with 2 Arguments\n",
        "c.add(10,20)\n",
        "\n",
        "# call with 3 Arguments\n",
        "c.add(15,25,30)\n"
      ]
    },
    {
      "cell_type": "markdown",
      "id": "19994f49",
      "metadata": {
        "id": "19994f49"
      },
      "source": [
        "9. What is method overriding in Python?\n",
        "\n",
        "Answer: Method Overridding means when a child class has a method with the same name as the method in the parent class,\n",
        "\n",
        "And the child class changes(overrides) the behavior of that method.\n",
        "\n",
        "So, same method name, but different behavior in child class.\n",
        "\n",
        "Why we use it: To customize or change the behavior of a method from the parent class\n",
        "\n",
        "Real Life Example:\n",
        "\n",
        "1. Person class has a method show()\n",
        "2. Student class inherits from Person and Overrides the show() method to give a different message."
      ]
    },
    {
      "cell_type": "code",
      "execution_count": null,
      "id": "9ac47da0",
      "metadata": {
        "id": "9ac47da0",
        "outputId": "a62b9651-e5cf-4581-c64e-40032471a453"
      },
      "outputs": [
        {
          "name": "stdout",
          "output_type": "stream",
          "text": [
            "I am a Person\n",
            "I am a Student\n"
          ]
        }
      ],
      "source": [
        "# Step 1: Create Parent Class Person\n",
        "\n",
        "class Person:\n",
        "    def show(self):\n",
        "        print(\"I am a Person\")\n",
        "\n",
        "# Step 2: Create Child Class Student and Override show()\n",
        "\n",
        "class Student:\n",
        "    def show(self):\n",
        "        print(\"I am a Student\")\n",
        "\n",
        "# Same method name show() in both classes —\n",
        "# but Student changes the message\n",
        "\n",
        "# Step 3: Create Object and Call Method\n",
        "\n",
        "p = Person()\n",
        "p.show()     # Calls parent class method\n",
        "\n",
        "s = Student()\n",
        "s.show()     # Calls overridden method in child class"
      ]
    },
    {
      "cell_type": "markdown",
      "id": "7d1ce2f6",
      "metadata": {
        "id": "7d1ce2f6"
      },
      "source": [
        "10. What is Polymorphism in Python?\n",
        "\n",
        "Answer: Polymorphism in Python means One function or method can behave in different ways depending on the objects it's acting on.\n",
        "\n",
        "Example: We will create:\n",
        "\n",
        "A parent class: Person\n",
        "\n",
        "Two child classes: Student and Teacher\n",
        "\n",
        "Both will have a method called show_role(), but with different behaviours."
      ]
    },
    {
      "cell_type": "code",
      "execution_count": null,
      "id": "e78f2923",
      "metadata": {
        "id": "e78f2923",
        "outputId": "d51271bc-9ac7-471e-b160-7a771fa6088d"
      },
      "outputs": [
        {
          "name": "stdout",
          "output_type": "stream",
          "text": [
            "I am a Student\n",
            "I am a Teacher\n"
          ]
        }
      ],
      "source": [
        "# Step 1: Create the Parent Class\n",
        "class Person:\n",
        "    def show_role(self):\n",
        "        print(\"I am a Person\")\n",
        "\n",
        "# Step 2: Create Child Classes that Override show_role()\n",
        "class Student(Person):\n",
        "    def show_role(self):\n",
        "        print(\"I am a Student\")\n",
        "\n",
        "class Teacher(Person):\n",
        "    def show_role(self):\n",
        "        print(\"I am a Teacher\")\n",
        "\n",
        "# Both child classes use same method name: show_role()\n",
        "# But each gives a different message — this is polymorphism.\n",
        "\n",
        "# Step 3: Use Polymorphism in Action\n",
        "# List of objects\n",
        "people = [Student(), Teacher()]\n",
        "\n",
        "# Call same method, different behavior\n",
        "for person in people:\n",
        "    person.show_role()"
      ]
    },
    {
      "cell_type": "markdown",
      "id": "ca51a65d",
      "metadata": {
        "id": "ca51a65d"
      },
      "source": [
        "11. What is Encapsulation in Python?\n",
        "\n",
        "Answer: Encapsulation in Python means Hiding internal details of class and protecting data from being changed directly from outsiders.\n",
        "\n",
        "In Simple terms:\n",
        "\n",
        "1. You keep the variable as private.\n",
        "2. Only you can access or update them using methods (getter / setter)\n",
        "\n",
        "Example:\n",
        "You have a Student object with marks.\n",
        "\n",
        "You don't want anyone to directly change the marks, so you hide them and allow updates only through methods."
      ]
    },
    {
      "cell_type": "code",
      "execution_count": null,
      "id": "96cd85ad",
      "metadata": {
        "id": "96cd85ad",
        "outputId": "bced7378-a84a-4655-dc15-3a487ebfd6f5"
      },
      "outputs": [
        {
          "name": "stdout",
          "output_type": "stream",
          "text": [
            "Vinit\n",
            "Priyanshi\n"
          ]
        }
      ],
      "source": [
        "class Student:\n",
        "    def __init__(self):\n",
        "        self.__name = \"Vinit\"   # private variable\n",
        "\n",
        "    def get_name(self):         # getter\n",
        "        return self.__name\n",
        "\n",
        "    def set_name(self, name):   # setter\n",
        "        self.__name = name\n",
        "\n",
        "s = Student()\n",
        "\n",
        "# Access name using getter\n",
        "print(s.get_name())     # Output: Vinit\n",
        "\n",
        "# Change name using setter\n",
        "s.set_name(\"Priyanshi\")\n",
        "\n",
        "# Access again\n",
        "print(s.get_name())     # Output: Priya"
      ]
    },
    {
      "cell_type": "markdown",
      "id": "8f808fee",
      "metadata": {
        "id": "8f808fee"
      },
      "source": [
        "12. What is the super() function in Python?\n",
        "\n",
        "Answer: super() is used to call a method from the parent class inside the child class.\n",
        "\n",
        "Especially useful when you're overridding a method in a child class but still want to use the parent's version of that method."
      ]
    },
    {
      "cell_type": "code",
      "execution_count": null,
      "id": "8edd0ceb",
      "metadata": {
        "id": "8edd0ceb",
        "outputId": "80f10077-19b1-48e1-bf6b-c062b0d8f547"
      },
      "outputs": [
        {
          "name": "stdout",
          "output_type": "stream",
          "text": [
            "Name: Vinit\n",
            "Student ID: S123\n"
          ]
        }
      ],
      "source": [
        "# Step 1: Create a Parent Class\n",
        "class Person:\n",
        "    def __init__(self, name):\n",
        "        self.name = name\n",
        "\n",
        "    def show(self):\n",
        "        print(\"Name:\", self.name)\n",
        "\n",
        "# Step 2: Create Child Class and Use super()\n",
        "class Student(Person):\n",
        "    def __init__(self, name, student_id):\n",
        "        super().__init__(name)        # calling parent constructor\n",
        "        self.student_id = student_id\n",
        "\n",
        "    def show(self):\n",
        "        super().show()                # calling parent method\n",
        "        print(\"Student ID:\", self.student_id)\n",
        "\n",
        "# Step 3: Create Object and Call Method\n",
        "s = Student(\"Vinit\", \"S123\")\n",
        "s.show()"
      ]
    },
    {
      "cell_type": "markdown",
      "id": "76fe61f9",
      "metadata": {
        "id": "76fe61f9"
      },
      "source": [
        "13. What is Abstract Class in Python?\n",
        "\n",
        "Answer: An Abstract class is like a blueprint for other classes.\n",
        "\n",
        "It can not be used directly to create objects.\n",
        "\n",
        "It means to be inherited by child classes, which must complete the missing parts (methods)."
      ]
    },
    {
      "cell_type": "code",
      "execution_count": null,
      "id": "3ee76efd",
      "metadata": {
        "id": "3ee76efd",
        "outputId": "70ba6703-870a-4de8-a711-82f61171966d"
      },
      "outputs": [
        {
          "name": "stdout",
          "output_type": "stream",
          "text": [
            "Bark\n",
            "Meow\n"
          ]
        }
      ],
      "source": [
        "# Step 1: Create Abstract Class\n",
        "from abc import ABC, abstractmethod\n",
        "class Animal(ABC):              # Abstract class\n",
        "    @abstractmethod\n",
        "    def make_sound(self):       # Abstract method\n",
        "        pass\n",
        "\n",
        "# Step 2: Create Child Classes\n",
        "class Dog(Animal):\n",
        "    def make_sound(self):\n",
        "        print(\"Bark\")\n",
        "\n",
        "class Cat(Animal):\n",
        "    def make_sound(self):\n",
        "        print(\"Meow\")\n",
        "\n",
        "# Step 3: Use the Classes\n",
        "d = Dog()\n",
        "d.make_sound()     # Output: Bark\n",
        "\n",
        "c = Cat()\n",
        "c.make_sound()     # Output: Meow"
      ]
    },
    {
      "cell_type": "markdown",
      "id": "9dc26ab2",
      "metadata": {
        "id": "9dc26ab2"
      },
      "source": [
        "14. What is Multiple inheritance in Python?\n",
        "\n",
        "Answer: Mutliple Inheritance means A class can inherit from more than one parent class at the same time.\n",
        "\n",
        "So the child class gets features (methods/variables) from all the parent classes."
      ]
    },
    {
      "cell_type": "code",
      "execution_count": null,
      "id": "021389a6",
      "metadata": {
        "id": "021389a6",
        "outputId": "a6026e32-c1ab-40c8-c28f-23d64e1f3be1"
      },
      "outputs": [
        {
          "name": "stdout",
          "output_type": "stream",
          "text": [
            "I am studying.\n",
            "Teaching Math\n",
            "Teaching Science\n"
          ]
        }
      ],
      "source": [
        "# Step 1: Create Two Parent Classes\n",
        "class MathTeacher:\n",
        "    def teach_math(self):\n",
        "        print(\"Teaching Math\")\n",
        "\n",
        "class ScienceTeacher:\n",
        "    def teach_science(self):\n",
        "        print(\"Teaching Science\")\n",
        "\n",
        "# Step 2: Create Child Class that Inherits from both:\n",
        "class Student(MathTeacher, ScienceTeacher):\n",
        "    def study(self):\n",
        "        print(\"I am studying.\")\n",
        "\n",
        "# Step 3: Create Object and Call All Methods\n",
        "s = Student()\n",
        "s.study()         # From Student class\n",
        "s.teach_math()    # From MathTeacher class\n",
        "s.teach_science() # From ScienceTeacher class"
      ]
    },
    {
      "cell_type": "markdown",
      "id": "1f33017e",
      "metadata": {
        "id": "1f33017e"
      },
      "source": [
        "15. What is the difference between shallow copy and deep copy in Python?\n",
        "\n",
        "Answer: A copy means you create another version of a list or object so you can use or change it without affecting the original.\n",
        "\n",
        "But there are two types of copy in Python:\n",
        "\n",
        "1. Shallow Copy (👕 Copy only the outer shirt)\n",
        "It copies only the outer object, but not the inner objects.\n",
        "\n",
        "If the object contains nested data (like a list inside a list), the inner parts are still shared between both."
      ]
    },
    {
      "cell_type": "code",
      "execution_count": null,
      "id": "0614e2bf",
      "metadata": {
        "id": "0614e2bf",
        "outputId": "16b5561d-050e-4d87-a85f-00a4a948806d"
      },
      "outputs": [
        {
          "name": "stdout",
          "output_type": "stream",
          "text": [
            "Original: [[99, 2], [3, 4]]\n",
            "Shallow: [[99, 2], [3, 4]]\n"
          ]
        }
      ],
      "source": [
        "import copy\n",
        "\n",
        "original = [[1, 2], [3, 4]]\n",
        "shallow = copy.copy(original)\n",
        "\n",
        "shallow[0][0] = 99\n",
        "\n",
        "print(\"Original:\", original)\n",
        "print(\"Shallow:\", shallow)"
      ]
    },
    {
      "cell_type": "markdown",
      "id": "8a7d7bb4",
      "metadata": {
        "id": "8a7d7bb4"
      },
      "source": [
        "2. Deep Copy (🧥 Copy entire outfit: outer + inner)\n",
        "It copies everything — both the outer object and all the inner objects.\n",
        "\n",
        "Changes in the copied object do not affect the original."
      ]
    },
    {
      "cell_type": "code",
      "execution_count": null,
      "id": "61a6ba96",
      "metadata": {
        "id": "61a6ba96",
        "outputId": "3e1a5005-8b21-466e-d23e-ad4df176f7a0"
      },
      "outputs": [
        {
          "name": "stdout",
          "output_type": "stream",
          "text": [
            "Original: [[1, 2], [3, 4]]\n",
            "Deep: [[99, 2], [3, 4]]\n"
          ]
        }
      ],
      "source": [
        "import copy\n",
        "\n",
        "original = [[1, 2], [3, 4]]\n",
        "deep = copy.deepcopy(original)\n",
        "\n",
        "deep[0][0] = 99\n",
        "\n",
        "print(\"Original:\", original)\n",
        "print(\"Deep:\", deep)"
      ]
    },
    {
      "cell_type": "code",
      "execution_count": null,
      "id": "50df2b8e",
      "metadata": {
        "id": "50df2b8e"
      },
      "outputs": [],
      "source": []
    }
  ],
  "metadata": {
    "kernelspec": {
      "display_name": "Python 3",
      "language": "python",
      "name": "python3"
    },
    "language_info": {
      "codemirror_mode": {
        "name": "ipython",
        "version": 3
      },
      "file_extension": ".py",
      "mimetype": "text/x-python",
      "name": "python",
      "nbconvert_exporter": "python",
      "pygments_lexer": "ipython3",
      "version": "3.11.9"
    },
    "colab": {
      "provenance": [],
      "include_colab_link": true
    }
  },
  "nbformat": 4,
  "nbformat_minor": 5
}