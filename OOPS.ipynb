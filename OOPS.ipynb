{
  "cells": [
    {
      "cell_type": "markdown",
      "metadata": {
        "id": "view-in-github",
        "colab_type": "text"
      },
      "source": [
        "<a href=\"https://colab.research.google.com/github/Vinit5298/Python/blob/main/OOPS.ipynb\" target=\"_parent\"><img src=\"https://colab.research.google.com/assets/colab-badge.svg\" alt=\"Open In Colab\"/></a>"
      ]
    },
    {
      "cell_type": "markdown",
      "id": "e282bf39",
      "metadata": {
        "id": "e282bf39"
      },
      "source": [
        "# OOPS:\n",
        "\n",
        "Main Pillar:\n",
        "1. Class\n",
        "2. Object\n",
        "3. Inheritance\n",
        "4. Encapsulation\n",
        "5. Polymorphism\n",
        "6. Abstraction"
      ]
    },
    {
      "cell_type": "markdown",
      "id": "2eb1ca23",
      "metadata": {
        "id": "2eb1ca23"
      },
      "source": [
        "# Class:\n",
        "Class in Python is like a blueprint which we want to implement or we can say an idea to built an object.\n",
        "\n",
        "1. Data/Attributes/Properties:\n",
        "Like Example: Car-name, Engine Type, Wheels, Car Colour and etc.\n",
        "\n",
        "2. Behaviour/Functions/Methods:\n",
        "Like Example: Calculate Mileage,\n",
        "Calculate Average Speed,\n",
        "Show GPS Navigation,\n",
        "Open AirBags,"
      ]
    },
    {
      "cell_type": "markdown",
      "id": "0a60915f",
      "metadata": {
        "id": "0a60915f"
      },
      "source": [
        "Syntax:\n",
        "\n",
        "class *<classname>*:\n",
        "\n",
        "    --Logic--\n",
        "    --Logic--"
      ]
    },
    {
      "cell_type": "code",
      "execution_count": null,
      "id": "6925fa01",
      "metadata": {
        "id": "6925fa01"
      },
      "outputs": [],
      "source": [
        "# 1. Pascal case:\n",
        "class ThisIsPascalCase:\n",
        "    pass"
      ]
    },
    {
      "cell_type": "code",
      "execution_count": null,
      "id": "4f7d438c",
      "metadata": {
        "id": "4f7d438c"
      },
      "outputs": [],
      "source": [
        "# 2. Camel Case:\n",
        "class thisIsCamelCase:\n",
        "    pass"
      ]
    },
    {
      "cell_type": "code",
      "execution_count": null,
      "id": "9bd9f2f6",
      "metadata": {
        "id": "9bd9f2f6"
      },
      "outputs": [],
      "source": [
        "# 3. Snake Case:\n",
        "class This_Is_Snake_Case:\n",
        "    pass"
      ]
    },
    {
      "cell_type": "markdown",
      "id": "0e9e8792",
      "metadata": {
        "id": "0e9e8792"
      },
      "source": [
        "# Object:\n",
        "\n",
        "Object is an instance of the class, Everything in this world are treated as object, also in Python Everything is an object."
      ]
    },
    {
      "cell_type": "markdown",
      "id": "1573b497",
      "metadata": {
        "id": "1573b497"
      },
      "source": [
        "Syntax to create an object:"
      ]
    },
    {
      "cell_type": "code",
      "execution_count": null,
      "id": "e84f5b77",
      "metadata": {
        "id": "e84f5b77"
      },
      "outputs": [],
      "source": [
        "class car:\n",
        "    pass\n",
        "wagonR = car()\n",
        "\n",
        "class sport:\n",
        "    pass\n",
        "cricket = sport()\n",
        "\n",
        "class Animal:\n",
        "    pass\n",
        "lion = Animal()"
      ]
    },
    {
      "cell_type": "markdown",
      "id": "d0d8f5d2",
      "metadata": {
        "id": "d0d8f5d2"
      },
      "source": [
        "# Creating a Class as ATM Machine:\n",
        "\n",
        "# Functions vs Methods:\n",
        "\n",
        "Functions: A function in python is block of code that performs a specific task (or only runs when it is called).\n",
        "\n",
        "Method: Methods are the Functions which are written inside a class."
      ]
    },
    {
      "cell_type": "code",
      "execution_count": null,
      "id": "7e952c45",
      "metadata": {
        "id": "7e952c45"
      },
      "outputs": [],
      "source": [
        "class ATM:\n",
        "    pass\n",
        "checkbalance = ATM()"
      ]
    },
    {
      "cell_type": "markdown",
      "id": "bd96fbc9",
      "metadata": {
        "id": "bd96fbc9"
      },
      "source": [
        "# Constructor:\n",
        "\n",
        "Constructor is a special function in which the codes which are written inside the constructor will be automatically executes, whenever we create an object of that class.\n",
        "\n",
        "The Constructor is denoted by __init__().\n",
        "\n",
        "What is __init__(Constructor)?\n",
        "\n",
        "It is a special method which are automatically triggered.\n",
        "\n",
        "Magic Method/Special Method/Dunder Method:"
      ]
    },
    {
      "cell_type": "code",
      "execution_count": null,
      "id": "53fb3fc7",
      "metadata": {
        "id": "53fb3fc7"
      },
      "outputs": [],
      "source": [
        "class car:\n",
        "    def __init__(self,carname,brand,color):\n",
        "        self.carname = carname\n",
        "        self.brand = brand\n",
        "        self.color = color\n",
        "\n",
        "car1 = car(\"Indigo\",\"TATA\",\"White\")\n",
        "car2 = car(\"Vogue\",\"RangeRover\",\"Black\")"
      ]
    },
    {
      "cell_type": "code",
      "execution_count": null,
      "id": "bc09fe29",
      "metadata": {
        "id": "bc09fe29",
        "outputId": "19bcfee9-2f6e-4699-ccff-92644d4fee8c"
      },
      "outputs": [
        {
          "name": "stdout",
          "output_type": "stream",
          "text": [
            "White\n",
            "Black\n"
          ]
        }
      ],
      "source": [
        "print(car1.color)\n",
        "print(car2.color)"
      ]
    },
    {
      "cell_type": "markdown",
      "id": "d2fad0aa",
      "metadata": {
        "id": "d2fad0aa"
      },
      "source": [
        "What is self in Python?\n",
        "\n",
        "Answer: In Python, self is a that object which is we used in the class to execute.\n",
        "\n",
        "self <--> object\n",
        "\n",
        "student(class) <--> s1 are same as self."
      ]
    },
    {
      "cell_type": "code",
      "execution_count": null,
      "id": "12fb4399",
      "metadata": {
        "id": "12fb4399",
        "outputId": "8303449a-9bb0-4d4c-febf-67f0e6c1f6fe"
      },
      "outputs": [
        {
          "name": "stdout",
          "output_type": "stream",
          "text": [
            "2290992135888\n",
            "My name Vinit and age is 27.\n",
            "2290992135888\n"
          ]
        }
      ],
      "source": [
        "class student:\n",
        "    def __init__(self,name,age):\n",
        "        self.name = name\n",
        "        self.age = age\n",
        "        print(id(self)) # Memory Address of self: 2448705577552\n",
        "\n",
        "    def greet(self):\n",
        "        print(f\"My name {self.name} and age is {self.age}.\")\n",
        "\n",
        "s1 = student(\"Vinit\",27)\n",
        "s1.greet()\n",
        "print(id(s1)) # Memory address of s1: 2448705577552"
      ]
    },
    {
      "cell_type": "markdown",
      "id": "ab384593",
      "metadata": {
        "id": "ab384593"
      },
      "source": [
        "In OOP, only the object can access the class’s data and methods.\n",
        "\n",
        "Inside the class, self is used to refer to the current object.\n",
        "\n",
        "self helps one method access other methods or variables of the same object.\n",
        "\n",
        "self and the object (like s1) point to the same memory location."
      ]
    },
    {
      "cell_type": "code",
      "execution_count": null,
      "id": "94d88b56",
      "metadata": {
        "id": "94d88b56",
        "outputId": "9259bc1e-1c2d-4055-af76-6c56b970dc92"
      },
      "outputs": [
        {
          "name": "stdout",
          "output_type": "stream",
          "text": [
            "500\n",
            "150.0\n"
          ]
        }
      ],
      "source": [
        "class Book:\n",
        "    def __init__(self,title,author,price):\n",
        "        self.title = title\n",
        "        self.author = author\n",
        "        self.price = price\n",
        "    def get_discounted_price(self,discount_percent):\n",
        "        discount = self.price * (discount_percent/100)\n",
        "        return self.price - discount\n",
        "\n",
        "b1 = Book(\"Chaava\",\"Shivaji Sawant\",500)\n",
        "x = b1.get_discounted_price(70)\n",
        "print(f\"{b1.price}\")\n",
        "print(f\"{x}\")"
      ]
    },
    {
      "cell_type": "markdown",
      "id": "337d5996",
      "metadata": {
        "id": "337d5996"
      },
      "source": [
        "# Making our own data type: (Fraction)"
      ]
    },
    {
      "cell_type": "code",
      "execution_count": null,
      "id": "27e8d113",
      "metadata": {
        "id": "27e8d113",
        "outputId": "ad63bafc-10ae-4996-b125-14e6d2f72419"
      },
      "outputs": [
        {
          "name": "stdout",
          "output_type": "stream",
          "text": [
            "7/9\n",
            "5/8\n",
            "101/72\n",
            "11/72\n",
            "35/72\n",
            "56/45\n"
          ]
        }
      ],
      "source": [
        "class Fraction:\n",
        "    def __init__(self,num,den):\n",
        "        self.num = num\n",
        "        self.den = den\n",
        "    # Use of __str__ magic method:\n",
        "    def __str__(self):\n",
        "        return \"{}/{}\".format(self.num,self.den)\n",
        "    # Use of __add__ :\n",
        "    def __add__(self,other):\n",
        "        temp_num = self.num * other.den + other.num * self.den\n",
        "        temp_den = self.den * other.den\n",
        "        return \"{}/{}\".format(temp_num,temp_den)\n",
        "    # Use of __sub__ :\n",
        "    def __sub__(self,other):\n",
        "        temp_num = self.num * other.den - other.num * self.den\n",
        "        temp_den = self.den * other.den\n",
        "        return \"{}/{}\".format(temp_num,temp_den)\n",
        "    # Use of __mul__:\n",
        "    def __mul__(self,other):\n",
        "        temp_num = self.num * other.num\n",
        "        temp_den = self.den * other.den\n",
        "        return \"{}/{}\".format(temp_num,temp_den)\n",
        "    # Use of __truediv__:\n",
        "    def __truediv__(self,other):\n",
        "        temp_num = self.num * other.den\n",
        "        temp_den = self.den * other.num\n",
        "        return \"{}/{}\".format(temp_num,temp_den)\n",
        "x = Fraction(7,9)\n",
        "print(x)\n",
        "y = Fraction(5,8)\n",
        "print(y)\n",
        "print(x+y) # Via Fraction add two values\n",
        "print(x-y) # Via Fraction sub two values\n",
        "print(x*y) # Via Fraction Mul two values\n",
        "print(x/y) # Via Fraction div two values"
      ]
    },
    {
      "cell_type": "markdown",
      "id": "61e0dc70",
      "metadata": {
        "id": "61e0dc70"
      },
      "source": [
        "# Instance Variable:\n",
        "\n",
        "Instance Variables are those variables for which the value of the variable is different for different objects."
      ]
    },
    {
      "cell_type": "code",
      "execution_count": null,
      "id": "5096676d",
      "metadata": {
        "id": "5096676d",
        "outputId": "2e3cb1e9-24b2-4f08-e2c0-2abd494e835e"
      },
      "outputs": [
        {
          "data": {
            "text/plain": [
              "'Phantom'"
            ]
          },
          "execution_count": 17,
          "metadata": {},
          "output_type": "execute_result"
        }
      ],
      "source": [
        "class Car:\n",
        "    def __init__(self,name,color,brand):\n",
        "        self.name = name # This are instance Variable\n",
        "        self.color = color # This are instance Variable\n",
        "        self.brand = brand # This are instance Variable\n",
        "\n",
        "# Variables whose values are different for each objects.\n",
        "car1 = Car(\"Indigo\",\"White\",\"TATA\")\n",
        "car1.color\n",
        "car2 = Car(\"Vogue\",\"Black\",\"RangeRover\")\n",
        "car2.brand\n",
        "car3 = Car(\"Phantom\",\"Black_Pearl\",\"RollsRoyce\")\n",
        "car3.name\n",
        "# For each object the values of variables are different."
      ]
    },
    {
      "cell_type": "markdown",
      "id": "031be13c",
      "metadata": {
        "id": "031be13c"
      },
      "source": [
        "# Encapsulation:"
      ]
    },
    {
      "cell_type": "code",
      "execution_count": null,
      "id": "337caa74",
      "metadata": {
        "id": "337caa74",
        "outputId": "719fe1ea-94ec-48ea-aebb-0db265c7e1fe"
      },
      "outputs": [
        {
          "name": "stdout",
          "output_type": "stream",
          "text": [
            "my name is Vinit and I am 27 years old.\n",
            "my name is Sunil and I am 27 years old.\n"
          ]
        }
      ],
      "source": [
        "# Look in this class we have access all the details of student,\n",
        "class student:\n",
        "    def __init__(self,name,age):\n",
        "        self.name = name\n",
        "        self.age = age\n",
        "    def details(self):\n",
        "        print(f\"my name is {self.name} and I am {self.age} years old.\")\n",
        "s1 = student(\"Vinit\",27)\n",
        "s1.details()\n",
        "s2 = student(\"Sunil\",27)\n",
        "s2.details()"
      ]
    },
    {
      "cell_type": "markdown",
      "id": "8a5f534b",
      "metadata": {
        "id": "8a5f534b"
      },
      "source": [
        "Encapsulation in Python is one of the fundamental concepts in Object-Oriented Programming (OOP). It means hiding the internal details of an object and only exposing what is necessary. It protects data from being directly accessed or modified from outside the class."
      ]
    },
    {
      "cell_type": "code",
      "execution_count": null,
      "id": "50906aac",
      "metadata": {
        "id": "50906aac",
        "outputId": "b9e96ff9-2e3d-4abd-f59e-cd080f3e845c"
      },
      "outputs": [
        {
          "name": "stdout",
          "output_type": "stream",
          "text": [
            "my name is Sunil and I am 27 years old.\n"
          ]
        }
      ],
      "source": [
        "# Here all the instance variables are private\n",
        "class student:\n",
        "    def __init__(self,name,age):\n",
        "        self.__name = name\n",
        "        self.__age = age\n",
        "    def __details(self):\n",
        "        print(f\"my name is {self.__name} and I am {self.__age} years old.\")\n",
        "# s1 = student(\"Vinit\",27)\n",
        "# s1.name # Its gave error due to self.name is private variable.\n",
        "s2 = student(\"Sunil\",27)\n",
        "s2._student__age # If want to access this _<classname>__<instance_variable> which we want.\n",
        "s2._student__details() # Gave us output"
      ]
    },
    {
      "cell_type": "markdown",
      "id": "40a69fc4",
      "metadata": {
        "id": "40a69fc4"
      },
      "source": [
        "# Getter and Setter:"
      ]
    },
    {
      "cell_type": "code",
      "execution_count": null,
      "id": "f4a03827",
      "metadata": {
        "id": "f4a03827",
        "outputId": "fccded36-b87e-4d39-a660-d26807aae382"
      },
      "outputs": [
        {
          "name": "stdout",
          "output_type": "stream",
          "text": [
            "Vinit\n",
            "27\n",
            "25\n",
            "Age must be positive\n",
            "25\n"
          ]
        }
      ],
      "source": [
        "class student:\n",
        "    def __init__(self, name, age):\n",
        "        self.__name = name\n",
        "        self.__age = age\n",
        "\n",
        "    def get_name(self):\n",
        "        return self.__name  # getter\n",
        "\n",
        "    def set_name(self, name):\n",
        "        self.__name = name  # setter\n",
        "\n",
        "    def get_age(self):\n",
        "        return self.__age\n",
        "\n",
        "    def set_age(self, age):  # ✅ Add 'age' parameter here\n",
        "        if age > 0:\n",
        "            self.__age = age\n",
        "        else:\n",
        "            print(\"Age must be positive\")\n",
        "\n",
        "# Create object\n",
        "s1 = student(\"Vinit\", 27)\n",
        "# Access and print\n",
        "print(s1.get_name())  # Output: Vinit\n",
        "print(s1.get_age())   # Output: 27\n",
        "# Set new age\n",
        "s1.set_age(25)\n",
        "print(s1.get_age())   # Output: 25\n",
        "\n",
        "s1.set_age(-5)\n",
        "print(s1.get_age()) # Output: 'Age must be Positive'"
      ]
    },
    {
      "cell_type": "markdown",
      "id": "1c314182",
      "metadata": {
        "id": "1c314182"
      },
      "source": [
        "# Class Diagram:\n",
        "\n",
        "+------------------+\n",
        "|     student      |\n",
        "+------------------+\n",
        "\n",
        "| - __name: str    |\n",
        "| - __age: int     |\n",
        "+------------------+\n",
        "\n",
        "| + __init__(name, age) |\n",
        "| + get_name(): str     |\n",
        "| + set_name(name): None|\n",
        "| + get_age(): int      |\n",
        "| + set_age(age): None  |\n",
        "+------------------+\n",
        "\n",
        "Class name: student\n",
        "- means private attribute (__name, __age)\n",
        "+ means public method\n",
        "str, int, and None are return types"
      ]
    },
    {
      "cell_type": "markdown",
      "id": "8f1f76f5",
      "metadata": {
        "id": "8f1f76f5"
      },
      "source": [
        "# Reference Variable:"
      ]
    },
    {
      "cell_type": "markdown",
      "id": "40ca57b9",
      "metadata": {
        "id": "40ca57b9"
      },
      "source": [
        "A reference variable in Python refers to the memory address of an object, a variable that points to (or refers to) an object stored in memory."
      ]
    },
    {
      "cell_type": "code",
      "execution_count": null,
      "id": "d7f9034a",
      "metadata": {
        "id": "d7f9034a",
        "outputId": "801231e0-316b-423c-ba71-b88d4c03515c"
      },
      "outputs": [
        {
          "name": "stdout",
          "output_type": "stream",
          "text": [
            "2290942219360\n"
          ]
        },
        {
          "data": {
            "text/plain": [
              "27"
            ]
          },
          "execution_count": 21,
          "metadata": {},
          "output_type": "execute_result"
        }
      ],
      "source": [
        "class student:\n",
        "    def __init__(self,name,age):\n",
        "        self.name = name\n",
        "        self.age = age\n",
        "\n",
        "student(\"Vinit\",27) # with this we can't use that object, due  to not\n",
        "# stored in any variable hence that object will be lost in system memory.\n",
        "print(id(student))\n",
        "s1 = student(\"Sunil\",27) # This is correct way to stored object with reference.\n",
        "s1.name\n",
        "s1.age\n",
        "# With reference to \"s1\" we can access and get the object."
      ]
    },
    {
      "cell_type": "markdown",
      "id": "ac7c096e",
      "metadata": {
        "id": "ac7c096e"
      },
      "source": [
        "# Pass by reference:\n",
        "\n",
        "What it means in OOP:\n",
        "When you pass an object (an instance of a class) to a function:\n",
        "\n",
        "You're passing the reference (memory address) to the object, not a copy.\n",
        "\n",
        "So if you modify the object's attributes inside the function, the changes will reflect outside the function too.\n",
        "\n",
        "But if you reassign the object inside the function, the original reference remains unchanged outside."
      ]
    },
    {
      "cell_type": "code",
      "execution_count": null,
      "id": "a3b22506",
      "metadata": {
        "id": "a3b22506",
        "outputId": "8107e478-935e-4687-967f-4a90960b3420"
      },
      "outputs": [
        {
          "name": "stdout",
          "output_type": "stream",
          "text": [
            "2290986649040\n",
            "2290986649040\n",
            "Priyanshi\n",
            "2290986649040\n",
            "Priyanshi\n"
          ]
        }
      ],
      "source": [
        "class customer:\n",
        "    def __init__(self,name):\n",
        "        self.name = name\n",
        "\n",
        "def greet(customer):\n",
        "    print(id(customer)) # Before changed\n",
        "    customer.name = \"Priyanshi\"\n",
        "    print(customer.name)\n",
        "    print(id(customer)) # After changed\n",
        "\n",
        "cust = customer(\"Vinit\")\n",
        "print(id(cust)) # Id of reference Variable\n",
        "\n",
        "greet(cust)\n",
        "print(cust.name)\n",
        "\n",
        "# class's object are also act as mutables\n",
        "# just like list, dictionary, set."
      ]
    },
    {
      "cell_type": "markdown",
      "id": "6c2c49b5",
      "metadata": {
        "id": "6c2c49b5"
      },
      "source": [
        "+-------------------+             +--------------------------+\n",
        "|   Variable Name   |             |        Memory (Heap)     |\n",
        "+-------------------+             +--------------------------+\n",
        "| cust              | <---------> |  Object of customer      |\n",
        "|(Reference Variable)|            |  name: \"Vinit\"           |\n",
        "+-------------------+             +--------------------------+\n",
        "\n",
        "                                ^\n",
        "                                |\n",
        "                          Function greet()\n",
        "                      Receives reference to same object"
      ]
    },
    {
      "cell_type": "code",
      "execution_count": null,
      "id": "018ddde1",
      "metadata": {
        "id": "018ddde1",
        "outputId": "671fabce-550e-4647-cf62-52b7b5c5bdc2"
      },
      "outputs": [
        {
          "name": "stdout",
          "output_type": "stream",
          "text": [
            "140706781885288\n",
            "140706781885288\n"
          ]
        }
      ],
      "source": [
        "# In above code this happens:\n",
        "a = 3\n",
        "b = a\n",
        "print(id(a))\n",
        "print(id(b))"
      ]
    },
    {
      "cell_type": "code",
      "execution_count": null,
      "id": "ac3b10ba",
      "metadata": {
        "id": "ac3b10ba",
        "outputId": "956ef889-2e09-4bc5-b504-d8bc38c77e06"
      },
      "outputs": [
        {
          "name": "stdout",
          "output_type": "stream",
          "text": [
            "Ref Var id: 2290992119760\n",
            "ID 2290992119760\n",
            "ID2 2290992119760\n"
          ]
        }
      ],
      "source": [
        "# Example Do it my self:\n",
        "class car:\n",
        "    def __init__(self,name,brand):\n",
        "        self.name = name\n",
        "        self.brand = brand\n",
        "\n",
        "def Evehicle(customer):\n",
        "    print(\"ID\",id(customer)) # Before changed\n",
        "    customer.name = \"Vogue\"\n",
        "    print(\"ID2\",id(customer)) # After changed\n",
        "car1 = car(\"Indigo\",\"Tata\")\n",
        "print(\"Ref Var id:\",id(car1))\n",
        "\n",
        "Evehicle(car1)"
      ]
    },
    {
      "cell_type": "markdown",
      "id": "617058e3",
      "metadata": {
        "id": "617058e3"
      },
      "source": [
        "# Collection of Object:\n",
        "In Python, a collection of objects means storing multiple objects (instances of a class) inside a data structure like:\n",
        "\n",
        "List []\n",
        "\n",
        "Dictionary {}\n",
        "\n",
        "Set {}\n",
        "(Most commonly, lists are used)"
      ]
    },
    {
      "cell_type": "code",
      "execution_count": null,
      "id": "53add163",
      "metadata": {
        "id": "53add163",
        "outputId": "353b6551-461d-406b-cc6f-2e8b6d24a132"
      },
      "outputs": [
        {
          "name": "stdout",
          "output_type": "stream",
          "text": [
            "I am Vinit and I am 27 years old.\n",
            "I am Sunil and I am 27 years old.\n",
            "I am Priyanshi and I am 26 years old.\n"
          ]
        }
      ],
      "source": [
        "class Customer:\n",
        "    def __init__(self,name,age):\n",
        "        self.name = name\n",
        "        self.age = age\n",
        "\n",
        "    def intro(self):\n",
        "        print(\"I am\",self.name,\"and I am\",self.age,\"years old.\")\n",
        "\n",
        "c1 = Customer(\"Vinit\",27)\n",
        "c2 = Customer(\"Sunil\",27)\n",
        "c3 = Customer(\"Priyanshi\",26)\n",
        "\n",
        "list = [c1,c2,c3]\n",
        "for index in list:\n",
        "    index.intro()"
      ]
    },
    {
      "cell_type": "markdown",
      "id": "d1e9f720",
      "metadata": {
        "id": "d1e9f720"
      },
      "source": [
        "# Static Variables or class Variable:\n",
        "\n",
        "static variable is a variable that: Belongs to the class, not to individual objects\n",
        "\n",
        "Is shared by all objects of the class\n",
        "\n",
        "Is defined outside all methods, but inside the class"
      ]
    },
    {
      "cell_type": "code",
      "execution_count": null,
      "id": "d9102112",
      "metadata": {
        "id": "d9102112",
        "outputId": "2ec73de4-39e3-4745-ab12-59313555acf4"
      },
      "outputs": [
        {
          "name": "stdout",
          "output_type": "stream",
          "text": [
            "XYZ School\n",
            "XYZ School\n"
          ]
        }
      ],
      "source": [
        "class Student:\n",
        "    school_name = \"ABC School\" # Static or Class Variable\n",
        "\n",
        "    def __init__(self,name):\n",
        "        self.name = name # Instance Variable\n",
        "\n",
        "student1 = Student(\"Vinit\")\n",
        "student2 = Student(\"Sunil\")\n",
        "\n",
        "Student.school_name = \"XYZ School\"\n",
        "\n",
        "print(student1.school_name)\n",
        "print(student2.school_name)"
      ]
    },
    {
      "cell_type": "code",
      "execution_count": null,
      "id": "5aa750ca",
      "metadata": {
        "id": "5aa750ca",
        "outputId": "1b667fde-4823-498f-efee-b28e0c5ac6e9"
      },
      "outputs": [
        {
          "name": "stdout",
          "output_type": "stream",
          "text": [
            "Electic Cars\n",
            "Electic Cars\n",
            "Electic Cars\n"
          ]
        },
        {
          "data": {
            "text/plain": [
              "'Electic Cars'"
            ]
          },
          "execution_count": 27,
          "metadata": {},
          "output_type": "execute_result"
        }
      ],
      "source": [
        "class Car:\n",
        "    Car_type = \"Fuel Cars\"\n",
        "\n",
        "    def __init__(self,name,brand):\n",
        "        self.name = name\n",
        "        self.brand = brand\n",
        "Car.Car_type = \"Electic Cars\"\n",
        "c1 = Car(\"Indigo\",\"TATA\")\n",
        "c2 = Car(\"Vogue\",\"RangeRover\")\n",
        "c3 = Car(\"GWagon\",\"Mercedes\")\n",
        "print(c1.Car_type)\n",
        "print(c2.Car_type)\n",
        "print(c3.Car_type)\n",
        "Car.Car_type"
      ]
    },
    {
      "cell_type": "markdown",
      "id": "a399291c",
      "metadata": {
        "id": "a399291c"
      },
      "source": [
        "# Static Method:\n",
        "A static method in Python is a method that does not use self or cls. It belongs to the class, but doesn’t need access to the object or the class itself.\n",
        "\n",
        "We use the @staticmethod decorator to define it.\n",
        "\n",
        "When to Use a Static Method?\n",
        "\n",
        "1. When the method does not need to access or change object (self) or class (cls) data.\n",
        "2. When the method performs some general utility task."
      ]
    },
    {
      "cell_type": "code",
      "execution_count": null,
      "id": "6868773b",
      "metadata": {
        "id": "6868773b",
        "outputId": "489286fa-0385-4964-ff90-10130ca4582d"
      },
      "outputs": [
        {
          "name": "stdout",
          "output_type": "stream",
          "text": [
            "True\n",
            "False\n"
          ]
        }
      ],
      "source": [
        "class Student:\n",
        "    def __init__(self,name,marks):\n",
        "        self.name = name\n",
        "        self.marks = marks\n",
        "\n",
        "    @staticmethod\n",
        "    def is_passed(marks):\n",
        "        return marks >= 40\n",
        "\n",
        "s1 = Student(\"Vinit\",40)\n",
        "s2 = Student(\"Sunil\",35)\n",
        "\n",
        "print(Student.is_passed(s1.marks))\n",
        "print(Student.is_passed(s2.marks))\n"
      ]
    },
    {
      "cell_type": "code",
      "execution_count": null,
      "id": "936c94a2",
      "metadata": {
        "id": "936c94a2",
        "outputId": "07cbdb1f-98a0-4a9a-b38b-30721e4d5774"
      },
      "outputs": [
        {
          "name": "stdout",
          "output_type": "stream",
          "text": [
            "False\n",
            "True\n"
          ]
        }
      ],
      "source": [
        "class Bank:\n",
        "    @staticmethod\n",
        "    def is_bank_open(day):\n",
        "        open_days = [\"Monday\", \"Tuesday\", \"Wednesday\", \"Thursday\", \"Friday\"]\n",
        "        return day in open_days\n",
        "\n",
        "print(Bank.is_bank_open(\"Sunday\"))\n",
        "print(Bank.is_bank_open(\"Monday\"))"
      ]
    },
    {
      "cell_type": "markdown",
      "id": "8dd29e91",
      "metadata": {
        "id": "8dd29e91"
      },
      "source": [
        "# Relationship in classes:\n",
        "\n",
        "In Object-Oriented Programming (OOP), classes can relate to each other in several ways.\n",
        "\n",
        "1. Aggregation: (Has-A)\n",
        "Example of Aggregation: We have two class named as customer and Address so Customer has a address, or car has an Engine.\n",
        "\n",
        "2. Inheritance: (Is-A)\n",
        "Example of Inheritance: we have two class product and phone.\n",
        "phone is a product, or car is a Vehicle."
      ]
    },
    {
      "cell_type": "code",
      "execution_count": null,
      "id": "f45e1904",
      "metadata": {
        "id": "f45e1904",
        "outputId": "64adf1e0-ba92-4984-c603-9e2bb3cc86e0"
      },
      "outputs": [
        {
          "name": "stdout",
          "output_type": "stream",
          "text": [
            "MH\n"
          ]
        }
      ],
      "source": [
        "# Example of Aggregation in Python:\n",
        "# Here, the customer class will totally depends upon the address class\n",
        "# If related to address or changed address it will call the methods of Address class.\n",
        "# So, This is called as Aggregation in Python:\n",
        "class Customer:\n",
        "    def __init__(self,name,gender,address):\n",
        "        self.name = name\n",
        "        self.gender = gender\n",
        "        self.address = address\n",
        "\n",
        "    def edit_profile(self,new_name,new_city,new_pincode,new_state):\n",
        "        self.name = new_name\n",
        "        self.address.change_address(new_city,new_pincode,new_state)\n",
        "\n",
        "class Address:\n",
        "    def __init__(self,city,pincode,state):\n",
        "        self.city = city\n",
        "        self.pincode = pincode\n",
        "        self.state = state\n",
        "\n",
        "    def change_address(self,new_city,new_pincode,new_state):\n",
        "        self.city = new_city\n",
        "        self.pincode = new_pincode\n",
        "        self.state = new_state\n",
        "\n",
        "add = Address(\"Indore\",452006,\"MP\")\n",
        "cust = Customer(\"Vinit\",\"Male\",add)\n",
        "cust.edit_profile(\"Priyanshi\",\"Pune\",453330,\"MH\")\n",
        "print(cust.address.state)"
      ]
    },
    {
      "cell_type": "markdown",
      "id": "adfb9df7",
      "metadata": {
        "id": "adfb9df7"
      },
      "source": [
        "# Inheritance (विरासत):"
      ]
    },
    {
      "cell_type": "markdown",
      "id": "90133f32",
      "metadata": {
        "id": "90133f32"
      },
      "source": [
        "Inheritance is a feature in Object-Oriented Programming where one class (child) can inherit properties and methods from another class (parent).\n",
        "\n",
        "Inheritance lets you reuse code from one class into another.\n",
        "\n",
        "Parent class (Base class): The original class\n",
        "\n",
        "Child class (Derived class): The class that inherits from the parent\n",
        "\n",
        "Why use inheritance?\n",
        "\n",
        "1. To reuse existing code\n",
        "2. To follow DRY (Don't Repeat Yourself) principle\n",
        "3. To build a hierarchy of classes (like Animal → Dog)\n",
        "\n",
        "*__Private members are not inheritate,"
      ]
    },
    {
      "cell_type": "code",
      "execution_count": null,
      "id": "a702fb73",
      "metadata": {
        "id": "a702fb73",
        "outputId": "5fe799bb-5692-4be0-df95-a3ccfa18530e"
      },
      "outputs": [
        {
          "name": "stdout",
          "output_type": "stream",
          "text": [
            "Enroll\n",
            "login\n",
            "Register\n",
            "Review\n"
          ]
        }
      ],
      "source": [
        "# Student class inherit the User class:\n",
        "# Means Student(child class) wants help to User (parent class).\n",
        "class User:\n",
        "    def login(self):\n",
        "        print(\"login\")\n",
        "\n",
        "    def register(self):\n",
        "        print(\"Register\")\n",
        "\n",
        "class Student(User): # This indicates that the student is the subclass\n",
        "    # or child class of User (parent class).\n",
        "\n",
        "    def enroll(self):\n",
        "        print(\"Enroll\")\n",
        "    def review(self):\n",
        "        print(\"Review\")\n",
        "\n",
        "student1 = Student()\n",
        "student1.enroll()\n",
        "student1.login()\n",
        "student1.register()\n",
        "student1.review()"
      ]
    },
    {
      "cell_type": "markdown",
      "id": "497b58c6",
      "metadata": {
        "id": "497b58c6"
      },
      "source": [
        "through ref Var we call smartphone class But in smartphone there is no constructor their, hence it wants a help from parent class and through that constructor print (\"Inside Phone Constructor\")."
      ]
    },
    {
      "cell_type": "code",
      "execution_count": null,
      "id": "e7195e06",
      "metadata": {
        "id": "e7195e06",
        "outputId": "7e81ff11-b179-43bd-eb1c-69c245322a8c"
      },
      "outputs": [
        {
          "name": "stdout",
          "output_type": "stream",
          "text": [
            "Inside Phone Class Constructor\n"
          ]
        }
      ],
      "source": [
        "# Examples:\n",
        "class Phone:\n",
        "    def __init__(self,price,brand,camera):\n",
        "        print(\"Inside Phone Class Constructor\")\n",
        "        self.price = price\n",
        "        self.brand = brand\n",
        "        self.camera = camera\n",
        "\n",
        "class SmartPhone(Phone):\n",
        "    pass\n",
        "\n",
        "s = SmartPhone(50000,\"Apple\",16)"
      ]
    },
    {
      "cell_type": "code",
      "execution_count": null,
      "id": "cc0338bd",
      "metadata": {
        "id": "cc0338bd",
        "outputId": "2fed807a-4ec3-4bc4-e163-9bb72f303a52"
      },
      "outputs": [
        {
          "name": "stdout",
          "output_type": "stream",
          "text": [
            "Inside Phone Constructor\n",
            "50000\n",
            "Apple\n",
            "16\n"
          ]
        }
      ],
      "source": [
        "# Examples: We also call constructor through parent class and\n",
        "# with ref var we also access all methods.\n",
        "class Phone:\n",
        "    def __init__(self,price,brand,camera):\n",
        "        print(\"Inside Phone Constructor\")\n",
        "        self.price = price\n",
        "        self.brand = brand\n",
        "        self.camera = camera\n",
        "\n",
        "class SmartPhone(Phone):\n",
        "    pass\n",
        "\n",
        "s = SmartPhone(50000,\"Apple\",16)\n",
        "print(s.price)\n",
        "print(s.brand)\n",
        "print(s.camera)"
      ]
    },
    {
      "cell_type": "code",
      "execution_count": null,
      "id": "79bf25e2",
      "metadata": {
        "id": "79bf25e2",
        "outputId": "d811456f-2e69-40f6-f444-65d253575413"
      },
      "outputs": [
        {
          "name": "stdout",
          "output_type": "stream",
          "text": [
            "Inside Phone Class Constructor\n",
            "Buying a phone\n",
            "90000\n",
            "Apple\n"
          ]
        }
      ],
      "source": [
        "# Example 2: Inheriting Private Member:\n",
        "class Phone:\n",
        "    def __init__(self,price,brand,camera):\n",
        "        print(\"Inside Phone Class Constructor\")\n",
        "        self.__price = price\n",
        "        self.brand = brand\n",
        "        self.camera = camera\n",
        "    def buy_Phone(self):\n",
        "        print(\"Buying a phone\")\n",
        "    def Return_Phone(self):\n",
        "        print(\"Returning a Phone\")\n",
        "class SmartPhone(Phone):\n",
        "    pass\n",
        "s1 = SmartPhone(90000,\"Apple\",16)\n",
        "s1.buy_Phone() # --> Also call the relevant function through it.\n",
        "# print(s1.__price) --> This Gaves us Error\n",
        "print(s1._Phone__price)\n",
        "print(s1.brand) # --> This is Public Variable\n",
        "# price is private variable hence we have to access through class name."
      ]
    },
    {
      "cell_type": "markdown",
      "id": "7ba4e801",
      "metadata": {
        "id": "7ba4e801"
      },
      "source": [
        "# Types of Inheritance:\n",
        "\n",
        "1. Single-Level Inheritance: Only Single Parent and Child class are their, In which child class inherits the Parent class.\n",
        "\n",
        "Child Class --> Inherit --> Parent Class"
      ]
    },
    {
      "cell_type": "code",
      "execution_count": null,
      "id": "494455d0",
      "metadata": {
        "id": "494455d0"
      },
      "outputs": [],
      "source": [
        "class Parent:\n",
        "    pass\n",
        "\n",
        "class Child(Parent):\n",
        "    pass"
      ]
    },
    {
      "cell_type": "code",
      "execution_count": null,
      "id": "f1e4b7ff",
      "metadata": {
        "id": "f1e4b7ff",
        "outputId": "140714d1-bd7c-4a56-b527-fea8e67f792c"
      },
      "outputs": [
        {
          "name": "stdout",
          "output_type": "stream",
          "text": [
            "Inside Phone Constructor\n",
            "Buying a Phone\n"
          ]
        }
      ],
      "source": [
        "# Example of Single Level Inheritance:\n",
        "\n",
        "class Phone:\n",
        "    def __init__(self,name,brand,color):\n",
        "        print(\"Inside Phone Constructor\")\n",
        "        self.name = name\n",
        "        self.brand = brand\n",
        "        self.color = color\n",
        "\n",
        "    def buy(self):\n",
        "        print(\"Buying a Phone\")\n",
        "\n",
        "class SmartPhone(Phone):\n",
        "    pass\n",
        "\n",
        "s = SmartPhone(\"Iphone16\",\"Apple\",\"Black\").buy()"
      ]
    },
    {
      "cell_type": "markdown",
      "id": "5cb2c923",
      "metadata": {
        "id": "5cb2c923"
      },
      "source": [
        "2. Multi-Level Inheritance: (There are Three or more classes are their) In which Class3 is Inherit the Class2 and Class2 Inherit the Class 1.\n",
        "\n",
        "Class3 --> Inherit --> Class2 --> Inherit --> Class1\n",
        "Means class3 have access all the properties and method of class2 and class1 but class2 have only access the class 1 Attributes."
      ]
    },
    {
      "cell_type": "code",
      "execution_count": null,
      "id": "c8611350",
      "metadata": {
        "id": "c8611350"
      },
      "outputs": [],
      "source": [
        "class GrandFather:\n",
        "    pass\n",
        "class Father(GrandFather):\n",
        "    pass\n",
        "class Child(Father):\n",
        "    pass"
      ]
    },
    {
      "cell_type": "code",
      "execution_count": null,
      "id": "ee953279",
      "metadata": {
        "id": "ee953279",
        "outputId": "24a22b87-6833-4422-f606-228a36d144a7"
      },
      "outputs": [
        {
          "name": "stdout",
          "output_type": "stream",
          "text": [
            "Inside Phone Constructor\n",
            "Inside Phone Constructor\n",
            "Buying a Phone\n",
            "Product Customer Review\n",
            "Product Customer Review\n"
          ]
        }
      ],
      "source": [
        "# Example of Multi-Level Inheritance:\n",
        "\n",
        "class Product:\n",
        "    def review(self):\n",
        "        print(\"Product Customer Review\")\n",
        "\n",
        "class Phone(Product):\n",
        "    def __init__(self,price,brand,camera):\n",
        "        print(\"Inside Phone Constructor\")\n",
        "        self.__price = price\n",
        "        self.brand = brand\n",
        "        self.camera = camera\n",
        "\n",
        "    def buy(self):\n",
        "        print(\"Buying a Phone\")\n",
        "\n",
        "class SmartPhone(Phone):\n",
        "    pass\n",
        "\n",
        "s = SmartPhone(90000,\"Apple\",13)\n",
        "p = Phone(100000,\"Samsung\",64)\n",
        "s.buy()\n",
        "s.review()\n",
        "p.review()"
      ]
    },
    {
      "cell_type": "markdown",
      "id": "7a3c4fc3",
      "metadata": {
        "id": "7a3c4fc3"
      },
      "source": [
        "3. Hierarchical Inheritance: There is only one Parent Class but have multiple Child Classess."
      ]
    },
    {
      "cell_type": "code",
      "execution_count": null,
      "id": "fab6c872",
      "metadata": {
        "id": "fab6c872"
      },
      "outputs": [],
      "source": [
        "class Parent:\n",
        "    pass\n",
        "class Child(Parent):\n",
        "    pass\n",
        "class Child(Parent):\n",
        "    pass"
      ]
    },
    {
      "cell_type": "code",
      "execution_count": null,
      "id": "7bdae712",
      "metadata": {
        "id": "7bdae712",
        "outputId": "3329e8c4-340d-4154-aa02-ef8605604538"
      },
      "outputs": [
        {
          "name": "stdout",
          "output_type": "stream",
          "text": [
            "Inside Phone Constructor\n",
            "Buying a Phone\n"
          ]
        },
        {
          "data": {
            "text/plain": [
              "90000"
            ]
          },
          "execution_count": 10,
          "metadata": {},
          "output_type": "execute_result"
        }
      ],
      "source": [
        "# Example of Hierarchical Inheritance:\n",
        "\n",
        "class Phone(Product):\n",
        "    def __init__(self,price,brand,camera):\n",
        "        print(\"Inside Phone Constructor\")\n",
        "        self.__price = price\n",
        "        self.brand = brand\n",
        "        self.camera = camera\n",
        "\n",
        "    def buy(self):\n",
        "        print(\"Buying a Phone\")\n",
        "\n",
        "class SmartPhone(Phone):\n",
        "    pass\n",
        "class FeaturePhone(Phone):\n",
        "    pass\n",
        "\n",
        "s = SmartPhone(90000,\"Apple\",13)\n",
        "s.buy()\n",
        "s._Phone__price # Private Variable"
      ]
    },
    {
      "cell_type": "markdown",
      "id": "40ab050d",
      "metadata": {
        "id": "40ab050d"
      },
      "source": [
        "\n",
        "4. Multiple Inheritance: There are two Parent Class And only single Child class are their, which inherits both the parents class as per their requirement."
      ]
    },
    {
      "cell_type": "code",
      "execution_count": null,
      "id": "d9e65a4d",
      "metadata": {
        "id": "d9e65a4d"
      },
      "outputs": [],
      "source": [
        "class Father:\n",
        "    pass\n",
        "class Mother:\n",
        "    pass\n",
        "class Child(Father,Mother):\n",
        "    pass"
      ]
    },
    {
      "cell_type": "code",
      "execution_count": null,
      "id": "b99add4e",
      "metadata": {
        "id": "b99add4e",
        "outputId": "28fac1e9-ff71-45cc-d782-f81f548cf0b3"
      },
      "outputs": [
        {
          "name": "stdout",
          "output_type": "stream",
          "text": [
            "Inside Phone Constructor\n",
            "Buying a Phone\n",
            "Customer Review\n"
          ]
        }
      ],
      "source": [
        "# Example of Multiple Inheritance:\n",
        "\n",
        "class Phone: # --> Parent Class\n",
        "    def __init__(self,price,brand,camera):\n",
        "        print(\"Inside Phone Constructor\")\n",
        "        self.__price = price\n",
        "        self.brand = brand\n",
        "        self.camera = camera\n",
        "\n",
        "    def buy(self):\n",
        "        print(\"Buying a Phone\")\n",
        "\n",
        "class Product: # --> Parent Class\n",
        "    def review(self):\n",
        "        print(\"Customer Review\")\n",
        "\n",
        "class SmartPhone(Phone,Product): # --> Child Class\n",
        "    pass\n",
        "\n",
        "s = SmartPhone(90000,\"Apple\",13)\n",
        "s.buy()\n",
        "s.review()\n",
        "\n",
        "# Output: Inside Phone Constructor\n",
        "# ------> Buying a Phone\n",
        "# ------> Customer Review\n"
      ]
    },
    {
      "cell_type": "markdown",
      "id": "f0d5eca9",
      "metadata": {
        "id": "f0d5eca9"
      },
      "source": [
        "# Method Resolution Order:\n",
        "\n",
        "If two parent classes have the same method (e.g., buy()), and a child class inherits from both, the method from the first parent in the inheritance list (e.g., Product) is used. This is due to Python's Method Resolution Order (MRO)."
      ]
    },
    {
      "cell_type": "code",
      "execution_count": null,
      "id": "96b4dee5",
      "metadata": {
        "id": "96b4dee5",
        "outputId": "f18ec55d-83b4-44e7-ce54-53fafa2234e4"
      },
      "outputs": [
        {
          "name": "stdout",
          "output_type": "stream",
          "text": [
            "Inside Phone Constructor\n",
            "Product buy Method\n"
          ]
        }
      ],
      "source": [
        "# Example of MRO: Method Resolution Order:\n",
        "\n",
        "# While calling the methods buy if there are two buy(),\n",
        "# Then in the child class it prefers to print the first class buy(),\n",
        "# which is typed.\n",
        "\n",
        "class Phone: # --> Parent Class\n",
        "    def __init__(self,price,brand,camera):\n",
        "        print(\"Inside Phone Constructor\")\n",
        "        self.__price = price\n",
        "        self.brand = brand\n",
        "        self.camera = camera\n",
        "\n",
        "    def buy(self): # first buy()\n",
        "        print(\"Buying a Phone\")\n",
        "\n",
        "class Product: # --> Parent Class\n",
        "    def buy(self): # Second buy()\n",
        "        print(\"Product buy Method\")\n",
        "\n",
        "class SmartPhone(Product,Phone): # --> Child Class Like here\n",
        "    pass # Product is on first position and on 2nd Phone class,\n",
        "# Hence it will print the Product buy Method.\n",
        "s = SmartPhone(90000,\"Apple\",13)\n",
        "s.buy()"
      ]
    },
    {
      "cell_type": "markdown",
      "id": "0fe2851c",
      "metadata": {
        "id": "0fe2851c"
      },
      "source": [
        "5. Hybrid Inheritance: A combination of two or more types of inheritance."
      ]
    },
    {
      "cell_type": "code",
      "execution_count": null,
      "id": "92e46ae3",
      "metadata": {
        "id": "92e46ae3"
      },
      "outputs": [],
      "source": [
        "class A:\n",
        "    pass\n",
        "class B(A):\n",
        "    pass\n",
        "class C:\n",
        "    pass\n",
        "class D(B,C): # Hybrid of Multilevel and Multiple\n",
        "    pass"
      ]
    },
    {
      "cell_type": "code",
      "execution_count": null,
      "id": "404d5e2d",
      "metadata": {
        "id": "404d5e2d",
        "outputId": "e385c3f9-6c8c-4629-95ea-f4a64bfba0f2"
      },
      "outputs": [
        {
          "name": "stdout",
          "output_type": "stream",
          "text": [
            "70\n"
          ]
        }
      ],
      "source": [
        "class A:\n",
        "    def m1(self):\n",
        "        return 20\n",
        "class B(A):\n",
        "    def m1(self):\n",
        "        return 30\n",
        "    def m2(self):\n",
        "        return 40\n",
        "class C(B):\n",
        "    def m2(self):\n",
        "        return 20\n",
        "\n",
        "obj1 = A() # --> 20\n",
        "obj2 = B() # --> 30\n",
        "obj3 = C() # --> 40\n",
        "print(obj1.m1() + obj3.m1() + obj3.m2()) # --> 70\n",
        "# print (obj1.m1 = 20,\n",
        "#        obj3.m1 = 30,\n",
        "#        obj3.m2 = 20,) Obj3 have already m2 method.\n",
        "#        20+30+20 = 70"
      ]
    },
    {
      "cell_type": "code",
      "execution_count": null,
      "id": "df42172a",
      "metadata": {
        "id": "df42172a",
        "outputId": "567899c4-0ca9-4985-f814-e124cddcd081"
      },
      "outputs": [
        {
          "ename": "RecursionError",
          "evalue": "maximum recursion depth exceeded",
          "output_type": "error",
          "traceback": [
            "\u001b[31m---------------------------------------------------------------------------\u001b[39m",
            "\u001b[31mRecursionError\u001b[39m                            Traceback (most recent call last)",
            "\u001b[36mCell\u001b[39m\u001b[36m \u001b[39m\u001b[32mIn[17]\u001b[39m\u001b[32m, line 15\u001b[39m\n\u001b[32m     13\u001b[39m         \u001b[38;5;28;01mreturn\u001b[39;00m val\n\u001b[32m     14\u001b[39m obj = C()\n\u001b[32m---> \u001b[39m\u001b[32m15\u001b[39m \u001b[38;5;28mprint\u001b[39m(\u001b[43mobj\u001b[49m\u001b[43m.\u001b[49m\u001b[43mm1\u001b[49m\u001b[43m(\u001b[49m\u001b[43m)\u001b[49m)\n",
            "\u001b[36mCell\u001b[39m\u001b[36m \u001b[39m\u001b[32mIn[17]\u001b[39m\u001b[32m, line 12\u001b[39m, in \u001b[36mC.m1\u001b[39m\u001b[34m(self)\u001b[39m\n\u001b[32m     11\u001b[39m \u001b[38;5;28;01mdef\u001b[39;00m\u001b[38;5;250m \u001b[39m\u001b[34mm1\u001b[39m(\u001b[38;5;28mself\u001b[39m):\n\u001b[32m---> \u001b[39m\u001b[32m12\u001b[39m     val = \u001b[38;5;28;43mself\u001b[39;49m\u001b[43m.\u001b[49m\u001b[43mm1\u001b[49m\u001b[43m(\u001b[49m\u001b[43m)\u001b[49m + \u001b[32m20\u001b[39m\n\u001b[32m     13\u001b[39m     \u001b[38;5;28;01mreturn\u001b[39;00m val\n",
            "\u001b[36mCell\u001b[39m\u001b[36m \u001b[39m\u001b[32mIn[17]\u001b[39m\u001b[32m, line 12\u001b[39m, in \u001b[36mC.m1\u001b[39m\u001b[34m(self)\u001b[39m\n\u001b[32m     11\u001b[39m \u001b[38;5;28;01mdef\u001b[39;00m\u001b[38;5;250m \u001b[39m\u001b[34mm1\u001b[39m(\u001b[38;5;28mself\u001b[39m):\n\u001b[32m---> \u001b[39m\u001b[32m12\u001b[39m     val = \u001b[38;5;28;43mself\u001b[39;49m\u001b[43m.\u001b[49m\u001b[43mm1\u001b[49m\u001b[43m(\u001b[49m\u001b[43m)\u001b[49m + \u001b[32m20\u001b[39m\n\u001b[32m     13\u001b[39m     \u001b[38;5;28;01mreturn\u001b[39;00m val\n",
            "    \u001b[31m[... skipping similar frames: C.m1 at line 12 (2970 times)]\u001b[39m\n",
            "\u001b[36mCell\u001b[39m\u001b[36m \u001b[39m\u001b[32mIn[17]\u001b[39m\u001b[32m, line 12\u001b[39m, in \u001b[36mC.m1\u001b[39m\u001b[34m(self)\u001b[39m\n\u001b[32m     11\u001b[39m \u001b[38;5;28;01mdef\u001b[39;00m\u001b[38;5;250m \u001b[39m\u001b[34mm1\u001b[39m(\u001b[38;5;28mself\u001b[39m):\n\u001b[32m---> \u001b[39m\u001b[32m12\u001b[39m     val = \u001b[38;5;28;43mself\u001b[39;49m\u001b[43m.\u001b[49m\u001b[43mm1\u001b[49m\u001b[43m(\u001b[49m\u001b[43m)\u001b[49m + \u001b[32m20\u001b[39m\n\u001b[32m     13\u001b[39m     \u001b[38;5;28;01mreturn\u001b[39;00m val\n",
            "\u001b[31mRecursionError\u001b[39m: maximum recursion depth exceeded"
          ]
        }
      ],
      "source": [
        "# RecursionError: maximum recursion depth exceeded\n",
        "class A:\n",
        "    def m1(self):\n",
        "        return 20\n",
        "\n",
        "class B(A):\n",
        "    def m1(self):\n",
        "        val = super().m1() + 30\n",
        "        return val\n",
        "class C(B):\n",
        "    def m1(self):\n",
        "        val = self.m1() + 20\n",
        "        return val\n",
        "obj = C()\n",
        "print(obj.m1())"
      ]
    },
    {
      "cell_type": "markdown",
      "id": "82187fe2",
      "metadata": {
        "id": "82187fe2"
      },
      "source": [
        "# Polymorphism:"
      ]
    },
    {
      "cell_type": "markdown",
      "id": "7791cd82",
      "metadata": {
        "id": "7791cd82"
      },
      "source": [
        "Polymorphism is a concept in object-oriented programming that allows objects of different classes to be treated as if they are objects of the same class, especially when they share the same interface (i.e., method names).\n",
        "\n",
        "In simple words: Same method or operator behaves differently based on the object it is acting upon."
      ]
    },
    {
      "cell_type": "markdown",
      "id": "a744b4f8",
      "metadata": {
        "id": "a744b4f8"
      },
      "source": [
        "Real-Life Example of Polymorphism\n",
        "\n",
        "Imagine a \"remote control\" —\n",
        "It can operate a TV, a fan, or an AC depending on what it is connected to.\n",
        "The button names (like ON/OFF) are the same, but the behavior changes based on the device."
      ]
    },
    {
      "cell_type": "code",
      "execution_count": null,
      "id": "7057a02b",
      "metadata": {
        "id": "7057a02b",
        "outputId": "3503e34a-0c30-4909-ac0a-3bc80eb0d042"
      },
      "outputs": [
        {
          "name": "stdout",
          "output_type": "stream",
          "text": [
            "Buying a Phones\n"
          ]
        },
        {
          "data": {
            "text/plain": [
              "90000"
            ]
          },
          "execution_count": 23,
          "metadata": {},
          "output_type": "execute_result"
        }
      ],
      "source": [
        "class Phone:\n",
        "    def __init__(self,price,brand,camera):\n",
        "        print(\"Inside Phone Class Constructor\")\n",
        "        self.__price = price\n",
        "        self.brand = brand\n",
        "        self.camera = camera\n",
        "\n",
        "    def buy(self):\n",
        "        print(\"Buying a Phone\")\n",
        "\n",
        "class SmartPhone(Phone):\n",
        "\n",
        "    def buy(self):\n",
        "        print(\"Buying a Smartphone\")\n",
        "\n",
        "s1 = SmartPhone(90000,\"Apple\",16)\n",
        "s1.buy() # Output: Buying a Smartphone\n",
        "s1.brand # Output: Apple\n",
        "s1._Phone__price # Output: 90000"
      ]
    },
    {
      "cell_type": "markdown",
      "id": "d615e5dc",
      "metadata": {
        "id": "d615e5dc"
      },
      "source": [
        "# Method Overriding in Python:\n",
        "Method Overriding is a feature in inheritance where a child class provides a specific implementation of a method that is already defined in its parent class.\n",
        "\n",
        "The method in the child class must have the same name, parameters, and signature as in the parent class."
      ]
    },
    {
      "cell_type": "code",
      "execution_count": null,
      "id": "1b07d263",
      "metadata": {
        "id": "1b07d263",
        "outputId": "879fb26c-8280-413b-f731-f652186ec5c9"
      },
      "outputs": [
        {
          "name": "stdout",
          "output_type": "stream",
          "text": [
            "Inside Car Class Constructor\n",
            "Buying a Fuel Car\n",
            "Buying a Electic Car\n"
          ]
        }
      ],
      "source": [
        "class Vehicle:\n",
        "    print(\"Inside Car Class Constructor\")\n",
        "    def __init__(self,name,brand,price):\n",
        "        self.name = name\n",
        "        self.brand = brand\n",
        "        self.price = price\n",
        "    def buy(self):\n",
        "        print(\"Buying a Vehicle\")\n",
        "class FuelVehicle(Vehicle):\n",
        "    def buy(self):\n",
        "        print(\"Buying a Fuel Car\") # This will print\n",
        "\n",
        "class ElectricVehicle(Vehicle):\n",
        "    def buy(self):\n",
        "        print(\"Buying a Electic Car\") # This will print\n",
        "\n",
        "V1 = FuelVehicle(\"Indigo\",\"Tata\",536000)\n",
        "V2 = ElectricVehicle(\"Nexon\",\"Tata\",850000)\n",
        "\n",
        "V1.buy() # Buying a Fuel Car\n",
        "V2.buy() # Buying a Electric Car"
      ]
    },
    {
      "cell_type": "markdown",
      "id": "a949b7cb",
      "metadata": {
        "id": "a949b7cb"
      },
      "source": [
        "In the above Example FuelVechile class has no constructor so they will execute the buy function through parent Class and same with the ElectricVehicle class, So when call the function v1.buy and v2.buy then their printing statements were print."
      ]
    },
    {
      "cell_type": "code",
      "execution_count": null,
      "id": "a8813795",
      "metadata": {
        "id": "a8813795",
        "outputId": "99501d13-66d5-4c5b-9898-05fc0e1e2dba"
      },
      "outputs": [
        {
          "name": "stdout",
          "output_type": "stream",
          "text": [
            "100\n",
            "This is Child class\n"
          ]
        }
      ],
      "source": [
        "# Some Examples of This:\n",
        "class Parent:\n",
        "\n",
        "    def __init__(self,num):\n",
        "        self.__num = num\n",
        "\n",
        "    def get_num(self):\n",
        "        return self.__num\n",
        "\n",
        "class Child(Parent):\n",
        "    def show(self):\n",
        "        print(\"This is Child class\")\n",
        "\n",
        "son = Child(100)\n",
        "print(son.get_num()) # 100\n",
        "son.show() # This is Child class"
      ]
    },
    {
      "cell_type": "code",
      "execution_count": null,
      "id": "0d244368",
      "metadata": {
        "id": "0d244368",
        "outputId": "cce95618-daf7-4ee2-9fc9-66faa298af01"
      },
      "outputs": [
        {
          "ename": "AttributeError",
          "evalue": "'Child' object has no attribute '_Parent__num'",
          "output_type": "error",
          "traceback": [
            "\u001b[31m---------------------------------------------------------------------------\u001b[39m",
            "\u001b[31mAttributeError\u001b[39m                            Traceback (most recent call last)",
            "\u001b[36mCell\u001b[39m\u001b[36m \u001b[39m\u001b[32mIn[34]\u001b[39m\u001b[32m, line 21\u001b[39m\n\u001b[32m     18\u001b[39m         \u001b[38;5;28;01mreturn\u001b[39;00m \u001b[38;5;28mself\u001b[39m.__val\n\u001b[32m     20\u001b[39m son = Child(\u001b[32m100\u001b[39m,\u001b[32m10\u001b[39m)\n\u001b[32m---> \u001b[39m\u001b[32m21\u001b[39m \u001b[38;5;28mprint\u001b[39m(\u001b[33m\"\u001b[39m\u001b[33mParent: Num:\u001b[39m\u001b[33m\"\u001b[39m,\u001b[43mson\u001b[49m\u001b[43m.\u001b[49m\u001b[43mget_num\u001b[49m\u001b[43m(\u001b[49m\u001b[43m)\u001b[49m)\n\u001b[32m     22\u001b[39m \u001b[38;5;28mprint\u001b[39m(\u001b[33m\"\u001b[39m\u001b[33mChild: Val:\u001b[39m\u001b[33m\"\u001b[39m,son.get_val())\n",
            "\u001b[36mCell\u001b[39m\u001b[36m \u001b[39m\u001b[32mIn[34]\u001b[39m\u001b[32m, line 9\u001b[39m, in \u001b[36mParent.get_num\u001b[39m\u001b[34m(self)\u001b[39m\n\u001b[32m      8\u001b[39m \u001b[38;5;28;01mdef\u001b[39;00m\u001b[38;5;250m \u001b[39m\u001b[34mget_num\u001b[39m(\u001b[38;5;28mself\u001b[39m):                                         \u001b[38;5;66;03m#|\u001b[39;00m\n\u001b[32m----> \u001b[39m\u001b[32m9\u001b[39m     \u001b[38;5;28;01mreturn\u001b[39;00m \u001b[38;5;28;43mself\u001b[39;49m\u001b[43m.\u001b[49m\u001b[43m__num\u001b[49m\n",
            "\u001b[31mAttributeError\u001b[39m: 'Child' object has no attribute '_Parent__num'"
          ]
        }
      ],
      "source": [
        "# Example 2: If child class have their own constructor then it will\n",
        "# not automatically invokes the constructor of parent class.\n",
        "class Parent:\n",
        "\n",
        "    def __init__(self,num):\n",
        "        self.__num = num #<-------------------------------------|\n",
        "                                                               #|\n",
        "    def get_num(self):                                         #|\n",
        "        return self.__num                                      #|\n",
        "                                                               #|\n",
        "class Child(Parent):                                           #|\n",
        "                                                               #|\n",
        "    def __init__(self,val,num): # have their own constructor    |\n",
        "        self.__val = val # self.__val is there                  |\n",
        "        # but self.__num not ---------------------------------->|\n",
        "    # So child class invokes the self.num from parent class.\n",
        "    def get_val(self):\n",
        "        return self.__val\n",
        "# But while child class constructor will be their hence parent constructor will not call,\n",
        "# and due to that self.__num will also not be run.\n",
        "# hence gave us error.\n",
        "son = Child(100,10)\n",
        "print(\"Parent: Num:\",son.get_num())\n",
        "print(\"Child: Val:\",son.get_val())"
      ]
    },
    {
      "cell_type": "code",
      "execution_count": null,
      "id": "f2272e45",
      "metadata": {
        "id": "f2272e45",
        "outputId": "4953d559-dc3d-4785-d10b-9292099f9554"
      },
      "outputs": [
        {
          "name": "stdout",
          "output_type": "stream",
          "text": [
            "class A: 500\n"
          ]
        }
      ],
      "source": [
        "# Example 3:\n",
        "class A:\n",
        "    def __init__(self):\n",
        "        self.var1 = 500\n",
        "\n",
        "    def display1(self,var1):\n",
        "        print(\"class A:\",self.var1)\n",
        "\n",
        "class B(A):\n",
        "\n",
        "    def display2(self, var1):\n",
        "        print(\"Class B:\",self.var1)\n",
        "\n",
        "obj = B()\n",
        "obj.display1(200)"
      ]
    },
    {
      "cell_type": "markdown",
      "id": "bd39d3df",
      "metadata": {
        "id": "bd39d3df"
      },
      "source": [
        "# Super( ) Function:"
      ]
    },
    {
      "cell_type": "markdown",
      "id": "3a7e10d7",
      "metadata": {
        "id": "3a7e10d7"
      },
      "source": [
        "In Python, super() is a built-in function that is used inside a child class to call methods or constructors from its parent class.\n",
        "\n",
        "It allows access to methods of a superclass without directly naming it — especially useful in inheritance and method overriding."
      ]
    },
    {
      "cell_type": "code",
      "execution_count": null,
      "id": "aec4a10f",
      "metadata": {
        "id": "aec4a10f",
        "outputId": "7e2c33bd-d753-4237-fd04-860266bbcbe7"
      },
      "outputs": [
        {
          "name": "stdout",
          "output_type": "stream",
          "text": [
            "Inside Phone Constructor\n",
            "Buying a SmartPhone\n",
            "Buying a Phone\n"
          ]
        }
      ],
      "source": [
        "# Whenever use of super() it will helpus to invoke the parent class method.\n",
        "class Phone:\n",
        "\n",
        "    def __init__(self,price,brand,camera):\n",
        "        print(\"Inside Phone Constructor\") # Parent Class Constructor\n",
        "        self.__price = price\n",
        "        self.brand = brand\n",
        "        self.camera = camera\n",
        "\n",
        "    def buy(self):\n",
        "        print(\"Buying a Phone\")\n",
        "\n",
        "    def return_Phone(self):\n",
        "        print(\"return a Phone\")\n",
        "\n",
        "class SmartPhone(Phone):\n",
        "\n",
        "    def buy(self):\n",
        "        print(\"Buying a SmartPhone\") # buy() function printing.\n",
        "        super().buy() # --> printing \"Buying a Phone\"\n",
        "\n",
        "s = SmartPhone(90000,\"Apple\",16)\n",
        "s.buy()"
      ]
    },
    {
      "cell_type": "markdown",
      "id": "84dc6b4c",
      "metadata": {
        "id": "84dc6b4c"
      },
      "source": [
        "Super() Function doesn't work outside the class, means not works in Global Scope, if we forcefully done that it will gave us Error."
      ]
    },
    {
      "cell_type": "code",
      "execution_count": null,
      "id": "77259e31",
      "metadata": {
        "id": "77259e31",
        "outputId": "76fa64ce-f90b-4ace-9960-b961765ea190"
      },
      "outputs": [
        {
          "name": "stdout",
          "output_type": "stream",
          "text": [
            "Inside phone Class Constructor\n",
            "Inside Smart Phone Constructor\n",
            "IOS-18\n",
            "Apple\n",
            "90000\n",
            "16\n",
            "6GB\n"
          ]
        }
      ],
      "source": [
        "# Example 2 of Super():\n",
        "class Phone:\n",
        "    def __init__(self,price,brand,camera):\n",
        "        print(\"Inside phone Class Constructor\")\n",
        "        self.__price = price\n",
        "        self.brand = brand\n",
        "        self.camera = camera\n",
        "\n",
        "class SmartPhone(Phone):\n",
        "    def __init__(self,price,brand,camera,os,ram):\n",
        "        super().__init__(price,brand,camera)\n",
        "        self.os = os\n",
        "        self.ram = ram\n",
        "        print(\"Inside Smart Phone Constructor\")\n",
        "\n",
        "\n",
        "s = SmartPhone(90000,\"Apple\",16,\"IOS-18\",\"6GB\")\n",
        "print(s.os)\n",
        "print(s.brand)\n",
        "print(s._Phone__price) # Private instance Variable\n",
        "print(s.camera)\n",
        "print(s.ram)"
      ]
    },
    {
      "cell_type": "code",
      "execution_count": null,
      "id": "74acadb0",
      "metadata": {
        "id": "74acadb0",
        "outputId": "8e35ef55-7a19-4c06-f612-d17e1a687dff"
      },
      "outputs": [
        {
          "name": "stdout",
          "output_type": "stream",
          "text": [
            "100\n",
            "200\n"
          ]
        }
      ],
      "source": [
        "# Example on Super():\n",
        "\n",
        "class Parent:\n",
        "\n",
        "    def __init__(self,num):\n",
        "        self.__num = num # 100\n",
        "\n",
        "    def get_num(self):\n",
        "        return self.__num # 100\n",
        "\n",
        "class Child(Parent):\n",
        "\n",
        "    def __init__(self,num,val):\n",
        "        super().__init__(num) # 100\n",
        "        self.__val = val # 200\n",
        "\n",
        "    def get_val(self):\n",
        "        return self.__val # 200\n",
        "\n",
        "son = Child(100,200)\n",
        "print(son.get_num())\n",
        "print(son.get_val())"
      ]
    },
    {
      "cell_type": "code",
      "execution_count": null,
      "id": "0f635846",
      "metadata": {
        "id": "0f635846",
        "outputId": "8264afc0-0336-448d-fb25-988e1407989b"
      },
      "outputs": [
        {
          "name": "stdout",
          "output_type": "stream",
          "text": [
            "100\n",
            "200\n"
          ]
        }
      ],
      "source": [
        "# Example on Super():\n",
        "\n",
        "class Parent:\n",
        "\n",
        "    def __init__(self):\n",
        "        self.num = 100\n",
        "\n",
        "class Child(Parent):\n",
        "    def __init__(self):\n",
        "        super().__init__()\n",
        "        self.var = 200\n",
        "\n",
        "    def show(self):\n",
        "        print(self.num) # 100\n",
        "        print(self.var) # 200\n",
        "\n",
        "# Inside the child Class we have also access the attributes of\n",
        "# Parent Class like self.num --> In Parent class and printing\n",
        "# throught Child Class.\n",
        "\n",
        "son = Child() # No printing\n",
        "son.show()"
      ]
    },
    {
      "cell_type": "code",
      "execution_count": null,
      "id": "48d09c7a",
      "metadata": {
        "id": "48d09c7a",
        "outputId": "a2a9c74d-c6ac-497f-964d-ccd7330abd87"
      },
      "outputs": [
        {
          "name": "stdout",
          "output_type": "stream",
          "text": [
            "Parent: 100\n",
            "Child: 10\n"
          ]
        }
      ],
      "source": [
        "class Parent:\n",
        "    def __init__(self):\n",
        "        self.__num = 100\n",
        "\n",
        "    def show(self):\n",
        "        print(\"Parent:\",self.__num)\n",
        "\n",
        "class Child(Parent):\n",
        "    def __init__(self):\n",
        "        super().__init__()\n",
        "        self.__var = 10\n",
        "\n",
        "    def show(self):\n",
        "        print(\"Child:\",self.__var)\n",
        "\n",
        "\n",
        "dad = Parent()\n",
        "dad.show()\n",
        "son = Child()\n",
        "son.show()"
      ]
    }
  ],
  "metadata": {
    "kernelspec": {
      "display_name": "Python 3",
      "language": "python",
      "name": "python3"
    },
    "language_info": {
      "codemirror_mode": {
        "name": "ipython",
        "version": 3
      },
      "file_extension": ".py",
      "mimetype": "text/x-python",
      "name": "python",
      "nbconvert_exporter": "python",
      "pygments_lexer": "ipython3",
      "version": "3.11.9"
    },
    "colab": {
      "provenance": [],
      "include_colab_link": true
    }
  },
  "nbformat": 4,
  "nbformat_minor": 5
}