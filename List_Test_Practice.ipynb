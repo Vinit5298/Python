{
  "nbformat": 4,
  "nbformat_minor": 0,
  "metadata": {
    "colab": {
      "provenance": [],
      "authorship_tag": "ABX9TyODI9i5XiP9MJcV17aS1SAb",
      "include_colab_link": true
    },
    "kernelspec": {
      "name": "python3",
      "display_name": "Python 3"
    },
    "language_info": {
      "name": "python"
    }
  },
  "cells": [
    {
      "cell_type": "markdown",
      "metadata": {
        "id": "view-in-github",
        "colab_type": "text"
      },
      "source": [
        "<a href=\"https://colab.research.google.com/github/Vinit5298/Python/blob/main/List_Test_Practice.ipynb\" target=\"_parent\"><img src=\"https://colab.research.google.com/assets/colab-badge.svg\" alt=\"Open In Colab\"/></a>"
      ]
    },
    {
      "cell_type": "code",
      "execution_count": 107,
      "metadata": {
        "id": "VCNTUTYRBxi1",
        "colab": {
          "base_uri": "https://localhost:8080/"
        },
        "outputId": "cc7277e8-b300-4565-e170-7d3755319a4e"
      },
      "outputs": [
        {
          "output_type": "stream",
          "name": "stdout",
          "text": [
            "99\n"
          ]
        }
      ],
      "source": [
        "# 1. Write a Python program to find the maximum element in a list of numbers without\n",
        "# max functions\n",
        "# numbers = [10, 20, 4, 45, 99]\n",
        "# The maximum element is: 99\n",
        "\n",
        "list = [10, 20, 4, 45, 99]\n",
        "maximum_Element = list[0]\n",
        "\n",
        "for index in range(len(list)):\n",
        "  if list[index] > maximum_Element:\n",
        "    maximum_Element = list[index]\n",
        "print(maximum_Element)"
      ]
    },
    {
      "cell_type": "code",
      "source": [
        "# 2. Write a Python program to sum all the elements in a list of numbers.\n",
        "# a. numbers = [10, 20, 30, 40]\n",
        "# b. The sum of all elements is: 100\n",
        "\n",
        "mylist=[10, 20, 30, 40]\n",
        "sum=0\n",
        "\n",
        "for i in range(len(mylist)):\n",
        "  sum=sum+mylist[i]\n",
        "print(sum)"
      ],
      "metadata": {
        "colab": {
          "base_uri": "https://localhost:8080/"
        },
        "id": "WEWQhBQcaL70",
        "outputId": "19313d51-becf-43bb-d42c-7bfdcde7e3bf"
      },
      "execution_count": null,
      "outputs": [
        {
          "output_type": "stream",
          "name": "stdout",
          "text": [
            "100\n"
          ]
        }
      ]
    },
    {
      "cell_type": "code",
      "source": [
        "# 3. Write a Python program to reverse a list without reverse or slicing operator\n",
        "# a. numbers = [1, 2, 3, 4, 5]\n",
        "# b. Reversed list: [5, 4, 3, 2, 1]\n",
        "\n",
        "mylist = [1, 2, 3, 4, 5]\n",
        "revlist=[]\n",
        "\n",
        "for index in range(len(mylist)-1,-1,-1):\n",
        "  revlist.append(mylist[index])\n",
        "print(revlist)"
      ],
      "metadata": {
        "colab": {
          "base_uri": "https://localhost:8080/"
        },
        "id": "BUPpggr8acF8",
        "outputId": "d81f6123-9cbe-4416-c0e9-d019ec34e088"
      },
      "execution_count": 109,
      "outputs": [
        {
          "output_type": "stream",
          "name": "stdout",
          "text": [
            "[5, 4, 3, 2, 1]\n"
          ]
        }
      ]
    },
    {
      "cell_type": "code",
      "source": [
        "# 4. Write a Python program to sort a list in ascending order without sort functions\n",
        "\n",
        "mylist=[10, 20, 4, 45, 99]\n",
        "print(\"Before:\",mylist)\n",
        "\n",
        "for i in range(len(mylist)):\n",
        "  for j in range(i+1,len(mylist)):\n",
        "    if mylist[i]>mylist[j]:\n",
        "      temp=mylist[i]\n",
        "      mylist[i]=mylist[j]\n",
        "      mylist[j]=temp\n",
        "print(\"After:\",mylist)\n"
      ],
      "metadata": {
        "colab": {
          "base_uri": "https://localhost:8080/"
        },
        "id": "G0DIR5pFa7Rl",
        "outputId": "ca5f5e4f-515e-4995-e11a-0c555604acf2"
      },
      "execution_count": 112,
      "outputs": [
        {
          "output_type": "stream",
          "name": "stdout",
          "text": [
            "Before: [10, 20, 4, 45, 99]\n",
            "After: [4, 10, 20, 45, 99]\n"
          ]
        }
      ]
    },
    {
      "cell_type": "code",
      "source": [
        "# 5. Write a Python program to remove duplicates from a list while maintaining the order\n",
        "# of elements.\n",
        "# a. numbers = [1, 2, 2, 3, 4, 4, 5]\n",
        "# b. List after removing duplicates: [1, 2, 3, 4, 5]\n",
        "\n",
        "mylist=[1, 2, 2, 3, 4, 4, 5]\n",
        "duplicate=[]\n",
        "for i in range(len(mylist)):\n",
        "  if mylist[i] not in duplicate:\n",
        "    duplicate.append(mylist[i])\n",
        "print(duplicate)"
      ],
      "metadata": {
        "colab": {
          "base_uri": "https://localhost:8080/"
        },
        "id": "Qn-uxtCGbWKi",
        "outputId": "21f7fa98-5ef1-42b4-fcbc-08ed66a1364c"
      },
      "execution_count": null,
      "outputs": [
        {
          "output_type": "stream",
          "name": "stdout",
          "text": [
            "[1, 2, 3, 4, 5]\n"
          ]
        }
      ]
    },
    {
      "cell_type": "code",
      "source": [
        "# 6. Write a Python program to find all pairs of numbers in a list that add up to a specific\n",
        "# target sum.\n",
        "# a. numbers = [1, 2, 3, 4, 3, 5, 6] target_sum = 6\n",
        "# b. Pairs that add up to 6: [(3, 3), (2, 4), (1, 5)]\n",
        "\n",
        "mylist = [1, 2, 3, 4, 3, 5, 6]\n",
        "target_sum = 6\n",
        "pairs=[]\n",
        "\n",
        "for index in range(len(mylist)):\n",
        "  for index1 in range(index + 1,len(mylist)):\n",
        "    if mylist[index] + mylist[index1] == target_sum:\n",
        "      pairs.append((mylist[index],mylist[index1]))\n",
        "print(pairs)"
      ],
      "metadata": {
        "colab": {
          "base_uri": "https://localhost:8080/"
        },
        "id": "E_kuQne7dWbm",
        "outputId": "a238c74b-38ab-4b37-aca0-e7dccd10b6ce"
      },
      "execution_count": 114,
      "outputs": [
        {
          "output_type": "stream",
          "name": "stdout",
          "text": [
            "[(1, 5), (2, 4), (3, 3)]\n"
          ]
        }
      ]
    },
    {
      "cell_type": "code",
      "source": [
        "# 8. Write a Python program to find the sum of the elements in a list, excluding the largest\n",
        "# and smallest element. Don’t use max or min functions\n",
        "# a. numbers = [1, 2, 3, 4, 5]\n",
        "# b. Sum excluding the largest and smallest element: 9\n",
        "\n",
        "list=[1, 2, 3, 4, 5]\n",
        "small=list[0]\n",
        "large=list[0]\n",
        "\n",
        "for index in range(len(list)):\n",
        "  if list[index]<small:\n",
        "    small=list[index]\n",
        "  if list[index]>large:\n",
        "    large=list[index]\n",
        "total_sum=0\n",
        "for index in range(len(list)):\n",
        "  total_sum=total_sum+list[index]\n",
        "result=total_sum-large-small\n",
        "print(result)"
      ],
      "metadata": {
        "colab": {
          "base_uri": "https://localhost:8080/"
        },
        "id": "pM0lOmhweGuW",
        "outputId": "5ea20d38-4805-4c14-8e64-e618e724a3f5"
      },
      "execution_count": null,
      "outputs": [
        {
          "output_type": "stream",
          "name": "stdout",
          "text": [
            "9\n"
          ]
        }
      ]
    },
    {
      "cell_type": "code",
      "source": [
        "# 9. Write a Python program to check if a list is a palindrome (reads the same backward\n",
        "# as forward) using two pointer approach\n",
        "# a. numbers = [1, 2, 3, 2, 1]\n",
        "# b. True\n",
        "\n",
        "list=[1, 2, 3, 2, 1]\n",
        "s=0\n",
        "e=len(list)-1\n",
        "\n",
        "is_Palindrome=True\n",
        "\n",
        "while list[s]<list[e]:\n",
        "  if list[s]!=list[e]:\n",
        "    is_Palindrome=False\n",
        "    break\n",
        "  s+=1\n",
        "  e-=1\n",
        "print(is_Palindrome)"
      ],
      "metadata": {
        "colab": {
          "base_uri": "https://localhost:8080/"
        },
        "id": "3v4vDvdTff1T",
        "outputId": "41d1a673-0004-43f4-d124-4d8a51cfd2c2"
      },
      "execution_count": null,
      "outputs": [
        {
          "output_type": "stream",
          "name": "stdout",
          "text": [
            "True\n"
          ]
        }
      ]
    },
    {
      "cell_type": "code",
      "source": [
        "# 10. Write a function to remove duplicate elements from a list.\n",
        "# a. numbers = [1, 2, 3, 2, 4, 5, 1, 6]\n",
        "# b. [1, 2, 3, 4, 5, 6]\n",
        "\n",
        "list=[1, 2, 3, 2, 4, 5, 1, 6]\n",
        "duplicate=[]\n",
        "\n",
        "for i in range(len(list)):\n",
        "  if list[i] not in duplicate:\n",
        "    duplicate.append(list[i])\n",
        "print(duplicate)"
      ],
      "metadata": {
        "colab": {
          "base_uri": "https://localhost:8080/"
        },
        "id": "h0BHRWHSgWB1",
        "outputId": "2915d2ea-4138-4d83-84cc-70de8c146679"
      },
      "execution_count": null,
      "outputs": [
        {
          "output_type": "stream",
          "name": "stdout",
          "text": [
            "[1, 2, 3, 4, 5, 6]\n"
          ]
        }
      ]
    },
    {
      "cell_type": "code",
      "source": [
        "# 11. Find Common Elements in Two Lists\n",
        "# a. list1 = [1, 2, 3, 4, 5]\n",
        "# b. list2 = [3, 4, 5, 6, 7]\n",
        "# c. Result: [3, 4, 5]\n",
        "\n",
        "list1 = [1, 2, 3, 4, 5]\n",
        "list2 = [3, 4, 5, 6, 7]\n",
        "count=[]\n",
        "\n",
        "for i in list1:\n",
        "  if i in list2:\n",
        "    count.append(i)\n",
        "print(count)"
      ],
      "metadata": {
        "colab": {
          "base_uri": "https://localhost:8080/"
        },
        "id": "LWe-zG89guR-",
        "outputId": "bbe69657-5646-4adc-d280-685738ff484d"
      },
      "execution_count": null,
      "outputs": [
        {
          "output_type": "stream",
          "name": "stdout",
          "text": [
            "[3, 4, 5]\n"
          ]
        }
      ]
    },
    {
      "cell_type": "code",
      "source": [
        "# 12. Find the Longest Word in a List\n",
        "# a. words = [\"apple\", \"banana\", \"strawberry\", \"kiwi\"]\n",
        "# b. Strawberry\n",
        "\n",
        "words = [\"apple\", \"banana\", \"strawberry\", \"kiwi\"]\n",
        "longest=\"\"\n",
        "\n",
        "for word in words:\n",
        "  if len(word)>len(longest):\n",
        "    longest=word\n",
        "print(longest)"
      ],
      "metadata": {
        "colab": {
          "base_uri": "https://localhost:8080/"
        },
        "id": "P9KN96IqhVW_",
        "outputId": "79498983-4a2e-45dc-80cd-c9f583804cf3"
      },
      "execution_count": null,
      "outputs": [
        {
          "output_type": "stream",
          "name": "stdout",
          "text": [
            "strawberry\n"
          ]
        }
      ]
    },
    {
      "cell_type": "code",
      "source": [
        "# 14. Find Missing Number in a List\n",
        "# You are given a list of n-1 numbers in the range 1 to n. One number is missing\n",
        "# from the sequence. Find the missing number.\n",
        "# a. numbers = [1, 2, 4, 5, 6]\n",
        "# b. 3\n",
        "\n",
        "list=[1, 2, 4, 5, 6]\n",
        "n=len(list)+1\n",
        "\n",
        "exp_sum=0\n",
        "for i in range(1,n+1):\n",
        "  exp_sum=exp_sum+i\n",
        "print(exp_sum)\n",
        "\n",
        "act_sum=0\n",
        "for index in list:\n",
        "  act_sum=act_sum+index\n",
        "print(act_sum)\n",
        "\n",
        "missing_num=exp_sum-act_sum\n",
        "print(missing_num)"
      ],
      "metadata": {
        "colab": {
          "base_uri": "https://localhost:8080/"
        },
        "id": "B7icxQTRi14S",
        "outputId": "fb097cb7-2c5a-4c3f-96be-fbce9de5cd09"
      },
      "execution_count": null,
      "outputs": [
        {
          "output_type": "stream",
          "name": "stdout",
          "text": [
            "21\n",
            "18\n",
            "3\n"
          ]
        }
      ]
    },
    {
      "cell_type": "code",
      "source": [
        "# Some Practice Questions || For test"
      ],
      "metadata": {
        "id": "lYuLmqialCwa"
      },
      "execution_count": null,
      "outputs": []
    },
    {
      "cell_type": "code",
      "source": [
        "# Access the list\n",
        "mylist=[10,20,30,40,50]\n",
        "print(mylist[1]) #-- Index"
      ],
      "metadata": {
        "id": "Auys6u-5nXfT",
        "colab": {
          "base_uri": "https://localhost:8080/"
        },
        "outputId": "9c96444d-65b8-4cac-f09a-2ec5f9e8abfc"
      },
      "execution_count": null,
      "outputs": [
        {
          "output_type": "stream",
          "name": "stdout",
          "text": [
            "20\n"
          ]
        }
      ]
    },
    {
      "cell_type": "code",
      "source": [
        "# Change the item of list.\n",
        "mylist=[10,20,30,40,50] # On index 0 -- 10\n",
        "mylist[0]=100\n",
        "print(mylist) # But now on index 0 -- 100"
      ],
      "metadata": {
        "colab": {
          "base_uri": "https://localhost:8080/"
        },
        "id": "nLFWZYQZuzZv",
        "outputId": "56cbfe5b-90bc-4db2-f95d-46e9c1656e79"
      },
      "execution_count": null,
      "outputs": [
        {
          "output_type": "stream",
          "name": "stdout",
          "text": [
            "[100, 20, 30, 40, 50]\n"
          ]
        }
      ]
    },
    {
      "cell_type": "code",
      "source": [
        "# Replace the value via index value position:\n",
        "\n",
        "a = [10, 20, 30, 40, 50] # -- Current list\n",
        "a[2]=99 # -- Via index we change replace the value\n",
        "print(a)"
      ],
      "metadata": {
        "colab": {
          "base_uri": "https://localhost:8080/"
        },
        "id": "F_5q5tVUvG2Z",
        "outputId": "939bf172-a1b9-413c-c1e3-3eeea5746b6c"
      },
      "execution_count": null,
      "outputs": [
        {
          "output_type": "stream",
          "name": "stdout",
          "text": [
            "[10, 20, 99, 40, 50]\n"
          ]
        }
      ]
    },
    {
      "cell_type": "code",
      "source": [
        "# append function:\n",
        "a = [2, 5, 6, 7] # -- Current List\n",
        "print(a)\n",
        "a.append(8) # Use append to insert the value in the last of list.\n",
        "print(a)"
      ],
      "metadata": {
        "colab": {
          "base_uri": "https://localhost:8080/"
        },
        "id": "EbfTqCnBv7Bf",
        "outputId": "5827d887-0f69-4dd2-d9ca-5a3184f8d1d2"
      },
      "execution_count": null,
      "outputs": [
        {
          "output_type": "stream",
          "name": "stdout",
          "text": [
            "[2, 5, 6, 7]\n",
            "[2, 5, 6, 7, 8]\n"
          ]
        }
      ]
    },
    {
      "cell_type": "code",
      "source": [
        "# insert function:\n",
        "fruit = [\"banana\",\"cherry\",\"grape\"]\n",
        "fruit.insert(0,\"Apple\") # insert any thing in start or middle of list.\n",
        "# but also we have to given the index value also.\n",
        "fruit.append(\"Mango\")\n",
        "print(fruit)"
      ],
      "metadata": {
        "colab": {
          "base_uri": "https://localhost:8080/"
        },
        "id": "Ns9UQFhVwV0b",
        "outputId": "949d5935-3094-4125-ba99-f60eae31b920"
      },
      "execution_count": null,
      "outputs": [
        {
          "output_type": "stream",
          "name": "stdout",
          "text": [
            "['Apple', 'banana', 'cherry', 'grape', 'Mango']\n"
          ]
        }
      ]
    },
    {
      "cell_type": "code",
      "source": [
        "# Using pop() - remove item by Index\n",
        "\n",
        "a = [10, 20, 30, 40, 50]\n",
        "# Remove element at index 1 and return its value in val\n",
        "val = a.pop(1)\n",
        "print(a)\n",
        "print(\"Removed Item:\", val)"
      ],
      "metadata": {
        "colab": {
          "base_uri": "https://localhost:8080/"
        },
        "id": "ZtVSXzJsxBq4",
        "outputId": "1de53df1-3f7a-47ce-8ec5-f6615fed9525"
      },
      "execution_count": null,
      "outputs": [
        {
          "output_type": "stream",
          "name": "stdout",
          "text": [
            "[10, 30, 40, 50]\n",
            "Removed Item: 20\n"
          ]
        }
      ]
    },
    {
      "cell_type": "code",
      "source": [
        "# How To Find the Length of a List in Python\n",
        "\n",
        "a = [10, 20, 30, 40, 50]\n",
        "print(len(a))"
      ],
      "metadata": {
        "colab": {
          "base_uri": "https://localhost:8080/"
        },
        "id": "hKodbyfRx4EL",
        "outputId": "96214209-ec02-4916-8b24-5691d1c29d5e"
      },
      "execution_count": null,
      "outputs": [
        {
          "output_type": "stream",
          "name": "stdout",
          "text": [
            "5\n"
          ]
        }
      ]
    },
    {
      "cell_type": "code",
      "source": [
        "# Python program to interchange first and last elements in a list\n",
        "\n",
        "a = [10, 20, 30, 40, 50]\n",
        "a[0],a[-1]=a[-1],a[0] # -- Interchange first and last elements.\n",
        "print(a)"
      ],
      "metadata": {
        "colab": {
          "base_uri": "https://localhost:8080/"
        },
        "id": "yTvECEntyTro",
        "outputId": "3d09f68e-1267-48b9-bed0-6c1482a582d0"
      },
      "execution_count": null,
      "outputs": [
        {
          "output_type": "stream",
          "name": "stdout",
          "text": [
            "[50, 20, 30, 40, 10]\n"
          ]
        }
      ]
    },
    {
      "cell_type": "code",
      "source": [
        "# Python Program to Swap Two Elements in a List\n",
        "\n",
        "a = [10, 20, 30, 40, 50]\n",
        "\n",
        "temp=a[2] # temp = 30\n",
        "a[2]=a[4] # 30 = 50\n",
        "a[4]=temp # 50 = temp\n",
        "\n",
        "print(a)"
      ],
      "metadata": {
        "colab": {
          "base_uri": "https://localhost:8080/"
        },
        "id": "WDZ1aXkZypuJ",
        "outputId": "bcf29fde-8dd7-4a3a-eeb3-0b69bd22fc82"
      },
      "execution_count": null,
      "outputs": [
        {
          "output_type": "stream",
          "name": "stdout",
          "text": [
            "[10, 20, 50, 40, 30]\n"
          ]
        }
      ]
    },
    {
      "cell_type": "code",
      "source": [
        "# Check if element exists in list in Python\n",
        "\n",
        "a = [10, 20, 30, 40, 50]\n",
        "\n",
        "if 30 in a:\n",
        "  print(\"element exists in list.\")\n",
        "else:\n",
        "  print(\"element not exists in list.\")"
      ],
      "metadata": {
        "colab": {
          "base_uri": "https://localhost:8080/"
        },
        "id": "OzE_hcNEz9Yw",
        "outputId": "8d00dbed-0de5-4660-8baf-44265e8efef4"
      },
      "execution_count": null,
      "outputs": [
        {
          "output_type": "stream",
          "name": "stdout",
          "text": [
            "element exists in list.\n"
          ]
        }
      ]
    },
    {
      "cell_type": "code",
      "source": [
        "# Reversing a List in Python\n",
        "a = [1, 2, 3, 4, 5]\n",
        "rev=[]\n",
        "\n",
        "for i in range(len(a)-1,-1,-1):\n",
        "  rev.append(a[i])\n",
        "print(rev)"
      ],
      "metadata": {
        "colab": {
          "base_uri": "https://localhost:8080/"
        },
        "id": "-LCly-Zb0xe_",
        "outputId": "73e256bf-f525-47d8-fae1-9e8167c0cb74"
      },
      "execution_count": null,
      "outputs": [
        {
          "output_type": "stream",
          "name": "stdout",
          "text": [
            "[5, 4, 3, 2, 1]\n"
          ]
        }
      ]
    },
    {
      "cell_type": "code",
      "source": [
        "# Count occurrences of an element in a list in Python\n",
        "\n",
        "a = [1, 3, 2, 6, 3, 2, 8, 2, 9, 2, 7, 3]\n",
        "\n",
        "print(a.count(2)) # How many time 2 is present in list. -- 4 times\n",
        "print(a.count(3)) # How many time 3 is present in list. -- 3 times"
      ],
      "metadata": {
        "colab": {
          "base_uri": "https://localhost:8080/"
        },
        "id": "1W-59MfT1PHH",
        "outputId": "dd07dfe4-886b-43ab-b2fd-2dd6646983c8"
      },
      "execution_count": null,
      "outputs": [
        {
          "output_type": "stream",
          "name": "stdout",
          "text": [
            "4\n",
            "3\n"
          ]
        }
      ]
    },
    {
      "cell_type": "code",
      "source": [
        "# Sum and average of list\n",
        "\n",
        "a = [10, 20, 30, 40, 50]\n",
        "sum = 0\n",
        "l = 0\n",
        "\n",
        "for val in a:\n",
        "    sum += val\n",
        "    l += 1\n",
        "\n",
        "avg = sum / l if a else 0\n",
        "\n",
        "print(sum)\n",
        "print(avg)"
      ],
      "metadata": {
        "colab": {
          "base_uri": "https://localhost:8080/"
        },
        "id": "YLjFs8_l1uAb",
        "outputId": "c7b2a6a2-cf38-426a-856a-3ed829766ee3"
      },
      "execution_count": null,
      "outputs": [
        {
          "output_type": "stream",
          "name": "stdout",
          "text": [
            "150\n",
            "30.0\n"
          ]
        }
      ]
    },
    {
      "cell_type": "code",
      "source": [
        "# Sum of digit\n",
        "\n",
        "a = [123, 456, 789]\n",
        "res = []\n",
        "\n",
        "for val in a:\n",
        "    total = 0\n",
        "    while val > 0:\n",
        "        total = total + val % 10\n",
        "        val = val // 10\n",
        "    res.append(total)\n",
        "\n",
        "print(res)"
      ],
      "metadata": {
        "colab": {
          "base_uri": "https://localhost:8080/"
        },
        "id": "0SXPxl8C2Xwn",
        "outputId": "c207ca0d-ff25-4d53-f45e-7cf0c6109b5d"
      },
      "execution_count": null,
      "outputs": [
        {
          "output_type": "stream",
          "name": "stdout",
          "text": [
            "[6, 15, 24]\n"
          ]
        }
      ]
    },
    {
      "cell_type": "code",
      "source": [
        "# Multiply All Numbers in the List in Python\n",
        "a = [2, 4, 8, 3]\n",
        "res=1\n",
        "for i in a:\n",
        "  res=res*i\n",
        "print(res)"
      ],
      "metadata": {
        "colab": {
          "base_uri": "https://localhost:8080/"
        },
        "id": "u0Zlu0dw3HSU",
        "outputId": "8bf7d879-9aa9-45d4-a3fd-99c67ba43332"
      },
      "execution_count": null,
      "outputs": [
        {
          "output_type": "stream",
          "name": "stdout",
          "text": [
            "192\n"
          ]
        }
      ]
    },
    {
      "cell_type": "code",
      "source": [
        "# Python program to find smallest number in a list\n",
        "a = [8, 3, 5, 1, 9, 12]\n",
        "min=a[0]\n",
        "\n",
        "for i in range(len(a)):\n",
        "  if a[i]<min:\n",
        "    min=a[i]\n",
        "print(min)"
      ],
      "metadata": {
        "colab": {
          "base_uri": "https://localhost:8080/"
        },
        "id": "CJoqk84S30RF",
        "outputId": "495c79dc-5fe0-430a-a936-915885bf7211"
      },
      "execution_count": null,
      "outputs": [
        {
          "output_type": "stream",
          "name": "stdout",
          "text": [
            "1\n"
          ]
        }
      ]
    },
    {
      "cell_type": "code",
      "source": [
        "# Python Program to Find Largest Number in a List\n",
        "\n",
        "a = [10, 24, 76, 23, 12]\n",
        "max = a[0]\n",
        "\n",
        "for i in range(len(a)):\n",
        "  if a[i] > max:\n",
        "    max = a[i]\n",
        "print(max)"
      ],
      "metadata": {
        "colab": {
          "base_uri": "https://localhost:8080/"
        },
        "id": "4O7NGDJL4WDA",
        "outputId": "322c7e71-289f-47f7-a4e7-d9babce0dd45"
      },
      "execution_count": null,
      "outputs": [
        {
          "output_type": "stream",
          "name": "stdout",
          "text": [
            "76\n"
          ]
        }
      ]
    },
    {
      "cell_type": "code",
      "source": [
        "# Python program to find second largest number in a list\n",
        "\n",
        "a = [10, 20, 4, 45, 99]\n",
        "max=a[0]\n",
        "smax=0\n",
        "\n",
        "for i in range(len(a)):\n",
        "  if a[i]>smax:\n",
        "    smax=max\n",
        "    max=a[i]\n",
        "print(max,smax)"
      ],
      "metadata": {
        "colab": {
          "base_uri": "https://localhost:8080/"
        },
        "id": "bZtVWwex41Kf",
        "outputId": "44b9dfa3-7b62-48e3-f03e-3c5d3e43cc68"
      },
      "execution_count": null,
      "outputs": [
        {
          "output_type": "stream",
          "name": "stdout",
          "text": [
            "99 45\n"
          ]
        }
      ]
    },
    {
      "cell_type": "code",
      "source": [
        "# Print even numbers in a list - Python\n",
        "a = [1, 2, 3, 4, 5, 6, 7, 8, 9, 10]\n",
        "res=[]\n",
        "for i in range(len(a)):\n",
        "  if a[i]%2==0:\n",
        "    res.append(a[i])\n",
        "print(res)"
      ],
      "metadata": {
        "colab": {
          "base_uri": "https://localhost:8080/"
        },
        "id": "Xh6y53e15aev",
        "outputId": "da91b3ce-7871-4ca6-fb3b-cc175dea079c"
      },
      "execution_count": null,
      "outputs": [
        {
          "output_type": "stream",
          "name": "stdout",
          "text": [
            "[2, 4, 6, 8, 10]\n"
          ]
        }
      ]
    },
    {
      "cell_type": "code",
      "source": [
        "# Print odd numbers in a list - Python\n",
        "a = [10, 15, 23, 42, 37, 51, 62, 5]\n",
        "res=[]\n",
        "\n",
        "for i in range(len(a)):\n",
        "  if a[i]%2 != 0:\n",
        "    res.append(a[i])\n",
        "print(res)"
      ],
      "metadata": {
        "colab": {
          "base_uri": "https://localhost:8080/"
        },
        "id": "6uhiGbygAlWZ",
        "outputId": "af1f8d25-ae64-4dbb-98de-3f7a7cbe8073"
      },
      "execution_count": null,
      "outputs": [
        {
          "output_type": "stream",
          "name": "stdout",
          "text": [
            "[15, 23, 37, 51, 5]\n"
          ]
        }
      ]
    },
    {
      "cell_type": "code",
      "source": [
        "# Python Program to Count Even and Odd Numbers in a List\n",
        "a = [1, 2, 3, 4, 5, 6, 7, 8, 9]\n",
        "\n",
        "even=0\n",
        "odd=0\n",
        "\n",
        "for i in range(len(a)):\n",
        "  if a[i]%2==0:\n",
        "    even+=1\n",
        "  else:\n",
        "    odd+=1\n",
        "print(\"Even Numbers Count:\",even)\n",
        "print(\"Odd Numbers Count:\",odd)"
      ],
      "metadata": {
        "colab": {
          "base_uri": "https://localhost:8080/"
        },
        "id": "tAy60VwyBRTJ",
        "outputId": "cc3c72a3-cae2-415c-9957-49cda44cea95"
      },
      "execution_count": null,
      "outputs": [
        {
          "output_type": "stream",
          "name": "stdout",
          "text": [
            "Even Numbers Count: 4\n",
            "Odd Numbers Count: 5\n"
          ]
        }
      ]
    },
    {
      "cell_type": "code",
      "source": [
        "# Python program to print positive numbers in a list\n",
        "a = [-10, 15, 0, 20, -5, 30, -2]\n",
        "res=[]\n",
        "for i in range(len(a)):\n",
        "  if a[i] > 0:\n",
        "    res.append(a[i])\n",
        "print(res)"
      ],
      "metadata": {
        "colab": {
          "base_uri": "https://localhost:8080/"
        },
        "id": "LjompMkuBxce",
        "outputId": "e451ff08-94ed-46b7-f03f-a7a9bc8e3d75"
      },
      "execution_count": null,
      "outputs": [
        {
          "output_type": "stream",
          "name": "stdout",
          "text": [
            "[15, 20, 30]\n"
          ]
        }
      ]
    },
    {
      "cell_type": "code",
      "source": [
        "# Python program to print negative numbers in a list\n",
        "a = [5, -3, 7, -1, 2, -9, 4]\n",
        "res=[]\n",
        "for i in range(len(a)):\n",
        "  if a[i] < 0:\n",
        "    res.append(a[i])\n",
        "print(res)"
      ],
      "metadata": {
        "colab": {
          "base_uri": "https://localhost:8080/"
        },
        "id": "-Yqe3vkPKDkZ",
        "outputId": "8a15cf44-42a7-4682-da30-ac2c9f701735"
      },
      "execution_count": null,
      "outputs": [
        {
          "output_type": "stream",
          "name": "stdout",
          "text": [
            "[-3, -1, -9]\n"
          ]
        }
      ]
    },
    {
      "cell_type": "code",
      "source": [
        "# Python program to count positive and negative numbers in a list\n",
        "a = [10, -20, 30, -40, 50, -60, 0]\n",
        "pos=0\n",
        "neg=0\n",
        "for i in range(len(a)):\n",
        "  if a[i] < 0:\n",
        "    pos += 1\n",
        "  elif a[i] > 0:\n",
        "    neg += 1\n",
        "print(pos)\n",
        "print(neg)"
      ],
      "metadata": {
        "colab": {
          "base_uri": "https://localhost:8080/"
        },
        "id": "LKBiQfn4Khla",
        "outputId": "1022d38e-279a-4019-e421-d1bffaf68dcb"
      },
      "execution_count": null,
      "outputs": [
        {
          "output_type": "stream",
          "name": "stdout",
          "text": [
            "3\n",
            "3\n"
          ]
        }
      ]
    },
    {
      "cell_type": "code",
      "source": [
        "# Remove Multiple Elements from List in Python\n",
        "\n",
        "a = [10, 20, 30, 40, 50, 60, 70]\n",
        "\n",
        "# Elements to remove\n",
        "remove = [20, 40, 60]\n",
        "\n",
        "# Remove elements using a simple for loop\n",
        "res = []\n",
        "\n",
        "for val in a:\n",
        "    if val not in remove:\n",
        "        res.append(val)\n",
        "print(res)"
      ],
      "metadata": {
        "colab": {
          "base_uri": "https://localhost:8080/"
        },
        "id": "C1LtngEiL2eY",
        "outputId": "a7260f40-17dd-48de-a332-1679f910b102"
      },
      "execution_count": null,
      "outputs": [
        {
          "output_type": "stream",
          "name": "stdout",
          "text": [
            "[10, 30, 50, 70]\n"
          ]
        }
      ]
    },
    {
      "cell_type": "code",
      "source": [
        "# Program to print duplicates from a list of integers in Python\n",
        "\n",
        "a = [1, 2, 3, 1, 2, 4, 5, 6, 5]\n",
        "dup=[]\n",
        "\n",
        "for i in range(len(a)):\n",
        "  if a[i] not in dup:\n",
        "    dup.append(a[i])\n",
        "print(dup)"
      ],
      "metadata": {
        "colab": {
          "base_uri": "https://localhost:8080/"
        },
        "id": "dPpAJAtyNHaJ",
        "outputId": "bd742bdb-04e6-4328-f8f5-d2abd94e868a"
      },
      "execution_count": null,
      "outputs": [
        {
          "output_type": "stream",
          "name": "stdout",
          "text": [
            "[1, 2, 3, 4, 5, 6]\n"
          ]
        }
      ]
    },
    {
      "cell_type": "code",
      "source": [
        "# Remove first element from list in Python\n",
        "\n",
        "a = [1, 2, 3, 4]\n",
        "\n",
        "a.pop(0)\n",
        "print(a)\n",
        "\n",
        "# val=a.pop(0)\n",
        "# print(val)"
      ],
      "metadata": {
        "colab": {
          "base_uri": "https://localhost:8080/"
        },
        "id": "f3v4EYK-Njvr",
        "outputId": "ac93e545-7582-4969-c183-3c8bd2afd037"
      },
      "execution_count": null,
      "outputs": [
        {
          "output_type": "stream",
          "name": "stdout",
          "text": [
            "[2, 3, 4]\n"
          ]
        }
      ]
    },
    {
      "cell_type": "code",
      "source": [
        "# Merge Two Lists in Python\n",
        "\n",
        "a = [1, 2, 3]\n",
        "b = [4, 5, 6]\n",
        "\n",
        "c=a+b\n",
        "print(c)"
      ],
      "metadata": {
        "colab": {
          "base_uri": "https://localhost:8080/"
        },
        "id": "VoC7H2_YOCK9",
        "outputId": "385cd332-bf69-44cb-ca9d-cb225149a740"
      },
      "execution_count": null,
      "outputs": [
        {
          "output_type": "stream",
          "name": "stdout",
          "text": [
            "[1, 2, 3, 4, 5, 6]\n"
          ]
        }
      ]
    },
    {
      "cell_type": "code",
      "source": [
        "# Find average of a list in python\n",
        "\n",
        "a = [2, 4, 6, 8, 10]\n",
        "sum=0\n",
        "count=0\n",
        "for i in range(len(a)):\n",
        "  sum += a[i]\n",
        "  count += 1\n",
        "  avg=sum//count\n",
        "print(\"Sum of list:\",sum)\n",
        "print(\"Count of list:\",count)\n",
        "print(\"Average of list:\",avg)"
      ],
      "metadata": {
        "id": "teZVd_tHOpGx",
        "colab": {
          "base_uri": "https://localhost:8080/"
        },
        "outputId": "927324dd-3d12-430b-e3c6-72dd615da242"
      },
      "execution_count": 67,
      "outputs": [
        {
          "output_type": "stream",
          "name": "stdout",
          "text": [
            "Sum of list: 30\n",
            "Count of list: 5\n",
            "Average of list: 6\n"
          ]
        }
      ]
    },
    {
      "cell_type": "code",
      "source": [
        "# Python | Intersection of two lists\n",
        "\n",
        "a = [4, 9, 1, 17, 11, 26, 28, 54, 69]\n",
        "b = [9, 9, 74, 21, 45, 11, 63, 28, 26]\n",
        "common=[]\n",
        "for i in a:\n",
        "  if i in b:\n",
        "    common.append(i)\n",
        "print(common)"
      ],
      "metadata": {
        "colab": {
          "base_uri": "https://localhost:8080/"
        },
        "id": "cH0NOam7XTIt",
        "outputId": "1ae5e612-d234-4c16-af12-467f53998f89"
      },
      "execution_count": 68,
      "outputs": [
        {
          "output_type": "stream",
          "name": "stdout",
          "text": [
            "[9, 11, 26, 28]\n"
          ]
        }
      ]
    },
    {
      "cell_type": "code",
      "source": [
        "# Check if two lists are identical in Python\n",
        "\n",
        "a = [1, 2, 4] #-- instead of 4 there is 3.\n",
        "b = [1, 2, 4]\n",
        "\n",
        "res= a==b\n",
        "print(\"First Output:\",res) # -- False\n",
        "\n",
        "a = [1, 2, 3] #-- instead of 4 there is 3.\n",
        "b = [1, 2, 4]\n",
        "\n",
        "res= a==b\n",
        "print(\"Second Output:\",res)"
      ],
      "metadata": {
        "colab": {
          "base_uri": "https://localhost:8080/"
        },
        "id": "0IKOci6aZ6Rg",
        "outputId": "e7dc2485-3b9e-4680-b8c7-fc628d1c6b26"
      },
      "execution_count": 74,
      "outputs": [
        {
          "output_type": "stream",
          "name": "stdout",
          "text": [
            "First Output: True\n",
            "Second Output: False\n"
          ]
        }
      ]
    },
    {
      "cell_type": "code",
      "source": [
        "# Position of maximum and minimum element in a list - Python\n",
        "\n",
        "a = [3, 5, 7, 2, 8, 1]\n",
        "\n",
        "mxvalue = mnvalue = a[0]\n",
        "mxposition = mnposition = 0\n",
        "\n",
        "for i, value in enumerate(a):\n",
        "    if value > mxvalue:\n",
        "        mxvalue = value\n",
        "        mxposition = i\n",
        "    if value < mnvalue:\n",
        "        mnvalue = value\n",
        "        mnposition = i\n",
        "\n",
        "print(mxposition)\n",
        "print(mnposition)"
      ],
      "metadata": {
        "colab": {
          "base_uri": "https://localhost:8080/"
        },
        "id": "gazIMG1XanxB",
        "outputId": "b09d3466-814a-4f67-947d-4396496d8299"
      },
      "execution_count": 81,
      "outputs": [
        {
          "output_type": "stream",
          "name": "stdout",
          "text": [
            "4\n",
            "5\n"
          ]
        }
      ]
    },
    {
      "cell_type": "code",
      "source": [
        "# Python - Union of two or more Lists\n",
        "a = [1, 2, 3, 4]\n",
        "b = [3, 4, 5, 6]\n",
        "c = a + b\n",
        "Unique=[]\n",
        "\n",
        "for i in range(len(c)):\n",
        "  if c[i] not in Unique:\n",
        "    Unique.append(c[i])\n",
        "print(Unique)"
      ],
      "metadata": {
        "colab": {
          "base_uri": "https://localhost:8080/"
        },
        "id": "--JQeWVebo9a",
        "outputId": "48347809-19ac-4f63-f0b9-b6dee427e391"
      },
      "execution_count": 94,
      "outputs": [
        {
          "output_type": "stream",
          "name": "stdout",
          "text": [
            "[1, 2, 3, 4, 5, 6]\n"
          ]
        }
      ]
    },
    {
      "cell_type": "code",
      "source": [
        "# List Product Excluding Duplicates - Python\n",
        "a = [1, 3, 5, 6, 3, 5, 6, 1]\n",
        "unique=[]\n",
        "product=1\n",
        "for i in range(len(a)):\n",
        "  if a[i] not in unique:\n",
        "    unique.append(a[i])\n",
        "\n",
        "for i in unique:\n",
        "  product=product*i\n",
        "print(product)"
      ],
      "metadata": {
        "colab": {
          "base_uri": "https://localhost:8080/"
        },
        "id": "8ULE372JhVuv",
        "outputId": "0de92740-0549-42fb-84cb-a88e5fe916a9"
      },
      "execution_count": 105,
      "outputs": [
        {
          "output_type": "stream",
          "name": "stdout",
          "text": [
            "90\n"
          ]
        }
      ]
    },
    {
      "cell_type": "code",
      "source": [],
      "metadata": {
        "id": "gP9Syk9ljeKZ"
      },
      "execution_count": null,
      "outputs": []
    }
  ]
}