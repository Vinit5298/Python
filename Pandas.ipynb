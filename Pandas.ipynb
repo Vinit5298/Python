{
  "nbformat": 4,
  "nbformat_minor": 0,
  "metadata": {
    "colab": {
      "provenance": [],
      "authorship_tag": "ABX9TyNDV+PGn5wt+1S1CNkuaQjG",
      "include_colab_link": true
    },
    "kernelspec": {
      "name": "python3",
      "display_name": "Python 3"
    },
    "language_info": {
      "name": "python"
    }
  },
  "cells": [
    {
      "cell_type": "markdown",
      "metadata": {
        "id": "view-in-github",
        "colab_type": "text"
      },
      "source": [
        "<a href=\"https://colab.research.google.com/github/Vinit5298/Python/blob/main/Pandas.ipynb\" target=\"_parent\"><img src=\"https://colab.research.google.com/assets/colab-badge.svg\" alt=\"Open In Colab\"/></a>"
      ]
    },
    {
      "cell_type": "markdown",
      "source": [
        "# Pandas in Python:\n",
        "\n",
        "Pandas is one of the most popular libraries for data analysis and manipulation.\n",
        "\n",
        "Python with Pandas is widely used in Statistics, Finance, Neuroscience, Economics, Web Analytics, Advertising, and many other fields."
      ],
      "metadata": {
        "id": "KsfrPF-htOgr"
      }
    },
    {
      "cell_type": "markdown",
      "source": [
        "# Pandas Tutorial:\n",
        "\n",
        "1. Pandas - Introduction & Features\n",
        "2. Install & Setup Pandas\n",
        "3. Create a Pandas Dataframes (Run First Program)\n",
        "4. Pandas Dataframes - Attributes & Methods\n",
        "5. Join Pandas DataFrame\n",
        "6. Concatenate Pandas Dataframe\n",
        "7. Create a Series\n",
        "8. Pandas Series - Attributes and Methods\n",
        "9. Combine two Pandas Series\n",
        "10. Categorical Data in Pandas\n",
        "11. Working with Categories in Pandas\n",
        "12. Read CSV in Pandas\n",
        "13. Read Excel in Pandas\n",
        "14. Indexing in Pandas\n",
        "15. Select Multiple Columns in Pandas\n",
        "16. Add a New Column in Pandas\n",
        "17. Delete rows/columns in Pandas\n",
        "18. Iterate over rows and columns in Pandas\n",
        "19. Sorting in Pandas\n",
        "20. Handles Duplicates in Pandas\n",
        "21. Clean the data in Pandas\n",
        "22. String Operations in Pandas\n",
        "23. Date Time Operations in Pandas\n",
        "24. Removes Whitespace in Pandas\n",
        "25. Group the data in Pandas\n",
        "26. Statistical Functions in Pandas\n",
        "27. Plot a DataFrame in Pandas"
      ],
      "metadata": {
        "id": "1pR1PbgJtfjO"
      }
    },
    {
      "cell_type": "markdown",
      "source": [
        "# Pandas - Introduction & Features\n",
        "\n",
        "What is Pandas?\n",
        "\n",
        "Answer: Pandas is a Powerful and easy to use, open-source tool built on top of the python programming language. It is useful for data analysis and manipulation. Python with pandas is widely used in Statistics, Finance, NeuroScience, Economics, Web Analytics, Advertising, etc.\n",
        "\n",
        "To work with data sets, clean them, and make them relevant for Data Science is what Pandas do.\n",
        "\n",
        "With that, easily load and read data sets in Excel, CSV, JSON, XML etc. formats with Pandas and work on them. Easily clean the wrong format data, remove duplicates, and do other tasks with Pandas.\n",
        "\n",
        "The Python Pandas Library was initially developed by Wes Mckinney in 2008. After 4 years in 2012, Chang She Joined Wes as another Contributor to the library."
      ],
      "metadata": {
        "id": "SCTQ7OtftmXy"
      }
    },
    {
      "cell_type": "markdown",
      "source": [
        "# What is a Dataframe?\n",
        "The Pandas Data frame is a two-Dimensional, tabular data, table with row and columns.\n",
        "The Dataframe( ) method is used to create a Dataframe and has the following parameters:\n",
        "\n",
        "1. Data: The data to be stored in the Pandas Dataframes\n",
        "\n",
        "2. Index: The Index values to be provided for the resultant frame.\n",
        "\n",
        "3. Columns: Set the column labels for the resultant frame if data doesn't mentioned before\n",
        "\n",
        "4. dtype: It is the datatype and only a single type is allowed.\n",
        "\n",
        "5. Copy: To copy the input data"
      ],
      "metadata": {
        "id": "9irqlSiYt8U3"
      }
    },
    {
      "cell_type": "code",
      "source": [
        "# Create a Pandas DataFrame\n",
        "\n",
        "import pandas as pd\n",
        "# Dataset\n",
        "data = {\n",
        "    'Student': ['Vinit','Sunil','Priyanshi','Parth','Bhushan'],\n",
        "    'Rank': [1, 2, 3, 4, 5],\n",
        "    'Marks': [95,90,85,80,75]\n",
        "}\n",
        "df = pd.DataFrame(data)\n",
        "print(\"Student Records\\n\\n\",df)\n",
        "# below 0,1,2,3,4 are the default indexes"
      ],
      "metadata": {
        "colab": {
          "base_uri": "https://localhost:8080/"
        },
        "id": "ja6dMK5Ou2On",
        "outputId": "7112d3c1-eeb9-44fd-e8e7-27b565f7abe2"
      },
      "execution_count": null,
      "outputs": [
        {
          "output_type": "stream",
          "name": "stdout",
          "text": [
            "Student Records\n",
            "\n",
            "      Student  Rank  Marks\n",
            "0      Vinit     1     95\n",
            "1      Sunil     2     90\n",
            "2  Priyanshi     3     85\n",
            "3      Parth     4     80\n",
            "4    Bhushan     5     75\n"
          ]
        }
      ]
    },
    {
      "cell_type": "code",
      "source": [
        "# Access a group of rows or column in a pandas dataframe\n",
        "import pandas as pd\n",
        "# Dataset\n",
        "data = {\n",
        "    'Student': ['Vinit','Sunil','Priyanshi','Parth','Bhushan'],\n",
        "    'Rank': [1, 2, 3, 4, 5],\n",
        "    'Marks': [95,90,85,80,75]\n",
        "}\n",
        "df = pd.DataFrame(data,index = ['RowA','RowB','RowC','RowD','RowE'])\n",
        "print(\"Student Records\\n\\n\",df)\n",
        "# Access the value in the student column corresponding to the RowA label\n",
        "print(\"\\nValue = \",df.loc['RowA','Student'])\n"
      ],
      "metadata": {
        "colab": {
          "base_uri": "https://localhost:8080/"
        },
        "id": "ybpul860wSZ5",
        "outputId": "b00b83fe-d8e3-4263-a00b-ebe8f7a88fdd"
      },
      "execution_count": null,
      "outputs": [
        {
          "output_type": "stream",
          "name": "stdout",
          "text": [
            "Student Records\n",
            "\n",
            "         Student  Rank  Marks\n",
            "RowA      Vinit     1     95\n",
            "RowB      Sunil     2     90\n",
            "RowC  Priyanshi     3     85\n",
            "RowD      Parth     4     80\n",
            "RowE    Bhushan     5     75\n",
            "\n",
            "Value =  Vinit\n"
          ]
        }
      ]
    },
    {
      "cell_type": "code",
      "source": [
        "# Access a Group of rows or columns by integer positions in a Pandas Dataframe\n",
        "import pandas as pd\n",
        "# Dataset\n",
        "data = {\n",
        "    'Student': ['Vinit','Sunil','Priyanshi','Parth','Bhushan'],\n",
        "    'Rank': [1, 2, 3, 4, 5],\n",
        "    'Marks': [95,90,85,80,75]\n",
        "}\n",
        "df = pd.DataFrame(data,index = ['RowA','RowB','RowC','RowD','RowE'])\n",
        "print(\"Student Records\\n\\n\",df)\n",
        "# Access using rows or columns by integer positions\n",
        "print(\"\\nValue=\\n\",df.iloc[[0,2]])"
      ],
      "metadata": {
        "colab": {
          "base_uri": "https://localhost:8080/"
        },
        "id": "-PHFbYSHxcOp",
        "outputId": "95ded76b-cecb-4512-e0ac-20192e576154"
      },
      "execution_count": null,
      "outputs": [
        {
          "output_type": "stream",
          "name": "stdout",
          "text": [
            "Student Records\n",
            "\n",
            "         Student  Rank  Marks\n",
            "RowA      Vinit     1     95\n",
            "RowB      Sunil     2     90\n",
            "RowC  Priyanshi     3     85\n",
            "RowD      Parth     4     80\n",
            "RowE    Bhushan     5     75\n",
            "\n",
            "Value=\n",
            "         Student  Rank  Marks\n",
            "RowA      Vinit     1     95\n",
            "RowC  Priyanshi     3     85\n"
          ]
        }
      ]
    },
    {
      "cell_type": "code",
      "source": [
        "# Name our Indexes in a Pandas DataFrames\n",
        "import pandas as pd\n",
        "# Dataset\n",
        "data = {\n",
        "    'Student': ['Vinit','Sunil','Priyanshi','Parth','Bhushan'],\n",
        "    'Rank': [1, 2, 3, 4, 5],\n",
        "    'Marks': [95,90,85,80,75]\n",
        "}\n",
        "# Use the index argument to set your indexes\n",
        "df = pd.DataFrame(data,index = ['Student1','Student2','Student3','Student4','Student5',])\n",
        "print(\"Student Records\\n\\n\",df)"
      ],
      "metadata": {
        "colab": {
          "base_uri": "https://localhost:8080/"
        },
        "id": "MuzjEOJzyrH3",
        "outputId": "31eda7eb-483f-4264-94a8-7e697d1f7e8b"
      },
      "execution_count": null,
      "outputs": [
        {
          "output_type": "stream",
          "name": "stdout",
          "text": [
            "Student Records\n",
            "\n",
            "             Student  Rank  Marks\n",
            "Student1      Vinit     1     95\n",
            "Student2      Sunil     2     90\n",
            "Student3  Priyanshi     3     85\n",
            "Student4      Parth     4     80\n",
            "Student5    Bhushan     5     75\n"
          ]
        }
      ]
    },
    {
      "cell_type": "code",
      "source": [
        "# Iterate a Pandas DataFrame\n",
        "import pandas as pd\n",
        "# Dataset\n",
        "data = {\n",
        "    'Student': ['Vinit','Sunil','Priyanshi','Parth','Bhushan'],\n",
        "    'Rank': [1, 2, 3, 4, 5],\n",
        "    'Marks': [95,90,85,80,75]\n",
        "}\n",
        "\n",
        "df = pd.DataFrame(data,index = ['Student1','Student2','Student3','Student4','Student5'])\n",
        "print(\"Student Records\\n\\n\",df)\n",
        "\n",
        "# Iterating\n",
        "print(\"\\nDisplaying the columns:\")\n",
        "for col in df:\n",
        "  print(col)"
      ],
      "metadata": {
        "colab": {
          "base_uri": "https://localhost:8080/"
        },
        "id": "_DWKH6rMzfFZ",
        "outputId": "e04907ab-6978-453e-c738-b9e9e2a09380"
      },
      "execution_count": null,
      "outputs": [
        {
          "output_type": "stream",
          "name": "stdout",
          "text": [
            "Student Records\n",
            "\n",
            "             Student  Rank  Marks\n",
            "Student1      Vinit     1     95\n",
            "Student2      Sunil     2     90\n",
            "Student3  Priyanshi     3     85\n",
            "Student4      Parth     4     80\n",
            "Student5    Bhushan     5     75\n",
            "\n",
            "Displaying the columns:\n",
            "Student\n",
            "Rank\n",
            "Marks\n"
          ]
        }
      ]
    },
    {
      "cell_type": "markdown",
      "source": [
        "# DataFrame - Attributes & Methods:\n",
        "\n",
        "The Pandas DataFrame is a Two-Dimensional, tabular data, that uses the DataFrame() method to create a DataFrames.\n",
        "\n",
        "It is also uses different built-in attributes and methods for basic functionalities.\n",
        "\n",
        "\n",
        "1.   dtypes: Return the dtypes in the DataFrame\n",
        "2.   ndim: Return the number of dimensions of the DataFrame\n",
        "3. size: Return the number of elements in the DataFrame.\n",
        "4. shape: Return the dimensionality of the DataFrame in the form of tuple.\n",
        "5. index: Return the index of the DataFrame\n",
        "6. T: Transpose the rows and columns\n",
        "7. head(): Return the first n rows.\n",
        "8. tail(): Return the last n rows\n"
      ],
      "metadata": {
        "id": "OZrONcvb0ZzH"
      }
    },
    {
      "cell_type": "code",
      "source": [
        "# dtypes: return Datatype\n",
        "import pandas as pd\n",
        "# Dataset\n",
        "data = {\n",
        "    'Student': ['Vinit','Sunil','Priyanshi','Parth','Bhushan','Rohit'],\n",
        "    'Rank': [1, 2, 3, 4, 5, 6],\n",
        "    'Marks': [95,90,85,80,75,70]\n",
        "}\n",
        "df = pd.DataFrame(data,index = ['RowA','RowB','RowC','RowD','RowE','RowF'])\n",
        "print(\"Student Records\\n\\n\",df)\n",
        "# dtypes help us to return the datatypes,\n",
        "print(\"\\nDatatypes:\\n\",df.dtypes)"
      ],
      "metadata": {
        "colab": {
          "base_uri": "https://localhost:8080/"
        },
        "id": "_4_aAP5e0HQh",
        "outputId": "bfcd52b6-02d3-4951-af82-c26a4a5989ed"
      },
      "execution_count": null,
      "outputs": [
        {
          "output_type": "stream",
          "name": "stdout",
          "text": [
            "Student Records\n",
            "\n",
            "         Student  Rank  Marks\n",
            "RowA      Vinit     1     95\n",
            "RowB      Sunil     2     90\n",
            "RowC  Priyanshi     3     85\n",
            "RowD      Parth     4     80\n",
            "RowE    Bhushan     5     75\n",
            "RowF      Rohit     6     70\n",
            "\n",
            "Datatypes:\n",
            " Student    object\n",
            "Rank        int64\n",
            "Marks       int64\n",
            "dtype: object\n"
          ]
        }
      ]
    },
    {
      "cell_type": "code",
      "source": [
        "# ndim:\n",
        "import pandas as pd\n",
        "# Dataset\n",
        "data = {\n",
        "    'Student': ['Vinit','Sunil','Priyanshi','Parth','Bhushan','Rohit'],\n",
        "    'Rank': [1, 2, 3, 4, 5, 6],\n",
        "    'Marks': [95,90,85,80,75,70]\n",
        "}\n",
        "df = pd.DataFrame(data,index = ['RowA','RowB','RowC','RowD','RowE','RowF'])\n",
        "print(\"Student Records\\n\\n\",df)\n",
        "\n",
        "# Number of Dimensions in the DataFrame\n",
        "print(\"\\nNumber of Dimensions:\\n\",df.ndim)"
      ],
      "metadata": {
        "colab": {
          "base_uri": "https://localhost:8080/"
        },
        "id": "NjUwys2j2c_P",
        "outputId": "83834198-b38d-41b3-e352-6db434ca5665"
      },
      "execution_count": null,
      "outputs": [
        {
          "output_type": "stream",
          "name": "stdout",
          "text": [
            "Student Records\n",
            "\n",
            "         Student  Rank  Marks\n",
            "RowA      Vinit     1     95\n",
            "RowB      Sunil     2     90\n",
            "RowC  Priyanshi     3     85\n",
            "RowD      Parth     4     80\n",
            "RowE    Bhushan     5     75\n",
            "RowF      Rohit     6     70\n",
            "\n",
            "Number of Dimensions:\n",
            " 2\n"
          ]
        }
      ]
    },
    {
      "cell_type": "code",
      "source": [
        "# size:\n",
        "import pandas as pd\n",
        "# Dataset\n",
        "data = {\n",
        "    'Student': ['Vinit','Sunil','Priyanshi','Parth','Bhushan','Rohit'],\n",
        "    'Rank': [1, 2, 3, 4, 5, 6],\n",
        "    'Marks': [95,90,85,80,75,70]\n",
        "}\n",
        "df = pd.DataFrame(data,index = ['RowA','RowB','RowC','RowD','RowE','RowF'])\n",
        "print(\"Student Records\\n\\n\",df)\n",
        "\n",
        "print(\"\\nNumber of elements:\\n\",df.size)"
      ],
      "metadata": {
        "colab": {
          "base_uri": "https://localhost:8080/"
        },
        "id": "p5ny9_-V3q8N",
        "outputId": "67a593d3-874c-45d7-92f6-9b2b8b144c1d"
      },
      "execution_count": null,
      "outputs": [
        {
          "output_type": "stream",
          "name": "stdout",
          "text": [
            "Student Records\n",
            "\n",
            "         Student  Rank  Marks\n",
            "RowA      Vinit     1     95\n",
            "RowB      Sunil     2     90\n",
            "RowC  Priyanshi     3     85\n",
            "RowD      Parth     4     80\n",
            "RowE    Bhushan     5     75\n",
            "RowF      Rohit     6     70\n",
            "\n",
            "Number of elements:\n",
            " 18\n"
          ]
        }
      ]
    },
    {
      "cell_type": "code",
      "source": [
        "# shape:\n",
        "import pandas as pd\n",
        "# Dataset\n",
        "data = {\n",
        "    'Student': ['Vinit','Sunil','Priyanshi','Parth','Bhushan','Rohit'],\n",
        "    'Rank': [1, 2, 3, 4, 5, 6],\n",
        "    'Marks': [95,90,85,80,75,70]\n",
        "}\n",
        "df = pd.DataFrame(data,index = ['RowA','RowB','RowC','RowD','RowE','RowF'])\n",
        "print(\"Student Records\\n\\n\",df)\n",
        "print(\"\\nDimensions:\\n\",df.shape)"
      ],
      "metadata": {
        "colab": {
          "base_uri": "https://localhost:8080/"
        },
        "id": "rHcMxkzc4TH2",
        "outputId": "fc123d80-a3b2-4da0-a80c-5a594383aadb"
      },
      "execution_count": null,
      "outputs": [
        {
          "output_type": "stream",
          "name": "stdout",
          "text": [
            "Student Records\n",
            "\n",
            "         Student  Rank  Marks\n",
            "RowA      Vinit     1     95\n",
            "RowB      Sunil     2     90\n",
            "RowC  Priyanshi     3     85\n",
            "RowD      Parth     4     80\n",
            "RowE    Bhushan     5     75\n",
            "RowF      Rohit     6     70\n",
            "\n",
            "Dimensions:\n",
            " (6, 3)\n"
          ]
        }
      ]
    },
    {
      "cell_type": "code",
      "source": [
        "# index:\n",
        "import pandas as pd\n",
        "# Dataset\n",
        "data = {\n",
        "    'Student': ['Vinit','Sunil','Priyanshi','Parth','Bhushan','Rohit'],\n",
        "    'Rank': [1, 2, 3, 4, 5, 6],\n",
        "    'Marks': [95,90,85,80,75,70]\n",
        "}\n",
        "df = pd.DataFrame(data,index = ['RowA','RowB','RowC','RowD','RowE','RowF'])\n",
        "print(\"Student Records\\n\\n\",df)\n",
        "print(\"\\nDataFrame Index:\\n\",df.index)"
      ],
      "metadata": {
        "colab": {
          "base_uri": "https://localhost:8080/"
        },
        "id": "nSvileIH4lsX",
        "outputId": "3c75e5dc-4be1-4dc9-92bb-84b197df4dc3"
      },
      "execution_count": null,
      "outputs": [
        {
          "output_type": "stream",
          "name": "stdout",
          "text": [
            "Student Records\n",
            "\n",
            "         Student  Rank  Marks\n",
            "RowA      Vinit     1     95\n",
            "RowB      Sunil     2     90\n",
            "RowC  Priyanshi     3     85\n",
            "RowD      Parth     4     80\n",
            "RowE    Bhushan     5     75\n",
            "RowF      Rohit     6     70\n",
            "\n",
            "DataFrame Index:\n",
            " Index(['RowA', 'RowB', 'RowC', 'RowD', 'RowE', 'RowF'], dtype='object')\n"
          ]
        }
      ]
    },
    {
      "cell_type": "code",
      "source": [
        "# T: Transpose the rows and columns:\n",
        "import pandas as pd\n",
        "# Dataset\n",
        "data = {\n",
        "    'Student': ['Vinit','Sunil','Priyanshi','Parth','Bhushan','Rohit'],\n",
        "    'Rank': [1, 2, 3, 4, 5, 6],\n",
        "    'Marks': [95,90,85,80,75,70]\n",
        "}\n",
        "df = pd.DataFrame(data,index = ['RowA','RowB','RowC','RowD','RowE','RowF'])\n",
        "print(\"Student Records\\n\\n\",df)\n",
        "print(\"\\nTranspose:\\n\",df.T)"
      ],
      "metadata": {
        "colab": {
          "base_uri": "https://localhost:8080/"
        },
        "id": "iFX_JhPY5eNL",
        "outputId": "3df58b5e-2d9d-4673-c8ae-feab8b2744bc"
      },
      "execution_count": null,
      "outputs": [
        {
          "output_type": "stream",
          "name": "stdout",
          "text": [
            "Student Records\n",
            "\n",
            "         Student  Rank  Marks\n",
            "RowA      Vinit     1     95\n",
            "RowB      Sunil     2     90\n",
            "RowC  Priyanshi     3     85\n",
            "RowD      Parth     4     80\n",
            "RowE    Bhushan     5     75\n",
            "RowF      Rohit     6     70\n",
            "\n",
            "Dimensions:\n",
            "           RowA   RowB       RowC   RowD     RowE   RowF\n",
            "Student  Vinit  Sunil  Priyanshi  Parth  Bhushan  Rohit\n",
            "Rank         1      2          3      4        5      6\n",
            "Marks       95     90         85     80       75     70\n"
          ]
        }
      ]
    },
    {
      "cell_type": "code",
      "source": [
        "# head(): return the first n rows:\n",
        "import pandas as pd\n",
        "# Dataset\n",
        "data = {\n",
        "    'Student': ['Vinit','Sunil','Priyanshi','Parth','Bhushan','Rohit'],\n",
        "    'Rank': [1, 2, 3, 4, 5, 6],\n",
        "    'Marks': [95,90,85,80,75,70]\n",
        "}\n",
        "df = pd.DataFrame(data,index = ['RowA','RowB','RowC','RowD','RowE','RowF'])\n",
        "print(\"Student Records\\n\\n\",df)\n",
        "print(\"\\nhead:\\n\",df.head(2)) # We gave 2 so it will return 2 rows."
      ],
      "metadata": {
        "colab": {
          "base_uri": "https://localhost:8080/"
        },
        "id": "7b8g8DUc53tq",
        "outputId": "b51a7fc8-220f-4738-a851-b39cfa8d2f89"
      },
      "execution_count": null,
      "outputs": [
        {
          "output_type": "stream",
          "name": "stdout",
          "text": [
            "Student Records\n",
            "\n",
            "         Student  Rank  Marks\n",
            "RowA      Vinit     1     95\n",
            "RowB      Sunil     2     90\n",
            "RowC  Priyanshi     3     85\n",
            "RowD      Parth     4     80\n",
            "RowE    Bhushan     5     75\n",
            "RowF      Rohit     6     70\n",
            "\n",
            "head:\n",
            "      Student  Rank  Marks\n",
            "RowA   Vinit     1     95\n",
            "RowB   Sunil     2     90\n"
          ]
        }
      ]
    },
    {
      "cell_type": "code",
      "source": [
        "# tail(): return the first n rows:\n",
        "import pandas as pd\n",
        "# Dataset\n",
        "data = {\n",
        "    'Student': ['Vinit','Sunil','Priyanshi','Parth','Bhushan','Rohit'],\n",
        "    'Rank': [1, 2, 3, 4, 5, 6],\n",
        "    'Marks': [95,90,85,80,75,70]\n",
        "}\n",
        "df = pd.DataFrame(data,index = ['RowA','RowB','RowC','RowD','RowE','RowF'])\n",
        "print(\"Student Records\\n\\n\",df)\n",
        "print(\"\\ntail:\\n\",df.tail(2)) # We gave 2 so it will return last 2 rows."
      ],
      "metadata": {
        "colab": {
          "base_uri": "https://localhost:8080/"
        },
        "id": "-d_8lg096Uco",
        "outputId": "c7af5375-2171-457f-9a6f-5de4109a4240"
      },
      "execution_count": null,
      "outputs": [
        {
          "output_type": "stream",
          "name": "stdout",
          "text": [
            "Student Records\n",
            "\n",
            "         Student  Rank  Marks\n",
            "RowA      Vinit     1     95\n",
            "RowB      Sunil     2     90\n",
            "RowC  Priyanshi     3     85\n",
            "RowD      Parth     4     80\n",
            "RowE    Bhushan     5     75\n",
            "RowF      Rohit     6     70\n",
            "\n",
            "tail:\n",
            "       Student  Rank  Marks\n",
            "RowE  Bhushan     5     75\n",
            "RowF    Rohit     6     70\n"
          ]
        }
      ]
    },
    {
      "cell_type": "markdown",
      "source": [
        "# Join Pandas DataFrames:\n",
        "\n",
        "In Python, we can easily join Pandas DataFrames using the join() method. This will join the columns of the two different DataFrames."
      ],
      "metadata": {
        "id": "pGDWlmJQ7GVm"
      }
    },
    {
      "cell_type": "code",
      "source": [
        "import pandas as pd\n",
        "# Dataset\n",
        "data1 = {\n",
        "    'ID': [\"S01\",\"S02\",\"S03\",\"S04\",\"S05\",\"S06\",\"S07\"],\n",
        "    'Student': ['Vinit','Sunil','Priyanshi','Parth','Bhushan','Rohit','Vishal'],\n",
        "    'Rollno.': [101,102,103,104,105,106,107]\n",
        "}\n",
        "data2 = {\n",
        "    'Rank':[1,2,3,4,5,6,7],\n",
        "    'Marks':[96,92,89,87,84,81,79]\n",
        "}\n",
        "df1 = pd.DataFrame(data1,index = ['Student1','Student2','Student3','Student4','Student5','Student6','Student7'])\n",
        "print(\"Student Records\\n\\n\",df1)\n",
        "print()\n",
        "df2 = pd.DataFrame(data2,index = ['Student1','Student2','Student3','Student4','Student5','Student6','Student7'])\n",
        "print(\"Student Records\\n\\n\",df2)\n",
        "\n",
        "# Join two DataFrames\n",
        "resultdf = df1.join(df2)\n",
        "print(\"\\nResultant DataFrame:\\n\",resultdf)"
      ],
      "metadata": {
        "colab": {
          "base_uri": "https://localhost:8080/"
        },
        "id": "Mb9CFegc7ctO",
        "outputId": "4be7dbf3-5208-47e3-93f1-a36018140e6c"
      },
      "execution_count": null,
      "outputs": [
        {
          "output_type": "stream",
          "name": "stdout",
          "text": [
            "Student Records\n",
            "\n",
            "            ID    Student  Rollno.\n",
            "Student1  S01      Vinit      101\n",
            "Student2  S02      Sunil      102\n",
            "Student3  S03  Priyanshi      103\n",
            "Student4  S04      Parth      104\n",
            "Student5  S05    Bhushan      105\n",
            "Student6  S06      Rohit      106\n",
            "Student7  S07     Vishal      107\n",
            "\n",
            "Student Records\n",
            "\n",
            "           Rank  Marks\n",
            "Student1     1     96\n",
            "Student2     2     92\n",
            "Student3     3     89\n",
            "Student4     4     87\n",
            "Student5     5     84\n",
            "Student6     6     81\n",
            "Student7     7     79\n",
            "\n",
            "Resultant DataFrame:\n",
            "            ID    Student  Rollno.  Rank  Marks\n",
            "Student1  S01      Vinit      101     1     96\n",
            "Student2  S02      Sunil      102     2     92\n",
            "Student3  S03  Priyanshi      103     3     89\n",
            "Student4  S04      Parth      104     4     87\n",
            "Student5  S05    Bhushan      105     5     84\n",
            "Student6  S06      Rohit      106     6     81\n",
            "Student7  S07     Vishal      107     7     79\n"
          ]
        }
      ]
    },
    {
      "cell_type": "markdown",
      "source": [
        "# Concatenate Pandas DataFrames\n",
        "\n",
        "This will concate two DataFrames and denoted by concate()"
      ],
      "metadata": {
        "id": "wzDJPL4E9qTQ"
      }
    },
    {
      "cell_type": "code",
      "source": [
        "# Dataset\n",
        "data1 = {\n",
        "    'ID': [\"S01\",\"S02\",\"S03\",\"S04\"],\n",
        "    'Student': ['Vinit','Sunil','Priyanshi','Parth'],\n",
        "    'Rollno.': [101,102,103,104],\n",
        "    'Rank':[1,2,3,4],\n",
        "    'Marks':[96,92,89,87]\n",
        "}\n",
        "data2 = {\n",
        "    'ID': [\"S05\",\"S06\",\"S07\"],\n",
        "    'Student': ['Bhushan','Rohit','Vishal'],\n",
        "    'Rollno.': [105,106,107],\n",
        "    'Rank':[5,6,7],\n",
        "    'Marks':[84,81,79]\n",
        "}\n",
        "df1 = pd.DataFrame(data1, index=['Student1', 'Student2', 'Student3', 'Student4'])\n",
        "df2 = pd.DataFrame(data2, index=['Student5', 'Student6', 'Student7'])\n",
        "\n",
        "# Use pd.concat to add two DataFrames\n",
        "resultdf = pd.concat([df1, df2])\n",
        "print(\"\\nResultant DataFrame:\\n\", resultdf)"
      ],
      "metadata": {
        "colab": {
          "base_uri": "https://localhost:8080/"
        },
        "id": "45Htjuc695eK",
        "outputId": "d2f9fa70-fcda-4d2e-c663-2df8d45ca65f"
      },
      "execution_count": null,
      "outputs": [
        {
          "output_type": "stream",
          "name": "stdout",
          "text": [
            "\n",
            "Resultant DataFrame:\n",
            "            ID    Student  Rollno.  Rank  Marks\n",
            "Student1  S01      Vinit      101     1     96\n",
            "Student2  S02      Sunil      102     2     92\n",
            "Student3  S03  Priyanshi      103     3     89\n",
            "Student4  S04      Parth      104     4     87\n",
            "Student5  S05    Bhushan      105     5     84\n",
            "Student6  S06      Rohit      106     6     81\n",
            "Student7  S07     Vishal      107     7     79\n"
          ]
        }
      ]
    },
    {
      "cell_type": "markdown",
      "source": [
        "# Series in Pandas:\n",
        "\n",
        "Series in Pandas is a One-dimensional array, like a column in a table. It is a labeled array that can hold data of any type.\n",
        "\n",
        "*The Series()* method is used for this and has the following parameters:\n",
        "\n",
        "1. data: The data to be stored in the Pandas Series\n",
        "2. Index: The index values should have the same length as the data.\n",
        "3. dtype: It is the datatype for the output Series.\n",
        "4. name: Set the series name with the name parameter.\n",
        "5. copy: To copy the input data."
      ],
      "metadata": {
        "id": "vbD1x7rLIgHP"
      }
    },
    {
      "cell_type": "code",
      "source": [
        "# Create a Pandas Series:\n",
        "\n",
        "import pandas as pd\n",
        "# Data\n",
        "data = [10,20,40,80,100]\n",
        "\n",
        "# Create a Series Using the Series() method\n",
        "s = pd.Series(data)\n",
        "print(\"Series:\\n\",s)"
      ],
      "metadata": {
        "colab": {
          "base_uri": "https://localhost:8080/"
        },
        "id": "e313U8qwJa-P",
        "outputId": "e14d1579-1dd7-4b11-a4b4-df0996df8432"
      },
      "execution_count": null,
      "outputs": [
        {
          "output_type": "stream",
          "name": "stdout",
          "text": [
            "Series:\n",
            " 0     10\n",
            "1     20\n",
            "2     40\n",
            "3     80\n",
            "4    100\n",
            "dtype: int64\n"
          ]
        }
      ]
    },
    {
      "cell_type": "code",
      "source": [
        "# Access a Value from a Pandas Series:\n",
        "import pandas as pd\n",
        "# Data\n",
        "data = [10,20,40,80,100]\n",
        "\n",
        "# Create a Series Using the Series() method\n",
        "s = pd.Series(data)\n",
        "print(\"Series:\\n\",s)\n",
        "\n",
        "# Access a Value\n",
        "print(\"\\nValue from a Pandas Series:\",s[2])"
      ],
      "metadata": {
        "colab": {
          "base_uri": "https://localhost:8080/"
        },
        "id": "cSdHZMtOJ3yY",
        "outputId": "53865242-73ac-4dca-d0df-2b25c52fc31c"
      },
      "execution_count": null,
      "outputs": [
        {
          "output_type": "stream",
          "name": "stdout",
          "text": [
            "Series:\n",
            " 0     10\n",
            "1     20\n",
            "2     40\n",
            "3     80\n",
            "4    100\n",
            "dtype: int64\n",
            "\n",
            "Value from a Pandas Series: 40\n"
          ]
        }
      ]
    },
    {
      "cell_type": "code",
      "source": [
        "# Name your own Indexes in Pandas Series:\n",
        "import pandas as pd\n",
        "# Data\n",
        "data = [10,20,40,80,100]\n",
        "\n",
        "# Create a Series Using the Series() method\n",
        "s = pd.Series(data, index = [\"RowA\",\"RowB\",\"RowC\",\"RowD\",\"RowE\"])\n",
        "\n",
        "# Display the Series with our own index names:\n",
        "print(\"\\nSeries (with custom index labels):\\n\",s)"
      ],
      "metadata": {
        "colab": {
          "base_uri": "https://localhost:8080/"
        },
        "id": "mTWMat8XKQCy",
        "outputId": "f9400be6-9699-4a2d-d100-f7cf10395f35"
      },
      "execution_count": null,
      "outputs": [
        {
          "output_type": "stream",
          "name": "stdout",
          "text": [
            "\n",
            "Series (with custom index labels):\n",
            " RowA     10\n",
            "RowB     20\n",
            "RowC     40\n",
            "RowD     80\n",
            "RowE    100\n",
            "dtype: int64\n"
          ]
        }
      ]
    },
    {
      "cell_type": "code",
      "source": [
        "# Access a value from a Pandas Series with labels:\n",
        "\n",
        "import pandas as pd\n",
        "# Data\n",
        "data = [10,20,40,80,100]\n",
        "\n",
        "# Create a Series Using the Series() method\n",
        "s = pd.Series(data, index = [\"RowA\",\"RowB\",\"RowC\",\"RowD\",\"RowE\"])\n",
        "\n",
        "# Display the Series with our own index names:\n",
        "print(\"\\nSeries (with custom index labels):\\n\",s)\n",
        "\n",
        "# Access a value referring the label\n",
        "print(\"\\nValue from a Pandas Series with label RowC\\n\",s[\"RowC\"])"
      ],
      "metadata": {
        "colab": {
          "base_uri": "https://localhost:8080/"
        },
        "id": "U8zO2DdUK7dv",
        "outputId": "ca95f1e2-7da8-46c0-e243-e8f70af2f306"
      },
      "execution_count": null,
      "outputs": [
        {
          "output_type": "stream",
          "name": "stdout",
          "text": [
            "\n",
            "Series (with custom index labels):\n",
            " RowA     10\n",
            "RowB     20\n",
            "RowC     40\n",
            "RowD     80\n",
            "RowE    100\n",
            "dtype: int64\n",
            "\n",
            "Value from a Pandas Series with label RowC\n",
            " 40\n"
          ]
        }
      ]
    },
    {
      "cell_type": "markdown",
      "source": [
        "# Series- Attributes Methods:\n",
        "\n",
        "The Series in Pandas in a One-dimensional array that uses the Series() method to create a Series, but it also uses different built-in attributes and methods for basic functionalities.\n",
        "\n",
        "1. dtypes: Return the datatype in Series.\n",
        "2. ndim: Return the number of dimensions\n",
        "3. size: Return the number of elements.\n",
        "4. name: Return the name of Series.\n",
        "5. hasnans: Returns True if NaNs are in the Series.\n",
        "6. index: Return the index of Series.\n",
        "7. head(): Return the first n rows.\n",
        "8. tail(): Return the last n rows.\n",
        "9. info(): Display the Summary of the Series."
      ],
      "metadata": {
        "id": "oLIG-YNzMQVQ"
      }
    },
    {
      "cell_type": "code",
      "source": [
        "# dtypes:\n",
        "import pandas as pd\n",
        "# Data\n",
        "data = [10,20,40,80,100]\n",
        "\n",
        "# Create a Series Using the Series() method\n",
        "s = pd.Series(data)\n",
        "\n",
        "# Display the Series\n",
        "print(\"Series:\\n\",s)\n",
        "\n",
        "# dtypes:\n",
        "print(\"\\nDatatypes:\\n\",s.dtypes)"
      ],
      "metadata": {
        "colab": {
          "base_uri": "https://localhost:8080/"
        },
        "id": "QuP0cY-oOHuU",
        "outputId": "f886ebf3-cb4f-4e4c-a074-ea80b2ba8f4f"
      },
      "execution_count": null,
      "outputs": [
        {
          "output_type": "stream",
          "name": "stdout",
          "text": [
            "Series:\n",
            " 0     10\n",
            "1     20\n",
            "2     40\n",
            "3     80\n",
            "4    100\n",
            "dtype: int64\n",
            "\n",
            "Datatypes:\n",
            " int64\n"
          ]
        }
      ]
    },
    {
      "cell_type": "code",
      "source": [
        "# ndim:\n",
        "import pandas as pd\n",
        "# Data\n",
        "data = [10,20,40,80,100]\n",
        "\n",
        "# Create a Series Using the Series() method\n",
        "s = pd.Series(data)\n",
        "\n",
        "# Display the Series\n",
        "print(\"Series:\\n\",s)\n",
        "\n",
        "# dtypes:\n",
        "print(\"\\nSeries Dimensions:\\n\",s.ndim)"
      ],
      "metadata": {
        "colab": {
          "base_uri": "https://localhost:8080/"
        },
        "id": "DG0-0j-WOnLg",
        "outputId": "09962a55-4e20-4638-e4d4-1bc156c33983"
      },
      "execution_count": null,
      "outputs": [
        {
          "output_type": "stream",
          "name": "stdout",
          "text": [
            "Series:\n",
            " 0     10\n",
            "1     20\n",
            "2     40\n",
            "3     80\n",
            "4    100\n",
            "dtype: int64\n",
            "\n",
            "Series Dimensions:\n",
            " 1\n"
          ]
        }
      ]
    },
    {
      "cell_type": "code",
      "source": [
        "# size:\n",
        "import pandas as pd\n",
        "# Data\n",
        "data = [10,20,40,80,100]\n",
        "\n",
        "# Create a Series Using the Series() method\n",
        "s = pd.Series(data)\n",
        "\n",
        "# Display the Series\n",
        "print(\"Series:\\n\",s)\n",
        "\n",
        "# Return the number of Elements\n",
        "print(\"\\nSeries Size:\\n\",s.size)"
      ],
      "metadata": {
        "colab": {
          "base_uri": "https://localhost:8080/"
        },
        "id": "Y9tBZE6LOzO6",
        "outputId": "fd464629-6b00-4ea5-89f9-8185ff191f54"
      },
      "execution_count": null,
      "outputs": [
        {
          "output_type": "stream",
          "name": "stdout",
          "text": [
            "Series:\n",
            " 0     10\n",
            "1     20\n",
            "2     40\n",
            "3     80\n",
            "4    100\n",
            "dtype: int64\n",
            "\n",
            "Series Size:\n",
            " 5\n"
          ]
        }
      ]
    },
    {
      "cell_type": "code",
      "source": [
        "# name:\n",
        "import pandas as pd\n",
        "# Data\n",
        "data = [10,20,40,80,100]\n",
        "\n",
        "# Create a Series Using the Series() method\n",
        "s = pd.Series(data, name=\"MyNumberSeries\")\n",
        "\n",
        "# Display the Series\n",
        "print(\"Series:\\n\",s)\n",
        "\n",
        "# Return the name of Series:\n",
        "print(\"\\nSeries Name:\\n\",s.name)"
      ],
      "metadata": {
        "colab": {
          "base_uri": "https://localhost:8080/"
        },
        "id": "i2EvJxxoPAZO",
        "outputId": "dc8dfd11-0319-4af4-d765-c0f1f3102e89"
      },
      "execution_count": null,
      "outputs": [
        {
          "output_type": "stream",
          "name": "stdout",
          "text": [
            "Series:\n",
            " 0     10\n",
            "1     20\n",
            "2     40\n",
            "3     80\n",
            "4    100\n",
            "Name: MyNumberSeries, dtype: int64\n",
            "\n",
            "Series Name:\n",
            " MyNumberSeries\n"
          ]
        }
      ]
    },
    {
      "cell_type": "code",
      "source": [
        " # hasnan:\n",
        "import numpy as np\n",
        "import pandas as pd\n",
        "# Data\n",
        "data = [10,20,40,80,100,np.nan]\n",
        "\n",
        "# Create a Series Using the Series() method\n",
        "s = pd.Series(data, name=\"MyNumberSeries\")\n",
        "\n",
        "# Display the Series\n",
        "print(\"Series:\\n\",s)\n",
        "# Check the NAN(Not a Number value) in the Series:\n",
        "print(\"\\nDoes the Series has NaN:\",s.hasnans)"
      ],
      "metadata": {
        "colab": {
          "base_uri": "https://localhost:8080/"
        },
        "id": "ciAS5uHHP4Jo",
        "outputId": "d970794c-92b0-42fc-ef0f-3a4d33f4533a"
      },
      "execution_count": null,
      "outputs": [
        {
          "output_type": "stream",
          "name": "stdout",
          "text": [
            "Series:\n",
            " 0     10.0\n",
            "1     20.0\n",
            "2     40.0\n",
            "3     80.0\n",
            "4    100.0\n",
            "5      NaN\n",
            "Name: MyNumberSeries, dtype: float64\n",
            "\n",
            "Does the Series has NaN: True\n"
          ]
        }
      ]
    },
    {
      "cell_type": "code",
      "source": [
        "# index:\n",
        "import pandas as pd\n",
        "# Data\n",
        "data = [10,20,40,80,100]\n",
        "\n",
        "# Create a Series Using the Series() method\n",
        "s = pd.Series(data, index = [\"Num1\",\"Num2\",\"Num3\",\"Num4\",\"Num5\",], name=\"MyNumberSeries\")\n",
        "\n",
        "# Display the Series\n",
        "print(\"Series:\\n\",s)\n",
        "\n",
        "# Return the indexes of Series:\n",
        "print(\"\\nSeries Name:\\n\",s.index)"
      ],
      "metadata": {
        "colab": {
          "base_uri": "https://localhost:8080/"
        },
        "id": "dntC_CYIQkiu",
        "outputId": "3ea894b6-ff97-42c8-853f-c1433a1b147a"
      },
      "execution_count": null,
      "outputs": [
        {
          "output_type": "stream",
          "name": "stdout",
          "text": [
            "Series:\n",
            " Num1     10\n",
            "Num2     20\n",
            "Num3     40\n",
            "Num4     80\n",
            "Num5    100\n",
            "Name: MyNumberSeries, dtype: int64\n",
            "\n",
            "Series Name:\n",
            " Index(['Num1', 'Num2', 'Num3', 'Num4', 'Num5'], dtype='object')\n"
          ]
        }
      ]
    },
    {
      "cell_type": "code",
      "source": [
        "# head():\n",
        "import pandas as pd\n",
        "# Data\n",
        "data = [10,20,40,80,100,200,300,500]\n",
        "\n",
        "# Create a Series Using the Series() method\n",
        "s = pd.Series(data, name=\"MyNumberSeries\")\n",
        "\n",
        "# Display the Series\n",
        "print(\"Series:\\n\",s)\n",
        "\n",
        "# Return the first n rows:\n",
        "print(\"\\nThe first 5 rows of the Series:\\n\",s.head())\n",
        "print(\"\\nThe first 2 rows of the Series:\\n\",s.head(2))"
      ],
      "metadata": {
        "colab": {
          "base_uri": "https://localhost:8080/"
        },
        "id": "VaBzRSC8RQ5U",
        "outputId": "f9f7b463-c0d1-4573-ae2f-56771d5cb70e"
      },
      "execution_count": null,
      "outputs": [
        {
          "output_type": "stream",
          "name": "stdout",
          "text": [
            "Series:\n",
            " 0     10\n",
            "1     20\n",
            "2     40\n",
            "3     80\n",
            "4    100\n",
            "5    200\n",
            "6    300\n",
            "7    500\n",
            "Name: MyNumberSeries, dtype: int64\n",
            "\n",
            "The first 5 rows of the Series:\n",
            " 0     10\n",
            "1     20\n",
            "2     40\n",
            "3     80\n",
            "4    100\n",
            "Name: MyNumberSeries, dtype: int64\n",
            "\n",
            "The first 2 rows of the Series:\n",
            " 0    10\n",
            "1    20\n",
            "Name: MyNumberSeries, dtype: int64\n"
          ]
        }
      ]
    },
    {
      "cell_type": "code",
      "source": [
        "# tail():\n",
        "import pandas as pd\n",
        "# Data\n",
        "data = [10,20,40,80,100,200,300,500]\n",
        "\n",
        "# Create a Series Using the Series() method\n",
        "s = pd.Series(data, name=\"MyNumberSeries\")\n",
        "\n",
        "# Display the Series\n",
        "print(\"Series:\\n\",s)\n",
        "\n",
        "# Return the first n rows:\n",
        "print(\"\\nThe last 5 rows of the Series:\\n\",s.tail())\n",
        "print(\"\\nThe last 2 rows of the Series:\\n\",s.tail(2))"
      ],
      "metadata": {
        "colab": {
          "base_uri": "https://localhost:8080/"
        },
        "id": "wmvT1ImCR90E",
        "outputId": "257689ce-e1c2-45f8-f132-91b1840c89a9"
      },
      "execution_count": null,
      "outputs": [
        {
          "output_type": "stream",
          "name": "stdout",
          "text": [
            "Series:\n",
            " 0     10\n",
            "1     20\n",
            "2     40\n",
            "3     80\n",
            "4    100\n",
            "5    200\n",
            "6    300\n",
            "7    500\n",
            "Name: MyNumberSeries, dtype: int64\n",
            "\n",
            "The last 5 rows of the Series:\n",
            " 3     80\n",
            "4    100\n",
            "5    200\n",
            "6    300\n",
            "7    500\n",
            "Name: MyNumberSeries, dtype: int64\n",
            "\n",
            "The last 2 rows of the Series:\n",
            " 6    300\n",
            "7    500\n",
            "Name: MyNumberSeries, dtype: int64\n"
          ]
        }
      ]
    },
    {
      "cell_type": "code",
      "source": [
        "# info():\n",
        "import pandas as pd\n",
        "# Data\n",
        "data = [10,20,40,80,100]\n",
        "\n",
        "# Create a Series Using the Series() method\n",
        "s = pd.Series(data, index = [\"Num1\",\"Num2\",\"Num3\",\"Num4\",\"Num5\"], name=\"MyNumberSeries\")\n",
        "\n",
        "# Display the Series\n",
        "print(\"Series:\\n\",s)\n",
        "\n",
        "# Return the first n rows:\n",
        "print(\"\\nSeries Summary:\\n\",s.info())"
      ],
      "metadata": {
        "colab": {
          "base_uri": "https://localhost:8080/"
        },
        "id": "-btC4BjUSMLC",
        "outputId": "318b2f0b-8eac-4401-c898-971efa35b1ea"
      },
      "execution_count": null,
      "outputs": [
        {
          "output_type": "stream",
          "name": "stdout",
          "text": [
            "Series:\n",
            " Num1     10\n",
            "Num2     20\n",
            "Num3     40\n",
            "Num4     80\n",
            "Num5    100\n",
            "Name: MyNumberSeries, dtype: int64\n",
            "<class 'pandas.core.series.Series'>\n",
            "Index: 5 entries, Num1 to Num5\n",
            "Series name: MyNumberSeries\n",
            "Non-Null Count  Dtype\n",
            "--------------  -----\n",
            "5 non-null      int64\n",
            "dtypes: int64(1)\n",
            "memory usage: 80.0+ bytes\n",
            "\n",
            "Series Summary:\n",
            " None\n"
          ]
        }
      ]
    },
    {
      "cell_type": "markdown",
      "source": [
        "# Combine Two Pandas Series:\n",
        "\n",
        "To Combine two Pandas Series into one in Python, use the combine() method. It uses a Specific function for the decision, mentioned by the user as a Parameter of the combine() method."
      ],
      "metadata": {
        "id": "895eHokiRYin"
      }
    },
    {
      "cell_type": "code",
      "source": [
        "# Combine two Pandas Series:\n",
        "import pandas as pd\n",
        "# data\n",
        "data1 = [10,20,40,80,100]\n",
        "data2 = [25,5,75,95,45]\n",
        "\n",
        "# Create a Series using the Series() method,\n",
        "series1 = pd.Series(data1)\n",
        "series2 = pd.Series(data2)\n",
        "\n",
        "# Display the Series,\n",
        "print(\"Series1:\\n\",series1)\n",
        "print(\"\\nSeries2:\\n\",series2)\n",
        "\n",
        "# The function returns the largest value\n",
        "def demo(x1,x2):\n",
        "  if(x1 > x2):\n",
        "    return x1\n",
        "  else:\n",
        "    return x2\n",
        "\n",
        "# Combine two Series into one:\n",
        "result = series1.combine(series2,demo)\n",
        "\n",
        "# Display the result\n",
        "print(\"\\nAfter Combining\\n\",result)"
      ],
      "metadata": {
        "colab": {
          "base_uri": "https://localhost:8080/"
        },
        "id": "oI9RTFnkSZb2",
        "outputId": "4b963b8e-fa8c-42bb-c0b2-d019835a1df2"
      },
      "execution_count": null,
      "outputs": [
        {
          "output_type": "stream",
          "name": "stdout",
          "text": [
            "Series1:\n",
            " 0     10\n",
            "1     20\n",
            "2     40\n",
            "3     80\n",
            "4    100\n",
            "dtype: int64\n",
            "\n",
            "Series2:\n",
            " 0    25\n",
            "1     5\n",
            "2    75\n",
            "3    95\n",
            "4    45\n",
            "dtype: int64\n",
            "\n",
            "After Combining\n",
            " 0     25\n",
            "1     20\n",
            "2     75\n",
            "3     95\n",
            "4    100\n",
            "dtype: int64\n"
          ]
        }
      ]
    },
    {
      "cell_type": "markdown",
      "source": [
        "# Categorical Data:\n",
        "\n",
        "It is a Pandas datatype corresponding to categorical variable in statistics. A categorical variable takes on a limited number of possible values.\n",
        "\n",
        "Examples: gender, blood type, country affiliation, rating, etc."
      ],
      "metadata": {
        "id": "DejhMSi9USaU"
      }
    },
    {
      "cell_type": "code",
      "source": [
        "# Create Categorical Series in Pandas:\n",
        "\n",
        "import pandas as pd\n",
        "\n",
        "# Create a Categorical Series\n",
        "s = pd.Series(data=[\"v\", \"i\", \"n\", \"i\", \"t\"], dtype=\"category\")\n",
        "\n",
        "# Display the Series:\n",
        "print(\"Series = \\n\",s)"
      ],
      "metadata": {
        "colab": {
          "base_uri": "https://localhost:8080/"
        },
        "id": "A5E2Uq3cU4hB",
        "outputId": "691ddfeb-89e5-4790-93fa-a1724affb41a"
      },
      "execution_count": null,
      "outputs": [
        {
          "output_type": "stream",
          "name": "stdout",
          "text": [
            "Series = \n",
            " 0    v\n",
            "1    i\n",
            "2    n\n",
            "3    i\n",
            "4    t\n",
            "dtype: category\n",
            "Categories (4, object): ['i', 'n', 't', 'v']\n"
          ]
        }
      ]
    },
    {
      "cell_type": "code",
      "source": [
        "# Create a Categorical Dataframe:\n",
        "\n",
        "import pandas as pd\n",
        "\n",
        "# Create a Categorical Dataframe\n",
        "df = pd.DataFrame(data={\"Cat1\":list(\"pqrs\"),\n",
        "                        \"Cat2\":list(\"pqrp\"),\n",
        "                        \"Cat3\":list(\"qrsp\"),\n",
        "                        \"Cat4\":list(\"srqp\"),})\n",
        "\n",
        "# Display the DataFrames\n",
        "print(\"DataFrame = \\n\",df)\n",
        "\n",
        "# Display the Datatypes\n",
        "print(\"\\nDatatypes of each Column = \\n\",df.dtypes)"
      ],
      "metadata": {
        "colab": {
          "base_uri": "https://localhost:8080/"
        },
        "id": "OdlDRraiVqiY",
        "outputId": "93bb7243-5de0-4b85-ef6c-c125245ae207"
      },
      "execution_count": null,
      "outputs": [
        {
          "output_type": "stream",
          "name": "stdout",
          "text": [
            "DataFrame = \n",
            "   Cat1 Cat2 Cat3 Cat4\n",
            "0    p    p    q    s\n",
            "1    q    q    r    r\n",
            "2    r    r    s    q\n",
            "3    s    p    p    p\n",
            "\n",
            "Datatypes of each Column = \n",
            " Cat1    object\n",
            "Cat2    object\n",
            "Cat3    object\n",
            "Cat4    object\n",
            "dtype: object\n"
          ]
        }
      ]
    },
    {
      "cell_type": "markdown",
      "source": [
        "# Working With Categories:\n",
        "\n",
        "1. Append new Categories\n",
        "2. Remove a category"
      ],
      "metadata": {
        "id": "t0ueEHE-Y-EL"
      }
    },
    {
      "cell_type": "code",
      "source": [
        "# Append new Categories in Pandas\n",
        "import pandas as pd\n",
        "# Create a Categorical Series\n",
        "s = pd.Series(data = [\"p\",\"q\",\"r\",\"s\",\"q\"], dtype=\"category\")\n",
        "\n",
        "# Display the Series:\n",
        "print(\"Series = \\n\",s)\n",
        "\n",
        "# Append a Category:\n",
        "s = s.cat.add_categories(\"t\")\n",
        "\n",
        "# Display the Series after Appending:\n",
        "print(\"\\nUpdated Categories\\n\",s)"
      ],
      "metadata": {
        "colab": {
          "base_uri": "https://localhost:8080/"
        },
        "id": "WkhlE6C0ZGAa",
        "outputId": "fc097c40-995b-4b35-ed35-6c92ecc030e8"
      },
      "execution_count": null,
      "outputs": [
        {
          "output_type": "stream",
          "name": "stdout",
          "text": [
            "Series = \n",
            " 0    p\n",
            "1    q\n",
            "2    r\n",
            "3    s\n",
            "4    q\n",
            "dtype: category\n",
            "Categories (4, object): ['p', 'q', 'r', 's']\n",
            "\n",
            "Updated Categories\n",
            " 0    p\n",
            "1    q\n",
            "2    r\n",
            "3    s\n",
            "4    q\n",
            "dtype: category\n",
            "Categories (5, object): ['p', 'q', 'r', 's', 't']\n"
          ]
        }
      ]
    },
    {
      "cell_type": "code",
      "source": [
        "# Removes a Category in Pandas\n",
        "\n",
        "import pandas as pd\n",
        "# Create a Categorical Series\n",
        "s = pd.Series(data = [\"p\",\"q\",\"r\",\"s\",\"q\"], dtype=\"category\")\n",
        "\n",
        "# Display the Series:\n",
        "print(\"Series = \\n\",s)\n",
        "\n",
        "# Remove a Category:\n",
        "s = s.cat.remove_categories(\"r\")\n",
        "\n",
        "# Display the Series after Appending:\n",
        "print(\"\\nUpdated Categories\\n\",s)"
      ],
      "metadata": {
        "colab": {
          "base_uri": "https://localhost:8080/"
        },
        "id": "7SbrwY0WfYfT",
        "outputId": "92f6cc26-5a14-4928-edac-7f6da7533c20"
      },
      "execution_count": null,
      "outputs": [
        {
          "output_type": "stream",
          "name": "stdout",
          "text": [
            "Series = \n",
            " 0    p\n",
            "1    q\n",
            "2    r\n",
            "3    s\n",
            "4    q\n",
            "dtype: category\n",
            "Categories (4, object): ['p', 'q', 'r', 's']\n",
            "\n",
            "Updated Categories\n",
            " 0      p\n",
            "1      q\n",
            "2    NaN\n",
            "3      s\n",
            "4      q\n",
            "dtype: category\n",
            "Categories (3, object): ['p', 'q', 's']\n"
          ]
        }
      ]
    },
    {
      "cell_type": "markdown",
      "source": [
        "# Read CSV\n",
        "\n",
        "One of the major benefits of working on Python is the ease to read and access CSV(Comma Separted Files). For this, Python is having the Pandas Library.\n",
        "\n",
        "To read CSV in Python Pandas using the read_csv() method."
      ],
      "metadata": {
        "id": "wMII86hog1Ny"
      }
    },
    {
      "cell_type": "code",
      "source": [
        "# Read a CSV in Pandas\n",
        "\n",
        "import pandas as pd\n",
        "# Input CSV File\n",
        "# Loading CSV in a DataFrame\n",
        "df = pd.read_csv(\"/content/PandasFile1.csv\")\n",
        "\n",
        "# Display the CSV file records\n",
        "print(\"Our DataFrame = \\n\",df)"
      ],
      "metadata": {
        "colab": {
          "base_uri": "https://localhost:8080/"
        },
        "id": "qWwdH9vQgozN",
        "outputId": "89e82de4-01b7-45da-d584-cb3d3ce9521e"
      },
      "execution_count": null,
      "outputs": [
        {
          "output_type": "stream",
          "name": "stdout",
          "text": [
            "Our DataFrame = \n",
            "          Student  Rank  Marks\n",
            "0          Vinit     1     98\n",
            "1      Priyanshi     2     97\n",
            "2          Sunil     3     96\n",
            "3         Suyash     4     95\n",
            "4         Vishal     5     94\n",
            "5          Parth     6     93\n",
            "6    Yash Rimjha     7     92\n",
            "7   Yash Agrawal     8     91\n",
            "8       Shubham      9     90\n",
            "9          Nihar    10     89\n",
            "10         Sawan    11     88\n",
            "11       Saransh    12     87\n"
          ]
        }
      ]
    },
    {
      "cell_type": "code",
      "source": [
        "# Display the Top Nth Rows of a DataFrames:\n",
        "\n",
        "import pandas as pd\n",
        "# Input CSV File\n",
        "# Loading CSV in a DataFrame\n",
        "df = pd.read_csv(\"/content/PandasFile1.csv\")\n",
        "\n",
        "# Display the CSV file records\n",
        "print(\"Our DataFrame = \\n\",df)\n",
        "\n",
        "# Display the top nth Rows:\n",
        "print(\"\\nTop 5 rows\\n\",df.head()) # Bydefault shows top 5 rows\n",
        "print(\"\\nTop 2 rows\\n\",df.head(2)) # Now showing only first 2 rows"
      ],
      "metadata": {
        "id": "5i_Rw0KUjWVl",
        "colab": {
          "base_uri": "https://localhost:8080/"
        },
        "outputId": "ab769490-abd6-4f3b-fe68-bcb4aa016646"
      },
      "execution_count": null,
      "outputs": [
        {
          "output_type": "stream",
          "name": "stdout",
          "text": [
            "Our DataFrame = \n",
            "          Student  Rank  Marks\n",
            "0          Vinit     1     98\n",
            "1      Priyanshi     2     97\n",
            "2          Sunil     3     96\n",
            "3         Suyash     4     95\n",
            "4         Vishal     5     94\n",
            "5          Parth     6     93\n",
            "6    Yash Rimjha     7     92\n",
            "7   Yash Agrawal     8     91\n",
            "8       Shubham      9     90\n",
            "9          Nihar    10     89\n",
            "10         Sawan    11     88\n",
            "11       Saransh    12     87\n",
            "\n",
            "Top 5 rows\n",
            "      Student  Rank  Marks\n",
            "0      Vinit     1     98\n",
            "1  Priyanshi     2     97\n",
            "2      Sunil     3     96\n",
            "3     Suyash     4     95\n",
            "4     Vishal     5     94\n",
            "\n",
            "Top 2 rows\n",
            "      Student  Rank  Marks\n",
            "0      Vinit     1     98\n",
            "1  Priyanshi     2     97\n"
          ]
        }
      ]
    },
    {
      "cell_type": "code",
      "source": [
        "# Display the last Nth Rows of a DataFrame:\n",
        "\n",
        "# Display the Top Nth Rows of a DataFrames:\n",
        "\n",
        "import pandas as pd\n",
        "# Input CSV File\n",
        "# Loading CSV in a DataFrame\n",
        "df = pd.read_csv(\"/content/PandasFile1.csv\")\n",
        "\n",
        "# Display the CSV file records\n",
        "print(\"Our DataFrame = \\n\",df)\n",
        "\n",
        "# Display the top nth Rows:\n",
        "print(\"\\nlast 5 rows\\n\",df.tail()) # Bydefault shows last 5 rows\n",
        "print(\"\\nlast 2 rows\\n\",df.tail(2)) # Now showing only last 2 rows"
      ],
      "metadata": {
        "colab": {
          "base_uri": "https://localhost:8080/"
        },
        "id": "FC2xySJsl0bY",
        "outputId": "8d25b9dc-0af0-4c65-9133-f5148c281f2b"
      },
      "execution_count": null,
      "outputs": [
        {
          "output_type": "stream",
          "name": "stdout",
          "text": [
            "Our DataFrame = \n",
            "          Student  Rank  Marks\n",
            "0          Vinit     1     98\n",
            "1      Priyanshi     2     97\n",
            "2          Sunil     3     96\n",
            "3         Suyash     4     95\n",
            "4         Vishal     5     94\n",
            "5          Parth     6     93\n",
            "6    Yash Rimjha     7     92\n",
            "7   Yash Agrawal     8     91\n",
            "8       Shubham      9     90\n",
            "9          Nihar    10     89\n",
            "10         Sawan    11     88\n",
            "11       Saransh    12     87\n",
            "\n",
            "last 5 rows\n",
            "          Student  Rank  Marks\n",
            "7   Yash Agrawal     8     91\n",
            "8       Shubham      9     90\n",
            "9          Nihar    10     89\n",
            "10         Sawan    11     88\n",
            "11       Saransh    12     87\n",
            "\n",
            "last 2 rows\n",
            "     Student  Rank  Marks\n",
            "10    Sawan    11     88\n",
            "11  Saransh    12     87\n"
          ]
        }
      ]
    },
    {
      "cell_type": "markdown",
      "source": [
        "# Read Excel File:\n",
        "\n",
        "To read an Excel file in Python, we use the Pandas read_excel() method."
      ],
      "metadata": {
        "id": "nk4QnxU4mXfH"
      }
    },
    {
      "cell_type": "code",
      "source": [
        "# Read an Excel File in Pandas\n",
        "import pandas as pd\n",
        "# Input EXCEL File\n",
        "# Loading EXCEL in a DataFrame\n",
        "df = pd.read_excel(\"/content/PandasFile2.xlsx\")\n",
        "\n",
        "# Display the Excel file records\n",
        "print(\"Our DataFrame = \\n\",df)"
      ],
      "metadata": {
        "colab": {
          "base_uri": "https://localhost:8080/"
        },
        "id": "d-oggORFmMoN",
        "outputId": "0f5d7a0d-ebd9-4beb-95f9-da15f6ce513e"
      },
      "execution_count": null,
      "outputs": [
        {
          "output_type": "stream",
          "name": "stdout",
          "text": [
            "Our DataFrame = \n",
            "      Indian Players  Rank  Points\n",
            "0      Rohit Sharma     1     736\n",
            "1  Sachin Tendulkar     2     720\n",
            "2   Virender Sehwag     3     660\n",
            "3       Virat Kohli     4     650\n",
            "4       Yuvraj Sing     5     626\n",
            "5    Saurab Ganguly     6     599\n",
            "6    Shikhar Dhawan     7     582\n",
            "7    Gautam Gambhir     8     567\n",
            "8         K L Rahul     9     531\n",
            "9     Hardik Pandya    10     501\n"
          ]
        }
      ]
    },
    {
      "cell_type": "code",
      "source": [
        "# Display the Top nth Rows of the DataFrame in Pandas\n",
        "import pandas as pd\n",
        "# Input EXCEL File\n",
        "# Loading EXCEL in a DataFrame\n",
        "df = pd.read_excel(\"/content/PandasFile2.xlsx\")\n",
        "\n",
        "# Display the EXCEL file records\n",
        "print(\"Our DataFrame = \\n\",df)\n",
        "\n",
        "# Display the top nth Rows:\n",
        "print(\"\\nTop 5 rows\\n\",df.head()) # Bydefault shows Top 5 rows\n",
        "print(\"\\nTop 2 rows\\n\",df.head(2)) # Now showing only Top 2 rows"
      ],
      "metadata": {
        "colab": {
          "base_uri": "https://localhost:8080/"
        },
        "id": "RKxdEkZEpMo0",
        "outputId": "b653931d-45f5-40a9-f118-15f24bc76cf1"
      },
      "execution_count": null,
      "outputs": [
        {
          "output_type": "stream",
          "name": "stdout",
          "text": [
            "Our DataFrame = \n",
            "      Indian Players  Rank  Points\n",
            "0      Rohit Sharma     1     736\n",
            "1  Sachin Tendulkar     2     720\n",
            "2   Virender Sehwag     3     660\n",
            "3       Virat Kohli     4     650\n",
            "4       Yuvraj Sing     5     626\n",
            "5    Saurab Ganguly     6     599\n",
            "6    Shikhar Dhawan     7     582\n",
            "7    Gautam Gambhir     8     567\n",
            "8         K L Rahul     9     531\n",
            "9     Hardik Pandya    10     501\n",
            "\n",
            "Top 5 rows\n",
            "      Indian Players  Rank  Points\n",
            "0      Rohit Sharma     1     736\n",
            "1  Sachin Tendulkar     2     720\n",
            "2   Virender Sehwag     3     660\n",
            "3       Virat Kohli     4     650\n",
            "4       Yuvraj Sing     5     626\n",
            "\n",
            "Top 2 rows\n",
            "      Indian Players  Rank  Points\n",
            "0      Rohit Sharma     1     736\n",
            "1  Sachin Tendulkar     2     720\n"
          ]
        }
      ]
    },
    {
      "cell_type": "code",
      "source": [
        "# Display the Last nth Rows of the DataFrame in Pandas\n",
        "import pandas as pd\n",
        "# Input EXCEL File\n",
        "# Loading EXCEL in a DataFrame\n",
        "df = pd.read_excel(\"/content/PandasFile2.xlsx\")\n",
        "\n",
        "# Display the EXCEL file records\n",
        "print(\"Our DataFrame = \\n\",df)\n",
        "\n",
        "# Display the last nth Rows:\n",
        "print(\"\\nLast 5 rows\\n\",df.tail()) # Bydefault shows last 5 rows\n",
        "print(\"\\nLast 2 rows\\n\",df.tail(2)) # Now showing only last 2 rows"
      ],
      "metadata": {
        "colab": {
          "base_uri": "https://localhost:8080/"
        },
        "id": "akp_Mf1rp2Kt",
        "outputId": "9dff4ecd-61ae-45b1-d615-ea7f1f7c6ded"
      },
      "execution_count": null,
      "outputs": [
        {
          "output_type": "stream",
          "name": "stdout",
          "text": [
            "Our DataFrame = \n",
            "      Indian Players  Rank  Points\n",
            "0      Rohit Sharma     1     736\n",
            "1  Sachin Tendulkar     2     720\n",
            "2   Virender Sehwag     3     660\n",
            "3       Virat Kohli     4     650\n",
            "4       Yuvraj Sing     5     626\n",
            "5    Saurab Ganguly     6     599\n",
            "6    Shikhar Dhawan     7     582\n",
            "7    Gautam Gambhir     8     567\n",
            "8         K L Rahul     9     531\n",
            "9     Hardik Pandya    10     501\n",
            "\n",
            "Last 5 rows\n",
            "    Indian Players  Rank  Points\n",
            "5  Saurab Ganguly     6     599\n",
            "6  Shikhar Dhawan     7     582\n",
            "7  Gautam Gambhir     8     567\n",
            "8       K L Rahul     9     531\n",
            "9   Hardik Pandya    10     501\n",
            "\n",
            "Last 2 rows\n",
            "   Indian Players  Rank  Points\n",
            "8      K L Rahul     9     531\n",
            "9  Hardik Pandya    10     501\n"
          ]
        }
      ]
    },
    {
      "cell_type": "markdown",
      "source": [
        "# Indexing in Pandas\n",
        "\n",
        "We can easily index and select data in Pandas."
      ],
      "metadata": {
        "id": "NLVluQqDqi1i"
      }
    },
    {
      "cell_type": "code",
      "source": [
        "# Indexing in Pandas using the indexing operator[]\n",
        "\n",
        "import pandas as pd\n",
        "\n",
        "# Input CSV\n",
        "# Load the CSV into the DataFrame\n",
        "df = pd.read_csv(\"/content/PandasFile1.csv\",index_col=\"Student\")\n",
        "\n",
        "# Display the CSV file records\n",
        "print(\"Our DataFrame=\\n\",df)\n",
        "\n",
        "# Use the Indexing Operator\n",
        "result = df[\"Marks\"]\n",
        "print(\"\\n\",result)"
      ],
      "metadata": {
        "colab": {
          "base_uri": "https://localhost:8080/"
        },
        "id": "CibLt6uhqUaJ",
        "outputId": "6bc91776-19cf-4833-9d17-691be837789c"
      },
      "execution_count": null,
      "outputs": [
        {
          "output_type": "stream",
          "name": "stdout",
          "text": [
            "Our DataFrame=\n",
            "               Rank  Marks\n",
            "Student                  \n",
            "Vinit            1     98\n",
            "Priyanshi        2     97\n",
            "Sunil            3     96\n",
            "Suyash           4     95\n",
            "Vishal           5     94\n",
            "Parth            6     93\n",
            "Yash Rimjha      7     92\n",
            "Yash Agrawal     8     91\n",
            "Shubham          9     90\n",
            "Nihar           10     89\n",
            "Sawan           11     88\n",
            "Saransh         12     87\n",
            "\n",
            " Student\n",
            "Vinit           98\n",
            "Priyanshi       97\n",
            "Sunil           96\n",
            "Suyash          95\n",
            "Vishal          94\n",
            "Parth           93\n",
            "Yash Rimjha     92\n",
            "Yash Agrawal    91\n",
            "Shubham         90\n",
            "Nihar           89\n",
            "Sawan           88\n",
            "Saransh         87\n",
            "Name: Marks, dtype: int64\n"
          ]
        }
      ]
    },
    {
      "cell_type": "code",
      "source": [
        "# Indexing in Pandas Using loc[]\n",
        "import pandas as pd\n",
        "\n",
        "# Input CSV\n",
        "# Load the CSV into the DataFrame\n",
        "df = pd.read_csv(\"/content/PandasFile1.csv\",index_col=\"Student\")\n",
        "\n",
        "# Display the CSV file records\n",
        "print(\"Our DataFrame=\\n\",df)\n",
        "\n",
        "# Retrieve a single row\n",
        "print(\"\\n\",df.loc[\"Priyanshi\"])\n"
      ],
      "metadata": {
        "colab": {
          "base_uri": "https://localhost:8080/"
        },
        "id": "VAwBT0Ky6w34",
        "outputId": "1022a37a-8e9f-45c0-fbb8-53e718c01a35"
      },
      "execution_count": null,
      "outputs": [
        {
          "output_type": "stream",
          "name": "stdout",
          "text": [
            "Our DataFrame=\n",
            "               Rank  Marks\n",
            "Student                  \n",
            "Vinit            1     98\n",
            "Priyanshi        2     97\n",
            "Sunil            3     96\n",
            "Suyash           4     95\n",
            "Vishal           5     94\n",
            "Parth            6     93\n",
            "Yash Rimjha      7     92\n",
            "Yash Agrawal     8     91\n",
            "Shubham          9     90\n",
            "Nihar           10     89\n",
            "Sawan           11     88\n",
            "Saransh         12     87\n",
            "\n",
            " Rank      2\n",
            "Marks    97\n",
            "Name: Priyanshi, dtype: int64\n"
          ]
        }
      ]
    },
    {
      "cell_type": "code",
      "source": [
        "# Indexing in Pandas using iloc[]\n",
        "\n",
        "import pandas as pd\n",
        "\n",
        "# Input CSV\n",
        "# Load the CSV into the DataFrame\n",
        "df = pd.read_csv(\"/content/PandasFile1.csv\",index_col=\"Student\")\n",
        "\n",
        "# Display the CSV file records\n",
        "print(\"Our DataFrame=\\n\",df)\n",
        "\n",
        "# Retrieve row 3 records\n",
        "result = df.iloc[2]\n",
        "print(\"\\n\",result)"
      ],
      "metadata": {
        "colab": {
          "base_uri": "https://localhost:8080/"
        },
        "id": "YKgx-WDI7vXy",
        "outputId": "e75b60d8-0065-4cd1-c0cc-42b419af705e"
      },
      "execution_count": null,
      "outputs": [
        {
          "output_type": "stream",
          "name": "stdout",
          "text": [
            "Our DataFrame=\n",
            "               Rank  Marks\n",
            "Student                  \n",
            "Vinit            1     98\n",
            "Priyanshi        2     97\n",
            "Sunil            3     96\n",
            "Suyash           4     95\n",
            "Vishal           5     94\n",
            "Parth            6     93\n",
            "Yash Rimjha      7     92\n",
            "Yash Agrawal     8     91\n",
            "Shubham          9     90\n",
            "Nihar           10     89\n",
            "Sawan           11     88\n",
            "Saransh         12     87\n",
            "\n",
            " Rank      3\n",
            "Marks    96\n",
            "Name: Sunil, dtype: int64\n"
          ]
        }
      ]
    },
    {
      "cell_type": "markdown",
      "source": [
        "# Select Multiple Columns\n",
        "\n",
        "In Python, easily select multiple columns in a Pandas DataFrame. Select more than one column without using built-in functions.\n",
        "\n",
        "More than two columns can also be selected in a range.\n",
        "\n",
        "1. Select two columns:\n",
        "To select two specific columns from a Pandas DataFrame, mention the column names. Do not mentioned the column names you don't want to display.\n",
        "\n",
        "dataFrame[['Ranks','Marks']]\n"
      ],
      "metadata": {
        "id": "-0UfKWHhAsnp"
      }
    },
    {
      "cell_type": "code",
      "source": [
        "# Select two columns with Pandas:\n",
        "\n",
        "import pandas as pd\n",
        "# Dataset\n",
        "data = {\n",
        "    'Student': [\"Vinit\",\"Priyanshi\",\"Sunil\",\"Rohit\",\"Bhushan\"],\n",
        "    'Ranks': [1,2,3,4,5],\n",
        "    'Marks': [95,90,85,80,75]\n",
        "}\n",
        "\n",
        "df = pd.DataFrame(data)\n",
        "\n",
        "print(\"Student Records\\n\",df)\n",
        "print(\"\\n Selecting only two columns:\\n\",df[[\"Ranks\",\"Marks\"]])"
      ],
      "metadata": {
        "colab": {
          "base_uri": "https://localhost:8080/"
        },
        "id": "bMVz91b_aT-A",
        "outputId": "21889967-f1fd-4971-8de4-ecf5fb26ab00"
      },
      "execution_count": null,
      "outputs": [
        {
          "output_type": "stream",
          "name": "stdout",
          "text": [
            "Student Records\n",
            "      Student  Ranks  Marks\n",
            "0      Vinit      1     95\n",
            "1  Priyanshi      2     90\n",
            "2      Sunil      3     85\n",
            "3      Rohit      4     80\n",
            "4    Bhushan      5     75\n",
            "\n",
            " Selecting only two columns:\n",
            "    Ranks  Marks\n",
            "0      1     95\n",
            "1      2     90\n",
            "2      3     85\n",
            "3      4     80\n",
            "4      5     75\n"
          ]
        }
      ]
    },
    {
      "cell_type": "markdown",
      "source": [
        "2. Select multiple columns in a range:\n",
        "In a Pandas DataFrames, to select more than one column in a range, mention the index numbers in a range separated by a colon. The following selects columns 3rd to 5th.\n",
        "\n",
        "dataFrame[dataFrame.columns[2:5]]"
      ],
      "metadata": {
        "id": "taguZq_lBUaa"
      }
    },
    {
      "cell_type": "code",
      "source": [
        "# Select Multiple Columns in a Range:\n",
        "\n",
        "import pandas as pd\n",
        "# Dataset\n",
        "data = {\n",
        "    'Id': [\"S01\",\"S02\",\"S03\",\"S04\",\"S05\",],\n",
        "    'Student': [\"Vinit\",\"Priyanshi\",\"Sunil\",\"Rohit\",\"Bhushan\"],\n",
        "    'Rollno.': [101,102,103,104,105],\n",
        "    'Ranks': [1,2,3,4,5],\n",
        "    'Marks': [95,90,85,80,75],\n",
        "    'Address': [\"Central\",\"West\",\"North\",\"East\",\"South\"]\n",
        "}\n",
        "df = pd.DataFrame(data)\n",
        "print(\"Student Records\\n\",df)\n",
        "\n",
        "# Select columns 3rd to 5th\n",
        "print(\"\\nSelecting columns in a range:\\n\",df[df.columns[2:5]])"
      ],
      "metadata": {
        "colab": {
          "base_uri": "https://localhost:8080/"
        },
        "id": "GlFHw0S4CzzC",
        "outputId": "dd2099e4-21ee-42dc-9fb8-a452441b79ec"
      },
      "execution_count": null,
      "outputs": [
        {
          "output_type": "stream",
          "name": "stdout",
          "text": [
            "Student Records\n",
            "     Id    Student  Rollno.  Ranks  Marks  Address\n",
            "0  S01      Vinit      101      1     95  Central\n",
            "1  S02  Priyanshi      102      2     90     West\n",
            "2  S03      Sunil      103      3     85    North\n",
            "3  S04      Rohit      104      4     80     East\n",
            "4  S05    Bhushan      105      5     75    South\n",
            "\n",
            "Selecting columns in a range:\n",
            "    Rollno.  Ranks  Marks\n",
            "0      101      1     95\n",
            "1      102      2     90\n",
            "2      103      3     85\n",
            "3      104      4     80\n",
            "4      105      5     75\n"
          ]
        }
      ]
    },
    {
      "cell_type": "markdown",
      "source": [
        "# Add a New Column\n",
        "\n",
        "We will insert a column to an already created DataFrame.\n",
        "\n",
        "1. Add a new column using the insert() method (set the location).\n",
        "\n",
        "2. Assign a new column using the assign() method(place at the end)."
      ],
      "metadata": {
        "id": "Udmkfiytafvo"
      }
    },
    {
      "cell_type": "markdown",
      "source": [
        "1. To insert a new column into a DataFrame, use the insert() method. We can set the location, name and the values as a parameter.\n",
        "\n",
        "dataFrame.insert(2,\"rollno\",[101,102,..])\n",
        "\n",
        "The 1st Parameter of the insert() is the location in which we want the new column. The 2nd is the name of the new column and 3rd are the values of the new column."
      ],
      "metadata": {
        "id": "njulG1Xma6ki"
      }
    },
    {
      "cell_type": "code",
      "source": [
        "# Add a new column to a Pandas DataFrame using the insert() method.\n",
        "\n",
        "import pandas as pd\n",
        "# Dataset\n",
        "data = {\n",
        "    'Id': [\"S01\",\"S02\",\"S03\",\"S04\",\"S05\",],\n",
        "    'Student': [\"Vinit\",\"Priyanshi\",\"Sunil\",\"Rohit\",\"Bhushan\"],\n",
        "    'Ranks': [1,2,3,4,5],\n",
        "    'Marks': [95,90,85,80,75]\n",
        "}\n",
        "\n",
        "dataFrame = pd.DataFrame(data)\n",
        "print(\"Student Records\\n\",dataFrame)\n",
        "\n",
        "# Insert a new column\n",
        "dataFrame.insert(loc=2, column=\"Rollno.\", value=[101,102,103,104,105])\n",
        "print(\"\\nStudent Records after inserting a new column\\n\",dataFrame)"
      ],
      "metadata": {
        "id": "tUqn65w9GrXS",
        "colab": {
          "base_uri": "https://localhost:8080/"
        },
        "outputId": "0051660c-184f-411b-d0af-fd4ef47eb5d8"
      },
      "execution_count": null,
      "outputs": [
        {
          "output_type": "stream",
          "name": "stdout",
          "text": [
            "Student Records\n",
            "     Id    Student  Ranks  Marks\n",
            "0  S01      Vinit      1     95\n",
            "1  S02  Priyanshi      2     90\n",
            "2  S03      Sunil      3     85\n",
            "3  S04      Rohit      4     80\n",
            "4  S05    Bhushan      5     75\n",
            "\n",
            "Student Records after inserting a new column\n",
            "     Id    Student  Rollno.  Ranks  Marks\n",
            "0  S01      Vinit      101      1     95\n",
            "1  S02  Priyanshi      102      2     90\n",
            "2  S03      Sunil      103      3     85\n",
            "3  S04      Rohit      104      4     80\n",
            "4  S05    Bhushan      105      5     75\n"
          ]
        }
      ]
    },
    {
      "cell_type": "markdown",
      "source": [
        "2. To assign new columns to an already created Pandas DataFrame, use the assign() method.\n",
        "\n",
        "It adds a new column to the end. Set the new column with the column name as a parameter to assign() method:\n",
        "\n",
        "resultdf = dataFrame.assign(rollno=[101,102,..])"
      ],
      "metadata": {
        "id": "ssAK6xndc-u8"
      }
    },
    {
      "cell_type": "code",
      "source": [
        "# Add a new Column to a Pandas DataFrame using the assign() method.\n",
        "import pandas as pd\n",
        "# Dataset\n",
        "data = {\n",
        "    'Id': [\"S01\",\"S02\",\"S03\",\"S04\",\"S05\",],\n",
        "    'Student': [\"Vinit\",\"Priyanshi\",\"Sunil\",\"Rohit\",\"Bhushan\"],\n",
        "    'Ranks': [1,2,3,4,5],\n",
        "    'Marks': [95,90,85,80,75]\n",
        "}\n",
        "\n",
        "dataFrame = pd.DataFrame(data)\n",
        "print(\"Student Records\\n\",dataFrame)\n",
        "\n",
        "# Insert a new column using the assign() method,\n",
        "resultdf = dataFrame.assign(Rollno_=[101,102,103,104,105])\n",
        "print(\"\\nStudent Records after inserting a new column\\n\",resultdf)"
      ],
      "metadata": {
        "colab": {
          "base_uri": "https://localhost:8080/"
        },
        "id": "99b-WMNtcBao",
        "outputId": "7bd91f90-99a2-4db6-c9fc-e3e96bed7060"
      },
      "execution_count": null,
      "outputs": [
        {
          "output_type": "stream",
          "name": "stdout",
          "text": [
            "Student Records\n",
            "     Id    Student  Ranks  Marks\n",
            "0  S01      Vinit      1     95\n",
            "1  S02  Priyanshi      2     90\n",
            "2  S03      Sunil      3     85\n",
            "3  S04      Rohit      4     80\n",
            "4  S05    Bhushan      5     75\n",
            "\n",
            "Student Records after inserting a new column\n",
            "     Id    Student  Ranks  Marks  Rollno_\n",
            "0  S01      Vinit      1     95      101\n",
            "1  S02  Priyanshi      2     90      102\n",
            "2  S03      Sunil      3     85      103\n",
            "3  S04      Rohit      4     80      104\n",
            "4  S05    Bhushan      5     75      105\n"
          ]
        }
      ]
    },
    {
      "cell_type": "markdown",
      "source": [
        "# Delete Rows/Columns\n",
        "\n",
        "The drop() method is used in Python to delete rows/columns in a Pandas DataFrame. It is used to remove a particular row or column. Under the parameters of the drop() method, mentioned the column you want to delete with the axis.\n",
        "\n",
        "1. Drop Columns\n",
        "2. Drop rows"
      ],
      "metadata": {
        "id": "nVVARndAedTg"
      }
    },
    {
      "cell_type": "markdown",
      "source": [
        "1. The columns are dropped using the column names. The axis is set to 1 since we want to drop a columns axis can also be used for the drop() method to remove the specified column:\n",
        "\n",
        "axis = 'columns'\n",
        "or\n",
        "axis = 1"
      ],
      "metadata": {
        "id": "6wbdMOM6fUSN"
      }
    },
    {
      "cell_type": "code",
      "source": [
        "# Drop columns using drop():\n",
        "import pandas as pd\n",
        "# Dataset\n",
        "data = {\n",
        "    'Id': [\"S01\",\"S02\",\"S03\",\"S04\",\"S05\"],\n",
        "    'Student': [\"Vinit\",\"Priyanshi\",\"Sunil\",\"Rohit\",\"Bhushan\"],\n",
        "    'Ranks': [1,2,3,4,5],\n",
        "    'Marks': [95,90,85,80,75]\n",
        "}\n",
        "\n",
        "dataFrame = pd.DataFrame(data)\n",
        "print(\"Student Records\\n\",dataFrame)\n",
        "\n",
        "# Drop a column using the drop() method\n",
        "resultdf = dataFrame.drop(labels=\"Marks\", axis='columns')\n",
        "print(\"\\nStudent Records after dropping a column\\n\",resultdf)"
      ],
      "metadata": {
        "colab": {
          "base_uri": "https://localhost:8080/"
        },
        "id": "Fi8UiRsSdpbN",
        "outputId": "a790fe24-06d4-4551-980d-22d8d7d6a7e2"
      },
      "execution_count": null,
      "outputs": [
        {
          "output_type": "stream",
          "name": "stdout",
          "text": [
            "Student Records\n",
            "     Id    Student  Ranks  Marks\n",
            "0  S01      Vinit      1     95\n",
            "1  S02  Priyanshi      2     90\n",
            "2  S03      Sunil      3     85\n",
            "3  S04      Rohit      4     80\n",
            "4  S05    Bhushan      5     75\n",
            "\n",
            "Student Records after dropping a column\n",
            "     Id    Student  Ranks\n",
            "0  S01      Vinit      1\n",
            "1  S02  Priyanshi      2\n",
            "2  S03      Sunil      3\n",
            "3  S04      Rohit      4\n",
            "4  S05    Bhushan      5\n"
          ]
        }
      ]
    },
    {
      "cell_type": "markdown",
      "source": [
        "2. The rows are dropped using the index label set as a parameter of the drop() method. The rows of that particular label are removed. Set the axis to 0 since we want to drop a row. The rows axis i.e index can also be used for the drop() method to remove the specified row:\n",
        "\n",
        "axis = 'index'\n",
        "or\n",
        "axis = 0"
      ],
      "metadata": {
        "id": "JP4d1DUThGw-"
      }
    },
    {
      "cell_type": "code",
      "source": [
        "# Drop rows using drop():\n",
        "import pandas as pd\n",
        "# Dataset\n",
        "data = {\n",
        "    'Id': [\"S01\",\"S02\",\"S03\",\"S04\",\"S05\"],\n",
        "    'Student': [\"Vinit\",\"Priyanshi\",\"Sunil\",\"Rohit\",\"Bhushan\"],\n",
        "    'Ranks': [1,2,3,4,5],\n",
        "    'Marks': [95,90,85,80,75]\n",
        "}\n",
        "\n",
        "dataFrame = pd.DataFrame(data)\n",
        "print(\"Student Records\\n\",dataFrame)\n",
        "\n",
        "# Drop a row using the drop() method\n",
        "resultdf = dataFrame.drop(labels=1, axis='index')\n",
        "print(\"\\nStudent Records after dropping a row\\n\",resultdf)"
      ],
      "metadata": {
        "colab": {
          "base_uri": "https://localhost:8080/"
        },
        "id": "bnay3-IQgcEX",
        "outputId": "75b41cce-194c-49b8-bab1-a06e501dc046"
      },
      "execution_count": null,
      "outputs": [
        {
          "output_type": "stream",
          "name": "stdout",
          "text": [
            "Student Records\n",
            "     Id    Student  Ranks  Marks\n",
            "0  S01      Vinit      1     95\n",
            "1  S02  Priyanshi      2     90\n",
            "2  S03      Sunil      3     85\n",
            "3  S04      Rohit      4     80\n",
            "4  S05    Bhushan      5     75\n",
            "\n",
            "Student Records after dropping a row\n",
            "     Id  Student  Ranks  Marks\n",
            "0  S01    Vinit      1     95\n",
            "2  S03    Sunil      3     85\n",
            "3  S04    Rohit      4     80\n",
            "4  S05  Bhushan      5     75\n"
          ]
        }
      ]
    },
    {
      "cell_type": "markdown",
      "source": [
        "# Iterate over rows and columns:\n",
        "\n",
        "Iterate over rows and columns in a Pandas DataFrame.\n",
        "\n",
        "1. Iterate over rows\n",
        "2. Iterate over columns"
      ],
      "metadata": {
        "id": "3Ep38wtYjKUi"
      }
    },
    {
      "cell_type": "markdown",
      "source": [
        "To iterate over the rows, use the following methods in Pandas:\n",
        "\n",
        "1. iterrows(): To iterate over the rows\n",
        "2. itertuples(): To iterate over the rows"
      ],
      "metadata": {
        "id": "AFOpqnUvmR2M"
      }
    },
    {
      "cell_type": "code",
      "source": [
        "# iterrows(): To iterate the rows\n",
        "import pandas as pd\n",
        "# dataset\n",
        "data = {\n",
        "    'Id': [\"S01\",\"S02\",\"S03\",\"S04\",\"S05\"],\n",
        "    'Student': [\"Vinit\",\"Priyanshi\",\"Sunil\",\"Rohit\",\"Bhushan\"],\n",
        "    'Ranks': [1,2,3,4,5],\n",
        "    'Marks': [95,90,85,80,75]\n",
        "}\n",
        "\n",
        "dataFrame = pd.DataFrame(data)\n",
        "print(\"Student Records\\n\",dataFrame)\n",
        "\n",
        "# Iterate over rows:\n",
        "print(\"\\nDisplay the rows:\\n\")\n",
        "for row in dataFrame.iterrows():\n",
        "  print(\"\\n\",row)"
      ],
      "metadata": {
        "colab": {
          "base_uri": "https://localhost:8080/"
        },
        "id": "V6wVJFUWh_VQ",
        "outputId": "02e6e92c-a6ce-46f7-cf5e-d389b6e701d1"
      },
      "execution_count": null,
      "outputs": [
        {
          "output_type": "stream",
          "name": "stdout",
          "text": [
            "Student Records\n",
            "     Id    Student  Ranks  Marks\n",
            "0  S01      Vinit      1     95\n",
            "1  S02  Priyanshi      2     90\n",
            "2  S03      Sunil      3     85\n",
            "3  S04      Rohit      4     80\n",
            "4  S05    Bhushan      5     75\n",
            "\n",
            "Display the rows:\n",
            "\n",
            "\n",
            " (0, Id           S01\n",
            "Student    Vinit\n",
            "Ranks          1\n",
            "Marks         95\n",
            "Name: 0, dtype: object)\n",
            "\n",
            " (1, Id               S02\n",
            "Student    Priyanshi\n",
            "Ranks              2\n",
            "Marks             90\n",
            "Name: 1, dtype: object)\n",
            "\n",
            " (2, Id           S03\n",
            "Student    Sunil\n",
            "Ranks          3\n",
            "Marks         85\n",
            "Name: 2, dtype: object)\n",
            "\n",
            " (3, Id           S04\n",
            "Student    Rohit\n",
            "Ranks          4\n",
            "Marks         80\n",
            "Name: 3, dtype: object)\n",
            "\n",
            " (4, Id             S05\n",
            "Student    Bhushan\n",
            "Ranks            5\n",
            "Marks           75\n",
            "Name: 4, dtype: object)\n"
          ]
        }
      ]
    },
    {
      "cell_type": "code",
      "source": [
        "# itertuples(): To iterate the rows\n",
        "import pandas as pd\n",
        "# dataset\n",
        "data = {\n",
        "    'Id': [\"S01\",\"S02\",\"S03\",\"S04\",\"S05\"],\n",
        "    'Student': [\"Vinit\",\"Priyanshi\",\"Sunil\",\"Rohit\",\"Bhushan\"],\n",
        "    'Ranks': [1,2,3,4,5],\n",
        "    'Marks': [95,90,85,80,75]\n",
        "}\n",
        "\n",
        "dataFrame = pd.DataFrame(data)\n",
        "print(\"Student Records\\n\",dataFrame)\n",
        "\n",
        "# Iterate over rows:\n",
        "print(\"\\nDisplay the rows:\\n\")\n",
        "for row in dataFrame.itertuples():\n",
        "  print(\"\\n\",row)"
      ],
      "metadata": {
        "colab": {
          "base_uri": "https://localhost:8080/"
        },
        "id": "7iXYOy_Zm5Ap",
        "outputId": "c1904995-1025-4658-ef43-67755b13adf1"
      },
      "execution_count": null,
      "outputs": [
        {
          "output_type": "stream",
          "name": "stdout",
          "text": [
            "Student Records\n",
            "     Id    Student  Ranks  Marks\n",
            "0  S01      Vinit      1     95\n",
            "1  S02  Priyanshi      2     90\n",
            "2  S03      Sunil      3     85\n",
            "3  S04      Rohit      4     80\n",
            "4  S05    Bhushan      5     75\n",
            "\n",
            "Display the rows:\n",
            "\n",
            "\n",
            " Pandas(Index=0, Id='S01', Student='Vinit', Ranks=1, Marks=95)\n",
            "\n",
            " Pandas(Index=1, Id='S02', Student='Priyanshi', Ranks=2, Marks=90)\n",
            "\n",
            " Pandas(Index=2, Id='S03', Student='Sunil', Ranks=3, Marks=85)\n",
            "\n",
            " Pandas(Index=3, Id='S04', Student='Rohit', Ranks=4, Marks=80)\n",
            "\n",
            " Pandas(Index=4, Id='S05', Student='Bhushan', Ranks=5, Marks=75)\n"
          ]
        }
      ]
    },
    {
      "cell_type": "markdown",
      "source": [
        "2. Items() to iterate over columns:\n",
        "\n",
        "To iterate over columns, use the items()method.\n",
        "\n",
        "To iterate each and every column, use the Pandas items() method. The result will display a label object that is the name of the column and a column object that is what you have in the column."
      ],
      "metadata": {
        "id": "odCpgJZCn1Eb"
      }
    },
    {
      "cell_type": "code",
      "source": [
        "# Pandas items() to iterate over columns:\n",
        "\n",
        "import pandas as pd\n",
        "# dataset\n",
        "data = {\n",
        "    'Id': [\"S01\",\"S02\",\"S03\",\"S04\",\"S05\"],\n",
        "    'Student': [\"Vinit\",\"Priyanshi\",\"Sunil\",\"Rohit\",\"Bhushan\"],\n",
        "    'Ranks': [1,2,3,4,5],\n",
        "    'Marks': [95,90,85,80,75]\n",
        "}\n",
        "dataFrame = pd.DataFrame(data)\n",
        "print(\"Student Records\\n\",dataFrame)\n",
        "\n",
        "# Iterate over columns:\n",
        "print(\"\\nIterate over each column\\n\")\n",
        "for a,b in dataFrame.items():\n",
        "  print(\"\\n\",a)\n",
        "  print(b)"
      ],
      "metadata": {
        "colab": {
          "base_uri": "https://localhost:8080/"
        },
        "id": "RFrTZC2EnmQk",
        "outputId": "f08118f6-18ef-4890-e2d1-e807e9cceeea"
      },
      "execution_count": null,
      "outputs": [
        {
          "output_type": "stream",
          "name": "stdout",
          "text": [
            "Student Records\n",
            "     Id    Student  Ranks  Marks\n",
            "0  S01      Vinit      1     95\n",
            "1  S02  Priyanshi      2     90\n",
            "2  S03      Sunil      3     85\n",
            "3  S04      Rohit      4     80\n",
            "4  S05    Bhushan      5     75\n",
            "\n",
            "Iterate over each column\n",
            "\n",
            "\n",
            " Id\n",
            "0    S01\n",
            "1    S02\n",
            "2    S03\n",
            "3    S04\n",
            "4    S05\n",
            "Name: Id, dtype: object\n",
            "\n",
            " Student\n",
            "0        Vinit\n",
            "1    Priyanshi\n",
            "2        Sunil\n",
            "3        Rohit\n",
            "4      Bhushan\n",
            "Name: Student, dtype: object\n",
            "\n",
            " Ranks\n",
            "0    1\n",
            "1    2\n",
            "2    3\n",
            "3    4\n",
            "4    5\n",
            "Name: Ranks, dtype: int64\n",
            "\n",
            " Marks\n",
            "0    95\n",
            "1    90\n",
            "2    85\n",
            "3    80\n",
            "4    75\n",
            "Name: Marks, dtype: int64\n"
          ]
        }
      ]
    },
    {
      "cell_type": "markdown",
      "source": [
        "# Pandas - Sorting\n",
        "\n",
        "To sort the data in Pandas, we can use various methods.\n",
        "\n",
        "To sort the DataFrame in Pandas using the sort_values() method.\n",
        "\n",
        "1. Sort the Pandas DataFrame\n",
        "2. Sort the Pandas DataFrame in Descending Order."
      ],
      "metadata": {
        "id": "hkisE2iZo3zd"
      }
    },
    {
      "cell_type": "markdown",
      "source": [
        "1. Sort the DataFrame: To Sort the dataframe, use the sort_values() method. The default is ascending. Therefore, you don't need to mentioned any value in the parameter for ascending sort.\n",
        "\n",
        "We will sort by value i.e the **by** parameter will be set to the column name by which we need to sort the DataFrame in ascending order."
      ],
      "metadata": {
        "id": "9cWFTRk9pUfN"
      }
    },
    {
      "cell_type": "code",
      "source": [
        "# Sort the Pandas DataFrame(default ascending order)\n",
        "\n",
        "import pandas as pd\n",
        "# Dataset\n",
        "data = {\n",
        "    'Student': [\"Vinit\",\"Priyanshi\",\"Sunil\",\"Rohit\",\"Bhushan\"],\n",
        "    'Rank': [1,2,4,5,3],\n",
        "    'Marks': [95,92,83,81,89]\n",
        "}\n",
        "\n",
        "# Create a DataFrame:\n",
        "df = pd.DataFrame(data, index = [\"Row1\",\"Row2\",\"Row3\",\"Row4\",\"Row5\"])\n",
        "print(\"\\nStudent Records:\\n\",df)\n",
        "\n",
        "# Sort the dataframe in ascending order(bydefault)\n",
        "print(\"\\nSorting in ascending order:\\n\",df.sort_values(by=['Rank']))"
      ],
      "metadata": {
        "colab": {
          "base_uri": "https://localhost:8080/"
        },
        "id": "YeKWl4FmohOQ",
        "outputId": "436d2369-c155-48f7-8c23-93102e37b7b7"
      },
      "execution_count": null,
      "outputs": [
        {
          "output_type": "stream",
          "name": "stdout",
          "text": [
            "\n",
            "Student Records:\n",
            "         Student  Rank  Marks\n",
            "Row1      Vinit     1     95\n",
            "Row2  Priyanshi     2     92\n",
            "Row3      Sunil     4     83\n",
            "Row4      Rohit     5     81\n",
            "Row5    Bhushan     3     89\n",
            "\n",
            "Sorting in ascending order:\n",
            "         Student  Rank  Marks\n",
            "Row1      Vinit     1     95\n",
            "Row2  Priyanshi     2     92\n",
            "Row5    Bhushan     3     89\n",
            "Row3      Sunil     4     83\n",
            "Row4      Rohit     5     81\n"
          ]
        }
      ]
    },
    {
      "cell_type": "markdown",
      "source": [
        "2. Sort the DataFrame in Descending Order: To sort the DataFrame in descending order, use the sort_values() method. Set the ascending parameter of the method to **False** for descending order sort.\n",
        "\n",
        "We will sort by value i.e the **by** parameter will be set to the column name by which we need to sort the DataFrame in Descending order."
      ],
      "metadata": {
        "id": "zMwcjAz9rL-H"
      }
    },
    {
      "cell_type": "code",
      "source": [
        "# Sort the Pandas DataFrame(descending order)\n",
        "import pandas as pd\n",
        "# Dataset\n",
        "data = {\n",
        "    'Student': [\"Vinit\",\"Priyanshi\",\"Sunil\",\"Rohit\",\"Bhushan\"],\n",
        "    'Rank': [5,4,1,2,3],\n",
        "    'Marks': [81,83,95,92,89]\n",
        "}\n",
        "\n",
        "# Create a DataFrame:\n",
        "df = pd.DataFrame(data, index = [\"Row1\",\"Row2\",\"Row3\",\"Row4\",\"Row5\"])\n",
        "print(\"\\nStudent Records:\\n\",df)\n",
        "\n",
        "# Sort the dataframe in descending order:\n",
        "print(\"\\nSorting in descending order:\\n\",df.sort_values(by=['Rank'],ascending=False))"
      ],
      "metadata": {
        "colab": {
          "base_uri": "https://localhost:8080/"
        },
        "id": "7cpzgiQ0rBPa",
        "outputId": "52ce82dd-ec12-473b-88d6-00a9eb61a272"
      },
      "execution_count": null,
      "outputs": [
        {
          "output_type": "stream",
          "name": "stdout",
          "text": [
            "\n",
            "Student Records:\n",
            "         Student  Rank  Marks\n",
            "Row1      Vinit     5     81\n",
            "Row2  Priyanshi     4     83\n",
            "Row3      Sunil     1     95\n",
            "Row4      Rohit     2     92\n",
            "Row5    Bhushan     3     89\n",
            "\n",
            "Sorting in descending order:\n",
            "         Student  Rank  Marks\n",
            "Row1      Vinit     5     81\n",
            "Row2  Priyanshi     4     83\n",
            "Row5    Bhushan     3     89\n",
            "Row4      Rohit     2     92\n",
            "Row3      Sunil     1     95\n"
          ]
        }
      ]
    },
    {
      "cell_type": "markdown",
      "source": [
        "# Handling Duplicates:\n",
        "\n",
        "Handling Duplicates in Python Pandas means to find and remove duplicates from rows in a DataFrame or Series, use the:\n",
        "\n",
        "1. duplicated(): Find Duplicates,\n",
        "2. drop_duplicates(): Remove Duplicates\n",
        "\n",
        "To find duplicates from rows in a Pandas DataFrames or Series, use the duplicated() method. It returns a Series with True and False values i.e. for duplicate rows True is returned."
      ],
      "metadata": {
        "id": "4drQ-ZeBtPIU"
      }
    },
    {
      "cell_type": "code",
      "source": [
        "# Find duplicates using the duplicated():\n",
        "import pandas as pd\n",
        "# Dataset:\n",
        "data = {\n",
        "    'Student': [\"Vinit\",\"Priyanshi\",\"Vinit\",\"Rohit\",\"Bhushan\"],\n",
        "    'Rank': [1,4,1,2,3],\n",
        "    'Marks': [95,83,95,92,89]\n",
        "}\n",
        "\n",
        "# Create the DataFrame\n",
        "df = pd.DataFrame(data)\n",
        "print(\"\\nStudent Records\\n\",df)\n",
        "\n",
        "# Find the Duplicates:\n",
        "result = df.duplicated()\n",
        "print(\"\\nDescribing Duplicates:\\n\",result)"
      ],
      "metadata": {
        "colab": {
          "base_uri": "https://localhost:8080/"
        },
        "id": "30TH-nTcs6uc",
        "outputId": "42dfbc84-7b85-4ff8-9234-fb6e043979ca"
      },
      "execution_count": null,
      "outputs": [
        {
          "output_type": "stream",
          "name": "stdout",
          "text": [
            "\n",
            "Student Records\n",
            "      Student  Rank  Marks\n",
            "0      Vinit     1     95\n",
            "1  Priyanshi     4     83\n",
            "2      Vinit     1     95\n",
            "3      Rohit     2     92\n",
            "4    Bhushan     3     89\n",
            "\n",
            "Duplicates:\n",
            " 0    False\n",
            "1    False\n",
            "2     True\n",
            "3    False\n",
            "4    False\n",
            "dtype: bool\n"
          ]
        }
      ]
    },
    {
      "cell_type": "code",
      "source": [
        "# Remove duplicates using the drop_duplicates():\n",
        "import pandas as pd\n",
        "# Dataset:\n",
        "data = {\n",
        "    'Student': [\"Vinit\",\"Priyanshi\",\"Vinit\",\"Rohit\",\"Bhushan\"],\n",
        "    'Rank': [1,4,1,2,3],\n",
        "    'Marks': [95,83,95,92,89]\n",
        "}\n",
        "\n",
        "# Create the DataFrame\n",
        "df = pd.DataFrame(data)\n",
        "print(\"\\nStudent Records\\n\",df)\n",
        "\n",
        "# Removes the duplicates in rows:\n",
        "result = df.drop_duplicates()\n",
        "print(\"\\nStudent Records after removing duplicates\\n\",result)"
      ],
      "metadata": {
        "colab": {
          "base_uri": "https://localhost:8080/"
        },
        "id": "f6hqjYnP2Zwn",
        "outputId": "17be6f7c-11e6-41fb-9fb0-faaa46fda606"
      },
      "execution_count": null,
      "outputs": [
        {
          "output_type": "stream",
          "name": "stdout",
          "text": [
            "\n",
            "Student Records\n",
            "      Student  Rank  Marks\n",
            "0      Vinit     1     95\n",
            "1  Priyanshi     4     83\n",
            "2      Vinit     1     95\n",
            "3      Rohit     2     92\n",
            "4    Bhushan     3     89\n",
            "\n",
            "Student Records after removing duplicates\n",
            "      Student  Rank  Marks\n",
            "0      Vinit     1     95\n",
            "1  Priyanshi     4     83\n",
            "3      Rohit     2     92\n",
            "4    Bhushan     3     89\n"
          ]
        }
      ]
    },
    {
      "cell_type": "markdown",
      "source": [
        "# Clean The Data:\n",
        "To clean the data in Python, we have some built-in functions. Cleaning the data in Pandas means working on the incorrect data to fix it. This incorrect data can empty data, null, duplicate data, etc.\n",
        "\n",
        "1. isnull(): Find the Null values and replace them with True.\n",
        "2. notnull(): Find the NotNull values and replace them with True.\n",
        "3. df.dropna(): Drop rows with Null values.\n",
        "4. df.fillna(x): Replace Null values with a specific value."
      ],
      "metadata": {
        "id": "3b1n4pLQ3YxZ"
      }
    },
    {
      "cell_type": "code",
      "source": [
        "# isnull() method:\n",
        "import pandas as pd\n",
        "\n",
        "# input CSV File:\n",
        "# load the CSV in the DataFrame,\n",
        "df = pd.read_csv(\"/content/PandasFile3.csv\")\n",
        "print(\"\\nOur DataFrame:\\n\",df)\n",
        "\n",
        "resultdf = df.isnull()\n",
        "print(\"\\nDescribing Null values:\\n\",resultdf.to_string())"
      ],
      "metadata": {
        "id": "CB5WkPTO3Kiy",
        "colab": {
          "base_uri": "https://localhost:8080/"
        },
        "outputId": "661dd416-c38e-4688-ddd1-7cc005889e83"
      },
      "execution_count": null,
      "outputs": [
        {
          "output_type": "stream",
          "name": "stdout",
          "text": [
            "\n",
            "Our DataFrame:\n",
            "    Frequency  Points\n",
            "0        2.4    83.5\n",
            "1        3.2    21.6\n",
            "2        6.1     NaN\n",
            "3        1.2    45.9\n",
            "4        2.9    19.3\n",
            "5        3.8    23.3\n",
            "6        4.5     NaN\n",
            "7        8.3    66.3\n",
            "8        7.9    74.7\n",
            "9        5.8    67.5\n",
            "\n",
            "Describing Null values:\n",
            "    Frequency  Points\n",
            "0      False   False\n",
            "1      False   False\n",
            "2      False    True\n",
            "3      False   False\n",
            "4      False   False\n",
            "5      False   False\n",
            "6      False    True\n",
            "7      False   False\n",
            "8      False   False\n",
            "9      False   False\n"
          ]
        }
      ]
    },
    {
      "cell_type": "code",
      "source": [
        "# notnull() method:\n",
        "import pandas as pd\n",
        "\n",
        "# input CSV File:\n",
        "# load the CSV in the DataFrame,\n",
        "df = pd.read_csv(\"/content/PandasFile3.csv\")\n",
        "print(\"\\nOur DataFrame:\\n\",df)\n",
        "\n",
        "resultdf = df.notnull()\n",
        "print(\"\\nDescribing NotNull values:\\n\",resultdf.to_string())"
      ],
      "metadata": {
        "colab": {
          "base_uri": "https://localhost:8080/"
        },
        "id": "8cRBNxGtX8x3",
        "outputId": "962648ad-8c87-4508-dff3-76c4bec44d7d"
      },
      "execution_count": null,
      "outputs": [
        {
          "output_type": "stream",
          "name": "stdout",
          "text": [
            "\n",
            "Our DataFrame:\n",
            "    Frequency  Points\n",
            "0        2.4    83.5\n",
            "1        3.2    21.6\n",
            "2        6.1     NaN\n",
            "3        1.2    45.9\n",
            "4        2.9    19.3\n",
            "5        3.8    23.3\n",
            "6        4.5     NaN\n",
            "7        8.3    66.3\n",
            "8        7.9    74.7\n",
            "9        5.8    67.5\n",
            "\n",
            "Describing NotNull values:\n",
            "    Frequency  Points\n",
            "0       True    True\n",
            "1       True    True\n",
            "2       True   False\n",
            "3       True    True\n",
            "4       True    True\n",
            "5       True    True\n",
            "6       True   False\n",
            "7       True    True\n",
            "8       True    True\n",
            "9       True    True\n"
          ]
        }
      ]
    },
    {
      "cell_type": "code",
      "source": [
        "# df.dropna() method:\n",
        "import pandas as pd\n",
        "\n",
        "# input CSV File:\n",
        "# load the CSV in the DataFrame,\n",
        "df = pd.read_csv(\"/content/PandasFile3.csv\")\n",
        "print(\"\\nOur DataFrame:\\n\",df)\n",
        "\n",
        "resultdf = df.dropna()\n",
        "print(\"\\nremoving rows with NULL:\\n\",resultdf.to_string())"
      ],
      "metadata": {
        "colab": {
          "base_uri": "https://localhost:8080/"
        },
        "id": "jlnqtjmEZwzv",
        "outputId": "0037429b-6772-4afe-b135-5b6d0a19c0de"
      },
      "execution_count": null,
      "outputs": [
        {
          "output_type": "stream",
          "name": "stdout",
          "text": [
            "\n",
            "Our DataFrame:\n",
            "    Frequency  Points\n",
            "0        2.4    83.5\n",
            "1        3.2    21.6\n",
            "2        6.1     NaN\n",
            "3        1.2    45.9\n",
            "4        2.9    19.3\n",
            "5        3.8    23.3\n",
            "6        4.5     NaN\n",
            "7        8.3    66.3\n",
            "8        7.9    74.7\n",
            "9        5.8    67.5\n",
            "\n",
            "removing rows with NULL:\n",
            "    Frequency  Points\n",
            "0        2.4    83.5\n",
            "1        3.2    21.6\n",
            "3        1.2    45.9\n",
            "4        2.9    19.3\n",
            "5        3.8    23.3\n",
            "7        8.3    66.3\n",
            "8        7.9    74.7\n",
            "9        5.8    67.5\n"
          ]
        }
      ]
    },
    {
      "cell_type": "code",
      "source": [
        "# df.fillna(x) Method:\n",
        "import pandas as pd\n",
        "\n",
        "# input CSV File:\n",
        "# load the CSV in the DataFrame,\n",
        "df = pd.read_csv(\"/content/PandasFile3.csv\")\n",
        "print(\"\\nOur DataFrame:\\n\",df)\n",
        "\n",
        "# Find and replace Null values with a specific value 111.\n",
        "resultdf = df.fillna(111)\n",
        "print(\"\\nUpdating Dataframe\\n\",resultdf.to_string())"
      ],
      "metadata": {
        "colab": {
          "base_uri": "https://localhost:8080/"
        },
        "id": "ikrFE5CBaZts",
        "outputId": "1537e6ae-3c4f-4b97-aff9-9b368f71fbc4"
      },
      "execution_count": null,
      "outputs": [
        {
          "output_type": "stream",
          "name": "stdout",
          "text": [
            "\n",
            "Our DataFrame:\n",
            "    Frequency  Points\n",
            "0        2.4    83.5\n",
            "1        3.2    21.6\n",
            "2        6.1     NaN\n",
            "3        1.2    45.9\n",
            "4        2.9    19.3\n",
            "5        3.8    23.3\n",
            "6        4.5     NaN\n",
            "7        8.3    66.3\n",
            "8        7.9    74.7\n",
            "9        5.8    67.5\n",
            "\n",
            "Updating Dataframe\n",
            "    Frequency  Points\n",
            "0        2.4    83.5\n",
            "1        3.2    21.6\n",
            "2        6.1   111.0\n",
            "3        1.2    45.9\n",
            "4        2.9    19.3\n",
            "5        3.8    23.3\n",
            "6        4.5   111.0\n",
            "7        8.3    66.3\n",
            "8        7.9    74.7\n",
            "9        5.8    67.5\n"
          ]
        }
      ]
    },
    {
      "cell_type": "markdown",
      "source": [
        "# String Operations on Text Data:\n",
        "We can easily perform operations on strings in Pandas using the string methods.\n",
        "\n",
        "1. lower(): Perform lowercase on text data.\n",
        "2. upper(): Perform uppercase on text data.\n",
        "3. title(): Convert text data to camel case.\n",
        "4. len(): To get the length of each element.\n",
        "5. count(): Count the non-empty cells for each column or row\n",
        "6. contain(): Search for a value in a column."
      ],
      "metadata": {
        "id": "MG4dbImpT4Fh"
      }
    },
    {
      "cell_type": "code",
      "source": [
        "# lower(): Perform lowercase on text data.\n",
        "import pandas as pd\n",
        "\n",
        "# Data to be stored in the Pandas Series\n",
        "data = [\"Vinit\",\"Priyanshi\",\"SUNIL\",\"roHIT\",\"bHuShAn\"]\n",
        "\n",
        "# Create a Series using the Series() method\n",
        "series = pd.Series(data)\n",
        "print(\"\\nSeries:\\n\",series)\n",
        "\n",
        "# Convert the text data to lowercase\n",
        "print(\"\\nLowercase data:\\n\",series.str.lower())"
      ],
      "metadata": {
        "id": "gvonqSjGb0oV",
        "colab": {
          "base_uri": "https://localhost:8080/"
        },
        "outputId": "dd32661d-cff6-4fa9-ec5c-6dc7fe794cf2"
      },
      "execution_count": null,
      "outputs": [
        {
          "output_type": "stream",
          "name": "stdout",
          "text": [
            "\n",
            "Series:\n",
            " 0        Vinit\n",
            "1    Priyanshi\n",
            "2        SUNIL\n",
            "3        roHIT\n",
            "4      bHuShAn\n",
            "dtype: object\n",
            "\n",
            "Lowercase data:\n",
            " 0        vinit\n",
            "1    priyanshi\n",
            "2        sunil\n",
            "3        rohit\n",
            "4      bhushan\n",
            "dtype: object\n"
          ]
        }
      ]
    },
    {
      "cell_type": "code",
      "source": [
        "# upper(): Perform uppercase on text data.\n",
        "import pandas as pd\n",
        "\n",
        "# Data to be stored in the Pandas Series\n",
        "data = [\"Vinit\",\"Priyanshi\",\"SUNIL\",\"roHIT\",\"bHuShAn\"]\n",
        "\n",
        "# Create a Series using the Series() method\n",
        "series = pd.Series(data)\n",
        "print(\"\\nSeries:\\n\",series)\n",
        "\n",
        "# Convert the text to data to Uppercase\n",
        "print(\"\\nUppercase data:\\n\",series.str.upper())"
      ],
      "metadata": {
        "colab": {
          "base_uri": "https://localhost:8080/"
        },
        "id": "Un4OEWYrU0KE",
        "outputId": "254b7e62-f882-4f47-96f6-f602b7b9e39e"
      },
      "execution_count": null,
      "outputs": [
        {
          "output_type": "stream",
          "name": "stdout",
          "text": [
            "\n",
            "Series:\n",
            " 0        Vinit\n",
            "1    Priyanshi\n",
            "2        SUNIL\n",
            "3        roHIT\n",
            "4      bHuShAn\n",
            "dtype: object\n",
            "\n",
            "Uppercase data:\n",
            " 0        VINIT\n",
            "1    PRIYANSHI\n",
            "2        SUNIL\n",
            "3        ROHIT\n",
            "4      BHUSHAN\n",
            "dtype: object\n"
          ]
        }
      ]
    },
    {
      "cell_type": "code",
      "source": [
        "# title(): Convert text data to camel case.\n",
        "import pandas as pd\n",
        "\n",
        "# Data to be stored in the Pandas Series\n",
        "data = [\"Vinit\",\"Priyanshi\",\"SUNIL\",\"roHIT\",\"bHuShAn\"]\n",
        "\n",
        "# Create a Series using the Series() method\n",
        "series = pd.Series(data)\n",
        "print(\"\\nSeries:\\n\",series)\n",
        "\n",
        "# Convert the text data to Camelcase\n",
        "print(\"\\nCamelcase data:\\n\",series.str.title())"
      ],
      "metadata": {
        "colab": {
          "base_uri": "https://localhost:8080/"
        },
        "id": "dlLtw9vFU4R6",
        "outputId": "92f79152-ea69-4e6c-d92f-7921e559147e"
      },
      "execution_count": null,
      "outputs": [
        {
          "output_type": "stream",
          "name": "stdout",
          "text": [
            "\n",
            "Series:\n",
            " 0        Vinit\n",
            "1    Priyanshi\n",
            "2        SUNIL\n",
            "3        roHIT\n",
            "4      bHuShAn\n",
            "dtype: object\n",
            "\n",
            "Camelcase data:\n",
            " 0        Vinit\n",
            "1    Priyanshi\n",
            "2        Sunil\n",
            "3        Rohit\n",
            "4      Bhushan\n",
            "dtype: object\n"
          ]
        }
      ]
    },
    {
      "cell_type": "code",
      "source": [
        "# len(): To get the length of each element.\n",
        "import pandas as pd\n",
        "\n",
        "# Data to be stored in the Pandas Series\n",
        "data = [\"Vinit Gatt\",\"Priyanshi Bhawsar\",\"SUNIL Singh Sisodiya\",\"roHIT Agnihotri\",\"bHuShAn Rote\"]\n",
        "\n",
        "# Create a Series using the Series() method\n",
        "series = pd.Series(data)\n",
        "print(\"\\nSeries:\\n\",series)\n",
        "\n",
        "# To get the length of each element:\n",
        "print(\"\\nLength of each element:\\n\",series.str.len())\n",
        "# Spaces on the texts are also count in this,"
      ],
      "metadata": {
        "colab": {
          "base_uri": "https://localhost:8080/"
        },
        "id": "vrpKRxmkU71f",
        "outputId": "2853a439-8160-421a-8fa4-350b47e09fa0"
      },
      "execution_count": null,
      "outputs": [
        {
          "output_type": "stream",
          "name": "stdout",
          "text": [
            "\n",
            "Series:\n",
            " 0              Vinit Gatt\n",
            "1       Priyanshi Bhawsar\n",
            "2    SUNIL Singh Sisodiya\n",
            "3         roHIT Agnihotri\n",
            "4            bHuShAn Rote\n",
            "dtype: object\n",
            "\n",
            "Length of each element:\n",
            " 0    10\n",
            "1    17\n",
            "2    20\n",
            "3    15\n",
            "4    12\n",
            "dtype: int64\n"
          ]
        }
      ]
    },
    {
      "cell_type": "code",
      "source": [
        "# count(): Count the non-empty cells for each column or row\n",
        "import numpy as np\n",
        "import pandas as pd\n",
        "\n",
        "# Data to be stored in the Pandas Series\n",
        "data = [\"Vinit\",\"Priyanshi\",np.nan,np.nan,np.nan]\n",
        "\n",
        "# Create a Series using the Series() method\n",
        "series = pd.Series(data)\n",
        "print(\"\\nSeries:\\n\",series)\n",
        "\n",
        "# count the non-empty cells for each column and rows:\n",
        "print(\"\\nCount:\\n\",series.count()) # Count: 2 hence non-null value are 2."
      ],
      "metadata": {
        "colab": {
          "base_uri": "https://localhost:8080/"
        },
        "id": "tS3zEHVcVBAN",
        "outputId": "1cf70aee-8c81-4bb2-d24b-18aa7dfca350"
      },
      "execution_count": null,
      "outputs": [
        {
          "output_type": "stream",
          "name": "stdout",
          "text": [
            "\n",
            "Series:\n",
            " 0        Vinit\n",
            "1    Priyanshi\n",
            "2          NaN\n",
            "3          NaN\n",
            "4          NaN\n",
            "dtype: object\n",
            "\n",
            "Count:\n",
            " 2\n"
          ]
        }
      ]
    },
    {
      "cell_type": "code",
      "source": [
        "# contain(): Search for a value in a column.\n",
        "import pandas as pd\n",
        "\n",
        "# Data to be stored in the Pandas Series\n",
        "data = [\"Vinit Gatt\",\"Priyanshi Bhawsar\",\"Sunil Singh Sisodiya\",\n",
        "        \"Rohit Agnihotri\",\"Bhushan Rote\"]\n",
        "\n",
        "# Create a Series using the Series() method\n",
        "series = pd.Series(data)\n",
        "print(\"\\nSeries:\\n\",series)\n",
        "\n",
        "# Search for a specific Value:\n",
        "print(\"\\nDoes the Specific value exist?:\\n\",series.str.contains(\"Priyanshi\"))"
      ],
      "metadata": {
        "colab": {
          "base_uri": "https://localhost:8080/"
        },
        "id": "cw2hi8DaVDw-",
        "outputId": "c559345d-db34-40a1-81c4-701f0b43a48c"
      },
      "execution_count": null,
      "outputs": [
        {
          "output_type": "stream",
          "name": "stdout",
          "text": [
            "\n",
            "Series:\n",
            " 0              Vinit Gatt\n",
            "1       Priyanshi Bhawsar\n",
            "2    Sunil Singh Sisodiya\n",
            "3         Rohit Agnihotri\n",
            "4            Bhushan Rote\n",
            "dtype: object\n",
            "\n",
            "Does the Specific value exist?:\n",
            " 0    False\n",
            "1     True\n",
            "2    False\n",
            "3    False\n",
            "4    False\n",
            "dtype: bool\n"
          ]
        }
      ]
    },
    {
      "cell_type": "markdown",
      "source": [
        "# Data Time Operations\n",
        "\n",
        "In this, we work with the Date Time operations in Pandas. Let us first see how to get the current date and time, then we will check for leap year, last day of the month, week, etc.\n",
        "\n",
        "1. Get the current date and time.\n",
        "2. Get the day of the week.\n",
        "3. Get the day of the year.\n",
        "4. Get the number of days in a month.\n",
        "5. Check if the year is a leap year.\n",
        "6. Check if the date is the last day of the month.\n",
        "7. Check if the date is the first day of the month.\n",
        "8. Check if the date is the first day of the year.\n",
        "9. Check if the date is the last day of the year."
      ],
      "metadata": {
        "id": "Y3MoA6M4ZYAs"
      }
    },
    {
      "cell_type": "code",
      "source": [
        "# Timestamp.now(): Get the current date and time:\n",
        "\n",
        "import pandas as pd\n",
        "import pytz\n",
        "\n",
        "ist = pytz.timezone(\"Asia/Kolkata\")\n",
        "now_ist = pd.Timestamp.now(tz=ist)\n",
        "\n",
        "print(\"Current IST Time:\", now_ist)"
      ],
      "metadata": {
        "colab": {
          "base_uri": "https://localhost:8080/"
        },
        "id": "ghUg264rVF48",
        "outputId": "a8e1ac71-2e59-4f39-dfd5-7f3fecce915f"
      },
      "execution_count": null,
      "outputs": [
        {
          "output_type": "stream",
          "name": "stdout",
          "text": [
            "Current IST Time: 2025-07-22 19:32:04.035174+05:30\n"
          ]
        }
      ]
    },
    {
      "cell_type": "code",
      "source": [
        "# Get the day of the week:\n",
        "import pandas as pd\n",
        "\n",
        "# Create a Timestamp\n",
        "timeStamp = pd.Timestamp(year=2025, month=7, day=22, hour=19)\n",
        "\n",
        "print(\"Date and Time:\", timeStamp)\n",
        "\n",
        "# Day index where Monday = 1, Tuesday = 2, ..., Sunday = 7\n",
        "day_index = timeStamp.dayofweek + 1\n",
        "print(\"Day of the week (Monday=1):\", day_index)\n",
        "\n",
        "# Optional: Day name\n",
        "print(\"Day name:\", timeStamp.day_name())"
      ],
      "metadata": {
        "colab": {
          "base_uri": "https://localhost:8080/"
        },
        "id": "5URP61nAb0jA",
        "outputId": "5c1ec7bb-969e-44fb-bb1a-a044c15a395b"
      },
      "execution_count": null,
      "outputs": [
        {
          "output_type": "stream",
          "name": "stdout",
          "text": [
            "Date and Time: 2025-07-22 19:00:00\n",
            "Day of the week (Monday=1): 2\n",
            "Day name: Tuesday\n"
          ]
        }
      ]
    },
    {
      "cell_type": "code",
      "source": [
        "# Get the day of the year:\n",
        "import pandas as pd\n",
        "\n",
        "# TimeStamp:\n",
        "timeStamp = pd.Timestamp(year=2025, month=7, day=22, hour=19)\n",
        "print(\"Date and Time:\", timeStamp)\n",
        "\n",
        "# Display the day of the year:\n",
        "print(\"\\nDay of the Year:\\n\",timeStamp.dayofyear)"
      ],
      "metadata": {
        "colab": {
          "base_uri": "https://localhost:8080/"
        },
        "id": "Pd_eWsqKdc0Q",
        "outputId": "4e2b6514-71eb-4dc3-942e-8d1223119207"
      },
      "execution_count": null,
      "outputs": [
        {
          "output_type": "stream",
          "name": "stdout",
          "text": [
            "Date and Time: 2025-07-22 19:00:00\n",
            "\n",
            "Day of the Year:\n",
            " 203\n"
          ]
        }
      ]
    },
    {
      "cell_type": "code",
      "source": [
        "# Get the number of Days in a Month:\n",
        "import pandas as pd\n",
        "\n",
        "# TimeStamp:\n",
        "timeStamp = pd.Timestamp(year=2025, month=7, day=22, hour=19)\n",
        "print(\"Date and Time:\", timeStamp)\n",
        "\n",
        "# Display total days in that month (31)\n",
        "print(\"Total days in the month:\", timeStamp.daysinmonth)"
      ],
      "metadata": {
        "colab": {
          "base_uri": "https://localhost:8080/"
        },
        "id": "0qzu1xGqfJLs",
        "outputId": "b2c72cc1-1203-46cd-80c1-2207aca35192"
      },
      "execution_count": null,
      "outputs": [
        {
          "output_type": "stream",
          "name": "stdout",
          "text": [
            "Date and Time: 2025-07-22 19:00:00\n",
            "Total days in the month: 31\n"
          ]
        }
      ]
    },
    {
      "cell_type": "code",
      "source": [
        "# Check if the year is a leap year:\n",
        "import pandas as pd\n",
        "\n",
        "# TimeStamp:\n",
        "timeStamp = pd.Timestamp(year=2025, month=7, day=22, hour=19)\n",
        "print(\"Date and Time:\", timeStamp)\n",
        "\n",
        "# Check for leap year:\n",
        "print(\"\\nIs this year leap year:\\n:\", timeStamp.is_leap_year)"
      ],
      "metadata": {
        "colab": {
          "base_uri": "https://localhost:8080/"
        },
        "id": "OfnJ_uggh0Tm",
        "outputId": "aaf5ad0c-5242-483a-ace0-f9db04f506ad"
      },
      "execution_count": null,
      "outputs": [
        {
          "output_type": "stream",
          "name": "stdout",
          "text": [
            "Date and Time: 2025-07-22 19:00:00\n",
            "\n",
            "Is this year leap year:\n",
            ": False\n"
          ]
        }
      ]
    },
    {
      "cell_type": "code",
      "source": [
        "# Check if the date is the last day of the month in Pandas:\n",
        "\n",
        "import pandas as pd\n",
        "\n",
        "# TimeStamp:\n",
        "timeStamp = pd.Timestamp(year=2025, month=7, day=31, hour=20)\n",
        "print(\"Date and Time:\", timeStamp)\n",
        "\n",
        "# Check if the date is the end of the month:\n",
        "print(\"\\nIs this the month end?\\n:\", timeStamp.is_month_end)"
      ],
      "metadata": {
        "colab": {
          "base_uri": "https://localhost:8080/"
        },
        "id": "ZgvJF0Jki7tr",
        "outputId": "35ec4b2c-ac97-4d0f-ab8e-06238fe40cbb"
      },
      "execution_count": null,
      "outputs": [
        {
          "output_type": "stream",
          "name": "stdout",
          "text": [
            "Date and Time: 2025-07-31 20:00:00\n",
            "\n",
            "Is this the month end?\n",
            ": True\n"
          ]
        }
      ]
    },
    {
      "cell_type": "code",
      "source": [
        "# Check if the date is the First day of the month in Pandas:\n",
        "\n",
        "import pandas as pd\n",
        "\n",
        "# TimeStamp:\n",
        "timeStamp = pd.Timestamp(year=2025, month=7, day=1, hour=20)\n",
        "print(\"Date and Time:\", timeStamp)\n",
        "\n",
        "# Check if the date is the first day of the month:\n",
        "print(\"\\nIs this the month start?\\n:\", timeStamp.is_month_start)"
      ],
      "metadata": {
        "colab": {
          "base_uri": "https://localhost:8080/"
        },
        "id": "vdYr1_bPjr2L",
        "outputId": "88249bad-2895-488b-fab0-68c713472955"
      },
      "execution_count": null,
      "outputs": [
        {
          "output_type": "stream",
          "name": "stdout",
          "text": [
            "Date and Time: 2025-07-01 20:00:00\n",
            "\n",
            "Is this the month start?\n",
            ": True\n"
          ]
        }
      ]
    },
    {
      "cell_type": "code",
      "source": [
        "# Check if the date is the last day of the year in Pandas:\n",
        "\n",
        "import pandas as pd\n",
        "\n",
        "# TimeStamp:\n",
        "timeStamp = pd.Timestamp(year=2025, month=12, day=31, hour=20)\n",
        "print(\"Date and Time:\", timeStamp)\n",
        "\n",
        "# Check if the date is the last day of the year:\n",
        "print(\"\\nIs this the year end?\\n:\", timeStamp.is_year_end)"
      ],
      "metadata": {
        "colab": {
          "base_uri": "https://localhost:8080/"
        },
        "id": "Pzq0RcBrj7gc",
        "outputId": "9f29baec-ab17-4498-88c4-55b700ccbb6f"
      },
      "execution_count": null,
      "outputs": [
        {
          "output_type": "stream",
          "name": "stdout",
          "text": [
            "Date and Time: 2025-12-31 20:00:00\n",
            "\n",
            "Is this the year end?\n",
            ": True\n"
          ]
        }
      ]
    },
    {
      "cell_type": "code",
      "source": [
        "# Check if the date is the last day of the year in Pandas:\n",
        "\n",
        "import pandas as pd\n",
        "\n",
        "# TimeStamp:\n",
        "timeStamp = pd.Timestamp(year=2026, month=1, day=1, hour=20)\n",
        "print(\"Date and Time:\", timeStamp)\n",
        "\n",
        "# Check if the date is the first day of the year:\n",
        "print(\"\\nIs this the year starts?\\n:\", timeStamp.is_year_start)"
      ],
      "metadata": {
        "colab": {
          "base_uri": "https://localhost:8080/"
        },
        "id": "InzzM24ek3e6",
        "outputId": "c2afefa2-106d-4112-b410-35b608d4ab55"
      },
      "execution_count": null,
      "outputs": [
        {
          "output_type": "stream",
          "name": "stdout",
          "text": [
            "Date and Time: 2026-01-01 20:00:00\n",
            "\n",
            "Is this the year starts?\n",
            ": True\n"
          ]
        }
      ]
    },
    {
      "cell_type": "markdown",
      "source": [
        "# Remove WhiteSpace or Specific Characters:\n",
        "\n",
        "To remove whitespace(including newlines) or a set of specific characters on text data in a Series or DataFrame.\n",
        "\n",
        "1. strip(): Strip whitespace or specific characters from the left and right.\n",
        "2. lstrip(): Strip whitespace or specific characters from only left side.\n",
        "3. rstrip(): Strip whitespace or specific characters from only right side."
      ],
      "metadata": {
        "id": "8ycT3GlkmAUs"
      }
    },
    {
      "cell_type": "code",
      "source": [
        "# strip() method in Python Pandas:\n",
        "import pandas as pd\n",
        "# Data to be stored in the Pandas Series:\n",
        "data = [\"!Vinit\",\"Priyanshi\\n\\n\",\"Sunil*\",\"Rohit\\t\",\"@Bhushan\"]\n",
        "\n",
        "# Create a Series using the Series() method:\n",
        "series = pd.Series(data)\n",
        "print(\"Series:\\n\",series)\n",
        "\n",
        "# Strip the values:\n",
        "print(\"\\nStrip whitespace and specific characters from both the sides:\\n\",\n",
        "      series.str.strip(\"!\\n\\t*@\"))"
      ],
      "metadata": {
        "id": "Y-uRADialItW",
        "colab": {
          "base_uri": "https://localhost:8080/"
        },
        "outputId": "c4fdcb83-9aa5-4de2-c8d3-64b3202a5d8f"
      },
      "execution_count": null,
      "outputs": [
        {
          "output_type": "stream",
          "name": "stdout",
          "text": [
            "Series:\n",
            " 0           !Vinit\n",
            "1    Priyanshi\\n\\n\n",
            "2           Sunil*\n",
            "3          Rohit\\t\n",
            "4         @Bhushan\n",
            "dtype: object\n",
            "\n",
            "Strip whitespace and specific characters from both the sides:\n",
            " 0        Vinit\n",
            "1    Priyanshi\n",
            "2        Sunil\n",
            "3        Rohit\n",
            "4      Bhushan\n",
            "dtype: object\n"
          ]
        }
      ]
    },
    {
      "cell_type": "code",
      "source": [
        "# lstrip() method in Python Pandas:\n",
        "import pandas as pd\n",
        "# Data to be stored in the Pandas Series:\n",
        "data = [\"!Vinit\",\"\\n\\nPriyanshi\",\"*Sunil\",\"Rohit\",\"@Bhushan\"]\n",
        "\n",
        "# Create a Series using the Series() method:\n",
        "series = pd.Series(data)\n",
        "print(\"Series:\\n\",series)\n",
        "\n",
        "# Strip the values:\n",
        "print(\"\\nStrip whitespace and specific characters from only left side:\\n\",\n",
        "      series.str.lstrip(\"!\\n\\t*@\"))"
      ],
      "metadata": {
        "id": "e5Gg70lRnCWQ",
        "colab": {
          "base_uri": "https://localhost:8080/"
        },
        "outputId": "c6853b22-c59b-45f1-94d9-7e18199dbf99"
      },
      "execution_count": null,
      "outputs": [
        {
          "output_type": "stream",
          "name": "stdout",
          "text": [
            "Series:\n",
            " 0           !Vinit\n",
            "1    \\n\\nPriyanshi\n",
            "2           *Sunil\n",
            "3            Rohit\n",
            "4         @Bhushan\n",
            "dtype: object\n",
            "\n",
            "Strip whitespace and specific characters from only left side:\n",
            " 0        Vinit\n",
            "1    Priyanshi\n",
            "2        Sunil\n",
            "3        Rohit\n",
            "4      Bhushan\n",
            "dtype: object\n"
          ]
        }
      ]
    },
    {
      "cell_type": "code",
      "source": [
        "# rstrip() method in Python Pandas:\n",
        "import pandas as pd\n",
        "# Data to be stored in the Pandas Series:\n",
        "data = [\"Vinit!\",\"Priyanshi\\n\\n\",\"Sunil*\",\"Rohit\\t\",\"Bhushan@\"]\n",
        "\n",
        "# Create a Series using the Series() method:\n",
        "series = pd.Series(data)\n",
        "print(\"Series:\\n\",series)\n",
        "\n",
        "# Strip the values:\n",
        "print(\"\\nStrip whitespace and specific characters from only right side:\\n\",\n",
        "      series.str.rstrip(\"!\\n\\t*@\"))"
      ],
      "metadata": {
        "colab": {
          "base_uri": "https://localhost:8080/"
        },
        "id": "N2oi6XqlBztY",
        "outputId": "01dce3c9-2757-4e28-eb58-c77799fce25c"
      },
      "execution_count": null,
      "outputs": [
        {
          "output_type": "stream",
          "name": "stdout",
          "text": [
            "Series:\n",
            " 0           Vinit!\n",
            "1    Priyanshi\\n\\n\n",
            "2           Sunil*\n",
            "3          Rohit\\t\n",
            "4         Bhushan@\n",
            "dtype: object\n",
            "\n",
            "Strip whitespace and specific characters from only right side:\n",
            " 0        Vinit\n",
            "1    Priyanshi\n",
            "2        Sunil\n",
            "3        Rohit\n",
            "4      Bhushan\n",
            "dtype: object\n"
          ]
        }
      ]
    },
    {
      "cell_type": "markdown",
      "source": [
        "# Group The Data:\n",
        "\n",
        "To perform some operations on group data in a DataFrame. First, we will split the data into groups, then we will iterate through the groups and then display the group.\n",
        "\n",
        "Ex1: Split the object and combine the result\n",
        "\n",
        "Ex2: Iterate the Group\n",
        "\n",
        "Ex3: View the Group\n",
        "\n",
        "Ex4: Perform Aggregation Operation on Groups"
      ],
      "metadata": {
        "id": "YcF6cDd3CqsQ"
      }
    },
    {
      "cell_type": "markdown",
      "source": [
        "1. Split the Object and Combine the Result, The **groupby()** method is used in Pandas to split the object. We can define **groupby()** as grouping the rows/columns into specific groups."
      ],
      "metadata": {
        "id": "PwM6FM0JDcjz"
      }
    },
    {
      "cell_type": "code",
      "source": [
        "import pandas as pd\n",
        "# Data\n",
        "data = {\n",
        "    'Player': ['Vinit','Priyanshi','Vinit','Sunil','Shalu','Suyash'],\n",
        "    'Ranks': [1,2,4,5,3,6],\n",
        "    'Year': [1998,1999,1999,1998,1997,1997]\n",
        "}\n",
        "\n",
        "df = pd.DataFrame(data)\n",
        "print(\"\\nOur DataFrame:\\n\",df)\n",
        "\n",
        "# Group the data on Player value\n",
        "result = df.groupby('Player')\n",
        "print(\"\\n\",result.first())"
      ],
      "metadata": {
        "colab": {
          "base_uri": "https://localhost:8080/"
        },
        "id": "3UHKA9FKCirz",
        "outputId": "6ca06768-e917-491f-c308-2a4dd59237f4"
      },
      "execution_count": null,
      "outputs": [
        {
          "output_type": "stream",
          "name": "stdout",
          "text": [
            "\n",
            "Our DataFrame:\n",
            "       Player  Ranks  Year\n",
            "0      Vinit      1  1998\n",
            "1  Priyanshi      2  1999\n",
            "2      Vinit      4  1999\n",
            "3      Sunil      5  1998\n",
            "4      Shalu      3  1997\n",
            "5     Suyash      6  1997\n",
            "\n",
            "            Ranks  Year\n",
            "Player                \n",
            "Priyanshi      2  1999\n",
            "Shalu          3  1997\n",
            "Sunil          5  1998\n",
            "Suyash         6  1997\n",
            "Vinit          1  1998\n"
          ]
        }
      ]
    },
    {
      "cell_type": "markdown",
      "source": [
        "2. Iterate the Group: Iterate and loop through the groups with **groupby()** using the for-in loop."
      ],
      "metadata": {
        "id": "F1i2sfDKJYNh"
      }
    },
    {
      "cell_type": "code",
      "source": [
        "import pandas as pd\n",
        "# Data\n",
        "data = {\n",
        "    'Player': ['Vinit','Priyanshi','Vinit','Sunil','Shalu','Suyash'],\n",
        "    'Ranks': [1,2,4,5,3,6],\n",
        "    'Year': [1998,1999,1998,1997,1998,1996]\n",
        "}\n",
        "\n",
        "df = pd.DataFrame(data)\n",
        "print(\"\\nOur DataFrame:\\n\",df)\n",
        "\n",
        "# Group by Player:\n",
        "group_result = df.groupby('Player')\n",
        "\n",
        "# Iterate\n",
        "for name,group in group_result:\n",
        "    print(\"\\nName:\",name)\n",
        "    print(\"\\nGroup:\\n\",group)"
      ],
      "metadata": {
        "id": "ewjX7ncLFZAO",
        "colab": {
          "base_uri": "https://localhost:8080/"
        },
        "outputId": "9f687d20-4718-4e8a-b061-0ad1ce67a6e6"
      },
      "execution_count": null,
      "outputs": [
        {
          "output_type": "stream",
          "name": "stdout",
          "text": [
            "\n",
            "Our DataFrame:\n",
            "       Player  Ranks  Year\n",
            "0      Vinit      1  1998\n",
            "1  Priyanshi      2  1999\n",
            "2      Vinit      4  1998\n",
            "3      Sunil      5  1997\n",
            "4      Shalu      3  1998\n",
            "5     Suyash      6  1996\n",
            "\n",
            "Name: Priyanshi\n",
            "\n",
            "Group:\n",
            "       Player  Ranks  Year\n",
            "1  Priyanshi      2  1999\n",
            "\n",
            "Name: Shalu\n",
            "\n",
            "Group:\n",
            "   Player  Ranks  Year\n",
            "4  Shalu      3  1998\n",
            "\n",
            "Name: Sunil\n",
            "\n",
            "Group:\n",
            "   Player  Ranks  Year\n",
            "3  Sunil      5  1997\n",
            "\n",
            "Name: Suyash\n",
            "\n",
            "Group:\n",
            "    Player  Ranks  Year\n",
            "5  Suyash      6  1996\n",
            "\n",
            "Name: Vinit\n",
            "\n",
            "Group:\n",
            "   Player  Ranks  Year\n",
            "0  Vinit      1  1998\n",
            "2  Vinit      4  1998\n"
          ]
        }
      ]
    },
    {
      "cell_type": "markdown",
      "source": [
        "3. View the Group:\n",
        "Use the **groups** property in Python Pandas to view the group."
      ],
      "metadata": {
        "id": "hQck4Ji0p3LZ"
      }
    },
    {
      "cell_type": "code",
      "source": [
        "import pandas as pd\n",
        "# Data\n",
        "data = {\n",
        "    'Player': ['Vinit','Priyanshi','Vinit','Sunil','Shalu','Suyash'],\n",
        "    'Ranks': [1,2,4,5,3,6],\n",
        "    'Year': [1998,1999,1998,1997,1998,1996]\n",
        "}\n",
        "\n",
        "df = pd.DataFrame(data)\n",
        "print(\"\\nCricket Player Records:\\n\",df)\n",
        "\n",
        "# Group by Player:\n",
        "print(df.groupby('Player').groups)"
      ],
      "metadata": {
        "id": "NJQ88bRrl1OV",
        "colab": {
          "base_uri": "https://localhost:8080/"
        },
        "outputId": "b84a7119-a6e3-45d5-db99-92528ea21647"
      },
      "execution_count": null,
      "outputs": [
        {
          "output_type": "stream",
          "name": "stdout",
          "text": [
            "\n",
            "Cricket Player Records:\n",
            "       Player  Ranks  Year\n",
            "0      Vinit      1  1998\n",
            "1  Priyanshi      2  1999\n",
            "2      Vinit      4  1998\n",
            "3      Sunil      5  1997\n",
            "4      Shalu      3  1998\n",
            "5     Suyash      6  1996\n",
            "{'Priyanshi': [1], 'Shalu': [4], 'Sunil': [3], 'Suyash': [5], 'Vinit': [0, 2]}\n"
          ]
        }
      ]
    },
    {
      "cell_type": "markdown",
      "source": [
        "4. Perform Aggregation Operations on Groups:\n",
        "\n",
        "After grouping, we can perform operations on the grouped data using the **agg()** method. Through this method, get the mean or even get the size of each group, etc."
      ],
      "metadata": {
        "id": "jFmFFx5CqsmQ"
      }
    },
    {
      "cell_type": "markdown",
      "source": [
        "Example 4 : Get the mean of the grouped data: To get the mean of the grouped data, first group and then use the **agg()** method with **numpy.mean()**"
      ],
      "metadata": {
        "id": "c0wzML-frLWI"
      }
    },
    {
      "cell_type": "code",
      "source": [
        "import numpy as np\n",
        "import pandas as pd\n",
        "# Data\n",
        "data = {\n",
        "    'Player': ['Vinit','Priyanshi','Vinit','Sunil','Shalu','Suyash'],\n",
        "    'Ranks': [1,2,4,5,3,6],\n",
        "    'Points': [95,70,65,80,90,50],\n",
        "    'Year': [1998,1999,1998,1997,1998,1996]\n",
        "}\n",
        "# Our DataFrame\n",
        "df = pd.DataFrame(data)\n",
        "print(\"\\nCricket Player Records:\\n\",df)\n",
        "\n",
        "# Use the groupby() by group\n",
        "group_result = df.groupby('Year')\n",
        "\n",
        "# Use the agg() method:\n",
        "print(\"Mean:\\n\",group_result['Points'].agg(np.mean))"
      ],
      "metadata": {
        "colab": {
          "base_uri": "https://localhost:8080/"
        },
        "id": "uMPSZSIQqguO",
        "outputId": "1cf8a7e5-a52d-45cb-cc78-6fd67137d140"
      },
      "execution_count": null,
      "outputs": [
        {
          "output_type": "stream",
          "name": "stdout",
          "text": [
            "\n",
            "Cricket Player Records:\n",
            "       Player  Ranks  Points  Year\n",
            "0      Vinit      1      95  1998\n",
            "1  Priyanshi      2      70  1999\n",
            "2      Vinit      4      65  1998\n",
            "3      Sunil      5      80  1997\n",
            "4      Shalu      3      90  1998\n",
            "5     Suyash      6      50  1996\n",
            "Mean:\n",
            " Year\n",
            "1996    50.000000\n",
            "1997    80.000000\n",
            "1998    83.333333\n",
            "1999    70.000000\n",
            "Name: Points, dtype: float64\n"
          ]
        },
        {
          "output_type": "stream",
          "name": "stderr",
          "text": [
            "/tmp/ipython-input-6-2317964431.py:18: FutureWarning: The provided callable <function mean at 0x7bf70cb0e200> is currently using SeriesGroupBy.mean. In a future version of pandas, the provided callable will be used directly. To keep current behavior pass the string \"mean\" instead.\n",
            "  print(\"Mean:\\n\",group_result['Points'].agg(np.mean))\n"
          ]
        }
      ]
    },
    {
      "cell_type": "markdown",
      "source": [
        "Example 5 : Get the Size of Each Group (Aggregation): To get the size of each group, use the NumPy **size** attribute in Pandas. We have grouped by the Player column using the **groupby()**.  "
      ],
      "metadata": {
        "id": "7NPD8VxRsu0m"
      }
    },
    {
      "cell_type": "code",
      "source": [
        "import numpy as np\n",
        "import pandas as pd\n",
        "# Data\n",
        "data = {\n",
        "    'Player': ['Vinit','Priyanshi','Vinit','Sunil','Shalu','Suyash'],\n",
        "    'Ranks': [1,2,4,5,3,6],\n",
        "    'Points': [95,70,65,80,90,50],\n",
        "    'Year': [1998,1999,1998,1997,1998,1996]\n",
        "}\n",
        "# Our DataFrame\n",
        "df = pd.DataFrame(data)\n",
        "print(\"\\nCricket Player Records:\\n\",df)\n",
        "\n",
        "# Use the groupby() to group:\n",
        "group_result = df.groupby('Player')\n",
        "\n",
        "# The agg() performs aggregation\n",
        "# The numpy.size attribute returns the size on each group\n",
        "\n",
        "print(group_result.agg(np.size))"
      ],
      "metadata": {
        "colab": {
          "base_uri": "https://localhost:8080/"
        },
        "id": "tpXVhMRCsTxs",
        "outputId": "964ca0a9-0c24-49fc-8f65-cee62f5a3307"
      },
      "execution_count": null,
      "outputs": [
        {
          "output_type": "stream",
          "name": "stdout",
          "text": [
            "\n",
            "Cricket Player Records:\n",
            "       Player  Ranks  Points  Year\n",
            "0      Vinit      1      95  1998\n",
            "1  Priyanshi      2      70  1999\n",
            "2      Vinit      4      65  1998\n",
            "3      Sunil      5      80  1997\n",
            "4      Shalu      3      90  1998\n",
            "5     Suyash      6      50  1996\n",
            "           Ranks  Points  Year\n",
            "Player                        \n",
            "Priyanshi      1       1     1\n",
            "Shalu          1       1     1\n",
            "Sunil          1       1     1\n",
            "Suyash         1       1     1\n",
            "Vinit          2       2     2\n"
          ]
        }
      ]
    },
    {
      "cell_type": "markdown",
      "source": [
        "# Statistical Functions:\n",
        "\n",
        "We will work around statistics operations using the statistical functions in Python Pandas. It can be applied to a Pandas Series or DataFrame:\n",
        "\n",
        "1. **sum()**: Return the sum of the values.\n",
        "2. **count()**: Return the count of non-empty values.\n",
        "3. **max()**: Return the maximum of the values.\n",
        "4. **min()**: Return the minimum of the values.\n",
        "5. **mean()**: Return the mean of the values.\n",
        "6. **median()**: Return the median of the values.\n",
        "7. **std()**: Return the standard deviation of the values.\n",
        "8. **describe()**: Return the summary statistics for each column."
      ],
      "metadata": {
        "id": "6damKzAXtyt5"
      }
    },
    {
      "cell_type": "code",
      "source": [
        "# sum() function:\n",
        "import pandas as pd\n",
        "# Dataset\n",
        "marks = {\n",
        "    'Math': [90,85,98,80,55,78],\n",
        "    'Science': [92,87,59,64,87,96],\n",
        "    'English': [95,94,84,75,67,65]\n",
        "}\n",
        "\n",
        "# DataFrame\n",
        "df = pd.DataFrame(marks)\n",
        "print(\"DataFrame=\\n\",df)\n",
        "\n",
        "# Display the sum of marks in each column\n",
        "print(\"\\nSum of Marks:\\n\",df.sum())"
      ],
      "metadata": {
        "colab": {
          "base_uri": "https://localhost:8080/"
        },
        "id": "Wgxhpy2HtplA",
        "outputId": "afd4c7e4-58a1-4554-fb87-47bba4f22dd9"
      },
      "execution_count": null,
      "outputs": [
        {
          "output_type": "stream",
          "name": "stdout",
          "text": [
            "DataFrame=\n",
            "    Math  Science  English\n",
            "0    90       92       95\n",
            "1    85       87       94\n",
            "2    98       59       84\n",
            "3    80       64       75\n",
            "4    55       87       67\n",
            "5    78       96       65\n",
            "\n",
            "Sum of Marks:\n",
            " Math       486\n",
            "Science    485\n",
            "English    480\n",
            "dtype: int64\n"
          ]
        }
      ]
    },
    {
      "cell_type": "code",
      "source": [
        "# count() function:\n",
        "import pandas as pd\n",
        "# Dataset\n",
        "marks = {\n",
        "    'Math': [90,85,98,None,55,78],\n",
        "    'Science': [92,87,59,None,None,96],\n",
        "    'English': [95,94,84,75,67,None]\n",
        "}\n",
        "\n",
        "# DataFrame\n",
        "df = pd.DataFrame(marks)\n",
        "print(\"DataFrame=\\n\",df)\n",
        "\n",
        "# Display the count of non-empty values in each column\n",
        "print(\"\\nCount of Non-empty values:\\n\",df.count())"
      ],
      "metadata": {
        "colab": {
          "base_uri": "https://localhost:8080/"
        },
        "id": "6DWGFlYGvpf5",
        "outputId": "440ed337-4665-48b1-eeb1-b5d166643653"
      },
      "execution_count": null,
      "outputs": [
        {
          "output_type": "stream",
          "name": "stdout",
          "text": [
            "DataFrame=\n",
            "    Math  Science  English\n",
            "0  90.0     92.0     95.0\n",
            "1  85.0     87.0     94.0\n",
            "2  98.0     59.0     84.0\n",
            "3   NaN      NaN     75.0\n",
            "4  55.0      NaN     67.0\n",
            "5  78.0     96.0      NaN\n",
            "\n",
            "Count of Non-empty values:\n",
            " Math       5\n",
            "Science    4\n",
            "English    5\n",
            "dtype: int64\n"
          ]
        }
      ]
    },
    {
      "cell_type": "code",
      "source": [
        "# max() function:\n",
        "import pandas as pd\n",
        "# Dataset\n",
        "marks = {\n",
        "    'Math': [90,85,98,80,55,78],\n",
        "    'Science': [92,87,59,64,87,96],\n",
        "    'English': [95,94,84,75,67,65]\n",
        "}\n",
        "\n",
        "# DataFrame\n",
        "df = pd.DataFrame(marks)\n",
        "print(\"DataFrame=\\n\",df)\n",
        "\n",
        "# Display the maximum of marks in each column\n",
        "print(\"\\nMaximum Marks:\\n\",df.max())"
      ],
      "metadata": {
        "colab": {
          "base_uri": "https://localhost:8080/"
        },
        "id": "J879GixSwGPQ",
        "outputId": "447b4ca6-0020-4b82-dccd-c25782993deb"
      },
      "execution_count": null,
      "outputs": [
        {
          "output_type": "stream",
          "name": "stdout",
          "text": [
            "DataFrame=\n",
            "    Math  Science  English\n",
            "0    90       92       95\n",
            "1    85       87       94\n",
            "2    98       59       84\n",
            "3    80       64       75\n",
            "4    55       87       67\n",
            "5    78       96       65\n",
            "\n",
            "Maximum Marks:\n",
            " Math       98\n",
            "Science    96\n",
            "English    95\n",
            "dtype: int64\n"
          ]
        }
      ]
    },
    {
      "cell_type": "code",
      "source": [
        "# min() function:\n",
        "import pandas as pd\n",
        "# Dataset\n",
        "marks = {\n",
        "    'Math': [90,85,98,80,55,78],\n",
        "    'Science': [92,87,59,64,87,96],\n",
        "    'English': [95,94,84,75,67,65]\n",
        "}\n",
        "\n",
        "# DataFrame\n",
        "df = pd.DataFrame(marks)\n",
        "print(\"DataFrame=\\n\",df)\n",
        "\n",
        "# Display the minimum of marks in each column\n",
        "print(\"\\nMinimum Marks:\\n\",df.min())"
      ],
      "metadata": {
        "colab": {
          "base_uri": "https://localhost:8080/"
        },
        "id": "TRpjdQJbwpiU",
        "outputId": "3c281ac4-ae12-4fb6-afbe-c73ab84311bc"
      },
      "execution_count": null,
      "outputs": [
        {
          "output_type": "stream",
          "name": "stdout",
          "text": [
            "DataFrame=\n",
            "    Math  Science  English\n",
            "0    90       92       95\n",
            "1    85       87       94\n",
            "2    98       59       84\n",
            "3    80       64       75\n",
            "4    55       87       67\n",
            "5    78       96       65\n",
            "\n",
            "Minimum Marks:\n",
            " Math       55\n",
            "Science    59\n",
            "English    65\n",
            "dtype: int64\n"
          ]
        }
      ]
    },
    {
      "cell_type": "code",
      "source": [
        "# mean() function:\n",
        "import pandas as pd\n",
        "# Dataset\n",
        "marks = {\n",
        "    'Math': [90,85,98,80,55,78],\n",
        "    'Science': [92,87,59,64,87,96],\n",
        "    'English': [95,94,84,75,67,65]\n",
        "}\n",
        "\n",
        "# DataFrame\n",
        "df = pd.DataFrame(marks)\n",
        "print(\"DataFrame=\\n\",df)\n",
        "\n",
        "# Display the mean of marks in each column:\n",
        "print(\"\\nMean(avg) of Marks:\\n\",df.mean())"
      ],
      "metadata": {
        "colab": {
          "base_uri": "https://localhost:8080/"
        },
        "id": "fR6V8JrRxAVv",
        "outputId": "0e4f8445-d8a1-430d-b9bb-46abe2217f6d"
      },
      "execution_count": null,
      "outputs": [
        {
          "output_type": "stream",
          "name": "stdout",
          "text": [
            "DataFrame=\n",
            "    Math  Science  English\n",
            "0    90       92       95\n",
            "1    85       87       94\n",
            "2    98       59       84\n",
            "3    80       64       75\n",
            "4    55       87       67\n",
            "5    78       96       65\n",
            "\n",
            "Mean(avg) of Marks:\n",
            " Math       81.000000\n",
            "Science    80.833333\n",
            "English    80.000000\n",
            "dtype: float64\n"
          ]
        }
      ]
    },
    {
      "cell_type": "code",
      "source": [
        "# median() function:\n",
        "import pandas as pd\n",
        "# Dataset\n",
        "marks = {\n",
        "    'Math': [90,85,98,80,55,78],\n",
        "    'Science': [92,87,59,64,87,96],\n",
        "    'English': [95,94,84,75,67,65]\n",
        "}\n",
        "\n",
        "# DataFrame\n",
        "df = pd.DataFrame(marks)\n",
        "print(\"DataFrame=\\n\",df)\n",
        "\n",
        "# Display the median of marks in each column:\n",
        "print(\"\\nMedian(middle_value) of Marks:\\n\",df.median())"
      ],
      "metadata": {
        "colab": {
          "base_uri": "https://localhost:8080/"
        },
        "id": "ON93xgrhxbmC",
        "outputId": "0bf4509b-146e-4b3b-da06-93993779fd00"
      },
      "execution_count": null,
      "outputs": [
        {
          "output_type": "stream",
          "name": "stdout",
          "text": [
            "DataFrame=\n",
            "    Math  Science  English\n",
            "0    90       92       95\n",
            "1    85       87       94\n",
            "2    98       59       84\n",
            "3    80       64       75\n",
            "4    55       87       67\n",
            "5    78       96       65\n",
            "\n",
            "Median(middle_value) of Marks:\n",
            " Math       82.5\n",
            "Science    87.0\n",
            "English    79.5\n",
            "dtype: float64\n"
          ]
        }
      ]
    },
    {
      "cell_type": "code",
      "source": [
        "# std() function:\n",
        "import pandas as pd\n",
        "# Dataset\n",
        "marks = {\n",
        "    'Math': [90,85,98,80,55,78],\n",
        "    'Science': [92,87,59,64,87,96],\n",
        "    'English': [95,94,84,75,67,65]\n",
        "}\n",
        "\n",
        "# DataFrame\n",
        "df = pd.DataFrame(marks)\n",
        "print(\"DataFrame=\\n\",df)\n",
        "\n",
        "# Display the Standard Deviation of marks in each column:\n",
        "print(\"\\nStandard Deviation of Marks:\\n\",df.std())"
      ],
      "metadata": {
        "colab": {
          "base_uri": "https://localhost:8080/"
        },
        "id": "sksjoUHdzf6S",
        "outputId": "6847a391-2b49-4312-c262-9d77122e72c1"
      },
      "execution_count": null,
      "outputs": [
        {
          "output_type": "stream",
          "name": "stdout",
          "text": [
            "DataFrame=\n",
            "    Math  Science  English\n",
            "0    90       92       95\n",
            "1    85       87       94\n",
            "2    98       59       84\n",
            "3    80       64       75\n",
            "4    55       87       67\n",
            "5    78       96       65\n",
            "\n",
            "Standard Deviation of Marks:\n",
            " Math       14.642404\n",
            "Science    15.432649\n",
            "English    13.084342\n",
            "dtype: float64\n"
          ]
        }
      ]
    },
    {
      "cell_type": "code",
      "source": [
        "# describe() function:\n",
        "import pandas as pd\n",
        "# Dataset\n",
        "marks = {\n",
        "    'Math': [90,85,98,80,55,78],\n",
        "    'Science': [92,87,59,64,87,96],\n",
        "    'English': [95,94,84,75,67,65]\n",
        "}\n",
        "\n",
        "# DataFrame\n",
        "df = pd.DataFrame(marks)\n",
        "print(\"DataFrame=\\n\",df)\n",
        "\n",
        "# Display the Standard Deviation of marks in each column:\n",
        "print(\"\\nDescribe Marks of each column:\\n\",df.describe())"
      ],
      "metadata": {
        "colab": {
          "base_uri": "https://localhost:8080/"
        },
        "id": "QN33pYfRz02e",
        "outputId": "d7f13e3f-11ad-4b95-c174-7e26612deb75"
      },
      "execution_count": null,
      "outputs": [
        {
          "output_type": "stream",
          "name": "stdout",
          "text": [
            "DataFrame=\n",
            "    Math  Science  English\n",
            "0    90       92       95\n",
            "1    85       87       94\n",
            "2    98       59       84\n",
            "3    80       64       75\n",
            "4    55       87       67\n",
            "5    78       96       65\n",
            "\n",
            "Describe Marks of each column:\n",
            "             Math    Science    English\n",
            "count   6.000000   6.000000   6.000000\n",
            "mean   81.000000  80.833333  80.000000\n",
            "std    14.642404  15.432649  13.084342\n",
            "min    55.000000  59.000000  65.000000\n",
            "25%    78.500000  69.750000  69.000000\n",
            "50%    82.500000  87.000000  79.500000\n",
            "75%    88.750000  90.750000  91.500000\n",
            "max    98.000000  96.000000  95.000000\n"
          ]
        }
      ]
    },
    {
      "cell_type": "markdown",
      "source": [
        "# Plotting a DataFrame in Pandas:\n",
        "\n",
        "To plot in Pandas, we need to use the **plot()** method and the matplotlib library. The **pyplot** module from Matplotlib is also used for plotting in Pandas. The **pyplot.show()** is used to display the figure.\n",
        "\n",
        "First, install Matplotlib and run our first example."
      ],
      "metadata": {
        "id": "TXaxEjpq0VdX"
      }
    },
    {
      "cell_type": "code",
      "source": [
        "# Plot a DataFrame in Python Pandas:\n",
        "import pandas as pd\n",
        "import matplotlib.pyplot as plt\n",
        "# Dataset:\n",
        "data = {\n",
        "    'Temperature': [18,20,22,19,23,24,28,26,17,25],\n",
        "    'Humidity': [32,31,30,22,17,29,32,37,20,19],\n",
        "    'Wind': [12,20,8,9,20,27,22,33,37,35],\n",
        "    'Precipitation': [17,25,20,19,18,20,28,26,29,22]\n",
        "}\n",
        "# Create a DataFrame:\n",
        "df = pd.DataFrame(data)\n",
        "\n",
        "# Plot the DataFrame:\n",
        "df.plot()\n",
        "\n",
        "# Show the plot:\n",
        "plt.show()"
      ],
      "metadata": {
        "colab": {
          "base_uri": "https://localhost:8080/",
          "height": 430
        },
        "id": "b30zk8Ms0Gqk",
        "outputId": "ff5fb85c-05fa-4549-b817-f18e58069159"
      },
      "execution_count": null,
      "outputs": [
        {
          "output_type": "display_data",
          "data": {
            "text/plain": [
              "<Figure size 640x480 with 1 Axes>"
            ],
            "image/png": "[encoded data removed]"
          },
          "metadata": {}
        }
      ]
    },
    {
      "cell_type": "markdown",
      "source": [
        "Histogram: Histogram is a graphical representation to show frequency distribution. We will create a Histrogram here, Set the kind argument of the **plot()** method to **hist**. for this, we only need a single column."
      ],
      "metadata": {
        "id": "h3gOhpoF4EwT"
      }
    },
    {
      "cell_type": "code",
      "source": [
        "# Histogram:\n",
        "import pandas as pd\n",
        "import matplotlib.pyplot as plt\n",
        "# Dataset:\n",
        "data = {\n",
        "    'Temperature': [18,20,22,19,23,24,28,26,17,25],\n",
        "    'Humidity': [32,31,30,22,17,29,32,37,20,19],\n",
        "    'Wind': [12,20,8,9,20,27,22,33,37,35],\n",
        "    'Precipitation': [17,25,20,19,18,20,28,26,29,22]\n",
        "}\n",
        "# Create a DataFrame:\n",
        "df = pd.DataFrame(data)\n",
        "\n",
        "# Plot a Histogram:\n",
        "df['Humidity'].plot(kind = 'hist')\n",
        "\n",
        "# Display the figure:\n",
        "plt.show()"
      ],
      "metadata": {
        "colab": {
          "base_uri": "https://localhost:8080/",
          "height": 430
        },
        "id": "8O16aUkG23le",
        "outputId": "bb026649-d926-49b3-a30e-a4e93ad7a921"
      },
      "execution_count": null,
      "outputs": [
        {
          "output_type": "display_data",
          "data": {
            "text/plain": [
              "<Figure size 640x480 with 1 Axes>"
            ],
            "image/png": "[encoded data removed]"
          },
          "metadata": {}
        }
      ]
    },
    {
      "cell_type": "markdown",
      "source": [
        "Pie Chart: Pie Chart displays data in a pictorial form, divided into slices.\n",
        "\n",
        "We will create a Pie chart here, Use the **plot.pie()** method to draw a Pie chart."
      ],
      "metadata": {
        "id": "j0il8Sq25KuC"
      }
    },
    {
      "cell_type": "code",
      "source": [
        "import pandas as pd\n",
        "import matplotlib.pyplot as plt\n",
        "# Dataset:\n",
        "data = {\n",
        "    'Temperature': [18,20,22,19,23,24,28,26,17,25],\n",
        "    'Humidity': [32,31,30,22,17,29,32,37,20,19],\n",
        "    'Wind': [12,20,8,9,20,27,22,33,37,35],\n",
        "    'Precipitation': [17,25,20,19,18,20,28,26,29,22]\n",
        "}\n",
        "# Create a DataFrame:\n",
        "df = pd.DataFrame(data, index = ['Indore',\n",
        "                                 'Ujjain',\n",
        "                                 'Dewas',\n",
        "                                 'Bhopal',\n",
        "                                 'Jaora',\n",
        "                                 'Gwalior',\n",
        "                                 'Dhar',\n",
        "                                 'Mhow',\n",
        "                                 'Sanwer',\n",
        "                                 'Ratlam',])\n",
        "\n",
        "# Plot a Pie Chart:\n",
        "df.plot.pie(y='Humidity')\n",
        "\n",
        "# Display the figure:\n",
        "plt.show()"
      ],
      "metadata": {
        "id": "cnohy7b_41VM",
        "colab": {
          "base_uri": "https://localhost:8080/",
          "height": 406
        },
        "outputId": "be38988b-8300-4b10-e570-683b3bac183e"
      },
      "execution_count": null,
      "outputs": [
        {
          "output_type": "display_data",
          "data": {
            "text/plain": [
              "<Figure size 640x480 with 1 Axes>"
            ],
            "image/png": "[encoded data removed]"
          },
          "metadata": {}
        }
      ]
    },
    {
      "cell_type": "markdown",
      "source": [
        "Scatter Plot: Scatter Plot is a chart that displays the relationship between two variables. Each value in the data set is represented by a dot.\n",
        "\n",
        "We will create a Scatter Plot here.\n",
        "Set the **kind** argument of the **plot()** method to scatter. For this, we will also set the x-axis and y-axis."
      ],
      "metadata": {
        "id": "c8RVge5KA0NR"
      }
    },
    {
      "cell_type": "code",
      "source": [
        "import pandas as pd\n",
        "import matplotlib.pyplot as plt\n",
        "# Dataset:\n",
        "data = {\n",
        "    'Temperature': [18,20,22,19,23,24,28,26,17,25],\n",
        "    'Humidity': [32,31,30,22,17,29,32,37,20,19],\n",
        "    'Wind': [12,20,8,9,20,27,22,33,37,35],\n",
        "    'Precipitation': [17,25,20,19,18,20,28,26,29,22]\n",
        "}\n",
        "# Create a DataFrame:\n",
        "df = pd.DataFrame(data)\n",
        "\n",
        "# Plot a Scatter plot:\n",
        "df.plot(kind = 'scatter', x ='Temperature', y = 'Humidity')\n",
        "\n",
        "# Display the figure:\n",
        "plt.show()"
      ],
      "metadata": {
        "id": "h6iVnwH-_87n",
        "colab": {
          "base_uri": "https://localhost:8080/",
          "height": 449
        },
        "outputId": "4713b780-720e-4511-edf1-d1afdd73be85"
      },
      "execution_count": 28,
      "outputs": [
        {
          "output_type": "display_data",
          "data": {
            "text/plain": [
              "<Figure size 640x480 with 1 Axes>"
            ],
            "image/png": "[encoded data removed]"
          },
          "metadata": {}
        }
      ]
    },
    {
      "cell_type": "markdown",
      "source": [
        "Area Plot: Area Plot displays quantitative data visually. The area between axis and line are commonly filled with colors or textures.\n",
        "\n",
        "We will create an Area Plot here. Use the **plot.area()** method to draw an Area Plot."
      ],
      "metadata": {
        "id": "hxj4bSjLCW_A"
      }
    },
    {
      "cell_type": "code",
      "source": [
        "import pandas as pd\n",
        "import matplotlib.pyplot as plt\n",
        "# Dataset:\n",
        "data = {\n",
        "    'Temperature': [18,20,22,19,23,24,28,26,17,25],\n",
        "    'Humidity': [32,31,30,22,17,29,32,37,20,19],\n",
        "    'Wind': [12,20,8,9,20,27,22,33,37,35],\n",
        "    'Precipitation': [17,25,20,19,18,20,28,26,29,22]\n",
        "}\n",
        "# Create a DataFrame:\n",
        "df = pd.DataFrame(data)\n",
        "\n",
        "# Area Plot\n",
        "df.plot.area()\n",
        "\n",
        "# Display the figure:\n",
        "plt.show()"
      ],
      "metadata": {
        "colab": {
          "base_uri": "https://localhost:8080/",
          "height": 430
        },
        "id": "kCHI4_ydCCU2",
        "outputId": "d5b68c5c-cd5a-4893-f878-6b01b2e763fe"
      },
      "execution_count": 30,
      "outputs": [
        {
          "output_type": "display_data",
          "data": {
            "text/plain": [
              "<Figure size 640x480 with 1 Axes>"
            ],
            "image/png": "[encoded data removed]"
          },
          "metadata": {}
        }
      ]
    },
    {
      "cell_type": "code",
      "source": [],
      "metadata": {
        "id": "mBsiWs4qDIeS"
      },
      "execution_count": null,
      "outputs": []
    }
  ]
}