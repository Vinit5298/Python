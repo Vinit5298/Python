{
  "nbformat": 4,
  "nbformat_minor": 0,
  "metadata": {
    "colab": {
      "provenance": [],
      "authorship_tag": "ABX9TyOZQENTYl7LZxSXoyGYC3Ej",
      "include_colab_link": true
    },
    "kernelspec": {
      "name": "python3",
      "display_name": "Python 3"
    },
    "language_info": {
      "name": "python"
    }
  },
  "cells": [
    {
      "cell_type": "markdown",
      "metadata": {
        "id": "view-in-github",
        "colab_type": "text"
      },
      "source": [
        "<a href=\"https://colab.research.google.com/github/Vinit5298/Python/blob/main/Python_if_Else_Test.ipynb\" target=\"_parent\"><img src=\"https://colab.research.google.com/assets/colab-badge.svg\" alt=\"Open In Colab\"/></a>"
      ]
    },
    {
      "cell_type": "code",
      "execution_count": 1,
      "metadata": {
        "id": "-5hMfjqqLOcG"
      },
      "outputs": [],
      "source": [
        "# 24th May 2025 Test Question Saturday"
      ]
    },
    {
      "cell_type": "code",
      "source": [
        "x = 25\n",
        "y = 10\n",
        "if x == 25 and y != 10:\n",
        "    print(\"A\")\n",
        "elif x == 25 and y == 10:\n",
        "    print(\"B\")\n",
        "elif x != 25 and y == 10:\n",
        "    print(\"C\")\n",
        "else:\n",
        "    print(\"D\")"
      ],
      "metadata": {
        "colab": {
          "base_uri": "https://localhost:8080/"
        },
        "id": "KCerb_rQLStb",
        "outputId": "85639a6e-1be3-4f48-e099-d9b073fd1261"
      },
      "execution_count": 2,
      "outputs": [
        {
          "output_type": "stream",
          "name": "stdout",
          "text": [
            "B\n"
          ]
        }
      ]
    },
    {
      "cell_type": "code",
      "source": [
        "x = 25\n",
        "y = 10\n",
        "if x == 25 and y != 10:\n",
        "    print(\"A\")\n",
        "elif x == 25 and y == 10:\n",
        "    print(\"B\")\n",
        "elif x != 25 and y == 10:\n",
        "    print(\"C\")\n",
        "else:\n",
        "    print(\"D\")"
      ],
      "metadata": {
        "colab": {
          "base_uri": "https://localhost:8080/"
        },
        "id": "mL1bSrznLUFN",
        "outputId": "ed501362-9ae5-46b2-c9e2-8cee543d111a"
      },
      "execution_count": 3,
      "outputs": [
        {
          "output_type": "stream",
          "name": "stdout",
          "text": [
            "B\n"
          ]
        }
      ]
    },
    {
      "cell_type": "code",
      "source": [
        "x = 15\n",
        "if x % 5 == 0 and x % 3 == 0:\n",
        "    print(\"Divisible by both 5 and 3\")\n",
        "elif x % 5 == 0:\n",
        "    print(\"Divisible by 5\")\n",
        "elif x % 3 == 0:\n",
        "    print(\"Divisible by 3\")\n",
        "else:\n",
        "    print(\"Not divisible by 5 or 3\")"
      ],
      "metadata": {
        "colab": {
          "base_uri": "https://localhost:8080/"
        },
        "id": "7y7IVlztLaWM",
        "outputId": "a59bf800-e4a6-4b47-bc26-66ca68ae7c67"
      },
      "execution_count": 4,
      "outputs": [
        {
          "output_type": "stream",
          "name": "stdout",
          "text": [
            "Divisible by both 5 and 3\n"
          ]
        }
      ]
    },
    {
      "cell_type": "code",
      "source": [
        "x = 18\n",
        "y = 10\n",
        "if x > y:\n",
        "    if x % 2 == 0:\n",
        "        print(\"X is even and greater than Y\")\n",
        "    else:\n",
        "        print(\"X is odd and greater than Y\")\n",
        "else:\n",
        "    print(\"Y is greater than or equal to X\")"
      ],
      "metadata": {
        "colab": {
          "base_uri": "https://localhost:8080/"
        },
        "id": "kZICuAwyLc-n",
        "outputId": "7a8e9428-f133-415b-9908-3754e532cb3a"
      },
      "execution_count": 5,
      "outputs": [
        {
          "output_type": "stream",
          "name": "stdout",
          "text": [
            "X is even and greater than Y\n"
          ]
        }
      ]
    },
    {
      "cell_type": "code",
      "source": [
        "x = -10\n",
        "y = -5\n",
        "if x < 0 and y < 0:\n",
        "    if x < y:\n",
        "        print(\"X is smaller than Y\")\n",
        "    else:\n",
        "        print(\"Y is smaller than X\")\n",
        "else:\n",
        "    print(\"At least one of them is not negative\")"
      ],
      "metadata": {
        "colab": {
          "base_uri": "https://localhost:8080/"
        },
        "id": "Gy3OCH4sLkyR",
        "outputId": "40b6b291-c9ea-4059-8df2-7994a33fd5d6"
      },
      "execution_count": 6,
      "outputs": [
        {
          "output_type": "stream",
          "name": "stdout",
          "text": [
            "X is smaller than Y\n"
          ]
        }
      ]
    },
    {
      "cell_type": "code",
      "source": [
        "x = 300\n",
        "y = 300\n",
        "z = x\n",
        "if x == y and y is z:\n",
        "    print(\"All values are equal\")\n",
        "elif x == y or y == z:\n",
        "    print(\"Some values are equal\")\n",
        "else:\n",
        "    print(\"No values are equal\")"
      ],
      "metadata": {
        "colab": {
          "base_uri": "https://localhost:8080/"
        },
        "id": "t2kOXO0kLsY4",
        "outputId": "ebeeab6c-cee3-4b96-8650-d5cd13caacb7"
      },
      "execution_count": 7,
      "outputs": [
        {
          "output_type": "stream",
          "name": "stdout",
          "text": [
            "Some values are equal\n"
          ]
        }
      ]
    },
    {
      "cell_type": "code",
      "source": [
        "x = 10\n",
        "if x % 2 == 0:\n",
        "    if x % 5 == 0:\n",
        "        print(\"Multiple of 10\")\n",
        "    else:\n",
        "        print(\"Multiple of 2 but not 5\")\n",
        "else:\n",
        "    print(\"Odd number\")"
      ],
      "metadata": {
        "colab": {
          "base_uri": "https://localhost:8080/"
        },
        "id": "zyXOw7NfL0mG",
        "outputId": "8e4539a5-1c0f-4464-93ba-027d3eeb37c0"
      },
      "execution_count": 8,
      "outputs": [
        {
          "output_type": "stream",
          "name": "stdout",
          "text": [
            "Multiple of 10\n"
          ]
        }
      ]
    },
    {
      "cell_type": "code",
      "source": [
        "x = 7\n",
        "if x % 2 != 0 and x > 5:\n",
        "    print(\"Odd and greater than 5\")\n",
        "else:\n",
        "    print(\"Condition not met\")"
      ],
      "metadata": {
        "colab": {
          "base_uri": "https://localhost:8080/"
        },
        "id": "YTsDhXEFL9Tr",
        "outputId": "ff4218c6-8804-42e2-a5d5-2eabd686b54d"
      },
      "execution_count": 9,
      "outputs": [
        {
          "output_type": "stream",
          "name": "stdout",
          "text": [
            "Odd and greater than 5\n"
          ]
        }
      ]
    },
    {
      "cell_type": "code",
      "source": [
        "x = 5;\n",
        "y = 3;\n",
        "z = 8;\n",
        "if x == y or y == z: #---> In if Condition there is no semicolon so its gave us error.\n",
        "    print(\"Condition True\")\n",
        "else:\n",
        "    print(\"Condition False\") #----> Answer when semicolon is applied in if condition"
      ],
      "metadata": {
        "colab": {
          "base_uri": "https://localhost:8080/"
        },
        "id": "wxJxULhsMCyc",
        "outputId": "255e9a7e-7abd-4ba6-f8a1-d9d4778cf1d0"
      },
      "execution_count": 11,
      "outputs": [
        {
          "output_type": "stream",
          "name": "stdout",
          "text": [
            "Condition False\n"
          ]
        }
      ]
    },
    {
      "cell_type": "code",
      "source": [
        "x = 12\n",
        "y = 8\n",
        "if x % 2 == 0:\n",
        "    if y % 2 == 0:\n",
        "        print(\"Both numbers are even\")\n",
        "    else:\n",
        "        print(\"Only X is even\")\n",
        "else:\n",
        "    print(\"Neither X nor Y is even\")"
      ],
      "metadata": {
        "colab": {
          "base_uri": "https://localhost:8080/"
        },
        "id": "pM3VkpJBMF1S",
        "outputId": "767d361f-7937-4bf9-c0f7-ec34eba15088"
      },
      "execution_count": 12,
      "outputs": [
        {
          "output_type": "stream",
          "name": "stdout",
          "text": [
            "Both numbers are even\n"
          ]
        }
      ]
    },
    {
      "cell_type": "code",
      "source": [
        "x = 18\n",
        "y = 9\n",
        "if x > y:\n",
        "    if x % 2 == 0:\n",
        "        print(\"X is greater and even\")\n",
        "    else:\n",
        "        print(\"X is greater but odd\")\n",
        "else:\n",
        "    print(\"Y is greater or equal to X\")"
      ],
      "metadata": {
        "colab": {
          "base_uri": "https://localhost:8080/"
        },
        "id": "oMJsSLbmMwFG",
        "outputId": "dd7889c8-564f-479c-e541-a4be12b9a866"
      },
      "execution_count": 13,
      "outputs": [
        {
          "output_type": "stream",
          "name": "stdout",
          "text": [
            "X is greater and even\n"
          ]
        }
      ]
    },
    {
      "cell_type": "code",
      "source": [
        "x = 2\n",
        "y = 5\n",
        "z = 7\n",
        "if x > y:\n",
        "    print(\"X is greater\")\n",
        "elif y > z:\n",
        "    print(\"Y is greater\")\n",
        "else:\n",
        "    print(\"Z is the greatest\")"
      ],
      "metadata": {
        "colab": {
          "base_uri": "https://localhost:8080/"
        },
        "id": "5lKMNwmQM4Qp",
        "outputId": "b4be54bb-e7c0-4072-aea7-775730902aeb"
      },
      "execution_count": 14,
      "outputs": [
        {
          "output_type": "stream",
          "name": "stdout",
          "text": [
            "Z is the greatest\n"
          ]
        }
      ]
    },
    {
      "cell_type": "code",
      "source": [
        "x = 15\n",
        "if x % 3 == 0 and x % 5 == 0:\n",
        "    print(\"FizzBuzz\", end=\" \")\n",
        "if x % 3 == 0:\n",
        "    print(\"Fizz\", end=\" \"  )\n",
        "elif x % 5 == 0:\n",
        "    print(\"Buzz\",  end=\" \"  )\n",
        "else:\n",
        "    print(\"Neither\")"
      ],
      "metadata": {
        "colab": {
          "base_uri": "https://localhost:8080/"
        },
        "id": "EF3vZXiqM7L7",
        "outputId": "faf82c6b-4359-4d64-b6a9-bc9bfc4db138"
      },
      "execution_count": 15,
      "outputs": [
        {
          "output_type": "stream",
          "name": "stdout",
          "text": [
            "FizzBuzz Fizz "
          ]
        }
      ]
    },
    {
      "cell_type": "code",
      "source": [
        "x = 100\n",
        "if x % 10 == 0:\n",
        "    if x > 50:\n",
        "        print(\"Large and divisible by 10\")\n",
        "    else:\n",
        "        print(\"Small but divisible by 10\")\n",
        "else:\n",
        "    print(\"Not divisible by 10\")"
      ],
      "metadata": {
        "colab": {
          "base_uri": "https://localhost:8080/"
        },
        "id": "S5OfJ_hPNIYW",
        "outputId": "b498530c-790e-400e-b4ec-c2527d30b65c"
      },
      "execution_count": 16,
      "outputs": [
        {
          "output_type": "stream",
          "name": "stdout",
          "text": [
            "Large and divisible by 10\n"
          ]
        }
      ]
    },
    {
      "cell_type": "code",
      "source": [
        "x = 7\n",
        "y = 5\n",
        "if x > y:\n",
        "    if x % 2 == 0:\n",
        "        print(\"X is even\")\n",
        "    else:\n",
        "        print(\"X is odd\")\n",
        "else:\n",
        "    print(\"Y is greater or equal\")"
      ],
      "metadata": {
        "colab": {
          "base_uri": "https://localhost:8080/"
        },
        "id": "LqgL9SqmNOum",
        "outputId": "bc80c51a-d3b7-485c-ec0b-df8fea8d2b1d"
      },
      "execution_count": 17,
      "outputs": [
        {
          "output_type": "stream",
          "name": "stdout",
          "text": [
            "X is odd\n"
          ]
        }
      ]
    },
    {
      "cell_type": "code",
      "source": [
        "x = 7\n",
        "if x == 7:\n",
        "    if x % 2 == 0:\n",
        "        print(\"X is even\")\n",
        "    else:\n",
        "        print(\"X is odd\")\n",
        "else:\n",
        "    print(\"X is not 7\")"
      ],
      "metadata": {
        "colab": {
          "base_uri": "https://localhost:8080/"
        },
        "id": "GOSAqvQwNVDd",
        "outputId": "91f7d47e-13fc-42c2-ac1a-80002f55ff72"
      },
      "execution_count": 18,
      "outputs": [
        {
          "output_type": "stream",
          "name": "stdout",
          "text": [
            "X is odd\n"
          ]
        }
      ]
    },
    {
      "cell_type": "code",
      "source": [
        "x = 8\n",
        "y = 3\n",
        "z = 5\n",
        "if x > y and y < z:\n",
        "    if y > z:\n",
        "        print(\"Y is the middle\")\n",
        "    else:\n",
        "        print(\"Z is the middle\")\n",
        "else:\n",
        "    print(\"X is not the largest\")"
      ],
      "metadata": {
        "colab": {
          "base_uri": "https://localhost:8080/"
        },
        "id": "sqVEvwJnNaZq",
        "outputId": "775f7364-4e3c-463a-99e1-a2cafbc7fc85"
      },
      "execution_count": 19,
      "outputs": [
        {
          "output_type": "stream",
          "name": "stdout",
          "text": [
            "Z is the middle\n"
          ]
        }
      ]
    },
    {
      "cell_type": "code",
      "source": [
        "x = 10\n",
        "y = 15\n",
        "if x > y or y % 5 == 0:\n",
        "    print(\"Condition True\")\n",
        "else:\n",
        "    print(\"Condition False\")"
      ],
      "metadata": {
        "colab": {
          "base_uri": "https://localhost:8080/"
        },
        "id": "WuReqluKNhqx",
        "outputId": "626bc91a-0e4a-42f8-e8a1-df802bf9555c"
      },
      "execution_count": 20,
      "outputs": [
        {
          "output_type": "stream",
          "name": "stdout",
          "text": [
            "Condition True\n"
          ]
        }
      ]
    },
    {
      "cell_type": "code",
      "source": [
        "x = 4\n",
        "y = 4\n",
        "if x ** 2 == y**y:\n",
        "    print(\"Perfect square\")\n",
        "else:\n",
        "    print(\"Not a perfect square\")"
      ],
      "metadata": {
        "colab": {
          "base_uri": "https://localhost:8080/"
        },
        "id": "5c3G0cOLNmBe",
        "outputId": "85d12b4f-8e18-4615-d934-1d2b9488dbc1"
      },
      "execution_count": 21,
      "outputs": [
        {
          "output_type": "stream",
          "name": "stdout",
          "text": [
            "Not a perfect square\n"
          ]
        }
      ]
    },
    {
      "cell_type": "code",
      "source": [
        "x = 4\n",
        "y = 6\n",
        "if x < y:\n",
        "    if y % 2 == 0:\n",
        "        print(\"Even number greater than X\")\n",
        "    else:\n",
        "        print(\"Odd number greater than X\")\n",
        "else:\n",
        "    print(\"Condition not met\")"
      ],
      "metadata": {
        "colab": {
          "base_uri": "https://localhost:8080/"
        },
        "id": "xQ29v5NcN1Rb",
        "outputId": "e59418ae-6628-4e03-90cb-b5fd81987453"
      },
      "execution_count": 22,
      "outputs": [
        {
          "output_type": "stream",
          "name": "stdout",
          "text": [
            "Even number greater than X\n"
          ]
        }
      ]
    },
    {
      "cell_type": "code",
      "source": [],
      "metadata": {
        "id": "pgLNnmXGOCI2"
      },
      "execution_count": null,
      "outputs": []
    }
  ]
}