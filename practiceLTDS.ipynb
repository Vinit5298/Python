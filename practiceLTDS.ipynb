{
  "nbformat": 4,
  "nbformat_minor": 0,
  "metadata": {
    "colab": {
      "provenance": [],
      "authorship_tag": "ABX9TyMLv8cKPeKM1X02XnIxiiV/",
      "include_colab_link": true
    },
    "kernelspec": {
      "name": "python3",
      "display_name": "Python 3"
    },
    "language_info": {
      "name": "python"
    }
  },
  "cells": [
    {
      "cell_type": "markdown",
      "metadata": {
        "id": "view-in-github",
        "colab_type": "text"
      },
      "source": [
        "<a href=\"https://colab.research.google.com/github/Vinit5298/Python/blob/main/practiceLTDS.ipynb\" target=\"_parent\"><img src=\"https://colab.research.google.com/assets/colab-badge.svg\" alt=\"Open In Colab\"/></a>"
      ]
    },
    {
      "cell_type": "code",
      "source": [
        "# How variable stores in Memory:\n",
        "age = 10\n",
        "print(\"Memory of age:\",id(age))\n",
        "\n",
        "x=age\n",
        "print(\"Memory of x:\",id(x))\n",
        "\n",
        "x = 20\n",
        "print(\"Memory of x after value changes:\",id(x))\n",
        "print(\"Memory of age after value changes:\",id(age))"
      ],
      "metadata": {
        "colab": {
          "base_uri": "https://localhost:8080/"
        },
        "id": "CD5hC6Bfxp4N",
        "outputId": "cee41524-10cf-47a0-d30b-e64f767b2eac"
      },
      "execution_count": null,
      "outputs": [
        {
          "output_type": "stream",
          "name": "stdout",
          "text": [
            "Memory of age: 10758024\n",
            "Memory of x: 10758024\n",
            "Memory of x after value changes: 10758344\n",
            "Memory of age after value changes: 10758024\n"
          ]
        }
      ]
    },
    {
      "cell_type": "code",
      "source": [
        "# List Datatypes:\n",
        "# List is a datatype which store the collection of data.\n",
        "# List is mutable datatype:\n",
        "# mutable: We can make changes in data(values).\n",
        "# immutable: We can not make changes in data(values).\n",
        "# How can we make list:\n",
        "list = []\n",
        "print(list)"
      ],
      "metadata": {
        "colab": {
          "base_uri": "https://localhost:8080/"
        },
        "id": "FDP658XxzDYr",
        "outputId": "4393078f-3435-4512-861a-36490fbcea0a"
      },
      "execution_count": null,
      "outputs": [
        {
          "output_type": "stream",
          "name": "stdout",
          "text": [
            "[]\n"
          ]
        }
      ]
    },
    {
      "cell_type": "code",
      "source": [
        "# Index in list:\n",
        "\n",
        "list = [\"Vinit\",1,2,3,4,5,\"abc\"]\n",
        "print(list[0] or list[-7])\n",
        "print(list[1] or list[-6])\n",
        "print(list[2] or list[-5])\n",
        "print(list[3] or list[-4])\n",
        "print(list[4] or list[-3])\n",
        "print(list[5] or list[-2])\n",
        "print(list[6] or list[-1])\n",
        "\n",
        "# List is also a Sequence datatype:Ordered:\n",
        "# Elements have a specific order and can be accessed by their index.\n",
        "# 1. Indexed: Each element has an associated index, starting from 0 for the first element.\n",
        "# 2. Iterable: They can be looped through using for loops.\n",
        "# 3. Slicing: Subsequences can be extracted using slicing notation [start:stop:step].\n",
        "# 4. Common Operations: Sequences support operations like concatenation,\n",
        "#   repetition, membership testing, and length calculation."
      ],
      "metadata": {
        "colab": {
          "base_uri": "https://localhost:8080/"
        },
        "id": "xEtjeGi81PKz",
        "outputId": "25647af2-66a2-42d3-c248-89f932f1e26a"
      },
      "execution_count": null,
      "outputs": [
        {
          "output_type": "stream",
          "name": "stdout",
          "text": [
            "Vinit\n",
            "1\n",
            "2\n",
            "3\n",
            "4\n",
            "5\n",
            "abc\n"
          ]
        }
      ]
    },
    {
      "cell_type": "code",
      "source": [
        "# How to make and then check the type of datatype:\n",
        "\n",
        "list = [10, 20,\"abc\"]\n",
        "print(type(list))"
      ],
      "metadata": {
        "colab": {
          "base_uri": "https://localhost:8080/"
        },
        "id": "RSH5nqmF1fRm",
        "outputId": "bc1a511e-9cd2-4bde-a28f-4525ae84d014"
      },
      "execution_count": null,
      "outputs": [
        {
          "output_type": "stream",
          "name": "stdout",
          "text": [
            "<class 'list'>\n"
          ]
        }
      ]
    },
    {
      "cell_type": "code",
      "source": [
        "# How to check the length of list:\n",
        "\n",
        "mylist=[10,20,30,40,50,60]\n",
        "print(len(mylist))"
      ],
      "metadata": {
        "colab": {
          "base_uri": "https://localhost:8080/"
        },
        "id": "O3RdJMw7CNNy",
        "outputId": "f5902d4d-596f-4f7d-cbe3-c2c1a6fb2d47"
      },
      "execution_count": null,
      "outputs": [
        {
          "output_type": "stream",
          "name": "stdout",
          "text": [
            "6\n"
          ]
        }
      ]
    },
    {
      "cell_type": "code",
      "source": [
        "mylist=[10,20,\"abc\"]\n",
        "print(mylist)\n",
        "# We want to insert any data in list.\n",
        "mylist.append(90)\n",
        "print(mylist)\n",
        "# But when we use the append command so the data will\n",
        "# automatically insert at the end of the list.\n",
        "mylist.append(100)\n",
        "print(mylist)"
      ],
      "metadata": {
        "colab": {
          "base_uri": "https://localhost:8080/"
        },
        "id": "EBn_nNCm3eU9",
        "outputId": "d9ab0837-31af-4349-ab70-7e3e812926b0"
      },
      "execution_count": null,
      "outputs": [
        {
          "output_type": "stream",
          "name": "stdout",
          "text": [
            "[10, 20, 'abc']\n",
            "[10, 20, 'abc', 90]\n",
            "[10, 20, 'abc', 90, 100]\n"
          ]
        }
      ]
    },
    {
      "cell_type": "code",
      "source": [
        "# We want to insert any data in list.(in the middle of list)\n",
        "# Not asked and also not suggest this command.\n",
        "\n",
        "print(mylist)\n",
        "mylist.insert(2,30) #Insert command: with the given index\n",
        "# we insert the data at that place.\n",
        "print(mylist)\n",
        "# whenever we run the code the value 30 will be insert in the list."
      ],
      "metadata": {
        "colab": {
          "base_uri": "https://localhost:8080/"
        },
        "id": "ytfN8Qu26YrR",
        "outputId": "70e711a5-4804-45af-ffd3-613ccf073bea"
      },
      "execution_count": null,
      "outputs": [
        {
          "output_type": "stream",
          "name": "stdout",
          "text": [
            "[10, 20, 'abc', 90, 100]\n",
            "[10, 20, 30, 'abc', 90, 100]\n"
          ]
        }
      ]
    },
    {
      "cell_type": "code",
      "source": [
        "# We want to update the data of list:\n",
        "print(mylist)\n",
        "mylist[4]=99 # --> with this, update the element of list.\n",
        "print(mylist) # --> Give the index and equals to that value\n",
        "# which we want to update with the previous one."
      ],
      "metadata": {
        "colab": {
          "base_uri": "https://localhost:8080/"
        },
        "id": "Op2sUW0k5QtF",
        "outputId": "ddcc58d7-7c64-431f-84d2-db86bac43d24"
      },
      "execution_count": null,
      "outputs": [
        {
          "output_type": "stream",
          "name": "stdout",
          "text": [
            "[10, 20, 30, 'abc', 99, 100]\n",
            "[10, 20, 30, 'abc', 99, 100]\n"
          ]
        }
      ]
    },
    {
      "cell_type": "code",
      "source": [
        "# If we want to delete the Element from the list:\n",
        "\n",
        "print(mylist)\n",
        "mylist.pop() # Delete the last Element.\n",
        "print(mylist)\n",
        "mylist.pop(0) # 0th index will be deleted.\n",
        "print(mylist) # Delete the Element which we gave the index."
      ],
      "metadata": {
        "colab": {
          "base_uri": "https://localhost:8080/"
        },
        "id": "6kCXOuAo8Gtc",
        "outputId": "b325329e-813a-4462-fffc-b497876a6578"
      },
      "execution_count": null,
      "outputs": [
        {
          "output_type": "stream",
          "name": "stdout",
          "text": [
            "[10, 20, 30, 'abc', 99, 100]\n",
            "[10, 20, 30, 'abc', 99]\n",
            "[20, 30, 'abc', 99]\n"
          ]
        }
      ]
    },
    {
      "cell_type": "code",
      "source": [
        "# POP Command:\n",
        "# pop always gave us a return value means which we delete lastly that\n",
        "# value pop will automatically gave us.\n",
        "\n",
        "a=[10,20] #-- Create a list.\n",
        "print(\"List:\",a)\n",
        "a.append(30) # add a data(element) in last of list.\n",
        "print(\"Add Element at last:\",a)\n",
        "a.insert(3,40) # add a data in index which we want.\n",
        "print(\"Add Element by index Value:\",a)\n",
        "a[0]=100 # Update the value.\n",
        "print(\"Update the value:\",a)\n",
        "b=a.pop() # Delete the value.\n",
        "print(\"Delete the value:\",a,b)"
      ],
      "metadata": {
        "colab": {
          "base_uri": "https://localhost:8080/"
        },
        "id": "p4rL3VEL8nO9",
        "outputId": "065f8bb0-0ab4-4c7f-cd4c-a3379769c77e"
      },
      "execution_count": null,
      "outputs": [
        {
          "output_type": "stream",
          "name": "stdout",
          "text": [
            "List: [10, 20]\n",
            "Add Element at last: [10, 20, 30]\n",
            "Add Element by index Value: [10, 20, 30, 40]\n",
            "Update the value: [100, 20, 30, 40]\n",
            "Delete the value: [100, 20, 30] 40\n"
          ]
        }
      ]
    },
    {
      "cell_type": "code",
      "source": [
        "# How to sort the values of list:\n",
        "\n",
        "x=[10,30,20,40,5,8,9,1,2,4,6,3,7]\n",
        "x.sort() # Sort Function will sort the values in Ascending order.\n",
        "print(\"Sorted list:\",x)"
      ],
      "metadata": {
        "colab": {
          "base_uri": "https://localhost:8080/"
        },
        "id": "vr4TezXo9_-o",
        "outputId": "984722e2-13c7-4df9-9ac7-224c98ca7fd2"
      },
      "execution_count": null,
      "outputs": [
        {
          "output_type": "stream",
          "name": "stdout",
          "text": [
            "Sorted list: [1, 2, 3, 4, 5, 6, 7, 8, 9, 10, 20, 30, 40]\n"
          ]
        }
      ]
    },
    {
      "cell_type": "code",
      "source": [
        "# How to reverse the values of list:\n",
        "\n",
        "x=[5,4,3,2,1]\n",
        "x.reverse() # Reverse all the values.\n",
        "print(\"Reverse the values of list:\",x)"
      ],
      "metadata": {
        "colab": {
          "base_uri": "https://localhost:8080/"
        },
        "id": "KX2ukehBBA6z",
        "outputId": "8c609c66-351b-4e0a-fdc3-a1d862408a0e"
      },
      "execution_count": null,
      "outputs": [
        {
          "output_type": "stream",
          "name": "stdout",
          "text": [
            "Reverse the values of list: [1, 2, 3, 4, 5]\n"
          ]
        }
      ]
    },
    {
      "cell_type": "code",
      "source": [
        "# How to access each element of list:\n",
        "# In list we run a loop directly:\n",
        "# Means: for i in list:\n",
        "list = [10,20,30,40,3,2,70]\n",
        "for i in range(len(list)):\n",
        "  print(\"Index\",i,\"=\",\"Value:\",list[i])"
      ],
      "metadata": {
        "colab": {
          "base_uri": "https://localhost:8080/"
        },
        "id": "rul783svBlkN",
        "outputId": "f9b1f84d-980f-4ea6-b66f-e4d91d4240e4"
      },
      "execution_count": null,
      "outputs": [
        {
          "output_type": "stream",
          "name": "stdout",
          "text": [
            "Index 0 = Value: 10\n",
            "Index 1 = Value: 20\n",
            "Index 2 = Value: 30\n",
            "Index 3 = Value: 40\n",
            "Index 4 = Value: 3\n",
            "Index 5 = Value: 2\n",
            "Index 6 = Value: 70\n"
          ]
        }
      ]
    },
    {
      "cell_type": "code",
      "source": [
        "# Problem: check in the list for those numbers which are\n",
        "# greater than 10:\n",
        "\n",
        "list = [10,20,30,40,3,2,70]\n",
        "for i in range(len(list)):\n",
        "  if list[i] > 10:\n",
        "    print(\"Index:\",i,\"Value:\",list[i])"
      ],
      "metadata": {
        "colab": {
          "base_uri": "https://localhost:8080/"
        },
        "id": "Y5DMpI45Cctj",
        "outputId": "7d28a1d9-8944-43cc-d89f-c550966f3f71"
      },
      "execution_count": null,
      "outputs": [
        {
          "output_type": "stream",
          "name": "stdout",
          "text": [
            "Index: 1 Value: 20\n",
            "Index: 2 Value: 30\n",
            "Index: 3 Value: 40\n",
            "Index: 6 Value: 70\n"
          ]
        }
      ]
    },
    {
      "cell_type": "code",
      "source": [
        "# Problem: Check all the odd numbers and Even Numbers and\n",
        "# also get it in the new list.\n",
        "\n",
        "list = [10,23,33,40,3,2,7,9,10]\n",
        "newlist_OddNumber = []\n",
        "newlist_EvenNumber = []\n",
        "for i in range(len(list)):\n",
        "  if list[i] % 2 != 0:\n",
        "    newlist_OddNumber.append(list[i])\n",
        "  if list[i] % 2 == 0:\n",
        "    newlist_EvenNumber.append(list[i])\n",
        "\n",
        "print(\"Newlist for Even:\",newlist_EvenNumber)\n",
        "print(\"Newlist for Odd:\",newlist_OddNumber)"
      ],
      "metadata": {
        "colab": {
          "base_uri": "https://localhost:8080/"
        },
        "id": "t16Tp0lqE7Af",
        "outputId": "9018f547-d93c-4df0-ad92-2e0159426b20"
      },
      "execution_count": null,
      "outputs": [
        {
          "output_type": "stream",
          "name": "stdout",
          "text": [
            "Newlist for Even: [10, 40, 2, 10]\n",
            "Newlist for Odd: [23, 33, 3, 7, 9]\n"
          ]
        }
      ]
    },
    {
      "cell_type": "code",
      "source": [
        "# Problem: To check the Minimum Number from the list.\n",
        "\n",
        "list = [10,23,33,40,3,2,7,9,10]\n",
        "minElement=list[0]\n",
        "\n",
        "for i in range(len(list)):\n",
        "  if list[i] < minElement:\n",
        "    minElement = list[i]\n",
        "print(minElement)"
      ],
      "metadata": {
        "colab": {
          "base_uri": "https://localhost:8080/"
        },
        "id": "lR2OA6wvGeeg",
        "outputId": "f29c3c72-6c31-424e-b171-09cf7ce36c3c"
      },
      "execution_count": null,
      "outputs": [
        {
          "output_type": "stream",
          "name": "stdout",
          "text": [
            "2\n"
          ]
        }
      ]
    },
    {
      "cell_type": "code",
      "source": [
        "# Problem: To check the maximum Number from the list.\n",
        "\n",
        "list = [10,23,33,40,3,2,7,9,10]\n",
        "maxElement=list[0]\n",
        "\n",
        "for i in range(len(list)):\n",
        "  if list[i] > maxElement:\n",
        "    maxElement = list[i]\n",
        "print(maxElement)"
      ],
      "metadata": {
        "colab": {
          "base_uri": "https://localhost:8080/"
        },
        "id": "sR6DOMZjHpy3",
        "outputId": "da48b860-d9ee-457a-be3d-4017a4273788"
      },
      "execution_count": null,
      "outputs": [
        {
          "output_type": "stream",
          "name": "stdout",
          "text": [
            "40\n"
          ]
        }
      ]
    },
    {
      "cell_type": "code",
      "source": [
        "# Problem: To check the Second Maximum Number and Second Minimum Number from the list.\n",
        "\n",
        "list = [10,23,33,40,3,2,7,9,10]\n",
        "maxElement = list[0]\n",
        "minElement = list[0]\n",
        "smaxElement = 0\n",
        "sminElement = 0\n",
        "\n",
        "for i in range(len(list)):\n",
        "  if list[i] > maxElement:\n",
        "    smaxElement = maxElement\n",
        "    maxElement = list[i]\n",
        "  elif list[i] > smaxElement: #and list[i] != maxElement\n",
        "    smaxElement = list[i]\n",
        "  if list[i] < minElement:\n",
        "    sminElement = minElement\n",
        "    minElement = list[i]\n",
        "  elif list[i] < sminElement: #and list[i] != minElement:\n",
        "    sminElement = list[i]\n",
        "print(\"Maximum Element:\",maxElement)\n",
        "print(\"Second Maximum Element:\",smaxElement)\n",
        "print(\"Minimum Element:\",minElement)\n",
        "print(\"Second Minimum Element:\",sminElement)"
      ],
      "metadata": {
        "id": "YHJ3ec1hIQyi",
        "colab": {
          "base_uri": "https://localhost:8080/"
        },
        "outputId": "586e54c3-a504-426e-e58b-ab2d89dd4aec"
      },
      "execution_count": null,
      "outputs": [
        {
          "output_type": "stream",
          "name": "stdout",
          "text": [
            "Maximum Element: 40\n",
            "Second Maximum Element: 33\n",
            "Minimum Element: 2\n",
            "Second Minimum Element: 3\n"
          ]
        }
      ]
    },
    {
      "cell_type": "code",
      "source": [
        "# Problem: To print all the Even values of the list in a newlist.\n",
        "list = [10,23,33,40,3,2,7,9,10]\n",
        "Even_Number_list = []\n",
        "for i in range(len(list)):\n",
        "  if list[i] % 2 == 0:\n",
        "    Even_Number_list.append(list[i])\n",
        "print(Even_Number_list)"
      ],
      "metadata": {
        "id": "2wxXCAT8HQRU",
        "colab": {
          "base_uri": "https://localhost:8080/"
        },
        "outputId": "9855732f-43bd-4702-f972-485f69e58ecb"
      },
      "execution_count": null,
      "outputs": [
        {
          "output_type": "stream",
          "name": "stdout",
          "text": [
            "[10, 40, 2, 10]\n"
          ]
        }
      ]
    },
    {
      "cell_type": "code",
      "source": [
        "# Problem: To print all the Odd values of the list in a newlist.\n",
        "list = [10,23,33,40,3,2,7,9,10]\n",
        "Odd_Number_list = []\n",
        "for i in range(len(list)):\n",
        "  if list[i] % 2 != 0:\n",
        "    Odd_Number_list.append(list[i])\n",
        "print(Odd_Number_list)"
      ],
      "metadata": {
        "colab": {
          "base_uri": "https://localhost:8080/"
        },
        "id": "8hqCVWn8l3QJ",
        "outputId": "f77e20ef-e9d3-470a-cfd1-2c83f009c79a"
      },
      "execution_count": null,
      "outputs": [
        {
          "output_type": "stream",
          "name": "stdout",
          "text": [
            "[23, 33, 3, 7, 9]\n"
          ]
        }
      ]
    },
    {
      "cell_type": "code",
      "source": [
        "# Problem: To print the sum of all values of the list.\n",
        "list = [10,23,33,40,3,2,7,9,10]\n",
        "sum = 0\n",
        "for i in range(len(list)):\n",
        "  sum = sum + list[i]\n",
        "print(\"Sum of all values:\",sum)"
      ],
      "metadata": {
        "colab": {
          "base_uri": "https://localhost:8080/"
        },
        "id": "8d5wPo6xmguL",
        "outputId": "15656b42-0f9d-451f-a305-26aa6c68874c"
      },
      "execution_count": null,
      "outputs": [
        {
          "output_type": "stream",
          "name": "stdout",
          "text": [
            "Sum of all values: 137\n"
          ]
        }
      ]
    },
    {
      "cell_type": "code",
      "source": [
        "# Problem: To print the reverse of values of the list.\n",
        "\n",
        "# With reverse Function:\n",
        "list = [1,2,3,4,5,6,7]\n",
        "list.reverse()\n",
        "print(\"Reverse list with reverse function:\",list)\n",
        "\n",
        "# Without reverse Function:\n",
        "list = [1,2,3,4,5,6,7]\n",
        "reverselist = []\n",
        "for i in range(len(list)-1,-1,-1):\n",
        "  reverselist.append(list[i])\n",
        "print(\"Reverse list without reverse Function:\",reverselist)"
      ],
      "metadata": {
        "colab": {
          "base_uri": "https://localhost:8080/"
        },
        "id": "mJ14uM4Fmz9S",
        "outputId": "0594c3fe-8a07-4cb0-c6a0-b3cac4d369f7"
      },
      "execution_count": null,
      "outputs": [
        {
          "output_type": "stream",
          "name": "stdout",
          "text": [
            "Reverse list with reverse function: [7, 6, 5, 4, 3, 2, 1]\n",
            "Reverse list without reverse Function: [7, 6, 5, 4, 3, 2, 1]\n"
          ]
        }
      ]
    },
    {
      "cell_type": "code",
      "source": [
        "# Problem: To sort the value of list in ascending order:\n",
        "\n",
        "# With Sorting Function:\n",
        "list = [10,23,33,40,3,2,7,9,10]\n",
        "list.sort()\n",
        "print(\"Sorting list with Sorting function:\",list)\n",
        "\n",
        "# Without Sorting Function:\n",
        "list = [10,23,33,40,3,2,7,9,10]\n",
        "\n",
        "for i in range(len(list)):\n",
        "  for j in range(i+1,len(list)):\n",
        "    if list[i] > list [j]:\n",
        "      temp = list[i]\n",
        "      list[i] = list[j]\n",
        "      list[j] = temp\n",
        "print(\"Sorting list without Sorting function:\",list)"
      ],
      "metadata": {
        "colab": {
          "base_uri": "https://localhost:8080/"
        },
        "id": "f4eDOdVunBxI",
        "outputId": "36dfd802-4ebb-40a5-eaa0-0c5dd96086b9"
      },
      "execution_count": null,
      "outputs": [
        {
          "output_type": "stream",
          "name": "stdout",
          "text": [
            "Sorting list with Sorting function: [2, 3, 7, 9, 10, 10, 23, 33, 40]\n",
            "Sorting list without Sorting function: [2, 3, 7, 9, 10, 10, 23, 33, 40]\n"
          ]
        }
      ]
    },
    {
      "cell_type": "code",
      "source": [
        "# Problem: To print the count of the values in the list:\n",
        "list = [10,23,33,40,3,2,7,9,10]\n",
        "count = 0\n",
        "for i in range(len(list)):\n",
        "  count = count + 1\n",
        "print(\"Count of values in list:\",count)"
      ],
      "metadata": {
        "colab": {
          "base_uri": "https://localhost:8080/"
        },
        "id": "6yYFZ4IDtS6Z",
        "outputId": "b5bc5662-90a5-4098-dbff-ea875cde017f"
      },
      "execution_count": null,
      "outputs": [
        {
          "output_type": "stream",
          "name": "stdout",
          "text": [
            "Count of values in list: 9\n"
          ]
        }
      ]
    },
    {
      "cell_type": "code",
      "source": [
        "# Problem: To print the duplicate element from the list.\n",
        "# Method 1:\n",
        "list = [10,23,33,40,3,2,7,9,10]\n",
        "duplicate = []\n",
        "\n",
        "for i in range(len(list)):\n",
        "  if list[i] not in duplicate:\n",
        "    duplicate.append(list[i])\n",
        "print(\"Remove the Duplicate Values:\",duplicate)\n",
        "\n",
        "# Method 2:\n",
        "list = [10,23,33,40,3,2,7,9,10]\n",
        "# step 01: we have to sorted this list:\n",
        "for i in range(len(list)):\n",
        "  for j in range(i+1,len(list)):\n",
        "    if list[i] > list[j]:\n",
        "      temp = list[i]\n",
        "      list[i] = list[j]\n",
        "      list[j] = temp\n",
        "print(list)\n",
        "# Now we remove the duplicate in New list:\n",
        "duplicate = []\n",
        "for i in list:\n",
        "  if i not in duplicate:\n",
        "    duplicate.append(i)\n",
        "print(\"Remove the Duplicate Values:\",duplicate)"
      ],
      "metadata": {
        "colab": {
          "base_uri": "https://localhost:8080/"
        },
        "id": "7ygOnR_Ytsdy",
        "outputId": "aee912c7-56a2-4e6b-d374-cb4052d444e4"
      },
      "execution_count": null,
      "outputs": [
        {
          "output_type": "stream",
          "name": "stdout",
          "text": [
            "Remove the Duplicate Values: [10, 23, 33, 40, 3, 2, 7, 9]\n",
            "[2, 3, 7, 9, 10, 10, 23, 33, 40]\n",
            "Remove the Duplicate Values: [2, 3, 7, 9, 10, 23, 33, 40]\n"
          ]
        }
      ]
    },
    {
      "cell_type": "code",
      "source": [
        "# problem: To check weather the list is palindrome or not.\n",
        "\n",
        "list = [1,2,1,2,1]\n",
        "start = 0\n",
        "end = len(list) - 1\n",
        "is_palindrome = True\n",
        "\n",
        "while start < end:\n",
        "    if list[start] != list[end]:\n",
        "        is_palindrome = False\n",
        "        break\n",
        "    start = start + 1\n",
        "    end = end - 1\n",
        "print(is_palindrome)"
      ],
      "metadata": {
        "colab": {
          "base_uri": "https://localhost:8080/"
        },
        "id": "hz2eABf-otLw",
        "outputId": "a1e084e9-0c69-40b4-c90c-89051f245b3a"
      },
      "execution_count": null,
      "outputs": [
        {
          "output_type": "stream",
          "name": "stdout",
          "text": [
            "True\n"
          ]
        }
      ]
    },
    {
      "cell_type": "code",
      "source": [
        "# Example 2: To check weather the list is palindrome or not.\n",
        "\n",
        "list = [1, \"Vinit\", \"Vinit\", 1]\n",
        "start = 0\n",
        "end = len(list)-1\n",
        "\n",
        "is_palindrome = True\n",
        "\n",
        "while start < end:\n",
        "  if list[start] != list[end]:\n",
        "    is_palindrome = False\n",
        "    break\n",
        "  start = start + 1\n",
        "  end = end - 1\n",
        "print(is_palindrome)"
      ],
      "metadata": {
        "colab": {
          "base_uri": "https://localhost:8080/"
        },
        "id": "W6UIpS5rrrrZ",
        "outputId": "a42e947b-0a00-43d7-90a0-6e44c9f2c537"
      },
      "execution_count": null,
      "outputs": [
        {
          "output_type": "stream",
          "name": "stdout",
          "text": [
            "True\n"
          ]
        }
      ]
    },
    {
      "cell_type": "code",
      "source": [
        "# Split Function: --> Split the charcaters of any string.\n",
        "s = \"hello hey user hello.\"\n",
        "s.split(\" \") # --> In this we have to gave for which we want to\n",
        "# run the split function."
      ],
      "metadata": {
        "id": "udUfPL-5sLVP",
        "colab": {
          "base_uri": "https://localhost:8080/"
        },
        "outputId": "5d4b16f0-52a7-4db8-f48d-82e8195e1088"
      },
      "execution_count": null,
      "outputs": [
        {
          "output_type": "execute_result",
          "data": {
            "text/plain": [
              "['hello', 'hey', 'user', 'hello.']"
            ]
          },
          "metadata": {},
          "execution_count": 14
        }
      ]
    },
    {
      "cell_type": "code",
      "source": [
        "# Split the words:\n",
        "s = \"hello hey user hello\"\n",
        "Newdata = s.split(\" \")\n",
        "count = 0\n",
        "for word in Newdata:\n",
        "  if word == \"hello\": # --> we have to check how many time \"hello\" will occurs.\n",
        "    count = count + 1\n",
        "print(count)"
      ],
      "metadata": {
        "colab": {
          "base_uri": "https://localhost:8080/"
        },
        "id": "Q-WnUdbOOJ54",
        "outputId": "8f6828d2-05b5-4100-f541-ec16abcc0ef5"
      },
      "execution_count": null,
      "outputs": [
        {
          "output_type": "stream",
          "name": "stdout",
          "text": [
            "9\n"
          ]
        }
      ]
    },
    {
      "cell_type": "code",
      "source": [
        "# Problem: Run a while loop which print the values from 0 to 4th index:\n",
        "new1 = [20,30,9.0,199,100]\n",
        "i = 0\n",
        "while i <= 4:\n",
        "  print(i,new1[i])\n",
        "  i = i + 1"
      ],
      "metadata": {
        "colab": {
          "base_uri": "https://localhost:8080/"
        },
        "id": "E46xoXQzQt-V",
        "outputId": "50a213b2-06f8-424b-bd86-fe53bd1ae27a"
      },
      "execution_count": null,
      "outputs": [
        {
          "output_type": "stream",
          "name": "stdout",
          "text": [
            "0 20\n",
            "1 30\n",
            "2 9.0\n",
            "3 199\n",
            "4 100\n"
          ]
        }
      ]
    },
    {
      "cell_type": "code",
      "source": [
        "# Swapping of two integers:\n",
        "# Method 1:\n",
        "a = 10\n",
        "b = 20\n",
        "a,b = b,a\n",
        "print(\"a=\",a,\"b=\",b)"
      ],
      "metadata": {
        "colab": {
          "base_uri": "https://localhost:8080/"
        },
        "id": "Y_cqxyCtUN1f",
        "outputId": "1609ed00-1621-4df3-95c2-e2679c43ab71"
      },
      "execution_count": null,
      "outputs": [
        {
          "output_type": "stream",
          "name": "stdout",
          "text": [
            "a= 20 b= 10\n"
          ]
        }
      ]
    },
    {
      "cell_type": "code",
      "source": [
        "# Method 2: Swapping of two integers with third variable.\n",
        "a=10\n",
        "b=20\n",
        "temp= a\n",
        "a = b\n",
        "b = temp\n",
        "print(\"a=\",a,\"b=\",b)"
      ],
      "metadata": {
        "id": "g_2lryARVX2t",
        "colab": {
          "base_uri": "https://localhost:8080/"
        },
        "outputId": "d12c223f-02ba-4e7a-ccaa-35b410b454e2"
      },
      "execution_count": null,
      "outputs": [
        {
          "output_type": "stream",
          "name": "stdout",
          "text": [
            "a= 20 b= 10\n"
          ]
        }
      ]
    },
    {
      "cell_type": "code",
      "source": [
        "# Method 3: Swapping of two integers without third variable.\n",
        "a=10\n",
        "b=20\n",
        "a = a + b\n",
        "b = a - b\n",
        "a = a - b\n",
        "print(\"a=\",a,\"b=\",b)"
      ],
      "metadata": {
        "colab": {
          "base_uri": "https://localhost:8080/"
        },
        "id": "Op7WhMQGAvxO",
        "outputId": "5c603167-2f26-4ce8-d7f8-cd742b9b87f3"
      },
      "execution_count": null,
      "outputs": [
        {
          "output_type": "stream",
          "name": "stdout",
          "text": [
            "a= 20 b= 10\n"
          ]
        }
      ]
    },
    {
      "cell_type": "code",
      "source": [
        "# Reverse of list value in different method:\n",
        "\n",
        "# Method 1:\n",
        "mylist = [1,2,3,4,5]\n",
        "revlist=[]\n",
        "\n",
        "for i in range(len(mylist)-1,-1,-1):\n",
        "  revlist.append(mylist[i])\n",
        "print(\"Method 1 Resultant:\",revlist)\n",
        "\n",
        "# Method 2:\n",
        "mylist = [1,2,3,4,5]\n",
        "start = 0\n",
        "end = len(mylist) - 1\n",
        "\n",
        "while start != end:\n",
        "  temp = mylist[start]\n",
        "  mylist[start] = mylist[end]\n",
        "  mylist[end] = temp\n",
        "  start = start + 1\n",
        "  end = end - 1\n",
        "print(\"Method 2 Resultant:\",mylist)"
      ],
      "metadata": {
        "colab": {
          "base_uri": "https://localhost:8080/"
        },
        "id": "LiyJoPteBzLO",
        "outputId": "88d1ba0d-b196-4a26-cb91-57ca5fdcb6fe"
      },
      "execution_count": null,
      "outputs": [
        {
          "output_type": "stream",
          "name": "stdout",
          "text": [
            "Method 1 Resultant: [5, 4, 3, 2, 1]\n",
            "Method 2 Resultant: [5, 4, 3, 2, 1]\n"
          ]
        }
      ]
    },
    {
      "cell_type": "code",
      "source": [
        "# To print the sorted list from the given list.\n",
        "\n",
        "mylist = [10,3,20,5,30,40,50]\n",
        "print(\"Before Sorting list:\",mylist)\n",
        "for i in range(len(mylist)):\n",
        "    for j in range(i+1,len(mylist)):\n",
        "        if mylist [i] > mylist[j]:\n",
        "            temp = mylist[i]\n",
        "            mylist[i] = mylist[j]\n",
        "            mylist[j] = temp\n",
        "print(\"After Sorting list:\",mylist)"
      ],
      "metadata": {
        "colab": {
          "base_uri": "https://localhost:8080/"
        },
        "id": "CMyLPPE0CQWt",
        "outputId": "76da22e4-01d7-430e-d643-b895169e3485"
      },
      "execution_count": null,
      "outputs": [
        {
          "output_type": "stream",
          "name": "stdout",
          "text": [
            "Before Sorting list: [10, 3, 20, 5, 30, 40, 50]\n",
            "After Sorting list: [3, 5, 10, 20, 30, 40, 50]\n"
          ]
        }
      ]
    },
    {
      "cell_type": "code",
      "source": [
        "# To print the sorted list from the given list but with single loop.\n",
        "\n",
        "mylist = [10, 3, 20, 5, 30, 40, 50]\n",
        "print(\"Before Sorting:\", mylist)\n",
        "\n",
        "i = 0\n",
        "while i < len(mylist) - 1:\n",
        "    if mylist[i] > mylist[i + 1]:\n",
        "        # Swap\n",
        "        mylist[i], mylist[i + 1] = mylist[i + 1], mylist[i]\n",
        "        # Reset to start to ensure full sorting\n",
        "        i = 0\n",
        "    else:\n",
        "        i += 1\n",
        "print(\"After Sorting:\", mylist)"
      ],
      "metadata": {
        "colab": {
          "base_uri": "https://localhost:8080/"
        },
        "id": "jHOEHt45FKK2",
        "outputId": "63387e08-704e-44ac-9d21-bf2246e3bb7d"
      },
      "execution_count": null,
      "outputs": [
        {
          "output_type": "stream",
          "name": "stdout",
          "text": [
            "Before Sorting: [10, 3, 20, 5, 30, 40, 50]\n",
            "After Sorting: [3, 5, 10, 20, 30, 40, 50]\n"
          ]
        }
      ]
    },
    {
      "cell_type": "code",
      "source": [
        "# Tuple: is a datatype, which collects multiple values which based on index.\n",
        "# Tuples are immutable datatype."
      ],
      "metadata": {
        "id": "chXxHX0WGWXT"
      },
      "execution_count": null,
      "outputs": []
    },
    {
      "cell_type": "code",
      "source": [
        "# Tuple:\n",
        "x = 10,20,30\n",
        "print(type(x))"
      ],
      "metadata": {
        "colab": {
          "base_uri": "https://localhost:8080/"
        },
        "id": "ptsadbJAirJX",
        "outputId": "804a9dac-22a0-4140-f0bf-cab62d831717"
      },
      "execution_count": null,
      "outputs": [
        {
          "output_type": "stream",
          "name": "stdout",
          "text": [
            "<class 'tuple'>\n"
          ]
        }
      ]
    },
    {
      "cell_type": "code",
      "source": [
        "# In tuple the values are in brackets or not.\n",
        "x = 10,20,30\n",
        "y = (10,20,\"abc\")\n",
        "print(\"Type of x:\",type(x))\n",
        "print(\"Type of y:\",type(y))"
      ],
      "metadata": {
        "colab": {
          "base_uri": "https://localhost:8080/"
        },
        "id": "j2inksUliyDi",
        "outputId": "269b472b-b0a0-423f-bd87-9aaf635d7142"
      },
      "execution_count": null,
      "outputs": [
        {
          "output_type": "stream",
          "name": "stdout",
          "text": [
            "Type of x: <class 'tuple'>\n",
            "Type of y: <class 'tuple'>\n"
          ]
        }
      ]
    },
    {
      "cell_type": "code",
      "source": [
        "# Tuples are immutable datatype so\n",
        "# we are unable to change the values in tuple:\n",
        "# x=(10,20,30)\n",
        "# x[0]=100 # --> Unable to change the value"
      ],
      "metadata": {
        "id": "txjHEXuVjMT2"
      },
      "execution_count": null,
      "outputs": []
    },
    {
      "cell_type": "code",
      "source": [
        "# That's Why in tuple we only have two commands are there.\n",
        "# 1. count command:\n",
        "\n",
        "x = (10,20,\"abc\",10,10,40,90)\n",
        "print(x.count(10))\n",
        "# By this count command we know how many time \"10\" in tuple.\n",
        "\n",
        "# 2. Index command:\n",
        "\n",
        "x = (10,20,\"abc\",10,10,40,90)\n",
        "print(x.index(40)) # 40 is a 5th index.\n",
        "# By this index command we know the index of \"10\" in tuple."
      ],
      "metadata": {
        "colab": {
          "base_uri": "https://localhost:8080/"
        },
        "id": "EAIBcItyjgvf",
        "outputId": "dd32bc47-f784-4812-f39a-feda947de4ac"
      },
      "execution_count": null,
      "outputs": [
        {
          "output_type": "stream",
          "name": "stdout",
          "text": [
            "3\n",
            "5\n"
          ]
        }
      ]
    },
    {
      "cell_type": "code",
      "source": [
        "# Difference between List and Tuple:\n",
        "\n",
        "# List:\n",
        "# 1. Lists are mutable(can be modified).\n",
        "# 2. Iteration over lists is time-consuming.\n",
        "# 3. Lists are better for performing operations,\n",
        "#   such as insertion and deletion.\n",
        "# 4. Lists consume more memory.\n",
        "# 5. Lists have several built-in methods.\n",
        "# 6. Lists are more prone to unexpected changes and errors.\n",
        "\n",
        "# Tuple:\n",
        "# 1. Tuples are immutable(cannot be modified).\n",
        "# 2. Iterations over tuple is faster.\n",
        "# 3. Tuples are more suitable for accessing elements efficiently.\n",
        "# 4. Tuples consumes less memory.\n",
        "# 5. Tuples have fewer built-in methods.\n",
        "# 6. Tuples, being immutable are less error prone."
      ],
      "metadata": {
        "id": "wsb3TOwSlmL3"
      },
      "execution_count": null,
      "outputs": []
    },
    {
      "cell_type": "code",
      "source": [
        "# Dictionary:\n",
        "# Dictionary is datatype which stores collection of Multiple\n",
        "# data but without index Position.\n",
        "\n",
        "# The data will be stored in key: value format.\n",
        "# Key: is always a unique data means no duplicate.\n",
        "# With the help of key (unique data) we can easily find or\n",
        "# access the value.\n",
        "\n",
        "# Value: Can be unique can be duplicate.\n",
        "# Example: I have two cell numbers, so Vinit: Value but the mobile number\n",
        "# is unique 8770976648 and 9926693100 so here mobile number is key.\n",
        "# because there are more than one Vinit but the mobile number is unique.\n",
        "\n",
        "# Dictionary are mutable, we can change the values.\n",
        "# but no index position."
      ],
      "metadata": {
        "id": "PREQg781nuyD"
      },
      "execution_count": null,
      "outputs": []
    },
    {
      "cell_type": "code",
      "source": [
        "# Why we created Dictionary:\n",
        "\n",
        "# If suppose we have list = [1,3,4,5,6] Now we want to insert any data here (2) at\n",
        "# index [1] Position so all the value 3,4,5,6 --> are move towards right side, means it\n",
        "# takes too much time (time complexity).\n",
        "# Also when we delete any data here (1) and 0th Index position so all the values are\n",
        "# moved towards left side <-- 3,4,5,6 It also take too much time, So due to this we\n",
        "# used dictionary because dictionary have no indexing and we easily insert or delete\n",
        "# any data easily.\n",
        "# And the time which takes while inserting or deleting called as O(n) (big O of n)."
      ],
      "metadata": {
        "id": "LenXZ2ZY0Jjg"
      },
      "execution_count": null,
      "outputs": []
    },
    {
      "cell_type": "code",
      "source": [
        "# In dictionary we only insert one data or delete on value(data) at once.\n",
        "# which takes less time so here time called as = O(1)."
      ],
      "metadata": {
        "id": "7gzV4mDqYWFt"
      },
      "execution_count": null,
      "outputs": []
    },
    {
      "cell_type": "code",
      "source": [
        "# How to creates dictionary:\n",
        "\n",
        "mydictionary = {101:\"tushar\",\"Salary\":200000,\"email\":\"vinitgatt1@gmail.com\"}\n",
        "print(mydictionary)"
      ],
      "metadata": {
        "colab": {
          "base_uri": "https://localhost:8080/"
        },
        "id": "eq0GY1WJYmOP",
        "outputId": "4838bc08-2616-4327-8a95-ccf6fc8adda5"
      },
      "execution_count": null,
      "outputs": [
        {
          "output_type": "stream",
          "name": "stdout",
          "text": [
            "{101: 'tushar', 'Salary': 200000, 'email': 'vinitgatt1@gmail.com'}\n"
          ]
        }
      ]
    },
    {
      "cell_type": "code",
      "source": [
        "# How to access data from dictionary:\n",
        "\n",
        "mydictionary = {101:\"tushar\",\"Salary\":200000,\"email\":\"vinitgatt1@gmail.com\"}\n",
        "print(mydictionary[\"email\"])"
      ],
      "metadata": {
        "colab": {
          "base_uri": "https://localhost:8080/"
        },
        "id": "wpeCqjRvY7Kp",
        "outputId": "9b50239d-526a-43f5-d9f2-965204de42a1"
      },
      "execution_count": null,
      "outputs": [
        {
          "output_type": "stream",
          "name": "stdout",
          "text": [
            "vinitgatt1@gmail.com\n"
          ]
        }
      ]
    },
    {
      "cell_type": "code",
      "source": [
        "mydictionary = {101:\"tushar\",\"Salary\":200000,\"email\":\"vinitgatt1@gmail.com\"}\n",
        "print(mydictionary[\"Salary\"])"
      ],
      "metadata": {
        "colab": {
          "base_uri": "https://localhost:8080/"
        },
        "id": "JuMbO_ykZbFB",
        "outputId": "b4e9fbf7-f15d-4414-af83-41df65ff5961"
      },
      "execution_count": null,
      "outputs": [
        {
          "output_type": "stream",
          "name": "stdout",
          "text": [
            "200000\n"
          ]
        }
      ]
    },
    {
      "cell_type": "code",
      "source": [
        "# We want to change the value in dictionary: (update key:value pair)\n",
        "mydictionary = {101:\"tushar\",\"Salary\":200000,\"email\":\"vinitgatt1@gmail.com\"}\n",
        "mydictionary[\"email\"] = \"vinitgatt9@gmail.com\"\n",
        "# --> In output we can see that the email Id: have been changed from previous one.\n",
        "print(mydictionary)"
      ],
      "metadata": {
        "colab": {
          "base_uri": "https://localhost:8080/"
        },
        "id": "L41jcJZsZqQR",
        "outputId": "3dd1072b-b386-4caa-a591-fd53d8706eb6"
      },
      "execution_count": null,
      "outputs": [
        {
          "output_type": "stream",
          "name": "stdout",
          "text": [
            "{101: 'tushar', 'Salary': 200000, 'email': 'vinitgatt9@gmail.com'}\n"
          ]
        }
      ]
    },
    {
      "cell_type": "code",
      "source": [
        "# How to insert any key:value at the last of dictionary:\n",
        "mydictionary = {101:\"tushar\",\"Salary\":200000,\"email\":\"vinitgatt1@gmail.com\"}\n",
        "mydictionary[\"city\"] = \"Indore\" # Inserting a new data.\n",
        "# Same as updating the data.\n",
        "print(mydictionary)"
      ],
      "metadata": {
        "colab": {
          "base_uri": "https://localhost:8080/"
        },
        "id": "giBXiBP_aHuY",
        "outputId": "5f555761-d1ca-42f7-d334-9040a88270d2"
      },
      "execution_count": null,
      "outputs": [
        {
          "output_type": "stream",
          "name": "stdout",
          "text": [
            "{101: 'tushar', 'Salary': 200000, 'email': 'vinitgatt1@gmail.com', 'city': 'Indore'}\n"
          ]
        }
      ]
    },
    {
      "cell_type": "code",
      "source": [
        "# Summaries:\n",
        "x={10:\"Vinit\"} # -- Create\n",
        "print(x)\n",
        "x[20] = \"Priyanshi\" # -- Insert\n",
        "print(x)\n",
        "x[10] = \"Vinit Loves\" # -- Update\n",
        "print(x)"
      ],
      "metadata": {
        "colab": {
          "base_uri": "https://localhost:8080/"
        },
        "id": "M2il3V9-bcfL",
        "outputId": "c6b3af3b-dcfd-4a45-b5bf-abb15937cc39"
      },
      "execution_count": null,
      "outputs": [
        {
          "output_type": "stream",
          "name": "stdout",
          "text": [
            "{10: 'Vinit'}\n",
            "{10: 'Vinit', 20: 'Priyanshi'}\n",
            "{10: 'Vinit Loves', 20: 'Priyanshi'}\n"
          ]
        }
      ]
    },
    {
      "cell_type": "code",
      "source": [
        "# How to check all the keys in dictionary:\n",
        "mydictionary.keys()"
      ],
      "metadata": {
        "colab": {
          "base_uri": "https://localhost:8080/"
        },
        "id": "Sa-_eEOjclg0",
        "outputId": "035deb15-80fb-4dff-b467-c6fb90c5d18b"
      },
      "execution_count": null,
      "outputs": [
        {
          "output_type": "execute_result",
          "data": {
            "text/plain": [
              "dict_keys([101, 'Salary', 'email', 'city'])"
            ]
          },
          "metadata": {},
          "execution_count": 17
        }
      ]
    },
    {
      "cell_type": "code",
      "source": [
        "# How to check all the values in dictionary:\n",
        "mydictionary.values()"
      ],
      "metadata": {
        "colab": {
          "base_uri": "https://localhost:8080/"
        },
        "id": "F2gqyquHc3NU",
        "outputId": "1e35a87a-ef35-4c83-bb39-4be84aad4128"
      },
      "execution_count": null,
      "outputs": [
        {
          "output_type": "execute_result",
          "data": {
            "text/plain": [
              "dict_values(['tushar', 200000, 'vinitgatt1@gmail.com', 'Indore'])"
            ]
          },
          "metadata": {},
          "execution_count": 18
        }
      ]
    },
    {
      "cell_type": "code",
      "source": [
        "mydictionary = {101:\"tushar\",\"Salary\":200000,\"email\":\"vinitgatt1@gmail.com\"}\n",
        "x = mydictionary.pop(101) # -- Delete that key:value\n",
        " #  pop command always return that deleted value.\n",
        "print(mydictionary,x)"
      ],
      "metadata": {
        "colab": {
          "base_uri": "https://localhost:8080/"
        },
        "id": "T9T4isBsdB5M",
        "outputId": "82042d35-5b66-44f4-e817-f60d37de9c0a"
      },
      "execution_count": null,
      "outputs": [
        {
          "output_type": "stream",
          "name": "stdout",
          "text": [
            "{'Salary': 200000, 'email': 'vinitgatt1@gmail.com'} tushar\n"
          ]
        }
      ]
    },
    {
      "cell_type": "code",
      "source": [
        "# How to run loops in dictionary.\n",
        "mydictionary = {10:\"a\",20:\"b\",30:\"c\"}\n",
        "for i in mydictionary:\n",
        "  print(i,mydictionary[i])"
      ],
      "metadata": {
        "colab": {
          "base_uri": "https://localhost:8080/"
        },
        "id": "StmjFBtPdS8P",
        "outputId": "0aa0ee0e-4b0f-4155-9226-31a8ef2633d7"
      },
      "execution_count": null,
      "outputs": [
        {
          "output_type": "stream",
          "name": "stdout",
          "text": [
            "10 a\n",
            "20 b\n",
            "30 c\n"
          ]
        }
      ]
    },
    {
      "cell_type": "code",
      "source": [
        "# we also run a loop based on key: values --\n",
        "#If we only want the keys in i:\n",
        "mydictionary = {10:\"a\",20:\"b\",30:\"c\"}\n",
        "for i in mydictionary.keys():\n",
        "  print(\"Keys:\",i)\n",
        "# If we only want the values in i:\n",
        "for i in mydictionary.values():\n",
        "  print(\"Values:\",i)"
      ],
      "metadata": {
        "colab": {
          "base_uri": "https://localhost:8080/"
        },
        "id": "657Swr3VeaAZ",
        "outputId": "524cf9d0-3f56-42d6-b3d4-c3a8fc210ce9"
      },
      "execution_count": null,
      "outputs": [
        {
          "output_type": "stream",
          "name": "stdout",
          "text": [
            "Keys: 10\n",
            "Keys: 20\n",
            "Keys: 30\n",
            "Values: a\n",
            "Values: b\n",
            "Values: c\n"
          ]
        }
      ]
    },
    {
      "cell_type": "code",
      "source": [
        "mydictionary = {10:\"a\", \"amount\":1000}\n",
        "mydictionary[\"amount\"] = mydictionary[\"amount\"] + 50\n",
        "print(mydictionary)"
      ],
      "metadata": {
        "colab": {
          "base_uri": "https://localhost:8080/"
        },
        "id": "SP0bAjKxfXDz",
        "outputId": "cdad06d9-1015-4bee-cb76-61f7ef9e3ab6"
      },
      "execution_count": null,
      "outputs": [
        {
          "output_type": "stream",
          "name": "stdout",
          "text": [
            "{10: 'a', 'amount': 1050}\n"
          ]
        }
      ]
    },
    {
      "cell_type": "code",
      "source": [
        "# To check and print the count of total characters in a given string.\n",
        "s=\"vinit\"\n",
        "dictionary = {\"Total\":0}\n",
        "for i in s:\n",
        "  dictionary[\"Total\"] = dictionary[\"Total\"] + 1\n",
        "print(dictionary)"
      ],
      "metadata": {
        "colab": {
          "base_uri": "https://localhost:8080/"
        },
        "id": "NtURQct3iFRJ",
        "outputId": "618474e6-6d69-46ee-9aa5-bd9434321050"
      },
      "execution_count": null,
      "outputs": [
        {
          "output_type": "stream",
          "name": "stdout",
          "text": [
            "{'Total': 5}\n"
          ]
        }
      ]
    },
    {
      "cell_type": "code",
      "source": [
        "# WAP to print, if a is 1 time in the string so print a:1\n",
        "# if b is 2 time in the string so print b:2 and soo on..\n",
        "# Means count the values of a string via dictionary.\n",
        "\n",
        "str = \"abc\"\n",
        "# if user input is: \"abcabaca\". ==> {'a': 4, 'b': 2, 'c': 2}\n",
        "mydictionary = {}\n",
        "for i in str:\n",
        "  if i in mydictionary:\n",
        "    mydictionary[i] = mydictionary[i] + 1\n",
        "  else:\n",
        "    mydictionary[i] = 1\n",
        "print(mydictionary)"
      ],
      "metadata": {
        "id": "dCEwZ88piwO7",
        "colab": {
          "base_uri": "https://localhost:8080/"
        },
        "outputId": "1e49349c-1628-4be7-bee1-d99d00c68042"
      },
      "execution_count": null,
      "outputs": [
        {
          "output_type": "stream",
          "name": "stdout",
          "text": [
            "{'a': 1, 'b': 1, 'c': 1}\n"
          ]
        }
      ]
    },
    {
      "cell_type": "code",
      "source": [
        "# Kaun Banega Crorepati Game Making by dictionary:\n",
        "\n",
        "questionBank=[ {\"Question\":\"What is the national animal of india?\",\n",
        "              \"option\":[\"A. Peacock\",  \"B. Lion\", \"C. Tiger\", \"D. Dog\"],\n",
        "              \"Ans\":\"C\",\n",
        "              },\n",
        "              {\"Question\":\"Who is the father of nation?\",\n",
        "              \"option\":[\"A. Rabindra Nath Tagore\",  \"B. Mahatma Gandhi\",\n",
        "                        \"C. Sharukh Khan\", \"D. Salman Khan\"],\n",
        "              \"Ans\":\"B\",\n",
        "              },\n",
        "              {\"Question\":\"Who is the national bird of india?\",\n",
        "              \"option\":[\"A. Peacock\",  \"B. Pigeon\",\n",
        "                        \"C. Parrot\", \"D. Eagle\"],\n",
        "              \"Ans\":\"A\",\n",
        "              },\n",
        "              {\"Question\":\"Who is the national fruit of india?\",\n",
        "              \"option\":[\"A. Apple\",  \"B. Banana\",\n",
        "                        \"C. Orange\", \"D. Mango\"],\n",
        "              \"Ans\":\"D\",\n",
        "              },\n",
        "              {\"Question\":\"Who is the national Sports of india?\",\n",
        "              \"option\":[\"A. Cricket\",  \"B. Kabaddi\",\n",
        "                        \"C. Hockey\", \"D. Football\"],\n",
        "              \"Ans\":\"C\",\n",
        "              },\n",
        "              {\"Question\":\"Which city is Cleanest City of india?\",\n",
        "              \"option\":[\"A. Indore\",  \"B. Mumbai\",\n",
        "                        \"C. Bangalore\", \"D. Delhi\"],\n",
        "              \"Ans\":\"A\",\n",
        "              },\n",
        "              {\"Question\":\"Which city is known as Pink City of india?\",\n",
        "              \"option\":[\"A. Chittaurgarh\",  \"B. Jaipur\",\n",
        "                        \"C. Udaipur\", \"D. Jodhpur\"],\n",
        "              \"Ans\":\"B\",\n",
        "              },\n",
        "              {\"Question\":\"In which year India gets independence from British Govt?\",\n",
        "              \"option\":[\"A. 1948\",  \"B. 1946\",\n",
        "                        \"C. 1951\", \"D. 1947\"],\n",
        "              \"Ans\":\"D\",\n",
        "              },\n",
        "              {\"Question\":\"On which date, Indians Celebrate Republic Day?\",\n",
        "              \"option\":[\"A. 26th January\",  \"B. 15th August\",\n",
        "                        \"C. 15th January\", \"D. 26th August\"],\n",
        "              \"Ans\":\"A\",\n",
        "              },\n",
        "              {\"Question\":\"Which of the Indian King, Fought the Haldighati War against Maan Singh and Akbar?\",\n",
        "              \"option\":[\"A. Chhatrapati Shivaji Maharaj\",  \"B. Maharana Sangram Singh\",\n",
        "                        \"C. Maharan Pratap Ji\", \"D. Prathavi Raj Chauhan Ji\"],\n",
        "              \"Ans\":\"C\",\n",
        "              },\n",
        "      ]\n",
        "print(\"Welcome to Kaun Banega Crorepati\")\n",
        "total_Winning = 0\n",
        "prizeMoney=[1000, 2500, 5000, 10000, 50000, 350000,\n",
        "            640000, 1250000, 2500000, 5241500]\n",
        "for i,q in enumerate(questionBank):\n",
        "  print(f\"\\n The {i+1} question for money {prizeMoney[i]} will be on your screen. \\n\")\n",
        "  print(q[\"Question\"]) # Print the Questions step by step.\n",
        "\n",
        "  for option in q[\"option\"]: # For each Question print suitable options\n",
        "    print(option) # For each Question print suitable options\n",
        "\n",
        "  user_input = input(\"Choose any 1 option A, B, C, D: or press Q for Quit the Game\")\n",
        "  user_input = user_input.upper() # if user gave answer in Capital letters.\n",
        "\n",
        "  if user_input == \"Q\": # If user want to Quit the game.\n",
        "    print(f\"Thank you for game and you won {total_Winning}\")\n",
        "    break\n",
        "  if user_input ==q[\"Ans\"]: # If user Answered correct option.\n",
        "    print(f\"\\n Excellent! You are Winning.. {total_Winning}\")\n",
        "  else: # If user selected the wrong option.\n",
        "    print(f\"\\n Sorry! Your Answer was Wrong, Game Over!!\")\n",
        "    total_Winning = 0\n",
        "    break"
      ],
      "metadata": {
        "id": "5HI449Kgjdnu"
      },
      "execution_count": null,
      "outputs": []
    },
    {
      "cell_type": "code",
      "source": [
        "# What is enumerate() in Python?\n",
        "# enumerate() is a built-in function in Python that allows you to\n",
        "# loop through a list (or any iterable) and get both the index and\n",
        "# the value at the same time.\n",
        "\n",
        "colors = ['red', 'green', 'blue']\n",
        "for index, value in enumerate(colors):\n",
        "    print(index, value)\n",
        "# enumerate() = index + value while looping\n",
        "# Cleaner and more efficient than using a separate counter manually.\n",
        "# Useful in loops where you need both the position and the item."
      ],
      "metadata": {
        "colab": {
          "base_uri": "https://localhost:8080/"
        },
        "id": "DdkHPeCVnnKJ",
        "outputId": "2721b3b1-466f-4d93-e67f-7765ebf7602f"
      },
      "execution_count": null,
      "outputs": [
        {
          "output_type": "stream",
          "name": "stdout",
          "text": [
            "0 red\n",
            "1 green\n",
            "2 blue\n"
          ]
        }
      ]
    },
    {
      "cell_type": "code",
      "source": [
        "# Problem: WAP to print the values in list, how many times they\n",
        "# are available in list.\n",
        "# check each elements of list and how many time they occurs.\n",
        "# means 10:2 , 20:1, 50:2\n",
        "mylist = [10,20,10,40,50,30,50]\n",
        "mydictionary = {}\n",
        "\n",
        "for i in mylist:\n",
        "  if i in mydictionary: # check the values of list if its present in list,\n",
        "    mydictionary[i] = mydictionary[i] + 1 # then +1 in it.\n",
        "  else:\n",
        "    mydictionary[i] = 1 # Otherwise it will considered as 1.\n",
        "print(mydictionary)"
      ],
      "metadata": {
        "colab": {
          "base_uri": "https://localhost:8080/"
        },
        "id": "sVlCZyUEBaq6",
        "outputId": "c1d03c62-8e12-44e3-d14f-6fca6eb95966"
      },
      "execution_count": null,
      "outputs": [
        {
          "output_type": "stream",
          "name": "stdout",
          "text": [
            "{10: 2, 20: 1, 40: 1, 50: 2, 30: 1}\n"
          ]
        }
      ]
    },
    {
      "cell_type": "code",
      "source": [
        "# Above Question basic Concept:\n",
        "\n",
        "d={10:1}\n",
        "if 20 in d:\n",
        "  d[10]=d[10]+1\n",
        "else:\n",
        "  d[20]=1\n",
        "print(d)"
      ],
      "metadata": {
        "colab": {
          "base_uri": "https://localhost:8080/"
        },
        "id": "FnV6f34EC7rS",
        "outputId": "b3c9eb76-1ce0-49cb-bc41-cff218116a3d"
      },
      "execution_count": null,
      "outputs": [
        {
          "output_type": "stream",
          "name": "stdout",
          "text": [
            "{10: 1, 20: 1}\n"
          ]
        }
      ]
    },
    {
      "cell_type": "code",
      "source": [
        "# Some problem of dictionary:\n",
        "\n",
        "# Create a dictionary to store your name, age, and city. Print the dictionary.\n",
        "person = {\"name\":\"Vinit Gatt\", \"age\":27,\"city\":\"Indore\"}\n",
        "print(person)"
      ],
      "metadata": {
        "id": "famvLNsLIURr",
        "colab": {
          "base_uri": "https://localhost:8080/"
        },
        "outputId": "b69793f5-561c-4f1e-ccb7-bb58be2889e4"
      },
      "execution_count": null,
      "outputs": [
        {
          "output_type": "stream",
          "name": "stdout",
          "text": [
            "{'name': 'Vinit Gatt', 'age': 27, 'city': 'Indore'}\n"
          ]
        }
      ]
    },
    {
      "cell_type": "code",
      "source": [
        "# Access and print only the age from the following dictionary:\n",
        "person = {\"name\":\"Vinit Gatt\", \"age\":27,\"city\":\"Indore\"}\n",
        "print(person[\"age\"])"
      ],
      "metadata": {
        "colab": {
          "base_uri": "https://localhost:8080/"
        },
        "id": "dG_4VT5FVpTz",
        "outputId": "6e1f8d15-01c5-42cd-8be0-8353661437fe"
      },
      "execution_count": null,
      "outputs": [
        {
          "output_type": "stream",
          "name": "stdout",
          "text": [
            "27\n"
          ]
        }
      ]
    },
    {
      "cell_type": "code",
      "source": [
        "# Add a new key \"gender\": \"Male\" to the above dictionary.\n",
        "person[\"gender\"] = \"Male\"\n",
        "print(person)"
      ],
      "metadata": {
        "colab": {
          "base_uri": "https://localhost:8080/"
        },
        "id": "GdzRexCmV03F",
        "outputId": "c3f4004d-5c5a-4876-d0c6-6cd0947bee43"
      },
      "execution_count": null,
      "outputs": [
        {
          "output_type": "stream",
          "name": "stdout",
          "text": [
            "{'name': 'Vinit Gatt', 'age': 27, 'city': 'Indore', 'gender': 'Male'}\n"
          ]
        }
      ]
    },
    {
      "cell_type": "code",
      "source": [
        "# Update the city value to \"Mumbai\" in the above dictionary.\n",
        "person[\"city\"] = \"Pune\"\n",
        "print(person)"
      ],
      "metadata": {
        "colab": {
          "base_uri": "https://localhost:8080/"
        },
        "id": "b1lv1kxqWAPQ",
        "outputId": "16091264-67fb-41bd-f9ca-a702cec0403e"
      },
      "execution_count": null,
      "outputs": [
        {
          "output_type": "stream",
          "name": "stdout",
          "text": [
            "{'name': 'Vinit Gatt', 'age': 27, 'city': 'Pune', 'gender': 'Male'}\n"
          ]
        }
      ]
    },
    {
      "cell_type": "code",
      "source": [
        "# Delete the age key from the dictionary.\n",
        "x=person.pop(\"age\")\n",
        "print(person,x)"
      ],
      "metadata": {
        "colab": {
          "base_uri": "https://localhost:8080/"
        },
        "id": "M8PIk6jvWOKP",
        "outputId": "02c7dbb2-e9ae-4507-c24d-e55741391904"
      },
      "execution_count": null,
      "outputs": [
        {
          "output_type": "stream",
          "name": "stdout",
          "text": [
            "{'name': 'Vinit Gatt', 'city': 'Pune', 'gender': 'Male'} 27\n"
          ]
        }
      ]
    },
    {
      "cell_type": "code",
      "source": [
        "# Check if the key \"name\" exists in the dictionary.\n",
        "if \"name\" in person:\n",
        "  print(person)"
      ],
      "metadata": {
        "colab": {
          "base_uri": "https://localhost:8080/"
        },
        "id": "z2bsVefIWdIB",
        "outputId": "639362d1-e746-4b34-a08a-dbd0e1106851"
      },
      "execution_count": null,
      "outputs": [
        {
          "output_type": "stream",
          "name": "stdout",
          "text": [
            "{'name': 'Vinit Gatt', 'city': 'Pune', 'gender': 'Male'}\n"
          ]
        }
      ]
    },
    {
      "cell_type": "code",
      "source": [
        "# Loop through the dictionary and print all keys.\n",
        "for i in person.keys():\n",
        "  print(i)"
      ],
      "metadata": {
        "colab": {
          "base_uri": "https://localhost:8080/"
        },
        "id": "MPROJu0sWq4f",
        "outputId": "15ebb4b0-650d-4347-882d-a004db3de1e4"
      },
      "execution_count": null,
      "outputs": [
        {
          "output_type": "stream",
          "name": "stdout",
          "text": [
            "name\n",
            "city\n",
            "gender\n"
          ]
        }
      ]
    },
    {
      "cell_type": "code",
      "source": [
        "# Loop through the dictionary and print all values.\n",
        "for i in person.values():\n",
        "  print(i)"
      ],
      "metadata": {
        "colab": {
          "base_uri": "https://localhost:8080/"
        },
        "id": "9hI6zcc2W1oU",
        "outputId": "c730514a-7ce0-4e3f-c8ba-a1e46b9f5ccb"
      },
      "execution_count": null,
      "outputs": [
        {
          "output_type": "stream",
          "name": "stdout",
          "text": [
            "Vinit Gatt\n",
            "Pune\n",
            "Male\n"
          ]
        }
      ]
    },
    {
      "cell_type": "code",
      "source": [
        "# Loop through both keys and values.\n",
        "for i in person.items():\n",
        "  print(i)"
      ],
      "metadata": {
        "colab": {
          "base_uri": "https://localhost:8080/"
        },
        "id": "QPo6MTFnW-sx",
        "outputId": "e68a3158-7cb4-413c-c854-3ed6c7a8eb10"
      },
      "execution_count": null,
      "outputs": [
        {
          "output_type": "stream",
          "name": "stdout",
          "text": [
            "('name', 'Vinit Gatt')\n",
            "('city', 'Pune')\n",
            "('gender', 'Male')\n"
          ]
        }
      ]
    },
    {
      "cell_type": "code",
      "source": [
        "# Create a dictionary using dict() function with keys: a, b, c and values: 1, 2, 3\n",
        "\n",
        "def dict():\n",
        "  dict={\"a\":1,\"b\":2,\"c\":3}\n",
        "  return dict"
      ],
      "metadata": {
        "id": "vQPMK06gXKW5"
      },
      "execution_count": null,
      "outputs": []
    },
    {
      "cell_type": "code",
      "source": [
        "dict()"
      ],
      "metadata": {
        "colab": {
          "base_uri": "https://localhost:8080/"
        },
        "id": "vk5tJb2JXsps",
        "outputId": "17a38ddc-aaf7-4ea5-9dab-9d11ccd52ad0"
      },
      "execution_count": null,
      "outputs": [
        {
          "output_type": "execute_result",
          "data": {
            "text/plain": [
              "{'a': 1, 'b': 2, 'c': 3}"
            ]
          },
          "metadata": {},
          "execution_count": 16
        }
      ]
    },
    {
      "cell_type": "code",
      "source": [
        "# Merge two dictionaries:\n",
        "\n",
        "# dict1 = {\"a\": 1, \"b\": 2}\n",
        "# dict2 = {\"c\": 3, \"d\": 4}\n",
        "\n",
        "dict1 = {\"a\": 1, \"b\": 2}\n",
        "dict2 = {\"c\": 3, \"d\": 4}\n",
        "dict1.update(dict2) # In dict1 we merge the dict2 with update command.\n",
        "print(dict1) # And then print it."
      ],
      "metadata": {
        "colab": {
          "base_uri": "https://localhost:8080/"
        },
        "id": "p_VcLf8OXtmM",
        "outputId": "667804a6-1ccb-4081-f75f-add9328fccef"
      },
      "execution_count": null,
      "outputs": [
        {
          "output_type": "stream",
          "name": "stdout",
          "text": [
            "{'a': 1, 'b': 2, 'c': 3, 'd': 4}\n"
          ]
        }
      ]
    },
    {
      "cell_type": "code",
      "source": [
        "# Count the number of keys in a dictionary.\n",
        "mydict = {\"a\": 1, \"b\": 2, \"c\": 3, \"d\": 4}\n",
        "count = 0\n",
        "for i in mydict.keys():\n",
        "  count=count+1\n",
        "print(count)"
      ],
      "metadata": {
        "colab": {
          "base_uri": "https://localhost:8080/"
        },
        "id": "-jOJsQJ8YAVf",
        "outputId": "a6bd3160-6fa0-4a3f-8c50-7a1cb03a4535"
      },
      "execution_count": null,
      "outputs": [
        {
          "output_type": "stream",
          "name": "stdout",
          "text": [
            "4\n"
          ]
        }
      ]
    },
    {
      "cell_type": "code",
      "source": [
        "# Create a dictionary from two lists:\n",
        "keys = [\"name\", \"age\", \"city\"]\n",
        "values = [\"Vinit\", 25, \"Delhi\"]\n",
        "mydict = {}\n",
        "for i in range(len(keys)):\n",
        "  mydict[keys[i]] = values[i]\n",
        "print(mydict)"
      ],
      "metadata": {
        "colab": {
          "base_uri": "https://localhost:8080/"
        },
        "id": "UsCTGX59Y-H4",
        "outputId": "4e61be9b-eb90-4ada-83ad-16b5b8a544ad"
      },
      "execution_count": null,
      "outputs": [
        {
          "output_type": "stream",
          "name": "stdout",
          "text": [
            "{'name': 'Vinit', 'age': 25, 'city': 'Delhi'}\n"
          ]
        }
      ]
    },
    {
      "cell_type": "code",
      "source": [
        "# Find the key with the maximum value in:\n",
        "\n",
        "marks = {\"Math\": 90, \"English\": 88, \"Science\": 95}\n",
        "for i in marks:\n",
        "  if marks[i] == max(marks.values()):\n",
        "    print(i,\":\",marks[i])"
      ],
      "metadata": {
        "colab": {
          "base_uri": "https://localhost:8080/"
        },
        "id": "jBYzzcDeZmfX",
        "outputId": "1ce68558-d3f6-401a-a53c-b51ef9d63a6f"
      },
      "execution_count": null,
      "outputs": [
        {
          "output_type": "stream",
          "name": "stdout",
          "text": [
            "Science : 95\n"
          ]
        }
      ]
    },
    {
      "cell_type": "code",
      "source": [
        "# Problem: WAP to print the combinations of \"a\" character and print it\n",
        "# a dictionary format.\n",
        "# abc = {a:1 ab:1 abc:1}\n",
        "s=\"abc\"\n",
        "mydict={}\n",
        "for i in range(0,4):\n",
        "  data = \"\"\n",
        "  for j in range(0,i):\n",
        "    data = data + s[j]\n",
        "    mydict[data] = 1\n",
        "print(mydict)"
      ],
      "metadata": {
        "colab": {
          "base_uri": "https://localhost:8080/"
        },
        "id": "AmeiMM93hF3w",
        "outputId": "f6a04ec2-78a0-4c66-957d-ba9f31334019"
      },
      "execution_count": null,
      "outputs": [
        {
          "output_type": "stream",
          "name": "stdout",
          "text": [
            "{'a': 1, 'ab': 1, 'abc': 1}\n"
          ]
        }
      ]
    },
    {
      "cell_type": "code",
      "source": [
        "# Problem: WAP to print the combinations of \"a\" character and then \"b\" character\n",
        "# and at last \"c\" Character.\n",
        "# {\"a\":1,\"ab\":1,\"abc\":1,\"b\":1,\"bc\":1,\"c\":1}\n",
        "str=\"abc\"\n",
        "mydictionary = {}\n",
        "for i in range(len(str)):\n",
        "  data = \"\"\n",
        "  for j in range(i,len(str)):\n",
        "    data = data + s[j]\n",
        "    mydictionary[data] = 1\n",
        "print(mydictionary)"
      ],
      "metadata": {
        "colab": {
          "base_uri": "https://localhost:8080/"
        },
        "id": "jbJqt_kNa-1Z",
        "outputId": "1c54351b-f1f7-47b4-cda0-d92a16fa4236"
      },
      "execution_count": null,
      "outputs": [
        {
          "output_type": "stream",
          "name": "stdout",
          "text": [
            "{'a': 1, 'ab': 1, 'abc': 1, 'b': 1, 'bc': 1, 'c': 1}\n"
          ]
        }
      ]
    },
    {
      "cell_type": "code",
      "source": [
        "# Problem: WAP to print the combination of \"A\" with \"Z\" as similar as \"B\" with \"Y\"\n",
        "# When user inputs a str: ABC then received a output as ZYX\n",
        "# And also with the same 26 Alphabets when user gave any input we received a viceversa\n",
        "# of that str as output.\n",
        "\n",
        "s = input(\"Enter a String:\").upper()\n",
        "mirror_dict = {}\n",
        "\n",
        "for i in range(26):\n",
        "  mirror_dict[chr(65+i)] = chr(90-i)\n",
        "result = {}\n",
        "for char in s:\n",
        "  if char in mirror_dict:\n",
        "    result[char] = mirror_dict[char]\n",
        "print(result)"
      ],
      "metadata": {
        "id": "bRBik64VdpsA",
        "colab": {
          "base_uri": "https://localhost:8080/"
        },
        "outputId": "c2e4e207-a571-4e43-e202-27044e6b5a7d"
      },
      "execution_count": null,
      "outputs": [
        {
          "output_type": "stream",
          "name": "stdout",
          "text": [
            "Enter a string: saloni\n",
            "{'S': 'H', 'A': 'Z', 'L': 'O', 'O': 'L', 'N': 'M', 'I': 'R'}\n"
          ]
        }
      ]
    },
    {
      "cell_type": "code",
      "source": [
        "# Problem: To print the sum of two numbers in the given list as 9.\n",
        "# list = [0,1,2,4,7,11,14,15] or [1,2,3,4,5,6,7,8]\n",
        "# means: 8+1 = 9 or 7+2 = 9\n",
        "# Solve this by enumerate in loop, also print the output in dictionary.\n",
        "\n",
        "mylist = [0,1,2,4,7,11,14,15]\n",
        "target = 9\n",
        "\n",
        "mydictionary = {}\n",
        "result = {}\n",
        "\n",
        "for index, value in enumerate(mylist):\n",
        "    complement = target - value\n",
        "    if complement in mydictionary:\n",
        "        result[complement] = value  # or result[value] = complement\n",
        "    mydictionary[value] = index  # store value with its index\n",
        "\n",
        "print(\"Pairs that sum to\", target, \"are (in dict format):\")\n",
        "print(result)"
      ],
      "metadata": {
        "colab": {
          "base_uri": "https://localhost:8080/"
        },
        "id": "g1q4amQx_IKJ",
        "outputId": "d7921c25-f5ef-47a9-db16-b18dfa318873"
      },
      "execution_count": 3,
      "outputs": [
        {
          "output_type": "stream",
          "name": "stdout",
          "text": [
            "Pairs that sum to 9 are (in dict format):\n",
            "{2: 7}\n"
          ]
        }
      ]
    },
    {
      "cell_type": "code",
      "source": [
        "# Problem: Take a user input as integer value and convert that number\n",
        "# into Roman number.\n",
        "# user_input = 10\n",
        "# output: X\n",
        "# user_input = 9\n",
        "# output: IX\n",
        "# user_input  = 50\n",
        "# output:L\n",
        "\n",
        "n = int(input(\"Enter a number: \"))\n",
        "\n",
        "number = [1000, 900, 500, 400, 100, 90, 50, 40, 10, 9, 5, 4, 1]\n",
        "symbols = [\"M\",  \"CM\", \"D\", \"CD\", \"C\", \"XC\", \"L\", \"XL\", \"X\", \"IX\", \"V\", \"IV\", \"I\"]\n",
        "\n",
        "roman = \"\"\n",
        "temp = n  # To store the value in dictionary.\n",
        "for i in range(len(number)):\n",
        "    while n >= number[i]:\n",
        "        roman += symbols[i]\n",
        "        n -= number[i]\n",
        "\n",
        "output = {temp : roman}\n",
        "print(output)"
      ],
      "metadata": {
        "colab": {
          "base_uri": "https://localhost:8080/"
        },
        "id": "W1xqaLX2eGhQ",
        "outputId": "f622a9e6-a95f-4852-e412-38145a8f5660"
      },
      "execution_count": null,
      "outputs": [
        {
          "output_type": "stream",
          "name": "stdout",
          "text": [
            "Enter a number: 15\n",
            "{15: 'XV'}\n"
          ]
        }
      ]
    },
    {
      "cell_type": "code",
      "source": [
        "# List: [[1],[1,1],[1,2,1],[1,3,3,1]]\n",
        "starting_Element = 1 # Each Element of the list start from 1.\n",
        "mylist = [] # Original list Or mother list\n",
        "for i in range(0,6): # Numbers of row\n",
        "  temp = [] # Each row of pascal's triangle are in nested list.\n",
        "  for j in range(i,6): # Numbers of spaces\n",
        "    print(\" \",end=\"\")\n",
        "  for k in range(0,i+1): # Number of coloums\n",
        "    if k==0 or i==k:\n",
        "      print(1,end=\" \")\n",
        "      temp.append(1)\n",
        "    else: # Adding the previous upper row two values.\n",
        "      x = mylist[i-1][k-1]+mylist[i-1][k] # Store in new variable\n",
        "      print(x,end=\" \")\n",
        "      temp.append(x)\n",
        "  mylist.append(temp)\n",
        "  print(\" \")\n",
        "print(mylist)"
      ],
      "metadata": {
        "id": "h9_DSbF3i3np",
        "colab": {
          "base_uri": "https://localhost:8080/"
        },
        "outputId": "8caddb8d-f584-45fe-f176-b789c2598488"
      },
      "execution_count": null,
      "outputs": [
        {
          "output_type": "stream",
          "name": "stdout",
          "text": [
            "      1  \n",
            "     1 1  \n",
            "    1 2 1  \n",
            "   1 3 3 1  \n",
            "  1 4 6 4 1  \n",
            " 1 5 10 10 5 1  \n",
            "[[1], [1, 1], [1, 2, 1], [1, 3, 3, 1], [1, 4, 6, 4, 1], [1, 5, 10, 10, 5, 1]]\n"
          ]
        }
      ]
    },
    {
      "cell_type": "code",
      "source": [
        "# set: is a datatype denoted by this \"set{}\"\n",
        "# set are mutable datatype\n",
        "# set don't have duplicate values\n",
        "# set have no indexing\n",
        "# set are unordered\n",
        "\n",
        "x = {} # if we do this,\n",
        "print(type(x)) # So this is dictionary.\n",
        "\n",
        "# if we want to use set.\n",
        "\n",
        "x = set( {} ) # This is set.\n",
        "print(type(x))"
      ],
      "metadata": {
        "colab": {
          "base_uri": "https://localhost:8080/"
        },
        "id": "yjvwVt6ctFx-",
        "outputId": "ba8eb32f-dc0d-44ff-d5cb-b36a38c1c862"
      },
      "execution_count": null,
      "outputs": [
        {
          "output_type": "stream",
          "name": "stdout",
          "text": [
            "<class 'dict'>\n",
            "<class 'set'>\n"
          ]
        }
      ]
    },
    {
      "cell_type": "code",
      "source": [
        "# Use of set:\n",
        "\n",
        "x = {1,2,3,10,30,10,10,20,1,1,1,1} # Set already remove all the duplicate values before the printing.\n",
        "print(\"Remove duplicate values:\",x) # print the values in unordered manner\n",
        "\n",
        "# Set are mutable datatype so we can change or add in their values:\n",
        "\n",
        "x.add(\"hey\") #add or insert the element at random position.\n",
        "print(\"Inserting of hey:\",x) # \"hey\" is inserted at random position.\n",
        "\n",
        "x.discard(2) # Use to delete the element(2) # 2nd element deleted.\n",
        "print(\"Delete the Element:\",x)"
      ],
      "metadata": {
        "id": "x89vaZgb2qvx",
        "colab": {
          "base_uri": "https://localhost:8080/"
        },
        "outputId": "e969a111-3645-4564-94c7-55707d662577"
      },
      "execution_count": null,
      "outputs": [
        {
          "output_type": "stream",
          "name": "stdout",
          "text": [
            "Remove duplicate values {1, 2, 3, 20, 10, 30}\n",
            "Inserting of hey: {1, 2, 3, 20, 10, 'hey', 30}\n",
            "Delete the Element: {1, 3, 20, 10, 'hey', 30}\n"
          ]
        }
      ]
    },
    {
      "cell_type": "code",
      "source": [
        "# We want to add multiple value in set via list[].\n",
        "\n",
        "x = {1,2,3,10,20,30} # set\n",
        "print(\"Before set:\",x)\n",
        "# Now we add values in set\n",
        "x.update([100,1000,20000,300000])\n",
        "print(\"After value adding set:\",x)\n",
        "\n",
        "# Before set: {1, 2, 3, 20, 10, 30}\n",
        "# After value adding set: {1, 2, 3, 10, 20, 30, 20000, 300000, 100, 1000}\n",
        "# We can see the value which we are update in the set have updated\n",
        "# in random positions or index.\n",
        "\n",
        "# Frozen Set: Set which are immutable in property.\n",
        "# They can't change their values."
      ],
      "metadata": {
        "colab": {
          "base_uri": "https://localhost:8080/"
        },
        "id": "1Ep_wGuaX5iL",
        "outputId": "41802523-816d-44b7-c514-a81dc8ad9332"
      },
      "execution_count": null,
      "outputs": [
        {
          "output_type": "stream",
          "name": "stdout",
          "text": [
            "Before set: {1, 2, 3, 20, 10, 30}\n",
            "After value adding set: {1, 2, 3, 10, 20, 30, 20000, 300000, 100, 1000}\n"
          ]
        }
      ]
    },
    {
      "cell_type": "code",
      "source": [
        "# Union: the union of sets is an operation that combines all\n",
        "#  unique elements from two or more sets into a new set.\n",
        "\n",
        "# Intersection: The intersection of sets refers to finding the common elements present\n",
        "#   in two or more sets.\n",
        "\n",
        "# Is_Superset: n Python, a set A is considered a superset of another set B if all\n",
        "# elements of set B are also present in set A.\n",
        "# Set A = {10,20,30}\n",
        "# Set B = {10,20,30}\n",
        "# So both have same Elements and this is called as Is_Superset\n",
        "\n",
        "# Disjoint:The isdisjoint() method of a set efficiently determines if it shares any elements\n",
        "# with another iterable (which can be another set, a list, a tuple, etc.).\n",
        "# It returns True if there are no common elements (i.e., the sets are disjoint)\n",
        "# and False otherwise.\n",
        "# Example of disjoint sets\n",
        "set_a = {1, 2, 3}\n",
        "set_b = {4, 5, 6}\n",
        "print(f\"Are set_a and set_b disjoint? {set_a.isdisjoint(set_b)}\")\n",
        "\n",
        "# Example of non-disjoint sets\n",
        "set_c = {1, 2, 3}\n",
        "set_d = {3, 4, 5}\n",
        "print(f\"Are set_c and set_d disjoint? {set_c.isdisjoint(set_d)}\")\n",
        "\n",
        "# Checking against other iterables\n",
        "my_set = {10, 20, 30}\n",
        "my_list = [30, 40, 50]\n",
        "print(f\"Is my_set disjoint from my_list? {my_set.isdisjoint(my_list)}\")"
      ],
      "metadata": {
        "colab": {
          "base_uri": "https://localhost:8080/"
        },
        "id": "Ah0XD8cmaUk7",
        "outputId": "edf1aa45-a78b-455b-9cd8-2f60ff1fdd43"
      },
      "execution_count": null,
      "outputs": [
        {
          "output_type": "stream",
          "name": "stdout",
          "text": [
            "Are set_a and set_b disjoint? True\n",
            "Are set_c and set_d disjoint? False\n",
            "Is my_set disjoint from my_list? False\n"
          ]
        }
      ]
    },
    {
      "cell_type": "code",
      "source": [
        "# Problem: Make a code for password creation:\n",
        "# Take a string from a user input.\n",
        "# 1. string should have one capital letter\n",
        "# 2. string should have one small letter\n",
        "# 3. string should have numeric digit.\n",
        "# 4. string should have symbolic letter.\n",
        "# 5. string should have minimum six letter or more.\n",
        "\n",
        "string = input(\"Enter a String:\")\n",
        "types = set()\n",
        "\n",
        "for ch in string:\n",
        "  if ch>= 'A' and ch <='Z':\n",
        "    types.add(\"Capital Letters\")\n",
        "  if ch >='a' and ch <='z':\n",
        "    types.add(\"Small letters\")\n",
        "  if ch >='0' and ch <= '9':\n",
        "    types.add(\"Numeric\")\n",
        "  else:\n",
        "    types.add(\"Symbolic\")\n",
        "if len(string) >= 6 and \"Capital Letters\" in types and \"Small letters\" in types and \"Numeric\" in types and \"Symbolic\" in types:\n",
        "  print(\"Valid String\")\n",
        "else:\n",
        "  print(\"Invalid String\")"
      ],
      "metadata": {
        "id": "K_X2bTwQfTdm",
        "colab": {
          "base_uri": "https://localhost:8080/"
        },
        "outputId": "fa4c6491-1a45-455f-f50d-54a3636e633c"
      },
      "execution_count": null,
      "outputs": [
        {
          "output_type": "stream",
          "name": "stdout",
          "text": [
            "Enter a String:Vinit@5298\n",
            "Valid String\n"
          ]
        }
      ]
    },
    {
      "cell_type": "code",
      "source": [
        "# Take a string and print it in reverse\n",
        "# But not use of slicing and reverse function.\n",
        "# Take input from user.\n",
        "\n",
        "# This code is used to print the characters in reversed.\n",
        "s = input(\"Enter a string: \")\n",
        "\n",
        "reversed_string = \"\"\n",
        "\n",
        "for char in s:\n",
        "  reversed_string = char + reversed_string\n",
        "print(reversed_string)"
      ],
      "metadata": {
        "colab": {
          "base_uri": "https://localhost:8080/"
        },
        "id": "90Bqg-r-inVR",
        "outputId": "b9786bf1-c109-4996-f1bf-7db6bdfa5bc5"
      },
      "execution_count": null,
      "outputs": [
        {
          "output_type": "stream",
          "name": "stdout",
          "text": [
            "Enter a string: My name is Vinit Gatt\n",
            "ttaG tiniV si eman yM\n"
          ]
        }
      ]
    },
    {
      "cell_type": "code",
      "source": [
        "# This code is used to print the words in reversed format.\n",
        "s = input(\"Enter a string: \")\n",
        "words = []\n",
        "word = \"\"\n",
        "for ch in s:\n",
        "    if ch != \" \":\n",
        "        word += ch\n",
        "    else:\n",
        "        words.append(word)\n",
        "        word = \"\"\n",
        "words.append(word)\n",
        "\n",
        "n = len(words)\n",
        "for i in range(n-1, -1, -1):\n",
        "    if i == n - 1:\n",
        "        print(words[i][0].upper() + words[i][1:], end=' ')\n",
        "    elif i == 0 and words[i][-1] == '.':\n",
        "        print(words[i][:-1].capitalize() + '.', end='')\n",
        "    else:\n",
        "        print(words[i], end=' ')"
      ],
      "metadata": {
        "colab": {
          "base_uri": "https://localhost:8080/"
        },
        "id": "NIZXNywFjVqb",
        "outputId": "89027f20-a939-4634-af66-e3e87a6481e1"
      },
      "execution_count": null,
      "outputs": [
        {
          "output_type": "stream",
          "name": "stdout",
          "text": [
            "Enter a string: My name is Vinit Gatt\n",
            "Gatt Vinit is name My "
          ]
        }
      ]
    },
    {
      "cell_type": "code",
      "source": [
        "from ast import comprehension\n",
        "# Comprehension:\n",
        "# List Comphrehension\n",
        "# Dictionary Comphrehension\n",
        "# Set Comprehension\n",
        "\n",
        "# All are concise ways or simple ways to create a new list:\n",
        "\n",
        "# list comprehension:\n",
        "# We have a data in from range(1,11) => [1,2,3,..9,10]\n",
        "# This is the normal way to print the list from 1 to 10.\n",
        "newlist=[]\n",
        "for i in range(1,11):\n",
        "  newlist.append(i)\n",
        "print(\"Normal Method:\",newlist)\n",
        "\n",
        "# Now, doing the same thing with the help of list comprehension.\n",
        "newlist = [i for i in range(1,11)]\n",
        "print(\"Comprehension Method:\",newlist)"
      ],
      "metadata": {
        "colab": {
          "base_uri": "https://localhost:8080/"
        },
        "id": "L9ypeH-Bj-46",
        "outputId": "998f2b06-4afb-42ec-d662-08686c39b73f"
      },
      "execution_count": null,
      "outputs": [
        {
          "output_type": "stream",
          "name": "stdout",
          "text": [
            "Normal Method: [1, 2, 3, 4, 5, 6, 7, 8, 9, 10]\n",
            "Comprehension Method: [1, 2, 3, 4, 5, 6, 7, 8, 9, 10]\n"
          ]
        }
      ]
    },
    {
      "cell_type": "code",
      "source": [
        "newlist = [i**2 for i in range(1,11)]\n",
        "print(newlist)\n",
        "# This is called as List comprehension."
      ],
      "metadata": {
        "colab": {
          "base_uri": "https://localhost:8080/"
        },
        "id": "eEVoWAApmWVN",
        "outputId": "34bda681-8344-4795-846a-cddeb1a36e9b"
      },
      "execution_count": null,
      "outputs": [
        {
          "output_type": "stream",
          "name": "stdout",
          "text": [
            "[1, 4, 9, 16, 25, 36, 49, 64, 81, 100]\n"
          ]
        }
      ]
    },
    {
      "cell_type": "code",
      "source": [
        "# If user want to print the key pair format output:\n",
        "{i:i**2 for i in range(1,11)} # In Dictionary format.\n",
        "# This is called as Dictionary Comprehension."
      ],
      "metadata": {
        "colab": {
          "base_uri": "https://localhost:8080/"
        },
        "id": "eH-lK6GTpZvq",
        "outputId": "5e1a334b-629c-4356-b073-846d5b536e92"
      },
      "execution_count": null,
      "outputs": [
        {
          "output_type": "execute_result",
          "data": {
            "text/plain": [
              "{1: 1, 2: 4, 3: 9, 4: 16, 5: 25, 6: 36, 7: 49, 8: 64, 9: 81, 10: 100}"
            ]
          },
          "metadata": {},
          "execution_count": 20
        }
      ]
    },
    {
      "cell_type": "code",
      "source": [
        "# Check the even numbers via list comprehension.\n",
        "[i for i in range(1,12) if i%2==0]"
      ],
      "metadata": {
        "colab": {
          "base_uri": "https://localhost:8080/"
        },
        "id": "6MIFTnnOpwUw",
        "outputId": "4f305e28-6361-49a9-ac76-2a213761a9f4"
      },
      "execution_count": null,
      "outputs": [
        {
          "output_type": "execute_result",
          "data": {
            "text/plain": [
              "[2, 4, 6, 8, 10]"
            ]
          },
          "metadata": {},
          "execution_count": 30
        }
      ]
    },
    {
      "cell_type": "code",
      "source": [
        "# Check the odd numbers via list comprehension:\n",
        "[i for i in range(1,11) if i%2 != 0]"
      ],
      "metadata": {
        "colab": {
          "base_uri": "https://localhost:8080/"
        },
        "id": "uwOdQS-IqdgB",
        "outputId": "21879fd7-03e1-483a-dbce-a2cd8c77bc15"
      },
      "execution_count": null,
      "outputs": [
        {
          "output_type": "execute_result",
          "data": {
            "text/plain": [
              "[1, 3, 5, 7, 9]"
            ]
          },
          "metadata": {},
          "execution_count": 27
        }
      ]
    },
    {
      "cell_type": "code",
      "source": [
        "# Run a loop and in it a second nested loop and print the combination below:\n",
        "# (1,2)\n",
        "# (1,3)\n",
        "# (1,4)\n",
        "# (1,5)\n",
        "# (2,2)\n",
        "# (2,3)\n",
        "# and so on..\n",
        "\n",
        "[(i,j) for i in range(1,5) for j in range(2,6)]"
      ],
      "metadata": {
        "id": "lACYxs0jrsWR",
        "colab": {
          "base_uri": "https://localhost:8080/"
        },
        "outputId": "0aedd0cf-7eed-4c1b-a870-8cdc5e3d712f"
      },
      "execution_count": null,
      "outputs": [
        {
          "output_type": "execute_result",
          "data": {
            "text/plain": [
              "[(1, 2),\n",
              " (1, 3),\n",
              " (1, 4),\n",
              " (1, 5),\n",
              " (2, 2),\n",
              " (2, 3),\n",
              " (2, 4),\n",
              " (2, 5),\n",
              " (3, 2),\n",
              " (3, 3),\n",
              " (3, 4),\n",
              " (3, 5),\n",
              " (4, 2),\n",
              " (4, 3),\n",
              " (4, 4),\n",
              " (4, 5)]"
            ]
          },
          "metadata": {},
          "execution_count": 4
        }
      ]
    },
    {
      "cell_type": "code",
      "source": [
        "# # Problem: Given list in which add two values to generate the target = 12\n",
        "# But use only single loop to get the target.\n",
        "list = [-1,0,1,2,11,16]\n",
        "target = 12\n",
        "start = 0\n",
        "end = len(list) - 1\n",
        "\n",
        "while start < end:\n",
        "  if list[start] + list[end] == target:\n",
        "    print(\"Addition of these two numbers:\",list[start],list[end])\n",
        "    break\n",
        "  if list[start] + list[end] > target:\n",
        "    end = end - 1\n",
        "  else:\n",
        "    start = start + 1"
      ],
      "metadata": {
        "colab": {
          "base_uri": "https://localhost:8080/"
        },
        "id": "xJhNrX1PJJAA",
        "outputId": "7a96c1e1-14db-43bc-a128-410bb64aa49f"
      },
      "execution_count": null,
      "outputs": [
        {
          "output_type": "stream",
          "name": "stdout",
          "text": [
            "Addition of these two numbers: 1 11\n"
          ]
        }
      ]
    },
    {
      "cell_type": "code",
      "source": [
        "# Valid Parathesis on leet code:\n",
        "# [ \"{\" ] --> { \"}\" : \"{\"}\n",
        "# Closing of  the same brackets is known as valid parentheses.\n",
        "\n",
        "string = input(\"Enter a String: \")\n",
        "\n",
        "Newlist = []\n",
        "pairs = {'(':')','[':']','{':'}'}\n",
        "\n",
        "for ch in string:\n",
        "  if ch in pairs:\n",
        "    Newlist.append(ch)\n",
        "  else:\n",
        "    if not Newlist or pairs[Newlist.pop()] != ch:\n",
        "      print(False)\n",
        "      break\n",
        "else:\n",
        "  print(len(Newlist) == 0)"
      ],
      "metadata": {
        "colab": {
          "base_uri": "https://localhost:8080/"
        },
        "id": "i4XLmTsFLB3J",
        "outputId": "b4399034-0df0-4e5e-a06a-489fe163603c"
      },
      "execution_count": null,
      "outputs": [
        {
          "output_type": "stream",
          "name": "stdout",
          "text": [
            "Enter a String: {}\n",
            "True\n"
          ]
        }
      ]
    },
    {
      "cell_type": "code",
      "source": [],
      "metadata": {
        "id": "Ha3qjoWfOJsX"
      },
      "execution_count": null,
      "outputs": []
    }
  ]
}