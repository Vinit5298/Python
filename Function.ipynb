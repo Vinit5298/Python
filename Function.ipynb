{
  "cells": [
    {
      "cell_type": "markdown",
      "metadata": {
        "id": "view-in-github",
        "colab_type": "text"
      },
      "source": [
        "<a href=\"https://colab.research.google.com/github/Vinit5298/Python/blob/main/Function.ipynb\" target=\"_parent\"><img src=\"https://colab.research.google.com/assets/colab-badge.svg\" alt=\"Open In Colab\"/></a>"
      ]
    },
    {
      "cell_type": "markdown",
      "id": "fa7dffc6",
      "metadata": {
        "id": "fa7dffc6"
      },
      "source": [
        "# Functions in Python\n",
        "A function in python is block of code that performs a specific task (or only runs when it is called).\n",
        "\n",
        "Input --> [] --> Output\n",
        "We will gave the input and resultant as output\n",
        "Example: We press a remote button for increasing volume so act like input\n",
        "And in output the volume get increased.\n",
        "\n",
        "Example: dirty clothes --> Washing Machine --> Clean Clothes\n",
        "Washing the dirty clothes is the function of washing machine.\n",
        "\n",
        "You can pass data, known as parameters, into a function.\n",
        "A function can return data as a result."
      ]
    },
    {
      "cell_type": "code",
      "execution_count": null,
      "id": "2d255bcf",
      "metadata": {
        "id": "2d255bcf",
        "outputId": "ea1a6025-1aa9-49df-cd12-dac627f92384"
      },
      "outputs": [
        {
          "name": "stdout",
          "output_type": "stream",
          "text": [
            "Hello Python\n"
          ]
        }
      ],
      "source": [
        "#Introduction to Function:\n",
        "print(\"Hello Python\")"
      ]
    },
    {
      "cell_type": "code",
      "execution_count": null,
      "id": "8f24a276",
      "metadata": {
        "id": "8f24a276",
        "outputId": "59991b41-68e0-44cc-d726-74ea0d974641"
      },
      "outputs": [
        {
          "data": {
            "text/plain": [
              "5"
            ]
          },
          "execution_count": 2,
          "metadata": {},
          "output_type": "execute_result"
        }
      ],
      "source": [
        "len(\"Vinit\") # len is a function to check the length of any data type."
      ]
    },
    {
      "cell_type": "code",
      "execution_count": null,
      "id": "b6a3682c",
      "metadata": {
        "id": "b6a3682c",
        "outputId": "a903973f-a385-40ed-c33c-f951bda51c67"
      },
      "outputs": [
        {
          "data": {
            "text/plain": [
              "12"
            ]
          },
          "execution_count": 3,
          "metadata": {},
          "output_type": "execute_result"
        }
      ],
      "source": [
        "len(\"Hello Python\")"
      ]
    },
    {
      "cell_type": "markdown",
      "id": "2a13cfad",
      "metadata": {
        "id": "2a13cfad"
      },
      "source": [
        "Why we use functions:\n",
        "Explain with an example: so we have to check the length of string.\n",
        "So we check it one by one:"
      ]
    },
    {
      "cell_type": "code",
      "execution_count": null,
      "id": "10617991",
      "metadata": {
        "id": "10617991"
      },
      "outputs": [],
      "source": [
        "s1 = \"Vinit\"\n",
        "s2 = \"Hello Python\"\n",
        "s3 = \"hkjjalksdhgkjlhsg\""
      ]
    },
    {
      "cell_type": "code",
      "execution_count": null,
      "id": "cfed2f7c",
      "metadata": {
        "id": "cfed2f7c",
        "outputId": "e003e4a9-f812-48ac-83e0-b9f65b020cfb"
      },
      "outputs": [
        {
          "name": "stdout",
          "output_type": "stream",
          "text": [
            "5\n"
          ]
        }
      ],
      "source": [
        "l1 = 0\n",
        "for i in s1:\n",
        "    l1 += 1\n",
        "print(l1)"
      ]
    },
    {
      "cell_type": "code",
      "execution_count": null,
      "id": "da6b266f",
      "metadata": {
        "id": "da6b266f",
        "outputId": "cfbfa7e6-f2d6-4cd1-ad8a-2dbc6804a8db"
      },
      "outputs": [
        {
          "name": "stdout",
          "output_type": "stream",
          "text": [
            "12\n"
          ]
        }
      ],
      "source": [
        "l2 = 0\n",
        "for i in s2:\n",
        "    l2 += 1\n",
        "print(l2)"
      ]
    },
    {
      "cell_type": "code",
      "execution_count": null,
      "id": "791a4462",
      "metadata": {
        "id": "791a4462",
        "outputId": "98709b76-a3ff-4e3e-8a8c-baf24f642de4"
      },
      "outputs": [
        {
          "name": "stdout",
          "output_type": "stream",
          "text": [
            "17\n"
          ]
        }
      ],
      "source": [
        "l3 = 0\n",
        "for i in s3:\n",
        "    l3 += 1\n",
        "print(l3)"
      ]
    },
    {
      "cell_type": "markdown",
      "id": "543a9ea4",
      "metadata": {
        "id": "543a9ea4"
      },
      "source": [
        "If suppose there are 100 of strings and we have to check the length of that strings.\n",
        "\n",
        "To sort this complexity we have functions:"
      ]
    },
    {
      "cell_type": "code",
      "execution_count": null,
      "id": "02741d48",
      "metadata": {
        "id": "02741d48",
        "outputId": "0bc85afe-7b44-4cc8-e214-1592ec679cda"
      },
      "outputs": [
        {
          "name": "stdout",
          "output_type": "stream",
          "text": [
            "12\n"
          ]
        }
      ],
      "source": [
        "def string(s):\n",
        "    l = 0\n",
        "    for i in s:\n",
        "        l += 1\n",
        "    print(l)\n",
        "\n",
        "string(\"Hello Python\")\n"
      ]
    },
    {
      "cell_type": "markdown",
      "id": "5a21b6c3",
      "metadata": {
        "id": "5a21b6c3"
      },
      "source": [
        "Benefits of Functions:\n",
        "1. code reusability\n",
        "2. Reduce the length of code\n",
        "3. Increased readability of code.\n",
        "4. less we write code less error will occurs.\n",
        "\n",
        "Types of Functions:\n",
        "1. Built-in library function: These are Standard functions in Python that are available to use.\n",
        "2. User-defined function: We can create our own functions based on our requirements."
      ]
    },
    {
      "cell_type": "markdown",
      "id": "4b0a81f3",
      "metadata": {
        "id": "4b0a81f3"
      },
      "source": [
        "Define our Own Function:\n",
        "# Syntax:\n",
        "    # def function_name(): #inputs\n",
        "    #    ---code(logic)---\n",
        "    #    ---code(logic)---\n",
        "    # unindented code\n",
        "1. Function definition\n",
        "2. Function calling"
      ]
    },
    {
      "cell_type": "code",
      "execution_count": null,
      "id": "ecb1676f",
      "metadata": {
        "id": "ecb1676f",
        "outputId": "651e7c7c-1af4-423e-8403-7aa19f882cda"
      },
      "outputs": [
        {
          "name": "stdout",
          "output_type": "stream",
          "text": [
            "Hello Python\n"
          ]
        }
      ],
      "source": [
        "def greet(): # define the function\n",
        "    print(\"Hello Python\") # print the output\n",
        "\n",
        "greet() # call the function"
      ]
    },
    {
      "cell_type": "code",
      "execution_count": null,
      "id": "9ec3a64c",
      "metadata": {
        "id": "9ec3a64c",
        "outputId": "953816a9-7be8-43ae-b4d0-1da4829a96bd"
      },
      "outputs": [
        {
          "name": "stdout",
          "output_type": "stream",
          "text": [
            "Hello Vinit\n"
          ]
        },
        {
          "ename": "NameError",
          "evalue": "name 'greet2' is not defined",
          "output_type": "error",
          "traceback": [
            "\u001b[31m---------------------------------------------------------------------------\u001b[39m",
            "\u001b[31mNameError\u001b[39m                                 Traceback (most recent call last)",
            "\u001b[36mCell\u001b[39m\u001b[36m \u001b[39m\u001b[32mIn[18]\u001b[39m\u001b[32m, line 5\u001b[39m\n\u001b[32m      2\u001b[39m     \u001b[38;5;28mprint\u001b[39m(\u001b[33m\"\u001b[39m\u001b[33mHello Vinit\u001b[39m\u001b[33m\"\u001b[39m)\n\u001b[32m      4\u001b[39m greet()\n\u001b[32m----> \u001b[39m\u001b[32m5\u001b[39m \u001b[43mgreet2\u001b[49m() \u001b[38;5;66;03m# Not defined that why not present in the memory\u001b[39;00m\n\u001b[32m      6\u001b[39m \u001b[38;5;66;03m# and gave us the error.\u001b[39;00m\n",
            "\u001b[31mNameError\u001b[39m: name 'greet2' is not defined"
          ]
        }
      ],
      "source": [
        "def greet():\n",
        "    print(\"Hello Vinit\")\n",
        "\n",
        "greet()\n",
        "greet2() # Not defined that why not present in the memory\n",
        "# and gave us the error."
      ]
    },
    {
      "cell_type": "markdown",
      "id": "395866b2",
      "metadata": {
        "id": "395866b2"
      },
      "source": [
        "# Return vs print"
      ]
    },
    {
      "cell_type": "markdown",
      "id": "be6a0d1e",
      "metadata": {
        "id": "be6a0d1e"
      },
      "source": [
        "Return: function which return you anything.\n",
        "\n",
        "Like example: dirty clothes --> Washing Machine --> Clean Clothes\n",
        "\n",
        "Like also example: we eat food but it will not return us anything.\n",
        "\n",
        "Every Functions will returning something."
      ]
    },
    {
      "cell_type": "code",
      "execution_count": null,
      "id": "5aacc926",
      "metadata": {
        "id": "5aacc926",
        "outputId": "24a4220e-dc03-48d3-aac1-40394580b2df"
      },
      "outputs": [
        {
          "name": "stdout",
          "output_type": "stream",
          "text": [
            "Hello Python\n",
            "None\n"
          ]
        }
      ],
      "source": [
        "def Hello():\n",
        "    print(\"Hello Python\")\n",
        "\n",
        "ret = Hello()\n",
        "print(ret)"
      ]
    },
    {
      "cell_type": "code",
      "execution_count": null,
      "id": "b226e625",
      "metadata": {
        "id": "b226e625",
        "outputId": "7abf67a2-1b47-49f6-e87c-cef369be698f"
      },
      "outputs": [
        {
          "name": "stdout",
          "output_type": "stream",
          "text": [
            "Hello Python\n"
          ]
        }
      ],
      "source": [
        "def Hello_return():\n",
        "    return \"Hello Python\"\n",
        "\n",
        "ret = Hello_return()\n",
        "print(ret)"
      ]
    },
    {
      "cell_type": "code",
      "execution_count": null,
      "id": "39b3f7dc",
      "metadata": {
        "id": "39b3f7dc",
        "outputId": "8f1c3fe5-05d2-4a80-b921-462fd3d6ed0e"
      },
      "outputs": [
        {
          "name": "stdout",
          "output_type": "stream",
          "text": [
            "Hello\n",
            "None\n"
          ]
        }
      ],
      "source": [
        "ret = print(\"Hello\")\n",
        "print(ret) # displaying the value of \"hello\""
      ]
    },
    {
      "cell_type": "markdown",
      "id": "c7d1090f",
      "metadata": {
        "id": "c7d1090f"
      },
      "source": [
        "Return is a built-in function which return us None by-default.\n",
        "\n",
        "Print is also a built-in function which only display us the output of our code."
      ]
    },
    {
      "cell_type": "code",
      "execution_count": null,
      "id": "4436f8a0",
      "metadata": {
        "id": "4436f8a0",
        "outputId": "2fd02f28-df99-4bce-f097-70dc1fb857d4"
      },
      "outputs": [
        {
          "data": {
            "text/plain": [
              "5"
            ]
          },
          "execution_count": 26,
          "metadata": {},
          "output_type": "execute_result"
        }
      ],
      "source": [
        "ret = len(\"Hello\")\n",
        "ret # returning the value of len as 5\n"
      ]
    },
    {
      "cell_type": "markdown",
      "id": "f97644f3",
      "metadata": {
        "id": "f97644f3"
      },
      "source": [
        "# Parameter and Arguments:"
      ]
    },
    {
      "cell_type": "markdown",
      "id": "c406972d",
      "metadata": {
        "id": "c406972d"
      },
      "source": [
        "Parameter: Parameter is a variable listed inside bracket in function definition.\n",
        "\n",
        "Argument: Argument are actual value send while called the function."
      ]
    },
    {
      "cell_type": "code",
      "execution_count": null,
      "id": "9f494fc8",
      "metadata": {
        "id": "9f494fc8",
        "outputId": "f95e0a3c-ac15-4ef9-d6d0-6bf1d527d45b"
      },
      "outputs": [
        {
          "name": "stdout",
          "output_type": "stream",
          "text": [
            "6 5\n"
          ]
        }
      ],
      "source": [
        "# lenght\n",
        "\n",
        "def length(input): # Parameter\n",
        "    ans = 0\n",
        "    for i in input:\n",
        "        ans = ans + 1\n",
        "    return ans\n",
        "\n",
        "s1 = \"Python\"  # Argument\n",
        "l = length(s1)  # Argument\n",
        "\n",
        "s2 = \"Vinit\"  # Argument\n",
        "l2 = length(s2)  # Argument\n",
        "\n",
        "print(l,l2)"
      ]
    },
    {
      "cell_type": "markdown",
      "id": "05c865ad",
      "metadata": {
        "id": "05c865ad"
      },
      "source": [
        "Types of Arguments:\n",
        "1. Required Argument\n",
        "2. Positional Argument\n",
        "3. Keyword Argument\n",
        "4. Default Argument\n"
      ]
    },
    {
      "cell_type": "markdown",
      "id": "d02ea70c",
      "metadata": {
        "id": "d02ea70c"
      },
      "source": [
        "Positional Argument: In Python, positional arguments are values passed to a function based on their order or position in the function call.\n",
        "\n",
        "The function's parameters receive the values in the exact sequence they are provided."
      ]
    },
    {
      "cell_type": "code",
      "execution_count": null,
      "id": "710a540d",
      "metadata": {
        "id": "710a540d",
        "outputId": "a1a768d8-177f-4756-897f-c67661706fb5"
      },
      "outputs": [
        {
          "name": "stdout",
          "output_type": "stream",
          "text": [
            "a 5\n",
            "b 7\n"
          ]
        },
        {
          "data": {
            "text/plain": [
              "12"
            ]
          },
          "execution_count": 40,
          "metadata": {},
          "output_type": "execute_result"
        }
      ],
      "source": [
        "def sum(a,b):\n",
        "    print(\"a\",a)\n",
        "    print(\"b\",b)\n",
        "    return (a+b)\n",
        "\n",
        "sum(5,7) # a = 5, b = 7"
      ]
    },
    {
      "cell_type": "markdown",
      "id": "ebf815a5",
      "metadata": {
        "id": "ebf815a5"
      },
      "source": [
        "Default Argument: Python allows function arguments to have default values. If the function is called without the argument, the argument gets its default value."
      ]
    },
    {
      "cell_type": "code",
      "execution_count": null,
      "id": "c5015bed",
      "metadata": {
        "id": "c5015bed",
        "outputId": "cd68a66e-1e6c-4f2a-d514-4b0d3093665a"
      },
      "outputs": [
        {
          "name": "stdout",
          "output_type": "stream",
          "text": [
            "a: 5 b: 7 c: 9\n"
          ]
        },
        {
          "data": {
            "text/plain": [
              "21"
            ]
          },
          "execution_count": 53,
          "metadata": {},
          "output_type": "execute_result"
        }
      ],
      "source": [
        "def sum(a,b,c=0): # if the c value is not defined in function\n",
        "    # So take it is a default value as 0.\n",
        "    print(\"a:\",a,\"b:\",b,\"c:\",c)\n",
        "    return a + b + c\n",
        "\n",
        "sum(5,7,9)"
      ]
    },
    {
      "cell_type": "code",
      "execution_count": null,
      "id": "d97ec818",
      "metadata": {
        "id": "d97ec818",
        "outputId": "576fda99-9eb0-4e68-e06d-31ea187bc7d2"
      },
      "outputs": [
        {
          "name": "stdout",
          "output_type": "stream",
          "text": [
            "a: 9 b: 8 c: 0\n"
          ]
        },
        {
          "data": {
            "text/plain": [
              "17"
            ]
          },
          "execution_count": 56,
          "metadata": {},
          "output_type": "execute_result"
        }
      ],
      "source": [
        "sum(9,8) # So here as we saw a=9 and b=8 but c is not given\n",
        "#  then c is taken as default argument c=0"
      ]
    },
    {
      "cell_type": "code",
      "execution_count": null,
      "id": "13d43ca0",
      "metadata": {
        "id": "13d43ca0",
        "outputId": "ba5ab26c-770f-450e-e7d0-c62c2ab60e20"
      },
      "outputs": [
        {
          "data": {
            "text/plain": [
              "'+91-8770976648'"
            ]
          },
          "execution_count": 57,
          "metadata": {},
          "output_type": "execute_result"
        }
      ],
      "source": [
        "# Example:\n",
        "\n",
        "def getMobileNumber(MobileNumber,CountryCode=\"+91-\"):\n",
        "    return CountryCode + MobileNumber\n",
        "\n",
        "getMobileNumber (\"8770976648\") # here we didn't gave the country\n",
        "# code but by default function take the default argument for country\n",
        "# code."
      ]
    },
    {
      "cell_type": "markdown",
      "id": "5a197ceb",
      "metadata": {
        "id": "5a197ceb"
      },
      "source": [
        "Keyword Argument: arguments mean whenever we pass the arguments(or value) by their parameter names at the time of calling the function in Python in which if you change the position of arguments then there will be no change in the output."
      ]
    },
    {
      "cell_type": "code",
      "execution_count": null,
      "id": "5feb52ce",
      "metadata": {
        "id": "5feb52ce",
        "outputId": "0924ba7f-6e1c-4b4e-a892-820e5330a430"
      },
      "outputs": [
        {
          "name": "stdout",
          "output_type": "stream",
          "text": [
            "first Name is Vinit and last Name is Gatt Country is India and Mobile Number is 8770976648\n"
          ]
        }
      ],
      "source": [
        "def greet(FirstName,LastName,Country,MobNum):\n",
        "    print(f\"first Name is {FirstName} and last Name is {LastName} Country is {Country} and Mobile Number is {MobNum}\")\n",
        "\n",
        "greet(\"Vinit\",\"Gatt\",\"India\",\"8770976648\")"
      ]
    },
    {
      "cell_type": "markdown",
      "id": "1a5330b3",
      "metadata": {
        "id": "1a5330b3"
      },
      "source": [
        "But if user gave all the details in vice versa like in FirstName they gave \"Gatt\" and in Country they gave \"Vinit\" So to sort this we use Keyword Arguments."
      ]
    },
    {
      "cell_type": "code",
      "execution_count": null,
      "id": "a73b5f1a",
      "metadata": {
        "id": "a73b5f1a",
        "outputId": "689d4a9a-0dac-45c0-cf30-d8ad3ff4cd9a"
      },
      "outputs": [
        {
          "name": "stdout",
          "output_type": "stream",
          "text": [
            "first Name is Vinit and last Name is Gatt Country is India and Mobile Number is 8770976648\n"
          ]
        }
      ],
      "source": [
        "greet(FirstName=\"Vinit\",LastName=\"Gatt\",Country=\"India\",MobNum=\"8770976648\")\n",
        "# With this we can easily understand all the things."
      ]
    },
    {
      "cell_type": "markdown",
      "id": "9fd1539b",
      "metadata": {
        "id": "9fd1539b"
      },
      "source": [
        "Some Important Rules:\n",
        "\n",
        "1. While defining function, default cannot be followed by non-default.\n",
        "\n",
        "2. While calling, positional Argument cannot follow keyword Argument."
      ]
    },
    {
      "cell_type": "markdown",
      "id": "a69fe1f4",
      "metadata": {
        "id": "a69fe1f4"
      },
      "source": [
        "# Variable Length Positional Argument *args"
      ]
    },
    {
      "cell_type": "markdown",
      "id": "8ec7b831",
      "metadata": {
        "id": "8ec7b831"
      },
      "source": [
        "The *args syntax allows a function to accept a variable number of non-keyword (positional) arguments.\n",
        "\n",
        "When *args is used in a function definition, all the additional positional arguments passed to the function are collected into a tuple.\n",
        "\n",
        "The name args is a convention; any valid variable name preceded by a single asterisk (*) can be used."
      ]
    },
    {
      "cell_type": "code",
      "execution_count": null,
      "id": "948ee33c",
      "metadata": {
        "id": "948ee33c"
      },
      "outputs": [],
      "source": [
        "# If we want to sum multiple elements:\n",
        "def sum(a,b):\n",
        "    return a + b\n",
        "def sum(a,b,c=0,d=0):\n",
        "    # Like hundreds of parameters we have so can't do it manually.\n",
        "    return a + b + c"
      ]
    },
    {
      "cell_type": "markdown",
      "id": "90208976",
      "metadata": {
        "id": "90208976"
      },
      "source": [
        "To sort this issue have Variable length Positional Argument."
      ]
    },
    {
      "cell_type": "code",
      "execution_count": null,
      "id": "2eea8021",
      "metadata": {
        "id": "2eea8021",
        "outputId": "3d3b642f-b367-40c7-dfad-e522d1dd7426"
      },
      "outputs": [
        {
          "data": {
            "text/plain": [
              "12"
            ]
          },
          "execution_count": 4,
          "metadata": {},
          "output_type": "execute_result"
        }
      ],
      "source": [
        "sum(5,7)"
      ]
    },
    {
      "cell_type": "code",
      "execution_count": null,
      "id": "e2623d18",
      "metadata": {
        "id": "e2623d18",
        "outputId": "23942343-0dae-455b-b5cb-9de77a6e36b8"
      },
      "outputs": [
        {
          "data": {
            "text/plain": [
              "6"
            ]
          },
          "execution_count": 5,
          "metadata": {},
          "output_type": "execute_result"
        }
      ],
      "source": [
        "sum(1,2,3)"
      ]
    },
    {
      "cell_type": "code",
      "execution_count": null,
      "id": "fd501722",
      "metadata": {
        "id": "fd501722",
        "outputId": "520d8c8f-35d7-47c8-b2fd-d19745612b19"
      },
      "outputs": [
        {
          "data": {
            "text/plain": [
              "22"
            ]
          },
          "execution_count": 6,
          "metadata": {},
          "output_type": "execute_result"
        }
      ],
      "source": [
        "sum(5,8,9,7)"
      ]
    },
    {
      "cell_type": "code",
      "execution_count": null,
      "id": "83b1a3b8",
      "metadata": {
        "id": "83b1a3b8"
      },
      "outputs": [],
      "source": [
        "def sum_better(*args):\n",
        "    sum = 0\n",
        "    for i in args:\n",
        "        sum = sum + i\n",
        "    print(sum)"
      ]
    },
    {
      "cell_type": "markdown",
      "id": "55a78a11",
      "metadata": {
        "id": "55a78a11"
      },
      "source": [
        "Treated like as Tuple (or gave us output in Tuple format)"
      ]
    },
    {
      "cell_type": "code",
      "execution_count": null,
      "id": "6b459662",
      "metadata": {
        "id": "6b459662",
        "outputId": "c9c3cf40-6acb-4697-d128-41ad47ccc992"
      },
      "outputs": [
        {
          "name": "stdout",
          "output_type": "stream",
          "text": [
            "55\n"
          ]
        }
      ],
      "source": [
        "# No matter how many parameters will gave to us we can easily sum all.\n",
        "sum_better(1,2,3,4,5,6,7,8,9,10)"
      ]
    },
    {
      "cell_type": "markdown",
      "id": "9a705a17",
      "metadata": {
        "id": "9a705a17"
      },
      "source": [
        "# Keyword Variable length Argument **Kwargs"
      ]
    },
    {
      "cell_type": "markdown",
      "id": "cefc0343",
      "metadata": {
        "id": "cefc0343"
      },
      "source": [
        "The **kwargs syntax allows a function to accept a variable number of keyword arguments.\n",
        "\n",
        "When **kwargs is used in a function definition, all the additional keyword arguments passed to the function are collected into a dictionary. The keys of the dictionary are the argument names, and the values are their corresponding values.\n",
        "\n",
        "The name kwargs is a convention; any valid variable name preceded by a double asterisk (**) can be used."
      ]
    },
    {
      "cell_type": "code",
      "execution_count": null,
      "id": "f32699fa",
      "metadata": {
        "id": "f32699fa",
        "outputId": "bf3e4b61-8db4-4e98-c459-aaa3d0ab739c"
      },
      "outputs": [
        {
          "name": "stdout",
          "output_type": "stream",
          "text": [
            "{'first': 1, 'second': 2}\n"
          ]
        }
      ],
      "source": [
        "def greet(**kwargs):\n",
        "    print(kwargs)\n",
        "\n",
        "greet(first = 1,second = 2)"
      ]
    },
    {
      "cell_type": "markdown",
      "id": "752e0f4a",
      "metadata": {
        "id": "752e0f4a"
      },
      "source": [
        "Treated like a dictionary (or gave us output in dictionary format)"
      ]
    },
    {
      "cell_type": "code",
      "execution_count": null,
      "id": "1d644e73",
      "metadata": {
        "id": "1d644e73",
        "outputId": "5344cceb-c6a3-4c8f-d9ee-d91a331ac5b5"
      },
      "outputs": [
        {
          "name": "stdout",
          "output_type": "stream",
          "text": [
            "{'name': 'Vinit', 'college': 'AITR', 'Married_status': 'Single'}\n"
          ]
        }
      ],
      "source": [
        "def facebook(**kwargs):\n",
        "    print(kwargs)\n",
        "\n",
        "facebook(name=\"Vinit\",college=\"AITR\",Married_status=\"Single\")\n",
        "# As we can see this gave us the resultant in dictionary format."
      ]
    },
    {
      "cell_type": "markdown",
      "id": "842c2908",
      "metadata": {
        "id": "842c2908"
      },
      "source": [
        "*args and **kwargs both in same code:"
      ]
    },
    {
      "cell_type": "code",
      "execution_count": null,
      "id": "0eb3fe1e",
      "metadata": {
        "id": "0eb3fe1e",
        "outputId": "930eee44-b9af-45b0-af0a-475cb7a818d2"
      },
      "outputs": [
        {
          "name": "stdout",
          "output_type": "stream",
          "text": [
            "(1, 2, 3) {'a': 5, 'b': 6}\n"
          ]
        }
      ],
      "source": [
        "def func(*args,**kwargs):\n",
        "    print(args,kwargs)\n",
        "\n",
        "func(1,2,3,a=5,b=6) # we can't gave c = 4 due to positional argument"
      ]
    },
    {
      "cell_type": "markdown",
      "id": "26206043",
      "metadata": {
        "id": "26206043"
      },
      "source": [
        "def func(*args,**kwargs,new): # This gave us error.\n",
        "\n",
        "def func(*args,**kwargs, **kwargs2) # This gave us error.\n",
        "\n",
        "def func(*args,**kwargs, *args2) # This gave us error.\n",
        "\n",
        "In Python there is called as ambiguity due to that we never use args and kwargs after we used, if we use it gave us error."
      ]
    },
    {
      "cell_type": "code",
      "execution_count": null,
      "id": "7472375b",
      "metadata": {
        "id": "7472375b",
        "outputId": "a79c5bee-9a73-4edb-9cac-de81ae189568"
      },
      "outputs": [
        {
          "name": "stdout",
          "output_type": "stream",
          "text": [
            "(1, 2, 3, 4, 5, 6) {}\n"
          ]
        }
      ],
      "source": [
        "# That must be fine if,\n",
        "def func(*args,**kwargs):\n",
        "    print(args,kwargs)\n",
        "\n",
        "func(1,2,3,4,5,6)\n",
        "# Kwargs will run in the same code but gave us the blank space."
      ]
    },
    {
      "cell_type": "markdown",
      "id": "6591414f",
      "metadata": {
        "id": "6591414f"
      },
      "source": [
        "# Scope of Variable:"
      ]
    },
    {
      "cell_type": "markdown",
      "id": "76365f49",
      "metadata": {
        "id": "76365f49"
      },
      "source": [
        "Local Variable: Variable that defined inside a function and thus only usuable in that function.\n",
        "\n",
        "Global Variable: Variable that not defined in any function and usuable everywhere in the code."
      ]
    },
    {
      "cell_type": "markdown",
      "id": "5d6f7b99",
      "metadata": {
        "id": "5d6f7b99"
      },
      "source": [
        "To explain this Global and Local take an example like:\n",
        "Rule of Govt for driving: Above 18 you can drive\n",
        "but below than 18 not permit to drive vehicles.\n",
        "And applicable in all over india.\n",
        "\n",
        "And if suppose there is a rule to not speeding your vehicle above than 30 MPH in Market Area.\n",
        "So not applicable for the whole nation but in local."
      ]
    },
    {
      "cell_type": "code",
      "execution_count": null,
      "id": "271ff634",
      "metadata": {
        "id": "271ff634",
        "outputId": "2dc8596a-884d-458f-ca06-ba7cb469c595"
      },
      "outputs": [
        {
          "name": "stdout",
          "output_type": "stream",
          "text": [
            "a: 10 b: 5\n",
            "a from Global scope: 10\n"
          ]
        }
      ],
      "source": [
        "a = 10\n",
        "def func():\n",
        "    b = 5\n",
        "    print(\"a:\",a,\"b:\",b) # but in local scope it runs properly and gave output\n",
        "\n",
        "func()\n",
        "print(\"a from Global scope:\",a)\n",
        "# print(b)  if b were call here it gave us error,"
      ]
    },
    {
      "cell_type": "markdown",
      "id": "ee796cba",
      "metadata": {
        "id": "ee796cba"
      },
      "source": [
        "If b will call to print in the Global scope but defined in local scope, seems gave us error. like: b is not defined."
      ]
    },
    {
      "cell_type": "code",
      "execution_count": null,
      "id": "3cb24034",
      "metadata": {
        "id": "3cb24034",
        "outputId": "1d9cb7d3-8ac2-4f76-fec5-784df991ccd7"
      },
      "outputs": [
        {
          "name": "stdout",
          "output_type": "stream",
          "text": [
            "Hello 5\n",
            "10 5\n",
            "10\n"
          ]
        }
      ],
      "source": [
        "a = 10\n",
        "def greet(name):\n",
        "    print(\"Hello\",name)\n",
        "\n",
        "def func():\n",
        "    b = 5\n",
        "    greet(b)\n",
        "    print(a,b)\n",
        "\n",
        "func()\n",
        "print(a)"
      ]
    },
    {
      "cell_type": "markdown",
      "id": "730d1223",
      "metadata": {
        "id": "730d1223"
      },
      "source": [
        "So in this program greet function is in global scope so it can be calling on whole program."
      ]
    },
    {
      "cell_type": "code",
      "execution_count": null,
      "id": "90e5b2cf",
      "metadata": {
        "id": "90e5b2cf",
        "outputId": "6bcc0d53-f51d-4452-823e-fd9098b5805a"
      },
      "outputs": [
        {
          "name": "stdout",
          "output_type": "stream",
          "text": [
            "Local Scope a: 5\n",
            "Global Scope a: 10\n"
          ]
        }
      ],
      "source": [
        "a = 10\n",
        "def greet(name):\n",
        "    print(\"Hello\",name)\n",
        "\n",
        "def func():\n",
        "    a = 5\n",
        "    print(\"Local Scope a:\",a)\n",
        "\n",
        "func()\n",
        "print(\"Global Scope a:\",a)"
      ]
    },
    {
      "cell_type": "code",
      "execution_count": null,
      "id": "eadbfe6a",
      "metadata": {
        "id": "eadbfe6a",
        "outputId": "6a8077b4-3fe5-4530-e525-a527bfb2b189"
      },
      "outputs": [
        {
          "name": "stdout",
          "output_type": "stream",
          "text": [
            "a from local scope: 5\n",
            "c from local scope: 10\n",
            "a from Global scope: 5\n"
          ]
        }
      ],
      "source": [
        "a = 5\n",
        "def g():\n",
        "    c = 10\n",
        "    print(\"a from local scope:\",a)\n",
        "    print(\"c from local scope:\",c) # c defines in local scope\n",
        "\n",
        "g()\n",
        "print(\"a from Global scope:\",a) # call it from global scope gaves error.\n"
      ]
    },
    {
      "cell_type": "markdown",
      "id": "66667519",
      "metadata": {
        "id": "66667519"
      },
      "source": [
        "How to change the Global scope variable from local scope."
      ]
    },
    {
      "cell_type": "code",
      "execution_count": null,
      "id": "57132841",
      "metadata": {
        "id": "57132841",
        "outputId": "55aee5ee-b61f-401c-ba3d-ae1a5089825f"
      },
      "outputs": [
        {
          "name": "stdout",
          "output_type": "stream",
          "text": [
            "Local Scope: Hello Python\n",
            "Global Scope: Hello Python\n"
          ]
        }
      ],
      "source": [
        "name = \"Hello DSA\"\n",
        "\n",
        "def outputCourseName():\n",
        "    global name # With this Global syntax\n",
        "    name = \"Hello Python\"\n",
        "    print(\"Local Scope:\",name)\n",
        "\n",
        "outputCourseName()\n",
        "print(\"Global Scope:\",name)"
      ]
    },
    {
      "cell_type": "markdown",
      "id": "4b9b23f2",
      "metadata": {
        "id": "4b9b23f2"
      },
      "source": [
        "# First Class Functions:"
      ]
    },
    {
      "cell_type": "markdown",
      "id": "0995ba24",
      "metadata": {
        "id": "0995ba24"
      },
      "source": [
        "In Python, functions are first class objects means they can assigned to variables, passed an arguments and returned from other functions."
      ]
    },
    {
      "cell_type": "markdown",
      "id": "92f7ffca",
      "metadata": {
        "id": "92f7ffca"
      },
      "source": [
        "Functions in Python are first class citizen:\n",
        "1. Can be stored in a Variable.\n",
        "2. can be stored in other data structure.\n",
        "3. are an object type()\n",
        "4. can be passed as an argument to a function\n",
        "5. return function from another function."
      ]
    },
    {
      "cell_type": "code",
      "execution_count": null,
      "id": "535c87a5",
      "metadata": {
        "id": "535c87a5"
      },
      "outputs": [],
      "source": [
        "# 1. Function can be stored in Variable.\n",
        "\n",
        "def sum(a,b):\n",
        "    return a+b"
      ]
    },
    {
      "cell_type": "code",
      "execution_count": null,
      "id": "74e394d5",
      "metadata": {
        "id": "74e394d5"
      },
      "outputs": [],
      "source": [
        "func = sum # Create a new variable named as func."
      ]
    },
    {
      "cell_type": "code",
      "execution_count": null,
      "id": "74899cac",
      "metadata": {
        "id": "74899cac",
        "outputId": "8e9b685f-ad37-4762-acc8-34aa68e8567e"
      },
      "outputs": [
        {
          "data": {
            "text/plain": [
              "<function __main__.sum(a, b)>"
            ]
          },
          "execution_count": 40,
          "metadata": {},
          "output_type": "execute_result"
        }
      ],
      "source": [
        "func # check the func"
      ]
    },
    {
      "cell_type": "code",
      "execution_count": null,
      "id": "dcb1aed0",
      "metadata": {
        "id": "dcb1aed0",
        "outputId": "2f155ec2-4521-4e71-fe97-3aae0a3be421"
      },
      "outputs": [
        {
          "data": {
            "text/plain": [
              "4"
            ]
          },
          "execution_count": 28,
          "metadata": {},
          "output_type": "execute_result"
        }
      ],
      "source": [
        "func(1,3) # func is also acts like sum function.\n",
        "print(type(func))"
      ]
    },
    {
      "cell_type": "code",
      "execution_count": null,
      "id": "0586e6c9",
      "metadata": {
        "id": "0586e6c9",
        "outputId": "85a6ded7-1067-4d3d-bb19-6ccb0055ee17"
      },
      "outputs": [
        {
          "name": "stdout",
          "output_type": "stream",
          "text": [
            "Func: <class 'function'>\n",
            "Sum: <class 'function'>\n"
          ]
        }
      ],
      "source": [
        "# here we have see that func and sum both are function.\n",
        "print(\"Func:\",type(func))\n",
        "print(\"Sum:\",type(sum))"
      ]
    },
    {
      "cell_type": "code",
      "execution_count": null,
      "id": "b203df2c",
      "metadata": {
        "id": "b203df2c",
        "outputId": "e45d12d9-56f9-47d8-f489-5f34430ccdfb"
      },
      "outputs": [
        {
          "name": "stdout",
          "output_type": "stream",
          "text": [
            "[1, 2, 3, 4, <function sum at 0x000001E46247C2C0>]\n"
          ]
        }
      ],
      "source": [
        "#2. Functions can be stored in other data structures.\n",
        "l1 = [1,2,3,4]\n",
        "l1.append(sum) # we have store a function in data type list.\n",
        "print(l1)"
      ]
    },
    {
      "cell_type": "code",
      "execution_count": null,
      "id": "9da4025d",
      "metadata": {
        "id": "9da4025d",
        "outputId": "43e7d3c9-340b-4d05-e4b4-43a247574866"
      },
      "outputs": [
        {
          "data": {
            "text/plain": [
              "8"
            ]
          },
          "execution_count": 41,
          "metadata": {},
          "output_type": "execute_result"
        }
      ],
      "source": [
        "l1[4] (5,3) # In list 4th index is sum(function)\n",
        "# when we gave two elements to that we received an output. 5+3=8"
      ]
    },
    {
      "cell_type": "code",
      "execution_count": null,
      "id": "8ba1d31e",
      "metadata": {
        "id": "8ba1d31e",
        "outputId": "e686ac1a-99cc-4204-ec45-9517e8623a73"
      },
      "outputs": [
        {
          "name": "stdout",
          "output_type": "stream",
          "text": [
            "<class 'int'>\n"
          ]
        }
      ],
      "source": [
        "# 3. Functions are an object:\n",
        "print(type(5)) # 5 is an object of Type(integer)"
      ]
    },
    {
      "cell_type": "code",
      "execution_count": null,
      "id": "f6f02e70",
      "metadata": {
        "id": "f6f02e70",
        "outputId": "de56df2a-97ea-4791-c397-1b7a1ee4eb9b"
      },
      "outputs": [
        {
          "name": "stdout",
          "output_type": "stream",
          "text": [
            "<class 'function'>\n"
          ]
        }
      ],
      "source": [
        "print(type(sum)) # sum is an object of Type(function)"
      ]
    },
    {
      "cell_type": "markdown",
      "id": "ad5f66d5",
      "metadata": {
        "id": "ad5f66d5"
      },
      "source": [
        "# High Order Functions:"
      ]
    },
    {
      "cell_type": "markdown",
      "id": "5b983a3c",
      "metadata": {
        "id": "5b983a3c"
      },
      "source": [
        "A higher-order function is a function that either accepts another function as an argument or returns a function as its result."
      ]
    },
    {
      "cell_type": "code",
      "execution_count": null,
      "id": "c209b36d",
      "metadata": {
        "id": "c209b36d",
        "outputId": "90339416-6ac1-468f-96a6-92a75b30ac89"
      },
      "outputs": [
        {
          "name": "stdout",
          "output_type": "stream",
          "text": [
            "11.5\n"
          ]
        }
      ],
      "source": [
        "# 4. can be passed as an argument to a function.\n",
        "def sum(a,b):\n",
        "    print(a+b)\n",
        "\n",
        "sum(9,2.5)"
      ]
    },
    {
      "cell_type": "code",
      "execution_count": null,
      "id": "d99c998c",
      "metadata": {
        "id": "d99c998c"
      },
      "outputs": [],
      "source": [
        "def squareofNum(x):\n",
        "    return x*x"
      ]
    },
    {
      "cell_type": "code",
      "execution_count": null,
      "id": "ca15188f",
      "metadata": {
        "id": "ca15188f"
      },
      "outputs": [],
      "source": [
        "def cubeofNum(x):\n",
        "    return x**3"
      ]
    },
    {
      "cell_type": "code",
      "execution_count": null,
      "id": "adb68753",
      "metadata": {
        "id": "adb68753"
      },
      "outputs": [],
      "source": [
        "def squarerootofNum(x):\n",
        "    return x**0.5"
      ]
    },
    {
      "cell_type": "code",
      "execution_count": null,
      "id": "0f6701e9",
      "metadata": {
        "id": "0f6701e9",
        "outputId": "1b559c07-485f-48ae-bd61-9a03ca5815c5"
      },
      "outputs": [
        {
          "data": {
            "text/plain": [
              "[1, 8, 27, 64, 125]"
            ]
          },
          "execution_count": 61,
          "metadata": {},
          "output_type": "execute_result"
        }
      ],
      "source": [
        "def squareofList(l1,function_Which_you_want_to_apply):\n",
        "    l1squared=[]\n",
        "    for i in l1:\n",
        "        l1squared.append(function_Which_you_want_to_apply(i))\n",
        "    return l1squared\n",
        "\n",
        "squareofList([1,2,3,4,5],cubeofNum)"
      ]
    },
    {
      "cell_type": "code",
      "execution_count": null,
      "id": "3e25d2dc",
      "metadata": {
        "id": "3e25d2dc"
      },
      "outputs": [],
      "source": [
        "#5. Return function from another function:\n",
        "def greet(name):\n",
        "    return f\"Namaste {name}\""
      ]
    },
    {
      "cell_type": "code",
      "execution_count": null,
      "id": "2790f917",
      "metadata": {
        "id": "2790f917"
      },
      "outputs": [],
      "source": [
        "def hello():\n",
        "    return greet(\"Vinit\")\n",
        "\n",
        "hello() # when we call hello function then it return us \"Namaste\"\n",
        "# with name \"Vinit\"\n",
        "# Output as: \"Namaste Vinit\""
      ]
    },
    {
      "cell_type": "code",
      "execution_count": null,
      "id": "b280e7d2",
      "metadata": {
        "id": "b280e7d2",
        "outputId": "4e8394b7-45e2-46e8-ee51-2a5b78f81732"
      },
      "outputs": [
        {
          "name": "stdout",
          "output_type": "stream",
          "text": [
            "10\n",
            "15\n"
          ]
        }
      ],
      "source": [
        "# higher order function returing a function\n",
        "def fun(n):\n",
        "    return lambda x: x * n # logic\n",
        "\n",
        "# creating mutiliplier functions\n",
        "double = fun(2) # n = 2\n",
        "triple = fun(3) # n = 3\n",
        "\n",
        "print(double(5))  # 5 * 2 = 10\n",
        "print(triple(5)) # 5 * 3 = 15"
      ]
    },
    {
      "cell_type": "markdown",
      "id": "e92470d6",
      "metadata": {
        "id": "e92470d6"
      },
      "source": [
        "# Lambda Functions"
      ]
    },
    {
      "cell_type": "markdown",
      "id": "26ca1d04",
      "metadata": {
        "id": "26ca1d04"
      },
      "source": [
        "A lambda function in Python is a small, anonymous function defined using the lambda keyword. Unlike a standard function defined with def, a lambda function does not have a name and is typically used for short, single-expression operations."
      ]
    },
    {
      "cell_type": "markdown",
      "id": "7026fc99",
      "metadata": {
        "id": "7026fc99"
      },
      "source": [
        "Syntax:- lambda arguments : expression\n",
        "\n",
        "lambda a,b : expression"
      ]
    },
    {
      "cell_type": "markdown",
      "id": "a9d0bc6d",
      "metadata": {
        "id": "a9d0bc6d"
      },
      "source": [
        "Explanation:\n",
        "\n",
        "lambda: This keyword is used to declare an anonymous function.\n",
        "\n",
        "arguments: These are the input parameters for the lambda function, separated by commas if there are multiple.\n",
        "\n",
        ":: This colon separates the arguments from the expression.\n",
        "\n",
        "expression: This is a single expression that the lambda function evaluates and returns. It cannot contain multiple statements or complex logic like loops or conditional blocks (beyond a single conditional expression)."
      ]
    },
    {
      "cell_type": "markdown",
      "id": "d348213e",
      "metadata": {
        "id": "d348213e"
      },
      "source": [
        "Generally used to pass an argument in higher order functions."
      ]
    },
    {
      "cell_type": "code",
      "execution_count": null,
      "id": "25179e0b",
      "metadata": {
        "id": "25179e0b"
      },
      "outputs": [],
      "source": [
        "# Normal function or regular function:\n",
        "def square(x):\n",
        "    return x*x"
      ]
    },
    {
      "cell_type": "code",
      "execution_count": null,
      "id": "f50b4bff",
      "metadata": {
        "id": "f50b4bff",
        "outputId": "3e06c425-e439-49c4-b84e-0aad6dcebe59"
      },
      "outputs": [
        {
          "data": {
            "text/plain": [
              "25"
            ]
          },
          "execution_count": 95,
          "metadata": {},
          "output_type": "execute_result"
        }
      ],
      "source": [
        "# Lambda function:\n",
        "sqlambda = lambda x: x*x # single line function.\n",
        "sqlambda(5)"
      ]
    },
    {
      "cell_type": "code",
      "execution_count": null,
      "id": "b9a2c5e7",
      "metadata": {
        "id": "b9a2c5e7",
        "outputId": "406901f7-9bfc-460a-996f-22e11064f3d9"
      },
      "outputs": [
        {
          "data": {
            "text/plain": [
              "[1, 4, 9, 16, 25]"
            ]
          },
          "execution_count": 96,
          "metadata": {},
          "output_type": "execute_result"
        }
      ],
      "source": [
        "ApplyOnlist([1,2,3,4,5],lambda x : x * x) # square of elements of list"
      ]
    },
    {
      "cell_type": "code",
      "execution_count": null,
      "id": "f5ee389d",
      "metadata": {
        "id": "f5ee389d",
        "outputId": "2224f1d6-7d2a-47e4-a3b8-a8e9736aece1"
      },
      "outputs": [
        {
          "data": {
            "text/plain": [
              "[1, 8, 27, 64, 125]"
            ]
          },
          "execution_count": 97,
          "metadata": {},
          "output_type": "execute_result"
        }
      ],
      "source": [
        "ApplyOnlist([1,2,3,4,5],lambda x : x * x * x) # cube of elements of list"
      ]
    },
    {
      "cell_type": "code",
      "execution_count": null,
      "id": "013c4e45",
      "metadata": {
        "id": "013c4e45",
        "outputId": "b0601de6-4d6f-43ed-e99c-61e90599c43a"
      },
      "outputs": [
        {
          "data": {
            "text/plain": [
              "[1.0, 1.4142135623730951, 1.7320508075688772, 2.0, 2.23606797749979]"
            ]
          },
          "execution_count": 98,
          "metadata": {},
          "output_type": "execute_result"
        }
      ],
      "source": [
        "ApplyOnlist([1,2,3,4,5],lambda x : x ** 0.5) # square root of element of list."
      ]
    },
    {
      "cell_type": "code",
      "execution_count": null,
      "id": "e95af9f9",
      "metadata": {
        "id": "e95af9f9"
      },
      "outputs": [],
      "source": [
        "# Sum of a + b,\n",
        "def sum(a,b):\n",
        "    return a + b"
      ]
    },
    {
      "cell_type": "code",
      "execution_count": null,
      "id": "f1080381",
      "metadata": {
        "id": "f1080381",
        "outputId": "e8d9cae3-8ad0-4324-9a2f-05178cf6b36e"
      },
      "outputs": [
        {
          "data": {
            "text/plain": [
              "8"
            ]
          },
          "execution_count": 103,
          "metadata": {},
          "output_type": "execute_result"
        }
      ],
      "source": [
        "sumlambda = lambda a,b : (a+b)\n",
        "sumlambda(3,5)"
      ]
    },
    {
      "cell_type": "markdown",
      "id": "ec4f12f0",
      "metadata": {
        "id": "ec4f12f0"
      },
      "source": [
        "No indentation to worry about\n",
        "\n",
        "really helpful for minimal use case where we might not want to define full function."
      ]
    },
    {
      "cell_type": "markdown",
      "id": "a4c2b3d9",
      "metadata": {
        "id": "a4c2b3d9"
      },
      "source": []
    }
  ],
  "metadata": {
    "kernelspec": {
      "display_name": "Python 3",
      "language": "python",
      "name": "python3"
    },
    "language_info": {
      "codemirror_mode": {
        "name": "ipython",
        "version": 3
      },
      "file_extension": ".py",
      "mimetype": "text/x-python",
      "name": "python",
      "nbconvert_exporter": "python",
      "pygments_lexer": "ipython3",
      "version": "3.11.9"
    },
    "colab": {
      "provenance": [],
      "include_colab_link": true
    }
  },
  "nbformat": 4,
  "nbformat_minor": 5
}