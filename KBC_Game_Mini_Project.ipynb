{
  "nbformat": 4,
  "nbformat_minor": 0,
  "metadata": {
    "colab": {
      "provenance": [],
      "authorship_tag": "ABX9TyOYU12UxUpJ1JbrU3m2TM4K",
      "include_colab_link": true
    },
    "kernelspec": {
      "name": "python3",
      "display_name": "Python 3"
    },
    "language_info": {
      "name": "python"
    }
  },
  "cells": [
    {
      "cell_type": "markdown",
      "metadata": {
        "id": "view-in-github",
        "colab_type": "text"
      },
      "source": [
        "<a href=\"https://colab.research.google.com/github/Vinit5298/Python/blob/main/KBC_Game_Mini_Project.ipynb\" target=\"_parent\"><img src=\"https://colab.research.google.com/assets/colab-badge.svg\" alt=\"Open In Colab\"/></a>"
      ]
    },
    {
      "cell_type": "code",
      "source": [
        "questionBank=[ {\"Question\":\"What is the national animal of india?\",\n",
        "              \"option\":[\"A. Peacock\",  \"B. Lion\", \"C. Tiger\", \"D. Dog\"],\n",
        "              \"Ans\":\"C\",\n",
        "              },\n",
        "              {\"Question\":\"Who is the father of nation?\",\n",
        "              \"option\":[\"A. Rabindra Nath Tagore\",  \"B. Mahatma Gandhi\",\n",
        "                        \"C. Sharukh Khan\", \"D. Salman Khan\"],\n",
        "              \"Ans\":\"B\",\n",
        "              },\n",
        "              {\"Question\":\"Who is the national bird of india?\",\n",
        "              \"option\":[\"A. Peacock\",  \"B. Pigeon\",\n",
        "                        \"C. Parrot\", \"D. Eagle\"],\n",
        "              \"Ans\":\"A\",\n",
        "              },\n",
        "              {\"Question\":\"Who is the national fruit of india?\",\n",
        "              \"option\":[\"A. Apple\",  \"B. Banana\",\n",
        "                        \"C. Orange\", \"D. Mango\"],\n",
        "              \"Ans\":\"D\",\n",
        "              },\n",
        "              {\"Question\":\"Who is the national Sports of india?\",\n",
        "              \"option\":[\"A. Cricket\",  \"B. Kabaddi\",\n",
        "                        \"C. Hockey\", \"D. Football\"],\n",
        "              \"Ans\":\"C\",\n",
        "              },\n",
        "              {\"Question\":\"Which city is Cleanest City of india?\",\n",
        "              \"option\":[\"A. Indore\",  \"B. Mumbai\",\n",
        "                        \"C. Bangalore\", \"D. Delhi\"],\n",
        "              \"Ans\":\"A\",\n",
        "              },\n",
        "              {\"Question\":\"Which city is known as Pink City of india?\",\n",
        "              \"option\":[\"A. Chittaurgarh\",  \"B. Jaipur\",\n",
        "                        \"C. Udaipur\", \"D. Jodhpur\"],\n",
        "              \"Ans\":\"B\",\n",
        "              },\n",
        "              {\"Question\":\"In which year India gets independence from British Govt?\",\n",
        "              \"option\":[\"A. 1948\",  \"B. 1946\",\n",
        "                        \"C. 1951\", \"D. 1947\"],\n",
        "              \"Ans\":\"D\",\n",
        "              },\n",
        "              {\"Question\":\"On which date, Indians Celebrate Republic Day?\",\n",
        "              \"option\":[\"A. 26th January\",  \"B. 15th August\",\n",
        "                        \"C. 15th January\", \"D. 26th August\"],\n",
        "              \"Ans\":\"A\",\n",
        "              },\n",
        "              {\"Question\":\"Which of the Indian King, Fought the Haldighati War against Maan Singh and Akbar?\",\n",
        "              \"option\":[\"A. Chhatrapati Shivaji Maharaj\",  \"B. Maharana Sangram Singh\",\n",
        "                        \"C. Maharan Pratap Ji\", \"D. Prathavi Raj Chauhan Ji\"],\n",
        "              \"Ans\":\"C\",\n",
        "              },\n",
        "      ]\n",
        "\n",
        "print('Welcome to Kaun Banega Crorepati')\n",
        "total_winning=0\n",
        "prizeMoney=[1000, 2500, 5000, 10000, 50000, 350000, 640000, 1250000, 2500000, 5000000, 10000000]\n",
        "for i,q in enumerate(questionBank):\n",
        "  print(f\"\\n The {i+1} question for money {prizeMoney[i]} is in front of you \\n\")\n",
        "  print(q[\"Question\"])\n",
        "  for option in q[\"option\"]:\n",
        "    print(option)\n",
        "\n",
        "  user_input=input(\"Choose any 1 option A , B, C, D: or Press Q for Quit \")\n",
        "  user_input = user_input.upper()\n",
        "  if(user_input==\"Q\"):\n",
        "    print(f\"Thank you for game and you won {total_winning}\")\n",
        "    break\n",
        "  if(user_input == q[\"Ans\"]):\n",
        "    total_winning+=prizeMoney[i]\n",
        "    print(f\"\\n Excellent! You are Winning.. {total_winning}\")\n",
        "\n",
        "  else:\n",
        "    print(\"Uff, your Answer is wrong, GAME OVER!!\")\n",
        "    total_winning=0\n",
        "    break"
      ],
      "metadata": {
        "colab": {
          "base_uri": "https://localhost:8080/"
        },
        "id": "FmmZdC7JLwVn",
        "outputId": "3628a6c4-de2b-471e-975d-451c4f048c6d"
      },
      "execution_count": 2,
      "outputs": [
        {
          "output_type": "stream",
          "name": "stdout",
          "text": [
            "Welcome to Kaun Banega Crorepati\n",
            "\n",
            " The 1 question for money 1000 is in front of you \n",
            "\n",
            "What is the national animal of india?\n",
            "A. Peacock\n",
            "B. Lion\n",
            "C. Tiger\n",
            "D. Dog\n",
            "Choose any 1 option A , B, C, D: or Press Q for Quit Q\n",
            "Thank you for game and you won 0\n"
          ]
        }
      ]
    },
    {
      "cell_type": "code",
      "source": [],
      "metadata": {
        "id": "zwcA8fUVMEff"
      },
      "execution_count": null,
      "outputs": []
    }
  ]
}