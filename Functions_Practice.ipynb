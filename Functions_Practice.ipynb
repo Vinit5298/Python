{
  "nbformat": 4,
  "nbformat_minor": 0,
  "metadata": {
    "colab": {
      "provenance": [],
      "authorship_tag": "ABX9TyPE3BgoCK456i7NGViWLBEa",
      "include_colab_link": true
    },
    "kernelspec": {
      "name": "python3",
      "display_name": "Python 3"
    },
    "language_info": {
      "name": "python"
    }
  },
  "cells": [
    {
      "cell_type": "markdown",
      "metadata": {
        "id": "view-in-github",
        "colab_type": "text"
      },
      "source": [
        "<a href=\"https://colab.research.google.com/github/Vinit5298/Python/blob/main/Functions_Practice.ipynb\" target=\"_parent\"><img src=\"https://colab.research.google.com/assets/colab-badge.svg\" alt=\"Open In Colab\"/></a>"
      ]
    },
    {
      "cell_type": "code",
      "source": [
        "# Functions: are a block of code which we repeatatively used to execute\n",
        "# our tasks.\n",
        "# Due to functions there is code readable, code reusuality\n",
        "\n",
        "# Definition of functions in Python: reusable blocks of code designed to\n",
        "# perform a specific task. They serve to organize code, improve readability,\n",
        "# reduce redundancy, and facilitate modularity within a program."
      ],
      "metadata": {
        "id": "c7W_lkdY3hNq"
      },
      "execution_count": null,
      "outputs": []
    },
    {
      "cell_type": "code",
      "source": [
        "# Types of Functions:\n",
        "# 1. User defined Functions\n",
        "# 2. Inbuilt Functions (Pre-defined Functions)\n",
        "\n",
        "# 1. User Defined Functions: The functions which user created as per\n",
        "# their task or their requirement.\n",
        "# 2. In-built Functions (Pre-defined Function): The functions which are\n",
        "# already defined in python. like an example:\n",
        "# In list: append, insert, popen\n",
        "# In set: union, Is_superset\n",
        "# In tuple: Count, Index."
      ],
      "metadata": {
        "id": "Uhhlff2FNtIi"
      },
      "execution_count": null,
      "outputs": []
    },
    {
      "cell_type": "code",
      "source": [
        "# How to created a functions in other languages:\n",
        "# int void() { --> Data type\n",
        "#     // Logic --> Statements\n",
        "# }\n",
        "\n",
        "# But python is dynamic, Interpreted language, hence we didn't\n",
        "# tell the data type when creating of function:\n",
        "\n",
        "# def func():\n",
        "#   //logic"
      ],
      "metadata": {
        "id": "toty3I8rPGF2"
      },
      "execution_count": null,
      "outputs": []
    },
    {
      "cell_type": "code",
      "source": [
        "def greeting():\n",
        "  print(\"Hey, user I welcomed you onboard.\")"
      ],
      "metadata": {
        "id": "8cII9ww0P1pR"
      },
      "execution_count": null,
      "outputs": []
    },
    {
      "cell_type": "code",
      "source": [
        "greeting() # For first user\n",
        "greeting() # For second user"
      ],
      "metadata": {
        "colab": {
          "base_uri": "https://localhost:8080/"
        },
        "id": "XhZlkR_4P8oV",
        "outputId": "afc5e8de-f767-4fad-c42c-ce000e0399ab"
      },
      "execution_count": null,
      "outputs": [
        {
          "output_type": "stream",
          "name": "stdout",
          "text": [
            "Hey, user I welcomed you onboard.\n",
            "Hey, user I welcomed you onboard.\n"
          ]
        }
      ]
    },
    {
      "cell_type": "code",
      "source": [
        "# Differentiate between loops and functions:\n",
        "\n",
        "# Loops are used for repetition. They execute a block of code multiple\n",
        "# times based on a condition or for a specified number of iterations.\n",
        "\n",
        "# Functions are used for encapsulation and reusability. They group a set of\n",
        "# related instructions into a named block of code that can be called and\n",
        "# executed from different parts of a program."
      ],
      "metadata": {
        "id": "FBieGhLyQAnV"
      },
      "execution_count": null,
      "outputs": []
    },
    {
      "cell_type": "code",
      "source": [
        "# Functions: Arguments and Parameters:\n",
        "def greeting(z): # --> here z is parameter, formal parameter, Informal Argument.\n",
        "  print(\"Hey user\",z,\"I welcomed you onboard.\")"
      ],
      "metadata": {
        "id": "vvabYR2UR7lF"
      },
      "execution_count": null,
      "outputs": []
    },
    {
      "cell_type": "code",
      "source": [
        "# But when we call the functions(greeting), if we don't give the arguments,\n",
        "# it will show error.\n",
        "\n",
        "greeting(\"Vinit\") # --> This is :\"argument\".\n",
        "greeting(\"Sunil\") # --> This is :\"argument\".\n",
        "# greeting() # --> functions call with no argument.\n",
        "\n",
        "# As we saw below the upper two greeting were run but the third greeting\n",
        "# will be giving error. because we didn't gave the argument.\n",
        "\n",
        "# TypeError: greeting() missing 1 required positional argument: 'z'"
      ],
      "metadata": {
        "colab": {
          "base_uri": "https://localhost:8080/"
        },
        "id": "OM8brheHSZYS",
        "outputId": "b4bd0104-c9a6-467b-e5b6-8dcf92cf9468"
      },
      "execution_count": null,
      "outputs": [
        {
          "output_type": "stream",
          "name": "stdout",
          "text": [
            "Hey user Vinit I welcomed you onboard.\n",
            "Hey user Sunil I welcomed you onboard.\n"
          ]
        }
      ]
    },
    {
      "cell_type": "code",
      "source": [
        "# Factor of a Number: This is normal method to get the\n",
        "# factors of any number.\n",
        "\n",
        "n = int(input(\"Enter a Number: \"))\n",
        "for i in range(1,n+1):\n",
        "  if n%i == 0:\n",
        "    print(f\"Factor of {n}:\",i)"
      ],
      "metadata": {
        "colab": {
          "base_uri": "https://localhost:8080/"
        },
        "id": "bZMTfyNET0-V",
        "outputId": "6af78896-2303-48bc-e4e9-8ab7957c7335"
      },
      "execution_count": null,
      "outputs": [
        {
          "output_type": "stream",
          "name": "stdout",
          "text": [
            "Enter a Number: 12\n",
            "Factor of 12: 1\n",
            "Factor of 12: 2\n",
            "Factor of 12: 3\n",
            "Factor of 12: 4\n",
            "Factor of 12: 6\n",
            "Factor of 12: 12\n"
          ]
        }
      ]
    },
    {
      "cell_type": "code",
      "source": [
        "# Now same with the functions:\n",
        "\n",
        "def factor(n):\n",
        "  for i in range(1,n+1):\n",
        "    if n%i == 0:\n",
        "      print(f\"Factor of {n}:\",i)"
      ],
      "metadata": {
        "id": "z2RmbF83aj5q"
      },
      "execution_count": null,
      "outputs": []
    },
    {
      "cell_type": "code",
      "source": [
        "factor(15)\n",
        "# If we gave the float value:\n",
        "# TypeError: 'float' object cannot be interpreted as an integer"
      ],
      "metadata": {
        "colab": {
          "base_uri": "https://localhost:8080/"
        },
        "id": "4l-0_iMCcQvZ",
        "outputId": "f1253750-90e2-46ec-9d68-24a34a66daad"
      },
      "execution_count": null,
      "outputs": [
        {
          "output_type": "stream",
          "name": "stdout",
          "text": [
            "Factor of 15: 1\n",
            "Factor of 15: 3\n",
            "Factor of 15: 5\n",
            "Factor of 15: 15\n"
          ]
        }
      ]
    },
    {
      "cell_type": "code",
      "source": [
        "def Armstrong(n):\n",
        "  Original = n\n",
        "  count = 0\n",
        "  sum = 0\n",
        "  temp = n\n",
        "\n",
        "  while temp > 0:\n",
        "      temp = temp // 10\n",
        "      count = count + 1\n",
        "  for i in range(count):\n",
        "      digit = n % 10\n",
        "      sum = sum + (digit ** count)\n",
        "      n = n // 10\n",
        "  if sum == Original:\n",
        "      print(Original, \"is an Armstrong number\")\n",
        "  else:\n",
        "      print(Original, \"is not an Armstrong number\")"
      ],
      "metadata": {
        "id": "1mk4FZDCcS1Y"
      },
      "execution_count": null,
      "outputs": []
    },
    {
      "cell_type": "code",
      "source": [
        "Armstrong(153)"
      ],
      "metadata": {
        "colab": {
          "base_uri": "https://localhost:8080/"
        },
        "id": "_pjIVAnGeQNt",
        "outputId": "0694f9ae-a1f1-4dc7-8f23-04f10a384c2b"
      },
      "execution_count": null,
      "outputs": [
        {
          "output_type": "stream",
          "name": "stdout",
          "text": [
            "153 is an Armstrong number\n"
          ]
        }
      ]
    },
    {
      "cell_type": "code",
      "source": [
        "# In Functions: Type of Argument Passing (value pass)\n",
        "\n",
        "def func(Id,name,salary):\n",
        "  print(f\"Id is {Id} name is {name}, salary is {salary}\")"
      ],
      "metadata": {
        "id": "y68x0q_zeTTO"
      },
      "execution_count": null,
      "outputs": []
    },
    {
      "cell_type": "code",
      "source": [
        "# 1. func() # Required Argument\n",
        "# Required Argument: In this when we call an functions and didn't gave the\n",
        "# argument correspondence to the parameters then its gave us a error.\n",
        "\n",
        "# Because we need an argument and this is called as Required Argument.\n",
        "# TypeError: func() missing 3 required positional arguments: 'Id', 'name', and 'salary'\n",
        "\n",
        "func(5298,\"sunil\",15000) # This may be in the correct sequence.\n",
        "func(8597,salary=25000,name=\"Vinit\")\n",
        "\n",
        "# If we gave unnecessary extra values when call the function.\n",
        "# func(5298,8597,\"Vinit\",\"Shubham\",15000,20000)\n",
        "# This gave us error:\n",
        "# TypeError: func() takes 3 positional arguments but 6 were given"
      ],
      "metadata": {
        "colab": {
          "base_uri": "https://localhost:8080/"
        },
        "id": "dB5hdh6-fIaj",
        "outputId": "fea6c3a2-8606-4501-af10-26a843ae7f59"
      },
      "execution_count": null,
      "outputs": [
        {
          "output_type": "stream",
          "name": "stdout",
          "text": [
            "Id is 5298 name is sunil, salary is 15000\n",
            "Id is 8597 name is Vinit, salary is 25000\n"
          ]
        }
      ]
    },
    {
      "cell_type": "code",
      "source": [
        "# 2. Positions Argument: Positions of Arguments means alot here.\n",
        "\n",
        "func(1234,\"vinit\",30000) # This is the correct positioning.\n",
        "# but if we change the positions of arguments.\n",
        "func(\"vinit\",30000,1234)\n",
        "# Output: Id is vinit name is 30000, salary is 1234 --> see This\n",
        "# Id is vinit name is 30000 salary is 1234"
      ],
      "metadata": {
        "colab": {
          "base_uri": "https://localhost:8080/"
        },
        "id": "edYwPSLXfaux",
        "outputId": "e3b51346-ddc8-4df3-8996-c9ee9c76ad1c"
      },
      "execution_count": null,
      "outputs": [
        {
          "output_type": "stream",
          "name": "stdout",
          "text": [
            "Id is 1234 name is vinit, salary is 30000\n",
            "Id is vinit name is 30000, salary is 1234\n"
          ]
        }
      ]
    },
    {
      "cell_type": "code",
      "source": [
        "# 3. Keyword Argument:\n",
        "func(Id=5298,name=\"Vinit\",salary=35000) # : with keyword arguments\n",
        "# we didn't want to remember the position of parameter and arguments."
      ],
      "metadata": {
        "colab": {
          "base_uri": "https://localhost:8080/"
        },
        "id": "6MUPx587jPQK",
        "outputId": "de6160ee-43e9-438d-841c-19cef28f00cf"
      },
      "execution_count": null,
      "outputs": [
        {
          "output_type": "stream",
          "name": "stdout",
          "text": [
            "Id is 5298 name is Vinit, salary is 35000\n"
          ]
        }
      ]
    },
    {
      "cell_type": "code",
      "source": [
        "def func(Id,name,salary):\n",
        "  print(f\"Id is {Id} name is {name}, salary is {salary}\")\n",
        "\n",
        "#  if we pass 10, it will be automatically placed at 1st argument in Id,,\n",
        "# name = \"Vinit\"\n",
        "# func(10,name=\"Sumit\") # --> Not working gave error because salary value not given.\n",
        "# func(10,salary=\"Vinit\",1000)  Based on keyword argument salary --> Vinit\n",
        "# and on 1000 is also salary by position argument. Also gave us error.\n",
        "func (10,name=\"Vinit\",salary=1000)\n",
        "# In python: if we call a function through keyword argument then the\n",
        "# next all the values should be passed through keyword argument.\n"
      ],
      "metadata": {
        "colab": {
          "base_uri": "https://localhost:8080/"
        },
        "id": "9R61G5TKkQnk",
        "outputId": "171b0989-ff44-4984-90ff-c367adb28351"
      },
      "execution_count": null,
      "outputs": [
        {
          "output_type": "stream",
          "name": "stdout",
          "text": [
            "Id is 10 name is Vinit, salary is 1000\n"
          ]
        }
      ]
    },
    {
      "cell_type": "code",
      "source": [
        "# If we want to gave the value of any parameter or not want to run that parameter:\n",
        "# 4. Default Argument:\n",
        "def func(Id,name,salary=5298): # put the default Parameter(value)\n",
        "  print(f\"Id is {Id} name is {name}, salary is {salary}\")\n",
        "\n",
        "func(10,name=\"Vinit\") # Program will run without an error\n",
        "# Now gave the salary value:\n",
        "func(10,name=\"Vinit\",salary=8000) # In future we gave the value\n",
        "# And our program also run without an error."
      ],
      "metadata": {
        "colab": {
          "base_uri": "https://localhost:8080/"
        },
        "id": "atQOpyxApMeO",
        "outputId": "2496d93d-ffa7-4c1f-9d8a-cd34686f5abe"
      },
      "execution_count": null,
      "outputs": [
        {
          "output_type": "stream",
          "name": "stdout",
          "text": [
            "Id is 10 name is Vinit, salary is 5298\n",
            "Id is 10 name is Vinit, salary is 8000\n"
          ]
        }
      ]
    },
    {
      "cell_type": "code",
      "source": [
        "# Return Statement in Python:\n",
        "# Python return statement is used to exit the function and return a value.\n",
        "# The return keyword is used to specify a value that a function should return\n",
        "# when a function is called. It performs some calculations or operations and\n",
        "# then returns the value or a set of values to the calling code.\n",
        "def add_numbers(a, b):\n",
        "    return a + b\n",
        "\n",
        "result = add_numbers(7, 9)\n",
        "print(\"Output of first:\",result)\n",
        "\n",
        "# Print Statement in Python\n",
        "# The print statement is a built-in function in Python that is used\n",
        "# to display output to the console or terminal.\n",
        "\n",
        "print(\"Hello! My name is Vinit Gatt\")"
      ],
      "metadata": {
        "colab": {
          "base_uri": "https://localhost:8080/"
        },
        "id": "9nxqlTR3sBWW",
        "outputId": "d6c1defc-26e0-4b3b-d542-891e7eb4b78f"
      },
      "execution_count": null,
      "outputs": [
        {
          "output_type": "stream",
          "name": "stdout",
          "text": [
            "Output of first: 16\n",
            "Hello! My name is Vinit Gatt\n"
          ]
        }
      ]
    },
    {
      "cell_type": "code",
      "source": [
        "# LCM of 3 numbers with function:\n",
        "\n",
        "def lcm(a=18,b=36,c=48):\n",
        "  lcm = max(a,b,c)\n",
        "\n",
        "  for lcm in range(max(a, b, c), a * b * c + 1):\n",
        "    if lcm % a == 0 and lcm % b == 0 and lcm % c == 0:\n",
        "        print(f\"The LCM of {a} and {b} and {c} is: {lcm}\")\n",
        "        break"
      ],
      "metadata": {
        "id": "FGAFYiyTvIxn"
      },
      "execution_count": null,
      "outputs": []
    },
    {
      "cell_type": "code",
      "source": [
        "lcm()"
      ],
      "metadata": {
        "colab": {
          "base_uri": "https://localhost:8080/"
        },
        "id": "_VTdIp2ZvzDF",
        "outputId": "3749b606-0c81-41ea-9697-33e11c889844"
      },
      "execution_count": null,
      "outputs": [
        {
          "output_type": "stream",
          "name": "stdout",
          "text": [
            "The LCM of 18 and 36 and 48 is: 144\n"
          ]
        }
      ]
    },
    {
      "cell_type": "code",
      "source": [
        "# return vs print() in function:\n",
        "def func(x):\n",
        "  return(x+10) # return output as 15.\n",
        "  # return always return a value.\n",
        "a = func(5)\n",
        "print(\"a:\",a) # But print always only display the result."
      ],
      "metadata": {
        "colab": {
          "base_uri": "https://localhost:8080/"
        },
        "id": "_tshDppcv1L4",
        "outputId": "e99832e4-b8b8-4b7e-a247-ef3a26e92c4a"
      },
      "execution_count": null,
      "outputs": [
        {
          "output_type": "stream",
          "name": "stdout",
          "text": [
            "a: 15\n"
          ]
        }
      ]
    },
    {
      "cell_type": "code",
      "source": [
        "# Args and kwargs:\n",
        "# Variable len Argument: Variable length arguments in Python\n",
        "# allow a function to accept an arbitrary number of arguments.\n",
        "def facebook(*args):\n",
        "  print(args)\n",
        "# The numbers of arguments can change as per our choice.\n",
        "facebook(\"Vinit\")\n",
        "facebook(\"Vinit\",\"AITR\")\n",
        "facebook(\"Vinit\",\"Single\",\"AITR\")\n",
        "\n",
        "# This gave us the output in the Tuple format:\n",
        "\n",
        "# The problem in this argument is suppose a user gave name, in married\n",
        "# they gave college name and in college name they gave us their married status,\n",
        "# So to sort this issue we use keyword length argument."
      ],
      "metadata": {
        "colab": {
          "base_uri": "https://localhost:8080/"
        },
        "id": "ds-LFsYq0HZN",
        "outputId": "3855b94f-a5ce-4b7f-aa3e-c9144c8d00b2"
      },
      "execution_count": null,
      "outputs": [
        {
          "output_type": "stream",
          "name": "stdout",
          "text": [
            "('Vinit',)\n",
            "('Vinit', 'AITR')\n",
            "('Vinit', 'Single', 'AITR')\n"
          ]
        }
      ]
    },
    {
      "cell_type": "code",
      "source": [
        "# Keyword variable length Argument:\n",
        "def facebook(**kwargs):\n",
        "  print(kwargs)\n",
        "\n",
        "facebook(name=\"Vinit\")\n",
        "facebook(name=\"Vinit\",college=\"AITR\")\n",
        "facebook(name=\"Vinit\",married=\"Single\",college=\"AITR\")\n",
        "\n",
        "# This gave us the output in Dictionary Format."
      ],
      "metadata": {
        "id": "3v7liEG60qzG",
        "colab": {
          "base_uri": "https://localhost:8080/"
        },
        "outputId": "8ad90c39-7bcf-4a47-89ea-db2569946e90"
      },
      "execution_count": null,
      "outputs": [
        {
          "output_type": "stream",
          "name": "stdout",
          "text": [
            "{'name': 'Vinit'}\n",
            "{'name': 'Vinit', 'college': 'AITR'}\n",
            "{'name': 'Vinit', 'married': 'Single', 'college': 'AITR'}\n"
          ]
        }
      ]
    },
    {
      "cell_type": "code",
      "source": [
        "# Lambda Functions: They are particularly useful when you need a simple\n",
        "# function for a short period.\n",
        "\n",
        "# 1 line functions or Annynmous Functions:\n",
        "# bcz they don't have a name\n",
        "\n",
        "def func(x):\n",
        "  print(x+10)\n",
        "  return 100  #(\"As, return value\")\n",
        "\n",
        "x=func(20) # --> Print 30\n",
        "print(\"After function:\",x)\n",
        "# Now if we want to use this 30 output later in our program\n",
        "# so as simple as we can make a new variable x = 30."
      ],
      "metadata": {
        "colab": {
          "base_uri": "https://localhost:8080/"
        },
        "id": "3_QauYMZ2hhw",
        "outputId": "e747ee95-1e65-4620-8858-a91b86e597c6"
      },
      "execution_count": null,
      "outputs": [
        {
          "output_type": "stream",
          "name": "stdout",
          "text": [
            "30\n",
            "After function: 100\n"
          ]
        }
      ]
    },
    {
      "cell_type": "code",
      "source": [
        "# How to use lambda Function: in 1 line code\n",
        "# lambda parameter: expression\n",
        "\n",
        "a = lambda x:x+10\n",
        "a(15) # call this lambda function"
      ],
      "metadata": {
        "colab": {
          "base_uri": "https://localhost:8080/"
        },
        "id": "KILOn8IH3kgL",
        "outputId": "30d3586f-55fc-44c0-d5a0-8996488e7540"
      },
      "execution_count": null,
      "outputs": [
        {
          "output_type": "execute_result",
          "data": {
            "text/plain": [
              "25"
            ]
          },
          "metadata": {},
          "execution_count": 101
        }
      ]
    },
    {
      "cell_type": "code",
      "source": [
        "# Without any variable run or call the lambda function:\n",
        "(lambda x:x+10)(20)"
      ],
      "metadata": {
        "colab": {
          "base_uri": "https://localhost:8080/"
        },
        "id": "QzB7AwlP_LmM",
        "outputId": "0d5e508b-025a-41c8-ffde-ae78f8eb5e26"
      },
      "execution_count": null,
      "outputs": [
        {
          "output_type": "execute_result",
          "data": {
            "text/plain": [
              "30"
            ]
          },
          "metadata": {},
          "execution_count": 103
        }
      ]
    },
    {
      "cell_type": "code",
      "source": [
        "# Indexing of string: till two characters using slicing and split function.\n",
        "def func(str):\n",
        "  num=str.split()\n",
        "  for i in num:\n",
        "    print(i,i[0:2])\n",
        "\n",
        "str = \"Hey Hello user\"\n",
        "func(str)"
      ],
      "metadata": {
        "colab": {
          "base_uri": "https://localhost:8080/"
        },
        "id": "VF6tPtbCBIEY",
        "outputId": "bc5f4d7a-eca3-4275-9993-5171b600a5a6"
      },
      "execution_count": null,
      "outputs": [
        {
          "output_type": "stream",
          "name": "stdout",
          "text": [
            "Hey He\n",
            "Hello He\n",
            "user us\n"
          ]
        }
      ]
    },
    {
      "cell_type": "code",
      "source": [
        "# Same with the lambda function:\n",
        "a = lambda x:x[0:3]\n",
        "for i in \"hey hello user\".split(\" \"):\n",
        "  print(i,i[0:3])\n",
        "  a=(i,i[0:3])"
      ],
      "metadata": {
        "colab": {
          "base_uri": "https://localhost:8080/"
        },
        "id": "n8fOcRM0CTcy",
        "outputId": "a52ca201-21dc-4028-cd79-fab81525be64"
      },
      "execution_count": null,
      "outputs": [
        {
          "output_type": "stream",
          "name": "stdout",
          "text": [
            "hey hey\n",
            "hello hel\n",
            "user use\n"
          ]
        }
      ]
    },
    {
      "cell_type": "code",
      "source": [
        "# Print only Even and odd numbers from the list using lambda function.\n",
        "list = [2, 5, 7]\n",
        "x = [[i] for i in list if i%2==0]\n",
        "print(\"Even Numbers from list\",x)\n",
        "x = [[i] for i in list if i%2 !=0]\n",
        "print(\"Odd Numbers from list\",x)\n",
        "\n",
        "#2:\n",
        "mylist = [2,3,9,4]\n",
        "x = [[i] for i in mylist if i%2 == 0]\n",
        "print(\"Even Numbers from list\",x)\n",
        "x = [[i] for i in mylist if i%2 != 0]\n",
        "print(\"Odd Numbers from list\",x)"
      ],
      "metadata": {
        "colab": {
          "base_uri": "https://localhost:8080/"
        },
        "id": "enU8VSGrDCIS",
        "outputId": "d342c859-21d4-466b-bad9-9e4f1334f69b"
      },
      "execution_count": null,
      "outputs": [
        {
          "output_type": "stream",
          "name": "stdout",
          "text": [
            "Even Numbers from list [[2]]\n",
            "Odd Numbers from list [[5], [7]]\n",
            "Even Numbers from list [[2], [4]]\n",
            "Odd Numbers from list [[3], [9]]\n"
          ]
        }
      ]
    },
    {
      "cell_type": "code",
      "source": [
        "# Summaries of all the above:\n",
        "def func():\n",
        "  print(\"Vinit Gatt\")\n",
        "\n",
        "x = func() # First Execution\n",
        "print(\"x:\",x) # print: doesn't return any value as output as none."
      ],
      "metadata": {
        "colab": {
          "base_uri": "https://localhost:8080/"
        },
        "id": "el8qA92zEKBx",
        "outputId": "3b306b72-9456-48a4-a126-3e305cda0ef9"
      },
      "execution_count": null,
      "outputs": [
        {
          "output_type": "stream",
          "name": "stdout",
          "text": [
            "Vinit Gatt\n",
            "x: None\n"
          ]
        }
      ]
    },
    {
      "cell_type": "code",
      "source": [
        "def func1():\n",
        "  print(\"Vinit Gatt\")\n",
        "\n",
        "x = func1 # Memory of func is assigned to x.\n",
        "print(\"x=>\",x) # output as memory address of function x.\n",
        "x() # First Class functions\n",
        "# We have both options as we can run the problem through func1 or with x also."
      ],
      "metadata": {
        "id": "-0GDokX6GxqX",
        "colab": {
          "base_uri": "https://localhost:8080/"
        },
        "outputId": "9c012031-ebe4-44b6-998e-ff49bd3e03f1"
      },
      "execution_count": null,
      "outputs": [
        {
          "output_type": "stream",
          "name": "stdout",
          "text": [
            "x=> <function func1 at 0x7c49b07a8f40>\n",
            "Vinit Gatt\n"
          ]
        }
      ]
    },
    {
      "cell_type": "code",
      "source": [
        "# What is a first-class function in Python?\n",
        "# In Python, functions are first-class objects meaning they can be\n",
        "# assigned to variables, passed as arguments and returned from other\n",
        "# functions.\n",
        "\n",
        "def func():\n",
        "  print(\"Vinit Gatt\")\n",
        "\n",
        "x = func # Assigned the value in x variable\n",
        "x() # call it by that variable name x.\n",
        "# called as First class Functions."
      ],
      "metadata": {
        "id": "wXTsMVptHDqo",
        "colab": {
          "base_uri": "https://localhost:8080/"
        },
        "outputId": "d8d0ab50-439b-4943-db50-cca2c8837789"
      },
      "execution_count": null,
      "outputs": [
        {
          "output_type": "stream",
          "name": "stdout",
          "text": [
            "Vinit Gatt\n"
          ]
        }
      ]
    },
    {
      "cell_type": "code",
      "source": [
        "mydictionary = {\n",
        "    \"Name\": lambda: \"Vinit Gatt\",\n",
        "    \"MobileNum\": lambda: 8770976648\n",
        "}\n",
        "\n",
        "# Accessing the values:\n",
        "print(mydictionary[\"Name\"]())        # Output: Vinit Gatt\n",
        "print(mydictionary[\"MobileNum\"]())   # Output: 8770976648"
      ],
      "metadata": {
        "colab": {
          "base_uri": "https://localhost:8080/"
        },
        "id": "GqsREdmVI326",
        "outputId": "f2cd4ce1-54f5-437d-f7f0-0f9ab39a6e4b"
      },
      "execution_count": null,
      "outputs": [
        {
          "output_type": "stream",
          "name": "stdout",
          "text": [
            "Vinit Gatt\n",
            "8770976648\n"
          ]
        }
      ]
    },
    {
      "cell_type": "code",
      "source": [
        "mydictionary[\"Name\"]()"
      ],
      "metadata": {
        "colab": {
          "base_uri": "https://localhost:8080/",
          "height": 35
        },
        "id": "tl_E0wFIJ4L2",
        "outputId": "f3ee1773-d37d-4f08-a645-fd5945db5c8b"
      },
      "execution_count": null,
      "outputs": [
        {
          "output_type": "execute_result",
          "data": {
            "text/plain": [
              "'Vinit Gatt'"
            ],
            "application/vnd.google.colaboratory.intrinsic+json": {
              "type": "string"
            }
          },
          "metadata": {},
          "execution_count": 123
        }
      ]
    },
    {
      "cell_type": "code",
      "source": [
        "mydictionary[\"MobileNum\"]()"
      ],
      "metadata": {
        "colab": {
          "base_uri": "https://localhost:8080/"
        },
        "id": "7Nu1PKMHJ8iS",
        "outputId": "19eadcb9-65bd-422e-8e7d-737e3e9ae537"
      },
      "execution_count": null,
      "outputs": [
        {
          "output_type": "execute_result",
          "data": {
            "text/plain": [
              "8770976648"
            ]
          },
          "metadata": {},
          "execution_count": 124
        }
      ]
    },
    {
      "cell_type": "code",
      "source": [
        "# Life scope of a Variable.\n",
        "# Types of Variables based on Scope:\n",
        "\n",
        "# Local Variables: Declared inside a function or block.\n",
        "# Their scope is limited to that specific function or block.\n",
        "\n",
        "# Global Variables: Declared outside of any function.\n",
        "# Their scope is the entire program."
      ],
      "metadata": {
        "id": "D36iF4SsKAor"
      },
      "execution_count": 1,
      "outputs": []
    },
    {
      "cell_type": "code",
      "source": [
        "# High order Functions: The Functions which takes the another functions\n",
        "# as an argument and return a function as result(output) are called as\n",
        "# High Order Functions.\n",
        "\n",
        "def square(num):\n",
        "  return(num ** 2)\n",
        "# a = 4\n",
        "def power4(a,b): # b is same as square\n",
        "  print(a,b)\n",
        "  print(\"Function call:\",b(a)*b(a))\n",
        "  # 4**4 * 4**4 = 16 * 16 = 256\n",
        "\n",
        "power4(4,square)\n",
        "# 4*4 = 16 and square value = 16\n",
        "# 16 * 16 = 256"
      ],
      "metadata": {
        "colab": {
          "base_uri": "https://localhost:8080/"
        },
        "id": "r93JEwPuJru0",
        "outputId": "075363d1-1209-40e6-8047-1ac7a0e96526"
      },
      "execution_count": 17,
      "outputs": [
        {
          "output_type": "stream",
          "name": "stdout",
          "text": [
            "4 <function square at 0x793d91a28f40>\n",
            "Function call: 256\n"
          ]
        }
      ]
    },
    {
      "cell_type": "code",
      "source": [
        "# High Order Functions vs First Class Functions:\n",
        "# All functions are first-class functions, but higher-order functions\n",
        "# are a special category where functions are used as arguments or\n",
        "# return values."
      ],
      "metadata": {
        "id": "5G4FVsepIx3Z"
      },
      "execution_count": null,
      "outputs": []
    }
  ]
}